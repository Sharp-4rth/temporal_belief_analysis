{
 "cells": [
  {
   "metadata": {
    "id": "898a584a995da034"
   },
   "cell_type": "code",
   "outputs": [],
   "execution_count": 1,
   "source": [
    "# !git clone https://github.com/Sharp-4rth/temporal_belief_analysis.git"
   ],
   "id": "898a584a995da034"
  },
  {
   "cell_type": "code",
   "source": [
    "# For colab:\n",
    "from google.colab import drive\n",
    "drive.mount('/content/drive')\n",
    "\n",
    "# imports:\n",
    "from temporal_belief_analysis.src.temporal_belief.models.bart_classifier import BARTZeroShotClassifier\n",
    "from temporal_belief_analysis.src.temporal_belief.utils.config import STANCE_LABELS, ProjectConfig\n",
    "\n",
    "# Restart after installing:\n",
    "!pip install convokit"
   ],
   "metadata": {
    "id": "j9oyyIUrws5P"
   },
   "id": "j9oyyIUrws5P",
   "execution_count": null,
   "outputs": []
  },
  {
   "cell_type": "code",
   "source": [
    "# import unsloth\n",
    "# import unsloth_zoo\n",
    "from convokit import Corpus, download\n",
    "import convokit\n",
    "# corpus = Corpus(filename=download(\"subreddit-PoliticalDiscussion\"))\n",
    "corpus = Corpus(filename=\"/Users/leonidas/.convokit/saved-corpora/PoliticalDiscussion_test_100conv_20250618_110426\")\n",
    "# corpus = Corpus(filename=\"Users/leonidas/GitHub/temporal_belief_analysis/data/reddit-corpus-small\")"
   ],
   "metadata": {
    "id": "7N4rV-m2w3pd",
    "outputId": "48a25267-f9f9-4c19-d870-ad56f78f5160",
    "colab": {
     "base_uri": "https://localhost:8080/",
     "height": 339
    },
    "ExecuteTime": {
     "end_time": "2025-06-28T10:47:02.758673Z",
     "start_time": "2025-06-28T10:47:00.112627Z"
    }
   },
   "id": "7N4rV-m2w3pd",
   "outputs": [
    {
     "name": "stderr",
     "output_type": "stream",
     "text": [
      "/Users/leonidas/GitHub/temporal_belief_analysis/venv/lib/python3.12/site-packages/convokit/coordination/coordination.py:5: UserWarning: pkg_resources is deprecated as an API. See https://setuptools.pypa.io/en/latest/pkg_resources.html. The pkg_resources package is slated for removal as early as 2025-11-30. Refrain from using this package or pin to Setuptools<81.\n",
      "  import pkg_resources\n"
     ]
    }
   ],
   "execution_count": 1
  },
  {
   "cell_type": "code",
   "source": [
    "# For runpod-jupyter or local\n",
    "import sys\n",
    "import os\n",
    "\n",
    "# Absolute path to src directory\n",
    "src_path = os.path.abspath(os.path.join(os.getcwd(), '..', 'src'))\n",
    "if src_path not in sys.path:\n",
    "    sys.path.insert(0, src_path)\n",
    "\n",
    "from temporal_belief.models.bart_classifier import BARTZeroShotClassifier\n",
    "from temporal_belief.utils.config import STANCE_LABELS, ProjectConfig"
   ],
   "metadata": {
    "id": "-901CJu60s2l",
    "ExecuteTime": {
     "end_time": "2025-06-28T10:47:08.366842Z",
     "start_time": "2025-06-28T10:47:05.480041Z"
    }
   },
   "id": "-901CJu60s2l",
   "outputs": [],
   "execution_count": 2
  },
  {
   "metadata": {
    "ExecuteTime": {
     "end_time": "2025-06-28T10:47:08.373178Z",
     "start_time": "2025-06-28T10:47:08.371762Z"
    }
   },
   "cell_type": "code",
   "source": [
    "# Helper function:\n",
    "def candidate_stances_based_on_topic():\n",
    "    return"
   ],
   "id": "2d49656d7bc01d8b",
   "outputs": [],
   "execution_count": 3
  },
  {
   "metadata": {
    "ExecuteTime": {
     "end_time": "2025-06-28T10:47:08.379826Z",
     "start_time": "2025-06-28T10:47:08.377168Z"
    }
   },
   "cell_type": "code",
   "source": [
    "import re\n",
    "# Helper function:\n",
    "\n",
    "def mark_quotes(text):\n",
    "    \"\"\"Replace ConvoKit quote markers with standard quotation marks.\"\"\"\n",
    "\n",
    "    # Split text into lines for processing\n",
    "    lines = text.split('\\n')\n",
    "    result_lines = []\n",
    "    in_quote = False\n",
    "\n",
    "    for line in lines:\n",
    "        # Check if line starts a quote (begins with &gt;)\n",
    "        if line.strip().startswith('&gt;'):\n",
    "            if not in_quote:\n",
    "                # Start of new quote - replace &gt; with opening quote\n",
    "                cleaned_line = line.replace('&gt;', '\"', 1).lstrip()\n",
    "                result_lines.append(cleaned_line)\n",
    "                in_quote = True\n",
    "            else:\n",
    "                # Continuation of quote - just remove &gt;\n",
    "                cleaned_line = line.replace('&gt;', '', 1).lstrip()\n",
    "                result_lines.append(cleaned_line)\n",
    "\n",
    "        # Check if we're ending a quote (empty line or no more &gt; markers)\n",
    "        elif in_quote and (line.strip() == '' or not line.strip().startswith('&gt;')):\n",
    "            # End the quote by adding closing quote to previous line\n",
    "            if result_lines and not result_lines[-1].strip().endswith('\"'):\n",
    "                result_lines[-1] = result_lines[-1].rstrip() + '\"'\n",
    "\n",
    "            # Add current line if it's not empty\n",
    "            if line.strip():\n",
    "                result_lines.append(line)\n",
    "            else:\n",
    "                result_lines.append(line)  # Keep empty lines\n",
    "\n",
    "            in_quote = False\n",
    "\n",
    "        else:\n",
    "            # Regular line, not in quote\n",
    "            result_lines.append(line)\n",
    "\n",
    "    # Handle case where quote goes to end of text\n",
    "    if in_quote and result_lines and not result_lines[-1].strip().endswith('\"'):\n",
    "        result_lines[-1] = result_lines[-1].rstrip() + '\"'\n",
    "\n",
    "    return '\\n'.join(result_lines)"
   ],
   "id": "bb4406d53ff48554",
   "outputs": [],
   "execution_count": 4
  },
  {
   "cell_type": "code",
   "source": [
    "# Adapt for stance detection\n",
    "\"\"\"Stance detection functionality for conversation analysis.\"\"\"\n",
    "\n",
    "import logging\n",
    "from typing import List, Dict, Any, Optional\n",
    "from tqdm import tqdm\n",
    "\n",
    "logger = logging.getLogger(__name__)\n",
    "\n",
    "class StanceDetector:\n",
    "    \"\"\"Detect political stance in ConvoKit utterances using BART.\"\"\"\n",
    "\n",
    "    def __init__(self, stance_labels: Optional[List[str]] = None,\n",
    "                 config: ProjectConfig = None):\n",
    "        \"\"\"Initialize stance detector.\"\"\"\n",
    "        self.config = config or ProjectConfig()\n",
    "        self.classifier = BARTZeroShotClassifier(self.config.bart_model_name)\n",
    "        self.stance_labels = stance_labels or STANCE_LABELS\n",
    "        logger.info(f\"Initialized stance detector with labels: {self.stance_labels}\")\n",
    "\n",
    "\n",
    "    def detect_utterance_stance(self, utterance) -> Dict[str, Any]:\n",
    "        \"\"\"Detect stance for a single utterance.\"\"\"\n",
    "        # text = mark_quotes(utterance.text)\n",
    "        text = utterance.text\n",
    "        result = self.classifier.classify_text(text, self.stance_labels)\n",
    "\n",
    "        if not text or text == '[removed]' or text == '[deleted]' or text.strip() == '.':\n",
    "            # logger.warning(f\"No utterance found in {utterance.id}\")\n",
    "            return {\"stance\": \"unknown\", \"confidence\": 0.0}\n",
    "\n",
    "        return {\n",
    "            \"stance\": result[\"label\"],\n",
    "            \"confidence\": result[\"confidence\"],\n",
    "            \"all_scores\": result[\"all_scores\"]\n",
    "        }\n",
    "\n",
    "    def process_corpus_utterances(self, corpus, batch_size: int = 50,\n",
    "                              save_path: Optional[str] = None) -> None:\n",
    "        \"\"\"Process all utterances in corpus for stance detection.\"\"\"\n",
    "        utterances = list(corpus.iter_utterances())\n",
    "        logger.info(f\"Processing {len(utterances)} utterances for stance detection\")\n",
    "\n",
    "        for i in tqdm(range(0, len(utterances), batch_size),\n",
    "                      desc=\"Processing utterances\"):\n",
    "            batch = utterances[i:i+batch_size]\n",
    "\n",
    "            for utt in batch:\n",
    "                try:\n",
    "                    stance_result = self.detect_utterance_stance(utt)\n",
    "\n",
    "                    # Add to utterance metadata\n",
    "                    utt.add_meta(\"detected_stance\", stance_result[\"stance\"])\n",
    "                    utt.add_meta(\"stance_confidence\", stance_result[\"confidence\"])\n",
    "                    utt.add_meta(\"stance_scores\", stance_result[\"all_scores\"])\n",
    "\n",
    "                except Exception as e:\n",
    "                    logger.error(f\"Failed to process utterance {utt.id}: {e}\")\n",
    "                    utt.add_meta(\"detected_stance\", \"unknown\")\n",
    "                    utt.add_meta(\"stance_confidence\", 0.0)\n",
    "\n",
    "        if save_path:\n",
    "            corpus.dump(save_path)\n",
    "            logger.info(f\"Saved processed corpus to {save_path}\")\n",
    "\n",
    "        logger.info(\"Stance detection processing complete\")"
   ],
   "metadata": {
    "id": "42g0WnPNw9B7",
    "ExecuteTime": {
     "end_time": "2025-06-28T10:47:08.387292Z",
     "start_time": "2025-06-28T10:47:08.383957Z"
    }
   },
   "id": "42g0WnPNw9B7",
   "outputs": [],
   "execution_count": 5
  },
  {
   "metadata": {
    "id": "ffWPj5AFw5Ai"
   },
   "cell_type": "code",
   "source": [
    "# Play around with a single part\n",
    "# print(corpus.random_utterance().text)\n",
    "stance_detector = StanceDetector()\n",
    "utts = list(corpus.iter_utterances())\n",
    "utt_text = utts[1].text\n",
    "utt_text = mark_quotes(utt_text)\n",
    "# print(utt_text)\n",
    "stance = stance_detector.detect_utterance_stance(utts[1])\n",
    "print(stance['stance'])"
   ],
   "id": "ffWPj5AFw5Ai",
   "outputs": [],
   "execution_count": null
  },
  {
   "cell_type": "code",
   "source": [
    "# Testing 'process_corpus_utterances()'\n",
    "SAVE_PATH = \"/workspace/temporal_belief_analysis/pd_corpus_with_stances\"\n",
    "stance_detector = StanceDetector()\n",
    "stance_detector.process_corpus_utterances(corpus, save_path=SAVE_PATH)"
   ],
   "metadata": {
    "id": "bzHInQn-xMR2"
   },
   "id": "bzHInQn-xMR2",
   "outputs": [],
   "execution_count": null
  },
  {
   "cell_type": "code",
   "source": [
    "# Check if metadata gets added\n",
    "utterances = list(corpus.iter_utterances())\n",
    "first_utt = utterances[0]\n",
    "print(f\"First utterance ID: {first_utt.id}\")\n",
    "print(f\"Has stance metadata: {'detected_stance' in first_utt.meta}\")\n",
    "if 'detected_stance' in first_utt.meta:\n",
    "    print(f\"Stance: {first_utt.meta['detected_stance']}\")\n",
    "    print(f\"Confidence: {first_utt.meta['stance_confidence']}\")"
   ],
   "metadata": {
    "id": "UnclCYp6xrX-"
   },
   "id": "UnclCYp6xrX-",
   "outputs": [],
   "execution_count": null
  },
  {
   "metadata": {
    "id": "L1YIji5gxjdv",
    "ExecuteTime": {
     "end_time": "2025-06-28T10:47:21.334218Z",
     "start_time": "2025-06-28T10:47:11.534712Z"
    }
   },
   "cell_type": "code",
   "source": [
    "# Testing 'detect_conversation_topic()' and 'dump()'\n",
    "i = 0\n",
    "utts = list(corpus.iter_utterances())\n",
    "stance_detector = StanceDetector()\n",
    "for i in range(30):\n",
    "  logger.info(\"=\" * 100)\n",
    "  logger.info(f\"Comment: {utts[i].text}\\n\")\n",
    "  stance = stance_detector.detect_utterance_stance(utts[i])\n",
    "  logger.info(f\"Stance: {stance['stance']}\")\n",
    "  logger.info(f\"Confidence: {stance['confidence']}\")\n",
    "  # logger.debug(f\"Raw utterance text length: {len(utts[i].text)}\")\n",
    "  logger.warning(f\"Low confidence score: {stance['confidence']}\")\n",
    "  # utts[i].add_meta(\"detected_stance\", stance[\"stance\"])\n",
    "  # utts[i].add_meta(\"stance_confidence\", stance[\"stance\"])\n",
    "  # utts[i].add_meta(\"stance_scores\", stance[\"all_scores\"])\n",
    "  i += 1\n",
    "\n",
    "del utts\n",
    "# Test it saves properly:\n",
    "# corpus_small.dump(\"/content/drive/MyDrive/MScProject/Corpora/corpus_small\")\n"
   ],
   "id": "L1YIji5gxjdv",
   "outputs": [
    {
     "name": "stderr",
     "output_type": "stream",
     "text": [
      "Device set to use mps\n",
      "Low confidence score: 0.0\n",
      "Low confidence score: 0.2921037971973419\n",
      "Low confidence score: 0.0\n",
      "Low confidence score: 0.0\n",
      "Low confidence score: 0.0\n",
      "Low confidence score: 0.31251201033592224\n",
      "Low confidence score: 0.0\n",
      "Low confidence score: 0.0\n",
      "Low confidence score: 0.6734482645988464\n",
      "Low confidence score: 0.3114091157913208\n",
      "Low confidence score: 0.0\n",
      "Low confidence score: 0.0\n",
      "Low confidence score: 0.3267970383167267\n",
      "Low confidence score: 0.6237018704414368\n",
      "Low confidence score: 0.27974340319633484\n",
      "Low confidence score: 0.743057131767273\n",
      "Low confidence score: 0.28498366475105286\n",
      "Low confidence score: 0.6828305125236511\n",
      "Low confidence score: 0.42856407165527344\n",
      "Low confidence score: 0.4305584132671356\n",
      "Low confidence score: 0.392651230096817\n",
      "Low confidence score: 0.0\n",
      "Low confidence score: 0.3192462921142578\n",
      "Low confidence score: 0.3346760869026184\n",
      "Low confidence score: 0.0\n",
      "Low confidence score: 0.0\n",
      "Low confidence score: 0.2869607210159302\n",
      "Low confidence score: 0.0\n",
      "Low confidence score: 0.0\n",
      "Low confidence score: 0.31083357334136963\n"
     ]
    }
   ],
   "execution_count": 6
  },
  {
   "metadata": {},
   "cell_type": "code",
   "outputs": [],
   "execution_count": null,
   "source": "",
   "id": "a8cd2a75326ae887"
  }
 ],
 "metadata": {
  "colab": {
   "provenance": [],
   "machine_shape": "hm",
   "gpuType": "T4"
  },
  "language_info": {
   "name": "python"
  },
  "kernelspec": {
   "name": "python3",
   "display_name": "Python 3"
  },
  "accelerator": "GPU"
 },
 "nbformat": 4,
 "nbformat_minor": 5
}
