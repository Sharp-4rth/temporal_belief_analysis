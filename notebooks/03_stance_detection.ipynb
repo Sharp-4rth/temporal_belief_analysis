{
 "cells": [
  {
   "cell_type": "code",
   "execution_count": null,
   "id": "7086c9b3-6d30-4363-bfc5-26b47a67682c",
   "metadata": {},
   "outputs": [],
   "source": [
    "# Paths need to start with '/' for corpus"
   ]
  },
  {
   "cell_type": "code",
   "execution_count": 2,
   "id": "-901CJu60s2l",
   "metadata": {
    "ExecuteTime": {
     "end_time": "2025-06-29T17:08:33.419135Z",
     "start_time": "2025-06-29T17:08:33.413683Z"
    },
    "id": "-901CJu60s2l"
   },
   "outputs": [],
   "source": [
    "# For runpod-jupyter or local\n",
    "import sys\n",
    "import os\n",
    "\n",
    "# Absolute path to src directory\n",
    "src_path = os.path.abspath(os.path.join(os.getcwd(), '..', 'src'))\n",
    "if src_path not in sys.path:\n",
    "    sys.path.insert(0, src_path)\n",
    "\n",
    "from temporal_belief.models.bart_classifier import BARTZeroShotClassifier\n",
    "from temporal_belief.utils.config import TOPIC_STANCE_HYPOTHESES, GENERAL_STANCE_HYPOTHESES, ProjectConfig"
   ]
  },
  {
   "cell_type": "code",
   "execution_count": null,
   "id": "j9oyyIUrws5P",
   "metadata": {
    "id": "j9oyyIUrws5P"
   },
   "outputs": [],
   "source": [
    "# For colab:\n",
    "from google.colab import drive\n",
    "drive.mount('/content/drive')\n",
    "\n",
    "# imports:\n",
    "from temporal_belief_analysis.src.temporal_belief.models.bart_classifier import BARTZeroShotClassifier\n",
    "from temporal_belief_analysis.src.temporal_belief.utils.config import TOPIC_STANCE_HYPOTHESES, GENERAL_STANCE_HYPOTHESES, ProjectConfig\n",
    "\n",
    "# Restart after installing:\n",
    "!pip install convokit"
   ]
  },
  {
   "cell_type": "code",
   "execution_count": null,
   "id": "2587a808-5cc7-486c-870d-86327a091ae5",
   "metadata": {},
   "outputs": [],
   "source": [
    "import os\n",
    "print(\"Current working directory:\", os.getcwd())\n",
    "print(\"\\nContents of workspace/temporal_belief_analysis/:\")\n",
    "!ls -la workspace/temporal_belief_analysis/"
   ]
  },
  {
   "cell_type": "code",
   "execution_count": 22,
   "id": "121829f1-2a08-4f3a-875c-f4c8ce6848c8",
   "metadata": {},
   "outputs": [],
   "source": [
    "import zipfile\n",
    "zipfile.ZipFile(\"/workspace/temporal_belief_analysis/pd_corpus_with_topics2.zip\").extractall(\"/workspace/temporal_belief_analysis\")"
   ]
  },
  {
   "cell_type": "code",
   "execution_count": null,
   "id": "7e0405b4-cbb4-4ecb-9235-f1be1ad986e5",
   "metadata": {},
   "outputs": [],
   "source": [
    "import os\n",
    "print(\"Current working directory:\", os.getcwd())\n",
    "print(\"Contents of current directory:\")\n",
    "!ls -la"
   ]
  },
  {
   "cell_type": "code",
   "execution_count": 5,
   "id": "7N4rV-m2w3pd",
   "metadata": {
    "ExecuteTime": {
     "end_time": "2025-06-29T17:08:27.502183Z",
     "start_time": "2025-06-29T17:08:26.266945Z"
    },
    "colab": {
     "base_uri": "https://localhost:8080/",
     "height": 339
    },
    "id": "7N4rV-m2w3pd",
    "outputId": "48a25267-f9f9-4c19-d870-ad56f78f5160"
   },
   "outputs": [],
   "source": [
    "# import unsloth\n",
    "# import unsloth_zoo\n",
    "from convokit import Corpus, download\n",
    "import convokit\n",
    "# corpus = Corpus(filename=download(\"subreddit-PoliticalDiscussion\"))\n",
    "# corpus = Corpus(filename=\"/Users/leonidas/.convokit/saved-corpora/PoliticalDiscussion_test_100conv_20250618_110426\")\n",
    "# corpus = Corpus(filename=\"Users/leonidas/GitHub/temporal_belief_analysis/data/reddit-corpus-small\")\n",
    "corpus = Corpus(filename=\"/workspace/temporal_belief_analysis/pd_corpus_with_topics\")"
   ]
  },
  {
   "cell_type": "code",
   "execution_count": 21,
   "id": "63d67d8d-d33b-438a-8907-a169545464dd",
   "metadata": {},
   "outputs": [
    {
     "name": "stdout",
     "output_type": "stream",
     "text": [
      "/bin/bash: line 1: unzip: command not found\n"
     ]
    }
   ],
   "source": [
    "!unzip /workspace/temporal_belief_analysis/pd_corpus_with_topics2.zip"
   ]
  },
  {
   "cell_type": "code",
   "execution_count": null,
   "id": "10cb5ad7-66e5-420e-87e4-9ebef651defa",
   "metadata": {},
   "outputs": [],
   "source": [
    "!pip install gdown\n",
    "file_id = \"1nWaj5N8nsG7u5homv_kAh4CLPDv01M_Z\"\n",
    "!gdown \"https://drive.google.com/file/d/1nWaj5N8nsG7u5homv_kAh4CLPDv01M_Z/view?usp=sharing\" -O \"/workspace/temporal_belief_analysis/pd_corpus_with_topics2.zip\" --fuzzy"
   ]
  },
  {
   "cell_type": "code",
   "execution_count": 41,
   "id": "1a288d7a714eaa0f",
   "metadata": {
    "ExecuteTime": {
     "end_time": "2025-06-29T17:08:40.682301Z",
     "start_time": "2025-06-29T17:08:40.679901Z"
    }
   },
   "outputs": [],
   "source": [
    "import re\n",
    "# Helper functions:\n",
    "\n",
    "def prepare_text(text):\n",
    "    clean_text = text.strip()\n",
    "    if len(clean_text) > 500:\n",
    "        clean_text = clean_text[:500] + \"...\"\n",
    "    return clean_text\n",
    "    \n",
    "def get_contextual_framing_for_topic(topic, text):\n",
    "    if topic:\n",
    "        contextual_text = f\"In a discussion about {topic}, this comment states: {text}\"\n",
    "    else:\n",
    "        contextual_text = f\"In a political discussion, this comment states: {text}\"\n",
    "    return contextual_text\n",
    "\n",
    "def mark_quotes(text):\n",
    "    \"\"\"Replace ConvoKit quote markers with standard quotation marks.\"\"\"\n",
    "\n",
    "    # Split text into lines for processing\n",
    "    lines = text.split('\\n')\n",
    "    result_lines = []\n",
    "    in_quote = False\n",
    "\n",
    "    for line in lines:\n",
    "        # Check if line starts a quote (begins with &gt;)\n",
    "        if line.strip().startswith('&gt;'):\n",
    "            if not in_quote:\n",
    "                # Start of new quote - replace &gt; with opening quote\n",
    "                cleaned_line = line.replace('&gt;', '\"', 1).lstrip()\n",
    "                result_lines.append(cleaned_line)\n",
    "                in_quote = True\n",
    "            else:\n",
    "                # Continuation of quote - just remove &gt;\n",
    "                cleaned_line = line.replace('&gt;', '', 1).lstrip()\n",
    "                result_lines.append(cleaned_line)\n",
    "\n",
    "        # Check if we're ending a quote (empty line or no more &gt; markers)\n",
    "        elif in_quote and (line.strip() == '' or not line.strip().startswith('&gt;')):\n",
    "            # End the quote by adding closing quote to previous line\n",
    "            if result_lines and not result_lines[-1].strip().endswith('\"'):\n",
    "                result_lines[-1] = result_lines[-1].rstrip() + '\"'\n",
    "\n",
    "            # Add current line if it's not empty\n",
    "            if line.strip():\n",
    "                result_lines.append(line)\n",
    "            else:\n",
    "                result_lines.append(line)  # Keep empty lines\n",
    "\n",
    "            in_quote = False\n",
    "\n",
    "        else:\n",
    "            # Regular line, not in quote\n",
    "            result_lines.append(line)\n",
    "\n",
    "    # Handle case where quote goes to end of text\n",
    "    if in_quote and result_lines and not result_lines[-1].strip().endswith('\"'):\n",
    "        result_lines[-1] = result_lines[-1].rstrip() + '\"'\n",
    "\n",
    "    return '\\n'.join(result_lines)"
   ]
  },
  {
   "cell_type": "code",
   "execution_count": 7,
   "id": "42g0WnPNw9B7",
   "metadata": {
    "ExecuteTime": {
     "end_time": "2025-06-29T17:08:47.831542Z",
     "start_time": "2025-06-29T17:08:47.820931Z"
    },
    "id": "42g0WnPNw9B7"
   },
   "outputs": [],
   "source": [
    "\"\"\"Stance detection functionality for conversation analysis.\"\"\"\n",
    "import numpy as np\n",
    "import logging\n",
    "from typing import List, Dict, Any, Optional\n",
    "from tqdm import tqdm\n",
    "from temporal_belief.utils.logger import setup_logging\n",
    "\n",
    "logger = setup_logging(\"DEBUG\")\n",
    "\n",
    "class StanceDetector:\n",
    "    \"\"\"Detect political stance in ConvoKit utterances using BART.\"\"\"\n",
    "\n",
    "    def __init__(self, stance_labels: Optional[List[str]] = None,\n",
    "                 config: ProjectConfig = None):\n",
    "        \"\"\"Initialize stance detector.\"\"\"\n",
    "        self.config = config or ProjectConfig()\n",
    "        self.classifier = BARTZeroShotClassifier(self.config.bart_model_name)\n",
    "        self.stance_labels = stance_labels or TOPIC_STANCE_HYPOTHESES\n",
    "        logger.info(f\"Initialized stance detector with labels: {self.stance_labels}\")\n",
    "\n",
    "\n",
    "    def detect_utterance_stance(self, utterance, corpus) -> Dict[str, Any]:\n",
    "        \"\"\"Detect stance for a single utterance.\"\"\"\n",
    "        # text = mark_quotes(utterance.text)\n",
    "        if not utterance.text or utterance.text == '[removed]' or utterance.text == '[deleted]' or utterance.text.strip() == '.':\n",
    "            logger.warning(f\"No utterance found in {utterance.id}\")\n",
    "            return {\"stance\": \"unknown\", \"confidence\": 0.0}\n",
    "        convo = corpus.get_conversation(utterance.conversation_id)\n",
    "        topic = convo.meta['detected_topic']\n",
    "        clean_text = prepare_text(utterance.text)\n",
    "        text = get_contextual_framing_for_topic(topic, clean_text)\n",
    "        # MAKE SURE THE TOPIC KEYS MATCH AND IF NOT RETURN A GENERAL\n",
    "        stance_hypotheses = TOPIC_STANCE_HYPOTHESES.get(topic, GENERAL_STANCE_HYPOTHESES)\n",
    "        logger.info(f\"Text: {text}\")\n",
    "        #\n",
    "        # # Pass one of the candidate stances\n",
    "        # result = self.classifier.classify_text(text, self.stance_labels)\n",
    "        # return {\n",
    "        #     \"stance\": result[\"label\"],\n",
    "        #     \"confidence\": result[\"confidence\"],\n",
    "        #     \"all_scores\": result[\"all_scores\"]\n",
    "        # }\n",
    "\n",
    "        confidence_threshold = 0.25\n",
    "        stance_results = {}\n",
    "        template_consistency_scores = {}\n",
    "\n",
    "        for stance, hypotheses in stance_hypotheses.items():\n",
    "            stance_scores = []\n",
    "\n",
    "            # Test each hypothesis template for this stance\n",
    "            for hypothesis in hypotheses:\n",
    "                result = self.classifier.classify_text(text, [hypothesis])\n",
    "                # Get score for this specific hypothesis\n",
    "                stance_scores.append(result[\"all_scores\"].get(hypothesis, 0.0))\n",
    "\n",
    "            # Average across templates for this stance\n",
    "            avg_confidence = np.mean(stance_scores)\n",
    "            stance_results[stance] = avg_confidence\n",
    "\n",
    "            # Measure consistency across templates (lower std = more consistent)\n",
    "            template_consistency_scores[stance] = 1.0 - (np.std(stance_scores) / (np.mean(stance_scores) + 1e-8))\n",
    "\n",
    "        # Find best stance\n",
    "        best_stance = max(stance_results.keys(), key=lambda k: stance_results[k])\n",
    "        best_confidence = stance_results[best_stance]\n",
    "        overall_consistency = np.mean(list(template_consistency_scores.values()))\n",
    "\n",
    "        # Apply confidence threshold\n",
    "        if best_confidence < confidence_threshold:\n",
    "            best_stance = 'neutral'\n",
    "            best_confidence = stance_results.get('neutral', 0.0)\n",
    "\n",
    "        return {\n",
    "            'stance': best_stance,\n",
    "            'confidence': best_confidence,\n",
    "            'all_scores': stance_results,\n",
    "            'method_used': 'multi_template_spinos',\n",
    "            'template_consistency': overall_consistency,\n",
    "            'reliable': best_confidence > confidence_threshold and overall_consistency > 0.7,\n",
    "            'topic_context': topic\n",
    "        }\n",
    "\n",
    "    def process_corpus_utterances(self, corpus, batch_size: int = 50,\n",
    "                                  max_utterances: Optional[int] = None,\n",
    "                              save_path: Optional[str] = None) -> None:\n",
    "        \"\"\"Process all utterances in corpus for stance detection.\"\"\"\n",
    "        all_utterances = list(corpus.iter_utterances())\n",
    "\n",
    "        if max_utterances is not None:\n",
    "            utterances = all_utterances[:max_utterances]\n",
    "            logger.info(f\"Processing {len(utterances)} of {len(all_utterances)} total utterances\")\n",
    "        else:\n",
    "            utterances = all_utterances\n",
    "            logger.info(f\"Processing all {len(utterances)} utterances for stance detection\")\n",
    "\n",
    "        for i in tqdm(range(0, len(utterances), batch_size),\n",
    "                      desc=\"Processing utterances\"):\n",
    "            batch = utterances[i:i+batch_size]\n",
    "\n",
    "            for utt in batch:\n",
    "                try:\n",
    "                    stance_result = self.detect_utterance_stance(utt, corpus)\n",
    "\n",
    "                    # Add to utterance metadata\n",
    "                    utt.add_meta(\"detected_stance\", stance_result[\"stance\"])\n",
    "                    utt.add_meta(\"stance_confidence\", stance_result[\"confidence\"])\n",
    "                    utt.add_meta(\"stance_scores\", stance_result[\"all_scores\"])\n",
    "\n",
    "                except Exception as e:\n",
    "                    logger.error(f\"Failed to process utterance {utt.id}: {e}\")\n",
    "                    utt.add_meta(\"detected_stance\", \"unknown\")\n",
    "                    utt.add_meta(\"stance_confidence\", 0.0)\n",
    "\n",
    "        if save_path:\n",
    "            corpus.dump(save_path)\n",
    "            logger.info(f\"Saved processed corpus to {save_path}\")\n",
    "\n",
    "        logger.info(\"Stance detection processing complete\")"
   ]
  },
  {
   "cell_type": "code",
   "execution_count": null,
   "id": "bzHInQn-xMR2",
   "metadata": {
    "id": "bzHInQn-xMR2"
   },
   "outputs": [],
   "source": [
    "# Testing 'process_corpus_utterances()'\n",
    "SAVE_PATH = \"/workspace/temporal_belief_analysis/pd_corpus_with_stances50_chronological2\"\n",
    "stance_detector = StanceDetector()\n",
    "stance_detector.process_corpus_utterances(corpus, max_utterances=50, save_path=SAVE_PATH)"
   ]
  },
  {
   "cell_type": "code",
   "execution_count": 39,
   "id": "a77fc088-903b-4ed4-b4ed-6e1f3ef3565d",
   "metadata": {
    "editable": true,
    "slideshow": {
     "slide_type": ""
    },
    "tags": []
   },
   "outputs": [
    {
     "name": "stdout",
     "output_type": "stream",
     "text": [
      "Processed: media and political commentary\n",
      "\n"
     ]
    }
   ],
   "source": [
    "processed_convos = list(corpus.iter_conversations())\n",
    "\n",
    "print(f\"Processed: {processed_convos[1].meta['detected_topic']}\\n\")"
   ]
  },
  {
   "cell_type": "code",
   "execution_count": null,
   "id": "ffWPj5AFw5Ai",
   "metadata": {
    "ExecuteTime": {
     "end_time": "2025-06-29T17:00:53.046553Z",
     "start_time": "2025-06-29T17:00:50.231294Z"
    },
    "id": "ffWPj5AFw5Ai"
   },
   "outputs": [],
   "source": [
    "# Play around with a single part\n",
    "# print(corpus.random_utterance().text)\n",
    "stance_detector = StanceDetector()\n",
    "utts = list(corpus.iter_utterances())\n",
    "utt_text = utts[0].text\n",
    "# utt_text = mark_quotes(utt_text)\n",
    "# print(utt_text)\n",
    "stance = stance_detector.detect_utterance_stance(utts[0])\n",
    "print(stance['stance'])\n",
    "# print(utts[1].meta[''])"
   ]
  },
  {
   "cell_type": "code",
   "execution_count": null,
   "id": "UnclCYp6xrX-",
   "metadata": {
    "ExecuteTime": {
     "end_time": "2025-06-29T16:59:34.221645Z",
     "start_time": "2025-06-29T16:59:34.207919Z"
    },
    "id": "UnclCYp6xrX-"
   },
   "outputs": [],
   "source": [
    "# Check if metadata gets added\n",
    "utterances = list(corpus.iter_utterances())\n",
    "first_utt = utterances[0]\n",
    "print(f\"First utterance ID: {first_utt.id}\")\n",
    "print(f\"Has stance metadata: {'detected_stance' in first_utt.meta}\")\n",
    "if 'detected_stance' in first_utt.meta:\n",
    "    print(f\"Stance: {first_utt.meta['detected_stance']}\")\n",
    "    print(f\"Confidence: {first_utt.meta['stance_confidence']}\")"
   ]
  },
  {
   "cell_type": "code",
   "execution_count": null,
   "id": "L1YIji5gxjdv",
   "metadata": {
    "ExecuteTime": {
     "end_time": "2025-06-29T17:09:20.670735Z",
     "start_time": "2025-06-29T17:09:04.540831Z"
    },
    "id": "L1YIji5gxjdv"
   },
   "outputs": [],
   "source": [
    "# Testing 'detect_conversation_topic()' and 'dump()'\n",
    "logger = setup_logging(\"DEBUG\")\n",
    "i = 0\n",
    "utts = list(corpus.iter_utterances())\n",
    "stance_detector = StanceDetector()\n",
    "for i in range(30):\n",
    "  logger.info(\"=\" * 100)\n",
    "  logger.info(f\"Comment: {utts[i].text}\\n\")\n",
    "  stance = stance_detector.detect_utterance_stance(utts[i])\n",
    "  logger.info(f\"Stance: {stance['stance']}\")\n",
    "  logger.info(f\"Confidence: {stance['confidence']}\")\n",
    "  # logger.debug(f\"Raw utterance text length: {len(utts[i].text)}\")\n",
    "  logger.warning(f\"Low confidence score: {stance['confidence']}\")\n",
    "  # utts[i].add_meta(\"detected_stance\", stance[\"stance\"])\n",
    "  # utts[i].add_meta(\"stance_confidence\", stance[\"stance\"])\n",
    "  # utts[i].add_meta(\"stance_scores\", stance[\"all_scores\"])\n",
    "  i += 1\n",
    "\n",
    "del utts\n",
    "# Test it saves properly:\n",
    "# corpus_small.dump(\"/content/drive/MyDrive/MScProject/Corpora/corpus_small\")\n"
   ]
  },
  {
   "cell_type": "code",
   "execution_count": 51,
   "id": "8492c868-68b7-4939-8440-3815ffb3bf1d",
   "metadata": {},
   "outputs": [],
   "source": [
    "corpus_new = Corpus(filename=\"/workspace/temporal_belief_analysis/pd_corpus_with_stances50_2\")\n"
   ]
  },
  {
   "cell_type": "code",
   "execution_count": 54,
   "id": "b99f59ae-dfd4-4d16-9867-b8ad4f91ee91",
   "metadata": {},
   "outputs": [
    {
     "name": "stdout",
     "output_type": "stream",
     "text": [
      "moderately_against\n"
     ]
    }
   ],
   "source": [
    "proc_utts = list(corpus_new.iter_utterances())\n",
    "print(proc_utts[5].meta['detected_stance'])"
   ]
  },
  {
   "cell_type": "code",
   "execution_count": null,
   "id": "c33a2872-9bb5-4291-b8d6-000d5b8113e9",
   "metadata": {},
   "outputs": [],
   "source": [
    "del corpus_new"
   ]
  },
  {
   "cell_type": "code",
   "execution_count": null,
   "id": "0e0990c4-44d5-42b8-adeb-415af5105099",
   "metadata": {},
   "outputs": [],
   "source": []
  }
 ],
 "metadata": {
  "accelerator": "GPU",
  "colab": {
   "gpuType": "T4",
   "machine_shape": "hm",
   "provenance": []
  },
  "kernelspec": {
   "display_name": "Python 3 (ipykernel)",
   "language": "python",
   "name": "python3"
  },
  "language_info": {
   "codemirror_mode": {
    "name": "ipython",
    "version": 3
   },
   "file_extension": ".py",
   "mimetype": "text/x-python",
   "name": "python",
   "nbconvert_exporter": "python",
   "pygments_lexer": "ipython3",
   "version": "3.10.12"
  }
 },
 "nbformat": 4,
 "nbformat_minor": 5
}
