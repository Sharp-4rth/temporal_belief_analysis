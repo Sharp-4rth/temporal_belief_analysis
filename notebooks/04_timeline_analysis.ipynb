{
 "cells": [
  {
   "metadata": {
    "ExecuteTime": {
     "end_time": "2025-07-03T17:07:20.220002Z",
     "start_time": "2025-07-03T17:07:20.184963Z"
    }
   },
   "cell_type": "code",
   "source": [
    "# For runpod-jupyter or local (run twice)\n",
    "import sys\n",
    "import os\n",
    "\n",
    "# Change to the correct working directory (same as Jupyter)\n",
    "# os.chdir('/workspace/temporal_belief_analysis/notebooks')\n",
    "# print(\"Changed working directory to:\", os.getcwd())\n",
    "\n",
    "# Absolute path to src directory\n",
    "src_path = os.path.abspath(os.path.join(os.getcwd(), '..', 'src'))\n",
    "if src_path not in sys.path:\n",
    "    sys.path.insert(0, src_path)\n",
    "\n",
    "from temporal_belief.core.timeline_building import TimelineBuilder"
   ],
   "id": "d36660ce8a4d736b",
   "outputs": [
    {
     "ename": "ImportError",
     "evalue": "cannot import name 'STANCE_LABELS' from 'temporal_belief.utils.config' (/Users/leonidas/GitHub/temporal_belief_analysis/src/temporal_belief/utils/config.py)",
     "output_type": "error",
     "traceback": [
      "\u001B[31m---------------------------------------------------------------------------\u001B[39m",
      "\u001B[31mImportError\u001B[39m                               Traceback (most recent call last)",
      "\u001B[36mCell\u001B[39m\u001B[36m \u001B[39m\u001B[32mIn[6]\u001B[39m\u001B[32m, line 14\u001B[39m\n\u001B[32m      3\u001B[39m \u001B[38;5;28;01mimport\u001B[39;00m\u001B[38;5;250m \u001B[39m\u001B[34;01mos\u001B[39;00m\n\u001B[32m      5\u001B[39m \u001B[38;5;66;03m# Change to the correct working directory (same as Jupyter)\u001B[39;00m\n\u001B[32m      6\u001B[39m \u001B[38;5;66;03m# os.chdir('/workspace/temporal_belief_analysis/notebooks')\u001B[39;00m\n\u001B[32m      7\u001B[39m \u001B[38;5;66;03m# print(\"Changed working directory to:\", os.getcwd())\u001B[39;00m\n\u001B[32m   (...)\u001B[39m\u001B[32m     11\u001B[39m \u001B[38;5;66;03m# if src_path not in sys.path:\u001B[39;00m\n\u001B[32m     12\u001B[39m \u001B[38;5;66;03m#     sys.path.insert(0, src_path)\u001B[39;00m\n\u001B[32m---> \u001B[39m\u001B[32m14\u001B[39m \u001B[38;5;28;01mfrom\u001B[39;00m\u001B[38;5;250m \u001B[39m\u001B[34;01mtemporal_belief\u001B[39;00m\u001B[34;01m.\u001B[39;00m\u001B[34;01mcore\u001B[39;00m\u001B[34;01m.\u001B[39;00m\u001B[34;01mtimeline_building\u001B[39;00m\u001B[38;5;250m \u001B[39m\u001B[38;5;28;01mimport\u001B[39;00m TimelineBuilder\n",
      "\u001B[36mFile \u001B[39m\u001B[32m~/GitHub/temporal_belief_analysis/src/temporal_belief/__init__.py:14\u001B[39m\n\u001B[32m     12\u001B[39m \u001B[38;5;66;03m# from data.loaders import RedditDataLoader\u001B[39;00m\n\u001B[32m     13\u001B[39m \u001B[38;5;28;01mfrom\u001B[39;00m\u001B[38;5;250m \u001B[39m\u001B[34;01m.\u001B[39;00m\u001B[34;01mcore\u001B[39;00m\u001B[34;01m.\u001B[39;00m\u001B[34;01mtopic_detection\u001B[39;00m\u001B[38;5;250m \u001B[39m\u001B[38;5;28;01mimport\u001B[39;00m TopicDetector\n\u001B[32m---> \u001B[39m\u001B[32m14\u001B[39m \u001B[38;5;28;01mfrom\u001B[39;00m\u001B[38;5;250m \u001B[39m\u001B[34;01m.\u001B[39;00m\u001B[34;01mcore\u001B[39;00m\u001B[34;01m.\u001B[39;00m\u001B[34;01mstance_detection\u001B[39;00m\u001B[38;5;250m \u001B[39m\u001B[38;5;28;01mimport\u001B[39;00m StanceDetector\n\u001B[32m     16\u001B[39m \u001B[38;5;28;01mdef\u001B[39;00m\u001B[38;5;250m \u001B[39m\u001B[34minitialize_project\u001B[39m(log_level: \u001B[38;5;28mstr\u001B[39m = \u001B[33m\"\u001B[39m\u001B[33mINFO\u001B[39m\u001B[33m\"\u001B[39m):\n\u001B[32m     17\u001B[39m \u001B[38;5;250m    \u001B[39m\u001B[33;03m\"\"\"Initialize project with configuration and logging.\u001B[39;00m\n\u001B[32m     18\u001B[39m \u001B[33;03m    Args:\u001B[39;00m\n\u001B[32m     19\u001B[39m \u001B[33;03m        log_level: Logging level for the session\u001B[39;00m\n\u001B[32m     20\u001B[39m \u001B[33;03m    Returns:\u001B[39;00m\n\u001B[32m     21\u001B[39m \u001B[33;03m        Tuple of (config, logger) for immediate use\u001B[39;00m\n\u001B[32m     22\u001B[39m \u001B[33;03m    \"\"\"\u001B[39;00m\n",
      "\u001B[36mFile \u001B[39m\u001B[32m~/GitHub/temporal_belief_analysis/src/temporal_belief/core/__init__.py:4\u001B[39m\n\u001B[32m      1\u001B[39m \u001B[33;03m\"\"\"Core analysis components.\"\"\"\u001B[39;00m\n\u001B[32m      3\u001B[39m \u001B[38;5;28;01mfrom\u001B[39;00m\u001B[38;5;250m \u001B[39m\u001B[34;01m.\u001B[39;00m\u001B[34;01mtopic_detection\u001B[39;00m\u001B[38;5;250m \u001B[39m\u001B[38;5;28;01mimport\u001B[39;00m TopicDetector\n\u001B[32m----> \u001B[39m\u001B[32m4\u001B[39m \u001B[38;5;28;01mfrom\u001B[39;00m\u001B[38;5;250m \u001B[39m\u001B[34;01m.\u001B[39;00m\u001B[34;01mstance_detection\u001B[39;00m\u001B[38;5;250m \u001B[39m\u001B[38;5;28;01mimport\u001B[39;00m StanceDetector\n\u001B[32m      6\u001B[39m __all__ = [\n\u001B[32m      7\u001B[39m     \u001B[33m\"\u001B[39m\u001B[33mTopicDetector\u001B[39m\u001B[33m\"\u001B[39m,\n\u001B[32m      8\u001B[39m     \u001B[33m\"\u001B[39m\u001B[33mStanceDetector\u001B[39m\u001B[33m\"\u001B[39m\n\u001B[32m      9\u001B[39m ]\n",
      "\u001B[36mFile \u001B[39m\u001B[32m~/GitHub/temporal_belief_analysis/src/temporal_belief/core/stance_detection.py:8\u001B[39m\n\u001B[32m      5\u001B[39m \u001B[38;5;28;01mfrom\u001B[39;00m\u001B[38;5;250m \u001B[39m\u001B[34;01mtqdm\u001B[39;00m\u001B[38;5;250m \u001B[39m\u001B[38;5;28;01mimport\u001B[39;00m tqdm\n\u001B[32m      7\u001B[39m \u001B[38;5;28;01mfrom\u001B[39;00m\u001B[38;5;250m \u001B[39m\u001B[34;01m.\u001B[39;00m\u001B[34;01m.\u001B[39;00m\u001B[34;01mmodels\u001B[39;00m\u001B[34;01m.\u001B[39;00m\u001B[34;01mbart_classifier\u001B[39;00m\u001B[38;5;250m \u001B[39m\u001B[38;5;28;01mimport\u001B[39;00m BARTZeroShotClassifier\n\u001B[32m----> \u001B[39m\u001B[32m8\u001B[39m \u001B[38;5;28;01mfrom\u001B[39;00m\u001B[38;5;250m \u001B[39m\u001B[34;01m.\u001B[39;00m\u001B[34;01m.\u001B[39;00m\u001B[34;01mutils\u001B[39;00m\u001B[34;01m.\u001B[39;00m\u001B[34;01mconfig\u001B[39;00m\u001B[38;5;250m \u001B[39m\u001B[38;5;28;01mimport\u001B[39;00m STANCE_LABELS, ProjectConfig\n\u001B[32m     10\u001B[39m logger = logging.getLogger(\u001B[34m__name__\u001B[39m)\n\u001B[32m     12\u001B[39m \u001B[38;5;28;01mclass\u001B[39;00m\u001B[38;5;250m \u001B[39m\u001B[34;01mStanceDetector\u001B[39;00m:\n",
      "\u001B[31mImportError\u001B[39m: cannot import name 'STANCE_LABELS' from 'temporal_belief.utils.config' (/Users/leonidas/GitHub/temporal_belief_analysis/src/temporal_belief/utils/config.py)"
     ]
    }
   ],
   "execution_count": 6
  },
  {
   "metadata": {
    "ExecuteTime": {
     "end_time": "2025-07-03T16:43:19.950747Z",
     "start_time": "2025-07-03T16:43:17.173798Z"
    }
   },
   "cell_type": "code",
   "source": [
    "# Run twice\n",
    "# import unsloth\n",
    "# import unsloth_zoo\n",
    "from convokit import Corpus, download\n",
    "import convokit"
   ],
   "id": "22220bf09f61753c",
   "outputs": [],
   "execution_count": 3
  },
  {
   "metadata": {
    "ExecuteTime": {
     "end_time": "2025-07-03T16:47:10.391613Z",
     "start_time": "2025-07-03T16:43:23.250584Z"
    }
   },
   "cell_type": "code",
   "source": [
    "# Load a corpus:\n",
    "corpus = Corpus(filename=\"/Users/leonidas/.convokit/saved-corpora/pd_corpus_with_stances1000_chronological\")"
   ],
   "id": "781d4e0509ad3c21",
   "outputs": [],
   "execution_count": 4
  },
  {
   "cell_type": "code",
   "id": "initial_id",
   "metadata": {
    "collapsed": true,
    "ExecuteTime": {
     "end_time": "2025-07-03T16:49:49.199512Z",
     "start_time": "2025-07-03T16:49:48.759569Z"
    }
   },
   "source": [
    "import numpy as np\n",
    "from scipy.stats import ttest_ind, mannwhitneyu\n",
    "from statsmodels.stats.multitest import fdrcorrection\n",
    "from collections import Counter\n",
    "import logging\n",
    "\n",
    "class BeliefChangeDetector:\n",
    "    \"\"\"Sliding window change detection with proper statistical significance.\"\"\"\n",
    "\n",
    "    def __init__(self, window_size=3, significance_level=0.05):\n",
    "        self.window_size = window_size\n",
    "        self.alpha = significance_level\n",
    "        self.stance_values = {\n",
    "            'strongly_against': -2, 'moderately_against': -1,\n",
    "            'neutral': 0, 'moderately_favor': 1, 'strongly_favor': 2\n",
    "        }\n",
    "\n",
    "    def detect_simple_stance_changes(self, topic_timeline):\n",
    "        \"\"\"\n",
    "        Simple method: detect any change from previous stance for a single topic.\n",
    "\n",
    "        Args:\n",
    "            topic_timeline: Dictionary with utterance_ids as keys and stance strings as values\n",
    "                           e.g., {'utterance_123': 'moderately_favor', 'utterance_456': 'neutral', ...}\n",
    "                           NOTE: This should already be chronologically sorted from TimelineBuilder\n",
    "\n",
    "        Returns:\n",
    "            List of detected changes with basic info\n",
    "        \"\"\"\n",
    "        if len(topic_timeline) < 2:\n",
    "            return []\n",
    "\n",
    "        changes = []\n",
    "        timeline_items = list(topic_timeline.items())  # Convert to list of (utterance_id, stance) pairs\n",
    "\n",
    "        for i in range(1, len(timeline_items)):\n",
    "            current_utterance_id, current_stance = timeline_items[i]\n",
    "            previous_utterance_id, previous_stance = timeline_items[i-1]\n",
    "\n",
    "            # Check if stance changed\n",
    "            if current_stance != previous_stance:\n",
    "                change = {\n",
    "                    'position': i,\n",
    "                    'current_utterance_id': current_utterance_id,\n",
    "                    'previous_utterance_id': previous_utterance_id,\n",
    "                    'from_stance': previous_stance,\n",
    "                    'to_stance': current_stance,\n",
    "                    'change_type': self._classify_change_direction(previous_stance, current_stance),\n",
    "                    'change_magnitude': self._calculate_simple_magnitude(previous_stance, current_stance)\n",
    "                }\n",
    "                changes.append(change)\n",
    "\n",
    "        return changes\n",
    "\n",
    "    def _classify_change_direction(self, from_stance, to_stance):\n",
    "        \"\"\"Classify the direction of stance change.\"\"\"\n",
    "        from_value = self.stance_values.get(from_stance, 0)\n",
    "        to_value = self.stance_values.get(to_stance, 0)\n",
    "\n",
    "        if to_value > from_value:\n",
    "            return 'more_favorable'\n",
    "        elif to_value < from_value:\n",
    "            return 'less_favorable'\n",
    "        else:\n",
    "            return 'neutral_shift'\n",
    "\n",
    "    def _calculate_simple_magnitude(self, from_stance, to_stance):\n",
    "        \"\"\"Calculate the magnitude of stance change.\"\"\"\n",
    "        from_value = self.stance_values.get(from_stance, 0)\n",
    "        to_value = self.stance_values.get(to_stance, 0)\n",
    "        return abs(to_value - from_value)\n",
    "\n",
    "    def detect_changes_with_significance(self, user_timeline):\n",
    "        \"\"\"Detect changes with statistical significance testing.\"\"\"\n",
    "\n",
    "        if len(user_timeline) < self.window_size * 2:\n",
    "            return []\n",
    "\n",
    "        # Convert to numeric sequence\n",
    "        stance_sequence = [self.stance_values.get(stance, 0)\n",
    "                          for stance in user_timeline.values()]\n",
    "\n",
    "        changes = []\n",
    "        p_values = []\n",
    "\n",
    "        # Sliding window approach\n",
    "        for i in range(self.window_size, len(stance_sequence) - self.window_size):\n",
    "\n",
    "            # Left window (before potential change)\n",
    "            left_window = stance_sequence[i - self.window_size:i]\n",
    "\n",
    "            # Right window (after potential change)\n",
    "            right_window = stance_sequence[i:i + self.window_size]\n",
    "\n",
    "            # Statistical test: Are these two windows significantly different?\n",
    "            statistic, p_value = self.two_sample_test(left_window, right_window)\n",
    "\n",
    "            p_values.append(p_value)\n",
    "\n",
    "            # Significant change detected\n",
    "            if p_value < self.alpha:\n",
    "                change_magnitude = abs(np.mean(right_window) - np.mean(left_window))\n",
    "\n",
    "                changes.append({\n",
    "                    'position': i,\n",
    "                    'p_value': p_value,\n",
    "                    'test_statistic': statistic,\n",
    "                    'magnitude': change_magnitude,\n",
    "                    'left_mean': np.mean(left_window),\n",
    "                    'right_mean': np.mean(right_window),\n",
    "                    'significance_level': self.alpha,\n",
    "                    'statistically_significant': True\n",
    "                })\n",
    "\n",
    "        return changes, p_values\n",
    "\n",
    "    def two_sample_test(self, left_window, right_window):\n",
    "        \"\"\"Statistical test for difference between two windows.\"\"\"\n",
    "        from scipy.stats import ttest_ind, mannwhitneyu\n",
    "\n",
    "        # Use Mann-Whitney U test (non-parametric, more robust)\n",
    "        # Good for ordinal data like stance scales\n",
    "        try:\n",
    "            statistic, p_value = mannwhitneyu(left_window, right_window,\n",
    "                                            alternative='two-sided')\n",
    "            return statistic, p_value\n",
    "        except ValueError:\n",
    "            # Fallback to t-test if Mann-Whitney fails\n",
    "            statistic, p_value = ttest_ind(left_window, right_window)\n",
    "            return statistic, p_value\n",
    "\n",
    "    def multiple_testing_correction(self, p_values):\n",
    "        \"\"\"Correct for multiple testing using Benjamini-Hochberg.\"\"\"\n",
    "        from statsmodels.stats.multitest import fdrcorrection\n",
    "\n",
    "        rejected, p_corrected = fdrcorrection(p_values, alpha=self.alpha)\n",
    "        return rejected, p_corrected"
   ],
   "outputs": [],
   "execution_count": 6
  },
  {
   "metadata": {
    "ExecuteTime": {
     "end_time": "2025-07-03T16:58:52.973228Z",
     "start_time": "2025-07-03T16:58:52.940759Z"
    }
   },
   "cell_type": "code",
   "source": [
    "timeline_builder = TimelineBuilder(corpus, min_posts_per_topic=3, min_topics_per_user=1)\n",
    "all_timelines = timeline_builder.build_timelines()\n",
    "\n",
    "# Get a specific user's timeline for a specific topic\n",
    "user_id = \"some_user_id\"\n",
    "topic = \"healthcare\"\n",
    "topic_timeline = all_timelines[user_id][topic]  # This is {utterance_id: stance}\n",
    "\n",
    "# Initialize detector and detect changes\n",
    "detector = BeliefChangeDetector()\n",
    "changes = detector.detect_simple_stance_changes(topic_timeline)\n",
    "\n",
    "# Print the results\n",
    "print(f\"Detected {len(changes)} stance changes for user {user_id} on topic {topic}:\")\n",
    "for change in changes:\n",
    "    print(f\"  {change['from_stance']} → {change['to_stance']} (magnitude: {change['change_magnitude']})\")"
   ],
   "id": "fa8987174cfc2918",
   "outputs": [
    {
     "ename": "NameError",
     "evalue": "name 'TimelineBuilder' is not defined",
     "output_type": "error",
     "traceback": [
      "\u001B[31m---------------------------------------------------------------------------\u001B[39m",
      "\u001B[31mNameError\u001B[39m                                 Traceback (most recent call last)",
      "\u001B[36mCell\u001B[39m\u001B[36m \u001B[39m\u001B[32mIn[16]\u001B[39m\u001B[32m, line 1\u001B[39m\n\u001B[32m----> \u001B[39m\u001B[32m1\u001B[39m timeline_builder = \u001B[43mTimelineBuilder\u001B[49m(corpus, min_posts_per_topic=\u001B[32m3\u001B[39m, min_topics_per_user=\u001B[32m1\u001B[39m)\n\u001B[32m      2\u001B[39m all_timelines = timeline_builder.build_timelines()\n\u001B[32m      4\u001B[39m \u001B[38;5;66;03m# Get a specific user's timeline for a specific topic\u001B[39;00m\n",
      "\u001B[31mNameError\u001B[39m: name 'TimelineBuilder' is not defined"
     ]
    }
   ],
   "execution_count": 16
  },
  {
   "metadata": {},
   "cell_type": "code",
   "outputs": [],
   "execution_count": null,
   "source": "",
   "id": "76049e46c5223f2d"
  }
 ],
 "metadata": {
  "kernelspec": {
   "display_name": "Python 3",
   "language": "python",
   "name": "python3"
  },
  "language_info": {
   "codemirror_mode": {
    "name": "ipython",
    "version": 2
   },
   "file_extension": ".py",
   "mimetype": "text/x-python",
   "name": "python",
   "nbconvert_exporter": "python",
   "pygments_lexer": "ipython2",
   "version": "2.7.6"
  }
 },
 "nbformat": 4,
 "nbformat_minor": 5
}
