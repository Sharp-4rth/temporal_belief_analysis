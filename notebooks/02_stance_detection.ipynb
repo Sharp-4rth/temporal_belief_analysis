{
 "cells": [
  {
   "metadata": {},
   "cell_type": "code",
   "source": "# Paths need to start with '/' for corpus",
   "id": "bfdbf310d73e3f6a",
   "outputs": [],
   "execution_count": null
  },
  {
   "metadata": {},
   "cell_type": "code",
   "source": "!pip install convokit",
   "id": "8cfc569e9ee618d",
   "outputs": [],
   "execution_count": null
  },
  {
   "metadata": {
    "jupyter": {
     "is_executing": true
    }
   },
   "cell_type": "code",
   "source": [
    "# For runpod-jupyter or local (run twice)\n",
    "import sys\n",
    "import os\n",
    "\n",
    "# Change to the correct working directory (same as Jupyter)\n",
    "os.chdir('/workspace/temporal_belief_analysis/notebooks')\n",
    "print(\"Changed working directory to:\", os.getcwd())\n",
    "\n",
    "# Absolute path to src directory\n",
    "src_path = os.path.abspath(os.path.join(os.getcwd(), '..', 'src'))\n",
    "if src_path not in sys.path:\n",
    "    sys.path.insert(0, src_path)\n",
    "\n",
    "from temporal_belief.models.bart_classifier import BARTZeroShotClassifier\n",
    "from temporal_belief.utils.config import TOPIC_STANCE_HYPOTHESES, GENERAL_STANCE_HYPOTHESES, ProjectConfig"
   ],
   "id": "e78a389c2d66dd3",
   "outputs": [],
   "execution_count": null
  },
  {
   "metadata": {},
   "cell_type": "code",
   "source": [
    "# For colab:\n",
    "from google.colab import drive\n",
    "drive.mount('/content/drive')\n",
    "\n",
    "# imports:\n",
    "from temporal_belief_analysis.src.temporal_belief.models.bart_classifier import BARTZeroShotClassifier\n",
    "from temporal_belief_analysis.src.temporal_belief.utils.config import TOPIC_STANCE_HYPOTHESES, GENERAL_STANCE_HYPOTHESES, ProjectConfig\n",
    "\n",
    "# Restart after installing:\n",
    "!pip install convokit"
   ],
   "id": "f222e307e23b5a2d",
   "outputs": [],
   "execution_count": null
  },
  {
   "metadata": {
    "ExecuteTime": {
     "end_time": "2025-07-10T14:27:35.840251Z",
     "start_time": "2025-07-10T14:27:16.711023Z"
    }
   },
   "cell_type": "code",
   "source": [
    "# Unzip with python:\n",
    "import zipfile\n",
    "zipfile.ZipFile(\"/workspace/temporal_belief_analysis/pd_corpus_with_topics.zip\").extractall(\"/workspace/temporal_belief_analysis\")"
   ],
   "id": "84570084967f37d4",
   "outputs": [],
   "execution_count": 4
  },
  {
   "metadata": {
    "ExecuteTime": {
     "end_time": "2025-07-10T15:30:28.772810Z",
     "start_time": "2025-07-10T15:30:28.770144Z"
    }
   },
   "cell_type": "code",
   "source": [
    "# Run twice\n",
    "# import unsloth\n",
    "# import unsloth_zoo\n",
    "from convokit import Corpus, download\n",
    "import convokit"
   ],
   "id": "df627f02d6bbba5d",
   "outputs": [],
   "execution_count": 4
  },
  {
   "metadata": {
    "ExecuteTime": {
     "end_time": "2025-07-10T15:33:49.970774Z",
     "start_time": "2025-07-10T15:30:32.308584Z"
    }
   },
   "cell_type": "code",
   "source": [
    "# Load a corpus:\n",
    "corpus = Corpus(filename=\"/workspace/temporal_belief_analysis/pd_corpus_with_stances100000_chronological\")\n",
    "# corpus = Corpus(filename=download(\"subreddit-PoliticalDiscussion\"))\n",
    "# corpus = Corpus(filename=\"/Users/leonidas/.convokit/saved-corpora/PoliticalDiscussion_test_100conv_20250618_110426\")\n",
    "# corpus = Corpus(filename=\"Users/leonidas/GitHub/temporal_belief_analysis/data/reddit-corpus-small\")"
   ],
   "id": "4663e8eec67090fd",
   "outputs": [],
   "execution_count": 5
  },
  {
   "metadata": {},
   "cell_type": "code",
   "source": [
    "# Download file from Google Drive or cloud service\n",
    "!pip install gdown\n",
    "file_id = \"1nWaj5N8nsG7u5homv_kAh4CLPDv01M_Z\"\n",
    "!gdown \"https://drive.google.com/file/d/1nWaj5N8nsG7u5homv_kAh4CLPDv01M_Z/view?usp=share_link\" -O \"/workspace/temporal_belief_analysis/pd_corpus_with_topics.zip\" --fuzzy"
   ],
   "id": "1f020be2905d2249",
   "outputs": [],
   "execution_count": null
  },
  {
   "metadata": {
    "ExecuteTime": {
     "end_time": "2025-07-10T15:33:50.740861Z",
     "start_time": "2025-07-10T15:33:50.734788Z"
    }
   },
   "cell_type": "code",
   "source": [
    "# Helper functions:\n",
    "import re\n",
    "\n",
    "def prepare_text(text):\n",
    "    clean_text = text.strip()\n",
    "    if len(clean_text) > 500:\n",
    "        clean_text = clean_text[:500] + \"...\"\n",
    "    return clean_text\n",
    "    \n",
    "def get_contextual_framing_for_topic(topic, text):\n",
    "    if topic:\n",
    "        contextual_text = f\"In a discussion about {topic}, this comment states: {text}\"\n",
    "    else:\n",
    "        contextual_text = f\"In a political discussion, this comment states: {text}\"\n",
    "    return contextual_text\n",
    "\n",
    "def mark_quotes(text):\n",
    "    \"\"\"Replace ConvoKit quote markers with standard quotation marks.\"\"\"\n",
    "\n",
    "    # Split text into lines for processing\n",
    "    lines = text.split('\\n')\n",
    "    result_lines = []\n",
    "    in_quote = False\n",
    "\n",
    "    for line in lines:\n",
    "        # Check if line starts a quote (begins with &gt;)\n",
    "        if line.strip().startswith('&gt;'):\n",
    "            if not in_quote:\n",
    "                # Start of new quote - replace &gt; with opening quote\n",
    "                cleaned_line = line.replace('&gt;', '\"', 1).lstrip()\n",
    "                result_lines.append(cleaned_line)\n",
    "                in_quote = True\n",
    "            else:\n",
    "                # Continuation of quote - just remove &gt;\n",
    "                cleaned_line = line.replace('&gt;', '', 1).lstrip()\n",
    "                result_lines.append(cleaned_line)\n",
    "\n",
    "        # Check if we're ending a quote (empty line or no more &gt; markers)\n",
    "        elif in_quote and (line.strip() == '' or not line.strip().startswith('&gt;')):\n",
    "            # End the quote by adding closing quote to previous line\n",
    "            if result_lines and not result_lines[-1].strip().endswith('\"'):\n",
    "                result_lines[-1] = result_lines[-1].rstrip() + '\"'\n",
    "\n",
    "            # Add current line if it's not empty\n",
    "            if line.strip():\n",
    "                result_lines.append(line)\n",
    "            else:\n",
    "                result_lines.append(line)  # Keep empty lines\n",
    "\n",
    "            in_quote = False\n",
    "\n",
    "        else:\n",
    "            # Regular line, not in quote\n",
    "            result_lines.append(line)\n",
    "\n",
    "    # Handle case where quote goes to end of text\n",
    "    if in_quote and result_lines and not result_lines[-1].strip().endswith('\"'):\n",
    "        result_lines[-1] = result_lines[-1].rstrip() + '\"'\n",
    "\n",
    "    return '\\n'.join(result_lines)"
   ],
   "id": "6ec7c45d190cfacf",
   "outputs": [],
   "execution_count": 6
  },
  {
   "metadata": {
    "ExecuteTime": {
     "end_time": "2025-07-10T15:33:51.085102Z",
     "start_time": "2025-07-10T15:33:51.072231Z"
    }
   },
   "cell_type": "code",
   "source": [
    "\"\"\"Stance detection functionality for conversation analysis.\"\"\"\n",
    "import numpy as np\n",
    "import logging\n",
    "from typing import List, Dict, Any, Optional\n",
    "from tqdm import tqdm\n",
    "from temporal_belief.utils.logger import setup_logging\n",
    "\n",
    "logger = setup_logging(\"DEBUG\")\n",
    "\n",
    "class StanceDetector:\n",
    "    \"\"\"Detect political stance in ConvoKit utterances using BART.\"\"\"\n",
    "\n",
    "    def __init__(self, stance_labels: Optional[List[str]] = None,\n",
    "                 config: ProjectConfig = None):\n",
    "        \"\"\"Initialize stance detector.\"\"\"\n",
    "        self.config = config or ProjectConfig()\n",
    "        self.classifier = BARTZeroShotClassifier(self.config.bart_model_name)\n",
    "        self.stance_labels = stance_labels or TOPIC_STANCE_HYPOTHESES\n",
    "        logger.info(f\"Initialized stance detector with labels: {self.stance_labels}\")\n",
    "\n",
    "\n",
    "    def detect_utterance_stance(self, utterance, corpus) -> Dict[str, Any]:\n",
    "        \"\"\"Detect stance for a single utterance.\"\"\"\n",
    "        # text = mark_quotes(utterance.text)\n",
    "        if not utterance.text or utterance.text == '[removed]' or utterance.text == '[deleted]' or utterance.text.strip() == '.':\n",
    "            logger.warning(f\"No utterance found in {utterance.id}\")\n",
    "            return {\"stance\": \"unknown\", \"confidence\": 0.0}\n",
    "        convo = corpus.get_conversation(utterance.conversation_id)\n",
    "        topic = convo.meta['detected_topic']\n",
    "        clean_text = prepare_text(utterance.text)\n",
    "        text = get_contextual_framing_for_topic(topic, clean_text)\n",
    "        # MAKE SURE THE TOPIC KEYS MATCH AND IF NOT RETURN A GENERAL\n",
    "        stance_hypotheses = TOPIC_STANCE_HYPOTHESES.get(topic, GENERAL_STANCE_HYPOTHESES)\n",
    "        logger.info(f\"Text: {text}\")\n",
    "        #\n",
    "        # # Pass one of the candidate stances\n",
    "        # result = self.classifier.classify_text(text, self.stance_labels)\n",
    "        # return {\n",
    "        #     \"stance\": result[\"label\"],\n",
    "        #     \"confidence\": result[\"confidence\"],\n",
    "        #     \"all_scores\": result[\"all_scores\"]\n",
    "        # }\n",
    "\n",
    "        confidence_threshold = 0.25\n",
    "        stance_results = {}\n",
    "        template_consistency_scores = {}\n",
    "\n",
    "        for stance, hypotheses in stance_hypotheses.items():\n",
    "            stance_scores = []\n",
    "\n",
    "            # Test each hypothesis template for this stance\n",
    "            for hypothesis in hypotheses:\n",
    "                result = self.classifier.classify_text(text, [hypothesis])\n",
    "                # Get score for this specific hypothesis\n",
    "                stance_scores.append(result[\"all_scores\"].get(hypothesis, 0.0))\n",
    "\n",
    "            # Average across templates for this stance\n",
    "            avg_confidence = np.mean(stance_scores)\n",
    "            stance_results[stance] = avg_confidence\n",
    "\n",
    "            # Measure consistency across templates (lower std = more consistent)\n",
    "            template_consistency_scores[stance] = 1.0 - (np.std(stance_scores) / (np.mean(stance_scores) + 1e-8))\n",
    "\n",
    "        # Find best stance\n",
    "        best_stance = max(stance_results.keys(), key=lambda k: stance_results[k])\n",
    "        best_confidence = stance_results[best_stance]\n",
    "        overall_consistency = np.mean(list(template_consistency_scores.values()))\n",
    "\n",
    "        # Apply confidence threshold\n",
    "        if best_confidence < confidence_threshold:\n",
    "            best_stance = 'neutral'\n",
    "            best_confidence = stance_results.get('neutral', 0.0)\n",
    "\n",
    "        return {\n",
    "            'stance': best_stance,\n",
    "            'confidence': best_confidence,\n",
    "            'all_scores': stance_results,\n",
    "            'method_used': 'multi_template_spinos',\n",
    "            'template_consistency': overall_consistency,\n",
    "            'reliable': best_confidence > confidence_threshold and overall_consistency > 0.7,\n",
    "            'topic_context': topic\n",
    "        }\n",
    "\n",
    "    def process_corpus_utterances(self, corpus, batch_size: int = 50,\n",
    "                                  max_utterances: Optional[int] = None,\n",
    "                              save_path: Optional[str] = None) -> None:\n",
    "        \"\"\"Process all utterances in corpus for stance detection.\"\"\"\n",
    "        sorted_utts = sorted(list(corpus.iter_utterances()), key=lambda utt: utt.timestamp)\n",
    "        all_utterances = sorted_utts\n",
    "\n",
    "        if max_utterances is not None:\n",
    "            utterances = all_utterances[:max_utterances]\n",
    "            logger.info(f\"Processing {len(utterances)} of {len(all_utterances)} total utterances\")\n",
    "        else:\n",
    "            utterances = all_utterances\n",
    "            logger.info(f\"Processing all {len(utterances)} utterances for stance detection\")\n",
    "\n",
    "        for i in tqdm(range(0, len(utterances), batch_size),\n",
    "                      desc=\"Processing utterances\"):\n",
    "            batch = utterances[i:i+batch_size]\n",
    "\n",
    "            for utt in batch:\n",
    "                try:\n",
    "                    stance_result = self.detect_utterance_stance(utt, corpus)\n",
    "\n",
    "                    # Add to utterance metadata\n",
    "                    utt.add_meta(\"detected_stance\", stance_result[\"stance\"])\n",
    "                    utt.add_meta(\"stance_confidence\", stance_result[\"confidence\"])\n",
    "                    utt.add_meta(\"stance_scores\", stance_result[\"all_scores\"])\n",
    "\n",
    "                except Exception as e:\n",
    "                    logger.error(f\"Failed to process utterance {utt.id}: {e}\")\n",
    "                    utt.add_meta(\"detected_stance\", \"unknown\")\n",
    "                    utt.add_meta(\"stance_confidence\", 0.0)\n",
    "\n",
    "        if save_path:\n",
    "            corpus.dump(save_path)\n",
    "            logger.info(f\"Saved processed corpus to {save_path}\")\n",
    "\n",
    "        logger.info(\"Stance detection processing complete\")"
   ],
   "id": "3a7773177f8234af",
   "outputs": [],
   "execution_count": 7
  },
  {
   "metadata": {},
   "cell_type": "code",
   "source": [
    "# Testing 'process_corpus_utterances()'\n",
    "SAVE_PATH = \"/workspace/temporal_belief_analysis/pd_corpus_with_stances100000_chronological\"\n",
    "stance_detector = StanceDetector()\n",
    "stance_detector.process_corpus_utterances(corpus, max_utterances=100000, save_path=SAVE_PATH)"
   ],
   "id": "846d651826086529",
   "outputs": [],
   "execution_count": null
  },
  {
   "metadata": {},
   "cell_type": "code",
   "source": [
    "processed_convos = list(corpus.iter_conversations())\n",
    "print(f\"Processed: {processed_convos[1].meta['detected_topic']}\\n\")"
   ],
   "id": "15a339ed1ce9da49",
   "outputs": [],
   "execution_count": null
  },
  {
   "metadata": {},
   "cell_type": "code",
   "source": [
    "# Play around with a single part\n",
    "# print(corpus.random_utterance().text)\n",
    "stance_detector = StanceDetector()\n",
    "utts = list(corpus.iter_utterances())\n",
    "utt_text = utts[0].text\n",
    "# utt_text = mark_quotes(utt_text)\n",
    "# print(utt_text)\n",
    "stance = stance_detector.detect_utterance_stance(utts[0])\n",
    "print(stance['stance'])\n",
    "# print(utts[1].meta[''])"
   ],
   "id": "ff79986173073c6b",
   "outputs": [],
   "execution_count": null
  },
  {
   "metadata": {},
   "cell_type": "code",
   "source": [
    "# Check if metadata gets added\n",
    "utterances = list(corpus.iter_utterances())\n",
    "first_utt = utterances[0]\n",
    "print(f\"First utterance ID: {first_utt.id}\")\n",
    "print(f\"Has stance metadata: {'detected_stance' in first_utt.meta}\")\n",
    "if 'detected_stance' in first_utt.meta:\n",
    "    print(f\"Stance: {first_utt.meta['detected_stance']}\")\n",
    "    print(f\"Confidence: {first_utt.meta['stance_confidence']}\")"
   ],
   "id": "c57ca2c98c3d7ca1",
   "outputs": [],
   "execution_count": null
  },
  {
   "metadata": {},
   "cell_type": "code",
   "source": [
    "# Testing 'detect_conversation_topic()' and 'dump()'\n",
    "logger = setup_logging(\"DEBUG\")\n",
    "i = 0\n",
    "utts = list(corpus.iter_utterances())\n",
    "stance_detector = StanceDetector()\n",
    "for i in range(30):\n",
    "  logger.info(\"=\" * 100)\n",
    "  logger.info(f\"Comment: {utts[i].text}\\n\")\n",
    "  stance = stance_detector.detect_utterance_stance(utts[i])\n",
    "  logger.info(f\"Stance: {stance['stance']}\")\n",
    "  logger.info(f\"Confidence: {stance['confidence']}\")\n",
    "  # logger.debug(f\"Raw utterance text length: {len(utts[i].text)}\")\n",
    "  logger.warning(f\"Low confidence score: {stance['confidence']}\")\n",
    "  # utts[i].add_meta(\"detected_stance\", stance[\"stance\"])\n",
    "  # utts[i].add_meta(\"stance_confidence\", stance[\"stance\"])\n",
    "  # utts[i].add_meta(\"stance_scores\", stance[\"all_scores\"])\n",
    "  i += 1\n",
    "\n",
    "del utts\n",
    "# Test it saves properly:\n",
    "# corpus_small.dump(\"/content/drive/MyDrive/MScProject/Corpora/corpus_small\")\n"
   ],
   "id": "c012cd2534ad209f",
   "outputs": [],
   "execution_count": null
  }
 ],
 "metadata": {
  "accelerator": "GPU",
  "colab": {
   "gpuType": "T4",
   "machine_shape": "hm",
   "provenance": []
  },
  "kernelspec": {
   "display_name": "Python 3 (ipykernel)",
   "language": "python",
   "name": "python3"
  },
  "language_info": {
   "codemirror_mode": {
    "name": "ipython",
    "version": 3
   },
   "file_extension": ".py",
   "mimetype": "text/x-python",
   "name": "python",
   "nbconvert_exporter": "python",
   "pygments_lexer": "ipython3",
   "version": "3.10.12"
  }
 },
 "nbformat": 4,
 "nbformat_minor": 5
}
