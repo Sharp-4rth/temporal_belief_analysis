{
  "cells": [
    {
      "metadata": {
        "id": "c3fbd6a099944b04"
      },
      "cell_type": "code",
      "outputs": [],
      "execution_count": null,
      "source": [
        "# Need to restart after:\n",
        "!pip install convokit"
      ],
      "id": "c3fbd6a099944b04"
    },
    {
      "metadata": {
        "id": "37001152dd406570"
      },
      "cell_type": "code",
      "outputs": [],
      "execution_count": null,
      "source": [
        "# Download file from Google Drive to colab directory\n",
        "!pip install gdown\n",
        "file_id = \"1N0U_jUJlOYjdaju2FaU8p87uB22YBxJ0\"\n",
        "!gdown \"https://drive.google.com/file/d/1N0U_jUJlOYjdaju2FaU8p87uB22YBxJ0/view?usp=sharing\" -O \"/content/temporal_belief_analysis/pd_corpus_with_topics10000_chronological.zip\" --fuzzy"
      ],
      "id": "37001152dd406570"
    },
    {
      "metadata": {
        "id": "56c7674bc45a38b2"
      },
      "cell_type": "code",
      "outputs": [],
      "execution_count": 5,
      "source": [
        "# Unzip with python:\n",
        "import zipfile\n",
        "zipfile.ZipFile(\"/content/temporal_belief_analysis/pd_corpus_with_topics10000_chronological.zip\").extractall(\"/content/temporal_belief_analysis\")"
      ],
      "id": "56c7674bc45a38b2"
    },
    {
      "metadata": {
        "colab": {
          "base_uri": "https://localhost:8080/"
        },
        "id": "e946106a2e92b1d0",
        "outputId": "563812d8-a8d5-409e-dede-47ac9506a563"
      },
      "cell_type": "code",
      "outputs": [
        {
          "output_type": "stream",
          "name": "stdout",
          "text": [
            "Changed working directory to: /content/temporal_belief_analysis/notebooks\n"
          ]
        }
      ],
      "execution_count": 68,
      "source": [
        "# For runpod-jupyter or local (run twice)\n",
        "import sys\n",
        "import os\n",
        "\n",
        "# Change to the correct working directory (workspace if runpod, content if colab)\n",
        "os.chdir('/content/temporal_belief_analysis/notebooks')\n",
        "print(\"Changed working directory to:\", os.getcwd())\n",
        "\n",
        "# Absolute path to src directory\n",
        "src_path = os.path.abspath(os.path.join(os.getcwd(), '..', 'src'))\n",
        "if src_path not in sys.path:\n",
        "    sys.path.insert(0, src_path)\n",
        "\n",
        "# Comment out if in colab:\n",
        "from temporal_belief.core.timeline_building import TimelineBuilder\n",
        "# from temporal_belief.core.change_detection import ChangeDetector\n",
        "from temporal_belief.core.WindowExtraction import WindowExtractor\n",
        "from temporal_belief.core.OpPathPairing import OpPathPairer\n",
        "from temporal_belief.data.preprocessors import ChangeDetectorPreprocessor"
      ],
      "id": "e946106a2e92b1d0"
    },
    {
      "metadata": {
        "colab": {
          "base_uri": "https://localhost:8080/",
          "height": 0
        },
        "id": "30c48534c952a7fc",
        "outputId": "2d65465e-f91f-45f3-a725-00f17d4c7f44"
      },
      "cell_type": "code",
      "outputs": [
        {
          "output_type": "stream",
          "name": "stdout",
          "text": [
            "Error from Unsloth: NotImplementedError: Unsloth currently only works on NVIDIA GPUs and Intel GPUs.\n"
          ]
        },
        {
          "output_type": "stream",
          "name": "stderr",
          "text": [
            "/usr/local/lib/python3.11/dist-packages/convokit/utterance_simulator/unslothUtteranceSimulatorModel.py:2: UserWarning: WARNING: Unsloth should be imported before transformers, peft to ensure all optimizations are applied. Your code may run slower or encounter memory issues without these optimizations.\n",
            "\n",
            "Please restructure your imports with 'import unsloth' at the top of your file.\n",
            "  import unsloth\n"
          ]
        }
      ],
      "execution_count": 7,
      "source": [
        "# Run twice\n",
        "# import unsloth\n",
        "# import unsloth_zoo\n",
        "from convokit import Corpus, download\n",
        "import convokit"
      ],
      "id": "30c48534c952a7fc"
    },
    {
      "cell_type": "code",
      "source": [],
      "metadata": {
        "id": "ufGlsKIVeVfx"
      },
      "id": "ufGlsKIVeVfx",
      "execution_count": 7,
      "outputs": []
    },
    {
      "metadata": {
        "colab": {
          "base_uri": "https://localhost:8080/",
          "height": 0
        },
        "id": "e79372f7a96844b0",
        "outputId": "9668225f-79c0-45ef-fb77-4472262a788d"
      },
      "cell_type": "code",
      "outputs": [
        {
          "output_type": "stream",
          "name": "stdout",
          "text": [
            "No configuration file found at /root/.convokit/config.yml; writing with contents: \n",
            "# Default Backend Parameters\n",
            "db_host: localhost:27017\n",
            "data_directory: ~/.convokit/saved-corpora\n",
            "model_directory: ~/.convokit/saved-models\n",
            "default_backend: mem\n"
          ]
        }
      ],
      "execution_count": 8,
      "source": [
        "# Load a corpus:\n",
        "# corpus = Corpus(filename=\"/Users/leonidas/.convokit/saved-corpora/pd_corpus_with_stances1000_chronological\")\n",
        "corpus = Corpus(filename=\"/content/temporal_belief_analysis/pd_corpus_with_stances100000_chronological\")"
      ],
      "id": "e79372f7a96844b0"
    },
    {
      "metadata": {
        "colab": {
          "base_uri": "https://localhost:8080/"
        },
        "id": "1094315e0f0a6e2b",
        "outputId": "a4bbdcbd-b3a5-4d3c-f36d-74a6017ba9a6"
      },
      "cell_type": "code",
      "outputs": [
        {
          "output_type": "stream",
          "name": "stdout",
          "text": [
            "ConvoKitMeta({'subreddit': 'PoliticalDiscussion', 'num_posts': 102848, 'num_comments': 4553046})\n"
          ]
        }
      ],
      "execution_count": 40,
      "source": [
        "print(corpus.meta)"
      ],
      "id": "1094315e0f0a6e2b"
    },
    {
      "cell_type": "code",
      "source": [
        "import numpy as np\n",
        "from scipy.stats import ttest_ind, mannwhitneyu\n",
        "from statsmodels.stats.multitest import fdrcorrection\n",
        "from collections import Counter\n",
        "import logging\n",
        "\n",
        "class ChangeDetector:\n",
        "    \"\"\"Sliding window change detection with proper statistical significance.\"\"\"\n",
        "\n",
        "    def __init__(self, window_size=3, significance_level=0.05):\n",
        "        self.window_size = window_size\n",
        "        self.alpha = significance_level\n",
        "        self.stance_values = {\n",
        "            'strongly_against': -2, 'moderately_against': -1,\n",
        "            'neutral': 0, 'moderately_favor': 1, 'strongly_favor': 2\n",
        "        }\n",
        "        self.all_change_points = []\n",
        "        self.all_no_change_points = []\n",
        "\n",
        "    def detect_persistent_changes(self, topic_timeline):\n",
        "        \"\"\"Detect persistent changes in stance.\"\"\"\n",
        "\n",
        "        # Convert to (utt_id, detected_stance) tuple\n",
        "        # topic_timeline_list = list(topic_timeline.items())\n",
        "\n",
        "        # Collect the tuples where the stance is persistent across n utterances\n",
        "        change_points = []\n",
        "        no_change_points = []\n",
        "\n",
        "        for i in range(len(topic_timeline) - 1):\n",
        "          # if current stance is different than prior\n",
        "            if topic_timeline[i][1] != topic_timeline[i-1][1]:\n",
        "                # Check if change persists for more than 1 post\n",
        "                if topic_timeline[i][1] == topic_timeline[i+1][1]:\n",
        "                    change_index = i\n",
        "                    utt_id = topic_timeline[i][0]\n",
        "                    # change_point = (change_index, utt_id)\n",
        "                    change_point = (utt_id)\n",
        "                    change_points.append(change_point)\n",
        "                    # print(f\"Current:{topic_timeline[i][1]}, Previous: {topic_timeline[i-1][1]} and Next:{topic_timeline[i+1][1]}\")\n",
        "                    self.all_change_points.extend(change_points)\n",
        "                    self.all_no_change_points.extend(no_change_points)\n",
        "\n",
        "        return {\n",
        "            'change_points': change_points,\n",
        "            'no_change_points': no_change_points\n",
        "          }\n",
        "\n",
        "    def get_two_groups(self):\n",
        "        with_changes = {}\n",
        "        no_changes = {}\n",
        "\n",
        "        for user_id, topic_timelines in timelines.items():\n",
        "            for topic_name, topic_timeline in topic_timelines.items():  # Added topic_name\n",
        "                topic_timeline_list = list(topic_timeline.items())\n",
        "                changes = self.detect_persistent_changes(topic_timeline_list)\n",
        "\n",
        "                if changes['change_points']:\n",
        "                    # User experienced changes - store only change-causing utterances\n",
        "                    if user_id not in with_changes:\n",
        "                        with_changes[user_id] = {}\n",
        "                    with_changes[user_id][topic_name] = {utt_id: topic_timeline[utt_id] for utt_id in changes['change_points']}\n",
        "                else:\n",
        "                    # User had no changes - store all utterances\n",
        "                    if user_id not in no_changes:\n",
        "                        no_changes[user_id] = {}\n",
        "                    no_changes[user_id][topic_name] = topic_timeline\n",
        "\n",
        "        return {\n",
        "            'with_changes': with_changes,\n",
        "            'no_changes': no_changes\n",
        "        }\n",
        "\n",
        "# Maybe I call the change detector to run a change analysis or something.\n",
        "# What this does is it saves both the change points AND the groups in variables"
      ],
      "metadata": {
        "id": "Ydu4Kt8arll0"
      },
      "id": "Ydu4Kt8arll0",
      "execution_count": 193,
      "outputs": []
    },
    {
      "metadata": {
        "colab": {
          "base_uri": "https://localhost:8080/"
        },
        "id": "f41c4501acad35af",
        "outputId": "a4584957-63ea-4dc4-a47f-e77ec639581f"
      },
      "cell_type": "code",
      "outputs": [
        {
          "output_type": "stream",
          "name": "stderr",
          "text": [
            "2025-08-13 13:40:06,588 - temporal_belief.core.timeline_building - INFO - timeline_building:71 - Built timelines for 4781 users\n",
            "INFO:temporal_belief.core.timeline_building:Built timelines for 4781 users\n"
          ]
        }
      ],
      "execution_count": 175,
      "source": [
        "# Test timeline builder:\n",
        "timeline_builder = TimelineBuilder(corpus, min_posts_per_topic=0, min_topics_per_user=0)\n",
        "timelines = timeline_builder.build_timelines()\n",
        "\n",
        "# Filter for analysis\n",
        "change_detector_preprocessor = ChangeDetectorPreprocessor()\n",
        "\n",
        "# Use filtered ones for detecting changes but the full ones for interplay score. Although maybe it doesn't matter.\n",
        "filtered_timelines = change_detector_preprocessor.filter_for_change_detection(timelines, min_posts_per_topic=5, min_topics_per_user=2)\n",
        "\n",
        "# Get a specific user's timeline for a specific topic\n",
        "user_id = \"HardCoreModerate\"\n",
        "topic = \"media and political commentary\"\n",
        "topic_timeline = filtered_timelines[user_id][topic]  # This is {utterance_id: stance}\n",
        "\n",
        "# Convert to list of tuples\n",
        "# topic_timeline_list = list(topic_timeline.items())"
      ],
      "id": "f41c4501acad35af"
    },
    {
      "cell_type": "code",
      "source": [
        "print(len(timelines))"
      ],
      "metadata": {
        "colab": {
          "base_uri": "https://localhost:8080/"
        },
        "id": "DSL7KxJJaSD2",
        "outputId": "e90e994b-2488-410a-b884-d9b6055549f3"
      },
      "id": "DSL7KxJJaSD2",
      "execution_count": 148,
      "outputs": [
        {
          "output_type": "stream",
          "name": "stdout",
          "text": [
            "4781\n"
          ]
        }
      ]
    },
    {
      "cell_type": "code",
      "source": [
        "print(topic_timeline)"
      ],
      "metadata": {
        "colab": {
          "base_uri": "https://localhost:8080/"
        },
        "id": "6CVTC02y0lUu",
        "outputId": "e81dabe7-5eef-4d08-a0ab-475cd99f63ab"
      },
      "id": "6CVTC02y0lUu",
      "execution_count": 117,
      "outputs": [
        {
          "output_type": "stream",
          "name": "stdout",
          "text": [
            "{'j3g36': 'moderately_against', 'c28uhbc': 'moderately_against', 'c28vhor': 'moderately_against', 'c28vyhs': 'moderately_against', 'c28wegs': 'moderately_against', 'c28yyll': 'moderately_against', 'c28yzm6': 'moderately_against', 'c28yzso': 'moderately_against', 'c28z353': 'neutral', 'c290fut': 'strongly_against', 'c290g67': 'neutral', 'c290h6h': 'moderately_against', 'c290mll': 'neutral', 'c291t8z': 'moderately_against', 'c291yto': 'strongly_against', 'c291zvv': 'moderately_against', 'c2928gw': 'neutral', 'c292b02': 'neutral', 'c29c7v8': 'moderately_against', 'c2a0tlm': 'moderately_against', 'c2anbs3': 'moderately_against', 'c2ds943': 'moderately_against', 'c2folul': 'neutral', 'c2foq3m': 'neutral', 'c2fvkc9': 'moderately_against', 'c2fz060': 'strongly_against', 'c2fzrn2': 'moderately_against', 'c2ggect': 'neutral', 'c2gggm3': 'moderately_against', 'c2hkg3r': 'strongly_against', 'c2jbvy0': 'moderately_against', 'c2llp7v': 'moderately_against', 'c2s4z4h': 'moderately_against', 'c2sq8yf': 'neutral', 'c2swg2q': 'neutral', 'c2uw4cg': 'strongly_against', 'c30q1zx': 'moderately_against', 'c30q3u1': 'moderately_against', 'c30q9ht': 'moderately_against', 'c32am30': 'moderately_against', 'c32u8em': 'neutral', 'c33bcnl': 'moderately_against', 'c33cueg': 'moderately_against', 'c360b1e': 'moderately_against', 'nz333': 'unknown', 'c3f9ne8': 'moderately_against', 'c3f9shi': 'moderately_against', 'c3fbdof': 'neutral'}\n"
          ]
        }
      ]
    },
    {
      "cell_type": "code",
      "source": [
        "# Can I iterate over all timelines of this user?\n",
        "persistence_detector_new = ChangeDetector()\n",
        "for user_id, topic_timelines in timelines.items():\n",
        "    for topic_timeline in topic_timelines.values():\n",
        "        topic_timeline_list = list(topic_timeline.items())\n",
        "        changes = persistence_detector_new.detect_persistent_changes(topic_timeline_list)\n",
        "        # self.detect_persistent_changes(topic_timeline)"
      ],
      "metadata": {
        "id": "UacsukiTx-DX"
      },
      "id": "UacsukiTx-DX",
      "execution_count": 126,
      "outputs": []
    },
    {
      "metadata": {
        "id": "5df301bbdf9bfab3"
      },
      "cell_type": "code",
      "source": [
        "# Test the change detector:\n",
        "persistence_detector_new = ChangeDetector()\n",
        "topic_timeline_list = list(topic_timeline.items())\n",
        "change_points = persistence_detector_new.detect_persistent_changes(topic_timeline_list)\n",
        "# with_changes, no_changes = persistence_detector_new.get_two_groups()"
      ],
      "id": "5df301bbdf9bfab3",
      "outputs": [],
      "execution_count": 111
    },
    {
      "cell_type": "code",
      "source": [
        "# Groups:\n",
        "persistence_detector_new = ChangeDetector()\n",
        "groups = persistence_detector_new.get_two_groups()\n",
        "\n",
        "print(len(groups['with_changes']))\n",
        "print(len(groups['no_changes']))\n",
        "\n",
        "print(groups['with_changes'])\n",
        "\n",
        "# Numbers don't add up cause some users could appear in both groups (had changes in some topics but not in others).\n",
        "\n",
        "# works!!!!"
      ],
      "metadata": {
        "colab": {
          "base_uri": "https://localhost:8080/"
        },
        "id": "fzjIRLyNsAb_",
        "outputId": "763eb65c-5a55-4635-dbb2-5a273267a670"
      },
      "id": "fzjIRLyNsAb_",
      "execution_count": 174,
      "outputs": [
        {
          "output_type": "stream",
          "name": "stdout",
          "text": [
            "0\n",
            "0\n",
            "{}\n"
          ]
        }
      ]
    },
    {
      "metadata": {
        "colab": {
          "base_uri": "https://localhost:8080/",
          "height": 0
        },
        "id": "9e2b5729ab13ef41",
        "outputId": "e611430e-f146-435e-b2d3-609a7f3efcf7"
      },
      "cell_type": "code",
      "outputs": [
        {
          "output_type": "stream",
          "name": "stdout",
          "text": [
            "ID:muccw\n",
            "ID:mv2yv\n",
            "ID:mv3ou\n"
          ]
        }
      ],
      "execution_count": 12,
      "source": [
        "# Test the window extractor:\n",
        "window_extractor = WindowExtractor(corpus, timelines=timelines)\n",
        "candidate_convos = window_extractor.get_conversations_around_change_point(change_points=change_points, corpus=corpus)\n",
        "for convo in candidate_convos:\n",
        "  print(f'ID:{convo.id}')"
      ],
      "id": "9e2b5729ab13ef41"
    },
    {
      "cell_type": "code",
      "source": [
        "import re\n",
        "\n",
        "class PairPreprocessor:\n",
        "\n",
        "    def tokenize_quotes(self, utterance_text):\n",
        "        lines = utterance_text.split('\\n')\n",
        "        processed_lines = []\n",
        "\n",
        "        for line in lines:\n",
        "            line = line.strip()\n",
        "            if line.startswith('&gt;') or line.startswith('>'):\n",
        "                processed_lines.append('[QUOTE]')\n",
        "            else:\n",
        "                processed_lines.append(line)\n",
        "\n",
        "        return '\\n'.join(processed_lines)\n",
        "\n",
        "    def concatenate_path(self, paths):\n",
        "        concatenated_paths = {}\n",
        "        for key, utt_list in paths.items():\n",
        "            path_text = ''\n",
        "            for utt in utt_list:\n",
        "                utt_text_quoted = self.tokenize_quotes(utt.text)\n",
        "                path_text += utt_text_quoted + ' '\n",
        "            concatenated_paths[key] = path_text.strip()\n",
        "        return concatenated_paths\n",
        "\n",
        "    def tokenize_and_lower(op_text, reply_path_text, stop_words_set):\n",
        "        op_words = op_text.lower().split()\n",
        "        reply_words = reply_path_text.lower().split()\n",
        "\n",
        "        return (op_words, reply_words)\n",
        "\n",
        "    # This pattern keeps letters, numbers, whitespace, and apostrophes (for contractions)\n",
        "    def remove_punctuation(op_text, reply_path_text):\n",
        "        op_text = re.sub(r\"[^\\w\\s']\", '', op_text)\n",
        "        reply_path_text = re.sub(r\"[^\\w\\s']\", '', reply_path_text)\n",
        "\n",
        "        return op_text, reply_path_text\n",
        "\n",
        "    def remove_quotes_from_all(self, op_path_pairs):\n",
        "        marked_pairs = []\n",
        "        for op_path_pair in op_path_pairs:\n",
        "            # Process the OP utterance\n",
        "            op_text = self.tokenize_quotes(op_path_pair[0].text)\n",
        "\n",
        "            # Process each utterance path\n",
        "            processed_paths = []\n",
        "            for utterances in op_path_pair[1].values():\n",
        "                path = [self.tokenize_quotes(utt.text) for utt in utterances]\n",
        "                processed_paths.append(path)\n",
        "\n",
        "            marked_pairs.append((op_text, processed_paths))\n",
        "\n",
        "        return marked_pairs\n",
        "\n",
        "    def concatenate_path_in_pair(self, pair):\n",
        "        op = pair[0]\n",
        "        paths = pair[1]\n",
        "\n",
        "        concatenated_paths = self.concatenate_path(paths)\n",
        "\n",
        "        return (op, concatenated_paths)\n",
        "\n",
        "    def concatenate_path_in_all_pairs(self, op_path_pairs):\n",
        "        # op_path_pairs_quoted = self.remove_quotes_from_all(op_path_pairs)\n",
        "        preprocessed_pairs = []\n",
        "        for pair in op_path_pairs:\n",
        "            pair = self.concatenate_path_in_pair(pair)\n",
        "            preprocessed_pairs.append(pair)\n",
        "\n",
        "        return preprocessed_pairs\n",
        "\n",
        "    def clean_and_tokenize(self, op_text, reply_path_text):\n",
        "        # Step 1: Remove punctuation\n",
        "        op_text, reply_path_text = self.remove_punctuation(op_text, reply_path_text)\n",
        "\n",
        "        # Step 2: Tokenize and lowercase\n",
        "        op_words, reply_words = self.tokenize_and_lower(op_text, reply_path_text)\n",
        "\n",
        "        return op_words, reply_words"
      ],
      "metadata": {
        "id": "8xz63RKkNM4m"
      },
      "id": "8xz63RKkNM4m",
      "execution_count": 13,
      "outputs": []
    },
    {
      "cell_type": "code",
      "source": [
        "def calculate_interplay_features(op_text, reply_path_text, stop_words_set):\n",
        "    \"\"\"Calculate 12 interplay features between OP and reply path.\"\"\"\n",
        "\n",
        "    # Remove punctuation\n",
        "    op_text = re.sub(r\"[^\\w\\s']\", '', op_text)\n",
        "    reply_path_text = re.sub(r\"[^\\w\\s']\", '', reply_path_text)\n",
        "\n",
        "    # Tokenize and clean\n",
        "    op_words = op_text.lower().split()\n",
        "    reply_words = reply_path_text.lower().split()\n",
        "\n",
        "    # Create word sets\n",
        "    op_all = set(op_words)\n",
        "    reply_all = set(reply_words)\n",
        "    op_stop = set(w for w in op_words if w in stop_words_set)\n",
        "    reply_stop = set(w for w in reply_words if w in stop_words_set)\n",
        "    op_content = set(w for w in op_words if w not in stop_words_set)\n",
        "    reply_content = set(w for w in reply_words if w not in stop_words_set)\n",
        "\n",
        "    # Calculate 4 metrics for each word type\n",
        "    features = {}\n",
        "\n",
        "    for word_type, (op_set, reply_set) in [\n",
        "        ('all', (op_all, reply_all)),\n",
        "        ('stop', (op_stop, reply_stop)),\n",
        "        ('content', (op_content, reply_content))\n",
        "    ]:\n",
        "        intersection = len(op_set & reply_set)\n",
        "        union = len(op_set | reply_set)\n",
        "\n",
        "        features[f'common_words_{word_type}'] = intersection\n",
        "        features[f'sim_frac_reply_{word_type}'] = intersection / len(reply_set) if reply_set else 0\n",
        "        features[f'sim_frac_op_{word_type}'] = intersection / len(op_set) if op_set else 0\n",
        "        features[f'jaccard_{word_type}'] = intersection / union if union else 0\n",
        "\n",
        "    return features"
      ],
      "metadata": {
        "id": "MPYqGMj-iLrX"
      },
      "id": "MPYqGMj-iLrX",
      "execution_count": 14,
      "outputs": []
    },
    {
      "cell_type": "code",
      "source": [
        "def calculate_persuasion_score(interplay_features):\n",
        "    \"\"\"\n",
        "    Calculate persuasion score based on Tan et al.'s CMV findings.\n",
        "    Higher scores indicate higher persuasion likelihood.\n",
        "    \"\"\"\n",
        "\n",
        "    # Extract the key predictive features\n",
        "    reply_frac_content = interplay_features.get('sim_frac_reply_content', 0)\n",
        "    jaccard_content = interplay_features.get('jaccard_content', 0)\n",
        "    op_frac_stop = interplay_features.get('sim_frac_op_stop', 0)\n",
        "    reply_frac_all = interplay_features.get('sim_frac_reply_all', 0)\n",
        "\n",
        "    # Apply their findings (↓↓↓↓ means negative correlation, ↑↑↑↑ means positive)\n",
        "    score = 0\n",
        "\n",
        "    # Strongest predictor: less content word similarity → more persuasive\n",
        "    score += (1 - reply_frac_content) * 0.4  # Weight of 0.4 for strongest predictor\n",
        "\n",
        "    # Less content overlap → more persuasive\n",
        "    score += (1 - jaccard_content) * 0.3     # Weight of 0.3\n",
        "\n",
        "    # More stopword similarity → more persuasive\n",
        "    score += op_frac_stop * 0.2              # Weight of 0.2\n",
        "\n",
        "    # Less overall similarity → more persuasive\n",
        "    score += (1 - reply_frac_all) * 0.1      # Weight of 0.1\n",
        "\n",
        "    return score"
      ],
      "metadata": {
        "id": "tJoU24EMoBd6"
      },
      "id": "tJoU24EMoBd6",
      "execution_count": 15,
      "outputs": []
    },
    {
      "metadata": {
        "colab": {
          "base_uri": "https://localhost:8080/",
          "height": 0
        },
        "id": "1d9c6199351dc388",
        "outputId": "d3d34172-293b-410b-b948-808e20ca416b"
      },
      "cell_type": "code",
      "outputs": [
        {
          "output_type": "stream",
          "name": "stdout",
          "text": [
            "========================================================================================================================================================================================================================================================================================================================================================================================================================================================================================================================================================================================================================================================================================================================================================================================================================================================================================================================================================================================================================================\n",
            "\n",
            "op: c344ch2\n",
            "\n",
            "========================================================================================================================================================================================================================================================================================================================================================================================================================================================================================================================================================================================================================================================================================================================================================================================================================================================================================================================================================================================================================================\n",
            "\n",
            "op: c344cv7\n",
            "\n",
            "========================================================================================================================================================================================================================================================================================================================================================================================================================================================================================================================================================================================================================================================================================================================================================================================================================================================================================================================================================================================================================================\n",
            "\n",
            "op: c344lkp\n",
            "\n",
            "========================================================================================================================================================================================================================================================================================================================================================================================================================================================================================================================================================================================================================================================================================================================================================================================================================================================================================================================================================================================================================================\n",
            "\n",
            "op: c3443ch\n",
            "\n",
            "path: theratking862_path_0, utterances: ['some people don\\'t have time to drop their work and start getting involved locally. I don\\'t think it\\'s unethical or lazy to \"change teams\" if living in your current country is unsatisfactory to you. Obviously trying to change the system from within is a choice, but so is leaving for greener pastures. \\n\\nLaziness would be complaining about your country without doing *anything*. At least he\\'s taking action. ']\n",
            "\n",
            "path: repmack_path_0, utterances: [\"&gt;some people don't have time to drop their work and start getting involved locally.\\n\\nBut they have time to move to a whole new country?\\n\"]\n",
            "\n",
            "path: [deleted]_path_1, utterances: ['[deleted]', '[deleted]']\n",
            "\n",
            "path: HardCoreModerate_path_1, utterances: [\"I do not work in politics. I don't think you need to work in politics to create change. He wants to change the direction of politics. That means he must get active. To not do so would be the definition of lazy, would it not? \", \"I think I will have to disagree. If you don't like public policy, but complain about public policy, and instead of doing something about it, would rather just flee, then yes I think that is lazy. \\n\\nEvery generation thinks we are going to hell in a handbasket. That is nothing new. We need to start teaching youth to stop sensationalizing things and instead to analyze them and get involved. I fear that sites like reddit encourage a FOX News-like knee jerk reactive &amp; lazy liberal youth. \\n\\nAlso, you are talking about grassroots movements nationwide, I am talking about getting involved locally. These are 2 different things. Even if he moves abroad, he should be involved locally, and in fact will have to if he will ever have a chance at being involved in national change.\\n\\nChange starts at home. All politics are local. And by the way, you and I probably have different views, as I am NOT an activist and I do not work within the political establishment. I am merely a politically concerned citizen who gets involved and tries to make my voice heard.\"]\n",
            "\n",
            "path: Strawberry_Poptart_path_1, utterances: [\"Voting in local elections has much more impact (in my opinion) than voting in national elections. It's important to vote whenever you can, but elections involving people who directly impact your daily life, like city council, mayor, school board etc. are sometimes decided by as few as 10 votes.\"]\n",
            "\n",
            "path: bluthru_path_2, utterances: [\"&gt;You don't like what is happening but you do not want to put the work in to change it.\\n\\nYou do realize that he exists in this country because his own ancestors were fed up with their country and left, right?  Why would we assume it would always be rosy in the new world?\"]\n",
            "\n",
            "path: AlmostProductive_path_3, utterances: [\"What if the US is too big a target in terms of wealth and power for corrupting forces to take advantage of or rig the system?  Wouldn't that make any attempts to change the country while preserving wealth and power futile?\"]\n",
            "\n",
            "path: theratking862_path_4, utterances: ['some people don\\'t have time to drop their work and start getting involved locally. I don\\'t think it\\'s unethical or lazy to \"change teams\" if living in your current country is unsatisfactory to you. Obviously trying to change the system from within is a choice, but so is leaving for greener pastures. \\n\\nLaziness would be complaining about your country without doing *anything*. At least he\\'s taking action. ']\n",
            "\n",
            "path: HardCoreModerate_path_4, utterances: [\"You have 2 different thoughts here.\\n\\n1) I didn't drop my work to be involved locallly, and neither do you. As you get older and settle into a family, you might find that at least in some small ways you will HAVE to be involved in community at least. But what I have done has not required me to drop my career in IT. I have at times been less active to focus on work, but I always return and build on the contacts I made.\\n\\n2) It is most certainly lazy to change teams. Changing teams requires great effort. So you are telling me you would rather spend a year, and great amount of work and hours to go somewhere else rather than a year and the same amount of hours getting involved locally? I cannot express to you the satisfaction you can gain from spending that year being involved and seeing the things you did have an impact. I guarantee in that timeframe, unless you have been an ass to people, you will be very happy you started being involved. \"]\n",
            "\n",
            "path: BrickSalad_path_4, utterances: [\"However, the satisfaction gained from moving to a new country and spending time getting acquainted with a different culture is also great. I count the times I've studied abroad as my greatest college experiences and even if you move to another country doesn't mean you can't get involved in the politics there (though generally you should wait a year or two because it's not always seen as polite for a complete outsider to meddle in another state's affairs.)\"]\n",
            "\n",
            "path: [deleted]_path_5, utterances: ['[deleted]', '[deleted]', '[deleted]', '[deleted]', '[deleted]']\n",
            "\n",
            "path: HardCoreModerate_path_5, utterances: [\"I do not work in politics. I don't think you need to work in politics to create change. He wants to change the direction of politics. That means he must get active. To not do so would be the definition of lazy, would it not? \", \"I think I will have to disagree. If you don't like public policy, but complain about public policy, and instead of doing something about it, would rather just flee, then yes I think that is lazy. \\n\\nEvery generation thinks we are going to hell in a handbasket. That is nothing new. We need to start teaching youth to stop sensationalizing things and instead to analyze them and get involved. I fear that sites like reddit encourage a FOX News-like knee jerk reactive &amp; lazy liberal youth. \\n\\nAlso, you are talking about grassroots movements nationwide, I am talking about getting involved locally. These are 2 different things. Even if he moves abroad, he should be involved locally, and in fact will have to if he will ever have a chance at being involved in national change.\\n\\nChange starts at home. All politics are local. And by the way, you and I probably have different views, as I am NOT an activist and I do not work within the political establishment. I am merely a politically concerned citizen who gets involved and tries to make my voice heard.\", 'There have also been real and major positive changes socially in the United States over the past 25 years that I think the progressives ignore all too often when they worry about the negatives. Positive lines have been crossed that were never crossed before.\\n\\nChanges in healthcare law, increasingly accepted gays in society, gay partnership and/or gay marriage, more readily available information about your government at your fingertips due to internet and government having to conform to making things available, and that is just to name a few.\\n\\nEconomically, in the past 25 years we have been up (Clinton) and down (now). No doubt there are shitty things happening with economic policy. But this will change. Additionally, we are all dealing with being concerned about increasing draconian laws that could arise in the name of fighting \"terrorism\". Yet, there have been bright spots that have been challenged in court and reaffirmed our constitution. Those don\\'t seem to get play here as much.\\n\\nAs for local involvement and how that relates to bigger things: When I started, I met many people (all local). Recently, one of those people has gone from being a city representative to a state rep. Because I was able to make my connection, my network just became a lot bigger, and so did my ability to have a greater level of involvement. Its just a matter of going to meetings, getting involved and engaging people. I hope that my involvement will some day allow me to be more involved nationally as well.', 'I agree, we do probably agree on a great many things.\\n\\n&gt;&gt; I still don\\'t think it\\'s my place to judge someone who is not interested in doing that as \"lazy\\n\\nI also agree, someone who doesn\\'t want to get involved shouldn\\'t be labeled as lazy. However, when I hear a college kid say he doesn\\'t like where things are at, but doesn\\'t want to get involved and instead just wants to quit and move away, it worries me. It speaks to what I hope is not a generational attitude of laziness. How will he deal with other problems that face him in life that seem \"too big\"?', 'Lets be clear, we are all (not just the young generation) facing a tough job market. This job market looked this way in 2001 as well. It is not the first time, nor the last. And, as one astute redditor pointed out (I apologize for not having a link) the baby boom generation is leaving the workforce, which, over the course of the next decade will create a fantastic boom &amp; great job demand. \\n\\nAs for crushing debt, I disagree that every student faces crushing debt.  I think some have taken bad loans because their parents and teachers failed them. But if all you did was utilize the federal loan program available, then you aren\\'t in crushing debt. I think some cases have been blown out of proportion and shame on the students and parents, for agreeing to debt terms such as those. \\n\\nThe amount of actual OWS protesters was a minority of the youth in this country, a mere fraction of them. I can\\'t say I agreed with the OWS protest tactics or lack of message, but if I was a college kid I would have certainly been out there with them. It remains a great mystery to me why more kids didn\\'t get active if things are as bad young redditors portray them to be? To me it really does speak to the generational laziness... \"lets post online about it rather then get out and do something.\"']\n",
            "\n",
            "path: GeneraLeeStoned_path_5, utterances: ['&gt;but if I was a college kid I would have certainly been out there with them.\\n\\nI went to the protest in my city. It was shockingly NOT college kids. The average age was probably around 35']\n",
            "\n",
            "path: [deleted]_path_6, utterances: ['[deleted]', '[deleted]', '[deleted]', '[deleted]', '[deleted]', '[deleted]']\n",
            "\n",
            "path: HardCoreModerate_path_6, utterances: [\"I do not work in politics. I don't think you need to work in politics to create change. He wants to change the direction of politics. That means he must get active. To not do so would be the definition of lazy, would it not? \", \"I think I will have to disagree. If you don't like public policy, but complain about public policy, and instead of doing something about it, would rather just flee, then yes I think that is lazy. \\n\\nEvery generation thinks we are going to hell in a handbasket. That is nothing new. We need to start teaching youth to stop sensationalizing things and instead to analyze them and get involved. I fear that sites like reddit encourage a FOX News-like knee jerk reactive &amp; lazy liberal youth. \\n\\nAlso, you are talking about grassroots movements nationwide, I am talking about getting involved locally. These are 2 different things. Even if he moves abroad, he should be involved locally, and in fact will have to if he will ever have a chance at being involved in national change.\\n\\nChange starts at home. All politics are local. And by the way, you and I probably have different views, as I am NOT an activist and I do not work within the political establishment. I am merely a politically concerned citizen who gets involved and tries to make my voice heard.\", 'There have also been real and major positive changes socially in the United States over the past 25 years that I think the progressives ignore all too often when they worry about the negatives. Positive lines have been crossed that were never crossed before.\\n\\nChanges in healthcare law, increasingly accepted gays in society, gay partnership and/or gay marriage, more readily available information about your government at your fingertips due to internet and government having to conform to making things available, and that is just to name a few.\\n\\nEconomically, in the past 25 years we have been up (Clinton) and down (now). No doubt there are shitty things happening with economic policy. But this will change. Additionally, we are all dealing with being concerned about increasing draconian laws that could arise in the name of fighting \"terrorism\". Yet, there have been bright spots that have been challenged in court and reaffirmed our constitution. Those don\\'t seem to get play here as much.\\n\\nAs for local involvement and how that relates to bigger things: When I started, I met many people (all local). Recently, one of those people has gone from being a city representative to a state rep. Because I was able to make my connection, my network just became a lot bigger, and so did my ability to have a greater level of involvement. Its just a matter of going to meetings, getting involved and engaging people. I hope that my involvement will some day allow me to be more involved nationally as well.', 'I agree, we do probably agree on a great many things.\\n\\n&gt;&gt; I still don\\'t think it\\'s my place to judge someone who is not interested in doing that as \"lazy\\n\\nI also agree, someone who doesn\\'t want to get involved shouldn\\'t be labeled as lazy. However, when I hear a college kid say he doesn\\'t like where things are at, but doesn\\'t want to get involved and instead just wants to quit and move away, it worries me. It speaks to what I hope is not a generational attitude of laziness. How will he deal with other problems that face him in life that seem \"too big\"?', 'Lets be clear, we are all (not just the young generation) facing a tough job market. This job market looked this way in 2001 as well. It is not the first time, nor the last. And, as one astute redditor pointed out (I apologize for not having a link) the baby boom generation is leaving the workforce, which, over the course of the next decade will create a fantastic boom &amp; great job demand. \\n\\nAs for crushing debt, I disagree that every student faces crushing debt.  I think some have taken bad loans because their parents and teachers failed them. But if all you did was utilize the federal loan program available, then you aren\\'t in crushing debt. I think some cases have been blown out of proportion and shame on the students and parents, for agreeing to debt terms such as those. \\n\\nThe amount of actual OWS protesters was a minority of the youth in this country, a mere fraction of them. I can\\'t say I agreed with the OWS protest tactics or lack of message, but if I was a college kid I would have certainly been out there with them. It remains a great mystery to me why more kids didn\\'t get active if things are as bad young redditors portray them to be? To me it really does speak to the generational laziness... \"lets post online about it rather then get out and do something.\"']\n",
            "\n",
            "path: themattmo_path_7, utterances: ['i think its ludicrous to call doing something in the more efficient way \"lazy\"\\n\\nif i want to live in a liberal country i have to make my current country liberal? rather than just go to an existing liberal country and live there?\\n\\nthis argument is the equivalent of saying \"people who buy [any food item] are lazy, they should make their [any food item] from scratch.\"\\nSo judging by you attitude towards politics, you must make everything you eat from scratch. \\n\\n\\nThough you probably don\\'t, because you don\\'t want to dedicate that amount of time to cooking, which is likely not something you particularly enjoy. --this is how a lot of people feel about politics. why waste all my time fighting for change when its already happened over there?\\n\\nthis is not a lazy thought, everyone has this thought everytime they buy something instead of make it. \\n\\nyou said in one of your comments that you could either take a year to move to another country or a year to effect change locally. thats a nice sentiment but if i went from here to iceland thats a major change, but the amount of change i could personally create in a year is obviously incredibly smaller.(this is where the efficiency difference is most obvious)\\n\\nIf you had said that moving to a different country is less-than-patriotic or is a failure on the person to perform their civic duty, i wouldn\\'t have said anything, but lazy is simply an invalid argument for this.']\n",
            "\n",
            "path: HardCoreModerate_path_7, utterances: ['&gt;i think its ludicrous to call doing something in the more efficient way \"lazy\"\\n\\nHypothesis: I dislike the political situation in my country\\nSolution: move from my country\\n\\nAs you can see... the solution does not address the original problem at all. It avoids it. I agree, avoiding problems is more efficient, but it doesn\\'t solve them. \\n\\nAs I said in another thread, what sort of response do you think you will get when you post this sort of question to a political discussion forum?\\n\\nMany of us are in this specific subreddit to talk about politics, and talk about change, not run away from it. ']\n",
            "\n",
            "path: schnuffs_path_7, utterances: ['&gt;As you can see... the solution does not address the original problem at all. It avoids it. I agree, avoiding problems is more efficient, but it doesn\\'t solve them.\\n\\nBut you\\'re assuming that his problem isn\\'t how he\\'s personally being affected by his government. It\\'s really no different than moving to another city for better employment opportunities. Or how about all the immigrants who came over from the old country for better opportunities? Were they just as guilty of \"avoiding the problem?\" Or were they just acting pragmatically within their best interests?\\n']\n",
            "\n",
            "path: me_at_work_path_8, utterances: [\"so, you run a small business and you already have facilities.  you've done very well, despite the economy and you've decided you've got $X to put into increasing your capacity and your demand calls for tripple capacity.  for your dollars, you could purchase and staff a store expansion that increases your capacity 1.5X's, or you could purchase and staff a facility down the road for the same dollars and have 2X capacity.  either way you don't get to your full potential, but it would be silly not to move to the new facility.\\n\\nhe's not getting what he wants from government.  he could spend his efforts changing our government to be a little closer to his, or he could spend them moving to a place that already does more of what he would want.  neither option gives him everything he wants, but it's silly to settle if theres a better option.  you coudl contest that moving is not a better option, but thats not what you're doing.  \\n\\n\\nalso, you said further down the thread ...\\n\\n&gt;It is most certainly lazy to change teams. Changing teams requires great effort.\\n\\ngotta pick one.\"]\n",
            "\n",
            "path: [deleted]_path_9, utterances: ['[deleted]', '[deleted]', '[deleted]']\n",
            "\n",
            "path: HardCoreModerate_path_9, utterances: [\"I do not work in politics. I don't think you need to work in politics to create change. He wants to change the direction of politics. That means he must get active. To not do so would be the definition of lazy, would it not? \", \"I think I will have to disagree. If you don't like public policy, but complain about public policy, and instead of doing something about it, would rather just flee, then yes I think that is lazy. \\n\\nEvery generation thinks we are going to hell in a handbasket. That is nothing new. We need to start teaching youth to stop sensationalizing things and instead to analyze them and get involved. I fear that sites like reddit encourage a FOX News-like knee jerk reactive &amp; lazy liberal youth. \\n\\nAlso, you are talking about grassroots movements nationwide, I am talking about getting involved locally. These are 2 different things. Even if he moves abroad, he should be involved locally, and in fact will have to if he will ever have a chance at being involved in national change.\\n\\nChange starts at home. All politics are local. And by the way, you and I probably have different views, as I am NOT an activist and I do not work within the political establishment. I am merely a politically concerned citizen who gets involved and tries to make my voice heard.\", 'There have also been real and major positive changes socially in the United States over the past 25 years that I think the progressives ignore all too often when they worry about the negatives. Positive lines have been crossed that were never crossed before.\\n\\nChanges in healthcare law, increasingly accepted gays in society, gay partnership and/or gay marriage, more readily available information about your government at your fingertips due to internet and government having to conform to making things available, and that is just to name a few.\\n\\nEconomically, in the past 25 years we have been up (Clinton) and down (now). No doubt there are shitty things happening with economic policy. But this will change. Additionally, we are all dealing with being concerned about increasing draconian laws that could arise in the name of fighting \"terrorism\". Yet, there have been bright spots that have been challenged in court and reaffirmed our constitution. Those don\\'t seem to get play here as much.\\n\\nAs for local involvement and how that relates to bigger things: When I started, I met many people (all local). Recently, one of those people has gone from being a city representative to a state rep. Because I was able to make my connection, my network just became a lot bigger, and so did my ability to have a greater level of involvement. Its just a matter of going to meetings, getting involved and engaging people. I hope that my involvement will some day allow me to be more involved nationally as well.', \"our own government has spied on citizens longer than in 2011. Citizens in civil rights were routine spied upon in the 60s... the NSA has been around a lot longer than 12 years. Do you know what the difference is (and this is an important one and a positive one) We are now MORE aware than ever before. It may seem improbable, but that awareness will cause us to move in the right direction. Things aren't under wraps anymore. \\n\\nThe last thing we need is hyperbole. We are no where near North Korea.  Also had you read closely the comments that have been made about these sensationalized headlines on reddit about citizens getting no trials, you would see that this was false, and that there have already been supreme court cases that have struck down and such attempts.\"]\n",
            "\n",
            "path: GeneraLeeStoned_path_9, utterances: ['&gt;Additionally, we are all dealing with being concerned about increasing draconian laws that could arise in the name of fighting \"terrorism\".\\n\\nthis makes me think,\\n\\nif you had told me, 12 years ago, that in 2011, we would have our own government spying on citizens, taping our phones, placing GPS on our cars without our knowledge, detaining \"enemy combatants\" and now possibly even citizens indefinitely with no trial, I would have laughed at you. It\\'s so fucking frightening. In another 5 years I feel like we\\'re going to be half way to north korea. ']\n",
            "\n",
            "path: GeneraLeeStoned_path_10, utterances: [\"The problem isn't lazy people not wanting to change things. It's that the problem of the country is that many of the PEOPLE are allowing, nay, even PUSHING the country over the edge. You can't change a country when millions of people don't *want* it to change. \\n\\nLook at the whole health care debate. How many dumb fucks were against health care coverage for everyone? How is that not a basic human right? How do they not see that the system is absolutely fucked? They *fought* to keep it!! If that's what we're up against, I'm ready to move too. \\n\\nThe problem isn't that we're too lazy to fight, it's that the fight is literally futile. Maybe in 20 years things will be better. \", 'I agree that liberals have been winning the long term war, certainly. I mean, to put it bluntly, conservatism is simply stupid. But conservatives are digging in their heels with major money behind them. \\n\\nAbortions are starting to become more limited. Coming up with new laws about exact specifications of the clinics, otherwise they get shut down (ie: the air temperature, wtf). I mean, the fact that we\\'re still having the debate is what\\'s terrifying. \\n\\nI don\\'t ignore what\\'s been done, I admit a lot *has* been done. But I don\\'t even feel like we\\'re to the middle. The fact that we still have to have debates to treat gay people like regular citizens is the problem. I feel like we\\'ve gone up a hill pretty quickly, but now we\\'re slowing down. \\n\\nNo one is \"teaching\" me anything. I\\'m simply observing what\\'s going on. I just see the US becoming more and more totalitarian every year and it makes me want to move to a free country. You can\\'t deny the US is certainly closer to north korea practices than say over a decade ago. I really don\\'t feel \"free\". I feel like this country has become an Orwellian novel. \\n\\nTo be honest, I\\'m actually shocked that OWS is taking place. And yet, I still feel the outrage isn\\'t enough. More people are outraged over a dead blond girl they never knew, rather than corporations literally buying politicians and laws to further their own interests. \\n\\nIn 20 years, many of the older conservative people in this country will have died off. I know every generation says \"we will be the different generation\". But I do truly feel that this generation *will* be different, and for one major reason. The internet. As the saying goes, education has a liberal bias. When kids are growing up with the internet, seeing both sides of the argument, conservatism loses. We\\'ve never had information accessible like this before. It\\'s the old people who only watch fox news who continue to hold us back. \\n\\nedit: also a couple more things. \\n\\nThe healthcare bill that was passed, disappointed most liberals like myself. And I really can\\'t figure out why conservatives are mad about it. It didn\\'t do hardly anything. I literally don\\'t know what else you could do to make it a weaker bill. We need *reform* not a tiny bill that covers more people. \\n\\nAlso, it seems europe and asia are the place to be now. US is on the way out. I really feel that way. Instead of trying to reform and fix out education system, they\\'re talking about cutting it. We\\'re doing nothing to fix our broken infrastructure. We have so much money in this country, and it just goes to waste. We talk and talk and talk about doing something every election, and nothing ever gets done. This country really hasn\\'t made actual progress since FDR. When a country like the czech republic (not that there\\'s anything wrong with CR) over takes the US in many areas, something is seriously, seriously wrong. ', 'Let me affirm my tone here, I am not trying to \"debate\" anything with you. Simply a rational, calm discussion of viewpoints. \\n\\nDon\\'t misconstrue what I\\'m saying. It\\'s not like I watch only MSNBC and believe every word of every sensationalist headline. I too am immediately skeptical of anything that seems, well, \\'fishy\\'. I too immediately click the comments on many reddit submissions and see many top comments directly contradicting what the article headline says. I appreciate this. \\n\\nIronically I am certainly labeled as a \"far left winger\", but in my view, I don\\'t see myself as far left wing at all really. I would say my views are mostly moderate/heavily left leaning. It\\'s just that this country is so far to the *right*, that it makes people like me seem extreme, when I think my views are quite sensible (such as how I think everyone living in this country should have access to affordable healthcare, how extreme right?). I also think we should be trying to get off oil as soon as possible, we are FAR over due for that. Yet many conservatives label me as far left wing. I mean, ideally how great would it be for everyone to have electric cars, charged by solar panels on their own house? Yet somehow that totally sensible idea makes me a hippy. \\n\\n&gt;Yes I can deny that. That is not factual in any way. Please tell me in what ways specifically this has occurred? \\n\\nI already listed a few. Whole agencies dedicated to taping and recording millions of phone calls, emails, text messages sent *domestically*, from every day citizens. No warrant needed. Where is the outrage? No one cares, including yourself it seems. I\\'m assumed to be a terrorist when I go to the airport. Yes we need safety, but the TSA (as reddit loves to point out) is literally just security theater. How many bomb plots have they stopped? None? As soon as a terrorist puts a bomb up their ass, we\\'ll probably have anal probing at check in. I wish I was being sarcastic (I also never would have thought we would have full body scanners, but alas, the underwear bomber). The TSA is simply knee jerk reactionary to anything that happens. It\\'s useless. \\n\\nWe\\'re also detaining \"enemy combatants\" with no trial, indefinitely. That is literally about the most \"unamerican\" thing you could ever do. That\\'s exactly what the founding fathers wanted to protect against. But it seems the leaders of the US are simply just trying to find little ways around their intentions. \"Oh, they aren\\'t US citizens, it\\'s ok\" -they\\'re still people. It\\'s despicable. \\n\\nAgree or disagree with OWS, the actions that have been taken against them are unbelievable. It\\'s really, really hard to defend the police and say they have our best interests. They simply don\\'t. If they did, they would join us. Instead the just beat down citizens. They\\'re literally corporate mercenaries. ']\n",
            "\n",
            "path: HardCoreModerate_path_10, utterances: ['I think, GeneraLeeStoned, you are feeding into the super liberal hyped headlines of reddit the way that the right wing feeds into the super conservative hyped headlines of Fox news. Might I suggest you take both with huge grains of salt and look more closely at what is going on and why today is no different than many other times in our country\\'s history. \\n\\nBoth sides are pushing, and frankly the liberal side has been winning many debates in the last few decades. Look at how some healthcare reform was actually passed? Look at how much more accepted gays &amp; lesbians are now. Some states have legal marriage or at least partnership laws in place. Abortions are more readily available than they were 20 years ago. Information on your government is more readily available than it was 20 years ago, at your fingertips, online! \\n\\nThe tendency, it seems, of the young liberals on reddit, is to scream about whats wrong and how its impossible to change it. This seems insane to me. You have A) ignored the progress that has been made and B) you are actually giving up without a fight to create more progress.\\n\\nWHY? what is causing this? Who is teaching you this absolute crap? And how, in the world, will things get \"better\" in \"20 years\" if YOU and the youth of America don\\'t stand up and help make them better instead of saying that its futile and there is nothing that can be done?? ', '&gt;I agree that liberals have been winning the long term war, certainly. I mean, to put it bluntly, conservatism is simply stupid. But conservatives are digging in their heels with major money behind them.\\n\\nYou, my friend, do not seem to be aware that in the world there needs to be a yin and a yang. Were we to be devoid of conservatism, then liberalism would be run amok, and that would be a bad thing (believe it or not). We need some people with some conservative ideas. Mind you, I am thinking of traditional conservatives, not right wing fanatics. We need neither right wing nor left wing fanatics in this country. For my tastes, this particular site has one too many left wing fanatics that are whipping people like yourself up into believing that we are worse than we really are. That is how politics works, factions make you afraid in order for you to accept their ideology. I don\\'t respond to nor do I respect any politics driven by fear. \\n\\n&gt;Abortions are starting to become more limited. Coming up with new laws about exact specifications of the clinics, otherwise they get shut down (ie: the air temperature, wtf).\\n\\nWhere? how? some very limited states perhaps, but on the whole, big picture, they are more available now than they were before. You can\\'t focus on every skirmish, you need to see the big picture, the war is being won on that front, and in fact it is doubtful that it can ever go backwards. \\n\\n&gt; I mean, the fact that we\\'re still having the debate is what\\'s terrifying.\\n\\nNo, the fact that we are still having a debate is wonderful, its exciting, it means that the minority of this country (who want abortions illegal) are not subject to tyranny from the majority. That is a good thing. That means that when YOU voice a minority opinion you will not be subject to tyranny either. There are people who still are racist, and speak their racists views every day. Does that mean we are going backwards? Hardly, it just means that we have freedom of speech.\\n\\n&gt; I don\\'t ignore what\\'s been done, I admit a lot has been done. But I don\\'t even feel like we\\'re to the middle. The fact that we still have to have debates to treat gay people like regular citizens is the problem. I feel like we\\'ve gone up a hill pretty quickly, but now we\\'re slowing down.\\n\\nThe middle? What is the middle? Politics evolve every year, every decade, every century. We are in a never ending process of change. There is no middle, there is then and there is now. Are we better now than we were then? If the answer is no on a particular issue then we are losing the battle of improvement in this country. My argument is that, on the whole, we are a lot better now than we were then, and you can pick almost any \"then\" you want. There are some exceptions to that, and thats where we need to improve. Economy is a big issue that stands out in my mind at the moment.\\n\\n&gt;No one is \"teaching\" me anything. I\\'m simply observing what\\'s going on. I just see the US becoming more and more totalitarian every year and it makes me want to move to a free country. \\n\\nThen you are seeing things incorrectly. I would argue you have no sense of where you are in history. I would also argue that you do not know what totalitarian means. In short, you still live in one of the most free places in the world. A\\n\\n&gt;You can\\'t deny the US is certainly closer to north korea practices than say over a decade ago.\\n\\nYes I can deny that. That is not factual in any way. Please tell me in what ways specifically this has occurred? \\n\\n&gt;I really don\\'t feel \"free\". I feel like this country has become an Orwellian novel.\\n\\nYou do not feel that way because you consume, by and large, alarmist left wing media. There are people on the right who only consume alarmist right wing media and they are just as manipulated into believing false things about our country. This is what political factions want in this country. This is why they control our process, because people like you are willing to fall for it, over and over again.\\n\\nI would say... ask... beg... that you come to a new way of thinking: become a Moderate. Not just any moderate, become a hardcore moderate like me. Do you know what defines moderates? The idea that we can take in pieces of information in the media, view all sides and come to a conclusion without listening to the talking points of the left or right wing. Whenever I read a story about something happening, I immediately question it. I reference it, and I put it in context to what has happened previously in the history of our country. \\n\\nI can give you many examples of this, and luckily there are some Redditors who make it their mission to respond to alarmist headlines that appear in places like r/politics to point out where, factually, the alarmism is incorrect.']\n",
            "\n",
            "path: [deleted]_path_11, utterances: ['[deleted]', '[deleted]']\n",
            "\n",
            "path: HardCoreModerate_path_11, utterances: [\"I do not work in politics. I don't think you need to work in politics to create change. He wants to change the direction of politics. That means he must get active. To not do so would be the definition of lazy, would it not? \", \"I think I will have to disagree. If you don't like public policy, but complain about public policy, and instead of doing something about it, would rather just flee, then yes I think that is lazy. \\n\\nEvery generation thinks we are going to hell in a handbasket. That is nothing new. We need to start teaching youth to stop sensationalizing things and instead to analyze them and get involved. I fear that sites like reddit encourage a FOX News-like knee jerk reactive &amp; lazy liberal youth. \\n\\nAlso, you are talking about grassroots movements nationwide, I am talking about getting involved locally. These are 2 different things. Even if he moves abroad, he should be involved locally, and in fact will have to if he will ever have a chance at being involved in national change.\\n\\nChange starts at home. All politics are local. And by the way, you and I probably have different views, as I am NOT an activist and I do not work within the political establishment. I am merely a politically concerned citizen who gets involved and tries to make my voice heard.\"]\n",
            "\n",
            "path: ManiacalV_path_11, utterances: [\"Going through the motions of emigrating, which could include getting a passport, work visa, learning a language, packing and selling your belongings, suffering culture shock, moving away from your family, aren't the actions of a lazy person. These are probably together and potentially more potentially disastrous to a person than working within the system to try and change it.\\n\\nIf you're in an abusive relationship with someone who is stronger, bigger and meaner, you can fight back all you want but you will probably lose, it will probably get worse and eventually it seems hopeless to even try. Sometimes escape is just as hard as fighting but it gives you a sense that you changed your situation. It makes you feel like you were finally able to effect change over your predicament in a way that continuing to get abused never gives. You can feel smug and self-important because you choose to fight the system; this doesn't make you any more motivated than someone who wants to leave the country, it just means you are using your motivation differently.\\n\\nI can agree with the OP at times. I'm not very young, I have a career and a family - I'm not some 20-something college student with a chip on my shoulder. I'm sorely tempted to try and escape the idiotic, fundamentalist, ignorance worshiping and greedy fools that are driving this great country into the dirt. I feel that my vote and my voice are useless against the wall of power and money that had been erected by previous generations as well as a lot of greedy and ignorant peers. Instead of straining against the leash and watching as things dive headlong into the mire, there's a small voice that tells me that I should move forward and do something positive for me and my family. I'm too apathetic, too jaded and too tired to do it. I've pretty much given up on most of the people in this country (and on this planet) and I'm just waiting for the Singularity so I can merge with our robotic overlords.\"]\n",
            "\n",
            "path: theratking862_path_12, utterances: ['some people don\\'t have time to drop their work and start getting involved locally. I don\\'t think it\\'s unethical or lazy to \"change teams\" if living in your current country is unsatisfactory to you. Obviously trying to change the system from within is a choice, but so is leaving for greener pastures. \\n\\nLaziness would be complaining about your country without doing *anything*. At least he\\'s taking action. ', \"I agree with most of your points but I guess it comes down to whether you really want to get involved with your community. Maybe it's the lazy route to leave, but I don't think it's morally wrong if you don't have strong ties to where you are living now.\", \"you don't think one can/should be able to live their lives in peace? They'll have to get involved with the government? \"]\n",
            "\n",
            "path: HardCoreModerate_path_12, utterances: [\"You have 2 different thoughts here.\\n\\n1) I didn't drop my work to be involved locallly, and neither do you. As you get older and settle into a family, you might find that at least in some small ways you will HAVE to be involved in community at least. But what I have done has not required me to drop my career in IT. I have at times been less active to focus on work, but I always return and build on the contacts I made.\\n\\n2) It is most certainly lazy to change teams. Changing teams requires great effort. So you are telling me you would rather spend a year, and great amount of work and hours to go somewhere else rather than a year and the same amount of hours getting involved locally? I cannot express to you the satisfaction you can gain from spending that year being involved and seeing the things you did have an impact. I guarantee in that timeframe, unless you have been an ass to people, you will be very happy you started being involved. \", 'that may be true, but I think whatever community you move to, you will have to be involved, otherwise you will feel disaffected from the process', 'If you are going to complain about the government, then the only choice I can possibly see would be to get involved']\n",
            "\n",
            "path: Strawberry_Poptart_path_13, utterances: [\"Ok, I'll bite.. Link to podcast please?\", \"Great. So far I like your ideas. I'll check it out.\"]\n",
            "\n",
            "path: HardCoreModerate_path_13, utterances: [\"I didn't think anyone would bite lol... \\n\\nhttp://urbannerd.com/category/podcast/\\n\\nwarning: its not all hardcore politics... there's fluff mixed in there too.\"]\n",
            "\n",
            "path: zombieaynrand_path_14, utterances: ['Bullshit.  No one in their goddamn right mind would say to a domestic violence victim: \"hey, you are lazy if you leave.  Stay and work it out whatever it takes, struggle for years if you have to, because leaving means giving up and we can\\'t have that!\". You may say, well, it is different when it\\'s politics, but is it?  The political issues in the united states mean you can be surveilled against your will, imprisoned, or even killed.  Lack of enforcement of safety regulations, inadequate healthcare, etc. Are political problems that can literally kill you.  You can podcast all you want, and if you feel like you are making a difference, good for you...but telling people that it is lazy to leave a country where you can (as I have) suddenly find yourself being intimidated and harassed by riot police simply for taking photos of staging activity, that is absolute bullshit.\\n\\nIt is not just a game any more, where we feel like we could do better and can work to achieve change.  It is a goddamn war and our safety is at stake every day.  If you cannot see that, you must be awfully insulated with your little podcast.']\n",
            "\n",
            "path: HardCoreModerate_path_14, utterances: ['Ya know what then buddy, feel free to leave. With an attitude like yours, we just might be better off without you. ']\n",
            "\n",
            "path: IDontHaveTimeForThis_path_15, utterances: ['Its comments like this that drive me crazy on reddit. I am going to be very honest and tell you that your comment is arrogant.\\n\\nHe wants to move somewhere else because he doesn\\'t like where he lives now. Why is it that this makes him \"lazy\"? You\\'re calling someone \"lazy\" because they choose to approach a problem differently. \\n\\nYour approach is to \"GET INVOLVED LOCALLY,\" as if this will solve his problem, sooner or later.  His approach is to save his energy &amp; just spend his time elsewhere. You can\\'t say that he\\'s \"lazy\" just because he thinks local action is ineffective.\\n\\nFurthermore, what if his contributions in another country instigate an avalanche of change that sweeps the U.S.? You can\\'t rule that out either. The outcome is clearly uncertain &amp; you\\'re far from having a monopoly on the best action. Maybe he\\'s not lazy, maybe he\\'s just smarter than you. ']\n",
            "\n",
            "path: HardCoreModerate_path_15, utterances: ['&gt;You\\'re calling someone \"lazy\" because they choose to approach a problem differently.\\n\\nLets be clear: avoiding the problem is not approaching the problem. I am sorry you think me arrogant, but what sort of response do you think you will get when you post this sort of question to a political discussion forum?\\n\\nMany of us are in this specific subreddit to talk about politics, and talk about change, not run away from it. Also, I have never claimed a monopoly on the best action, just some success with the actions I have taken. ']\n",
            "\n",
            "path: outwrangle_path_15, utterances: ['If he leaves, the problem goes away. Well, for him anyway.']\n",
            "\n",
            "========================================================================================================================================================================================================================================================================================================================================================================================================================================================================================================================================================================================================================================================================================================================================================================================================================================================================================================================================================================================================================================\n",
            "\n",
            "op: c344801\n",
            "\n",
            "path: [deleted]_path_0, utterances: ['[deleted]']\n",
            "\n",
            "path: HardCoreModerate_path_0, utterances: [\"I think I will have to disagree. If you don't like public policy, but complain about public policy, and instead of doing something about it, would rather just flee, then yes I think that is lazy. \\n\\nEvery generation thinks we are going to hell in a handbasket. That is nothing new. We need to start teaching youth to stop sensationalizing things and instead to analyze them and get involved. I fear that sites like reddit encourage a FOX News-like knee jerk reactive &amp; lazy liberal youth. \\n\\nAlso, you are talking about grassroots movements nationwide, I am talking about getting involved locally. These are 2 different things. Even if he moves abroad, he should be involved locally, and in fact will have to if he will ever have a chance at being involved in national change.\\n\\nChange starts at home. All politics are local. And by the way, you and I probably have different views, as I am NOT an activist and I do not work within the political establishment. I am merely a politically concerned citizen who gets involved and tries to make my voice heard.\"]\n",
            "\n",
            "path: Strawberry_Poptart_path_0, utterances: [\"Voting in local elections has much more impact (in my opinion) than voting in national elections. It's important to vote whenever you can, but elections involving people who directly impact your daily life, like city council, mayor, school board etc. are sometimes decided by as few as 10 votes.\"]\n",
            "\n",
            "path: [deleted]_path_1, utterances: ['[deleted]', '[deleted]', '[deleted]', '[deleted]']\n",
            "\n",
            "path: HardCoreModerate_path_1, utterances: [\"I think I will have to disagree. If you don't like public policy, but complain about public policy, and instead of doing something about it, would rather just flee, then yes I think that is lazy. \\n\\nEvery generation thinks we are going to hell in a handbasket. That is nothing new. We need to start teaching youth to stop sensationalizing things and instead to analyze them and get involved. I fear that sites like reddit encourage a FOX News-like knee jerk reactive &amp; lazy liberal youth. \\n\\nAlso, you are talking about grassroots movements nationwide, I am talking about getting involved locally. These are 2 different things. Even if he moves abroad, he should be involved locally, and in fact will have to if he will ever have a chance at being involved in national change.\\n\\nChange starts at home. All politics are local. And by the way, you and I probably have different views, as I am NOT an activist and I do not work within the political establishment. I am merely a politically concerned citizen who gets involved and tries to make my voice heard.\", 'There have also been real and major positive changes socially in the United States over the past 25 years that I think the progressives ignore all too often when they worry about the negatives. Positive lines have been crossed that were never crossed before.\\n\\nChanges in healthcare law, increasingly accepted gays in society, gay partnership and/or gay marriage, more readily available information about your government at your fingertips due to internet and government having to conform to making things available, and that is just to name a few.\\n\\nEconomically, in the past 25 years we have been up (Clinton) and down (now). No doubt there are shitty things happening with economic policy. But this will change. Additionally, we are all dealing with being concerned about increasing draconian laws that could arise in the name of fighting \"terrorism\". Yet, there have been bright spots that have been challenged in court and reaffirmed our constitution. Those don\\'t seem to get play here as much.\\n\\nAs for local involvement and how that relates to bigger things: When I started, I met many people (all local). Recently, one of those people has gone from being a city representative to a state rep. Because I was able to make my connection, my network just became a lot bigger, and so did my ability to have a greater level of involvement. Its just a matter of going to meetings, getting involved and engaging people. I hope that my involvement will some day allow me to be more involved nationally as well.', 'I agree, we do probably agree on a great many things.\\n\\n&gt;&gt; I still don\\'t think it\\'s my place to judge someone who is not interested in doing that as \"lazy\\n\\nI also agree, someone who doesn\\'t want to get involved shouldn\\'t be labeled as lazy. However, when I hear a college kid say he doesn\\'t like where things are at, but doesn\\'t want to get involved and instead just wants to quit and move away, it worries me. It speaks to what I hope is not a generational attitude of laziness. How will he deal with other problems that face him in life that seem \"too big\"?', 'Lets be clear, we are all (not just the young generation) facing a tough job market. This job market looked this way in 2001 as well. It is not the first time, nor the last. And, as one astute redditor pointed out (I apologize for not having a link) the baby boom generation is leaving the workforce, which, over the course of the next decade will create a fantastic boom &amp; great job demand. \\n\\nAs for crushing debt, I disagree that every student faces crushing debt.  I think some have taken bad loans because their parents and teachers failed them. But if all you did was utilize the federal loan program available, then you aren\\'t in crushing debt. I think some cases have been blown out of proportion and shame on the students and parents, for agreeing to debt terms such as those. \\n\\nThe amount of actual OWS protesters was a minority of the youth in this country, a mere fraction of them. I can\\'t say I agreed with the OWS protest tactics or lack of message, but if I was a college kid I would have certainly been out there with them. It remains a great mystery to me why more kids didn\\'t get active if things are as bad young redditors portray them to be? To me it really does speak to the generational laziness... \"lets post online about it rather then get out and do something.\"']\n",
            "\n",
            "path: GeneraLeeStoned_path_1, utterances: ['&gt;but if I was a college kid I would have certainly been out there with them.\\n\\nI went to the protest in my city. It was shockingly NOT college kids. The average age was probably around 35']\n",
            "\n",
            "path: [deleted]_path_2, utterances: ['[deleted]', '[deleted]', '[deleted]', '[deleted]', '[deleted]']\n",
            "\n",
            "path: HardCoreModerate_path_2, utterances: [\"I think I will have to disagree. If you don't like public policy, but complain about public policy, and instead of doing something about it, would rather just flee, then yes I think that is lazy. \\n\\nEvery generation thinks we are going to hell in a handbasket. That is nothing new. We need to start teaching youth to stop sensationalizing things and instead to analyze them and get involved. I fear that sites like reddit encourage a FOX News-like knee jerk reactive &amp; lazy liberal youth. \\n\\nAlso, you are talking about grassroots movements nationwide, I am talking about getting involved locally. These are 2 different things. Even if he moves abroad, he should be involved locally, and in fact will have to if he will ever have a chance at being involved in national change.\\n\\nChange starts at home. All politics are local. And by the way, you and I probably have different views, as I am NOT an activist and I do not work within the political establishment. I am merely a politically concerned citizen who gets involved and tries to make my voice heard.\", 'There have also been real and major positive changes socially in the United States over the past 25 years that I think the progressives ignore all too often when they worry about the negatives. Positive lines have been crossed that were never crossed before.\\n\\nChanges in healthcare law, increasingly accepted gays in society, gay partnership and/or gay marriage, more readily available information about your government at your fingertips due to internet and government having to conform to making things available, and that is just to name a few.\\n\\nEconomically, in the past 25 years we have been up (Clinton) and down (now). No doubt there are shitty things happening with economic policy. But this will change. Additionally, we are all dealing with being concerned about increasing draconian laws that could arise in the name of fighting \"terrorism\". Yet, there have been bright spots that have been challenged in court and reaffirmed our constitution. Those don\\'t seem to get play here as much.\\n\\nAs for local involvement and how that relates to bigger things: When I started, I met many people (all local). Recently, one of those people has gone from being a city representative to a state rep. Because I was able to make my connection, my network just became a lot bigger, and so did my ability to have a greater level of involvement. Its just a matter of going to meetings, getting involved and engaging people. I hope that my involvement will some day allow me to be more involved nationally as well.', 'I agree, we do probably agree on a great many things.\\n\\n&gt;&gt; I still don\\'t think it\\'s my place to judge someone who is not interested in doing that as \"lazy\\n\\nI also agree, someone who doesn\\'t want to get involved shouldn\\'t be labeled as lazy. However, when I hear a college kid say he doesn\\'t like where things are at, but doesn\\'t want to get involved and instead just wants to quit and move away, it worries me. It speaks to what I hope is not a generational attitude of laziness. How will he deal with other problems that face him in life that seem \"too big\"?', 'Lets be clear, we are all (not just the young generation) facing a tough job market. This job market looked this way in 2001 as well. It is not the first time, nor the last. And, as one astute redditor pointed out (I apologize for not having a link) the baby boom generation is leaving the workforce, which, over the course of the next decade will create a fantastic boom &amp; great job demand. \\n\\nAs for crushing debt, I disagree that every student faces crushing debt.  I think some have taken bad loans because their parents and teachers failed them. But if all you did was utilize the federal loan program available, then you aren\\'t in crushing debt. I think some cases have been blown out of proportion and shame on the students and parents, for agreeing to debt terms such as those. \\n\\nThe amount of actual OWS protesters was a minority of the youth in this country, a mere fraction of them. I can\\'t say I agreed with the OWS protest tactics or lack of message, but if I was a college kid I would have certainly been out there with them. It remains a great mystery to me why more kids didn\\'t get active if things are as bad young redditors portray them to be? To me it really does speak to the generational laziness... \"lets post online about it rather then get out and do something.\"']\n",
            "\n",
            "path: [deleted]_path_3, utterances: ['[deleted]', '[deleted]']\n",
            "\n",
            "path: HardCoreModerate_path_3, utterances: [\"I think I will have to disagree. If you don't like public policy, but complain about public policy, and instead of doing something about it, would rather just flee, then yes I think that is lazy. \\n\\nEvery generation thinks we are going to hell in a handbasket. That is nothing new. We need to start teaching youth to stop sensationalizing things and instead to analyze them and get involved. I fear that sites like reddit encourage a FOX News-like knee jerk reactive &amp; lazy liberal youth. \\n\\nAlso, you are talking about grassroots movements nationwide, I am talking about getting involved locally. These are 2 different things. Even if he moves abroad, he should be involved locally, and in fact will have to if he will ever have a chance at being involved in national change.\\n\\nChange starts at home. All politics are local. And by the way, you and I probably have different views, as I am NOT an activist and I do not work within the political establishment. I am merely a politically concerned citizen who gets involved and tries to make my voice heard.\", 'There have also been real and major positive changes socially in the United States over the past 25 years that I think the progressives ignore all too often when they worry about the negatives. Positive lines have been crossed that were never crossed before.\\n\\nChanges in healthcare law, increasingly accepted gays in society, gay partnership and/or gay marriage, more readily available information about your government at your fingertips due to internet and government having to conform to making things available, and that is just to name a few.\\n\\nEconomically, in the past 25 years we have been up (Clinton) and down (now). No doubt there are shitty things happening with economic policy. But this will change. Additionally, we are all dealing with being concerned about increasing draconian laws that could arise in the name of fighting \"terrorism\". Yet, there have been bright spots that have been challenged in court and reaffirmed our constitution. Those don\\'t seem to get play here as much.\\n\\nAs for local involvement and how that relates to bigger things: When I started, I met many people (all local). Recently, one of those people has gone from being a city representative to a state rep. Because I was able to make my connection, my network just became a lot bigger, and so did my ability to have a greater level of involvement. Its just a matter of going to meetings, getting involved and engaging people. I hope that my involvement will some day allow me to be more involved nationally as well.', \"our own government has spied on citizens longer than in 2011. Citizens in civil rights were routine spied upon in the 60s... the NSA has been around a lot longer than 12 years. Do you know what the difference is (and this is an important one and a positive one) We are now MORE aware than ever before. It may seem improbable, but that awareness will cause us to move in the right direction. Things aren't under wraps anymore. \\n\\nThe last thing we need is hyperbole. We are no where near North Korea.  Also had you read closely the comments that have been made about these sensationalized headlines on reddit about citizens getting no trials, you would see that this was false, and that there have already been supreme court cases that have struck down and such attempts.\"]\n",
            "\n",
            "path: GeneraLeeStoned_path_3, utterances: ['&gt;Additionally, we are all dealing with being concerned about increasing draconian laws that could arise in the name of fighting \"terrorism\".\\n\\nthis makes me think,\\n\\nif you had told me, 12 years ago, that in 2011, we would have our own government spying on citizens, taping our phones, placing GPS on our cars without our knowledge, detaining \"enemy combatants\" and now possibly even citizens indefinitely with no trial, I would have laughed at you. It\\'s so fucking frightening. In another 5 years I feel like we\\'re going to be half way to north korea. ']\n",
            "\n",
            "path: [deleted]_path_4, utterances: ['[deleted]']\n",
            "\n",
            "path: HardCoreModerate_path_4, utterances: [\"I think I will have to disagree. If you don't like public policy, but complain about public policy, and instead of doing something about it, would rather just flee, then yes I think that is lazy. \\n\\nEvery generation thinks we are going to hell in a handbasket. That is nothing new. We need to start teaching youth to stop sensationalizing things and instead to analyze them and get involved. I fear that sites like reddit encourage a FOX News-like knee jerk reactive &amp; lazy liberal youth. \\n\\nAlso, you are talking about grassroots movements nationwide, I am talking about getting involved locally. These are 2 different things. Even if he moves abroad, he should be involved locally, and in fact will have to if he will ever have a chance at being involved in national change.\\n\\nChange starts at home. All politics are local. And by the way, you and I probably have different views, as I am NOT an activist and I do not work within the political establishment. I am merely a politically concerned citizen who gets involved and tries to make my voice heard.\"]\n",
            "\n",
            "path: ManiacalV_path_4, utterances: [\"Going through the motions of emigrating, which could include getting a passport, work visa, learning a language, packing and selling your belongings, suffering culture shock, moving away from your family, aren't the actions of a lazy person. These are probably together and potentially more potentially disastrous to a person than working within the system to try and change it.\\n\\nIf you're in an abusive relationship with someone who is stronger, bigger and meaner, you can fight back all you want but you will probably lose, it will probably get worse and eventually it seems hopeless to even try. Sometimes escape is just as hard as fighting but it gives you a sense that you changed your situation. It makes you feel like you were finally able to effect change over your predicament in a way that continuing to get abused never gives. You can feel smug and self-important because you choose to fight the system; this doesn't make you any more motivated than someone who wants to leave the country, it just means you are using your motivation differently.\\n\\nI can agree with the OP at times. I'm not very young, I have a career and a family - I'm not some 20-something college student with a chip on my shoulder. I'm sorely tempted to try and escape the idiotic, fundamentalist, ignorance worshiping and greedy fools that are driving this great country into the dirt. I feel that my vote and my voice are useless against the wall of power and money that had been erected by previous generations as well as a lot of greedy and ignorant peers. Instead of straining against the leash and watching as things dive headlong into the mire, there's a small voice that tells me that I should move forward and do something positive for me and my family. I'm too apathetic, too jaded and too tired to do it. I've pretty much given up on most of the people in this country (and on this planet) and I'm just waiting for the Singularity so I can merge with our robotic overlords.\"]\n",
            "\n",
            "========================================================================================================================================================================================================================================================================================================================================================================================================================================================================================================================================================================================================================================================================================================================================================================================================================================================================================================================================================================================================================================\n",
            "\n",
            "op: c3449zr\n",
            "\n",
            "path: BrickSalad_path_0, utterances: [\"However, the satisfaction gained from moving to a new country and spending time getting acquainted with a different culture is also great. I count the times I've studied abroad as my greatest college experiences and even if you move to another country doesn't mean you can't get involved in the politics there (though generally you should wait a year or two because it's not always seen as polite for a complete outsider to meddle in another state's affairs.)\"]\n",
            "\n",
            "path: theratking862_path_1, utterances: [\"I agree with most of your points but I guess it comes down to whether you really want to get involved with your community. Maybe it's the lazy route to leave, but I don't think it's morally wrong if you don't have strong ties to where you are living now.\", \"you don't think one can/should be able to live their lives in peace? They'll have to get involved with the government? \"]\n",
            "\n",
            "path: HardCoreModerate_path_1, utterances: ['that may be true, but I think whatever community you move to, you will have to be involved, otherwise you will feel disaffected from the process', 'If you are going to complain about the government, then the only choice I can possibly see would be to get involved']\n",
            "\n",
            "========================================================================================================================================================================================================================================================================================================================================================================================================================================================================================================================================================================================================================================================================================================================================================================================================================================================================================================================================================================================================================================\n",
            "\n",
            "op: c344k47\n",
            "\n",
            "path: Strawberry_Poptart_path_0, utterances: [\"Voting in local elections has much more impact (in my opinion) than voting in national elections. It's important to vote whenever you can, but elections involving people who directly impact your daily life, like city council, mayor, school board etc. are sometimes decided by as few as 10 votes.\"]\n",
            "\n",
            "path: [deleted]_path_1, utterances: ['[deleted]', '[deleted]', '[deleted]']\n",
            "\n",
            "path: HardCoreModerate_path_1, utterances: ['There have also been real and major positive changes socially in the United States over the past 25 years that I think the progressives ignore all too often when they worry about the negatives. Positive lines have been crossed that were never crossed before.\\n\\nChanges in healthcare law, increasingly accepted gays in society, gay partnership and/or gay marriage, more readily available information about your government at your fingertips due to internet and government having to conform to making things available, and that is just to name a few.\\n\\nEconomically, in the past 25 years we have been up (Clinton) and down (now). No doubt there are shitty things happening with economic policy. But this will change. Additionally, we are all dealing with being concerned about increasing draconian laws that could arise in the name of fighting \"terrorism\". Yet, there have been bright spots that have been challenged in court and reaffirmed our constitution. Those don\\'t seem to get play here as much.\\n\\nAs for local involvement and how that relates to bigger things: When I started, I met many people (all local). Recently, one of those people has gone from being a city representative to a state rep. Because I was able to make my connection, my network just became a lot bigger, and so did my ability to have a greater level of involvement. Its just a matter of going to meetings, getting involved and engaging people. I hope that my involvement will some day allow me to be more involved nationally as well.', 'I agree, we do probably agree on a great many things.\\n\\n&gt;&gt; I still don\\'t think it\\'s my place to judge someone who is not interested in doing that as \"lazy\\n\\nI also agree, someone who doesn\\'t want to get involved shouldn\\'t be labeled as lazy. However, when I hear a college kid say he doesn\\'t like where things are at, but doesn\\'t want to get involved and instead just wants to quit and move away, it worries me. It speaks to what I hope is not a generational attitude of laziness. How will he deal with other problems that face him in life that seem \"too big\"?', 'Lets be clear, we are all (not just the young generation) facing a tough job market. This job market looked this way in 2001 as well. It is not the first time, nor the last. And, as one astute redditor pointed out (I apologize for not having a link) the baby boom generation is leaving the workforce, which, over the course of the next decade will create a fantastic boom &amp; great job demand. \\n\\nAs for crushing debt, I disagree that every student faces crushing debt.  I think some have taken bad loans because their parents and teachers failed them. But if all you did was utilize the federal loan program available, then you aren\\'t in crushing debt. I think some cases have been blown out of proportion and shame on the students and parents, for agreeing to debt terms such as those. \\n\\nThe amount of actual OWS protesters was a minority of the youth in this country, a mere fraction of them. I can\\'t say I agreed with the OWS protest tactics or lack of message, but if I was a college kid I would have certainly been out there with them. It remains a great mystery to me why more kids didn\\'t get active if things are as bad young redditors portray them to be? To me it really does speak to the generational laziness... \"lets post online about it rather then get out and do something.\"']\n",
            "\n",
            "path: GeneraLeeStoned_path_1, utterances: ['&gt;but if I was a college kid I would have certainly been out there with them.\\n\\nI went to the protest in my city. It was shockingly NOT college kids. The average age was probably around 35']\n",
            "\n",
            "path: [deleted]_path_2, utterances: ['[deleted]', '[deleted]', '[deleted]', '[deleted]']\n",
            "\n",
            "path: HardCoreModerate_path_2, utterances: ['There have also been real and major positive changes socially in the United States over the past 25 years that I think the progressives ignore all too often when they worry about the negatives. Positive lines have been crossed that were never crossed before.\\n\\nChanges in healthcare law, increasingly accepted gays in society, gay partnership and/or gay marriage, more readily available information about your government at your fingertips due to internet and government having to conform to making things available, and that is just to name a few.\\n\\nEconomically, in the past 25 years we have been up (Clinton) and down (now). No doubt there are shitty things happening with economic policy. But this will change. Additionally, we are all dealing with being concerned about increasing draconian laws that could arise in the name of fighting \"terrorism\". Yet, there have been bright spots that have been challenged in court and reaffirmed our constitution. Those don\\'t seem to get play here as much.\\n\\nAs for local involvement and how that relates to bigger things: When I started, I met many people (all local). Recently, one of those people has gone from being a city representative to a state rep. Because I was able to make my connection, my network just became a lot bigger, and so did my ability to have a greater level of involvement. Its just a matter of going to meetings, getting involved and engaging people. I hope that my involvement will some day allow me to be more involved nationally as well.', 'I agree, we do probably agree on a great many things.\\n\\n&gt;&gt; I still don\\'t think it\\'s my place to judge someone who is not interested in doing that as \"lazy\\n\\nI also agree, someone who doesn\\'t want to get involved shouldn\\'t be labeled as lazy. However, when I hear a college kid say he doesn\\'t like where things are at, but doesn\\'t want to get involved and instead just wants to quit and move away, it worries me. It speaks to what I hope is not a generational attitude of laziness. How will he deal with other problems that face him in life that seem \"too big\"?', 'Lets be clear, we are all (not just the young generation) facing a tough job market. This job market looked this way in 2001 as well. It is not the first time, nor the last. And, as one astute redditor pointed out (I apologize for not having a link) the baby boom generation is leaving the workforce, which, over the course of the next decade will create a fantastic boom &amp; great job demand. \\n\\nAs for crushing debt, I disagree that every student faces crushing debt.  I think some have taken bad loans because their parents and teachers failed them. But if all you did was utilize the federal loan program available, then you aren\\'t in crushing debt. I think some cases have been blown out of proportion and shame on the students and parents, for agreeing to debt terms such as those. \\n\\nThe amount of actual OWS protesters was a minority of the youth in this country, a mere fraction of them. I can\\'t say I agreed with the OWS protest tactics or lack of message, but if I was a college kid I would have certainly been out there with them. It remains a great mystery to me why more kids didn\\'t get active if things are as bad young redditors portray them to be? To me it really does speak to the generational laziness... \"lets post online about it rather then get out and do something.\"']\n",
            "\n",
            "path: [deleted]_path_3, utterances: ['[deleted]']\n",
            "\n",
            "path: HardCoreModerate_path_3, utterances: ['There have also been real and major positive changes socially in the United States over the past 25 years that I think the progressives ignore all too often when they worry about the negatives. Positive lines have been crossed that were never crossed before.\\n\\nChanges in healthcare law, increasingly accepted gays in society, gay partnership and/or gay marriage, more readily available information about your government at your fingertips due to internet and government having to conform to making things available, and that is just to name a few.\\n\\nEconomically, in the past 25 years we have been up (Clinton) and down (now). No doubt there are shitty things happening with economic policy. But this will change. Additionally, we are all dealing with being concerned about increasing draconian laws that could arise in the name of fighting \"terrorism\". Yet, there have been bright spots that have been challenged in court and reaffirmed our constitution. Those don\\'t seem to get play here as much.\\n\\nAs for local involvement and how that relates to bigger things: When I started, I met many people (all local). Recently, one of those people has gone from being a city representative to a state rep. Because I was able to make my connection, my network just became a lot bigger, and so did my ability to have a greater level of involvement. Its just a matter of going to meetings, getting involved and engaging people. I hope that my involvement will some day allow me to be more involved nationally as well.', \"our own government has spied on citizens longer than in 2011. Citizens in civil rights were routine spied upon in the 60s... the NSA has been around a lot longer than 12 years. Do you know what the difference is (and this is an important one and a positive one) We are now MORE aware than ever before. It may seem improbable, but that awareness will cause us to move in the right direction. Things aren't under wraps anymore. \\n\\nThe last thing we need is hyperbole. We are no where near North Korea.  Also had you read closely the comments that have been made about these sensationalized headlines on reddit about citizens getting no trials, you would see that this was false, and that there have already been supreme court cases that have struck down and such attempts.\"]\n",
            "\n",
            "path: GeneraLeeStoned_path_3, utterances: ['&gt;Additionally, we are all dealing with being concerned about increasing draconian laws that could arise in the name of fighting \"terrorism\".\\n\\nthis makes me think,\\n\\nif you had told me, 12 years ago, that in 2011, we would have our own government spying on citizens, taping our phones, placing GPS on our cars without our knowledge, detaining \"enemy combatants\" and now possibly even citizens indefinitely with no trial, I would have laughed at you. It\\'s so fucking frightening. In another 5 years I feel like we\\'re going to be half way to north korea. ']\n",
            "\n",
            "path: ManiacalV_path_4, utterances: [\"Going through the motions of emigrating, which could include getting a passport, work visa, learning a language, packing and selling your belongings, suffering culture shock, moving away from your family, aren't the actions of a lazy person. These are probably together and potentially more potentially disastrous to a person than working within the system to try and change it.\\n\\nIf you're in an abusive relationship with someone who is stronger, bigger and meaner, you can fight back all you want but you will probably lose, it will probably get worse and eventually it seems hopeless to even try. Sometimes escape is just as hard as fighting but it gives you a sense that you changed your situation. It makes you feel like you were finally able to effect change over your predicament in a way that continuing to get abused never gives. You can feel smug and self-important because you choose to fight the system; this doesn't make you any more motivated than someone who wants to leave the country, it just means you are using your motivation differently.\\n\\nI can agree with the OP at times. I'm not very young, I have a career and a family - I'm not some 20-something college student with a chip on my shoulder. I'm sorely tempted to try and escape the idiotic, fundamentalist, ignorance worshiping and greedy fools that are driving this great country into the dirt. I feel that my vote and my voice are useless against the wall of power and money that had been erected by previous generations as well as a lot of greedy and ignorant peers. Instead of straining against the leash and watching as things dive headlong into the mire, there's a small voice that tells me that I should move forward and do something positive for me and my family. I'm too apathetic, too jaded and too tired to do it. I've pretty much given up on most of the people in this country (and on this planet) and I'm just waiting for the Singularity so I can merge with our robotic overlords.\"]\n",
            "\n",
            "========================================================================================================================================================================================================================================================================================================================================================================================================================================================================================================================================================================================================================================================================================================================================================================================================================================================================================================================================================================================================================================\n",
            "\n",
            "op: c344x1d\n",
            "\n",
            "path: [deleted]_path_0, utterances: ['[deleted]', '[deleted]']\n",
            "\n",
            "path: HardCoreModerate_path_0, utterances: ['I agree, we do probably agree on a great many things.\\n\\n&gt;&gt; I still don\\'t think it\\'s my place to judge someone who is not interested in doing that as \"lazy\\n\\nI also agree, someone who doesn\\'t want to get involved shouldn\\'t be labeled as lazy. However, when I hear a college kid say he doesn\\'t like where things are at, but doesn\\'t want to get involved and instead just wants to quit and move away, it worries me. It speaks to what I hope is not a generational attitude of laziness. How will he deal with other problems that face him in life that seem \"too big\"?', 'Lets be clear, we are all (not just the young generation) facing a tough job market. This job market looked this way in 2001 as well. It is not the first time, nor the last. And, as one astute redditor pointed out (I apologize for not having a link) the baby boom generation is leaving the workforce, which, over the course of the next decade will create a fantastic boom &amp; great job demand. \\n\\nAs for crushing debt, I disagree that every student faces crushing debt.  I think some have taken bad loans because their parents and teachers failed them. But if all you did was utilize the federal loan program available, then you aren\\'t in crushing debt. I think some cases have been blown out of proportion and shame on the students and parents, for agreeing to debt terms such as those. \\n\\nThe amount of actual OWS protesters was a minority of the youth in this country, a mere fraction of them. I can\\'t say I agreed with the OWS protest tactics or lack of message, but if I was a college kid I would have certainly been out there with them. It remains a great mystery to me why more kids didn\\'t get active if things are as bad young redditors portray them to be? To me it really does speak to the generational laziness... \"lets post online about it rather then get out and do something.\"']\n",
            "\n",
            "path: GeneraLeeStoned_path_0, utterances: ['&gt;but if I was a college kid I would have certainly been out there with them.\\n\\nI went to the protest in my city. It was shockingly NOT college kids. The average age was probably around 35']\n",
            "\n",
            "path: [deleted]_path_1, utterances: ['[deleted]', '[deleted]', '[deleted]']\n",
            "\n",
            "path: HardCoreModerate_path_1, utterances: ['I agree, we do probably agree on a great many things.\\n\\n&gt;&gt; I still don\\'t think it\\'s my place to judge someone who is not interested in doing that as \"lazy\\n\\nI also agree, someone who doesn\\'t want to get involved shouldn\\'t be labeled as lazy. However, when I hear a college kid say he doesn\\'t like where things are at, but doesn\\'t want to get involved and instead just wants to quit and move away, it worries me. It speaks to what I hope is not a generational attitude of laziness. How will he deal with other problems that face him in life that seem \"too big\"?', 'Lets be clear, we are all (not just the young generation) facing a tough job market. This job market looked this way in 2001 as well. It is not the first time, nor the last. And, as one astute redditor pointed out (I apologize for not having a link) the baby boom generation is leaving the workforce, which, over the course of the next decade will create a fantastic boom &amp; great job demand. \\n\\nAs for crushing debt, I disagree that every student faces crushing debt.  I think some have taken bad loans because their parents and teachers failed them. But if all you did was utilize the federal loan program available, then you aren\\'t in crushing debt. I think some cases have been blown out of proportion and shame on the students and parents, for agreeing to debt terms such as those. \\n\\nThe amount of actual OWS protesters was a minority of the youth in this country, a mere fraction of them. I can\\'t say I agreed with the OWS protest tactics or lack of message, but if I was a college kid I would have certainly been out there with them. It remains a great mystery to me why more kids didn\\'t get active if things are as bad young redditors portray them to be? To me it really does speak to the generational laziness... \"lets post online about it rather then get out and do something.\"']\n",
            "\n",
            "path: GeneraLeeStoned_path_2, utterances: ['&gt;Additionally, we are all dealing with being concerned about increasing draconian laws that could arise in the name of fighting \"terrorism\".\\n\\nthis makes me think,\\n\\nif you had told me, 12 years ago, that in 2011, we would have our own government spying on citizens, taping our phones, placing GPS on our cars without our knowledge, detaining \"enemy combatants\" and now possibly even citizens indefinitely with no trial, I would have laughed at you. It\\'s so fucking frightening. In another 5 years I feel like we\\'re going to be half way to north korea. ']\n",
            "\n",
            "path: HardCoreModerate_path_2, utterances: [\"our own government has spied on citizens longer than in 2011. Citizens in civil rights were routine spied upon in the 60s... the NSA has been around a lot longer than 12 years. Do you know what the difference is (and this is an important one and a positive one) We are now MORE aware than ever before. It may seem improbable, but that awareness will cause us to move in the right direction. Things aren't under wraps anymore. \\n\\nThe last thing we need is hyperbole. We are no where near North Korea.  Also had you read closely the comments that have been made about these sensationalized headlines on reddit about citizens getting no trials, you would see that this was false, and that there have already been supreme court cases that have struck down and such attempts.\"]\n",
            "\n",
            "========================================================================================================================================================================================================================================================================================================================================================================================================================================================================================================================================================================================================================================================================================================================================================================================================================================================================================================================================================================================================================================\n",
            "\n",
            "op: c345pi7\n",
            "\n",
            "path: schnuffs_path_0, utterances: ['&gt;As you can see... the solution does not address the original problem at all. It avoids it. I agree, avoiding problems is more efficient, but it doesn\\'t solve them.\\n\\nBut you\\'re assuming that his problem isn\\'t how he\\'s personally being affected by his government. It\\'s really no different than moving to another city for better employment opportunities. Or how about all the immigrants who came over from the old country for better opportunities? Were they just as guilty of \"avoiding the problem?\" Or were they just acting pragmatically within their best interests?\\n']\n",
            "\n",
            "========================================================================================================================================================================================================================================================================================================================================================================================================================================================================================================================================================================================================================================================================================================================================================================================================================================================================================================================================================================================================================================\n",
            "\n",
            "op: c34bomu\n",
            "\n",
            "========================================================================================================================================================================================================================================================================================================================================================================================================================================================================================================================================================================================================================================================================================================================================================================================================================================================================================================================================================================================================================================\n",
            "\n",
            "op: c34bigz\n",
            "\n",
            "========================================================================================================================================================================================================================================================================================================================================================================================================================================================================================================================================================================================================================================================================================================================================================================================================================================================================================================================================================================================================================================\n",
            "\n",
            "op: c34bk2j\n",
            "\n",
            "path: GeneraLeeStoned_path_0, utterances: ['I agree that liberals have been winning the long term war, certainly. I mean, to put it bluntly, conservatism is simply stupid. But conservatives are digging in their heels with major money behind them. \\n\\nAbortions are starting to become more limited. Coming up with new laws about exact specifications of the clinics, otherwise they get shut down (ie: the air temperature, wtf). I mean, the fact that we\\'re still having the debate is what\\'s terrifying. \\n\\nI don\\'t ignore what\\'s been done, I admit a lot *has* been done. But I don\\'t even feel like we\\'re to the middle. The fact that we still have to have debates to treat gay people like regular citizens is the problem. I feel like we\\'ve gone up a hill pretty quickly, but now we\\'re slowing down. \\n\\nNo one is \"teaching\" me anything. I\\'m simply observing what\\'s going on. I just see the US becoming more and more totalitarian every year and it makes me want to move to a free country. You can\\'t deny the US is certainly closer to north korea practices than say over a decade ago. I really don\\'t feel \"free\". I feel like this country has become an Orwellian novel. \\n\\nTo be honest, I\\'m actually shocked that OWS is taking place. And yet, I still feel the outrage isn\\'t enough. More people are outraged over a dead blond girl they never knew, rather than corporations literally buying politicians and laws to further their own interests. \\n\\nIn 20 years, many of the older conservative people in this country will have died off. I know every generation says \"we will be the different generation\". But I do truly feel that this generation *will* be different, and for one major reason. The internet. As the saying goes, education has a liberal bias. When kids are growing up with the internet, seeing both sides of the argument, conservatism loses. We\\'ve never had information accessible like this before. It\\'s the old people who only watch fox news who continue to hold us back. \\n\\nedit: also a couple more things. \\n\\nThe healthcare bill that was passed, disappointed most liberals like myself. And I really can\\'t figure out why conservatives are mad about it. It didn\\'t do hardly anything. I literally don\\'t know what else you could do to make it a weaker bill. We need *reform* not a tiny bill that covers more people. \\n\\nAlso, it seems europe and asia are the place to be now. US is on the way out. I really feel that way. Instead of trying to reform and fix out education system, they\\'re talking about cutting it. We\\'re doing nothing to fix our broken infrastructure. We have so much money in this country, and it just goes to waste. We talk and talk and talk about doing something every election, and nothing ever gets done. This country really hasn\\'t made actual progress since FDR. When a country like the czech republic (not that there\\'s anything wrong with CR) over takes the US in many areas, something is seriously, seriously wrong. ', 'Let me affirm my tone here, I am not trying to \"debate\" anything with you. Simply a rational, calm discussion of viewpoints. \\n\\nDon\\'t misconstrue what I\\'m saying. It\\'s not like I watch only MSNBC and believe every word of every sensationalist headline. I too am immediately skeptical of anything that seems, well, \\'fishy\\'. I too immediately click the comments on many reddit submissions and see many top comments directly contradicting what the article headline says. I appreciate this. \\n\\nIronically I am certainly labeled as a \"far left winger\", but in my view, I don\\'t see myself as far left wing at all really. I would say my views are mostly moderate/heavily left leaning. It\\'s just that this country is so far to the *right*, that it makes people like me seem extreme, when I think my views are quite sensible (such as how I think everyone living in this country should have access to affordable healthcare, how extreme right?). I also think we should be trying to get off oil as soon as possible, we are FAR over due for that. Yet many conservatives label me as far left wing. I mean, ideally how great would it be for everyone to have electric cars, charged by solar panels on their own house? Yet somehow that totally sensible idea makes me a hippy. \\n\\n&gt;Yes I can deny that. That is not factual in any way. Please tell me in what ways specifically this has occurred? \\n\\nI already listed a few. Whole agencies dedicated to taping and recording millions of phone calls, emails, text messages sent *domestically*, from every day citizens. No warrant needed. Where is the outrage? No one cares, including yourself it seems. I\\'m assumed to be a terrorist when I go to the airport. Yes we need safety, but the TSA (as reddit loves to point out) is literally just security theater. How many bomb plots have they stopped? None? As soon as a terrorist puts a bomb up their ass, we\\'ll probably have anal probing at check in. I wish I was being sarcastic (I also never would have thought we would have full body scanners, but alas, the underwear bomber). The TSA is simply knee jerk reactionary to anything that happens. It\\'s useless. \\n\\nWe\\'re also detaining \"enemy combatants\" with no trial, indefinitely. That is literally about the most \"unamerican\" thing you could ever do. That\\'s exactly what the founding fathers wanted to protect against. But it seems the leaders of the US are simply just trying to find little ways around their intentions. \"Oh, they aren\\'t US citizens, it\\'s ok\" -they\\'re still people. It\\'s despicable. \\n\\nAgree or disagree with OWS, the actions that have been taken against them are unbelievable. It\\'s really, really hard to defend the police and say they have our best interests. They simply don\\'t. If they did, they would join us. Instead the just beat down citizens. They\\'re literally corporate mercenaries. ']\n",
            "\n",
            "path: HardCoreModerate_path_0, utterances: ['&gt;I agree that liberals have been winning the long term war, certainly. I mean, to put it bluntly, conservatism is simply stupid. But conservatives are digging in their heels with major money behind them.\\n\\nYou, my friend, do not seem to be aware that in the world there needs to be a yin and a yang. Were we to be devoid of conservatism, then liberalism would be run amok, and that would be a bad thing (believe it or not). We need some people with some conservative ideas. Mind you, I am thinking of traditional conservatives, not right wing fanatics. We need neither right wing nor left wing fanatics in this country. For my tastes, this particular site has one too many left wing fanatics that are whipping people like yourself up into believing that we are worse than we really are. That is how politics works, factions make you afraid in order for you to accept their ideology. I don\\'t respond to nor do I respect any politics driven by fear. \\n\\n&gt;Abortions are starting to become more limited. Coming up with new laws about exact specifications of the clinics, otherwise they get shut down (ie: the air temperature, wtf).\\n\\nWhere? how? some very limited states perhaps, but on the whole, big picture, they are more available now than they were before. You can\\'t focus on every skirmish, you need to see the big picture, the war is being won on that front, and in fact it is doubtful that it can ever go backwards. \\n\\n&gt; I mean, the fact that we\\'re still having the debate is what\\'s terrifying.\\n\\nNo, the fact that we are still having a debate is wonderful, its exciting, it means that the minority of this country (who want abortions illegal) are not subject to tyranny from the majority. That is a good thing. That means that when YOU voice a minority opinion you will not be subject to tyranny either. There are people who still are racist, and speak their racists views every day. Does that mean we are going backwards? Hardly, it just means that we have freedom of speech.\\n\\n&gt; I don\\'t ignore what\\'s been done, I admit a lot has been done. But I don\\'t even feel like we\\'re to the middle. The fact that we still have to have debates to treat gay people like regular citizens is the problem. I feel like we\\'ve gone up a hill pretty quickly, but now we\\'re slowing down.\\n\\nThe middle? What is the middle? Politics evolve every year, every decade, every century. We are in a never ending process of change. There is no middle, there is then and there is now. Are we better now than we were then? If the answer is no on a particular issue then we are losing the battle of improvement in this country. My argument is that, on the whole, we are a lot better now than we were then, and you can pick almost any \"then\" you want. There are some exceptions to that, and thats where we need to improve. Economy is a big issue that stands out in my mind at the moment.\\n\\n&gt;No one is \"teaching\" me anything. I\\'m simply observing what\\'s going on. I just see the US becoming more and more totalitarian every year and it makes me want to move to a free country. \\n\\nThen you are seeing things incorrectly. I would argue you have no sense of where you are in history. I would also argue that you do not know what totalitarian means. In short, you still live in one of the most free places in the world. A\\n\\n&gt;You can\\'t deny the US is certainly closer to north korea practices than say over a decade ago.\\n\\nYes I can deny that. That is not factual in any way. Please tell me in what ways specifically this has occurred? \\n\\n&gt;I really don\\'t feel \"free\". I feel like this country has become an Orwellian novel.\\n\\nYou do not feel that way because you consume, by and large, alarmist left wing media. There are people on the right who only consume alarmist right wing media and they are just as manipulated into believing false things about our country. This is what political factions want in this country. This is why they control our process, because people like you are willing to fall for it, over and over again.\\n\\nI would say... ask... beg... that you come to a new way of thinking: become a Moderate. Not just any moderate, become a hardcore moderate like me. Do you know what defines moderates? The idea that we can take in pieces of information in the media, view all sides and come to a conclusion without listening to the talking points of the left or right wing. Whenever I read a story about something happening, I immediately question it. I reference it, and I put it in context to what has happened previously in the history of our country. \\n\\nI can give you many examples of this, and luckily there are some Redditors who make it their mission to respond to alarmist headlines that appear in places like r/politics to point out where, factually, the alarmism is incorrect.']\n",
            "\n",
            "========================================================================================================================================================================================================================================================================================================================================================================================================================================================================================================================================================================================================================================================================================================================================================================================================================================================================================================================================================================================================================================\n",
            "\n",
            "op: c344ksk\n",
            "\n",
            "========================================================================================================================================================================================================================================================================================================================================================================================================================================================================================================================================================================================================================================================================================================================================================================================================================================================================================================================================================================================================================================\n",
            "\n",
            "op: c34bli4\n",
            "\n",
            "path: theratking862_path_0, utterances: [\"you don't think one can/should be able to live their lives in peace? They'll have to get involved with the government? \"]\n",
            "\n",
            "path: HardCoreModerate_path_0, utterances: ['If you are going to complain about the government, then the only choice I can possibly see would be to get involved']\n",
            "\n",
            "========================================================================================================================================================================================================================================================================================================================================================================================================================================================================================================================================================================================================================================================================================================================================================================================================================================================================================================================================================================================================================================\n",
            "\n",
            "op: c347vmm\n",
            "\n",
            "path: Strawberry_Poptart_path_0, utterances: [\"Great. So far I like your ideas. I'll check it out.\"]\n",
            "\n",
            "========================================================================================================================================================================================================================================================================================================================================================================================================================================================================================================================================================================================================================================================================================================================================================================================================================================================================================================================================================================================================================================\n",
            "\n",
            "op: c349430\n",
            "\n",
            "========================================================================================================================================================================================================================================================================================================================================================================================================================================================================================================================================================================================================================================================================================================================================================================================================================================================================================================================================================================================================================================\n",
            "\n",
            "op: c345os6\n",
            "\n",
            "path: outwrangle_path_0, utterances: ['If he leaves, the problem goes away. Well, for him anyway.']\n",
            "\n"
          ]
        }
      ],
      "execution_count": 16,
      "source": [
        "# Test the OP and path pairer:\n",
        "utt_id = change_points[0][1]\n",
        "user_id = corpus.get_utterance(change_points[0][1]).speaker.id\n",
        "op_path_pairer = OpPathPairer(corpus, timelines=timelines)\n",
        "\n",
        "# List of tuples:\n",
        "op_path_pairs = op_path_pairer.extract_rooted_path_from_candidate_convos(candidate_convos, user_id)\n",
        "\n",
        "# def print_user_path_utterances(utterances):\n",
        "#   for i, utt in enumerate(utterances):\n",
        "#     print(f'{i}, {utt.text}\\n')\n",
        "\n",
        "for op_path_pair in op_path_pairs:\n",
        "  print(1000*'=')\n",
        "  print(f'\\nop: {op_path_pair[0].id}\\n')\n",
        "  for path, utterances in op_path_pair[1].items():\n",
        "    print(f'path: {path}, utterances: {[utt.text for utt in utterances]}\\n')"
      ],
      "id": "1d9c6199351dc388"
    },
    {
      "cell_type": "code",
      "source": [
        "print(op_path_pairs[3])"
      ],
      "metadata": {
        "colab": {
          "base_uri": "https://localhost:8080/",
          "height": 0
        },
        "id": "o9_WlwAH7WVq",
        "outputId": "b704dc85-4753-4e4e-8161-cb590d36c66e"
      },
      "id": "o9_WlwAH7WVq",
      "execution_count": 17,
      "outputs": [
        {
          "output_type": "stream",
          "name": "stdout",
          "text": [
            "(Utterance({'obj_type': 'utterance', 'vectors': [], 'speaker_': Speaker({'obj_type': 'speaker', 'vectors': [], 'owner': <convokit.model.corpus.Corpus object at 0x7ac7e5e17790>, 'id': 'HardCoreModerate', 'meta': ConvoKitMeta({})}), 'owner': <convokit.model.corpus.Corpus object at 0x7ac7e5e17790>, 'id': 'c3443ch', 'meta': ConvoKitMeta({'score': 18, 'top_level_comment': 'c3443ch', 'retrieved_on': 1427953119, 'gilded': 0, 'gildings': None, 'subreddit': 'PoliticalDiscussion', 'stickied': False, 'permalink': '', 'author_flair_text': '', 'detected_stance': 'moderately_against', 'stance_confidence': 0.517206738392512, 'stance_scores': {'strongly_favor': 0.013105638635655245, 'moderately_favor': 0.3341254343589147, 'neutral': 0.07730480283498764, 'moderately_against': 0.517206738392512, 'strongly_against': 0.041570129338651896}})}), {'theratking862_path_0': [Utterance({'obj_type': 'utterance', 'vectors': [], 'speaker_': Speaker({'obj_type': 'speaker', 'vectors': [], 'owner': <convokit.model.corpus.Corpus object at 0x7ac7e5e17790>, 'id': 'theratking862', 'meta': ConvoKitMeta({})}), 'owner': <convokit.model.corpus.Corpus object at 0x7ac7e5e17790>, 'id': 'c3447ot', 'meta': ConvoKitMeta({'score': 3, 'top_level_comment': 'c3443ch', 'retrieved_on': 1427953173, 'gilded': 0, 'gildings': None, 'subreddit': 'PoliticalDiscussion', 'stickied': False, 'permalink': '', 'author_flair_text': '', 'detected_stance': 'moderately_against', 'stance_confidence': 0.5437546173731486, 'stance_scores': {'strongly_favor': 0.025488067883998156, 'moderately_favor': 0.5384971002737681, 'neutral': 0.2516275954743226, 'moderately_against': 0.5437546173731486, 'strongly_against': 0.0071083858686809736}})})], 'repmack_path_0': [Utterance({'obj_type': 'utterance', 'vectors': [], 'speaker_': Speaker({'obj_type': 'speaker', 'vectors': [], 'owner': <convokit.model.corpus.Corpus object at 0x7ac7e5e17790>, 'id': 'repmack', 'meta': ConvoKitMeta({})}), 'owner': <convokit.model.corpus.Corpus object at 0x7ac7e5e17790>, 'id': 'c3449nn', 'meta': ConvoKitMeta({'score': 5, 'top_level_comment': 'c3443ch', 'retrieved_on': 1427953200, 'gilded': 0, 'gildings': None, 'subreddit': 'PoliticalDiscussion', 'stickied': False, 'permalink': '', 'author_flair_text': '', 'detected_stance': 'moderately_against', 'stance_confidence': 0.5225706497828165, 'stance_scores': {'strongly_favor': 0.0031674234196543694, 'moderately_favor': 0.3787452479203542, 'neutral': 0.048498222759614386, 'moderately_against': 0.5225706497828165, 'strongly_against': 0.01055530970916152}})})], '[deleted]_path_1': [Utterance({'obj_type': 'utterance', 'vectors': [], 'speaker_': Speaker({'obj_type': 'speaker', 'vectors': [], 'owner': <convokit.model.corpus.Corpus object at 0x7ac7e5e17790>, 'id': '[deleted]', 'meta': ConvoKitMeta({})}), 'owner': <convokit.model.corpus.Corpus object at 0x7ac7e5e17790>, 'id': 'c34478j', 'meta': ConvoKitMeta({'score': 11, 'top_level_comment': 'c3443ch', 'retrieved_on': 1427953166, 'gilded': 0, 'gildings': None, 'subreddit': 'PoliticalDiscussion', 'stickied': False, 'permalink': '', 'author_flair_text': '', 'detected_stance': 'unknown', 'stance_confidence': 0.0})}), Utterance({'obj_type': 'utterance', 'vectors': [], 'speaker_': Speaker({'obj_type': 'speaker', 'vectors': [], 'owner': <convokit.model.corpus.Corpus object at 0x7ac7e5e17790>, 'id': '[deleted]', 'meta': ConvoKitMeta({})}), 'owner': <convokit.model.corpus.Corpus object at 0x7ac7e5e17790>, 'id': 'c344cvw', 'meta': ConvoKitMeta({'score': 14, 'top_level_comment': 'c3443ch', 'retrieved_on': 1427953240, 'gilded': 0, 'gildings': None, 'subreddit': 'PoliticalDiscussion', 'stickied': False, 'permalink': '', 'author_flair_text': '', 'detected_stance': 'unknown', 'stance_confidence': 0.0})})], 'HardCoreModerate_path_1': [Utterance({'obj_type': 'utterance', 'vectors': [], 'speaker_': Speaker({'obj_type': 'speaker', 'vectors': [], 'owner': <convokit.model.corpus.Corpus object at 0x7ac7e5e17790>, 'id': 'HardCoreModerate', 'meta': ConvoKitMeta({})}), 'owner': <convokit.model.corpus.Corpus object at 0x7ac7e5e17790>, 'id': 'c344801', 'meta': ConvoKitMeta({'score': 1, 'top_level_comment': 'c3443ch', 'retrieved_on': 1427953177, 'gilded': 0, 'gildings': None, 'subreddit': 'PoliticalDiscussion', 'stickied': False, 'permalink': '', 'author_flair_text': '', 'detected_stance': 'moderately_against', 'stance_confidence': 0.4428437153498332, 'stance_scores': {'strongly_favor': 0.02488376898691058, 'moderately_favor': 0.37380922337373096, 'neutral': 0.14455725625157356, 'moderately_against': 0.4428437153498332, 'strongly_against': 0.04677944971869389}})}), Utterance({'obj_type': 'utterance', 'vectors': [], 'speaker_': Speaker({'obj_type': 'speaker', 'vectors': [], 'owner': <convokit.model.corpus.Corpus object at 0x7ac7e5e17790>, 'id': 'HardCoreModerate', 'meta': ConvoKitMeta({})}), 'owner': <convokit.model.corpus.Corpus object at 0x7ac7e5e17790>, 'id': 'c344k47', 'meta': ConvoKitMeta({'score': 5, 'top_level_comment': 'c3443ch', 'retrieved_on': 1427953335, 'gilded': 0, 'gildings': None, 'subreddit': 'PoliticalDiscussion', 'stickied': False, 'permalink': '', 'author_flair_text': '', 'detected_stance': 'moderately_favor', 'stance_confidence': 0.6978683968385061, 'stance_scores': {'strongly_favor': 0.0065857310158511, 'moderately_favor': 0.6978683968385061, 'neutral': 0.39681241661310196, 'moderately_against': 0.24130689601103464, 'strongly_against': 0.02216348983347416}})})], 'Strawberry_Poptart_path_1': [Utterance({'obj_type': 'utterance', 'vectors': [], 'speaker_': Speaker({'obj_type': 'speaker', 'vectors': [], 'owner': <convokit.model.corpus.Corpus object at 0x7ac7e5e17790>, 'id': 'Strawberry_Poptart', 'meta': ConvoKitMeta({})}), 'owner': <convokit.model.corpus.Corpus object at 0x7ac7e5e17790>, 'id': 'c347w3a', 'meta': ConvoKitMeta({'score': 1, 'top_level_comment': 'c3443ch', 'retrieved_on': 1427954906, 'gilded': 0, 'gildings': None, 'subreddit': 'PoliticalDiscussion', 'stickied': False, 'permalink': '', 'author_flair_text': '', 'detected_stance': 'moderately_against', 'stance_confidence': 0.47600876291592914, 'stance_scores': {'strongly_favor': 0.025153019775946934, 'moderately_favor': 0.3770274966955185, 'neutral': 0.16831772960722446, 'moderately_against': 0.47600876291592914, 'strongly_against': 0.006281554388503234}})})], 'bluthru_path_2': [Utterance({'obj_type': 'utterance', 'vectors': [], 'speaker_': Speaker({'obj_type': 'speaker', 'vectors': [], 'owner': <convokit.model.corpus.Corpus object at 0x7ac7e5e17790>, 'id': 'bluthru', 'meta': ConvoKitMeta({})}), 'owner': <convokit.model.corpus.Corpus object at 0x7ac7e5e17790>, 'id': 'c346my4', 'meta': ConvoKitMeta({'score': 2, 'top_level_comment': 'c3443ch', 'retrieved_on': 1427954316, 'gilded': 0, 'gildings': None, 'subreddit': 'PoliticalDiscussion', 'stickied': False, 'permalink': '', 'author_flair_text': '', 'detected_stance': 'moderately_against', 'stance_confidence': 0.5353911320368449, 'stance_scores': {'strongly_favor': 0.0016902963786075513, 'moderately_favor': 0.4609546239177386, 'neutral': 0.030045285820961, 'moderately_against': 0.5353911320368449, 'strongly_against': 0.1709123522353669}})})], 'AlmostProductive_path_3': [Utterance({'obj_type': 'utterance', 'vectors': [], 'speaker_': Speaker({'obj_type': 'speaker', 'vectors': [], 'owner': <convokit.model.corpus.Corpus object at 0x7ac7e5e17790>, 'id': 'AlmostProductive', 'meta': ConvoKitMeta({})}), 'owner': <convokit.model.corpus.Corpus object at 0x7ac7e5e17790>, 'id': 'c345b4e', 'meta': ConvoKitMeta({'score': 3, 'top_level_comment': 'c3443ch', 'retrieved_on': 1427953699, 'gilded': 0, 'gildings': None, 'subreddit': 'PoliticalDiscussion', 'stickied': False, 'permalink': '', 'author_flair_text': '', 'detected_stance': 'moderately_favor', 'stance_confidence': 0.4557924419641495, 'stance_scores': {'strongly_favor': 0.0012028693987910326, 'moderately_favor': 0.4557924419641495, 'neutral': 0.014173626666888595, 'moderately_against': 0.3425045957167943, 'strongly_against': 0.013431290940692028}})})], 'theratking862_path_4': [Utterance({'obj_type': 'utterance', 'vectors': [], 'speaker_': Speaker({'obj_type': 'speaker', 'vectors': [], 'owner': <convokit.model.corpus.Corpus object at 0x7ac7e5e17790>, 'id': 'theratking862', 'meta': ConvoKitMeta({})}), 'owner': <convokit.model.corpus.Corpus object at 0x7ac7e5e17790>, 'id': 'c3447ot', 'meta': ConvoKitMeta({'score': 3, 'top_level_comment': 'c3443ch', 'retrieved_on': 1427953173, 'gilded': 0, 'gildings': None, 'subreddit': 'PoliticalDiscussion', 'stickied': False, 'permalink': '', 'author_flair_text': '', 'detected_stance': 'moderately_against', 'stance_confidence': 0.5437546173731486, 'stance_scores': {'strongly_favor': 0.025488067883998156, 'moderately_favor': 0.5384971002737681, 'neutral': 0.2516275954743226, 'moderately_against': 0.5437546173731486, 'strongly_against': 0.0071083858686809736}})})], 'HardCoreModerate_path_4': [Utterance({'obj_type': 'utterance', 'vectors': [], 'speaker_': Speaker({'obj_type': 'speaker', 'vectors': [], 'owner': <convokit.model.corpus.Corpus object at 0x7ac7e5e17790>, 'id': 'HardCoreModerate', 'meta': ConvoKitMeta({})}), 'owner': <convokit.model.corpus.Corpus object at 0x7ac7e5e17790>, 'id': 'c3449zr', 'meta': ConvoKitMeta({'score': -1, 'top_level_comment': 'c3443ch', 'retrieved_on': 1427953204, 'gilded': 0, 'gildings': None, 'subreddit': 'PoliticalDiscussion', 'stickied': False, 'permalink': '', 'author_flair_text': '', 'detected_stance': 'moderately_against', 'stance_confidence': 0.7079007426897684, 'stance_scores': {'strongly_favor': 0.052736639976501465, 'moderately_favor': 0.5996817847092947, 'neutral': 0.345784234503905, 'moderately_against': 0.7079007426897684, 'strongly_against': 0.06062019383534789}})})], 'BrickSalad_path_4': [Utterance({'obj_type': 'utterance', 'vectors': [], 'speaker_': Speaker({'obj_type': 'speaker', 'vectors': [], 'owner': <convokit.model.corpus.Corpus object at 0x7ac7e5e17790>, 'id': 'BrickSalad', 'meta': ConvoKitMeta({})}), 'owner': <convokit.model.corpus.Corpus object at 0x7ac7e5e17790>, 'id': 'c346kmg', 'meta': ConvoKitMeta({'score': 2, 'top_level_comment': 'c3443ch', 'retrieved_on': 1427954290, 'gilded': 0, 'gildings': None, 'subreddit': 'PoliticalDiscussion', 'stickied': False, 'permalink': '', 'author_flair_text': '', 'detected_stance': 'moderately_against', 'stance_confidence': 0.6248381038506826, 'stance_scores': {'strongly_favor': 0.026703056258459885, 'moderately_favor': 0.43452433745066327, 'neutral': 0.27828261100997526, 'moderately_against': 0.6248381038506826, 'strongly_against': 0.006895506987348199}})})], '[deleted]_path_5': [Utterance({'obj_type': 'utterance', 'vectors': [], 'speaker_': Speaker({'obj_type': 'speaker', 'vectors': [], 'owner': <convokit.model.corpus.Corpus object at 0x7ac7e5e17790>, 'id': '[deleted]', 'meta': ConvoKitMeta({})}), 'owner': <convokit.model.corpus.Corpus object at 0x7ac7e5e17790>, 'id': 'c34478j', 'meta': ConvoKitMeta({'score': 11, 'top_level_comment': 'c3443ch', 'retrieved_on': 1427953166, 'gilded': 0, 'gildings': None, 'subreddit': 'PoliticalDiscussion', 'stickied': False, 'permalink': '', 'author_flair_text': '', 'detected_stance': 'unknown', 'stance_confidence': 0.0})}), Utterance({'obj_type': 'utterance', 'vectors': [], 'speaker_': Speaker({'obj_type': 'speaker', 'vectors': [], 'owner': <convokit.model.corpus.Corpus object at 0x7ac7e5e17790>, 'id': '[deleted]', 'meta': ConvoKitMeta({})}), 'owner': <convokit.model.corpus.Corpus object at 0x7ac7e5e17790>, 'id': 'c344cvw', 'meta': ConvoKitMeta({'score': 14, 'top_level_comment': 'c3443ch', 'retrieved_on': 1427953240, 'gilded': 0, 'gildings': None, 'subreddit': 'PoliticalDiscussion', 'stickied': False, 'permalink': '', 'author_flair_text': '', 'detected_stance': 'unknown', 'stance_confidence': 0.0})}), Utterance({'obj_type': 'utterance', 'vectors': [], 'speaker_': Speaker({'obj_type': 'speaker', 'vectors': [], 'owner': <convokit.model.corpus.Corpus object at 0x7ac7e5e17790>, 'id': '[deleted]', 'meta': ConvoKitMeta({})}), 'owner': <convokit.model.corpus.Corpus object at 0x7ac7e5e17790>, 'id': 'c344t5p', 'meta': ConvoKitMeta({'score': 5, 'top_level_comment': 'c3443ch', 'retrieved_on': 1427953458, 'gilded': 0, 'gildings': None, 'subreddit': 'PoliticalDiscussion', 'stickied': False, 'permalink': '', 'author_flair_text': '', 'detected_stance': 'unknown', 'stance_confidence': 0.0})}), Utterance({'obj_type': 'utterance', 'vectors': [], 'speaker_': Speaker({'obj_type': 'speaker', 'vectors': [], 'owner': <convokit.model.corpus.Corpus object at 0x7ac7e5e17790>, 'id': '[deleted]', 'meta': ConvoKitMeta({})}), 'owner': <convokit.model.corpus.Corpus object at 0x7ac7e5e17790>, 'id': 'c344ztl', 'meta': ConvoKitMeta({'score': 4, 'top_level_comment': 'c3443ch', 'retrieved_on': 1427953541, 'gilded': 0, 'gildings': None, 'subreddit': 'PoliticalDiscussion', 'stickied': False, 'permalink': '', 'author_flair_text': '', 'detected_stance': 'unknown', 'stance_confidence': 0.0})}), Utterance({'obj_type': 'utterance', 'vectors': [], 'speaker_': Speaker({'obj_type': 'speaker', 'vectors': [], 'owner': <convokit.model.corpus.Corpus object at 0x7ac7e5e17790>, 'id': '[deleted]', 'meta': ConvoKitMeta({})}), 'owner': <convokit.model.corpus.Corpus object at 0x7ac7e5e17790>, 'id': 'c345jdm', 'meta': ConvoKitMeta({'score': 5, 'top_level_comment': 'c3443ch', 'retrieved_on': 1427953797, 'gilded': 0, 'gildings': None, 'subreddit': 'PoliticalDiscussion', 'stickied': False, 'permalink': '', 'author_flair_text': '', 'detected_stance': 'unknown', 'stance_confidence': 0.0})})], 'HardCoreModerate_path_5': [Utterance({'obj_type': 'utterance', 'vectors': [], 'speaker_': Speaker({'obj_type': 'speaker', 'vectors': [], 'owner': <convokit.model.corpus.Corpus object at 0x7ac7e5e17790>, 'id': 'HardCoreModerate', 'meta': ConvoKitMeta({})}), 'owner': <convokit.model.corpus.Corpus object at 0x7ac7e5e17790>, 'id': 'c344801', 'meta': ConvoKitMeta({'score': 1, 'top_level_comment': 'c3443ch', 'retrieved_on': 1427953177, 'gilded': 0, 'gildings': None, 'subreddit': 'PoliticalDiscussion', 'stickied': False, 'permalink': '', 'author_flair_text': '', 'detected_stance': 'moderately_against', 'stance_confidence': 0.4428437153498332, 'stance_scores': {'strongly_favor': 0.02488376898691058, 'moderately_favor': 0.37380922337373096, 'neutral': 0.14455725625157356, 'moderately_against': 0.4428437153498332, 'strongly_against': 0.04677944971869389}})}), Utterance({'obj_type': 'utterance', 'vectors': [], 'speaker_': Speaker({'obj_type': 'speaker', 'vectors': [], 'owner': <convokit.model.corpus.Corpus object at 0x7ac7e5e17790>, 'id': 'HardCoreModerate', 'meta': ConvoKitMeta({})}), 'owner': <convokit.model.corpus.Corpus object at 0x7ac7e5e17790>, 'id': 'c344k47', 'meta': ConvoKitMeta({'score': 5, 'top_level_comment': 'c3443ch', 'retrieved_on': 1427953335, 'gilded': 0, 'gildings': None, 'subreddit': 'PoliticalDiscussion', 'stickied': False, 'permalink': '', 'author_flair_text': '', 'detected_stance': 'moderately_favor', 'stance_confidence': 0.6978683968385061, 'stance_scores': {'strongly_favor': 0.0065857310158511, 'moderately_favor': 0.6978683968385061, 'neutral': 0.39681241661310196, 'moderately_against': 0.24130689601103464, 'strongly_against': 0.02216348983347416}})}), Utterance({'obj_type': 'utterance', 'vectors': [], 'speaker_': Speaker({'obj_type': 'speaker', 'vectors': [], 'owner': <convokit.model.corpus.Corpus object at 0x7ac7e5e17790>, 'id': 'HardCoreModerate', 'meta': ConvoKitMeta({})}), 'owner': <convokit.model.corpus.Corpus object at 0x7ac7e5e17790>, 'id': 'c344x1d', 'meta': ConvoKitMeta({'score': 3, 'top_level_comment': 'c3443ch', 'retrieved_on': 1427953505, 'gilded': 0, 'gildings': None, 'subreddit': 'PoliticalDiscussion', 'stickied': False, 'permalink': '', 'author_flair_text': '', 'detected_stance': 'moderately_favor', 'stance_confidence': 0.8895079294840494, 'stance_scores': {'strongly_favor': 0.1162741556763649, 'moderately_favor': 0.8895079294840494, 'neutral': 0.4918711582819621, 'moderately_against': 0.6814576685428619, 'strongly_against': 0.021501387003809214}})}), Utterance({'obj_type': 'utterance', 'vectors': [], 'speaker_': Speaker({'obj_type': 'speaker', 'vectors': [], 'owner': <convokit.model.corpus.Corpus object at 0x7ac7e5e17790>, 'id': 'HardCoreModerate', 'meta': ConvoKitMeta({})}), 'owner': <convokit.model.corpus.Corpus object at 0x7ac7e5e17790>, 'id': 'c345fu2', 'meta': ConvoKitMeta({'score': 3, 'top_level_comment': 'c3443ch', 'retrieved_on': 1427953758, 'gilded': 0, 'gildings': None, 'subreddit': 'PoliticalDiscussion', 'stickied': False, 'permalink': '', 'author_flair_text': '', 'detected_stance': 'moderately_against', 'stance_confidence': 0.7491988738377889, 'stance_scores': {'strongly_favor': 0.15834539632002512, 'moderately_favor': 0.6989959279696146, 'neutral': 0.48357050120830536, 'moderately_against': 0.7491988738377889, 'strongly_against': 0.06632157741114497}})}), Utterance({'obj_type': 'utterance', 'vectors': [], 'speaker_': Speaker({'obj_type': 'speaker', 'vectors': [], 'owner': <convokit.model.corpus.Corpus object at 0x7ac7e5e17790>, 'id': 'HardCoreModerate', 'meta': ConvoKitMeta({})}), 'owner': <convokit.model.corpus.Corpus object at 0x7ac7e5e17790>, 'id': 'c345mrd', 'meta': ConvoKitMeta({'score': 1, 'top_level_comment': 'c3443ch', 'retrieved_on': 1427953841, 'gilded': 0, 'gildings': None, 'subreddit': 'PoliticalDiscussion', 'stickied': False, 'permalink': '', 'author_flair_text': '', 'detected_stance': 'moderately_against', 'stance_confidence': 0.6286126474539439, 'stance_scores': {'strongly_favor': 0.011832928750663996, 'moderately_favor': 0.45032504200935364, 'neutral': 0.3121984836955865, 'moderately_against': 0.6286126474539439, 'strongly_against': 0.012596028003220757}})})], 'GeneraLeeStoned_path_5': [Utterance({'obj_type': 'utterance', 'vectors': [], 'speaker_': Speaker({'obj_type': 'speaker', 'vectors': [], 'owner': <convokit.model.corpus.Corpus object at 0x7ac7e5e17790>, 'id': 'GeneraLeeStoned', 'meta': ConvoKitMeta({})}), 'owner': <convokit.model.corpus.Corpus object at 0x7ac7e5e17790>, 'id': 'c34a3q1', 'meta': ConvoKitMeta({'score': 1, 'top_level_comment': 'c3443ch', 'retrieved_on': 1427956027, 'gilded': 0, 'gildings': None, 'subreddit': 'PoliticalDiscussion', 'stickied': False, 'permalink': '', 'author_flair_text': '', 'detected_stance': 'moderately_against', 'stance_confidence': 0.7116142809391022, 'stance_scores': {'strongly_favor': 0.024058265145868063, 'moderately_favor': 0.548201729853948, 'neutral': 0.09404559557636578, 'moderately_against': 0.7116142809391022, 'strongly_against': 0.08326518970231216}})})], '[deleted]_path_6': [Utterance({'obj_type': 'utterance', 'vectors': [], 'speaker_': Speaker({'obj_type': 'speaker', 'vectors': [], 'owner': <convokit.model.corpus.Corpus object at 0x7ac7e5e17790>, 'id': '[deleted]', 'meta': ConvoKitMeta({})}), 'owner': <convokit.model.corpus.Corpus object at 0x7ac7e5e17790>, 'id': 'c34478j', 'meta': ConvoKitMeta({'score': 11, 'top_level_comment': 'c3443ch', 'retrieved_on': 1427953166, 'gilded': 0, 'gildings': None, 'subreddit': 'PoliticalDiscussion', 'stickied': False, 'permalink': '', 'author_flair_text': '', 'detected_stance': 'unknown', 'stance_confidence': 0.0})}), Utterance({'obj_type': 'utterance', 'vectors': [], 'speaker_': Speaker({'obj_type': 'speaker', 'vectors': [], 'owner': <convokit.model.corpus.Corpus object at 0x7ac7e5e17790>, 'id': '[deleted]', 'meta': ConvoKitMeta({})}), 'owner': <convokit.model.corpus.Corpus object at 0x7ac7e5e17790>, 'id': 'c344cvw', 'meta': ConvoKitMeta({'score': 14, 'top_level_comment': 'c3443ch', 'retrieved_on': 1427953240, 'gilded': 0, 'gildings': None, 'subreddit': 'PoliticalDiscussion', 'stickied': False, 'permalink': '', 'author_flair_text': '', 'detected_stance': 'unknown', 'stance_confidence': 0.0})}), Utterance({'obj_type': 'utterance', 'vectors': [], 'speaker_': Speaker({'obj_type': 'speaker', 'vectors': [], 'owner': <convokit.model.corpus.Corpus object at 0x7ac7e5e17790>, 'id': '[deleted]', 'meta': ConvoKitMeta({})}), 'owner': <convokit.model.corpus.Corpus object at 0x7ac7e5e17790>, 'id': 'c344t5p', 'meta': ConvoKitMeta({'score': 5, 'top_level_comment': 'c3443ch', 'retrieved_on': 1427953458, 'gilded': 0, 'gildings': None, 'subreddit': 'PoliticalDiscussion', 'stickied': False, 'permalink': '', 'author_flair_text': '', 'detected_stance': 'unknown', 'stance_confidence': 0.0})}), Utterance({'obj_type': 'utterance', 'vectors': [], 'speaker_': Speaker({'obj_type': 'speaker', 'vectors': [], 'owner': <convokit.model.corpus.Corpus object at 0x7ac7e5e17790>, 'id': '[deleted]', 'meta': ConvoKitMeta({})}), 'owner': <convokit.model.corpus.Corpus object at 0x7ac7e5e17790>, 'id': 'c344ztl', 'meta': ConvoKitMeta({'score': 4, 'top_level_comment': 'c3443ch', 'retrieved_on': 1427953541, 'gilded': 0, 'gildings': None, 'subreddit': 'PoliticalDiscussion', 'stickied': False, 'permalink': '', 'author_flair_text': '', 'detected_stance': 'unknown', 'stance_confidence': 0.0})}), Utterance({'obj_type': 'utterance', 'vectors': [], 'speaker_': Speaker({'obj_type': 'speaker', 'vectors': [], 'owner': <convokit.model.corpus.Corpus object at 0x7ac7e5e17790>, 'id': '[deleted]', 'meta': ConvoKitMeta({})}), 'owner': <convokit.model.corpus.Corpus object at 0x7ac7e5e17790>, 'id': 'c345jdm', 'meta': ConvoKitMeta({'score': 5, 'top_level_comment': 'c3443ch', 'retrieved_on': 1427953797, 'gilded': 0, 'gildings': None, 'subreddit': 'PoliticalDiscussion', 'stickied': False, 'permalink': '', 'author_flair_text': '', 'detected_stance': 'unknown', 'stance_confidence': 0.0})}), Utterance({'obj_type': 'utterance', 'vectors': [], 'speaker_': Speaker({'obj_type': 'speaker', 'vectors': [], 'owner': <convokit.model.corpus.Corpus object at 0x7ac7e5e17790>, 'id': '[deleted]', 'meta': ConvoKitMeta({})}), 'owner': <convokit.model.corpus.Corpus object at 0x7ac7e5e17790>, 'id': 'c345ug3', 'meta': ConvoKitMeta({'score': 1, 'top_level_comment': 'c3443ch', 'retrieved_on': 1427953943, 'gilded': 0, 'gildings': None, 'subreddit': 'PoliticalDiscussion', 'stickied': False, 'permalink': '', 'author_flair_text': '', 'detected_stance': 'unknown', 'stance_confidence': 0.0})})], 'HardCoreModerate_path_6': [Utterance({'obj_type': 'utterance', 'vectors': [], 'speaker_': Speaker({'obj_type': 'speaker', 'vectors': [], 'owner': <convokit.model.corpus.Corpus object at 0x7ac7e5e17790>, 'id': 'HardCoreModerate', 'meta': ConvoKitMeta({})}), 'owner': <convokit.model.corpus.Corpus object at 0x7ac7e5e17790>, 'id': 'c344801', 'meta': ConvoKitMeta({'score': 1, 'top_level_comment': 'c3443ch', 'retrieved_on': 1427953177, 'gilded': 0, 'gildings': None, 'subreddit': 'PoliticalDiscussion', 'stickied': False, 'permalink': '', 'author_flair_text': '', 'detected_stance': 'moderately_against', 'stance_confidence': 0.4428437153498332, 'stance_scores': {'strongly_favor': 0.02488376898691058, 'moderately_favor': 0.37380922337373096, 'neutral': 0.14455725625157356, 'moderately_against': 0.4428437153498332, 'strongly_against': 0.04677944971869389}})}), Utterance({'obj_type': 'utterance', 'vectors': [], 'speaker_': Speaker({'obj_type': 'speaker', 'vectors': [], 'owner': <convokit.model.corpus.Corpus object at 0x7ac7e5e17790>, 'id': 'HardCoreModerate', 'meta': ConvoKitMeta({})}), 'owner': <convokit.model.corpus.Corpus object at 0x7ac7e5e17790>, 'id': 'c344k47', 'meta': ConvoKitMeta({'score': 5, 'top_level_comment': 'c3443ch', 'retrieved_on': 1427953335, 'gilded': 0, 'gildings': None, 'subreddit': 'PoliticalDiscussion', 'stickied': False, 'permalink': '', 'author_flair_text': '', 'detected_stance': 'moderately_favor', 'stance_confidence': 0.6978683968385061, 'stance_scores': {'strongly_favor': 0.0065857310158511, 'moderately_favor': 0.6978683968385061, 'neutral': 0.39681241661310196, 'moderately_against': 0.24130689601103464, 'strongly_against': 0.02216348983347416}})}), Utterance({'obj_type': 'utterance', 'vectors': [], 'speaker_': Speaker({'obj_type': 'speaker', 'vectors': [], 'owner': <convokit.model.corpus.Corpus object at 0x7ac7e5e17790>, 'id': 'HardCoreModerate', 'meta': ConvoKitMeta({})}), 'owner': <convokit.model.corpus.Corpus object at 0x7ac7e5e17790>, 'id': 'c344x1d', 'meta': ConvoKitMeta({'score': 3, 'top_level_comment': 'c3443ch', 'retrieved_on': 1427953505, 'gilded': 0, 'gildings': None, 'subreddit': 'PoliticalDiscussion', 'stickied': False, 'permalink': '', 'author_flair_text': '', 'detected_stance': 'moderately_favor', 'stance_confidence': 0.8895079294840494, 'stance_scores': {'strongly_favor': 0.1162741556763649, 'moderately_favor': 0.8895079294840494, 'neutral': 0.4918711582819621, 'moderately_against': 0.6814576685428619, 'strongly_against': 0.021501387003809214}})}), Utterance({'obj_type': 'utterance', 'vectors': [], 'speaker_': Speaker({'obj_type': 'speaker', 'vectors': [], 'owner': <convokit.model.corpus.Corpus object at 0x7ac7e5e17790>, 'id': 'HardCoreModerate', 'meta': ConvoKitMeta({})}), 'owner': <convokit.model.corpus.Corpus object at 0x7ac7e5e17790>, 'id': 'c345fu2', 'meta': ConvoKitMeta({'score': 3, 'top_level_comment': 'c3443ch', 'retrieved_on': 1427953758, 'gilded': 0, 'gildings': None, 'subreddit': 'PoliticalDiscussion', 'stickied': False, 'permalink': '', 'author_flair_text': '', 'detected_stance': 'moderately_against', 'stance_confidence': 0.7491988738377889, 'stance_scores': {'strongly_favor': 0.15834539632002512, 'moderately_favor': 0.6989959279696146, 'neutral': 0.48357050120830536, 'moderately_against': 0.7491988738377889, 'strongly_against': 0.06632157741114497}})}), Utterance({'obj_type': 'utterance', 'vectors': [], 'speaker_': Speaker({'obj_type': 'speaker', 'vectors': [], 'owner': <convokit.model.corpus.Corpus object at 0x7ac7e5e17790>, 'id': 'HardCoreModerate', 'meta': ConvoKitMeta({})}), 'owner': <convokit.model.corpus.Corpus object at 0x7ac7e5e17790>, 'id': 'c345mrd', 'meta': ConvoKitMeta({'score': 1, 'top_level_comment': 'c3443ch', 'retrieved_on': 1427953841, 'gilded': 0, 'gildings': None, 'subreddit': 'PoliticalDiscussion', 'stickied': False, 'permalink': '', 'author_flair_text': '', 'detected_stance': 'moderately_against', 'stance_confidence': 0.6286126474539439, 'stance_scores': {'strongly_favor': 0.011832928750663996, 'moderately_favor': 0.45032504200935364, 'neutral': 0.3121984836955865, 'moderately_against': 0.6286126474539439, 'strongly_against': 0.012596028003220757}})})], 'themattmo_path_7': [Utterance({'obj_type': 'utterance', 'vectors': [], 'speaker_': Speaker({'obj_type': 'speaker', 'vectors': [], 'owner': <convokit.model.corpus.Corpus object at 0x7ac7e5e17790>, 'id': 'themattmo', 'meta': ConvoKitMeta({})}), 'owner': <convokit.model.corpus.Corpus object at 0x7ac7e5e17790>, 'id': 'c345kbi', 'meta': ConvoKitMeta({'score': 8, 'top_level_comment': 'c3443ch', 'retrieved_on': 1427953811, 'gilded': 0, 'gildings': None, 'subreddit': 'PoliticalDiscussion', 'stickied': False, 'permalink': '', 'author_flair_text': '', 'detected_stance': 'moderately_against', 'stance_confidence': 0.848318080107371, 'stance_scores': {'strongly_favor': 0.12265539107223351, 'moderately_favor': 0.8002607623736063, 'neutral': 0.2114451676607132, 'moderately_against': 0.848318080107371, 'strongly_against': 0.36116090416908264}})})], 'HardCoreModerate_path_7': [Utterance({'obj_type': 'utterance', 'vectors': [], 'speaker_': Speaker({'obj_type': 'speaker', 'vectors': [], 'owner': <convokit.model.corpus.Corpus object at 0x7ac7e5e17790>, 'id': 'HardCoreModerate', 'meta': ConvoKitMeta({})}), 'owner': <convokit.model.corpus.Corpus object at 0x7ac7e5e17790>, 'id': 'c345pi7', 'meta': ConvoKitMeta({'score': 7, 'top_level_comment': 'c3443ch', 'retrieved_on': 1427953876, 'gilded': 0, 'gildings': None, 'subreddit': 'PoliticalDiscussion', 'stickied': False, 'permalink': '', 'author_flair_text': '', 'detected_stance': 'moderately_against', 'stance_confidence': 0.6945146322250366, 'stance_scores': {'strongly_favor': 0.01607585131811599, 'moderately_favor': 0.5048571626345316, 'neutral': 0.15745013455549875, 'moderately_against': 0.6945146322250366, 'strongly_against': 0.14495540596544743}})})], 'schnuffs_path_7': [Utterance({'obj_type': 'utterance', 'vectors': [], 'speaker_': Speaker({'obj_type': 'speaker', 'vectors': [], 'owner': <convokit.model.corpus.Corpus object at 0x7ac7e5e17790>, 'id': 'schnuffs', 'meta': ConvoKitMeta({})}), 'owner': <convokit.model.corpus.Corpus object at 0x7ac7e5e17790>, 'id': 'c345ygr', 'meta': ConvoKitMeta({'score': 3, 'top_level_comment': 'c3443ch', 'retrieved_on': 1427954000, 'gilded': 0, 'gildings': None, 'subreddit': 'PoliticalDiscussion', 'stickied': False, 'permalink': '', 'author_flair_text': '', 'detected_stance': 'moderately_against', 'stance_confidence': 0.8430846730868021, 'stance_scores': {'strongly_favor': 0.0657347459346056, 'moderately_favor': 0.6733359396457672, 'neutral': 0.15810797611872354, 'moderately_against': 0.8430846730868021, 'strongly_against': 0.11158607248216867}})})], 'me_at_work_path_8': [Utterance({'obj_type': 'utterance', 'vectors': [], 'speaker_': Speaker({'obj_type': 'speaker', 'vectors': [], 'owner': <convokit.model.corpus.Corpus object at 0x7ac7e5e17790>, 'id': 'me_at_work', 'meta': ConvoKitMeta({})}), 'owner': <convokit.model.corpus.Corpus object at 0x7ac7e5e17790>, 'id': 'c346d2s', 'meta': ConvoKitMeta({'score': 2, 'top_level_comment': 'c3443ch', 'retrieved_on': 1427954187, 'gilded': 0, 'gildings': None, 'subreddit': 'PoliticalDiscussion', 'stickied': False, 'permalink': '', 'author_flair_text': '', 'detected_stance': 'moderately_against', 'stance_confidence': 0.5100501179695129, 'stance_scores': {'strongly_favor': 0.008484216096500555, 'moderately_favor': 0.3708297709623973, 'neutral': 0.14138148973385492, 'moderately_against': 0.5100501179695129, 'strongly_against': 0.002048601435186962}})})], '[deleted]_path_9': [Utterance({'obj_type': 'utterance', 'vectors': [], 'speaker_': Speaker({'obj_type': 'speaker', 'vectors': [], 'owner': <convokit.model.corpus.Corpus object at 0x7ac7e5e17790>, 'id': '[deleted]', 'meta': ConvoKitMeta({})}), 'owner': <convokit.model.corpus.Corpus object at 0x7ac7e5e17790>, 'id': 'c34478j', 'meta': ConvoKitMeta({'score': 11, 'top_level_comment': 'c3443ch', 'retrieved_on': 1427953166, 'gilded': 0, 'gildings': None, 'subreddit': 'PoliticalDiscussion', 'stickied': False, 'permalink': '', 'author_flair_text': '', 'detected_stance': 'unknown', 'stance_confidence': 0.0})}), Utterance({'obj_type': 'utterance', 'vectors': [], 'speaker_': Speaker({'obj_type': 'speaker', 'vectors': [], 'owner': <convokit.model.corpus.Corpus object at 0x7ac7e5e17790>, 'id': '[deleted]', 'meta': ConvoKitMeta({})}), 'owner': <convokit.model.corpus.Corpus object at 0x7ac7e5e17790>, 'id': 'c344cvw', 'meta': ConvoKitMeta({'score': 14, 'top_level_comment': 'c3443ch', 'retrieved_on': 1427953240, 'gilded': 0, 'gildings': None, 'subreddit': 'PoliticalDiscussion', 'stickied': False, 'permalink': '', 'author_flair_text': '', 'detected_stance': 'unknown', 'stance_confidence': 0.0})}), Utterance({'obj_type': 'utterance', 'vectors': [], 'speaker_': Speaker({'obj_type': 'speaker', 'vectors': [], 'owner': <convokit.model.corpus.Corpus object at 0x7ac7e5e17790>, 'id': '[deleted]', 'meta': ConvoKitMeta({})}), 'owner': <convokit.model.corpus.Corpus object at 0x7ac7e5e17790>, 'id': 'c344t5p', 'meta': ConvoKitMeta({'score': 5, 'top_level_comment': 'c3443ch', 'retrieved_on': 1427953458, 'gilded': 0, 'gildings': None, 'subreddit': 'PoliticalDiscussion', 'stickied': False, 'permalink': '', 'author_flair_text': '', 'detected_stance': 'unknown', 'stance_confidence': 0.0})})], 'HardCoreModerate_path_9': [Utterance({'obj_type': 'utterance', 'vectors': [], 'speaker_': Speaker({'obj_type': 'speaker', 'vectors': [], 'owner': <convokit.model.corpus.Corpus object at 0x7ac7e5e17790>, 'id': 'HardCoreModerate', 'meta': ConvoKitMeta({})}), 'owner': <convokit.model.corpus.Corpus object at 0x7ac7e5e17790>, 'id': 'c344801', 'meta': ConvoKitMeta({'score': 1, 'top_level_comment': 'c3443ch', 'retrieved_on': 1427953177, 'gilded': 0, 'gildings': None, 'subreddit': 'PoliticalDiscussion', 'stickied': False, 'permalink': '', 'author_flair_text': '', 'detected_stance': 'moderately_against', 'stance_confidence': 0.4428437153498332, 'stance_scores': {'strongly_favor': 0.02488376898691058, 'moderately_favor': 0.37380922337373096, 'neutral': 0.14455725625157356, 'moderately_against': 0.4428437153498332, 'strongly_against': 0.04677944971869389}})}), Utterance({'obj_type': 'utterance', 'vectors': [], 'speaker_': Speaker({'obj_type': 'speaker', 'vectors': [], 'owner': <convokit.model.corpus.Corpus object at 0x7ac7e5e17790>, 'id': 'HardCoreModerate', 'meta': ConvoKitMeta({})}), 'owner': <convokit.model.corpus.Corpus object at 0x7ac7e5e17790>, 'id': 'c344k47', 'meta': ConvoKitMeta({'score': 5, 'top_level_comment': 'c3443ch', 'retrieved_on': 1427953335, 'gilded': 0, 'gildings': None, 'subreddit': 'PoliticalDiscussion', 'stickied': False, 'permalink': '', 'author_flair_text': '', 'detected_stance': 'moderately_favor', 'stance_confidence': 0.6978683968385061, 'stance_scores': {'strongly_favor': 0.0065857310158511, 'moderately_favor': 0.6978683968385061, 'neutral': 0.39681241661310196, 'moderately_against': 0.24130689601103464, 'strongly_against': 0.02216348983347416}})}), Utterance({'obj_type': 'utterance', 'vectors': [], 'speaker_': Speaker({'obj_type': 'speaker', 'vectors': [], 'owner': <convokit.model.corpus.Corpus object at 0x7ac7e5e17790>, 'id': 'HardCoreModerate', 'meta': ConvoKitMeta({})}), 'owner': <convokit.model.corpus.Corpus object at 0x7ac7e5e17790>, 'id': 'c344x1d', 'meta': ConvoKitMeta({'score': 3, 'top_level_comment': 'c3443ch', 'retrieved_on': 1427953505, 'gilded': 0, 'gildings': None, 'subreddit': 'PoliticalDiscussion', 'stickied': False, 'permalink': '', 'author_flair_text': '', 'detected_stance': 'moderately_favor', 'stance_confidence': 0.8895079294840494, 'stance_scores': {'strongly_favor': 0.1162741556763649, 'moderately_favor': 0.8895079294840494, 'neutral': 0.4918711582819621, 'moderately_against': 0.6814576685428619, 'strongly_against': 0.021501387003809214}})}), Utterance({'obj_type': 'utterance', 'vectors': [], 'speaker_': Speaker({'obj_type': 'speaker', 'vectors': [], 'owner': <convokit.model.corpus.Corpus object at 0x7ac7e5e17790>, 'id': 'HardCoreModerate', 'meta': ConvoKitMeta({})}), 'owner': <convokit.model.corpus.Corpus object at 0x7ac7e5e17790>, 'id': 'c34bigz', 'meta': ConvoKitMeta({'score': 1, 'top_level_comment': 'c3443ch', 'retrieved_on': 1427956698, 'gilded': 0, 'gildings': None, 'subreddit': 'PoliticalDiscussion', 'stickied': False, 'permalink': '', 'author_flair_text': '', 'detected_stance': 'moderately_against', 'stance_confidence': 0.7480044364929199, 'stance_scores': {'strongly_favor': 0.027650392497889698, 'moderately_favor': 0.4647659361362457, 'neutral': 0.16959052501867214, 'moderately_against': 0.7480044364929199, 'strongly_against': 0.01491456424507002}})})], 'GeneraLeeStoned_path_9': [Utterance({'obj_type': 'utterance', 'vectors': [], 'speaker_': Speaker({'obj_type': 'speaker', 'vectors': [], 'owner': <convokit.model.corpus.Corpus object at 0x7ac7e5e17790>, 'id': 'GeneraLeeStoned', 'meta': ConvoKitMeta({})}), 'owner': <convokit.model.corpus.Corpus object at 0x7ac7e5e17790>, 'id': 'c34a3g3', 'meta': ConvoKitMeta({'score': 1, 'top_level_comment': 'c3443ch', 'retrieved_on': 1427956029, 'gilded': 0, 'gildings': None, 'subreddit': 'PoliticalDiscussion', 'stickied': False, 'permalink': '', 'author_flair_text': '', 'detected_stance': 'moderately_against', 'stance_confidence': 0.6612690488497416, 'stance_scores': {'strongly_favor': 0.016919110047941405, 'moderately_favor': 0.6223462820053101, 'neutral': 0.15950379644831023, 'moderately_against': 0.6612690488497416, 'strongly_against': 0.04394631087779999}})})], 'GeneraLeeStoned_path_10': [Utterance({'obj_type': 'utterance', 'vectors': [], 'speaker_': Speaker({'obj_type': 'speaker', 'vectors': [], 'owner': <convokit.model.corpus.Corpus object at 0x7ac7e5e17790>, 'id': 'GeneraLeeStoned', 'meta': ConvoKitMeta({})}), 'owner': <convokit.model.corpus.Corpus object at 0x7ac7e5e17790>, 'id': 'c34a30q', 'meta': ConvoKitMeta({'score': 2, 'top_level_comment': 'c3443ch', 'retrieved_on': 1427956017, 'gilded': 0, 'gildings': None, 'subreddit': 'PoliticalDiscussion', 'stickied': False, 'permalink': '', 'author_flair_text': '', 'detected_stance': 'moderately_against', 'stance_confidence': 0.7868022322654724, 'stance_scores': {'strongly_favor': 0.03272547068384787, 'moderately_favor': 0.6369082629680634, 'neutral': 0.31433019414544106, 'moderately_against': 0.7868022322654724, 'strongly_against': 0.20441787876188755}})}), Utterance({'obj_type': 'utterance', 'vectors': [], 'speaker_': Speaker({'obj_type': 'speaker', 'vectors': [], 'owner': <convokit.model.corpus.Corpus object at 0x7ac7e5e17790>, 'id': 'GeneraLeeStoned', 'meta': ConvoKitMeta({})}), 'owner': <convokit.model.corpus.Corpus object at 0x7ac7e5e17790>, 'id': 'c34e3o0', 'meta': ConvoKitMeta({'score': 1, 'top_level_comment': 'c3443ch', 'retrieved_on': 1427957915, 'gilded': 0, 'gildings': None, 'subreddit': 'PoliticalDiscussion', 'stickied': False, 'permalink': '', 'author_flair_text': '', 'detected_stance': 'moderately_favor', 'stance_confidence': 0.9566983183224996, 'stance_scores': {'strongly_favor': 0.6826340556144714, 'moderately_favor': 0.9566983183224996, 'neutral': 0.5700951019922892, 'moderately_against': 0.8991011579831442, 'strongly_against': 0.6009088568389416}})}), Utterance({'obj_type': 'utterance', 'vectors': [], 'speaker_': Speaker({'obj_type': 'speaker', 'vectors': [], 'owner': <convokit.model.corpus.Corpus object at 0x7ac7e5e17790>, 'id': 'GeneraLeeStoned', 'meta': ConvoKitMeta({})}), 'owner': <convokit.model.corpus.Corpus object at 0x7ac7e5e17790>, 'id': 'c34f4nv', 'meta': ConvoKitMeta({'score': 1, 'top_level_comment': 'c3443ch', 'retrieved_on': 1427958394, 'gilded': 0, 'gildings': None, 'subreddit': 'PoliticalDiscussion', 'stickied': False, 'permalink': '', 'author_flair_text': '', 'detected_stance': 'neutral', 'stance_confidence': 0.9951350887616476, 'stance_scores': {'strongly_favor': 0.039582250717406474, 'moderately_favor': 0.5399580299854279, 'neutral': 0.9951350887616476, 'moderately_against': 0.7119459907213846, 'strongly_against': 0.29832895410557586}})})], 'HardCoreModerate_path_10': [Utterance({'obj_type': 'utterance', 'vectors': [], 'speaker_': Speaker({'obj_type': 'speaker', 'vectors': [], 'owner': <convokit.model.corpus.Corpus object at 0x7ac7e5e17790>, 'id': 'HardCoreModerate', 'meta': ConvoKitMeta({})}), 'owner': <convokit.model.corpus.Corpus object at 0x7ac7e5e17790>, 'id': 'c34bk2j', 'meta': ConvoKitMeta({'score': 1, 'top_level_comment': 'c3443ch', 'retrieved_on': 1427956710, 'gilded': 0, 'gildings': None, 'subreddit': 'PoliticalDiscussion', 'stickied': False, 'permalink': '', 'author_flair_text': '', 'detected_stance': 'moderately_against', 'stance_confidence': 0.9650194644927979, 'stance_scores': {'strongly_favor': 0.005884762232502301, 'moderately_favor': 0.8883122801780701, 'neutral': 0.23657501364747682, 'moderately_against': 0.9650194644927979, 'strongly_against': 0.5941010606281149}})}), Utterance({'obj_type': 'utterance', 'vectors': [], 'speaker_': Speaker({'obj_type': 'speaker', 'vectors': [], 'owner': <convokit.model.corpus.Corpus object at 0x7ac7e5e17790>, 'id': 'HardCoreModerate', 'meta': ConvoKitMeta({})}), 'owner': <convokit.model.corpus.Corpus object at 0x7ac7e5e17790>, 'id': 'c34ewgq', 'meta': ConvoKitMeta({'score': 1, 'top_level_comment': 'c3443ch', 'retrieved_on': 1427958287, 'gilded': 0, 'gildings': None, 'subreddit': 'PoliticalDiscussion', 'stickied': False, 'permalink': '', 'author_flair_text': '', 'detected_stance': 'moderately_against', 'stance_confidence': 0.8568315307299296, 'stance_scores': {'strongly_favor': 0.03277188632637262, 'moderately_favor': 0.8300621708234152, 'neutral': 0.2675824811061223, 'moderately_against': 0.8568315307299296, 'strongly_against': 0.3627260873715083}})})], '[deleted]_path_11': [Utterance({'obj_type': 'utterance', 'vectors': [], 'speaker_': Speaker({'obj_type': 'speaker', 'vectors': [], 'owner': <convokit.model.corpus.Corpus object at 0x7ac7e5e17790>, 'id': '[deleted]', 'meta': ConvoKitMeta({})}), 'owner': <convokit.model.corpus.Corpus object at 0x7ac7e5e17790>, 'id': 'c34478j', 'meta': ConvoKitMeta({'score': 11, 'top_level_comment': 'c3443ch', 'retrieved_on': 1427953166, 'gilded': 0, 'gildings': None, 'subreddit': 'PoliticalDiscussion', 'stickied': False, 'permalink': '', 'author_flair_text': '', 'detected_stance': 'unknown', 'stance_confidence': 0.0})}), Utterance({'obj_type': 'utterance', 'vectors': [], 'speaker_': Speaker({'obj_type': 'speaker', 'vectors': [], 'owner': <convokit.model.corpus.Corpus object at 0x7ac7e5e17790>, 'id': '[deleted]', 'meta': ConvoKitMeta({})}), 'owner': <convokit.model.corpus.Corpus object at 0x7ac7e5e17790>, 'id': 'c344cvw', 'meta': ConvoKitMeta({'score': 14, 'top_level_comment': 'c3443ch', 'retrieved_on': 1427953240, 'gilded': 0, 'gildings': None, 'subreddit': 'PoliticalDiscussion', 'stickied': False, 'permalink': '', 'author_flair_text': '', 'detected_stance': 'unknown', 'stance_confidence': 0.0})})], 'HardCoreModerate_path_11': [Utterance({'obj_type': 'utterance', 'vectors': [], 'speaker_': Speaker({'obj_type': 'speaker', 'vectors': [], 'owner': <convokit.model.corpus.Corpus object at 0x7ac7e5e17790>, 'id': 'HardCoreModerate', 'meta': ConvoKitMeta({})}), 'owner': <convokit.model.corpus.Corpus object at 0x7ac7e5e17790>, 'id': 'c344801', 'meta': ConvoKitMeta({'score': 1, 'top_level_comment': 'c3443ch', 'retrieved_on': 1427953177, 'gilded': 0, 'gildings': None, 'subreddit': 'PoliticalDiscussion', 'stickied': False, 'permalink': '', 'author_flair_text': '', 'detected_stance': 'moderately_against', 'stance_confidence': 0.4428437153498332, 'stance_scores': {'strongly_favor': 0.02488376898691058, 'moderately_favor': 0.37380922337373096, 'neutral': 0.14455725625157356, 'moderately_against': 0.4428437153498332, 'strongly_against': 0.04677944971869389}})}), Utterance({'obj_type': 'utterance', 'vectors': [], 'speaker_': Speaker({'obj_type': 'speaker', 'vectors': [], 'owner': <convokit.model.corpus.Corpus object at 0x7ac7e5e17790>, 'id': 'HardCoreModerate', 'meta': ConvoKitMeta({})}), 'owner': <convokit.model.corpus.Corpus object at 0x7ac7e5e17790>, 'id': 'c344k47', 'meta': ConvoKitMeta({'score': 5, 'top_level_comment': 'c3443ch', 'retrieved_on': 1427953335, 'gilded': 0, 'gildings': None, 'subreddit': 'PoliticalDiscussion', 'stickied': False, 'permalink': '', 'author_flair_text': '', 'detected_stance': 'moderately_favor', 'stance_confidence': 0.6978683968385061, 'stance_scores': {'strongly_favor': 0.0065857310158511, 'moderately_favor': 0.6978683968385061, 'neutral': 0.39681241661310196, 'moderately_against': 0.24130689601103464, 'strongly_against': 0.02216348983347416}})})], 'ManiacalV_path_11': [Utterance({'obj_type': 'utterance', 'vectors': [], 'speaker_': Speaker({'obj_type': 'speaker', 'vectors': [], 'owner': <convokit.model.corpus.Corpus object at 0x7ac7e5e17790>, 'id': 'ManiacalV', 'meta': ConvoKitMeta({})}), 'owner': <convokit.model.corpus.Corpus object at 0x7ac7e5e17790>, 'id': 'c34775a', 'meta': ConvoKitMeta({'score': 2, 'top_level_comment': 'c3443ch', 'retrieved_on': 1427954580, 'gilded': 0, 'gildings': None, 'subreddit': 'PoliticalDiscussion', 'stickied': False, 'permalink': '', 'author_flair_text': '', 'detected_stance': 'moderately_against', 'stance_confidence': 0.710730105638504, 'stance_scores': {'strongly_favor': 0.021674984755615394, 'moderately_favor': 0.5071217318375906, 'neutral': 0.22878386080265045, 'moderately_against': 0.710730105638504, 'strongly_against': 0.03711680819590887}})})], 'theratking862_path_12': [Utterance({'obj_type': 'utterance', 'vectors': [], 'speaker_': Speaker({'obj_type': 'speaker', 'vectors': [], 'owner': <convokit.model.corpus.Corpus object at 0x7ac7e5e17790>, 'id': 'theratking862', 'meta': ConvoKitMeta({})}), 'owner': <convokit.model.corpus.Corpus object at 0x7ac7e5e17790>, 'id': 'c3447ot', 'meta': ConvoKitMeta({'score': 3, 'top_level_comment': 'c3443ch', 'retrieved_on': 1427953173, 'gilded': 0, 'gildings': None, 'subreddit': 'PoliticalDiscussion', 'stickied': False, 'permalink': '', 'author_flair_text': '', 'detected_stance': 'moderately_against', 'stance_confidence': 0.5437546173731486, 'stance_scores': {'strongly_favor': 0.025488067883998156, 'moderately_favor': 0.5384971002737681, 'neutral': 0.2516275954743226, 'moderately_against': 0.5437546173731486, 'strongly_against': 0.0071083858686809736}})}), Utterance({'obj_type': 'utterance', 'vectors': [], 'speaker_': Speaker({'obj_type': 'speaker', 'vectors': [], 'owner': <convokit.model.corpus.Corpus object at 0x7ac7e5e17790>, 'id': 'theratking862', 'meta': ConvoKitMeta({})}), 'owner': <convokit.model.corpus.Corpus object at 0x7ac7e5e17790>, 'id': 'c349jzg', 'meta': ConvoKitMeta({'score': 1, 'top_level_comment': 'c3443ch', 'retrieved_on': 1427955775, 'gilded': 0, 'gildings': None, 'subreddit': 'PoliticalDiscussion', 'stickied': False, 'permalink': '', 'author_flair_text': '', 'detected_stance': 'moderately_against', 'stance_confidence': 0.5479722619056702, 'stance_scores': {'strongly_favor': 0.009693544823676348, 'moderately_favor': 0.49042608340581256, 'neutral': 0.10406800421575706, 'moderately_against': 0.5479722619056702, 'strongly_against': 0.003042463349023213}})}), Utterance({'obj_type': 'utterance', 'vectors': [], 'speaker_': Speaker({'obj_type': 'speaker', 'vectors': [], 'owner': <convokit.model.corpus.Corpus object at 0x7ac7e5e17790>, 'id': 'theratking862', 'meta': ConvoKitMeta({})}), 'owner': <convokit.model.corpus.Corpus object at 0x7ac7e5e17790>, 'id': 'c34ck7f', 'meta': ConvoKitMeta({'score': 1, 'top_level_comment': 'c3443ch', 'retrieved_on': 1427957183, 'gilded': 0, 'gildings': None, 'subreddit': 'PoliticalDiscussion', 'stickied': False, 'permalink': '', 'author_flair_text': '', 'detected_stance': 'moderately_against', 'stance_confidence': 0.737829844156901, 'stance_scores': {'strongly_favor': 0.0007605979238481572, 'moderately_favor': 0.5032530327637991, 'neutral': 0.002964871615404263, 'moderately_against': 0.737829844156901, 'strongly_against': 0.4279330273469289}})})], 'HardCoreModerate_path_12': [Utterance({'obj_type': 'utterance', 'vectors': [], 'speaker_': Speaker({'obj_type': 'speaker', 'vectors': [], 'owner': <convokit.model.corpus.Corpus object at 0x7ac7e5e17790>, 'id': 'HardCoreModerate', 'meta': ConvoKitMeta({})}), 'owner': <convokit.model.corpus.Corpus object at 0x7ac7e5e17790>, 'id': 'c3449zr', 'meta': ConvoKitMeta({'score': -1, 'top_level_comment': 'c3443ch', 'retrieved_on': 1427953204, 'gilded': 0, 'gildings': None, 'subreddit': 'PoliticalDiscussion', 'stickied': False, 'permalink': '', 'author_flair_text': '', 'detected_stance': 'moderately_against', 'stance_confidence': 0.7079007426897684, 'stance_scores': {'strongly_favor': 0.052736639976501465, 'moderately_favor': 0.5996817847092947, 'neutral': 0.345784234503905, 'moderately_against': 0.7079007426897684, 'strongly_against': 0.06062019383534789}})}), Utterance({'obj_type': 'utterance', 'vectors': [], 'speaker_': Speaker({'obj_type': 'speaker', 'vectors': [], 'owner': <convokit.model.corpus.Corpus object at 0x7ac7e5e17790>, 'id': 'HardCoreModerate', 'meta': ConvoKitMeta({})}), 'owner': <convokit.model.corpus.Corpus object at 0x7ac7e5e17790>, 'id': 'c34bli4', 'meta': ConvoKitMeta({'score': 1, 'top_level_comment': 'c3443ch', 'retrieved_on': 1427956730, 'gilded': 0, 'gildings': None, 'subreddit': 'PoliticalDiscussion', 'stickied': False, 'permalink': '', 'author_flair_text': '', 'detected_stance': 'moderately_against', 'stance_confidence': 0.5698324541250864, 'stance_scores': {'strongly_favor': 0.002167033657315187, 'moderately_favor': 0.5107852121194204, 'neutral': 0.10594247374683619, 'moderately_against': 0.5698324541250864, 'strongly_against': 0.008991533191874623}})}), Utterance({'obj_type': 'utterance', 'vectors': [], 'speaker_': Speaker({'obj_type': 'speaker', 'vectors': [], 'owner': <convokit.model.corpus.Corpus object at 0x7ac7e5e17790>, 'id': 'HardCoreModerate', 'meta': ConvoKitMeta({})}), 'owner': <convokit.model.corpus.Corpus object at 0x7ac7e5e17790>, 'id': 'c34e3d0', 'meta': ConvoKitMeta({'score': 1, 'top_level_comment': 'c3443ch', 'retrieved_on': 1427957911, 'gilded': 0, 'gildings': None, 'subreddit': 'PoliticalDiscussion', 'stickied': False, 'permalink': '', 'author_flair_text': '', 'detected_stance': 'moderately_against', 'stance_confidence': 0.5576379199822744, 'stance_scores': {'strongly_favor': 0.0010146538746388007, 'moderately_favor': 0.3221726417541504, 'neutral': 0.0029628375389923653, 'moderately_against': 0.5576379199822744, 'strongly_against': 0.17515784750382105}})})], 'Strawberry_Poptart_path_13': [Utterance({'obj_type': 'utterance', 'vectors': [], 'speaker_': Speaker({'obj_type': 'speaker', 'vectors': [], 'owner': <convokit.model.corpus.Corpus object at 0x7ac7e5e17790>, 'id': 'Strawberry_Poptart', 'meta': ConvoKitMeta({})}), 'owner': <convokit.model.corpus.Corpus object at 0x7ac7e5e17790>, 'id': 'c347ufd', 'meta': ConvoKitMeta({'score': 1, 'top_level_comment': 'c3443ch', 'retrieved_on': 1427954884, 'gilded': 0, 'gildings': None, 'subreddit': 'PoliticalDiscussion', 'stickied': False, 'permalink': '', 'author_flair_text': '', 'detected_stance': 'moderately_against', 'stance_confidence': 0.6042178670565287, 'stance_scores': {'strongly_favor': 0.045485638082027435, 'moderately_favor': 0.45936620235443115, 'neutral': 0.14982974901795387, 'moderately_against': 0.6042178670565287, 'strongly_against': 0.04991954033418248}})}), Utterance({'obj_type': 'utterance', 'vectors': [], 'speaker_': Speaker({'obj_type': 'speaker', 'vectors': [], 'owner': <convokit.model.corpus.Corpus object at 0x7ac7e5e17790>, 'id': 'Strawberry_Poptart', 'meta': ConvoKitMeta({})}), 'owner': <convokit.model.corpus.Corpus object at 0x7ac7e5e17790>, 'id': 'c347wx9', 'meta': ConvoKitMeta({'score': 1, 'top_level_comment': 'c3443ch', 'retrieved_on': 1427954917, 'gilded': 0, 'gildings': None, 'subreddit': 'PoliticalDiscussion', 'stickied': False, 'permalink': '', 'author_flair_text': '', 'detected_stance': 'moderately_against', 'stance_confidence': 0.5736167505383492, 'stance_scores': {'strongly_favor': 0.17492359628280005, 'moderately_favor': 0.46179774900277454, 'neutral': 0.472636138399442, 'moderately_against': 0.5736167505383492, 'strongly_against': 0.0007916761048060531}})})], 'HardCoreModerate_path_13': [Utterance({'obj_type': 'utterance', 'vectors': [], 'speaker_': Speaker({'obj_type': 'speaker', 'vectors': [], 'owner': <convokit.model.corpus.Corpus object at 0x7ac7e5e17790>, 'id': 'HardCoreModerate', 'meta': ConvoKitMeta({})}), 'owner': <convokit.model.corpus.Corpus object at 0x7ac7e5e17790>, 'id': 'c347vmm', 'meta': ConvoKitMeta({'score': 1, 'top_level_comment': 'c3443ch', 'retrieved_on': 1428177384, 'gilded': 0, 'gildings': None, 'subreddit': 'PoliticalDiscussion', 'stickied': False, 'permalink': '', 'author_flair_text': '', 'detected_stance': 'moderately_against', 'stance_confidence': 0.7459398508071899, 'stance_scores': {'strongly_favor': 0.0068766210072984295, 'moderately_favor': 0.4293260375658671, 'neutral': 0.33990345895290375, 'moderately_against': 0.7459398508071899, 'strongly_against': 0.20229525165632367}})})], 'zombieaynrand_path_14': [Utterance({'obj_type': 'utterance', 'vectors': [], 'speaker_': Speaker({'obj_type': 'speaker', 'vectors': [], 'owner': <convokit.model.corpus.Corpus object at 0x7ac7e5e17790>, 'id': 'zombieaynrand', 'meta': ConvoKitMeta({})}), 'owner': <convokit.model.corpus.Corpus object at 0x7ac7e5e17790>, 'id': 'c348oiv', 'meta': ConvoKitMeta({'score': -1, 'top_level_comment': 'c3443ch', 'retrieved_on': 1427955277, 'gilded': 0, 'gildings': None, 'subreddit': 'PoliticalDiscussion', 'stickied': False, 'permalink': '', 'author_flair_text': '', 'detected_stance': 'moderately_against', 'stance_confidence': 0.51517986257871, 'stance_scores': {'strongly_favor': 0.0020459337101783603, 'moderately_favor': 0.31438377499580383, 'neutral': 0.08184387783209483, 'moderately_against': 0.51517986257871, 'strongly_against': 0.5050001541773478}})})], 'HardCoreModerate_path_14': [Utterance({'obj_type': 'utterance', 'vectors': [], 'speaker_': Speaker({'obj_type': 'speaker', 'vectors': [], 'owner': <convokit.model.corpus.Corpus object at 0x7ac7e5e17790>, 'id': 'HardCoreModerate', 'meta': ConvoKitMeta({})}), 'owner': <convokit.model.corpus.Corpus object at 0x7ac7e5e17790>, 'id': 'c349430', 'meta': ConvoKitMeta({'score': 2, 'top_level_comment': 'c3443ch', 'retrieved_on': 1427955559, 'gilded': 0, 'gildings': None, 'subreddit': 'PoliticalDiscussion', 'stickied': False, 'permalink': '', 'author_flair_text': '', 'detected_stance': 'strongly_against', 'stance_confidence': 0.6390580832958221, 'stance_scores': {'strongly_favor': 0.0003075665687598909, 'moderately_favor': 0.1686428984006246, 'neutral': 0.06342883151955903, 'moderately_against': 0.36409662167231244, 'strongly_against': 0.6390580832958221}})})], 'IDontHaveTimeForThis_path_15': [Utterance({'obj_type': 'utterance', 'vectors': [], 'speaker_': Speaker({'obj_type': 'speaker', 'vectors': [], 'owner': <convokit.model.corpus.Corpus object at 0x7ac7e5e17790>, 'id': 'IDontHaveTimeForThis', 'meta': ConvoKitMeta({})}), 'owner': <convokit.model.corpus.Corpus object at 0x7ac7e5e17790>, 'id': 'c345k0c', 'meta': ConvoKitMeta({'score': 4, 'top_level_comment': 'c3443ch', 'retrieved_on': 1427953805, 'gilded': 0, 'gildings': None, 'subreddit': 'PoliticalDiscussion', 'stickied': False, 'permalink': '', 'author_flair_text': '', 'detected_stance': 'moderately_against', 'stance_confidence': 0.4455653925736745, 'stance_scores': {'strongly_favor': 0.011729430872946978, 'moderately_favor': 0.2827725087602933, 'neutral': 0.08768850440780322, 'moderately_against': 0.4455653925736745, 'strongly_against': 0.02894406362126271}})})], 'HardCoreModerate_path_15': [Utterance({'obj_type': 'utterance', 'vectors': [], 'speaker_': Speaker({'obj_type': 'speaker', 'vectors': [], 'owner': <convokit.model.corpus.Corpus object at 0x7ac7e5e17790>, 'id': 'HardCoreModerate', 'meta': ConvoKitMeta({})}), 'owner': <convokit.model.corpus.Corpus object at 0x7ac7e5e17790>, 'id': 'c345os6', 'meta': ConvoKitMeta({'score': 1, 'top_level_comment': 'c3443ch', 'retrieved_on': 1427953868, 'gilded': 0, 'gildings': None, 'subreddit': 'PoliticalDiscussion', 'stickied': False, 'permalink': '', 'author_flair_text': '', 'detected_stance': 'moderately_against', 'stance_confidence': 0.6844234665234884, 'stance_scores': {'strongly_favor': 0.053491344985862575, 'moderately_favor': 0.5602976282437643, 'neutral': 0.22659789149959883, 'moderately_against': 0.6844234665234884, 'strongly_against': 0.07679645468791325}})})], 'outwrangle_path_15': [Utterance({'obj_type': 'utterance', 'vectors': [], 'speaker_': Speaker({'obj_type': 'speaker', 'vectors': [], 'owner': <convokit.model.corpus.Corpus object at 0x7ac7e5e17790>, 'id': 'outwrangle', 'meta': ConvoKitMeta({})}), 'owner': <convokit.model.corpus.Corpus object at 0x7ac7e5e17790>, 'id': 'c3473se', 'meta': ConvoKitMeta({'score': 1, 'top_level_comment': 'c3443ch', 'retrieved_on': 1427954544, 'gilded': 0, 'gildings': None, 'subreddit': 'PoliticalDiscussion', 'stickied': False, 'permalink': '', 'author_flair_text': '', 'detected_stance': 'moderately_against', 'stance_confidence': 0.6386852860450745, 'stance_scores': {'strongly_favor': 0.010119584699471792, 'moderately_favor': 0.33979933460553485, 'neutral': 0.05040352574239174, 'moderately_against': 0.6386852860450745, 'strongly_against': 0.1729510398581624}})})]})\n"
          ]
        }
      ]
    },
    {
      "cell_type": "code",
      "source": [
        "# Test the preprocessor:\n",
        "pair_preprocessor = PairPreprocessor()\n",
        "pair = op_path_pairs[3]\n",
        "# So it should take a tuple, where the second part of the tuple is a dictionary of path_key, list of utterance pairs\n",
        "\n",
        "# WHY THIS WORKS????\n",
        "# for k, v in pair[1].items():\n",
        "#     print(k, v)\n",
        "\n",
        "preprocessed_pairs = pair_preprocessor.concatenate_path_in_all_pairs(op_path_pairs)\n",
        "\n",
        "for pair in preprocessed_pairs:\n",
        "    for k, utt_text in pair[1].items():\n",
        "        print(1000*'=')\n",
        "        print(f'Text: {utt_text}\\n')\n",
        "\n",
        "# Now do it for all pairs\n",
        "\n",
        "# DONT FORGET TO REMOVE DELETED ETC.\n",
        "# SHIT BUT CAN I KEEP THEM TO ANALYSE THEM SOMEHOW?\n",
        "# AS LONG AS THEY ARE IN THE SAME PATH I THINK I CAN KEEP THEM?\n"
      ],
      "metadata": {
        "id": "OEmCUli_WtEn"
      },
      "id": "OEmCUli_WtEn",
      "execution_count": null,
      "outputs": []
    },
    {
      "cell_type": "code",
      "source": [
        "import nltk\n",
        "from nltk.corpus import stopwords\n",
        "\n",
        "nltk.download('stopwords')\n",
        "\n",
        "# Load English stop words\n",
        "stop_words_set = set(stopwords.words('english'))\n",
        "\n",
        "print(len(stop_words_set))\n",
        "print(list(stop_words_set)[:20])  # Show first 20 stop words"
      ],
      "metadata": {
        "id": "d9mRlswpfbtX",
        "outputId": "f4a55a20-cf26-47a5-d0a0-361a700f0658",
        "colab": {
          "base_uri": "https://localhost:8080/",
          "height": 0
        }
      },
      "id": "d9mRlswpfbtX",
      "execution_count": 19,
      "outputs": [
        {
          "output_type": "stream",
          "name": "stdout",
          "text": [
            "198\n",
            "['am', 'under', \"i'll\", \"she'll\", \"i'd\", 'not', \"haven't\", 'your', 'there', 'here', 'won', \"shouldn't\", 'weren', 'should', 'have', 'couldn', 'having', 'my', 'himself', \"you'll\"]\n"
          ]
        },
        {
          "output_type": "stream",
          "name": "stderr",
          "text": [
            "[nltk_data] Downloading package stopwords to /root/nltk_data...\n",
            "[nltk_data]   Unzipping corpora/stopwords.zip.\n"
          ]
        }
      ]
    },
    {
      "cell_type": "code",
      "source": [
        "# Test interplay features extraction\n",
        "features_list = []\n",
        "for op, paths in preprocessed_pairs:\n",
        "    for k, concatenated_utts in paths.items():\n",
        "        interplay_features = calculate_interplay_features(op.text, concatenated_utts, stop_words_set)\n",
        "        features_list.append(interplay_features)\n",
        "\n",
        "for interplay_features in features_list:\n",
        "    print(interplay_features)"
      ],
      "metadata": {
        "colab": {
          "base_uri": "https://localhost:8080/",
          "height": 0
        },
        "id": "QGUIAFdGW3Ak",
        "outputId": "1a562659-4dd6-4055-c7b5-1a614e66d4e5"
      },
      "id": "QGUIAFdGW3Ak",
      "execution_count": 20,
      "outputs": [
        {
          "output_type": "stream",
          "name": "stdout",
          "text": [
            "{'common_words_all': 31, 'sim_frac_reply_all': 0.5344827586206896, 'sim_frac_op_all': 0.1341991341991342, 'jaccard_all': 0.12015503875968993, 'common_words_stop': 19, 'sim_frac_reply_stop': 0.76, 'sim_frac_op_stop': 0.27941176470588236, 'jaccard_stop': 0.25675675675675674, 'common_words_content': 12, 'sim_frac_reply_content': 0.36363636363636365, 'sim_frac_op_content': 0.0736196319018405, 'jaccard_content': 0.06521739130434782}\n",
            "{'common_words_all': 8, 'sim_frac_reply_all': 0.7272727272727273, 'sim_frac_op_all': 0.03463203463203463, 'jaccard_all': 0.03418803418803419, 'common_words_stop': 5, 'sim_frac_reply_stop': 1.0, 'sim_frac_op_stop': 0.07352941176470588, 'jaccard_stop': 0.07352941176470588, 'common_words_content': 3, 'sim_frac_reply_content': 0.5, 'sim_frac_op_content': 0.018404907975460124, 'jaccard_content': 0.018072289156626505}\n",
            "{'common_words_all': 0, 'sim_frac_reply_all': 0.0, 'sim_frac_op_all': 0.0, 'jaccard_all': 0.0, 'common_words_stop': 0, 'sim_frac_reply_stop': 0, 'sim_frac_op_stop': 0.0, 'jaccard_stop': 0.0, 'common_words_content': 0, 'sim_frac_reply_content': 0.0, 'sim_frac_op_content': 0.0, 'jaccard_content': 0.0}\n",
            "{'common_words_all': 55, 'sim_frac_reply_all': 0.4365079365079365, 'sim_frac_op_all': 0.23809523809523808, 'jaccard_all': 0.18211920529801323, 'common_words_stop': 32, 'sim_frac_reply_stop': 0.8205128205128205, 'sim_frac_op_stop': 0.47058823529411764, 'jaccard_stop': 0.4266666666666667, 'common_words_content': 23, 'sim_frac_reply_content': 0.26436781609195403, 'sim_frac_op_content': 0.1411042944785276, 'jaccard_content': 0.1013215859030837}\n",
            "{'common_words_all': 23, 'sim_frac_reply_all': 0.5476190476190477, 'sim_frac_op_all': 0.09956709956709957, 'jaccard_all': 0.092, 'common_words_stop': 14, 'sim_frac_reply_stop': 0.875, 'sim_frac_op_stop': 0.20588235294117646, 'jaccard_stop': 0.2, 'common_words_content': 9, 'sim_frac_reply_content': 0.34615384615384615, 'sim_frac_op_content': 0.05521472392638037, 'jaccard_content': 0.05}\n",
            "{'common_words_all': 17, 'sim_frac_reply_all': 0.5151515151515151, 'sim_frac_op_all': 0.0735930735930736, 'jaccard_all': 0.06882591093117409, 'common_words_stop': 13, 'sim_frac_reply_stop': 0.6842105263157895, 'sim_frac_op_stop': 0.19117647058823528, 'jaccard_stop': 0.17567567567567569, 'common_words_content': 4, 'sim_frac_reply_content': 0.2857142857142857, 'sim_frac_op_content': 0.024539877300613498, 'jaccard_content': 0.023121387283236993}\n",
            "{'common_words_all': 14, 'sim_frac_reply_all': 0.4117647058823529, 'sim_frac_op_all': 0.06060606060606061, 'jaccard_all': 0.055776892430278883, 'common_words_stop': 11, 'sim_frac_reply_stop': 0.6875, 'sim_frac_op_stop': 0.16176470588235295, 'jaccard_stop': 0.1506849315068493, 'common_words_content': 3, 'sim_frac_reply_content': 0.16666666666666666, 'sim_frac_op_content': 0.018404907975460124, 'jaccard_content': 0.016853932584269662}\n",
            "{'common_words_all': 31, 'sim_frac_reply_all': 0.5344827586206896, 'sim_frac_op_all': 0.1341991341991342, 'jaccard_all': 0.12015503875968993, 'common_words_stop': 19, 'sim_frac_reply_stop': 0.76, 'sim_frac_op_stop': 0.27941176470588236, 'jaccard_stop': 0.25675675675675674, 'common_words_content': 12, 'sim_frac_reply_content': 0.36363636363636365, 'sim_frac_op_content': 0.0736196319018405, 'jaccard_content': 0.06521739130434782}\n",
            "{'common_words_all': 49, 'sim_frac_reply_all': 0.46226415094339623, 'sim_frac_op_all': 0.21212121212121213, 'jaccard_all': 0.1701388888888889, 'common_words_stop': 32, 'sim_frac_reply_stop': 0.8, 'sim_frac_op_stop': 0.47058823529411764, 'jaccard_stop': 0.42105263157894735, 'common_words_content': 17, 'sim_frac_reply_content': 0.25757575757575757, 'sim_frac_op_content': 0.10429447852760736, 'jaccard_content': 0.08018867924528301}\n",
            "{'common_words_all': 28, 'sim_frac_reply_all': 0.4375, 'sim_frac_op_all': 0.12121212121212122, 'jaccard_all': 0.10486891385767791, 'common_words_stop': 19, 'sim_frac_reply_stop': 0.8636363636363636, 'sim_frac_op_stop': 0.27941176470588236, 'jaccard_stop': 0.2676056338028169, 'common_words_content': 9, 'sim_frac_reply_content': 0.21428571428571427, 'sim_frac_op_content': 0.05521472392638037, 'jaccard_content': 0.04591836734693878}\n",
            "{'common_words_all': 0, 'sim_frac_reply_all': 0.0, 'sim_frac_op_all': 0.0, 'jaccard_all': 0.0, 'common_words_stop': 0, 'sim_frac_reply_stop': 0, 'sim_frac_op_stop': 0.0, 'jaccard_stop': 0.0, 'common_words_content': 0, 'sim_frac_reply_content': 0.0, 'sim_frac_op_content': 0.0, 'jaccard_content': 0.0}\n",
            "{'common_words_all': 112, 'sim_frac_reply_all': 0.30939226519337015, 'sim_frac_op_all': 0.48484848484848486, 'jaccard_all': 0.23284823284823286, 'common_words_stop': 60, 'sim_frac_reply_stop': 0.6896551724137931, 'sim_frac_op_stop': 0.8823529411764706, 'jaccard_stop': 0.631578947368421, 'common_words_content': 52, 'sim_frac_reply_content': 0.1890909090909091, 'sim_frac_op_content': 0.31901840490797545, 'jaccard_content': 0.13471502590673576}\n",
            "{'common_words_all': 10, 'sim_frac_reply_all': 0.5, 'sim_frac_op_all': 0.04329004329004329, 'jaccard_all': 0.04149377593360996, 'common_words_stop': 8, 'sim_frac_reply_stop': 1.0, 'sim_frac_op_stop': 0.11764705882352941, 'jaccard_stop': 0.11764705882352941, 'common_words_content': 2, 'sim_frac_reply_content': 0.16666666666666666, 'sim_frac_op_content': 0.012269938650306749, 'jaccard_content': 0.011560693641618497}\n",
            "{'common_words_all': 0, 'sim_frac_reply_all': 0.0, 'sim_frac_op_all': 0.0, 'jaccard_all': 0.0, 'common_words_stop': 0, 'sim_frac_reply_stop': 0, 'sim_frac_op_stop': 0.0, 'jaccard_stop': 0.0, 'common_words_content': 0, 'sim_frac_reply_content': 0.0, 'sim_frac_op_content': 0.0, 'jaccard_content': 0.0}\n",
            "{'common_words_all': 112, 'sim_frac_reply_all': 0.30939226519337015, 'sim_frac_op_all': 0.48484848484848486, 'jaccard_all': 0.23284823284823286, 'common_words_stop': 60, 'sim_frac_reply_stop': 0.6896551724137931, 'sim_frac_op_stop': 0.8823529411764706, 'jaccard_stop': 0.631578947368421, 'common_words_content': 52, 'sim_frac_reply_content': 0.1890909090909091, 'sim_frac_op_content': 0.31901840490797545, 'jaccard_content': 0.13471502590673576}\n",
            "{'common_words_all': 56, 'sim_frac_reply_all': 0.4028776978417266, 'sim_frac_op_all': 0.24242424242424243, 'jaccard_all': 0.17834394904458598, 'common_words_stop': 40, 'sim_frac_reply_stop': 0.7692307692307693, 'sim_frac_op_stop': 0.5882352941176471, 'jaccard_stop': 0.5, 'common_words_content': 16, 'sim_frac_reply_content': 0.1839080459770115, 'sim_frac_op_content': 0.09815950920245399, 'jaccard_content': 0.06837606837606838}\n",
            "{'common_words_all': 32, 'sim_frac_reply_all': 0.47761194029850745, 'sim_frac_op_all': 0.13852813852813853, 'jaccard_all': 0.12030075187969924, 'common_words_stop': 27, 'sim_frac_reply_stop': 0.9310344827586207, 'sim_frac_op_stop': 0.39705882352941174, 'jaccard_stop': 0.38571428571428573, 'common_words_content': 5, 'sim_frac_reply_content': 0.13157894736842105, 'sim_frac_op_content': 0.03067484662576687, 'jaccard_content': 0.025510204081632654}\n",
            "{'common_words_all': 26, 'sim_frac_reply_all': 0.5, 'sim_frac_op_all': 0.11255411255411256, 'jaccard_all': 0.10116731517509728, 'common_words_stop': 18, 'sim_frac_reply_stop': 0.6666666666666666, 'sim_frac_op_stop': 0.2647058823529412, 'jaccard_stop': 0.23376623376623376, 'common_words_content': 8, 'sim_frac_reply_content': 0.32, 'sim_frac_op_content': 0.049079754601226995, 'jaccard_content': 0.044444444444444446}\n",
            "{'common_words_all': 34, 'sim_frac_reply_all': 0.3269230769230769, 'sim_frac_op_all': 0.1471861471861472, 'jaccard_all': 0.11295681063122924, 'common_words_stop': 22, 'sim_frac_reply_stop': 0.5789473684210527, 'sim_frac_op_stop': 0.3235294117647059, 'jaccard_stop': 0.2619047619047619, 'common_words_content': 12, 'sim_frac_reply_content': 0.18181818181818182, 'sim_frac_op_content': 0.0736196319018405, 'jaccard_content': 0.055299539170506916}\n",
            "{'common_words_all': 0, 'sim_frac_reply_all': 0.0, 'sim_frac_op_all': 0.0, 'jaccard_all': 0.0, 'common_words_stop': 0, 'sim_frac_reply_stop': 0, 'sim_frac_op_stop': 0.0, 'jaccard_stop': 0.0, 'common_words_content': 0, 'sim_frac_reply_content': 0.0, 'sim_frac_op_content': 0.0, 'jaccard_content': 0.0}\n",
            "{'common_words_all': 105, 'sim_frac_reply_all': 0.34539473684210525, 'sim_frac_op_all': 0.45454545454545453, 'jaccard_all': 0.2441860465116279, 'common_words_stop': 57, 'sim_frac_reply_stop': 0.7215189873417721, 'sim_frac_op_stop': 0.8382352941176471, 'jaccard_stop': 0.6333333333333333, 'common_words_content': 48, 'sim_frac_reply_content': 0.21333333333333335, 'sim_frac_op_content': 0.294478527607362, 'jaccard_content': 0.1411764705882353}\n",
            "{'common_words_all': 24, 'sim_frac_reply_all': 0.39344262295081966, 'sim_frac_op_all': 0.1038961038961039, 'jaccard_all': 0.08955223880597014, 'common_words_stop': 16, 'sim_frac_reply_stop': 0.6956521739130435, 'sim_frac_op_stop': 0.23529411764705882, 'jaccard_stop': 0.21333333333333335, 'common_words_content': 8, 'sim_frac_reply_content': 0.21052631578947367, 'sim_frac_op_content': 0.049079754601226995, 'jaccard_content': 0.04145077720207254}\n",
            "{'common_words_all': 102, 'sim_frac_reply_all': 0.21982758620689655, 'sim_frac_op_all': 0.44155844155844154, 'jaccard_all': 0.17200674536256325, 'common_words_stop': 56, 'sim_frac_reply_stop': 0.6222222222222222, 'sim_frac_op_stop': 0.8235294117647058, 'jaccard_stop': 0.5490196078431373, 'common_words_content': 46, 'sim_frac_reply_content': 0.12299465240641712, 'sim_frac_op_content': 0.2822085889570552, 'jaccard_content': 0.09368635437881874}\n",
            "{'common_words_all': 103, 'sim_frac_reply_all': 0.2845303867403315, 'sim_frac_op_all': 0.4458874458874459, 'jaccard_all': 0.21020408163265306, 'common_words_stop': 59, 'sim_frac_reply_stop': 0.7283950617283951, 'sim_frac_op_stop': 0.8676470588235294, 'jaccard_stop': 0.6555555555555556, 'common_words_content': 44, 'sim_frac_reply_content': 0.15658362989323843, 'sim_frac_op_content': 0.26993865030674846, 'jaccard_content': 0.11}\n",
            "{'common_words_all': 0, 'sim_frac_reply_all': 0.0, 'sim_frac_op_all': 0.0, 'jaccard_all': 0.0, 'common_words_stop': 0, 'sim_frac_reply_stop': 0, 'sim_frac_op_stop': 0.0, 'jaccard_stop': 0.0, 'common_words_content': 0, 'sim_frac_reply_content': 0.0, 'sim_frac_op_content': 0.0, 'jaccard_content': 0.0}\n",
            "{'common_words_all': 55, 'sim_frac_reply_all': 0.4365079365079365, 'sim_frac_op_all': 0.23809523809523808, 'jaccard_all': 0.18211920529801323, 'common_words_stop': 32, 'sim_frac_reply_stop': 0.8205128205128205, 'sim_frac_op_stop': 0.47058823529411764, 'jaccard_stop': 0.4266666666666667, 'common_words_content': 23, 'sim_frac_reply_content': 0.26436781609195403, 'sim_frac_op_content': 0.1411042944785276, 'jaccard_content': 0.1013215859030837}\n",
            "{'common_words_all': 65, 'sim_frac_reply_all': 0.32338308457711445, 'sim_frac_op_all': 0.2813852813852814, 'jaccard_all': 0.1771117166212534, 'common_words_stop': 42, 'sim_frac_reply_stop': 0.7, 'sim_frac_op_stop': 0.6176470588235294, 'jaccard_stop': 0.4883720930232558, 'common_words_content': 23, 'sim_frac_reply_content': 0.16312056737588654, 'sim_frac_op_content': 0.1411042944785276, 'jaccard_content': 0.08185053380782918}\n",
            "{'common_words_all': 43, 'sim_frac_reply_all': 0.4777777777777778, 'sim_frac_op_all': 0.18614718614718614, 'jaccard_all': 0.15467625899280577, 'common_words_stop': 25, 'sim_frac_reply_stop': 0.7352941176470589, 'sim_frac_op_stop': 0.36764705882352944, 'jaccard_stop': 0.3246753246753247, 'common_words_content': 18, 'sim_frac_reply_content': 0.32142857142857145, 'sim_frac_op_content': 0.11042944785276074, 'jaccard_content': 0.08955223880597014}\n",
            "{'common_words_all': 56, 'sim_frac_reply_all': 0.448, 'sim_frac_op_all': 0.24242424242424243, 'jaccard_all': 0.18666666666666668, 'common_words_stop': 35, 'sim_frac_reply_stop': 0.7954545454545454, 'sim_frac_op_stop': 0.5147058823529411, 'jaccard_stop': 0.45454545454545453, 'common_words_content': 21, 'sim_frac_reply_content': 0.25925925925925924, 'sim_frac_op_content': 0.12883435582822086, 'jaccard_content': 0.09417040358744394}\n",
            "{'common_words_all': 8, 'sim_frac_reply_all': 0.47058823529411764, 'sim_frac_op_all': 0.03463203463203463, 'jaccard_all': 0.03333333333333333, 'common_words_stop': 5, 'sim_frac_reply_stop': 0.7142857142857143, 'sim_frac_op_stop': 0.07352941176470588, 'jaccard_stop': 0.07142857142857142, 'common_words_content': 3, 'sim_frac_reply_content': 0.3, 'sim_frac_op_content': 0.018404907975460124, 'jaccard_content': 0.01764705882352941}\n",
            "{'common_words_all': 8, 'sim_frac_reply_all': 0.4, 'sim_frac_op_all': 0.03463203463203463, 'jaccard_all': 0.03292181069958848, 'common_words_stop': 6, 'sim_frac_reply_stop': 0.75, 'sim_frac_op_stop': 0.08823529411764706, 'jaccard_stop': 0.08571428571428572, 'common_words_content': 2, 'sim_frac_reply_content': 0.16666666666666666, 'sim_frac_op_content': 0.012269938650306749, 'jaccard_content': 0.011560693641618497}\n",
            "{'common_words_all': 51, 'sim_frac_reply_all': 0.3984375, 'sim_frac_op_all': 0.22077922077922077, 'jaccard_all': 0.16558441558441558, 'common_words_stop': 35, 'sim_frac_reply_stop': 0.7954545454545454, 'sim_frac_op_stop': 0.5147058823529411, 'jaccard_stop': 0.45454545454545453, 'common_words_content': 16, 'sim_frac_reply_content': 0.19047619047619047, 'sim_frac_op_content': 0.09815950920245399, 'jaccard_content': 0.06926406926406926}\n",
            "{'common_words_all': 10, 'sim_frac_reply_all': 0.45454545454545453, 'sim_frac_op_all': 0.04329004329004329, 'jaccard_all': 0.0411522633744856, 'common_words_stop': 8, 'sim_frac_reply_stop': 0.7272727272727273, 'sim_frac_op_stop': 0.11764705882352941, 'jaccard_stop': 0.11267605633802817, 'common_words_content': 2, 'sim_frac_reply_content': 0.18181818181818182, 'sim_frac_op_content': 0.012269938650306749, 'jaccard_content': 0.011627906976744186}\n",
            "{'common_words_all': 55, 'sim_frac_reply_all': 0.5392156862745098, 'sim_frac_op_all': 0.23809523809523808, 'jaccard_all': 0.19784172661870503, 'common_words_stop': 35, 'sim_frac_reply_stop': 0.8333333333333334, 'sim_frac_op_stop': 0.5147058823529411, 'jaccard_stop': 0.4666666666666667, 'common_words_content': 20, 'sim_frac_reply_content': 0.3333333333333333, 'sim_frac_op_content': 0.12269938650306748, 'jaccard_content': 0.09852216748768473}\n",
            "{'common_words_all': 32, 'sim_frac_reply_all': 0.5079365079365079, 'sim_frac_op_all': 0.13852813852813853, 'jaccard_all': 0.12213740458015267, 'common_words_stop': 27, 'sim_frac_reply_stop': 0.9642857142857143, 'sim_frac_op_stop': 0.39705882352941174, 'jaccard_stop': 0.391304347826087, 'common_words_content': 5, 'sim_frac_reply_content': 0.14285714285714285, 'sim_frac_op_content': 0.03067484662576687, 'jaccard_content': 0.025906735751295335}\n",
            "{'common_words_all': 4, 'sim_frac_reply_all': 0.36363636363636365, 'sim_frac_op_all': 0.017316017316017316, 'jaccard_all': 0.01680672268907563, 'common_words_stop': 3, 'sim_frac_reply_stop': 0.6, 'sim_frac_op_stop': 0.04411764705882353, 'jaccard_stop': 0.04285714285714286, 'common_words_content': 1, 'sim_frac_reply_content': 0.16666666666666666, 'sim_frac_op_content': 0.006134969325153374, 'jaccard_content': 0.005952380952380952}\n",
            "{'common_words_all': 0, 'sim_frac_reply_all': 0.0, 'sim_frac_op_all': 0.0, 'jaccard_all': 0.0, 'common_words_stop': 0, 'sim_frac_reply_stop': 0, 'sim_frac_op_stop': 0.0, 'jaccard_stop': 0.0, 'common_words_content': 0, 'sim_frac_reply_content': 0.0, 'sim_frac_op_content': 0.0, 'jaccard_content': 0.0}\n",
            "{'common_words_all': 21, 'sim_frac_reply_all': 0.17796610169491525, 'sim_frac_op_all': 0.7241379310344828, 'jaccard_all': 0.16666666666666666, 'common_words_stop': 13, 'sim_frac_reply_stop': 0.34210526315789475, 'sim_frac_op_stop': 0.9285714285714286, 'jaccard_stop': 0.3333333333333333, 'common_words_content': 8, 'sim_frac_reply_content': 0.1, 'sim_frac_op_content': 0.5333333333333333, 'jaccard_content': 0.09195402298850575}\n",
            "{'common_words_all': 3, 'sim_frac_reply_all': 0.07142857142857142, 'sim_frac_op_all': 0.10344827586206896, 'jaccard_all': 0.04411764705882353, 'common_words_stop': 3, 'sim_frac_reply_stop': 0.1875, 'sim_frac_op_stop': 0.21428571428571427, 'jaccard_stop': 0.1111111111111111, 'common_words_content': 0, 'sim_frac_reply_content': 0.0, 'sim_frac_op_content': 0.0, 'jaccard_content': 0.0}\n",
            "{'common_words_all': 0, 'sim_frac_reply_all': 0.0, 'sim_frac_op_all': 0.0, 'jaccard_all': 0.0, 'common_words_stop': 0, 'sim_frac_reply_stop': 0, 'sim_frac_op_stop': 0.0, 'jaccard_stop': 0.0, 'common_words_content': 0, 'sim_frac_reply_content': 0.0, 'sim_frac_op_content': 0.0, 'jaccard_content': 0.0}\n",
            "{'common_words_all': 25, 'sim_frac_reply_all': 0.06983240223463687, 'sim_frac_op_all': 0.8620689655172413, 'jaccard_all': 0.06906077348066299, 'common_words_stop': 14, 'sim_frac_reply_stop': 0.16091954022988506, 'sim_frac_op_stop': 1.0, 'jaccard_stop': 0.16091954022988506, 'common_words_content': 11, 'sim_frac_reply_content': 0.04059040590405904, 'sim_frac_op_content': 0.7333333333333333, 'jaccard_content': 0.04}\n",
            "{'common_words_all': 6, 'sim_frac_reply_all': 0.3, 'sim_frac_op_all': 0.20689655172413793, 'jaccard_all': 0.13953488372093023, 'common_words_stop': 6, 'sim_frac_reply_stop': 0.75, 'sim_frac_op_stop': 0.42857142857142855, 'jaccard_stop': 0.375, 'common_words_content': 0, 'sim_frac_reply_content': 0.0, 'sim_frac_op_content': 0.0, 'jaccard_content': 0.0}\n",
            "{'common_words_all': 0, 'sim_frac_reply_all': 0.0, 'sim_frac_op_all': 0.0, 'jaccard_all': 0.0, 'common_words_stop': 0, 'sim_frac_reply_stop': 0, 'sim_frac_op_stop': 0.0, 'jaccard_stop': 0.0, 'common_words_content': 0, 'sim_frac_reply_content': 0.0, 'sim_frac_op_content': 0.0, 'jaccard_content': 0.0}\n",
            "{'common_words_all': 25, 'sim_frac_reply_all': 0.06983240223463687, 'sim_frac_op_all': 0.8620689655172413, 'jaccard_all': 0.06906077348066299, 'common_words_stop': 14, 'sim_frac_reply_stop': 0.16091954022988506, 'sim_frac_op_stop': 1.0, 'jaccard_stop': 0.16091954022988506, 'common_words_content': 11, 'sim_frac_reply_content': 0.04059040590405904, 'sim_frac_op_content': 0.7333333333333333, 'jaccard_content': 0.04}\n",
            "{'common_words_all': 0, 'sim_frac_reply_all': 0.0, 'sim_frac_op_all': 0.0, 'jaccard_all': 0.0, 'common_words_stop': 0, 'sim_frac_reply_stop': 0, 'sim_frac_op_stop': 0.0, 'jaccard_stop': 0.0, 'common_words_content': 0, 'sim_frac_reply_content': 0.0, 'sim_frac_op_content': 0.0, 'jaccard_content': 0.0}\n",
            "{'common_words_all': 23, 'sim_frac_reply_all': 0.07718120805369127, 'sim_frac_op_all': 0.7931034482758621, 'jaccard_all': 0.0756578947368421, 'common_words_stop': 14, 'sim_frac_reply_stop': 0.17721518987341772, 'sim_frac_op_stop': 1.0, 'jaccard_stop': 0.17721518987341772, 'common_words_content': 9, 'sim_frac_reply_content': 0.0410958904109589, 'sim_frac_op_content': 0.6, 'jaccard_content': 0.04}\n",
            "{'common_words_all': 9, 'sim_frac_reply_all': 0.14754098360655737, 'sim_frac_op_all': 0.3103448275862069, 'jaccard_all': 0.1111111111111111, 'common_words_stop': 7, 'sim_frac_reply_stop': 0.30434782608695654, 'sim_frac_op_stop': 0.5, 'jaccard_stop': 0.23333333333333334, 'common_words_content': 2, 'sim_frac_reply_content': 0.05263157894736842, 'sim_frac_op_content': 0.13333333333333333, 'jaccard_content': 0.0392156862745098}\n",
            "{'common_words_all': 0, 'sim_frac_reply_all': 0.0, 'sim_frac_op_all': 0.0, 'jaccard_all': 0.0, 'common_words_stop': 0, 'sim_frac_reply_stop': 0, 'sim_frac_op_stop': 0.0, 'jaccard_stop': 0.0, 'common_words_content': 0, 'sim_frac_reply_content': 0.0, 'sim_frac_op_content': 0.0, 'jaccard_content': 0.0}\n",
            "{'common_words_all': 21, 'sim_frac_reply_all': 0.17796610169491525, 'sim_frac_op_all': 0.7241379310344828, 'jaccard_all': 0.16666666666666666, 'common_words_stop': 13, 'sim_frac_reply_stop': 0.34210526315789475, 'sim_frac_op_stop': 0.9285714285714286, 'jaccard_stop': 0.3333333333333333, 'common_words_content': 8, 'sim_frac_reply_content': 0.1, 'sim_frac_op_content': 0.5333333333333333, 'jaccard_content': 0.09195402298850575}\n",
            "{'common_words_all': 17, 'sim_frac_reply_all': 0.0845771144278607, 'sim_frac_op_all': 0.5862068965517241, 'jaccard_all': 0.07981220657276995, 'common_words_stop': 11, 'sim_frac_reply_stop': 0.18333333333333332, 'sim_frac_op_stop': 0.7857142857142857, 'jaccard_stop': 0.1746031746031746, 'common_words_content': 6, 'sim_frac_reply_content': 0.0425531914893617, 'sim_frac_op_content': 0.4, 'jaccard_content': 0.04}\n",
            "{'common_words_all': 22, 'sim_frac_reply_all': 0.34375, 'sim_frac_op_all': 0.20754716981132076, 'jaccard_all': 0.14864864864864866, 'common_words_stop': 12, 'sim_frac_reply_stop': 0.5454545454545454, 'sim_frac_op_stop': 0.3, 'jaccard_stop': 0.24, 'common_words_content': 10, 'sim_frac_reply_content': 0.23809523809523808, 'sim_frac_op_content': 0.15151515151515152, 'jaccard_content': 0.10204081632653061}\n",
            "{'common_words_all': 16, 'sim_frac_reply_all': 0.32653061224489793, 'sim_frac_op_all': 0.1509433962264151, 'jaccard_all': 0.11510791366906475, 'common_words_stop': 12, 'sim_frac_reply_stop': 0.5454545454545454, 'sim_frac_op_stop': 0.3, 'jaccard_stop': 0.24, 'common_words_content': 4, 'sim_frac_reply_content': 0.14814814814814814, 'sim_frac_op_content': 0.06060606060606061, 'jaccard_content': 0.0449438202247191}\n",
            "{'common_words_all': 16, 'sim_frac_reply_all': 0.45714285714285713, 'sim_frac_op_all': 0.1509433962264151, 'jaccard_all': 0.128, 'common_words_stop': 12, 'sim_frac_reply_stop': 0.75, 'sim_frac_op_stop': 0.3, 'jaccard_stop': 0.2727272727272727, 'common_words_content': 4, 'sim_frac_reply_content': 0.21052631578947367, 'sim_frac_op_content': 0.06060606060606061, 'jaccard_content': 0.04938271604938271}\n",
            "{'common_words_all': 12, 'sim_frac_reply_all': 0.2857142857142857, 'sim_frac_op_all': 0.1016949152542373, 'jaccard_all': 0.08108108108108109, 'common_words_stop': 9, 'sim_frac_reply_stop': 0.5625, 'sim_frac_op_stop': 0.23684210526315788, 'jaccard_stop': 0.2, 'common_words_content': 3, 'sim_frac_reply_content': 0.11538461538461539, 'sim_frac_op_content': 0.0375, 'jaccard_content': 0.02912621359223301}\n",
            "{'common_words_all': 0, 'sim_frac_reply_all': 0.0, 'sim_frac_op_all': 0.0, 'jaccard_all': 0.0, 'common_words_stop': 0, 'sim_frac_reply_stop': 0, 'sim_frac_op_stop': 0.0, 'jaccard_stop': 0.0, 'common_words_content': 0, 'sim_frac_reply_content': 0.0, 'sim_frac_op_content': 0.0, 'jaccard_content': 0.0}\n",
            "{'common_words_all': 57, 'sim_frac_reply_all': 0.1919191919191919, 'sim_frac_op_all': 0.4830508474576271, 'jaccard_all': 0.15921787709497207, 'common_words_stop': 32, 'sim_frac_reply_stop': 0.3950617283950617, 'sim_frac_op_stop': 0.8421052631578947, 'jaccard_stop': 0.367816091954023, 'common_words_content': 25, 'sim_frac_reply_content': 0.11574074074074074, 'sim_frac_op_content': 0.3125, 'jaccard_content': 0.09225092250922509}\n",
            "{'common_words_all': 8, 'sim_frac_reply_all': 0.4, 'sim_frac_op_all': 0.06779661016949153, 'jaccard_all': 0.06153846153846154, 'common_words_stop': 7, 'sim_frac_reply_stop': 0.875, 'sim_frac_op_stop': 0.18421052631578946, 'jaccard_stop': 0.1794871794871795, 'common_words_content': 1, 'sim_frac_reply_content': 0.08333333333333333, 'sim_frac_op_content': 0.0125, 'jaccard_content': 0.01098901098901099}\n",
            "{'common_words_all': 0, 'sim_frac_reply_all': 0.0, 'sim_frac_op_all': 0.0, 'jaccard_all': 0.0, 'common_words_stop': 0, 'sim_frac_reply_stop': 0, 'sim_frac_op_stop': 0.0, 'jaccard_stop': 0.0, 'common_words_content': 0, 'sim_frac_reply_content': 0.0, 'sim_frac_op_content': 0.0, 'jaccard_content': 0.0}\n",
            "{'common_words_all': 57, 'sim_frac_reply_all': 0.1919191919191919, 'sim_frac_op_all': 0.4830508474576271, 'jaccard_all': 0.15921787709497207, 'common_words_stop': 32, 'sim_frac_reply_stop': 0.3950617283950617, 'sim_frac_op_stop': 0.8421052631578947, 'jaccard_stop': 0.367816091954023, 'common_words_content': 25, 'sim_frac_reply_content': 0.11574074074074074, 'sim_frac_op_content': 0.3125, 'jaccard_content': 0.09225092250922509}\n",
            "{'common_words_all': 0, 'sim_frac_reply_all': 0.0, 'sim_frac_op_all': 0.0, 'jaccard_all': 0.0, 'common_words_stop': 0, 'sim_frac_reply_stop': 0, 'sim_frac_op_stop': 0.0, 'jaccard_stop': 0.0, 'common_words_content': 0, 'sim_frac_reply_content': 0.0, 'sim_frac_op_content': 0.0, 'jaccard_content': 0.0}\n",
            "{'common_words_all': 44, 'sim_frac_reply_all': 0.19642857142857142, 'sim_frac_op_all': 0.3728813559322034, 'jaccard_all': 0.1476510067114094, 'common_words_stop': 28, 'sim_frac_reply_stop': 0.4057971014492754, 'sim_frac_op_stop': 0.7368421052631579, 'jaccard_stop': 0.35443037974683544, 'common_words_content': 16, 'sim_frac_reply_content': 0.1032258064516129, 'sim_frac_op_content': 0.2, 'jaccard_content': 0.0730593607305936}\n",
            "{'common_words_all': 17, 'sim_frac_reply_all': 0.2786885245901639, 'sim_frac_op_all': 0.1440677966101695, 'jaccard_all': 0.10493827160493827, 'common_words_stop': 11, 'sim_frac_reply_stop': 0.4782608695652174, 'sim_frac_op_stop': 0.2894736842105263, 'jaccard_stop': 0.22, 'common_words_content': 6, 'sim_frac_reply_content': 0.15789473684210525, 'sim_frac_op_content': 0.075, 'jaccard_content': 0.05357142857142857}\n",
            "{'common_words_all': 44, 'sim_frac_reply_all': 0.21890547263681592, 'sim_frac_op_all': 0.3728813559322034, 'jaccard_all': 0.16, 'common_words_stop': 28, 'sim_frac_reply_stop': 0.4666666666666667, 'sim_frac_op_stop': 0.7368421052631579, 'jaccard_stop': 0.4, 'common_words_content': 16, 'sim_frac_reply_content': 0.11347517730496454, 'sim_frac_op_content': 0.2, 'jaccard_content': 0.07804878048780488}\n",
            "{'common_words_all': 0, 'sim_frac_reply_all': 0.0, 'sim_frac_op_all': 0.0, 'jaccard_all': 0.0, 'common_words_stop': 0, 'sim_frac_reply_stop': 0, 'sim_frac_op_stop': 0.0, 'jaccard_stop': 0.0, 'common_words_content': 0, 'sim_frac_reply_content': 0.0, 'sim_frac_op_content': 0.0, 'jaccard_content': 0.0}\n",
            "{'common_words_all': 48, 'sim_frac_reply_all': 0.2594594594594595, 'sim_frac_op_all': 0.3, 'jaccard_all': 0.16161616161616163, 'common_words_stop': 37, 'sim_frac_reply_stop': 0.5873015873015873, 'sim_frac_op_stop': 0.6727272727272727, 'jaccard_stop': 0.4567901234567901, 'common_words_content': 11, 'sim_frac_reply_content': 0.09016393442622951, 'sim_frac_op_content': 0.10476190476190476, 'jaccard_content': 0.05092592592592592}\n",
            "{'common_words_all': 7, 'sim_frac_reply_all': 0.35, 'sim_frac_op_all': 0.04375, 'jaccard_all': 0.04046242774566474, 'common_words_stop': 6, 'sim_frac_reply_stop': 0.75, 'sim_frac_op_stop': 0.10909090909090909, 'jaccard_stop': 0.10526315789473684, 'common_words_content': 1, 'sim_frac_reply_content': 0.08333333333333333, 'sim_frac_op_content': 0.009523809523809525, 'jaccard_content': 0.008620689655172414}\n",
            "{'common_words_all': 0, 'sim_frac_reply_all': 0.0, 'sim_frac_op_all': 0.0, 'jaccard_all': 0.0, 'common_words_stop': 0, 'sim_frac_reply_stop': 0, 'sim_frac_op_stop': 0.0, 'jaccard_stop': 0.0, 'common_words_content': 0, 'sim_frac_reply_content': 0.0, 'sim_frac_op_content': 0.0, 'jaccard_content': 0.0}\n",
            "{'common_words_all': 48, 'sim_frac_reply_all': 0.2594594594594595, 'sim_frac_op_all': 0.3, 'jaccard_all': 0.16161616161616163, 'common_words_stop': 37, 'sim_frac_reply_stop': 0.5873015873015873, 'sim_frac_op_stop': 0.6727272727272727, 'jaccard_stop': 0.4567901234567901, 'common_words_content': 11, 'sim_frac_reply_content': 0.09016393442622951, 'sim_frac_op_content': 0.10476190476190476, 'jaccard_content': 0.05092592592592592}\n",
            "{'common_words_all': 20, 'sim_frac_reply_all': 0.32786885245901637, 'sim_frac_op_all': 0.125, 'jaccard_all': 0.09950248756218906, 'common_words_stop': 16, 'sim_frac_reply_stop': 0.6956521739130435, 'sim_frac_op_stop': 0.2909090909090909, 'jaccard_stop': 0.25806451612903225, 'common_words_content': 4, 'sim_frac_reply_content': 0.10526315789473684, 'sim_frac_op_content': 0.0380952380952381, 'jaccard_content': 0.02877697841726619}\n",
            "{'common_words_all': 35, 'sim_frac_reply_all': 0.35353535353535354, 'sim_frac_op_all': 0.21875, 'jaccard_all': 0.15625, 'common_words_stop': 25, 'sim_frac_reply_stop': 0.6410256410256411, 'sim_frac_op_stop': 0.45454545454545453, 'jaccard_stop': 0.36231884057971014, 'common_words_content': 10, 'sim_frac_reply_content': 0.16666666666666666, 'sim_frac_op_content': 0.09523809523809523, 'jaccard_content': 0.06451612903225806}\n",
            "{'common_words_all': 12, 'sim_frac_reply_all': 0.23076923076923078, 'sim_frac_op_all': 0.16216216216216217, 'jaccard_all': 0.10526315789473684, 'common_words_stop': 8, 'sim_frac_reply_stop': 0.2962962962962963, 'sim_frac_op_stop': 0.25806451612903225, 'jaccard_stop': 0.16, 'common_words_content': 4, 'sim_frac_reply_content': 0.16, 'sim_frac_op_content': 0.09302325581395349, 'jaccard_content': 0.0625}\n",
            "{'common_words_all': 81, 'sim_frac_reply_all': 0.1845102505694761, 'sim_frac_op_all': 0.5436241610738255, 'jaccard_all': 0.15976331360946747, 'common_words_stop': 41, 'sim_frac_reply_stop': 0.4606741573033708, 'sim_frac_op_stop': 0.8367346938775511, 'jaccard_stop': 0.422680412371134, 'common_words_content': 40, 'sim_frac_reply_content': 0.11428571428571428, 'sim_frac_op_content': 0.4, 'jaccard_content': 0.0975609756097561}\n",
            "{'common_words_all': 62, 'sim_frac_reply_all': 0.22545454545454546, 'sim_frac_op_all': 0.4161073825503356, 'jaccard_all': 0.1712707182320442, 'common_words_stop': 42, 'sim_frac_reply_stop': 0.5675675675675675, 'sim_frac_op_stop': 0.8571428571428571, 'jaccard_stop': 0.5185185185185185, 'common_words_content': 20, 'sim_frac_reply_content': 0.09950248756218906, 'sim_frac_op_content': 0.2, 'jaccard_content': 0.0711743772241993}\n",
            "{'common_words_all': 7, 'sim_frac_reply_all': 0.35, 'sim_frac_op_all': 0.3333333333333333, 'jaccard_all': 0.20588235294117646, 'common_words_stop': 5, 'sim_frac_reply_stop': 0.5, 'sim_frac_op_stop': 0.5, 'jaccard_stop': 0.3333333333333333, 'common_words_content': 2, 'sim_frac_reply_content': 0.2, 'sim_frac_op_content': 0.18181818181818182, 'jaccard_content': 0.10526315789473684}\n",
            "{'common_words_all': 6, 'sim_frac_reply_all': 0.3, 'sim_frac_op_all': 0.2857142857142857, 'jaccard_all': 0.17142857142857143, 'common_words_stop': 5, 'sim_frac_reply_stop': 0.45454545454545453, 'sim_frac_op_stop': 0.5, 'jaccard_stop': 0.3125, 'common_words_content': 1, 'sim_frac_reply_content': 0.1111111111111111, 'sim_frac_op_content': 0.09090909090909091, 'jaccard_content': 0.05263157894736842}\n",
            "{'common_words_all': 1, 'sim_frac_reply_all': 0.09090909090909091, 'sim_frac_op_all': 0.05, 'jaccard_all': 0.03333333333333333, 'common_words_stop': 1, 'sim_frac_reply_stop': 0.16666666666666666, 'sim_frac_op_stop': 0.125, 'jaccard_stop': 0.07692307692307693, 'common_words_content': 0, 'sim_frac_reply_content': 0.0, 'sim_frac_op_content': 0.0, 'jaccard_content': 0.0}\n",
            "{'common_words_all': 3, 'sim_frac_reply_all': 0.2727272727272727, 'sim_frac_op_all': 0.04225352112676056, 'jaccard_all': 0.0379746835443038, 'common_words_stop': 1, 'sim_frac_reply_stop': 0.2, 'sim_frac_op_stop': 0.03333333333333333, 'jaccard_stop': 0.029411764705882353, 'common_words_content': 2, 'sim_frac_reply_content': 0.3333333333333333, 'sim_frac_op_content': 0.04878048780487805, 'jaccard_content': 0.044444444444444446}\n"
          ]
        }
      ]
    },
    {
      "cell_type": "code",
      "source": [
        "# Test interplay scoring\n",
        "scores = []\n",
        "for interplay_features in features_list:\n",
        "    score = calculate_persuasion_score(interplay_features)\n",
        "    scores.append(score)\n",
        "\n",
        "print(scores)"
      ],
      "metadata": {
        "id": "1SNob2xVn7SJ",
        "outputId": "4c602085-a173-4f96-96a0-5ff9bef18105",
        "colab": {
          "base_uri": "https://localhost:8080/",
          "height": 0
        }
      },
      "id": "1SNob2xVn7SJ",
      "execution_count": 21,
      "outputs": [
        {
          "output_type": "stream",
          "name": "stdout",
          "text": [
            "[0.6374143142332578, 0.5365569228786804, 0.7999999999999999, 0.7143232512003231, 0.632953027364792, 0.6654980121318101, 0.7194536241462878, 0.6374143142332578, 0.720804325160596, 0.7126425570228091, 0.7999999999999999, 0.8294804903075728, 0.7033945370055538, 0.7999999999999999, 0.8294804903075728, 0.7832832501357317, 0.7713659305041733, 0.661607843137255, 0.7426964401822087, 0.7999999999999999, 0.8054213106295149, 0.7110688017579186, 0.865419356456039, 0.8494429211333775, 0.7999999999999999, 0.7143232512003231, 0.8013877162142911, 0.6703145337737084, 0.7261863516906513, 0.6423529411764706, 0.7075121840643772, 0.7661277295008913, 0.7018592214898645, 0.6861296242634984, 0.7637032360439859, 0.7040075120957473, 0.7999999999999999, 0.9003314686482425, 0.8357142857142856, 0.7999999999999999, 0.9647805974149126, 0.8557142857142856, 0.7999999999999999, 0.9647805974149126, 0.7999999999999999, 0.9638435230302473, 0.852428564178044, 0.7999999999999999, 0.9003314686482425, 0.9196638691043264, 0.6997746598639456, 0.7546045334488353, 0.7152603731551099, 0.7639052822496869, 0.7999999999999999, 0.8752575603905959, 0.7602120686331213, 0.7999999999999999, 0.8752575603905959, 0.7999999999999999, 0.8645174331099512, 0.7507965610748182, 0.8566731687206228, 0.7999999999999999, 0.857256157051239, 0.7508986415882968, 0.7999999999999999, 0.857256157051239, 0.774656576252842, 0.7695340501792115, 0.7457859801488835, 0.8739133353213501, 0.8877298086909815, 0.753421052631579, 0.809766081871345, 0.8159090909090909, 0.6327272727272729]\n"
          ]
        }
      ]
    },
    {
      "metadata": {
        "id": "973891d8aa6df83c"
      },
      "cell_type": "code",
      "outputs": [],
      "execution_count": null,
      "source": [
        "# So now thnk of all things that need to be tidied up.\n",
        "# Need to score things properly according to what they said.\n",
        "# Need to find that previous chat where I was given the interplay code and in general tighten up the interplay code\n",
        "# Need to look into potentially more preprocessing if needed\n",
        "# Need to find proper stop words\n",
        "# Need to make it so that it runs on the entire dataset."
      ],
      "id": "973891d8aa6df83c"
    },
    {
      "cell_type": "code",
      "source": [],
      "metadata": {
        "id": "SNUwkNha_Xm5"
      },
      "id": "SNUwkNha_Xm5",
      "execution_count": 64,
      "outputs": []
    },
    {
      "cell_type": "code",
      "source": [],
      "metadata": {
        "id": "HUkpHMANmcyi"
      },
      "id": "HUkpHMANmcyi",
      "execution_count": null,
      "outputs": []
    },
    {
      "cell_type": "code",
      "source": [
        "# Test persuation analysis coordinator\n",
        "\n",
        "# For topic_timeline in timelines:\n",
        "pair_preprocessor = PairPreprocessor()\n",
        "persistence_detector_new = ChangeDetector()\n",
        "window_extractor = WindowExtractor(corpus, timelines=timelines)\n",
        "op_path_pairer = OpPathPairer(corpus, timelines=timelines)\n",
        "\n",
        "# use the groups\n",
        "groups = persistence_detector_new.get_two_groups()\n",
        "groups_tuple = (groups['with_changes'], groups['no_changes'])\n",
        "\n",
        "i = 0\n",
        "# repeat for both groups\n",
        "group_means = ()\n",
        "group_scores = []\n",
        "\n",
        "# For each group\n",
        "for group in groups_tuple:\n",
        "    for user_id, topic_timelines in timelines.items():\n",
        "        for topic_timeline in topic_timelines.values():\n",
        "            # Limit to 3 iterations for debugging:\n",
        "            if i < 3:\n",
        "                for change_point, stance in topic_timeline.items():\n",
        "                    print(f'change point{change_point} {stance}')\n",
        "\n",
        "                    # So I would need to iterate again over every utterance cause each represents a change\n",
        "                    # Do this early beacuse it may take a few days. Who knows\n",
        "\n",
        "                    # Maybe make these two go together: And do make the two groups. Just skip calculating change points for the second group\n",
        "\n",
        "                    # But what if there's multiple genuine change points in the same topic timeline?\n",
        "\n",
        "                    # change_points = persistence_detector_new.detect_persistent_changes(topic_timeline_list)\n",
        "                    # print(\"change point:\", change_points)\n",
        "                    # break\n",
        "\n",
        "                    # Now find convos around that change_point\n",
        "                    # CHANGE THIS IN THE ACTUAL CLASS AND CHANGE IT HERE TO ONLY TAKE 1\n",
        "                    change_points = [('debug', change_point)]\n",
        "                    candidate_convos = window_extractor.get_conversations_around_change_point(change_points=change_points, corpus=corpus)\n",
        "                    print(f'Candidate convos{candidate_convos}')\n",
        "\n",
        "                    # Now make op_path_pairs\n",
        "                    op_path_pairs = op_path_pairer.extract_rooted_path_from_candidate_convos(candidate_convos, user_id)\n",
        "                    preprocessed_pairs = pair_preprocessor.concatenate_path_in_all_pairs(op_path_pairs)\n",
        "                    print(f'op path pairs: {preprocessed_pairs}')\n",
        "                    break\n",
        "\n",
        "                    # Interplay Feature extraction:\n",
        "                    features_list = []\n",
        "                    for op, paths in preprocessed_pairs:\n",
        "                        for k, concatenated_utts in paths.items():\n",
        "                            interplay_features = calculate_interplay_features(op.text, concatenated_utts, stop_words_set)\n",
        "                            features_list.append(interplay_features)\n",
        "                    print(features_list)\n",
        "\n",
        "                    # Interplay scoring for everything around this change point (should I get the average instead?)\n",
        "                    scores = []\n",
        "                    for interplay_features in features_list:\n",
        "                        score = calculate_persuasion_score(interplay_features)\n",
        "                        scores.append(score)\n",
        "                    print(scores)\n",
        "                    break\n",
        "                break\n",
        "            break\n",
        "        group_scores.append(scores)\n",
        "        break\n",
        "\n",
        "# Calculate the mean for this group\n",
        "# utts_num = 0\n",
        "# total = 0\n",
        "# for scores in group_scores:\n",
        "#     for score in scores:\n",
        "#         total += score\n",
        "#         utts_num += 1\n",
        "\n",
        "# mean = total/utts_num\n",
        "\n",
        "# Now make the class that gets the two groups\n",
        "# The code above would work for the 'change' group\n",
        "# I think you should put it in Change Detector. Make a method that returns users with no signi changes\n",
        "# But for now put it in window detector. Make a method that returns 2 groups."
      ],
      "metadata": {
        "id": "iP__zCCBgPeO",
        "outputId": "aabec309-6d7f-462a-c797-8ea79f2084f8",
        "colab": {
          "base_uri": "https://localhost:8080/",
          "height": 211
        }
      },
      "id": "iP__zCCBgPeO",
      "execution_count": 3,
      "outputs": [
        {
          "output_type": "error",
          "ename": "NameError",
          "evalue": "name 'ChangeDetector' is not defined",
          "traceback": [
            "\u001b[0;31m---------------------------------------------------------------------------\u001b[0m",
            "\u001b[0;31mNameError\u001b[0m                                 Traceback (most recent call last)",
            "\u001b[0;32m/tmp/ipython-input-3269820557.py\u001b[0m in \u001b[0;36m<cell line: 0>\u001b[0;34m()\u001b[0m\n\u001b[1;32m      3\u001b[0m \u001b[0;31m# For topic_timeline in timelines:\u001b[0m\u001b[0;34m\u001b[0m\u001b[0;34m\u001b[0m\u001b[0m\n\u001b[1;32m      4\u001b[0m \u001b[0;31m# pair_preprocessor = PairPreprocessor()\u001b[0m\u001b[0;34m\u001b[0m\u001b[0;34m\u001b[0m\u001b[0m\n\u001b[0;32m----> 5\u001b[0;31m \u001b[0mpersistence_detector_new\u001b[0m \u001b[0;34m=\u001b[0m \u001b[0mChangeDetector\u001b[0m\u001b[0;34m(\u001b[0m\u001b[0;34m)\u001b[0m\u001b[0;34m\u001b[0m\u001b[0;34m\u001b[0m\u001b[0m\n\u001b[0m\u001b[1;32m      6\u001b[0m \u001b[0mwindow_extractor\u001b[0m \u001b[0;34m=\u001b[0m \u001b[0mWindowExtractor\u001b[0m\u001b[0;34m(\u001b[0m\u001b[0mcorpus\u001b[0m\u001b[0;34m,\u001b[0m \u001b[0mtimelines\u001b[0m\u001b[0;34m=\u001b[0m\u001b[0mtimelines\u001b[0m\u001b[0;34m)\u001b[0m\u001b[0;34m\u001b[0m\u001b[0;34m\u001b[0m\u001b[0m\n\u001b[1;32m      7\u001b[0m \u001b[0mop_path_pairer\u001b[0m \u001b[0;34m=\u001b[0m \u001b[0mOpPathPairer\u001b[0m\u001b[0;34m(\u001b[0m\u001b[0mcorpus\u001b[0m\u001b[0;34m,\u001b[0m \u001b[0mtimelines\u001b[0m\u001b[0;34m=\u001b[0m\u001b[0mtimelines\u001b[0m\u001b[0;34m)\u001b[0m\u001b[0;34m\u001b[0m\u001b[0;34m\u001b[0m\u001b[0m\n",
            "\u001b[0;31mNameError\u001b[0m: name 'ChangeDetector' is not defined"
          ]
        }
      ]
    },
    {
      "cell_type": "code",
      "source": [
        "for user_id, topic_timelines in timelines.items():\n",
        "    for topic_timeline in topic_timelines.values():\n",
        "        print(topic_timeline)\n",
        "        break\n",
        "    break"
      ],
      "metadata": {
        "colab": {
          "base_uri": "https://localhost:8080/",
          "height": 0
        },
        "id": "y23AmKyosPVN",
        "outputId": "c4583aaa-11d7-4e54-9bb3-51ba2db45ef2"
      },
      "id": "y23AmKyosPVN",
      "execution_count": 30,
      "outputs": [
        {
          "output_type": "stream",
          "name": "stdout",
          "text": [
            "{'j3g36': 'moderately_against', 'c28uhbc': 'moderately_against', 'c28vhor': 'moderately_against', 'c28vyhs': 'moderately_against', 'c28wegs': 'moderately_against', 'c28yyll': 'moderately_against', 'c28yzm6': 'moderately_against', 'c28yzso': 'moderately_against', 'c28z353': 'neutral', 'c290fut': 'strongly_against', 'c290g67': 'neutral', 'c290h6h': 'moderately_against', 'c290mll': 'neutral', 'c291t8z': 'moderately_against', 'c291yto': 'strongly_against', 'c291zvv': 'moderately_against', 'c2928gw': 'neutral', 'c292b02': 'neutral', 'c29c7v8': 'moderately_against', 'c2a0tlm': 'moderately_against', 'c2anbs3': 'moderately_against', 'c2ds943': 'moderately_against', 'c2folul': 'neutral', 'c2foq3m': 'neutral', 'c2fvkc9': 'moderately_against', 'c2fz060': 'strongly_against', 'c2fzrn2': 'moderately_against', 'c2ggect': 'neutral', 'c2gggm3': 'moderately_against', 'c2hkg3r': 'strongly_against', 'c2jbvy0': 'moderately_against', 'c2llp7v': 'moderately_against', 'c2s4z4h': 'moderately_against', 'c2sq8yf': 'neutral', 'c2swg2q': 'neutral', 'c2uw4cg': 'strongly_against', 'c30q1zx': 'moderately_against', 'c30q3u1': 'moderately_against', 'c30q9ht': 'moderately_against', 'c32am30': 'moderately_against', 'c32u8em': 'neutral', 'c33bcnl': 'moderately_against', 'c33cueg': 'moderately_against', 'c360b1e': 'moderately_against', 'nz333': 'unknown', 'c3f9ne8': 'moderately_against', 'c3f9shi': 'moderately_against', 'c3fbdof': 'neutral'}\n"
          ]
        }
      ]
    },
    {
      "cell_type": "markdown",
      "source": [
        "\n",
        "# Maybe first collect each group, then have them in a list/tuple and run the coordinator on that.\n",
        "\n",
        "# So then that new function would take the features of this path and attatch a score to it.\n",
        "\n",
        "# And that's it. Now I only need to glue things together.\n",
        "\n",
        "# Should I make less topics?\n",
        "\n",
        "# I think I could make a simple model quick and go manual as a backup\n",
        "\n",
        "\n",
        "\n",
        "# Filter timelines, then\n",
        "# For each user in timelines:\n",
        "# Loops through all all topic_timelines and finds all change points (should be 1 for each topic_timeline)\n",
        "# Loops through all then takes these from a list and finds the conversations around that period (5-10)\n",
        "# Loops through all convos in that structure and creates a list of op,paths pairs\n",
        "# Extracts features and calculates the score\n",
        "\n",
        "\n",
        "# Then another function,\n",
        "# Does the same but for each user:\n",
        "# Loops through all topic_timelines and finds no change points (should be 1 for each topic_timeline)\n",
        "# Then does the same as the previous function\n",
        "\n",
        "# Then at the end I run a stat test for the two groups."
      ],
      "metadata": {
        "id": "x-wDR8rdmO7k"
      },
      "id": "x-wDR8rdmO7k"
    }
  ],
  "metadata": {
    "kernelspec": {
      "display_name": "Python 3",
      "name": "python3"
    },
    "language_info": {
      "codemirror_mode": {
        "name": "ipython",
        "version": 2
      },
      "file_extension": ".py",
      "mimetype": "text/x-python",
      "name": "python",
      "nbconvert_exporter": "python",
      "pygments_lexer": "ipython2",
      "version": "2.7.6"
    },
    "colab": {
      "provenance": [],
      "machine_shape": "hm"
    }
  },
  "nbformat": 4,
  "nbformat_minor": 5
}