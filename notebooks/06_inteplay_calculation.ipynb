{
 "cells": [
  {
   "metadata": {},
   "cell_type": "code",
   "outputs": [],
   "execution_count": null,
   "source": [
    "from temporal_belief.core.OpPathPairing import OpPathPairer\n",
    "# Need to restart after:\n",
    "!pip install convokit"
   ],
   "id": "c3fbd6a099944b04"
  },
  {
   "metadata": {},
   "cell_type": "code",
   "outputs": [],
   "execution_count": null,
   "source": [
    "# Download file from Google Drive to colab directory\n",
    "!pip install gdown\n",
    "file_id = \"1N0U_jUJlOYjdaju2FaU8p87uB22YBxJ0\"\n",
    "!gdown \"https://drive.google.com/file/d/1N0U_jUJlOYjdaju2FaU8p87uB22YBxJ0/view?usp=sharing\" -O \"/content/temporal_belief_analysis/pd_corpus_with_topics10000_chronological.zip\" --fuzzy"
   ],
   "id": "37001152dd406570"
  },
  {
   "metadata": {},
   "cell_type": "code",
   "outputs": [],
   "execution_count": null,
   "source": [
    "# Unzip with python:\n",
    "import zipfile\n",
    "zipfile.ZipFile(\"/content/temporal_belief_analysis/pd_corpus_with_topics10000_chronological.zip\").extractall(\"/content/temporal_belief_analysis\")"
   ],
   "id": "56c7674bc45a38b2"
  },
  {
   "metadata": {},
   "cell_type": "code",
   "outputs": [],
   "execution_count": null,
   "source": [
    "# For runpod-jupyter or local (run twice)\n",
    "import sys\n",
    "import os\n",
    "\n",
    "# Change to the correct working directory (workspace if runpod, content if colab)\n",
    "os.chdir('/content/temporal_belief_analysis/notebooks')\n",
    "print(\"Changed working directory to:\", os.getcwd())\n",
    "\n",
    "# Absolute path to src directory\n",
    "src_path = os.path.abspath(os.path.join(os.getcwd(), '..', 'src'))\n",
    "if src_path not in sys.path:\n",
    "    sys.path.insert(0, src_path)\n",
    "\n",
    "# Comment out if in colab:\n",
    "from temporal_belief.core.timeline_building import TimelineBuilder\n",
    "from temporal_belief.core.change_detection import ChangeDetector\n",
    "from temporal_belief.core.WindowExtraction import WindowExtractor\n",
    "from temporal_belief.core.OpPathPairing import OpPathPairer\n",
    "from temporal_belief.data.preprocessors import ChangeDetectorPreprocessor"
   ],
   "id": "e946106a2e92b1d0"
  },
  {
   "metadata": {},
   "cell_type": "code",
   "outputs": [],
   "execution_count": null,
   "source": [
    "# Load a corpus:\n",
    "# corpus = Corpus(filename=\"/Users/leonidas/.convokit/saved-corpora/pd_corpus_with_stances1000_chronological\")\n",
    "corpus = Corpus(filename=\"/content/temporal_belief_analysis/pd_corpus_with_stances100000_chronological\")"
   ],
   "id": "e79372f7a96844b0"
  },
  {
   "metadata": {},
   "cell_type": "code",
   "outputs": [],
   "execution_count": null,
   "source": [
    "# Run twice\n",
    "# import unsloth\n",
    "# import unsloth_zoo\n",
    "from convokit import Corpus, download\n",
    "import convokit"
   ],
   "id": "30c48534c952a7fc"
  },
  {
   "metadata": {},
   "cell_type": "code",
   "outputs": [],
   "execution_count": null,
   "source": "print(corpus.meta)",
   "id": "1094315e0f0a6e2b"
  },
  {
   "metadata": {},
   "cell_type": "code",
   "outputs": [],
   "execution_count": null,
   "source": [
    "# Test timeline builder:\n",
    "timeline_builder = TimelineBuilder(corpus, min_posts_per_topic=0, min_topics_per_user=0)\n",
    "timelines = timeline_builder.build_timelines()\n",
    "\n",
    "# Filter for analysis\n",
    "change_detector_preprocessor = ChangeDetectorPreprocessor()\n",
    "filtered_timelines = change_detector_preprocessor.filter_for_change_detection(timelines, min_posts_per_topic=5, min_topics_per_user=2)\n",
    "\n",
    "# Get a specific user's timeline for a specific topic\n",
    "user_id = \"HardCoreModerate\"\n",
    "topic = \"media and political commentary\"\n",
    "topic_timeline = filtered_timelines[user_id][topic]  # This is {utterance_id: stance}\n",
    "\n",
    "# Convert to list of tuples\n",
    "topic_timeline_list = list(topic_timeline.items())"
   ],
   "id": "f41c4501acad35af"
  },
  {
   "metadata": {},
   "cell_type": "code",
   "source": [
    "# Test the change detector:\n",
    "persistence_detector = ChangeDetector()\n",
    "change_points = persistence_detector.detect_persistent_changes(topic_timeline_list)"
   ],
   "id": "5df301bbdf9bfab3",
   "outputs": [],
   "execution_count": null
  },
  {
   "metadata": {},
   "cell_type": "code",
   "outputs": [],
   "execution_count": null,
   "source": [
    "# Test the window extractor:\n",
    "window_extractor = WindowExtractor(corpus, timelines=timelines)\n",
    "change_points = persistence_detector.detect_persistent_changes(topic_timeline_list)\n",
    "candidate_convos = window_extractor.get_conversations_around_change_point(change_points=change_points, corpus=corpus)\n",
    "for convo in candidate_convos:\n",
    "  print(f'ID:{convo.id}')"
   ],
   "id": "9e2b5729ab13ef41"
  },
  {
   "metadata": {},
   "cell_type": "code",
   "outputs": [],
   "execution_count": null,
   "source": [
    "# Test the OP and path pairer:\n",
    "utt_id = change_points[0][1]\n",
    "user_id = corpus.get_utterance(change_points[0][1]).speaker.id\n",
    "op_path_pairer = OpPathPairer(corpus, timelines=timelines)\n",
    "rooted_units_per_convo = window_extractor.extract_rooted_path_from_candidate_convos(candidate_convos, user_id)"
   ],
   "id": "1d9c6199351dc388"
  },
  {
   "metadata": {},
   "cell_type": "code",
   "outputs": [],
   "execution_count": null,
   "source": [
    "# Test the interplay feature extractor:\n",
    "# interplay = Interplay(corpus, timelines=timelines)"
   ],
   "id": "ebe167549dfa06e9"
  },
  {
   "metadata": {},
   "cell_type": "code",
   "outputs": [],
   "execution_count": null,
   "source": "# Test interplay scorer:",
   "id": "973891d8aa6df83c"
  }
 ],
 "metadata": {
  "kernelspec": {
   "display_name": "Python 3",
   "language": "python",
   "name": "python3"
  },
  "language_info": {
   "codemirror_mode": {
    "name": "ipython",
    "version": 2
   },
   "file_extension": ".py",
   "mimetype": "text/x-python",
   "name": "python",
   "nbconvert_exporter": "python",
   "pygments_lexer": "ipython2",
   "version": "2.7.6"
  }
 },
 "nbformat": 4,
 "nbformat_minor": 5
}
