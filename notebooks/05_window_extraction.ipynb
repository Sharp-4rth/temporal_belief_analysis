{
  "cells": [
    {
      "metadata": {
        "collapsed": true,
        "id": "initial_id"
      },
      "cell_type": "code",
      "outputs": [],
      "execution_count": null,
      "source": [
        "# Need to restart after:\n",
        "!pip install convokit"
      ],
      "id": "initial_id"
    },
    {
      "metadata": {
        "id": "3aba72fdea35672b"
      },
      "cell_type": "code",
      "outputs": [],
      "execution_count": null,
      "source": [
        "# Run twice\n",
        "# import unsloth\n",
        "# import unsloth_zoo\n",
        "from convokit import Corpus, download\n",
        "import convokit"
      ],
      "id": "3aba72fdea35672b"
    },
    {
      "cell_type": "code",
      "source": [
        "# For runpod-jupyter or local (run twice)\n",
        "import sys\n",
        "import os\n",
        "\n",
        "os.chdir('/content/temporal_belief_analysis/notebooks')\n",
        "print(\"Changed working directory to:\", os.getcwd())\n",
        "\n",
        "# Absolute path to src directory\n",
        "src_path = os.path.abspath(os.path.join(os.getcwd(), '..', 'src'))\n",
        "if src_path not in sys.path:\n",
        "    sys.path.insert(0, src_path)\n",
        "\n",
        "# Comment out if in colab:\n",
        "from temporal_belief.core.timeline_building import TimelineBuilder\n"
      ],
      "metadata": {
        "id": "UgZeQZusB28B",
        "outputId": "c1faed22-6357-441d-f580-012813645551",
        "colab": {
          "base_uri": "https://localhost:8080/"
        }
      },
      "id": "UgZeQZusB28B",
      "execution_count": 8,
      "outputs": [
        {
          "output_type": "stream",
          "name": "stdout",
          "text": [
            "Changed working directory to: /content/temporal_belief_analysis/notebooks\n"
          ]
        }
      ]
    },
    {
      "cell_type": "code",
      "source": [
        "# Download file from Google Drive to colab directory\n",
        "!pip install gdown\n",
        "file_id = \"1N0U_jUJlOYjdaju2FaU8p87uB22YBxJ0\"\n",
        "!gdown \"https://drive.google.com/file/d/1N0U_jUJlOYjdaju2FaU8p87uB22YBxJ0/view?usp=sharing\" -O \"/content/temporal_belief_analysis/pd_corpus_with_topics10000_chronological.zip\" --fuzzy"
      ],
      "metadata": {
        "id": "vbYUwDBv-ZMZ"
      },
      "id": "vbYUwDBv-ZMZ",
      "execution_count": null,
      "outputs": []
    },
    {
      "cell_type": "code",
      "source": [
        "# Unzip with python:\n",
        "import zipfile\n",
        "zipfile.ZipFile(\"/content/temporal_belief_analysis/pd_corpus_with_topics10000_chronological.zip\").extractall(\"/content/temporal_belief_analysis\")"
      ],
      "metadata": {
        "id": "JK21grip-Ub_"
      },
      "id": "JK21grip-Ub_",
      "execution_count": 6,
      "outputs": []
    },
    {
      "metadata": {
        "id": "c1643b02e42218da"
      },
      "cell_type": "code",
      "outputs": [],
      "execution_count": 7,
      "source": [
        "# Load a corpus:\n",
        "corpus = Corpus(filename=\"/content/temporal_belief_analysis/pd_corpus_with_stances100000_chronological\")"
      ],
      "id": "c1643b02e42218da"
    },
    {
      "metadata": {
        "id": "24f4dc557fd687b6"
      },
      "cell_type": "code",
      "outputs": [],
      "execution_count": null,
      "source": [
        "# import timelines, import the filtering and belief change prediction (so put them as scripts)"
      ],
      "id": "24f4dc557fd687b6"
    }
  ],
  "metadata": {
    "kernelspec": {
      "display_name": "Python 3",
      "name": "python3"
    },
    "language_info": {
      "codemirror_mode": {
        "name": "ipython",
        "version": 2
      },
      "file_extension": ".py",
      "mimetype": "text/x-python",
      "name": "python",
      "nbconvert_exporter": "python",
      "pygments_lexer": "ipython2",
      "version": "2.7.6"
    },
    "colab": {
      "provenance": [],
      "machine_shape": "hm"
    }
  },
  "nbformat": 4,
  "nbformat_minor": 5
}