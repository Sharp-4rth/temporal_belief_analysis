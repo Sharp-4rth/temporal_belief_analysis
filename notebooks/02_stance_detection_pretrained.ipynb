{
 "cells": [
  {
   "metadata": {},
   "cell_type": "code",
   "source": "!pip install convokit",
   "id": "8cfc569e9ee618d",
   "outputs": [],
   "execution_count": null
  },
  {
   "metadata": {
    "ExecuteTime": {
     "end_time": "2025-07-29T13:58:24.430775Z",
     "start_time": "2025-07-29T13:58:24.424937Z"
    }
   },
   "cell_type": "code",
   "source": [
    "# For runpod-jupyter or local (run twice)\n",
    "import sys\n",
    "import os\n",
    "\n",
    "# Change to the correct working directory (same as Jupyter)\n",
    "os.chdir('/workspace/temporal_belief_analysis/notebooks')\n",
    "print(\"Changed working directory to:\", os.getcwd())\n",
    "\n",
    "# Absolute path to src directory\n",
    "src_path = os.path.abspath(os.path.join(os.getcwd(), '..', 'src'))\n",
    "if src_path not in sys.path:\n",
    "    sys.path.insert(0, src_path)\n",
    "\n",
    "from temporal_belief.models.bart_classifier import BARTZeroShotClassifier\n",
    "from temporal_belief.utils.config import TOPIC_STANCE_HYPOTHESES, GENERAL_STANCE_HYPOTHESES, ProjectConfig\n",
    "from temporal_belief.data.preprocessors import StancePreprocessor"
   ],
   "id": "e78a389c2d66dd3",
   "outputs": [
    {
     "name": "stdout",
     "output_type": "stream",
     "text": [
      "Changed working directory to: /workspace/temporal_belief_analysis/notebooks\n"
     ]
    }
   ],
   "execution_count": 13
  },
  {
   "metadata": {},
   "cell_type": "code",
   "source": [
    "# For colab:\n",
    "from google.colab import drive\n",
    "drive.mount('/content/drive')\n",
    "\n",
    "# imports:\n",
    "from temporal_belief_analysis.src.temporal_belief.models.bart_classifier import BARTZeroShotClassifier\n",
    "from temporal_belief_analysis.src.temporal_belief.utils.config import TOPIC_STANCE_HYPOTHESES, GENERAL_STANCE_HYPOTHESES, ProjectConfig\n",
    "\n",
    "# Restart after installing:\n",
    "!pip install convokit"
   ],
   "id": "f222e307e23b5a2d",
   "outputs": [],
   "execution_count": null
  },
  {
   "metadata": {
    "ExecuteTime": {
     "end_time": "2025-07-10T14:27:35.840251Z",
     "start_time": "2025-07-10T14:27:16.711023Z"
    }
   },
   "cell_type": "code",
   "source": [
    "# Unzip with python:\n",
    "import zipfile\n",
    "zipfile.ZipFile(\"/workspace/temporal_belief_analysis/pd_corpus_with_topics.zip\").extractall(\"/workspace/temporal_belief_analysis\")"
   ],
   "id": "84570084967f37d4",
   "outputs": [],
   "execution_count": 4
  },
  {
   "metadata": {},
   "cell_type": "code",
   "source": [
    "# Download file from Google Drive or cloud service\n",
    "!pip install gdown\n",
    "file_id = \"1nWaj5N8nsG7u5homv_kAh4CLPDv01M_Z\"\n",
    "!gdown \"https://drive.google.com/file/d/1nWaj5N8nsG7u5homv_kAh4CLPDv01M_Z/view?usp=share_link\" -O \"/workspace/temporal_belief_analysis/pd_corpus_with_topics.zip\" --fuzzy"
   ],
   "id": "1f020be2905d2249",
   "outputs": [],
   "execution_count": null
  },
  {
   "metadata": {
    "ExecuteTime": {
     "end_time": "2025-07-29T13:58:30.704241Z",
     "start_time": "2025-07-29T13:58:30.701158Z"
    }
   },
   "cell_type": "code",
   "source": [
    "# Run twice\n",
    "# import unsloth\n",
    "# import unsloth_zoo\n",
    "from convokit import Corpus, download\n",
    "import convokit"
   ],
   "id": "df627f02d6bbba5d",
   "outputs": [],
   "execution_count": 14
  },
  {
   "metadata": {
    "jupyter": {
     "is_executing": true
    },
    "ExecuteTime": {
     "start_time": "2025-07-29T14:59:25.536335Z"
    }
   },
   "cell_type": "code",
   "source": [
    "# Load corpus:\n",
    "corpus = Corpus(filename=\"/workspace/temporal_belief_analysis/pd_corpus_with_stances100000_chronological\")"
   ],
   "id": "4663e8eec67090fd",
   "outputs": [],
   "execution_count": null
  },
  {
   "metadata": {
    "ExecuteTime": {
     "end_time": "2025-07-10T15:33:50.740861Z",
     "start_time": "2025-07-10T15:33:50.734788Z"
    }
   },
   "cell_type": "code",
   "source": [
    "# Helper functions:\n",
    "import re\n",
    "\n",
    "def prepare_text(text):\n",
    "    clean_text = text.strip()\n",
    "    if len(clean_text) > 500:\n",
    "        clean_text = clean_text[:500] + \"...\"\n",
    "    return clean_text\n",
    "    \n",
    "def get_contextual_framing_for_topic(topic, text):\n",
    "    if topic:\n",
    "        contextual_text = f\"In a discussion about {topic}, this comment states: {text}\"\n",
    "    else:\n",
    "        contextual_text = f\"In a political discussion, this comment states: {text}\"\n",
    "    return contextual_text\n",
    "\n",
    "def mark_quotes(text):\n",
    "    \"\"\"Replace ConvoKit quote markers with standard quotation marks.\"\"\"\n",
    "\n",
    "    # Split text into lines for processing\n",
    "    lines = text.split('\\n')\n",
    "    result_lines = []\n",
    "    in_quote = False\n",
    "\n",
    "    for line in lines:\n",
    "        # Check if line starts a quote (begins with &gt;)\n",
    "        if line.strip().startswith('&gt;'):\n",
    "            if not in_quote:\n",
    "                # Start of new quote - replace &gt; with opening quote\n",
    "                cleaned_line = line.replace('&gt;', '\"', 1).lstrip()\n",
    "                result_lines.append(cleaned_line)\n",
    "                in_quote = True\n",
    "            else:\n",
    "                # Continuation of quote - just remove &gt;\n",
    "                cleaned_line = line.replace('&gt;', '', 1).lstrip()\n",
    "                result_lines.append(cleaned_line)\n",
    "\n",
    "        # Check if we're ending a quote (empty line or no more &gt; markers)\n",
    "        elif in_quote and (line.strip() == '' or not line.strip().startswith('&gt;')):\n",
    "            # End the quote by adding closing quote to previous line\n",
    "            if result_lines and not result_lines[-1].strip().endswith('\"'):\n",
    "                result_lines[-1] = result_lines[-1].rstrip() + '\"'\n",
    "\n",
    "            # Add current line if it's not empty\n",
    "            if line.strip():\n",
    "                result_lines.append(line)\n",
    "            else:\n",
    "                result_lines.append(line)  # Keep empty lines\n",
    "\n",
    "            in_quote = False\n",
    "\n",
    "        else:\n",
    "            # Regular line, not in quote\n",
    "            result_lines.append(line)\n",
    "\n",
    "    # Handle case where quote goes to end of text\n",
    "    if in_quote and result_lines and not result_lines[-1].strip().endswith('\"'):\n",
    "        result_lines[-1] = result_lines[-1].rstrip() + '\"'\n",
    "\n",
    "    return '\\n'.join(result_lines)"
   ],
   "id": "6ec7c45d190cfacf",
   "outputs": [],
   "execution_count": 6
  },
  {
   "metadata": {
    "ExecuteTime": {
     "end_time": "2025-07-29T15:08:02.540415Z",
     "start_time": "2025-07-29T15:08:02.519512Z"
    }
   },
   "cell_type": "code",
   "source": [
    "\"\"\"Stance detection functionality for conversation analysis.\"\"\"\n",
    "import numpy as np\n",
    "import logging\n",
    "from typing import List, Dict, Any, Optional\n",
    "from tqdm import tqdm\n",
    "from temporal_belief.utils.logger import setup_logging\n",
    "\n",
    "logger = setup_logging(\"DEBUG\")\n",
    "\n",
    "class StanceDetector:\n",
    "    \"\"\"Detect political stance in ConvoKit utterances using BART.\"\"\"\n",
    "\n",
    "    def __init__(self, stance_labels: Optional[List[str]] = None,\n",
    "                 config: ProjectConfig = None):\n",
    "        \"\"\"Initialize stance detector.\"\"\"\n",
    "        self.config = config or ProjectConfig()\n",
    "        self.classifier = BARTZeroShotClassifier(self.config.bart_model_name)\n",
    "        self.stance_labels = stance_labels or TOPIC_STANCE_HYPOTHESES\n",
    "        # logger.info(f\"Initialized stance detector with labels: {self.stance_labels}\")\n",
    "\n",
    "\n",
    "    def detect_utterance_stance(self, utterance, corpus) -> Dict[str, Any]:\n",
    "        \"\"\"Detect stance for a single utterance.\"\"\"\n",
    "        # text = mark_quotes(utterance.text)\n",
    "        if not utterance.text or utterance.text == '[removed]' or utterance.text == '[deleted]' or utterance.text.strip() == '.':\n",
    "            # logger.warning(f\"No utterance found in {utterance.id}\")\n",
    "            return {\"stance\": \"unknown\", \"confidence\": 0.0}\n",
    "        convo = corpus.get_conversation(utterance.conversation_id)\n",
    "        topic = convo.meta['detected_topic']\n",
    "        clean_text = StancePreprocessor.prepare_text(utterance.text)\n",
    "        text = StancePreprocessor.get_contextual_framing_for_topic(topic, clean_text)\n",
    "        # MAKE SURE THE TOPIC KEYS MATCH AND IF NOT RETURN A GENERAL\n",
    "        stance_hypotheses = TOPIC_STANCE_HYPOTHESES.get(topic, GENERAL_STANCE_HYPOTHESES)\n",
    "        # logger.info(f\"Text: {text}\")\n",
    "\n",
    "        #\n",
    "        # # Pass one of the candidate stances\n",
    "        # result = self.classifier.classify_text(text, self.stance_labels)\n",
    "        # return {\n",
    "        #     \"stance\": result[\"label\"],\n",
    "        #     \"confidence\": result[\"confidence\"],\n",
    "        #     \"all_scores\": result[\"all_scores\"]\n",
    "        # }\n",
    "\n",
    "        confidence_threshold = 0.25\n",
    "        stance_results = {}\n",
    "        template_consistency_scores = {}\n",
    "\n",
    "        for stance, hypotheses in stance_hypotheses.items():\n",
    "            stance_scores = []\n",
    "\n",
    "            # Test each hypothesis template for this stance\n",
    "            for hypothesis in hypotheses:\n",
    "                result = self.classifier.classify_text(text, [hypothesis])\n",
    "                # Get score for this specific hypothesis\n",
    "                stance_scores.append(result[\"all_scores\"].get(hypothesis, 0.0))\n",
    "\n",
    "            # Average across templates for this stance\n",
    "            avg_confidence = np.mean(stance_scores)\n",
    "            stance_results[stance] = avg_confidence\n",
    "\n",
    "            # Measure consistency across templates (lower std = more consistent)\n",
    "            template_consistency_scores[stance] = 1.0 - (np.std(stance_scores) / (np.mean(stance_scores) + 1e-8))\n",
    "\n",
    "        # Find best stance\n",
    "        best_stance = max(stance_results.keys(), key=lambda k: stance_results[k])\n",
    "        best_confidence = stance_results[best_stance]\n",
    "        overall_consistency = np.mean(list(template_consistency_scores.values()))\n",
    "\n",
    "        # Apply confidence threshold\n",
    "        if best_confidence < confidence_threshold:\n",
    "            best_stance = 'neutral'\n",
    "            best_confidence = stance_results.get('neutral', 0.0)\n",
    "\n",
    "        return {\n",
    "            'stance': best_stance,\n",
    "            'confidence': best_confidence,\n",
    "            'all_scores': stance_results,\n",
    "            'method_used': 'multi_template_spinos',\n",
    "            'template_consistency': overall_consistency,\n",
    "            'reliable': best_confidence > confidence_threshold and overall_consistency > 0.7,\n",
    "            'topic_context': topic\n",
    "        }\n",
    "\n",
    "    def process_corpus_utterances(self, corpus, batch_size: int = 50,\n",
    "                                  max_utterances: Optional[int] = None,\n",
    "                              save_path: Optional[str] = None) -> None:\n",
    "        \"\"\"Process all utterances in corpus for stance detection.\"\"\"\n",
    "        sorted_utts = sorted(list(corpus.iter_utterances()), key=lambda utt: utt.timestamp)\n",
    "        all_utterances = sorted_utts\n",
    "\n",
    "        if max_utterances is not None:\n",
    "            utterances = all_utterances[:max_utterances]\n",
    "            # logger.info(f\"Processing {len(utterances)} of {len(all_utterances)} total utterances\")\n",
    "        else:\n",
    "            utterances = all_utterances\n",
    "            # logger.info(f\"Processing all {len(utterances)} utterances for stance detection\")\n",
    "\n",
    "        for i in tqdm(range(0, len(utterances), batch_size),\n",
    "                      desc=\"Processing utterances\"):\n",
    "            batch = utterances[i:i+batch_size]\n",
    "\n",
    "            for utt in batch:\n",
    "                try:\n",
    "                    stance_result = self.detect_utterance_stance(utt, corpus)\n",
    "\n",
    "                    # Add to utterance metadata\n",
    "                    utt.add_meta(\"detected_stance\", stance_result[\"stance\"])\n",
    "                    utt.add_meta(\"stance_confidence\", stance_result[\"confidence\"])\n",
    "                    utt.add_meta(\"stance_scores\", stance_result[\"all_scores\"])\n",
    "\n",
    "                except Exception as e:\n",
    "                    # logger.error(f\"Failed to process utterance {utt.id}: {e}\")\n",
    "                    utt.add_meta(\"detected_stance\", \"unknown\")\n",
    "                    utt.add_meta(\"stance_confidence\", 0.0)\n",
    "\n",
    "        if save_path:\n",
    "            corpus.dump(save_path)\n",
    "            # logger.info(f\"Saved processed corpus to {save_path}\")\n",
    "\n",
    "        # logger.info(\"Stance detection processing complete\")\n"
   ],
   "id": "3a7773177f8234af",
   "outputs": [],
   "execution_count": 23
  },
  {
   "metadata": {
    "ExecuteTime": {
     "end_time": "2025-07-29T14:52:45.500013Z",
     "start_time": "2025-07-29T14:50:02.554469Z"
    }
   },
   "cell_type": "code",
   "source": [
    "# Initialize with 4 GPUs\n",
    "stance_detector = StanceDetector(num_gpus=1)\n",
    "\n",
    "# Process corpus (keep your existing parameters)\n",
    "SAVE_PATH = \"/workspace/temporal_belief_analysis/pd_corpus_with_stances50_chronological\"\n",
    "stance_detector.process_corpus_utterances(corpus, max_utterances=50, save_path=SAVE_PATH)"
   ],
   "id": "77ab26cd2535b032",
   "outputs": [
    {
     "name": "stderr",
     "output_type": "stream",
     "text": [
      "Device set to use cuda:0\n",
      "2025-07-29 14:50:03,458 - temporal_belief.models.bart_classifier - INFO - bart_classifier:49 - Loaded single classifier on device: GPU\n",
      "2025-07-29 14:50:03,496 - temporal_belief - INFO - 585778893:19 - Initialized stance detector with 1 GPUs\n",
      "2025-07-29 14:50:12,284 - temporal_belief - INFO - 585778893:80 - Processing 50 of 4655894 total utterances\n",
      "Processing utterances: 100%|██████████| 1/1 [00:07<00:00,  7.32s/it]\n",
      "2025-07-29 14:52:45,239 - temporal_belief - INFO - 585778893:92 - Saved processed corpus to /workspace/temporal_belief_analysis/pd_corpus_with_stances50_chronological\n",
      "2025-07-29 14:52:45,242 - temporal_belief - INFO - 585778893:94 - Stance detection processing complete\n"
     ]
    }
   ],
   "execution_count": 16
  },
  {
   "metadata": {
    "ExecuteTime": {
     "end_time": "2025-07-29T15:14:12.770093Z",
     "start_time": "2025-07-29T15:08:05.781966Z"
    }
   },
   "cell_type": "code",
   "source": [
    "# Testing 'process_corpus_utterances()'\n",
    "SAVE_PATH = \"/workspace/temporal_belief_analysis/pd_corpus_with_stances20000_chronological_old\"\n",
    "stance_detector = StanceDetector()\n",
    "stance_detector.process_corpus_utterances(corpus, max_utterances=20000, save_path=SAVE_PATH)"
   ],
   "id": "846d651826086529",
   "outputs": [
    {
     "name": "stderr",
     "output_type": "stream",
     "text": [
      "Device set to use cuda:0\n",
      "2025-07-29 15:08:06,565 - temporal_belief.models.bart_classifier - INFO - bart_classifier:49 - Loaded single classifier on device: GPU\n",
      "Processing utterances:  13%|█▎        | 53/400 [06:01<39:24,  6.81s/it]\n"
     ]
    },
    {
     "ename": "KeyboardInterrupt",
     "evalue": "",
     "output_type": "error",
     "traceback": [
      "\u001B[31m---------------------------------------------------------------------------\u001B[39m",
      "\u001B[31mKeyboardInterrupt\u001B[39m                         Traceback (most recent call last)",
      "\u001B[36mCell\u001B[39m\u001B[36m \u001B[39m\u001B[32mIn[24]\u001B[39m\u001B[32m, line 4\u001B[39m\n\u001B[32m      2\u001B[39m SAVE_PATH = \u001B[33m\"\u001B[39m\u001B[33m/workspace/temporal_belief_analysis/pd_corpus_with_stances20000_chronological_old\u001B[39m\u001B[33m\"\u001B[39m\n\u001B[32m      3\u001B[39m stance_detector = StanceDetector()\n\u001B[32m----> \u001B[39m\u001B[32m4\u001B[39m \u001B[43mstance_detector\u001B[49m\u001B[43m.\u001B[49m\u001B[43mprocess_corpus_utterances\u001B[49m\u001B[43m(\u001B[49m\u001B[43mcorpus\u001B[49m\u001B[43m,\u001B[49m\u001B[43m \u001B[49m\u001B[43mmax_utterances\u001B[49m\u001B[43m=\u001B[49m\u001B[32;43m20000\u001B[39;49m\u001B[43m,\u001B[49m\u001B[43m \u001B[49m\u001B[43msave_path\u001B[49m\u001B[43m=\u001B[49m\u001B[43mSAVE_PATH\u001B[49m\u001B[43m)\u001B[49m\n",
      "\u001B[36mCell\u001B[39m\u001B[36m \u001B[39m\u001B[32mIn[23]\u001B[39m\u001B[32m, line 105\u001B[39m, in \u001B[36mStanceDetector.process_corpus_utterances\u001B[39m\u001B[34m(self, corpus, batch_size, max_utterances, save_path)\u001B[39m\n\u001B[32m    103\u001B[39m \u001B[38;5;28;01mfor\u001B[39;00m utt \u001B[38;5;129;01min\u001B[39;00m batch:\n\u001B[32m    104\u001B[39m     \u001B[38;5;28;01mtry\u001B[39;00m:\n\u001B[32m--> \u001B[39m\u001B[32m105\u001B[39m         stance_result = \u001B[38;5;28;43mself\u001B[39;49m\u001B[43m.\u001B[49m\u001B[43mdetect_utterance_stance\u001B[49m\u001B[43m(\u001B[49m\u001B[43mutt\u001B[49m\u001B[43m,\u001B[49m\u001B[43m \u001B[49m\u001B[43mcorpus\u001B[49m\u001B[43m)\u001B[49m\n\u001B[32m    107\u001B[39m         \u001B[38;5;66;03m# Add to utterance metadata\u001B[39;00m\n\u001B[32m    108\u001B[39m         utt.add_meta(\u001B[33m\"\u001B[39m\u001B[33mdetected_stance\u001B[39m\u001B[33m\"\u001B[39m, stance_result[\u001B[33m\"\u001B[39m\u001B[33mstance\u001B[39m\u001B[33m\"\u001B[39m])\n",
      "\u001B[36mCell\u001B[39m\u001B[36m \u001B[39m\u001B[32mIn[23]\u001B[39m\u001B[32m, line 54\u001B[39m, in \u001B[36mStanceDetector.detect_utterance_stance\u001B[39m\u001B[34m(self, utterance, corpus)\u001B[39m\n\u001B[32m     52\u001B[39m \u001B[38;5;66;03m# Test each hypothesis template for this stance\u001B[39;00m\n\u001B[32m     53\u001B[39m \u001B[38;5;28;01mfor\u001B[39;00m hypothesis \u001B[38;5;129;01min\u001B[39;00m hypotheses:\n\u001B[32m---> \u001B[39m\u001B[32m54\u001B[39m     result = \u001B[38;5;28;43mself\u001B[39;49m\u001B[43m.\u001B[49m\u001B[43mclassifier\u001B[49m\u001B[43m.\u001B[49m\u001B[43mclassify_text\u001B[49m\u001B[43m(\u001B[49m\u001B[43mtext\u001B[49m\u001B[43m,\u001B[49m\u001B[43m \u001B[49m\u001B[43m[\u001B[49m\u001B[43mhypothesis\u001B[49m\u001B[43m]\u001B[49m\u001B[43m)\u001B[49m\n\u001B[32m     55\u001B[39m     \u001B[38;5;66;03m# Get score for this specific hypothesis\u001B[39;00m\n\u001B[32m     56\u001B[39m     stance_scores.append(result[\u001B[33m\"\u001B[39m\u001B[33mall_scores\u001B[39m\u001B[33m\"\u001B[39m].get(hypothesis, \u001B[32m0.0\u001B[39m))\n",
      "\u001B[36mFile \u001B[39m\u001B[32m/workspace/temporal_belief_analysis/src/temporal_belief/models/bart_classifier.py:66\u001B[39m, in \u001B[36mBARTZeroShotClassifier.classify_text\u001B[39m\u001B[34m(self, text, candidate_labels)\u001B[39m\n\u001B[32m     58\u001B[39m     \u001B[38;5;28;01mreturn\u001B[39;00m {\n\u001B[32m     59\u001B[39m         \u001B[33m\"\u001B[39m\u001B[33mlabel\u001B[39m\u001B[33m\"\u001B[39m: \u001B[33m\"\u001B[39m\u001B[33munknown\u001B[39m\u001B[33m\"\u001B[39m,\n\u001B[32m     60\u001B[39m         \u001B[33m\"\u001B[39m\u001B[33mconfidence\u001B[39m\u001B[33m\"\u001B[39m: \u001B[32m0.0\u001B[39m,\n\u001B[32m     61\u001B[39m         \u001B[33m\"\u001B[39m\u001B[33mall_scores\u001B[39m\u001B[33m\"\u001B[39m: {label: \u001B[32m0.0\u001B[39m \u001B[38;5;28;01mfor\u001B[39;00m label \u001B[38;5;129;01min\u001B[39;00m candidate_labels}\n\u001B[32m     62\u001B[39m     }\n\u001B[32m     64\u001B[39m \u001B[38;5;28;01mtry\u001B[39;00m:\n\u001B[32m     65\u001B[39m     \u001B[38;5;66;03m# Use first GPU for single classification\u001B[39;00m\n\u001B[32m---> \u001B[39m\u001B[32m66\u001B[39m     result = \u001B[38;5;28;43mself\u001B[39;49m\u001B[43m.\u001B[49m\u001B[43mclassifiers\u001B[49m\u001B[43m[\u001B[49m\u001B[32;43m0\u001B[39;49m\u001B[43m]\u001B[49m\u001B[43m(\u001B[49m\u001B[43mtext\u001B[49m\u001B[43m,\u001B[49m\u001B[43m \u001B[49m\u001B[43mcandidate_labels\u001B[49m\u001B[43m)\u001B[49m\n\u001B[32m     67\u001B[39m     \u001B[38;5;28;01mreturn\u001B[39;00m {\n\u001B[32m     68\u001B[39m         \u001B[33m\"\u001B[39m\u001B[33mlabel\u001B[39m\u001B[33m\"\u001B[39m: result[\u001B[33m\"\u001B[39m\u001B[33mlabels\u001B[39m\u001B[33m\"\u001B[39m][\u001B[32m0\u001B[39m],\n\u001B[32m     69\u001B[39m         \u001B[33m\"\u001B[39m\u001B[33mconfidence\u001B[39m\u001B[33m\"\u001B[39m: result[\u001B[33m\"\u001B[39m\u001B[33mscores\u001B[39m\u001B[33m\"\u001B[39m][\u001B[32m0\u001B[39m],\n\u001B[32m     70\u001B[39m         \u001B[33m\"\u001B[39m\u001B[33mall_scores\u001B[39m\u001B[33m\"\u001B[39m: \u001B[38;5;28mdict\u001B[39m(\u001B[38;5;28mzip\u001B[39m(result[\u001B[33m\"\u001B[39m\u001B[33mlabels\u001B[39m\u001B[33m\"\u001B[39m], result[\u001B[33m\"\u001B[39m\u001B[33mscores\u001B[39m\u001B[33m\"\u001B[39m]))\n\u001B[32m     71\u001B[39m     }\n\u001B[32m     72\u001B[39m \u001B[38;5;28;01mexcept\u001B[39;00m \u001B[38;5;167;01mException\u001B[39;00m \u001B[38;5;28;01mas\u001B[39;00m e:\n",
      "\u001B[36mFile \u001B[39m\u001B[32m/usr/local/lib/python3.11/dist-packages/transformers/pipelines/zero_shot_classification.py:209\u001B[39m, in \u001B[36mZeroShotClassificationPipeline.__call__\u001B[39m\u001B[34m(self, sequences, *args, **kwargs)\u001B[39m\n\u001B[32m    206\u001B[39m \u001B[38;5;28;01melse\u001B[39;00m:\n\u001B[32m    207\u001B[39m     \u001B[38;5;28;01mraise\u001B[39;00m \u001B[38;5;167;01mValueError\u001B[39;00m(\u001B[33mf\u001B[39m\u001B[33m\"\u001B[39m\u001B[33mUnable to understand extra arguments \u001B[39m\u001B[38;5;132;01m{\u001B[39;00margs\u001B[38;5;132;01m}\u001B[39;00m\u001B[33m\"\u001B[39m)\n\u001B[32m--> \u001B[39m\u001B[32m209\u001B[39m \u001B[38;5;28;01mreturn\u001B[39;00m \u001B[38;5;28;43msuper\u001B[39;49m\u001B[43m(\u001B[49m\u001B[43m)\u001B[49m\u001B[43m.\u001B[49m\u001B[34;43m__call__\u001B[39;49m\u001B[43m(\u001B[49m\u001B[43msequences\u001B[49m\u001B[43m,\u001B[49m\u001B[43m \u001B[49m\u001B[43m*\u001B[49m\u001B[43m*\u001B[49m\u001B[43mkwargs\u001B[49m\u001B[43m)\u001B[49m\n",
      "\u001B[36mFile \u001B[39m\u001B[32m/usr/local/lib/python3.11/dist-packages/transformers/pipelines/base.py:1450\u001B[39m, in \u001B[36mPipeline.__call__\u001B[39m\u001B[34m(self, inputs, num_workers, batch_size, *args, **kwargs)\u001B[39m\n\u001B[32m   1448\u001B[39m     \u001B[38;5;28;01mreturn\u001B[39;00m \u001B[38;5;28mself\u001B[39m.iterate(inputs, preprocess_params, forward_params, postprocess_params)\n\u001B[32m   1449\u001B[39m \u001B[38;5;28;01melif\u001B[39;00m \u001B[38;5;28mself\u001B[39m.framework == \u001B[33m\"\u001B[39m\u001B[33mpt\u001B[39m\u001B[33m\"\u001B[39m \u001B[38;5;129;01mand\u001B[39;00m \u001B[38;5;28misinstance\u001B[39m(\u001B[38;5;28mself\u001B[39m, ChunkPipeline):\n\u001B[32m-> \u001B[39m\u001B[32m1450\u001B[39m     \u001B[38;5;28;01mreturn\u001B[39;00m \u001B[38;5;28mnext\u001B[39m(\n\u001B[32m   1451\u001B[39m         \u001B[38;5;28miter\u001B[39m(\n\u001B[32m   1452\u001B[39m             \u001B[38;5;28mself\u001B[39m.get_iterator(\n\u001B[32m   1453\u001B[39m                 [inputs], num_workers, batch_size, preprocess_params, forward_params, postprocess_params\n\u001B[32m   1454\u001B[39m             )\n\u001B[32m   1455\u001B[39m         )\n\u001B[32m   1456\u001B[39m     )\n\u001B[32m   1457\u001B[39m \u001B[38;5;28;01melse\u001B[39;00m:\n\u001B[32m   1458\u001B[39m     \u001B[38;5;28;01mreturn\u001B[39;00m \u001B[38;5;28mself\u001B[39m.run_single(inputs, preprocess_params, forward_params, postprocess_params)\n",
      "\u001B[36mFile \u001B[39m\u001B[32m/usr/local/lib/python3.11/dist-packages/transformers/pipelines/pt_utils.py:124\u001B[39m, in \u001B[36mPipelineIterator.__next__\u001B[39m\u001B[34m(self)\u001B[39m\n\u001B[32m    121\u001B[39m     \u001B[38;5;28;01mreturn\u001B[39;00m \u001B[38;5;28mself\u001B[39m.loader_batch_item()\n\u001B[32m    123\u001B[39m \u001B[38;5;66;03m# We're out of items within a batch\u001B[39;00m\n\u001B[32m--> \u001B[39m\u001B[32m124\u001B[39m item = \u001B[38;5;28mnext\u001B[39m(\u001B[38;5;28mself\u001B[39m.iterator)\n\u001B[32m    125\u001B[39m processed = \u001B[38;5;28mself\u001B[39m.infer(item, **\u001B[38;5;28mself\u001B[39m.params)\n\u001B[32m    126\u001B[39m \u001B[38;5;66;03m# We now have a batch of \"inferred things\".\u001B[39;00m\n",
      "\u001B[36mFile \u001B[39m\u001B[32m/usr/local/lib/python3.11/dist-packages/transformers/pipelines/pt_utils.py:269\u001B[39m, in \u001B[36mPipelinePackIterator.__next__\u001B[39m\u001B[34m(self)\u001B[39m\n\u001B[32m    266\u001B[39m             \u001B[38;5;28;01mreturn\u001B[39;00m accumulator\n\u001B[32m    268\u001B[39m \u001B[38;5;28;01mwhile\u001B[39;00m \u001B[38;5;129;01mnot\u001B[39;00m is_last:\n\u001B[32m--> \u001B[39m\u001B[32m269\u001B[39m     processed = \u001B[38;5;28;43mself\u001B[39;49m\u001B[43m.\u001B[49m\u001B[43minfer\u001B[49m\u001B[43m(\u001B[49m\u001B[38;5;28;43mnext\u001B[39;49m\u001B[43m(\u001B[49m\u001B[38;5;28;43mself\u001B[39;49m\u001B[43m.\u001B[49m\u001B[43miterator\u001B[49m\u001B[43m)\u001B[49m\u001B[43m,\u001B[49m\u001B[43m \u001B[49m\u001B[43m*\u001B[49m\u001B[43m*\u001B[49m\u001B[38;5;28;43mself\u001B[39;49m\u001B[43m.\u001B[49m\u001B[43mparams\u001B[49m\u001B[43m)\u001B[49m\n\u001B[32m    270\u001B[39m     \u001B[38;5;28;01mif\u001B[39;00m \u001B[38;5;28mself\u001B[39m.loader_batch_size \u001B[38;5;129;01mis\u001B[39;00m \u001B[38;5;129;01mnot\u001B[39;00m \u001B[38;5;28;01mNone\u001B[39;00m:\n\u001B[32m    271\u001B[39m         \u001B[38;5;28;01mif\u001B[39;00m \u001B[38;5;28misinstance\u001B[39m(processed, torch.Tensor):\n",
      "\u001B[36mFile \u001B[39m\u001B[32m/usr/local/lib/python3.11/dist-packages/transformers/pipelines/base.py:1365\u001B[39m, in \u001B[36mPipeline.forward\u001B[39m\u001B[34m(self, model_inputs, **forward_params)\u001B[39m\n\u001B[32m   1363\u001B[39m     \u001B[38;5;28;01mwith\u001B[39;00m inference_context():\n\u001B[32m   1364\u001B[39m         model_inputs = \u001B[38;5;28mself\u001B[39m._ensure_tensor_on_device(model_inputs, device=\u001B[38;5;28mself\u001B[39m.device)\n\u001B[32m-> \u001B[39m\u001B[32m1365\u001B[39m         model_outputs = \u001B[38;5;28;43mself\u001B[39;49m\u001B[43m.\u001B[49m\u001B[43m_forward\u001B[49m\u001B[43m(\u001B[49m\u001B[43mmodel_inputs\u001B[49m\u001B[43m,\u001B[49m\u001B[43m \u001B[49m\u001B[43m*\u001B[49m\u001B[43m*\u001B[49m\u001B[43mforward_params\u001B[49m\u001B[43m)\u001B[49m\n\u001B[32m   1366\u001B[39m         model_outputs = \u001B[38;5;28mself\u001B[39m._ensure_tensor_on_device(model_outputs, device=torch.device(\u001B[33m\"\u001B[39m\u001B[33mcpu\u001B[39m\u001B[33m\"\u001B[39m))\n\u001B[32m   1367\u001B[39m \u001B[38;5;28;01melse\u001B[39;00m:\n",
      "\u001B[36mFile \u001B[39m\u001B[32m/usr/local/lib/python3.11/dist-packages/transformers/pipelines/zero_shot_classification.py:232\u001B[39m, in \u001B[36mZeroShotClassificationPipeline._forward\u001B[39m\u001B[34m(self, inputs)\u001B[39m\n\u001B[32m    230\u001B[39m \u001B[38;5;28;01mif\u001B[39;00m \u001B[33m\"\u001B[39m\u001B[33muse_cache\u001B[39m\u001B[33m\"\u001B[39m \u001B[38;5;129;01min\u001B[39;00m inspect.signature(model_forward).parameters.keys():\n\u001B[32m    231\u001B[39m     model_inputs[\u001B[33m\"\u001B[39m\u001B[33muse_cache\u001B[39m\u001B[33m\"\u001B[39m] = \u001B[38;5;28;01mFalse\u001B[39;00m\n\u001B[32m--> \u001B[39m\u001B[32m232\u001B[39m outputs = \u001B[38;5;28;43mself\u001B[39;49m\u001B[43m.\u001B[49m\u001B[43mmodel\u001B[49m\u001B[43m(\u001B[49m\u001B[43m*\u001B[49m\u001B[43m*\u001B[49m\u001B[43mmodel_inputs\u001B[49m\u001B[43m)\u001B[49m\n\u001B[32m    234\u001B[39m model_outputs = {\n\u001B[32m    235\u001B[39m     \u001B[33m\"\u001B[39m\u001B[33mcandidate_label\u001B[39m\u001B[33m\"\u001B[39m: candidate_label,\n\u001B[32m    236\u001B[39m     \u001B[33m\"\u001B[39m\u001B[33msequence\u001B[39m\u001B[33m\"\u001B[39m: sequence,\n\u001B[32m    237\u001B[39m     \u001B[33m\"\u001B[39m\u001B[33mis_last\u001B[39m\u001B[33m\"\u001B[39m: inputs[\u001B[33m\"\u001B[39m\u001B[33mis_last\u001B[39m\u001B[33m\"\u001B[39m],\n\u001B[32m    238\u001B[39m     **outputs,\n\u001B[32m    239\u001B[39m }\n\u001B[32m    240\u001B[39m \u001B[38;5;28;01mreturn\u001B[39;00m model_outputs\n",
      "\u001B[36mFile \u001B[39m\u001B[32m/usr/local/lib/python3.11/dist-packages/torch/nn/modules/module.py:1751\u001B[39m, in \u001B[36mModule._wrapped_call_impl\u001B[39m\u001B[34m(self, *args, **kwargs)\u001B[39m\n\u001B[32m   1749\u001B[39m     \u001B[38;5;28;01mreturn\u001B[39;00m \u001B[38;5;28mself\u001B[39m._compiled_call_impl(*args, **kwargs)  \u001B[38;5;66;03m# type: ignore[misc]\u001B[39;00m\n\u001B[32m   1750\u001B[39m \u001B[38;5;28;01melse\u001B[39;00m:\n\u001B[32m-> \u001B[39m\u001B[32m1751\u001B[39m     \u001B[38;5;28;01mreturn\u001B[39;00m \u001B[38;5;28;43mself\u001B[39;49m\u001B[43m.\u001B[49m\u001B[43m_call_impl\u001B[49m\u001B[43m(\u001B[49m\u001B[43m*\u001B[49m\u001B[43margs\u001B[49m\u001B[43m,\u001B[49m\u001B[43m \u001B[49m\u001B[43m*\u001B[49m\u001B[43m*\u001B[49m\u001B[43mkwargs\u001B[49m\u001B[43m)\u001B[49m\n",
      "\u001B[36mFile \u001B[39m\u001B[32m/usr/local/lib/python3.11/dist-packages/torch/nn/modules/module.py:1762\u001B[39m, in \u001B[36mModule._call_impl\u001B[39m\u001B[34m(self, *args, **kwargs)\u001B[39m\n\u001B[32m   1757\u001B[39m \u001B[38;5;66;03m# If we don't have any hooks, we want to skip the rest of the logic in\u001B[39;00m\n\u001B[32m   1758\u001B[39m \u001B[38;5;66;03m# this function, and just call forward.\u001B[39;00m\n\u001B[32m   1759\u001B[39m \u001B[38;5;28;01mif\u001B[39;00m \u001B[38;5;129;01mnot\u001B[39;00m (\u001B[38;5;28mself\u001B[39m._backward_hooks \u001B[38;5;129;01mor\u001B[39;00m \u001B[38;5;28mself\u001B[39m._backward_pre_hooks \u001B[38;5;129;01mor\u001B[39;00m \u001B[38;5;28mself\u001B[39m._forward_hooks \u001B[38;5;129;01mor\u001B[39;00m \u001B[38;5;28mself\u001B[39m._forward_pre_hooks\n\u001B[32m   1760\u001B[39m         \u001B[38;5;129;01mor\u001B[39;00m _global_backward_pre_hooks \u001B[38;5;129;01mor\u001B[39;00m _global_backward_hooks\n\u001B[32m   1761\u001B[39m         \u001B[38;5;129;01mor\u001B[39;00m _global_forward_hooks \u001B[38;5;129;01mor\u001B[39;00m _global_forward_pre_hooks):\n\u001B[32m-> \u001B[39m\u001B[32m1762\u001B[39m     \u001B[38;5;28;01mreturn\u001B[39;00m \u001B[43mforward_call\u001B[49m\u001B[43m(\u001B[49m\u001B[43m*\u001B[49m\u001B[43margs\u001B[49m\u001B[43m,\u001B[49m\u001B[43m \u001B[49m\u001B[43m*\u001B[49m\u001B[43m*\u001B[49m\u001B[43mkwargs\u001B[49m\u001B[43m)\u001B[49m\n\u001B[32m   1764\u001B[39m result = \u001B[38;5;28;01mNone\u001B[39;00m\n\u001B[32m   1765\u001B[39m called_always_called_hooks = \u001B[38;5;28mset\u001B[39m()\n",
      "\u001B[36mFile \u001B[39m\u001B[32m/usr/local/lib/python3.11/dist-packages/transformers/models/bart/modeling_bart.py:1602\u001B[39m, in \u001B[36mBartForSequenceClassification.forward\u001B[39m\u001B[34m(self, input_ids, attention_mask, decoder_input_ids, decoder_attention_mask, head_mask, decoder_head_mask, cross_attn_head_mask, encoder_outputs, inputs_embeds, decoder_inputs_embeds, labels, use_cache, output_attentions, output_hidden_states, return_dict, cache_position)\u001B[39m\n\u001B[32m   1597\u001B[39m \u001B[38;5;28;01mif\u001B[39;00m input_ids \u001B[38;5;129;01mis\u001B[39;00m \u001B[38;5;28;01mNone\u001B[39;00m \u001B[38;5;129;01mand\u001B[39;00m inputs_embeds \u001B[38;5;129;01mis\u001B[39;00m \u001B[38;5;129;01mnot\u001B[39;00m \u001B[38;5;28;01mNone\u001B[39;00m:\n\u001B[32m   1598\u001B[39m     \u001B[38;5;28;01mraise\u001B[39;00m \u001B[38;5;167;01mNotImplementedError\u001B[39;00m(\n\u001B[32m   1599\u001B[39m         \u001B[33mf\u001B[39m\u001B[33m\"\u001B[39m\u001B[33mPassing input embeddings is currently not supported for \u001B[39m\u001B[38;5;132;01m{\u001B[39;00m\u001B[38;5;28mself\u001B[39m.\u001B[34m__class__\u001B[39m.\u001B[34m__name__\u001B[39m\u001B[38;5;132;01m}\u001B[39;00m\u001B[33m\"\u001B[39m\n\u001B[32m   1600\u001B[39m     )\n\u001B[32m-> \u001B[39m\u001B[32m1602\u001B[39m outputs = \u001B[38;5;28;43mself\u001B[39;49m\u001B[43m.\u001B[49m\u001B[43mmodel\u001B[49m\u001B[43m(\u001B[49m\n\u001B[32m   1603\u001B[39m \u001B[43m    \u001B[49m\u001B[43minput_ids\u001B[49m\u001B[43m,\u001B[49m\n\u001B[32m   1604\u001B[39m \u001B[43m    \u001B[49m\u001B[43mattention_mask\u001B[49m\u001B[43m=\u001B[49m\u001B[43mattention_mask\u001B[49m\u001B[43m,\u001B[49m\n\u001B[32m   1605\u001B[39m \u001B[43m    \u001B[49m\u001B[43mdecoder_input_ids\u001B[49m\u001B[43m=\u001B[49m\u001B[43mdecoder_input_ids\u001B[49m\u001B[43m,\u001B[49m\n\u001B[32m   1606\u001B[39m \u001B[43m    \u001B[49m\u001B[43mdecoder_attention_mask\u001B[49m\u001B[43m=\u001B[49m\u001B[43mdecoder_attention_mask\u001B[49m\u001B[43m,\u001B[49m\n\u001B[32m   1607\u001B[39m \u001B[43m    \u001B[49m\u001B[43mhead_mask\u001B[49m\u001B[43m=\u001B[49m\u001B[43mhead_mask\u001B[49m\u001B[43m,\u001B[49m\n\u001B[32m   1608\u001B[39m \u001B[43m    \u001B[49m\u001B[43mdecoder_head_mask\u001B[49m\u001B[43m=\u001B[49m\u001B[43mdecoder_head_mask\u001B[49m\u001B[43m,\u001B[49m\n\u001B[32m   1609\u001B[39m \u001B[43m    \u001B[49m\u001B[43mcross_attn_head_mask\u001B[49m\u001B[43m=\u001B[49m\u001B[43mcross_attn_head_mask\u001B[49m\u001B[43m,\u001B[49m\n\u001B[32m   1610\u001B[39m \u001B[43m    \u001B[49m\u001B[43mencoder_outputs\u001B[49m\u001B[43m=\u001B[49m\u001B[43mencoder_outputs\u001B[49m\u001B[43m,\u001B[49m\n\u001B[32m   1611\u001B[39m \u001B[43m    \u001B[49m\u001B[43minputs_embeds\u001B[49m\u001B[43m=\u001B[49m\u001B[43minputs_embeds\u001B[49m\u001B[43m,\u001B[49m\n\u001B[32m   1612\u001B[39m \u001B[43m    \u001B[49m\u001B[43mdecoder_inputs_embeds\u001B[49m\u001B[43m=\u001B[49m\u001B[43mdecoder_inputs_embeds\u001B[49m\u001B[43m,\u001B[49m\n\u001B[32m   1613\u001B[39m \u001B[43m    \u001B[49m\u001B[43muse_cache\u001B[49m\u001B[43m=\u001B[49m\u001B[43muse_cache\u001B[49m\u001B[43m,\u001B[49m\n\u001B[32m   1614\u001B[39m \u001B[43m    \u001B[49m\u001B[43moutput_attentions\u001B[49m\u001B[43m=\u001B[49m\u001B[43moutput_attentions\u001B[49m\u001B[43m,\u001B[49m\n\u001B[32m   1615\u001B[39m \u001B[43m    \u001B[49m\u001B[43moutput_hidden_states\u001B[49m\u001B[43m=\u001B[49m\u001B[43moutput_hidden_states\u001B[49m\u001B[43m,\u001B[49m\n\u001B[32m   1616\u001B[39m \u001B[43m    \u001B[49m\u001B[43mreturn_dict\u001B[49m\u001B[43m=\u001B[49m\u001B[43mreturn_dict\u001B[49m\u001B[43m,\u001B[49m\n\u001B[32m   1617\u001B[39m \u001B[43m    \u001B[49m\u001B[43mcache_position\u001B[49m\u001B[43m=\u001B[49m\u001B[43mcache_position\u001B[49m\u001B[43m,\u001B[49m\n\u001B[32m   1618\u001B[39m \u001B[43m\u001B[49m\u001B[43m)\u001B[49m\n\u001B[32m   1619\u001B[39m hidden_states = outputs[\u001B[32m0\u001B[39m]  \u001B[38;5;66;03m# last hidden state\u001B[39;00m\n\u001B[32m   1621\u001B[39m eos_mask = input_ids.eq(\u001B[38;5;28mself\u001B[39m.config.eos_token_id).to(hidden_states.device)\n",
      "\u001B[36mFile \u001B[39m\u001B[32m/usr/local/lib/python3.11/dist-packages/torch/nn/modules/module.py:1751\u001B[39m, in \u001B[36mModule._wrapped_call_impl\u001B[39m\u001B[34m(self, *args, **kwargs)\u001B[39m\n\u001B[32m   1749\u001B[39m     \u001B[38;5;28;01mreturn\u001B[39;00m \u001B[38;5;28mself\u001B[39m._compiled_call_impl(*args, **kwargs)  \u001B[38;5;66;03m# type: ignore[misc]\u001B[39;00m\n\u001B[32m   1750\u001B[39m \u001B[38;5;28;01melse\u001B[39;00m:\n\u001B[32m-> \u001B[39m\u001B[32m1751\u001B[39m     \u001B[38;5;28;01mreturn\u001B[39;00m \u001B[38;5;28;43mself\u001B[39;49m\u001B[43m.\u001B[49m\u001B[43m_call_impl\u001B[49m\u001B[43m(\u001B[49m\u001B[43m*\u001B[49m\u001B[43margs\u001B[49m\u001B[43m,\u001B[49m\u001B[43m \u001B[49m\u001B[43m*\u001B[49m\u001B[43m*\u001B[49m\u001B[43mkwargs\u001B[49m\u001B[43m)\u001B[49m\n",
      "\u001B[36mFile \u001B[39m\u001B[32m/usr/local/lib/python3.11/dist-packages/torch/nn/modules/module.py:1762\u001B[39m, in \u001B[36mModule._call_impl\u001B[39m\u001B[34m(self, *args, **kwargs)\u001B[39m\n\u001B[32m   1757\u001B[39m \u001B[38;5;66;03m# If we don't have any hooks, we want to skip the rest of the logic in\u001B[39;00m\n\u001B[32m   1758\u001B[39m \u001B[38;5;66;03m# this function, and just call forward.\u001B[39;00m\n\u001B[32m   1759\u001B[39m \u001B[38;5;28;01mif\u001B[39;00m \u001B[38;5;129;01mnot\u001B[39;00m (\u001B[38;5;28mself\u001B[39m._backward_hooks \u001B[38;5;129;01mor\u001B[39;00m \u001B[38;5;28mself\u001B[39m._backward_pre_hooks \u001B[38;5;129;01mor\u001B[39;00m \u001B[38;5;28mself\u001B[39m._forward_hooks \u001B[38;5;129;01mor\u001B[39;00m \u001B[38;5;28mself\u001B[39m._forward_pre_hooks\n\u001B[32m   1760\u001B[39m         \u001B[38;5;129;01mor\u001B[39;00m _global_backward_pre_hooks \u001B[38;5;129;01mor\u001B[39;00m _global_backward_hooks\n\u001B[32m   1761\u001B[39m         \u001B[38;5;129;01mor\u001B[39;00m _global_forward_hooks \u001B[38;5;129;01mor\u001B[39;00m _global_forward_pre_hooks):\n\u001B[32m-> \u001B[39m\u001B[32m1762\u001B[39m     \u001B[38;5;28;01mreturn\u001B[39;00m \u001B[43mforward_call\u001B[49m\u001B[43m(\u001B[49m\u001B[43m*\u001B[49m\u001B[43margs\u001B[49m\u001B[43m,\u001B[49m\u001B[43m \u001B[49m\u001B[43m*\u001B[49m\u001B[43m*\u001B[49m\u001B[43mkwargs\u001B[49m\u001B[43m)\u001B[49m\n\u001B[32m   1764\u001B[39m result = \u001B[38;5;28;01mNone\u001B[39;00m\n\u001B[32m   1765\u001B[39m called_always_called_hooks = \u001B[38;5;28mset\u001B[39m()\n",
      "\u001B[36mFile \u001B[39m\u001B[32m/usr/local/lib/python3.11/dist-packages/transformers/models/bart/modeling_bart.py:1270\u001B[39m, in \u001B[36mBartModel.forward\u001B[39m\u001B[34m(self, input_ids, attention_mask, decoder_input_ids, decoder_attention_mask, head_mask, decoder_head_mask, cross_attn_head_mask, encoder_outputs, past_key_values, inputs_embeds, decoder_inputs_embeds, use_cache, output_attentions, output_hidden_states, return_dict, cache_position)\u001B[39m\n\u001B[32m   1267\u001B[39m return_dict = return_dict \u001B[38;5;28;01mif\u001B[39;00m return_dict \u001B[38;5;129;01mis\u001B[39;00m \u001B[38;5;129;01mnot\u001B[39;00m \u001B[38;5;28;01mNone\u001B[39;00m \u001B[38;5;28;01melse\u001B[39;00m \u001B[38;5;28mself\u001B[39m.config.use_return_dict\n\u001B[32m   1269\u001B[39m \u001B[38;5;28;01mif\u001B[39;00m encoder_outputs \u001B[38;5;129;01mis\u001B[39;00m \u001B[38;5;28;01mNone\u001B[39;00m:\n\u001B[32m-> \u001B[39m\u001B[32m1270\u001B[39m     encoder_outputs = \u001B[38;5;28;43mself\u001B[39;49m\u001B[43m.\u001B[49m\u001B[43mencoder\u001B[49m\u001B[43m(\u001B[49m\n\u001B[32m   1271\u001B[39m \u001B[43m        \u001B[49m\u001B[43minput_ids\u001B[49m\u001B[43m=\u001B[49m\u001B[43minput_ids\u001B[49m\u001B[43m,\u001B[49m\n\u001B[32m   1272\u001B[39m \u001B[43m        \u001B[49m\u001B[43mattention_mask\u001B[49m\u001B[43m=\u001B[49m\u001B[43mattention_mask\u001B[49m\u001B[43m,\u001B[49m\n\u001B[32m   1273\u001B[39m \u001B[43m        \u001B[49m\u001B[43mhead_mask\u001B[49m\u001B[43m=\u001B[49m\u001B[43mhead_mask\u001B[49m\u001B[43m,\u001B[49m\n\u001B[32m   1274\u001B[39m \u001B[43m        \u001B[49m\u001B[43minputs_embeds\u001B[49m\u001B[43m=\u001B[49m\u001B[43minputs_embeds\u001B[49m\u001B[43m,\u001B[49m\n\u001B[32m   1275\u001B[39m \u001B[43m        \u001B[49m\u001B[43moutput_attentions\u001B[49m\u001B[43m=\u001B[49m\u001B[43moutput_attentions\u001B[49m\u001B[43m,\u001B[49m\n\u001B[32m   1276\u001B[39m \u001B[43m        \u001B[49m\u001B[43moutput_hidden_states\u001B[49m\u001B[43m=\u001B[49m\u001B[43moutput_hidden_states\u001B[49m\u001B[43m,\u001B[49m\n\u001B[32m   1277\u001B[39m \u001B[43m        \u001B[49m\u001B[43mreturn_dict\u001B[49m\u001B[43m=\u001B[49m\u001B[43mreturn_dict\u001B[49m\u001B[43m,\u001B[49m\n\u001B[32m   1278\u001B[39m \u001B[43m    \u001B[49m\u001B[43m)\u001B[49m\n\u001B[32m   1279\u001B[39m \u001B[38;5;66;03m# If the user passed a tuple for encoder_outputs, we wrap it in a BaseModelOutput when return_dict=True\u001B[39;00m\n\u001B[32m   1280\u001B[39m \u001B[38;5;28;01melif\u001B[39;00m return_dict \u001B[38;5;129;01mand\u001B[39;00m \u001B[38;5;129;01mnot\u001B[39;00m \u001B[38;5;28misinstance\u001B[39m(encoder_outputs, BaseModelOutput):\n",
      "\u001B[36mFile \u001B[39m\u001B[32m/usr/local/lib/python3.11/dist-packages/torch/nn/modules/module.py:1751\u001B[39m, in \u001B[36mModule._wrapped_call_impl\u001B[39m\u001B[34m(self, *args, **kwargs)\u001B[39m\n\u001B[32m   1749\u001B[39m     \u001B[38;5;28;01mreturn\u001B[39;00m \u001B[38;5;28mself\u001B[39m._compiled_call_impl(*args, **kwargs)  \u001B[38;5;66;03m# type: ignore[misc]\u001B[39;00m\n\u001B[32m   1750\u001B[39m \u001B[38;5;28;01melse\u001B[39;00m:\n\u001B[32m-> \u001B[39m\u001B[32m1751\u001B[39m     \u001B[38;5;28;01mreturn\u001B[39;00m \u001B[38;5;28;43mself\u001B[39;49m\u001B[43m.\u001B[49m\u001B[43m_call_impl\u001B[49m\u001B[43m(\u001B[49m\u001B[43m*\u001B[49m\u001B[43margs\u001B[49m\u001B[43m,\u001B[49m\u001B[43m \u001B[49m\u001B[43m*\u001B[49m\u001B[43m*\u001B[49m\u001B[43mkwargs\u001B[49m\u001B[43m)\u001B[49m\n",
      "\u001B[36mFile \u001B[39m\u001B[32m/usr/local/lib/python3.11/dist-packages/torch/nn/modules/module.py:1762\u001B[39m, in \u001B[36mModule._call_impl\u001B[39m\u001B[34m(self, *args, **kwargs)\u001B[39m\n\u001B[32m   1757\u001B[39m \u001B[38;5;66;03m# If we don't have any hooks, we want to skip the rest of the logic in\u001B[39;00m\n\u001B[32m   1758\u001B[39m \u001B[38;5;66;03m# this function, and just call forward.\u001B[39;00m\n\u001B[32m   1759\u001B[39m \u001B[38;5;28;01mif\u001B[39;00m \u001B[38;5;129;01mnot\u001B[39;00m (\u001B[38;5;28mself\u001B[39m._backward_hooks \u001B[38;5;129;01mor\u001B[39;00m \u001B[38;5;28mself\u001B[39m._backward_pre_hooks \u001B[38;5;129;01mor\u001B[39;00m \u001B[38;5;28mself\u001B[39m._forward_hooks \u001B[38;5;129;01mor\u001B[39;00m \u001B[38;5;28mself\u001B[39m._forward_pre_hooks\n\u001B[32m   1760\u001B[39m         \u001B[38;5;129;01mor\u001B[39;00m _global_backward_pre_hooks \u001B[38;5;129;01mor\u001B[39;00m _global_backward_hooks\n\u001B[32m   1761\u001B[39m         \u001B[38;5;129;01mor\u001B[39;00m _global_forward_hooks \u001B[38;5;129;01mor\u001B[39;00m _global_forward_pre_hooks):\n\u001B[32m-> \u001B[39m\u001B[32m1762\u001B[39m     \u001B[38;5;28;01mreturn\u001B[39;00m \u001B[43mforward_call\u001B[49m\u001B[43m(\u001B[49m\u001B[43m*\u001B[49m\u001B[43margs\u001B[49m\u001B[43m,\u001B[49m\u001B[43m \u001B[49m\u001B[43m*\u001B[49m\u001B[43m*\u001B[49m\u001B[43mkwargs\u001B[49m\u001B[43m)\u001B[49m\n\u001B[32m   1764\u001B[39m result = \u001B[38;5;28;01mNone\u001B[39;00m\n\u001B[32m   1765\u001B[39m called_always_called_hooks = \u001B[38;5;28mset\u001B[39m()\n",
      "\u001B[36mFile \u001B[39m\u001B[32m/usr/local/lib/python3.11/dist-packages/transformers/models/bart/modeling_bart.py:869\u001B[39m, in \u001B[36mBartEncoder.forward\u001B[39m\u001B[34m(self, input_ids, attention_mask, head_mask, inputs_embeds, output_attentions, output_hidden_states, return_dict)\u001B[39m\n\u001B[32m    867\u001B[39m     layer_outputs = (\u001B[38;5;28;01mNone\u001B[39;00m, \u001B[38;5;28;01mNone\u001B[39;00m)\n\u001B[32m    868\u001B[39m \u001B[38;5;28;01melse\u001B[39;00m:\n\u001B[32m--> \u001B[39m\u001B[32m869\u001B[39m     layer_outputs = \u001B[43mencoder_layer\u001B[49m\u001B[43m(\u001B[49m\n\u001B[32m    870\u001B[39m \u001B[43m        \u001B[49m\u001B[43mhidden_states\u001B[49m\u001B[43m,\u001B[49m\n\u001B[32m    871\u001B[39m \u001B[43m        \u001B[49m\u001B[43mattention_mask\u001B[49m\u001B[43m,\u001B[49m\n\u001B[32m    872\u001B[39m \u001B[43m        \u001B[49m\u001B[43mlayer_head_mask\u001B[49m\u001B[43m=\u001B[49m\u001B[43m(\u001B[49m\u001B[43mhead_mask\u001B[49m\u001B[43m[\u001B[49m\u001B[43midx\u001B[49m\u001B[43m]\u001B[49m\u001B[43m \u001B[49m\u001B[38;5;28;43;01mif\u001B[39;49;00m\u001B[43m \u001B[49m\u001B[43mhead_mask\u001B[49m\u001B[43m \u001B[49m\u001B[38;5;129;43;01mis\u001B[39;49;00m\u001B[43m \u001B[49m\u001B[38;5;129;43;01mnot\u001B[39;49;00m\u001B[43m \u001B[49m\u001B[38;5;28;43;01mNone\u001B[39;49;00m\u001B[43m \u001B[49m\u001B[38;5;28;43;01melse\u001B[39;49;00m\u001B[43m \u001B[49m\u001B[38;5;28;43;01mNone\u001B[39;49;00m\u001B[43m)\u001B[49m\u001B[43m,\u001B[49m\n\u001B[32m    873\u001B[39m \u001B[43m        \u001B[49m\u001B[43moutput_attentions\u001B[49m\u001B[43m=\u001B[49m\u001B[43moutput_attentions\u001B[49m\u001B[43m,\u001B[49m\n\u001B[32m    874\u001B[39m \u001B[43m    \u001B[49m\u001B[43m)\u001B[49m\n\u001B[32m    876\u001B[39m     hidden_states = layer_outputs[\u001B[32m0\u001B[39m]\n\u001B[32m    878\u001B[39m \u001B[38;5;28;01mif\u001B[39;00m output_attentions:\n",
      "\u001B[36mFile \u001B[39m\u001B[32m/usr/local/lib/python3.11/dist-packages/transformers/modeling_layers.py:94\u001B[39m, in \u001B[36mGradientCheckpointingLayer.__call__\u001B[39m\u001B[34m(self, *args, **kwargs)\u001B[39m\n\u001B[32m     91\u001B[39m         logger.warning(message)\n\u001B[32m     93\u001B[39m     \u001B[38;5;28;01mreturn\u001B[39;00m \u001B[38;5;28mself\u001B[39m._gradient_checkpointing_func(partial(\u001B[38;5;28msuper\u001B[39m().\u001B[34m__call__\u001B[39m, **kwargs), *args)\n\u001B[32m---> \u001B[39m\u001B[32m94\u001B[39m \u001B[38;5;28;01mreturn\u001B[39;00m \u001B[38;5;28;43msuper\u001B[39;49m\u001B[43m(\u001B[49m\u001B[43m)\u001B[49m\u001B[43m.\u001B[49m\u001B[34;43m__call__\u001B[39;49m\u001B[43m(\u001B[49m\u001B[43m*\u001B[49m\u001B[43margs\u001B[49m\u001B[43m,\u001B[49m\u001B[43m \u001B[49m\u001B[43m*\u001B[49m\u001B[43m*\u001B[49m\u001B[43mkwargs\u001B[49m\u001B[43m)\u001B[49m\n",
      "\u001B[36mFile \u001B[39m\u001B[32m/usr/local/lib/python3.11/dist-packages/torch/nn/modules/module.py:1751\u001B[39m, in \u001B[36mModule._wrapped_call_impl\u001B[39m\u001B[34m(self, *args, **kwargs)\u001B[39m\n\u001B[32m   1749\u001B[39m     \u001B[38;5;28;01mreturn\u001B[39;00m \u001B[38;5;28mself\u001B[39m._compiled_call_impl(*args, **kwargs)  \u001B[38;5;66;03m# type: ignore[misc]\u001B[39;00m\n\u001B[32m   1750\u001B[39m \u001B[38;5;28;01melse\u001B[39;00m:\n\u001B[32m-> \u001B[39m\u001B[32m1751\u001B[39m     \u001B[38;5;28;01mreturn\u001B[39;00m \u001B[38;5;28;43mself\u001B[39;49m\u001B[43m.\u001B[49m\u001B[43m_call_impl\u001B[49m\u001B[43m(\u001B[49m\u001B[43m*\u001B[49m\u001B[43margs\u001B[49m\u001B[43m,\u001B[49m\u001B[43m \u001B[49m\u001B[43m*\u001B[49m\u001B[43m*\u001B[49m\u001B[43mkwargs\u001B[49m\u001B[43m)\u001B[49m\n",
      "\u001B[36mFile \u001B[39m\u001B[32m/usr/local/lib/python3.11/dist-packages/torch/nn/modules/module.py:1762\u001B[39m, in \u001B[36mModule._call_impl\u001B[39m\u001B[34m(self, *args, **kwargs)\u001B[39m\n\u001B[32m   1757\u001B[39m \u001B[38;5;66;03m# If we don't have any hooks, we want to skip the rest of the logic in\u001B[39;00m\n\u001B[32m   1758\u001B[39m \u001B[38;5;66;03m# this function, and just call forward.\u001B[39;00m\n\u001B[32m   1759\u001B[39m \u001B[38;5;28;01mif\u001B[39;00m \u001B[38;5;129;01mnot\u001B[39;00m (\u001B[38;5;28mself\u001B[39m._backward_hooks \u001B[38;5;129;01mor\u001B[39;00m \u001B[38;5;28mself\u001B[39m._backward_pre_hooks \u001B[38;5;129;01mor\u001B[39;00m \u001B[38;5;28mself\u001B[39m._forward_hooks \u001B[38;5;129;01mor\u001B[39;00m \u001B[38;5;28mself\u001B[39m._forward_pre_hooks\n\u001B[32m   1760\u001B[39m         \u001B[38;5;129;01mor\u001B[39;00m _global_backward_pre_hooks \u001B[38;5;129;01mor\u001B[39;00m _global_backward_hooks\n\u001B[32m   1761\u001B[39m         \u001B[38;5;129;01mor\u001B[39;00m _global_forward_hooks \u001B[38;5;129;01mor\u001B[39;00m _global_forward_pre_hooks):\n\u001B[32m-> \u001B[39m\u001B[32m1762\u001B[39m     \u001B[38;5;28;01mreturn\u001B[39;00m \u001B[43mforward_call\u001B[49m\u001B[43m(\u001B[49m\u001B[43m*\u001B[49m\u001B[43margs\u001B[49m\u001B[43m,\u001B[49m\u001B[43m \u001B[49m\u001B[43m*\u001B[49m\u001B[43m*\u001B[49m\u001B[43mkwargs\u001B[49m\u001B[43m)\u001B[49m\n\u001B[32m   1764\u001B[39m result = \u001B[38;5;28;01mNone\u001B[39;00m\n\u001B[32m   1765\u001B[39m called_always_called_hooks = \u001B[38;5;28mset\u001B[39m()\n",
      "\u001B[36mFile \u001B[39m\u001B[32m/usr/local/lib/python3.11/dist-packages/transformers/models/bart/modeling_bart.py:312\u001B[39m, in \u001B[36mBartEncoderLayer.forward\u001B[39m\u001B[34m(self, hidden_states, attention_mask, layer_head_mask, output_attentions)\u001B[39m\n\u001B[32m    300\u001B[39m \u001B[38;5;250m\u001B[39m\u001B[33;03m\"\"\"\u001B[39;00m\n\u001B[32m    301\u001B[39m \u001B[33;03mArgs:\u001B[39;00m\n\u001B[32m    302\u001B[39m \u001B[33;03m    hidden_states (`torch.FloatTensor`): input to the layer of shape `(batch, seq_len, embed_dim)`\u001B[39;00m\n\u001B[32m   (...)\u001B[39m\u001B[32m    309\u001B[39m \u001B[33;03m        returned tensors for more detail.\u001B[39;00m\n\u001B[32m    310\u001B[39m \u001B[33;03m\"\"\"\u001B[39;00m\n\u001B[32m    311\u001B[39m residual = hidden_states\n\u001B[32m--> \u001B[39m\u001B[32m312\u001B[39m hidden_states, attn_weights = \u001B[38;5;28;43mself\u001B[39;49m\u001B[43m.\u001B[49m\u001B[43mself_attn\u001B[49m\u001B[43m(\u001B[49m\n\u001B[32m    313\u001B[39m \u001B[43m    \u001B[49m\u001B[43mhidden_states\u001B[49m\u001B[43m=\u001B[49m\u001B[43mhidden_states\u001B[49m\u001B[43m,\u001B[49m\n\u001B[32m    314\u001B[39m \u001B[43m    \u001B[49m\u001B[43mattention_mask\u001B[49m\u001B[43m=\u001B[49m\u001B[43mattention_mask\u001B[49m\u001B[43m,\u001B[49m\n\u001B[32m    315\u001B[39m \u001B[43m    \u001B[49m\u001B[43mlayer_head_mask\u001B[49m\u001B[43m=\u001B[49m\u001B[43mlayer_head_mask\u001B[49m\u001B[43m,\u001B[49m\n\u001B[32m    316\u001B[39m \u001B[43m    \u001B[49m\u001B[43moutput_attentions\u001B[49m\u001B[43m=\u001B[49m\u001B[43moutput_attentions\u001B[49m\u001B[43m,\u001B[49m\n\u001B[32m    317\u001B[39m \u001B[43m\u001B[49m\u001B[43m)\u001B[49m\n\u001B[32m    318\u001B[39m hidden_states = nn.functional.dropout(hidden_states, p=\u001B[38;5;28mself\u001B[39m.dropout, training=\u001B[38;5;28mself\u001B[39m.training)\n\u001B[32m    319\u001B[39m hidden_states = residual + hidden_states\n",
      "\u001B[36mFile \u001B[39m\u001B[32m/usr/local/lib/python3.11/dist-packages/torch/nn/modules/module.py:1751\u001B[39m, in \u001B[36mModule._wrapped_call_impl\u001B[39m\u001B[34m(self, *args, **kwargs)\u001B[39m\n\u001B[32m   1749\u001B[39m     \u001B[38;5;28;01mreturn\u001B[39;00m \u001B[38;5;28mself\u001B[39m._compiled_call_impl(*args, **kwargs)  \u001B[38;5;66;03m# type: ignore[misc]\u001B[39;00m\n\u001B[32m   1750\u001B[39m \u001B[38;5;28;01melse\u001B[39;00m:\n\u001B[32m-> \u001B[39m\u001B[32m1751\u001B[39m     \u001B[38;5;28;01mreturn\u001B[39;00m \u001B[38;5;28;43mself\u001B[39;49m\u001B[43m.\u001B[49m\u001B[43m_call_impl\u001B[49m\u001B[43m(\u001B[49m\u001B[43m*\u001B[49m\u001B[43margs\u001B[49m\u001B[43m,\u001B[49m\u001B[43m \u001B[49m\u001B[43m*\u001B[49m\u001B[43m*\u001B[49m\u001B[43mkwargs\u001B[49m\u001B[43m)\u001B[49m\n",
      "\u001B[36mFile \u001B[39m\u001B[32m/usr/local/lib/python3.11/dist-packages/torch/nn/modules/module.py:1762\u001B[39m, in \u001B[36mModule._call_impl\u001B[39m\u001B[34m(self, *args, **kwargs)\u001B[39m\n\u001B[32m   1757\u001B[39m \u001B[38;5;66;03m# If we don't have any hooks, we want to skip the rest of the logic in\u001B[39;00m\n\u001B[32m   1758\u001B[39m \u001B[38;5;66;03m# this function, and just call forward.\u001B[39;00m\n\u001B[32m   1759\u001B[39m \u001B[38;5;28;01mif\u001B[39;00m \u001B[38;5;129;01mnot\u001B[39;00m (\u001B[38;5;28mself\u001B[39m._backward_hooks \u001B[38;5;129;01mor\u001B[39;00m \u001B[38;5;28mself\u001B[39m._backward_pre_hooks \u001B[38;5;129;01mor\u001B[39;00m \u001B[38;5;28mself\u001B[39m._forward_hooks \u001B[38;5;129;01mor\u001B[39;00m \u001B[38;5;28mself\u001B[39m._forward_pre_hooks\n\u001B[32m   1760\u001B[39m         \u001B[38;5;129;01mor\u001B[39;00m _global_backward_pre_hooks \u001B[38;5;129;01mor\u001B[39;00m _global_backward_hooks\n\u001B[32m   1761\u001B[39m         \u001B[38;5;129;01mor\u001B[39;00m _global_forward_hooks \u001B[38;5;129;01mor\u001B[39;00m _global_forward_pre_hooks):\n\u001B[32m-> \u001B[39m\u001B[32m1762\u001B[39m     \u001B[38;5;28;01mreturn\u001B[39;00m \u001B[43mforward_call\u001B[49m\u001B[43m(\u001B[49m\u001B[43m*\u001B[49m\u001B[43margs\u001B[49m\u001B[43m,\u001B[49m\u001B[43m \u001B[49m\u001B[43m*\u001B[49m\u001B[43m*\u001B[49m\u001B[43mkwargs\u001B[49m\u001B[43m)\u001B[49m\n\u001B[32m   1764\u001B[39m result = \u001B[38;5;28;01mNone\u001B[39;00m\n\u001B[32m   1765\u001B[39m called_always_called_hooks = \u001B[38;5;28mset\u001B[39m()\n",
      "\u001B[36mFile \u001B[39m\u001B[32m/usr/local/lib/python3.11/dist-packages/transformers/models/bart/modeling_bart.py:254\u001B[39m, in \u001B[36mBartAttention.forward\u001B[39m\u001B[34m(self, hidden_states, key_value_states, past_key_value, attention_mask, layer_head_mask, output_attentions, cache_position, **kwargs)\u001B[39m\n\u001B[32m    251\u001B[39m \u001B[38;5;28;01mif\u001B[39;00m \u001B[38;5;28mself\u001B[39m.config._attn_implementation != \u001B[33m\"\u001B[39m\u001B[33meager\u001B[39m\u001B[33m\"\u001B[39m:\n\u001B[32m    252\u001B[39m     attention_interface = ALL_ATTENTION_FUNCTIONS[\u001B[38;5;28mself\u001B[39m.config._attn_implementation]\n\u001B[32m--> \u001B[39m\u001B[32m254\u001B[39m attn_output, attn_weights = \u001B[43mattention_interface\u001B[49m\u001B[43m(\u001B[49m\n\u001B[32m    255\u001B[39m \u001B[43m    \u001B[49m\u001B[38;5;28;43mself\u001B[39;49m\u001B[43m,\u001B[49m\n\u001B[32m    256\u001B[39m \u001B[43m    \u001B[49m\u001B[43mquery_states\u001B[49m\u001B[43m,\u001B[49m\n\u001B[32m    257\u001B[39m \u001B[43m    \u001B[49m\u001B[43mkey_states\u001B[49m\u001B[43m,\u001B[49m\n\u001B[32m    258\u001B[39m \u001B[43m    \u001B[49m\u001B[43mvalue_states\u001B[49m\u001B[43m,\u001B[49m\n\u001B[32m    259\u001B[39m \u001B[43m    \u001B[49m\u001B[43mattention_mask\u001B[49m\u001B[43m,\u001B[49m\n\u001B[32m    260\u001B[39m \u001B[43m    \u001B[49m\u001B[43mdropout\u001B[49m\u001B[43m=\u001B[49m\u001B[32;43m0.0\u001B[39;49m\u001B[43m \u001B[49m\u001B[38;5;28;43;01mif\u001B[39;49;00m\u001B[43m \u001B[49m\u001B[38;5;129;43;01mnot\u001B[39;49;00m\u001B[43m \u001B[49m\u001B[38;5;28;43mself\u001B[39;49m\u001B[43m.\u001B[49m\u001B[43mtraining\u001B[49m\u001B[43m \u001B[49m\u001B[38;5;28;43;01melse\u001B[39;49;00m\u001B[43m \u001B[49m\u001B[38;5;28;43mself\u001B[39;49m\u001B[43m.\u001B[49m\u001B[43mdropout\u001B[49m\u001B[43m,\u001B[49m\n\u001B[32m    261\u001B[39m \u001B[43m    \u001B[49m\u001B[43mscaling\u001B[49m\u001B[43m=\u001B[49m\u001B[38;5;28;43mself\u001B[39;49m\u001B[43m.\u001B[49m\u001B[43mscaling\u001B[49m\u001B[43m,\u001B[49m\n\u001B[32m    262\u001B[39m \u001B[43m    \u001B[49m\u001B[43moutput_attentions\u001B[49m\u001B[43m=\u001B[49m\u001B[43moutput_attentions\u001B[49m\u001B[43m,\u001B[49m\n\u001B[32m    263\u001B[39m \u001B[43m    \u001B[49m\u001B[43mhead_mask\u001B[49m\u001B[43m=\u001B[49m\u001B[43mlayer_head_mask\u001B[49m\u001B[43m,\u001B[49m\n\u001B[32m    264\u001B[39m \u001B[43m    \u001B[49m\u001B[43m*\u001B[49m\u001B[43m*\u001B[49m\u001B[43mkwargs\u001B[49m\u001B[43m,\u001B[49m\n\u001B[32m    265\u001B[39m \u001B[43m\u001B[49m\u001B[43m)\u001B[49m\n\u001B[32m    267\u001B[39m attn_output = attn_output.reshape(bsz, tgt_len, -\u001B[32m1\u001B[39m).contiguous()\n\u001B[32m    268\u001B[39m attn_output = \u001B[38;5;28mself\u001B[39m.out_proj(attn_output)\n",
      "\u001B[36mFile \u001B[39m\u001B[32m/usr/local/lib/python3.11/dist-packages/transformers/integrations/sdpa_attention.py:65\u001B[39m, in \u001B[36msdpa_attention_forward\u001B[39m\u001B[34m(module, query, key, value, attention_mask, dropout, scaling, is_causal, **kwargs)\u001B[39m\n\u001B[32m     62\u001B[39m \u001B[38;5;66;03m# SDPA with memory-efficient backend is bugged with non-contiguous inputs and custom attn_mask for some torch versions\u001B[39;00m\n\u001B[32m     63\u001B[39m \u001B[38;5;66;03m# Reference: https://github.com/pytorch/pytorch/issues/112577.\u001B[39;00m\n\u001B[32m     64\u001B[39m query = query.contiguous()\n\u001B[32m---> \u001B[39m\u001B[32m65\u001B[39m key = \u001B[43mkey\u001B[49m\u001B[43m.\u001B[49m\u001B[43mcontiguous\u001B[49m\u001B[43m(\u001B[49m\u001B[43m)\u001B[49m\n\u001B[32m     66\u001B[39m value = value.contiguous()\n\u001B[32m     68\u001B[39m \u001B[38;5;66;03m# We dispatch to SDPA's Flash Attention or Efficient kernels via this `is_causal` if statement instead of an inline conditional assignment\u001B[39;00m\n\u001B[32m     69\u001B[39m \u001B[38;5;66;03m# in SDPA to support both torch.compile's dynamic shapes and full graph options. An inline conditional prevents dynamic shapes from compiling.\u001B[39;00m\n\u001B[32m     70\u001B[39m \u001B[38;5;66;03m# Note that it is important to check first for the shape, otherwise compile will fail with `argument 'is_causal' must be bool, not SymBool`\u001B[39;00m\n",
      "\u001B[31mKeyboardInterrupt\u001B[39m: "
     ]
    }
   ],
   "execution_count": 24
  },
  {
   "metadata": {},
   "cell_type": "code",
   "source": [
    "processed_convos = list(corpus.iter_conversations())\n",
    "print(f\"Processed: {processed_convos[1].meta['detected_topic']}\\n\")"
   ],
   "id": "15a339ed1ce9da49",
   "outputs": [],
   "execution_count": null
  },
  {
   "metadata": {},
   "cell_type": "code",
   "source": [
    "# Play around with a single part\n",
    "# print(corpus.random_utterance().text)\n",
    "stance_detector = StanceDetector()\n",
    "utts = list(corpus.iter_utterances())\n",
    "utt_text = utts[0].text\n",
    "# utt_text = mark_quotes(utt_text)\n",
    "# print(utt_text)\n",
    "stance = stance_detector.detect_utterance_stance(utts[0])\n",
    "print(stance['stance'])\n",
    "# print(utts[1].meta[''])"
   ],
   "id": "ff79986173073c6b",
   "outputs": [],
   "execution_count": null
  },
  {
   "metadata": {},
   "cell_type": "code",
   "source": [
    "# Check if metadata gets added\n",
    "utterances = list(corpus.iter_utterances())\n",
    "first_utt = utterances[0]\n",
    "print(f\"First utterance ID: {first_utt.id}\")\n",
    "print(f\"Has stance metadata: {'detected_stance' in first_utt.meta}\")\n",
    "if 'detected_stance' in first_utt.meta:\n",
    "    print(f\"Stance: {first_utt.meta['detected_stance']}\")\n",
    "    print(f\"Confidence: {first_utt.meta['stance_confidence']}\")"
   ],
   "id": "c57ca2c98c3d7ca1",
   "outputs": [],
   "execution_count": null
  },
  {
   "metadata": {},
   "cell_type": "code",
   "source": [
    "# Testing 'detect_conversation_topic()' and 'dump()'\n",
    "logger = setup_logging(\"DEBUG\")\n",
    "i = 0\n",
    "utts = list(corpus.iter_utterances())\n",
    "stance_detector = StanceDetector()\n",
    "for i in range(30):\n",
    "  logger.info(\"=\" * 100)\n",
    "  logger.info(f\"Comment: {utts[i].text}\\n\")\n",
    "  stance = stance_detector.detect_utterance_stance(utts[i])\n",
    "  logger.info(f\"Stance: {stance['stance']}\")\n",
    "  logger.info(f\"Confidence: {stance['confidence']}\")\n",
    "  # logger.debug(f\"Raw utterance text length: {len(utts[i].text)}\")\n",
    "  logger.warning(f\"Low confidence score: {stance['confidence']}\")\n",
    "  # utts[i].add_meta(\"detected_stance\", stance[\"stance\"])\n",
    "  # utts[i].add_meta(\"stance_confidence\", stance[\"stance\"])\n",
    "  # utts[i].add_meta(\"stance_scores\", stance[\"all_scores\"])\n",
    "  i += 1\n",
    "\n",
    "del utts\n",
    "# Test it saves properly:\n",
    "# corpus_small.dump(\"/content/drive/MyDrive/MScProject/Corpora/corpus_small\")\n"
   ],
   "id": "c012cd2534ad209f",
   "outputs": [],
   "execution_count": null
  }
 ],
 "metadata": {
  "accelerator": "GPU",
  "colab": {
   "gpuType": "T4",
   "machine_shape": "hm",
   "provenance": []
  },
  "kernelspec": {
   "display_name": "Python 3 (ipykernel)",
   "language": "python",
   "name": "python3"
  },
  "language_info": {
   "codemirror_mode": {
    "name": "ipython",
    "version": 3
   },
   "file_extension": ".py",
   "mimetype": "text/x-python",
   "name": "python",
   "nbconvert_exporter": "python",
   "pygments_lexer": "ipython3",
   "version": "3.10.12"
  }
 },
 "nbformat": 4,
 "nbformat_minor": 5
}
