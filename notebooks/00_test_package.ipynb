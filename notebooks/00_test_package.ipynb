{
 "cells": [
  {
   "metadata": {
    "ExecuteTime": {
     "end_time": "2025-06-18T08:31:21.580714Z",
     "start_time": "2025-06-18T08:31:21.577804Z"
    }
   },
   "cell_type": "code",
   "source": "from convokit import Corpus",
   "id": "c31c8a3488a6fae3",
   "outputs": [],
   "execution_count": 3
  },
  {
   "metadata": {
    "ExecuteTime": {
     "end_time": "2025-06-18T08:31:24.064726Z",
     "start_time": "2025-06-18T08:31:24.061131Z"
    }
   },
   "cell_type": "code",
   "source": [
    "import os\n",
    "print(os.getcwd())"
   ],
   "id": "8869f72b93cfa3d2",
   "outputs": [
    {
     "name": "stdout",
     "output_type": "stream",
     "text": [
      "/Users/leonidas/GitHub/temporal_belief_analysis/notebooks\n"
     ]
    }
   ],
   "execution_count": 4
  },
  {
   "metadata": {
    "ExecuteTime": {
     "end_time": "2025-06-18T08:31:32.942825Z",
     "start_time": "2025-06-18T08:31:26.515756Z"
    }
   },
   "cell_type": "code",
   "source": "corpus = Corpus(\"/Users/leonidas/GitHub/temporal_belief_analysis/data/reddit-corpus-small\")",
   "id": "a2a3bc15193d5fae",
   "outputs": [],
   "execution_count": 5
  },
  {
   "metadata": {
    "ExecuteTime": {
     "end_time": "2025-06-17T11:36:20.027767Z",
     "start_time": "2025-06-17T11:31:15.745994Z"
    }
   },
   "cell_type": "code",
   "source": [
    "print(f\"# of utterances: {len(corpus.utterances)}\")\n",
    "print(f\"# of conversations: {len(corpus.conversations)}\")\n",
    "print(f\"# of users: {len(corpus.speakers)}\")"
   ],
   "id": "8b1a26ed5bee5daf",
   "outputs": [
    {
     "name": "stdout",
     "output_type": "stream",
     "text": [
      "# of utterances: 297132\n",
      "# of conversations: 8286\n",
      "# of users: 119889\n"
     ]
    }
   ],
   "execution_count": 8
  },
  {
   "metadata": {
    "ExecuteTime": {
     "end_time": "2025-06-18T08:31:41.429327Z",
     "start_time": "2025-06-18T08:31:41.366343Z"
    }
   },
   "cell_type": "code",
   "source": [
    "\n",
    "print(convokit.__version__)"
   ],
   "id": "a521498dd2fa0248",
   "outputs": [
    {
     "ename": "AttributeError",
     "evalue": "module 'convokit' has no attribute '__version__'",
     "output_type": "error",
     "traceback": [
      "\u001B[31m---------------------------------------------------------------------------\u001B[39m",
      "\u001B[31mAttributeError\u001B[39m                            Traceback (most recent call last)",
      "\u001B[36mCell\u001B[39m\u001B[36m \u001B[39m\u001B[32mIn[6]\u001B[39m\u001B[32m, line 1\u001B[39m\n\u001B[32m----> \u001B[39m\u001B[32m1\u001B[39m \u001B[38;5;28mprint\u001B[39m(\u001B[43mconvokit\u001B[49m\u001B[43m.\u001B[49m\u001B[43m__version__\u001B[49m)\n",
      "\u001B[31mAttributeError\u001B[39m: module 'convokit' has no attribute '__version__'"
     ]
    }
   ],
   "execution_count": 6
  },
  {
   "metadata": {},
   "cell_type": "code",
   "outputs": [],
   "execution_count": null,
   "source": "",
   "id": "a5816ecb06066a86"
  }
 ],
 "metadata": {
  "kernelspec": {
   "display_name": "Python 3",
   "language": "python",
   "name": "python3"
  },
  "language_info": {
   "codemirror_mode": {
    "name": "ipython",
    "version": 2
   },
   "file_extension": ".py",
   "mimetype": "text/x-python",
   "name": "python",
   "nbconvert_exporter": "python",
   "pygments_lexer": "ipython2",
   "version": "2.7.6"
  }
 },
 "nbformat": 4,
 "nbformat_minor": 5
}
