{
 "cells": [
  {
   "cell_type": "code",
   "execution_count": null,
   "id": "initial_id",
   "metadata": {
    "collapsed": true
   },
   "outputs": [],
   "source": [
    "# Need to restart after:\n",
    "!pip install convokit"
   ]
  },
  {
   "metadata": {},
   "cell_type": "code",
   "outputs": [],
   "execution_count": null,
   "source": [
    "# For runpod-jupyter or local (run twice)\n",
    "import sys\n",
    "import os\n",
    "\n",
    "# Change to the correct working directory (same as Jupyter)\n",
    "os.chdir('/workspace/temporal_belief_analysis/notebooks')\n",
    "print(\"Changed working directory to:\", os.getcwd())\n",
    "\n",
    "# Absolute path to src directory\n",
    "src_path = os.path.abspath(os.path.join(os.getcwd(), '..', 'src'))\n",
    "if src_path not in sys.path:\n",
    "    sys.path.insert(0, src_path)\n",
    "\n",
    "from temporal_belief.core.timeline_building import TimelineBuilder"
   ],
   "id": "71b8ce5a364d4033"
  },
  {
   "metadata": {},
   "cell_type": "code",
   "outputs": [],
   "execution_count": null,
   "source": [
    "# Run twice\n",
    "# import unsloth\n",
    "# import unsloth_zoo\n",
    "from convokit import Corpus, download\n",
    "import convokit"
   ],
   "id": "3aba72fdea35672b"
  },
  {
   "metadata": {},
   "cell_type": "code",
   "outputs": [],
   "execution_count": null,
   "source": [
    "# Load a corpus:\n",
    "# corpus = Corpus(filename=\"/Users/leonidas/.convokit/saved-corpora/pd_corpus_with_stances1000_chronological\")\n",
    "corpus = Corpus(filename=\"/workspace/temporal_belief_analysis/pd_corpus_with_stances100000_chronological\")"
   ],
   "id": "c1643b02e42218da"
  },
  {
   "metadata": {},
   "cell_type": "code",
   "outputs": [],
   "execution_count": null,
   "source": "",
   "id": "1d7d3c49f0ce8d5a"
  },
  {
   "metadata": {},
   "cell_type": "markdown",
   "source": [
    "- Content dissimilarity: If original post mentions \"healthcare, government, taxes\" and response mentions \"doctors, patients, costs\" → high dissimilarity (good for persuasion)\n",
    "- Style similarity: If both use similar pronouns, articles, prepositions → high similarity (good for persuasion)\n",
    "- Composite score (interplay score): Weighted average prioritizing content novelty (60%) over style matching (40%)\n",
    "- if interplay_score > 0.7:\n",
    "    print(\"High persuasion potential\")\n",
    "elif interplay_score > 0.5:\n",
    "    print(\"Moderate persuasion potential\")\n",
    "else:\n",
    "    print(\"Low persuasion potential\")"
   ],
   "id": "7bdd4d46a8fed23e"
  },
  {
   "metadata": {},
   "cell_type": "code",
   "outputs": [],
   "execution_count": null,
   "source": "",
   "id": "24f4dc557fd687b6"
  }
 ],
 "metadata": {
  "kernelspec": {
   "display_name": "Python 3",
   "language": "python",
   "name": "python3"
  },
  "language_info": {
   "codemirror_mode": {
    "name": "ipython",
    "version": 2
   },
   "file_extension": ".py",
   "mimetype": "text/x-python",
   "name": "python",
   "nbconvert_exporter": "python",
   "pygments_lexer": "ipython2",
   "version": "2.7.6"
  }
 },
 "nbformat": 4,
 "nbformat_minor": 5
}
