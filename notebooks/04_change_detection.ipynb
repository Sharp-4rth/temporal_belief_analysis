{
 "cells": [
  {
   "metadata": {
    "ExecuteTime": {
     "end_time": "2025-07-04T07:07:13.688696Z",
     "start_time": "2025-07-04T07:07:08.350844Z"
    }
   },
   "cell_type": "code",
   "source": [
    "# For runpod-jupyter or local (run twice)\n",
    "import sys\n",
    "import os\n",
    "\n",
    "# Change to the correct working directory (same as Jupyter)\n",
    "# os.chdir('/workspace/temporal_belief_analysis/notebooks')\n",
    "# print(\"Changed working directory to:\", os.getcwd())\n",
    "\n",
    "# Absolute path to src directory\n",
    "src_path = os.path.abspath(os.path.join(os.getcwd(), '..', 'src'))\n",
    "if src_path not in sys.path:\n",
    "    sys.path.insert(0, src_path)\n",
    "\n",
    "from temporal_belief.core.timeline_building import TimelineBuilder"
   ],
   "id": "d36660ce8a4d736b",
   "outputs": [],
   "execution_count": 1
  },
  {
   "metadata": {
    "ExecuteTime": {
     "end_time": "2025-07-04T07:07:36.712207Z",
     "start_time": "2025-07-04T07:07:35.579305Z"
    }
   },
   "cell_type": "code",
   "source": [
    "# Run twice\n",
    "# import unsloth\n",
    "# import unsloth_zoo\n",
    "from convokit import Corpus, download\n",
    "import convokit"
   ],
   "id": "22220bf09f61753c",
   "outputs": [],
   "execution_count": 2
  },
  {
   "metadata": {
    "ExecuteTime": {
     "end_time": "2025-07-04T07:11:42.207994Z",
     "start_time": "2025-07-04T07:08:10.546156Z"
    }
   },
   "cell_type": "code",
   "source": [
    "# Load a corpus:\n",
    "corpus = Corpus(filename=\"/Users/leonidas/.convokit/saved-corpora/pd_corpus_with_stances1000_chronological\")"
   ],
   "id": "781d4e0509ad3c21",
   "outputs": [],
   "execution_count": 3
  },
  {
   "cell_type": "code",
   "id": "initial_id",
   "metadata": {
    "collapsed": true,
    "ExecuteTime": {
     "end_time": "2025-07-04T07:33:43.293337Z",
     "start_time": "2025-07-04T07:33:40.333730Z"
    }
   },
   "source": [
    "import numpy as np\n",
    "from scipy.stats import ttest_ind, mannwhitneyu\n",
    "from statsmodels.stats.multitest import fdrcorrection\n",
    "from collections import Counter\n",
    "import logging\n",
    "\n",
    "class BeliefChangeDetector:\n",
    "    \"\"\"Sliding window change detection with proper statistical significance.\"\"\"\n",
    "\n",
    "    def __init__(self, window_size=3, significance_level=0.05):\n",
    "        self.window_size = window_size\n",
    "        self.alpha = significance_level\n",
    "        self.stance_values = {\n",
    "            'strongly_against': -2, 'moderately_against': -1,\n",
    "            'neutral': 0, 'moderately_favor': 1, 'strongly_favor': 2\n",
    "        }\n",
    "\n",
    "    def detect_simple_stance_changes(self, topic_timeline):\n",
    "        \"\"\"\n",
    "        Simple method: detect any change from previous stance for a single topic.\n",
    "\n",
    "        Args:\n",
    "            topic_timeline: Dictionary with utterance_ids as keys and stance strings as values\n",
    "                           e.g., {'utterance_123': 'moderately_favor', 'utterance_456': 'neutral', ...}\n",
    "                           NOTE: This should already be chronologically sorted from TimelineBuilder\n",
    "\n",
    "        Returns:\n",
    "            List of detected changes with basic info\n",
    "        \"\"\"\n",
    "        if len(topic_timeline) < 2:\n",
    "            return []\n",
    "\n",
    "        changes = []\n",
    "        timeline_items = list(topic_timeline.items())  # Convert to list of (utterance_id, stance) pairs\n",
    "\n",
    "        for i in range(1, len(timeline_items)):\n",
    "            current_utterance_id, current_stance = timeline_items[i]\n",
    "            previous_utterance_id, previous_stance = timeline_items[i-1]\n",
    "\n",
    "            # Check if stance changed\n",
    "            if current_stance != previous_stance:\n",
    "                change = {\n",
    "                    'position': i,\n",
    "                    'current_utterance_id': current_utterance_id,\n",
    "                    'previous_utterance_id': previous_utterance_id,\n",
    "                    'from_stance': previous_stance,\n",
    "                    'to_stance': current_stance,\n",
    "                    'change_type': self._classify_change_direction(previous_stance, current_stance),\n",
    "                    'change_magnitude': self._calculate_simple_magnitude(previous_stance, current_stance)\n",
    "                }\n",
    "                changes.append(change)\n",
    "\n",
    "        return changes\n",
    "\n",
    "    def _classify_change_direction(self, from_stance, to_stance):\n",
    "        \"\"\"Classify the direction of stance change.\"\"\"\n",
    "        from_value = self.stance_values.get(from_stance, 0)\n",
    "        to_value = self.stance_values.get(to_stance, 0)\n",
    "\n",
    "        if to_value > from_value:\n",
    "            return 'more_favorable'\n",
    "        elif to_value < from_value:\n",
    "            return 'less_favorable'\n",
    "        else:\n",
    "            return 'neutral_shift'\n",
    "\n",
    "    def _calculate_simple_magnitude(self, from_stance, to_stance):\n",
    "        \"\"\"Calculate the magnitude of stance change.\"\"\"\n",
    "        from_value = self.stance_values.get(from_stance, 0)\n",
    "        to_value = self.stance_values.get(to_stance, 0)\n",
    "        return abs(to_value - from_value)\n",
    "\n",
    "    def detect_changes_with_significance(self, user_timeline):\n",
    "        \"\"\"Detect changes with statistical significance testing.\"\"\"\n",
    "\n",
    "        if len(user_timeline) < self.window_size * 2:\n",
    "            return []\n",
    "\n",
    "        # Convert to numeric sequence\n",
    "        stance_sequence = [self.stance_values.get(stance, 0)\n",
    "                          for stance in user_timeline.values()]\n",
    "\n",
    "        changes = []\n",
    "        p_values = []\n",
    "\n",
    "        # Sliding window approach\n",
    "        for i in range(self.window_size, len(stance_sequence) - self.window_size):\n",
    "\n",
    "            # Left window (before potential change)\n",
    "            left_window = stance_sequence[i - self.window_size:i]\n",
    "\n",
    "            # Right window (after potential change)\n",
    "            right_window = stance_sequence[i:i + self.window_size]\n",
    "\n",
    "            # Statistical test: Are these two windows significantly different?\n",
    "            statistic, p_value = self.two_sample_test(left_window, right_window)\n",
    "\n",
    "            p_values.append(p_value)\n",
    "\n",
    "            # Significant change detected\n",
    "            if p_value < self.alpha:\n",
    "                change_magnitude = abs(np.mean(right_window) - np.mean(left_window))\n",
    "\n",
    "                changes.append({\n",
    "                    'position': i,\n",
    "                    'p_value': p_value,\n",
    "                    'test_statistic': statistic,\n",
    "                    'magnitude': change_magnitude,\n",
    "                    'left_mean': np.mean(left_window),\n",
    "                    'right_mean': np.mean(right_window),\n",
    "                    'significance_level': self.alpha,\n",
    "                    'statistically_significant': True\n",
    "                })\n",
    "\n",
    "        return changes, p_values\n",
    "\n",
    "    def two_sample_test(self, left_window, right_window):\n",
    "        \"\"\"Statistical test for difference between two windows.\"\"\"\n",
    "        from scipy.stats import ttest_ind, mannwhitneyu\n",
    "\n",
    "        # Use Mann-Whitney U test (non-parametric, more robust)\n",
    "        # Good for ordinal data like stance scales\n",
    "        try:\n",
    "            statistic, p_value = mannwhitneyu(left_window, right_window,\n",
    "                                            alternative='two-sided')\n",
    "            return statistic, p_value\n",
    "        except ValueError:\n",
    "            # Fallback to t-test if Mann-Whitney fails\n",
    "            statistic, p_value = ttest_ind(left_window, right_window)\n",
    "            return statistic, p_value\n",
    "\n",
    "    def multiple_testing_correction(self, p_values):\n",
    "        \"\"\"Correct for multiple testing using Benjamini-Hochberg.\"\"\"\n",
    "        from statsmodels.stats.multitest import fdrcorrection\n",
    "\n",
    "        rejected, p_corrected = fdrcorrection(p_values, alpha=self.alpha)\n",
    "        return rejected, p_corrected"
   ],
   "outputs": [],
   "execution_count": 4
  },
  {
   "metadata": {
    "ExecuteTime": {
     "end_time": "2025-07-04T07:56:49.548059Z",
     "start_time": "2025-07-04T07:56:40.805001Z"
    }
   },
   "cell_type": "code",
   "source": [
    "# Detect simple stance change:\n",
    "timeline_builder = TimelineBuilder(corpus, min_posts_per_topic=3, min_topics_per_user=1)\n",
    "all_timelines = timeline_builder.build_timelines()\n",
    "\n",
    "# Get a specific user's timeline for a specific topic\n",
    "user_id = \"pixel8\"\n",
    "topic = \"healthcare policy\"\n",
    "topic_timeline = all_timelines[user_id][topic]  # This is {utterance_id: stance}\n",
    "\n",
    "# Initialize detector and detect changes\n",
    "detector = BeliefChangeDetector()\n",
    "changes = detector.detect_simple_stance_changes(topic_timeline)\n",
    "\n",
    "# Print the results\n",
    "print(f\"Detected {len(changes)} stance changes for user {user_id} on topic {topic}:\")\n",
    "for change in changes:\n",
    "    print(f\"  {change['from_stance']} → {change['to_stance']} (magnitude: {change['change_magnitude']})\")"
   ],
   "id": "fa8987174cfc2918",
   "outputs": [
    {
     "name": "stdout",
     "output_type": "stream",
     "text": [
      "Detected 2 stance changes for user pixel8 on topic healthcare policy:\n",
      "  moderately_against → neutral (magnitude: 1)\n",
      "  neutral → moderately_against (magnitude: 1)\n"
     ]
    }
   ],
   "execution_count": 30
  },
  {
   "metadata": {
    "ExecuteTime": {
     "end_time": "2025-07-04T07:53:39.591564Z",
     "start_time": "2025-07-04T07:53:39.580651Z"
    }
   },
   "cell_type": "code",
   "source": [
    "# All users that meet the criteria:\n",
    "print(\"Available users:\")\n",
    "print(list(all_timelines.keys())[:10])"
   ],
   "id": "76049e46c5223f2d",
   "outputs": [
    {
     "name": "stdout",
     "output_type": "stream",
     "text": [
      "Available users:\n",
      "['[deleted]', 'dtmike07', 'snorky94', 'pixel8', 'funkinthetrunk', 'orbit1979', 'HighAltitudeNoOpen', 'cunning001', 'izagig', 'sickpharaoh']\n"
     ]
    }
   ],
   "execution_count": 27
  },
  {
   "metadata": {
    "ExecuteTime": {
     "end_time": "2025-07-04T09:55:37.290543Z",
     "start_time": "2025-07-04T09:55:37.284456Z"
    }
   },
   "cell_type": "code",
   "source": [
    "# What topics the users have posted about:\n",
    "for user_id in list(all_timelines.keys())[:5]:  # Check first 5 users\n",
    "    topics = list(all_timelines[user_id].keys())\n",
    "    print(f\"{user_id}: {topics}\")"
   ],
   "id": "ba90763c4b3d61ed",
   "outputs": [
    {
     "name": "stdout",
     "output_type": "stream",
     "text": [
      "[deleted]: ['climate change and energy policy', 'media and political commentary', 'taxation and government spending', 'political figures and campaigns', 'economic policy', 'voting rights and elections', 'immigration policy', 'healthcare policy', 'congressional politics', 'criminal justice and policing', 'political parties and ideology', 'civil rights and social issues', 'education policy', 'foreign policy and defense']\n",
      "dtmike07: ['political parties and ideology', 'education policy']\n",
      "snorky94: ['media and political commentary']\n",
      "pixel8: ['healthcare policy']\n",
      "funkinthetrunk: ['media and political commentary']\n"
     ]
    }
   ],
   "execution_count": 31
  },
  {
   "metadata": {},
   "cell_type": "code",
   "outputs": [],
   "execution_count": null,
   "source": "",
   "id": "1fee47509c799599"
  }
 ],
 "metadata": {
  "kernelspec": {
   "display_name": "Python 3",
   "language": "python",
   "name": "python3"
  },
  "language_info": {
   "codemirror_mode": {
    "name": "ipython",
    "version": 2
   },
   "file_extension": ".py",
   "mimetype": "text/x-python",
   "name": "python",
   "nbconvert_exporter": "python",
   "pygments_lexer": "ipython2",
   "version": "2.7.6"
  }
 },
 "nbformat": 4,
 "nbformat_minor": 5
}
