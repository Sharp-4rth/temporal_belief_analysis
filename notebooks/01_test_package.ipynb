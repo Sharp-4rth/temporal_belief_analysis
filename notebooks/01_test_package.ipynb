{
 "cells": [
  {
   "cell_type": "code",
   "id": "initial_id",
   "metadata": {
    "collapsed": true,
    "ExecuteTime": {
     "end_time": "2025-06-10T20:20:13.105751Z",
     "start_time": "2025-06-10T20:20:13.098384Z"
    }
   },
   "source": [
    "# Test if the package actually works\n",
    "from src.temporal_belief import StanceDetector, BeliefChangeDetector, initialize_project\n",
    "\n",
    "print(\"✅ All imports successful!\")\n",
    "print(f\"StanceDetector: {StanceDetector}\")\n",
    "print(f\"BeliefChangeDetector: {BeliefChangeDetector}\")\n",
    "\n",
    "config, logger = initialize_project()\n",
    "print(\"✅ initialize_project works!\")"
   ],
   "outputs": [
    {
     "name": "stderr",
     "output_type": "stream",
     "text": [
      "2025-06-10 21:20:13,102 - temporal_belief - INFO - __init__:31 - Initialized temporal-belief-analysis v1.0.0\n",
      "2025-06-10 21:20:13,103 - temporal_belief - INFO - __init__:32 - Using device: cpu\n"
     ]
    },
    {
     "name": "stdout",
     "output_type": "stream",
     "text": [
      "✅ All imports successful!\n",
      "StanceDetector: <class 'src.temporal_belief.core.stance_detector.StanceDetector'>\n",
      "BeliefChangeDetector: <class 'src.temporal_belief.core.temporal_analyzer.BeliefChangeDetector'>\n",
      "✅ initialize_project works!\n"
     ]
    }
   ],
   "execution_count": 13
  },
  {
   "metadata": {},
   "cell_type": "code",
   "outputs": [],
   "execution_count": null,
   "source": "",
   "id": "6f538b521c40937d"
  }
 ],
 "metadata": {
  "kernelspec": {
   "display_name": "Python 3",
   "language": "python",
   "name": "python3"
  },
  "language_info": {
   "codemirror_mode": {
    "name": "ipython",
    "version": 2
   },
   "file_extension": ".py",
   "mimetype": "text/x-python",
   "name": "python",
   "nbconvert_exporter": "python",
   "pygments_lexer": "ipython2",
   "version": "2.7.6"
  }
 },
 "nbformat": 4,
 "nbformat_minor": 5
}
