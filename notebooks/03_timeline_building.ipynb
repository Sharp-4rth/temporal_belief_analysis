{
 "cells": [
  {
   "metadata": {
    "ExecuteTime": {
     "end_time": "2025-07-03T10:43:06.806999Z",
     "start_time": "2025-07-03T10:43:06.801840Z"
    }
   },
   "cell_type": "code",
   "source": "pwd",
   "id": "8d8796d758b895e8",
   "outputs": [
    {
     "data": {
      "text/plain": [
       "'/Users/leonidas/GitHub/temporal_belief_analysis/notebooks'"
      ]
     },
     "execution_count": 2,
     "metadata": {},
     "output_type": "execute_result"
    }
   ],
   "execution_count": 2
  },
  {
   "metadata": {
    "ExecuteTime": {
     "end_time": "2025-07-13T16:52:54.648780Z",
     "start_time": "2025-07-13T16:52:54.645651Z"
    }
   },
   "cell_type": "code",
   "source": [
    "# Run twice\n",
    "# import unsloth\n",
    "# import unsloth_zoo\n",
    "from convokit import Corpus, download\n",
    "import convokit"
   ],
   "id": "3c9379bf4f8227d8",
   "outputs": [],
   "execution_count": 3
  },
  {
   "metadata": {
    "ExecuteTime": {
     "end_time": "2025-07-13T16:56:10.638280Z",
     "start_time": "2025-07-13T16:52:58.059473Z"
    }
   },
   "cell_type": "code",
   "source": [
    "# Load a corpus:\n",
    "corpus = Corpus(filename=\"/workspace/temporal_belief_analysis/pd_corpus_with_stances100000_chronological\")"
   ],
   "id": "9da71536152c3413",
   "outputs": [],
   "execution_count": 4
  },
  {
   "metadata": {
    "ExecuteTime": {
     "end_time": "2025-07-13T17:00:28.969003Z",
     "start_time": "2025-07-13T17:00:28.965492Z"
    }
   },
   "cell_type": "code",
   "source": "print(corpus.meta)",
   "id": "3b62c1039efe27f6",
   "outputs": [
    {
     "name": "stdout",
     "output_type": "stream",
     "text": [
      "ConvoKitMeta({'subreddit': 'PoliticalDiscussion', 'num_posts': 102848, 'num_comments': 4553046})\n"
     ]
    }
   ],
   "execution_count": 5
  },
  {
   "cell_type": "code",
   "id": "initial_id",
   "metadata": {
    "collapsed": true,
    "ExecuteTime": {
     "end_time": "2025-07-13T17:01:44.576694Z",
     "start_time": "2025-07-13T17:01:44.564251Z"
    }
   },
   "source": [
    "# This code does filter out utterances with no metadata\n",
    "from typing import Dict, Any\n",
    "from collections import defaultdict\n",
    "import logging\n",
    "\n",
    "class TimelineBuilder:\n",
    "    \"\"\"Simple timeline builder for user belief tracking.\n",
    "\n",
    "    Builds structure: {user_id: {topic: {utterance_id: stance}}}\n",
    "    \"\"\"\n",
    "\n",
    "    def __init__(self, corpus, min_posts_per_topic: int = 0, min_topics_per_user: int = 0):\n",
    "        self.corpus = corpus\n",
    "        self.min_posts_per_topic = min_posts_per_topic\n",
    "        self.min_topics_per_user = min_topics_per_user\n",
    "        self.logger = logging.getLogger(__name__)\n",
    "\n",
    "    def build_timelines(self) -> Dict[str, Dict[str, Dict[str, str]]]:\n",
    "        \"\"\"Build user timelines from corpus with stance metadata.\n",
    "\n",
    "        Returns:\n",
    "            {user_id: {topic: {utterance_id: stance}}}\n",
    "        \"\"\"\n",
    "        # Group by user and topic\n",
    "        user_topic_posts = defaultdict(lambda: defaultdict(list))\n",
    "\n",
    "        for utterance in self.corpus.iter_utterances():\n",
    "            # Skip if no stance metadata on utterance\n",
    "            if not utterance.meta or 'detected_stance' not in utterance.meta:\n",
    "                continue\n",
    "\n",
    "            # Get topic from conversation metadata\n",
    "            conversation = utterance.get_conversation()\n",
    "            if not conversation or not conversation.meta or 'detected_topic' not in conversation.meta:\n",
    "                continue\n",
    "\n",
    "            if not utterance.timestamp:\n",
    "                continue\n",
    "\n",
    "            user_id = utterance.speaker.id\n",
    "            topic = conversation.meta['detected_topic']\n",
    "            stance = utterance.meta['detected_stance']\n",
    "\n",
    "            user_topic_posts[user_id][topic].append({\n",
    "                'utterance_id': utterance.id,\n",
    "                'timestamp': utterance.timestamp,\n",
    "                'stance': stance\n",
    "            })\n",
    "\n",
    "        # Filter and sort\n",
    "        timelines = {}\n",
    "        for user_id, topic_posts in user_topic_posts.items():\n",
    "            user_timeline = {}\n",
    "\n",
    "            for topic, posts in topic_posts.items():\n",
    "                if len(posts) >= self.min_posts_per_topic:\n",
    "                    # Sort chronologically\n",
    "                    posts.sort(key=lambda x: x['timestamp'])\n",
    "\n",
    "                    # Create topic timeline\n",
    "                    topic_timeline = {}\n",
    "                    for post in posts:\n",
    "                        topic_timeline[post['utterance_id']] = post['stance']\n",
    "\n",
    "                    user_timeline[topic] = topic_timeline\n",
    "\n",
    "            # Only include users with enough topics\n",
    "            if len(user_timeline) >= self.min_topics_per_user:\n",
    "                timelines[user_id] = user_timeline\n",
    "\n",
    "        self.logger.info(f\"Built timelines for {len(timelines)} users\")\n",
    "        return timelines"
   ],
   "outputs": [],
   "execution_count": 7
  },
  {
   "metadata": {},
   "cell_type": "markdown",
   "source": [
    "user_topic_posts = {\n",
    "    \"user_123\": {\n",
    "        \"healthcare\": [\n",
    "            {'utterance_id': 'utterance_12345_reddit', 'timestamp': '2023-01-01', 'stance': 'moderately_in_favor'},\n",
    "            {'utterance_id': 'utterance_67890_reddit', 'timestamp': '2023-01-15', 'stance': 'strongly_against'}\n",
    "        ],\n",
    "        \"education\": [\n",
    "            {'utterance_id': 'utterance_32890_reddit', 'timestamp': '2023-02-01', 'stance': 'strongly_in_favor'}\n",
    "        ]\n",
    "    }\n",
    "}\n",
    "\n",
    "timelines = {\n",
    "    \"user_1\": {\n",
    "        \"healthcare\": {\n",
    "            'utterance_12345_reddit': 'strongly_in_favor',\n",
    "            'utterance_67890_reddit': 'strongly_against'\n",
    "        },\n",
    "        \"education\": {\n",
    "            'utterance_32890_reddit': 'moderately_in_favor'\n",
    "        }\n",
    "    }\n",
    "    \"user_2\": {\n",
    "        \"taxation\": {\n",
    "            'utterance_12355_reddit': 'strongly_in_favor',\n",
    "            'utterance_67830_reddit': 'strongly_in_favor'\n",
    "        },\n",
    "        \"taxation\": {\n",
    "            'utterance_32290_reddit': 'moderately_in_favor'\n",
    "    .\n",
    "    .\n",
    "    .\n",
    "\n",
    "}"
   ],
   "id": "5ad1f8ba04a106c5"
  },
  {
   "metadata": {
    "ExecuteTime": {
     "end_time": "2025-07-13T17:01:59.682209Z",
     "start_time": "2025-07-13T17:01:48.194730Z"
    }
   },
   "cell_type": "code",
   "source": [
    "builder = TimelineBuilder(corpus, 0, 0)  # min_topics_per_user\n",
    "timelines = builder.build_timelines()"
   ],
   "id": "a73f887ac51672bb",
   "outputs": [],
   "execution_count": 8
  },
  {
   "metadata": {
    "ExecuteTime": {
     "end_time": "2025-07-13T17:02:44.285673Z",
     "start_time": "2025-07-13T17:02:44.281777Z"
    }
   },
   "cell_type": "code",
   "source": [
    "# How do get number of utterances in this topic?\n",
    "# Maybe loop through and find for which one he has the most posts? or print the one with the most utterances yea.\n",
    "print(len(list(timelines['HardCoreModerate']['media and political commentary'])))"
   ],
   "id": "a5045ec4120b0327",
   "outputs": [
    {
     "name": "stdout",
     "output_type": "stream",
     "text": [
      "145\n"
     ]
    }
   ],
   "execution_count": 9
  },
  {
   "metadata": {
    "ExecuteTime": {
     "end_time": "2025-07-03T12:27:42.680058Z",
     "start_time": "2025-07-03T12:27:42.673400Z"
    }
   },
   "cell_type": "code",
   "outputs": [
    {
     "name": "stdout",
     "output_type": "stream",
     "text": [
      "Timeline for user: [deleted]\n",
      "\n",
      "  Topic: climate change and energy policy\n",
      "    c27e03w: neutral\n",
      "    c27o2yl: neutral\n",
      "    nyu5u: moderately_against\n",
      "\n",
      "  Topic: media and political commentary\n",
      "    gq004: unknown\n",
      "    c1pk4gc: moderately_against\n",
      "    c1pt5h6: moderately_favor\n",
      "    c1ptgcy: moderately_against\n",
      "    c1ptq7w: moderately_against\n",
      "    c1pvhwh: moderately_against\n",
      "    c1pvu5h: moderately_against\n",
      "    c1pwfg4: unknown\n",
      "    c1pwryi: moderately_against\n",
      "    c1qvzwa: neutral\n",
      "    c1t3f88: moderately_against\n",
      "    c1t5q5y: moderately_against\n",
      "    c1t8gg4: moderately_against\n",
      "    h9oq6: strongly_against\n",
      "    c1to9to: unknown\n",
      "    c1ttf3v: unknown\n",
      "    c1ttghq: unknown\n",
      "    c1ttglt: unknown\n",
      "    hhgc7: moderately_against\n",
      "    hm96v: moderately_favor\n",
      "    c1wjidt: moderately_against\n",
      "    c1wjmpt: moderately_against\n",
      "    c1wjut2: moderately_against\n",
      "    c1wkgas: moderately_against\n",
      "    c1wkgj1: moderately_against\n",
      "    hp4u4: moderately_favor\n",
      "    c1xagfv: moderately_against\n",
      "    c1xovhl: moderately_against\n",
      "    c1xrx8a: moderately_against\n",
      "    c1yeqo7: moderately_against\n",
      "    c1yptet: unknown\n",
      "    c1za1fh: moderately_against\n",
      "    hyrq7: moderately_against\n",
      "    c20bp2v: moderately_against\n",
      "    c20bx94: moderately_against\n",
      "    c20djbk: moderately_against\n",
      "    c20eaiu: moderately_against\n",
      "    c20h99e: moderately_against\n",
      "    c20jawf: moderately_against\n",
      "    c20jhzd: moderately_against\n",
      "    c20jmrb: moderately_against\n",
      "    c20k12g: moderately_against\n",
      "    c20t6p7: moderately_against\n",
      "    c20t89u: moderately_favor\n",
      "    c20ujsi: moderately_against\n",
      "    c21wy7p: moderately_against\n",
      "    c21yfj2: unknown\n",
      "    c21yyva: moderately_against\n",
      "    c2201j5: moderately_favor\n",
      "    c22t7iy: moderately_favor\n",
      "    c22t9u9: moderately_favor\n",
      "    c22tb6u: moderately_against\n",
      "    c22tehj: moderately_favor\n",
      "    c242pr1: moderately_against\n",
      "    c244hn4: moderately_against\n",
      "    c2470tp: moderately_against\n",
      "    il6n9: moderately_against\n",
      "    c24n0k3: unknown\n",
      "    c24n2t9: moderately_against\n",
      "    c24o0ks: moderately_against\n",
      "    c24z9ys: unknown\n",
      "    c250hqg: moderately_against\n",
      "    c250wlk: strongly_against\n",
      "    c251ez1: moderately_against\n",
      "    imyi2: moderately_against\n",
      "    c251hsj: moderately_against\n",
      "    c251iw0: moderately_against\n",
      "    c251l2k: moderately_against\n",
      "    c252whd: moderately_against\n",
      "    c255buf: moderately_against\n",
      "    c255cx1: moderately_against\n",
      "    c255dl5: strongly_against\n",
      "    c2590bu: moderately_against\n",
      "    c25hkwt: moderately_against\n",
      "    c25ibof: neutral\n",
      "    c25ifts: moderately_against\n",
      "    c25im6n: unknown\n",
      "    ipls4: moderately_against\n",
      "    c25w6jz: moderately_against\n",
      "    c286wpw: unknown\n",
      "    c28akfj: moderately_favor\n",
      "    c28aqo9: moderately_favor\n",
      "    j1dtr: moderately_favor\n",
      "    c28c7ym: moderately_against\n",
      "    c28c84b: unknown\n",
      "    c28c86s: unknown\n",
      "    c28cdxo: moderately_favor\n",
      "    c28cux0: moderately_against\n",
      "    c28cy8g: moderately_against\n",
      "    c28cytd: moderately_against\n",
      "    j1i35: moderately_against\n",
      "    c28d3cw: moderately_favor\n",
      "    c28d3tf: moderately_against\n",
      "    c28d4al: moderately_against\n",
      "    c28d4vm: neutral\n",
      "    j1jij: moderately_against\n",
      "    j1jvd: moderately_against\n",
      "    c28dt0u: moderately_against\n",
      "    c28dt4x: unknown\n",
      "    c28dw8m: moderately_against\n",
      "    c28dxnc: moderately_against\n",
      "    c28dxxg: neutral\n",
      "    c28e65l: moderately_against\n",
      "    c28e8ni: moderately_against\n",
      "    c28ecie: moderately_against\n",
      "    c28eco3: moderately_against\n",
      "    c28ehh0: moderately_against\n",
      "    c28elbu: moderately_against\n",
      "    c28elfg: unknown\n",
      "    c28emz7: moderately_against\n",
      "    c28en4u: moderately_against\n",
      "    c28es39: moderately_against\n",
      "    c28espm: moderately_against\n",
      "    c28estf: unknown\n",
      "    c28fyec: unknown\n",
      "    ny40q: moderately_against\n",
      "    nym21: moderately_against\n",
      "    nzleb: moderately_against\n",
      "    o01ul: moderately_against\n",
      "    o0mqf: moderately_against\n",
      "    o1eze: moderately_against\n",
      "\n",
      "  Topic: taxation and government spending\n",
      "    c1pxqx6: neutral\n",
      "    c1skmy4: moderately_against\n",
      "    c1t5qvl: neutral\n",
      "    c1t7nc7: neutral\n",
      "    c1td750: moderately_against\n",
      "    c1ulh3w: moderately_against\n",
      "    c1w2qh0: moderately_against\n",
      "    c22tgec: neutral\n",
      "    c2357ui: moderately_against\n",
      "    c255fcl: moderately_against\n",
      "    c25lfa4: moderately_against\n",
      "    c25lfta: moderately_against\n",
      "    c25lgp8: moderately_against\n",
      "    c25lvnt: neutral\n",
      "    c2718iz: moderately_against\n",
      "    c27qqop: neutral\n",
      "    c27szah: neutral\n",
      "    c28aw77: moderately_against\n",
      "    c28ciac: unknown\n",
      "    c28cky1: unknown\n",
      "    c28crd7: moderately_against\n",
      "    c28crsl: moderately_against\n",
      "    c28csw0: moderately_against\n",
      "    c28d01s: moderately_against\n",
      "    c28dmjk: moderately_against\n",
      "    c28dmxs: moderately_against\n",
      "    c28dohv: moderately_against\n",
      "    c28dos8: moderately_against\n",
      "    c28dpzx: moderately_against\n",
      "    c28eaz0: moderately_against\n",
      "    c28ec3e: moderately_against\n",
      "    c28eitu: moderately_against\n",
      "    c28eph8: moderately_against\n",
      "    c28eu4p: neutral\n",
      "    c28fd6j: moderately_against\n",
      "    c28feo2: unknown\n",
      "    c28fetr: unknown\n",
      "    c28geg1: moderately_against\n",
      "    o0cxe: moderately_against\n",
      "\n",
      "  Topic: electoral politics\n",
      "    h4o1l: moderately_against\n",
      "    nzaxk: moderately_favor\n",
      "\n",
      "  Topic: political figures and campaigns\n",
      "    idu18: neutral\n",
      "    c255ea5: moderately_favor\n",
      "    ivs9y: moderately_favor\n",
      "    c2716rr: moderately_favor\n",
      "    c281o01: moderately_against\n",
      "    j08mu: moderately_favor\n",
      "    c282tfn: neutral\n",
      "    c283dxe: moderately_against\n",
      "    c28anz5: moderately_favor\n",
      "    c28aovj: moderately_against\n",
      "    c28avr8: moderately_against\n",
      "    c28azn9: moderately_favor\n",
      "    c28c2qy: moderately_against\n",
      "    c28cmbl: unknown\n",
      "    c28cmmk: moderately_against\n",
      "    c28cn2l: moderately_against\n",
      "    c28cn4g: moderately_favor\n",
      "    c28cnvz: moderately_favor\n",
      "    c28co1m: moderately_favor\n",
      "    c28co7r: moderately_against\n",
      "    c28cplc: moderately_against\n",
      "    c28ctf0: moderately_favor\n",
      "    c28d0kn: neutral\n",
      "    c28dhub: moderately_favor\n",
      "    c28drmd: moderately_favor\n",
      "    c28enfk: moderately_favor\n",
      "    c28ez7g: strongly_against\n",
      "    c28f282: moderately_favor\n",
      "    c28ffsy: unknown\n",
      "    c28fhl4: moderately_favor\n",
      "    o1dij: moderately_against\n",
      "    o24ui: moderately_against\n",
      "    o25v7: moderately_against\n",
      "    o29m5: moderately_against\n",
      "    o2jg7: moderately_against\n",
      "    o2v01: moderately_against\n",
      "\n",
      "  Topic: economic policy\n",
      "    gsoz2: moderately_against\n",
      "    c23sadz: moderately_against\n",
      "    c28ctov: neutral\n",
      "    j1kgx: moderately_against\n",
      "    c28do1y: neutral\n",
      "    c28dpin: moderately_against\n",
      "    c28dq0k: moderately_against\n",
      "    c28dri6: unknown\n",
      "    c28dv3o: moderately_against\n",
      "    j1lk5: neutral\n",
      "    c28e2vb: moderately_against\n",
      "    c28e3pb: moderately_against\n",
      "    c28e4en: moderately_against\n",
      "    j1nmp: moderately_against\n",
      "    c28eyqa: moderately_against\n",
      "    c28ez2j: neutral\n",
      "    c28f9s9: moderately_against\n",
      "    c28f9t4: moderately_against\n",
      "    j1ste: unknown\n",
      "    c28g2p7: neutral\n",
      "    c28g32r: neutral\n",
      "    c28g3d8: moderately_against\n",
      "    c28g6hr: neutral\n",
      "    c28g76v: neutral\n",
      "    c28g79d: neutral\n",
      "\n",
      "  Topic: voting rights and elections\n",
      "    c1pyhzi: neutral\n",
      "    h7fs2: neutral\n",
      "    c1t5pno: neutral\n",
      "    c1t5svm: neutral\n",
      "    c1t5tey: moderately_against\n",
      "    c1xiljz: moderately_favor\n",
      "    c210m7z: neutral\n",
      "    c255fud: neutral\n",
      "    c28choh: unknown\n",
      "    j1hy5: neutral\n",
      "    c28d0y6: moderately_against\n",
      "    c28d4qa: neutral\n",
      "    c28d6om: unknown\n",
      "    c28dls1: neutral\n",
      "    c28dse4: neutral\n",
      "\n",
      "  Topic: immigration policy\n",
      "    h9wsz: moderately_against\n",
      "    c1tuh6o: unknown\n",
      "    c1tum2h: neutral\n",
      "    c1txdyk: unknown\n",
      "    c1txebe: unknown\n",
      "    c1txf6o: unknown\n",
      "    c1txfj4: unknown\n",
      "    c1txfua: unknown\n",
      "    c1txfzj: unknown\n",
      "    c1txh8m: unknown\n",
      "    c1txm5u: unknown\n",
      "    j1jej: neutral\n",
      "\n",
      "  Topic: healthcare policy\n",
      "    hjqvc: moderately_against\n",
      "    c20sww4: neutral\n",
      "    c22tff6: neutral\n",
      "    ivnyk: neutral\n",
      "\n",
      "  Topic: congressional politics\n",
      "    hjq7m: moderately_against\n",
      "    c25lclu: moderately_favor\n",
      "    c28czgi: moderately_favor\n",
      "    c28d0mb: moderately_favor\n",
      "    c28d1sp: moderately_against\n",
      "    c28d8x9: moderately_favor\n",
      "    c28ebvy: moderately_against\n",
      "    c28ebxz: moderately_against\n",
      "    c28ekw1: moderately_against\n",
      "    c28gbp9: moderately_favor\n",
      "\n",
      "  Topic: criminal justice and policing\n",
      "    i0lsl: moderately_against\n",
      "    c1zwfaa: unknown\n",
      "    c243cjv: unknown\n",
      "    ijxxh: moderately_against\n",
      "    j1g7n: unknown\n",
      "    c28cpqg: moderately_against\n",
      "    c28cyvp: unknown\n",
      "    c28d1cl: moderately_against\n",
      "\n",
      "  Topic: political parties and ideology\n",
      "    c1sm8q3: unknown\n",
      "    c1t5vtk: moderately_against\n",
      "    c1t5vwo: unknown\n",
      "    c1tbtje: moderately_against\n",
      "    c1tf3lx: neutral\n",
      "    c1tgf02: neutral\n",
      "    c1ti1qo: moderately_favor\n",
      "    c1yepkw: moderately_against\n",
      "    c22th89: neutral\n",
      "    c27bnvb: neutral\n",
      "    c27bpss: moderately_favor\n",
      "    c27bwjl: moderately_favor\n",
      "    c27byt5: moderately_favor\n",
      "    c27c8kk: moderately_against\n",
      "    c27cd03: moderately_favor\n",
      "    c27chlr: moderately_favor\n",
      "    c27cqs8: moderately_favor\n",
      "    c27da6c: neutral\n",
      "    c27dlz5: unknown\n",
      "    c27gn0l: moderately_against\n",
      "    j05og: moderately_favor\n",
      "    c28243x: unknown\n",
      "    c28ato4: moderately_favor\n",
      "    c28e4og: moderately_against\n",
      "    c28eidp: moderately_against\n",
      "    c28f6hx: moderately_favor\n",
      "    c28f9tc: neutral\n",
      "    c28fc4z: moderately_against\n",
      "    c28fer1: moderately_favor\n",
      "    c28fkus: strongly_against\n",
      "    c28fnsq: neutral\n",
      "    c28fu76: moderately_against\n",
      "    c28fwmu: moderately_against\n",
      "    c28g5vs: moderately_favor\n",
      "\n",
      "  Topic: civil rights and social issues\n",
      "    c1ywzuw: neutral\n",
      "    hy5qf: moderately_against\n",
      "    c1zcu0n: moderately_against\n",
      "    c1zpdei: moderately_against\n",
      "    c1zpdo9: moderately_against\n",
      "    i7h03: moderately_against\n",
      "    c254doo: moderately_against\n",
      "    c2559t6: moderately_against\n",
      "    c28cfo6: moderately_favor\n",
      "\n",
      "  Topic: education policy\n",
      "    c1qnsc1: neutral\n",
      "    c1qnyic: neutral\n",
      "    c1rrqg9: neutral\n",
      "    c1sjdzm: neutral\n",
      "    c1ssknr: moderately_favor\n",
      "    c1sya5r: neutral\n",
      "    c1tbkwy: neutral\n",
      "    c1tbrrh: neutral\n",
      "    c1tf185: neutral\n",
      "    c1tzrxk: neutral\n",
      "\n",
      "  Topic: foreign policy and defense\n",
      "    c28cytk: strongly_against\n",
      "    c28dbo5: moderately_favor\n",
      "    c28dc8j: moderately_favor\n"
     ]
    }
   ],
   "execution_count": 38,
   "source": [
    "# Get the first user\n",
    "first_user = list(timelines.keys())[2]\n",
    "\n",
    "# Print their complete timeline across all topics\n",
    "print(f\"Timeline for user: {first_user}\")\n",
    "for topic, posts in timelines[first_user].items():\n",
    "   print(f\"\\n  Topic: {topic}\")\n",
    "   for utterance_id, stance in posts.items():\n",
    "       print(f\"    {utterance_id}: {stance}\")"
   ],
   "id": "1bf652483186bbcd"
  },
  {
   "metadata": {
    "ExecuteTime": {
     "end_time": "2025-07-14T09:52:51.201512Z",
     "start_time": "2025-07-14T09:52:51.079780Z"
    }
   },
   "cell_type": "code",
   "source": "print(f\"Number of users in timelines: {len(timelines)}\")",
   "id": "2a0b8a2a073873aa",
   "outputs": [
    {
     "ename": "NameError",
     "evalue": "name 'timelines' is not defined",
     "output_type": "error",
     "traceback": [
      "\u001B[0;31m---------------------------------------------------------------------------\u001B[0m",
      "\u001B[0;31mNameError\u001B[0m                                 Traceback (most recent call last)",
      "Cell \u001B[0;32mIn[1], line 1\u001B[0m\n\u001B[0;32m----> 1\u001B[0m \u001B[38;5;28mprint\u001B[39m(\u001B[38;5;124mf\u001B[39m\u001B[38;5;124m\"\u001B[39m\u001B[38;5;124mNumber of users in timelines: \u001B[39m\u001B[38;5;132;01m{\u001B[39;00m\u001B[38;5;28mlen\u001B[39m(\u001B[43mtimelines\u001B[49m)\u001B[38;5;132;01m}\u001B[39;00m\u001B[38;5;124m\"\u001B[39m)\n",
      "\u001B[0;31mNameError\u001B[0m: name 'timelines' is not defined"
     ]
    }
   ],
   "execution_count": 1
  },
  {
   "metadata": {
    "ExecuteTime": {
     "end_time": "2025-07-03T12:20:32.689709Z",
     "start_time": "2025-07-03T12:20:32.386041Z"
    }
   },
   "cell_type": "code",
   "outputs": [
    {
     "name": "stdout",
     "output_type": "stream",
     "text": [
      "Total utterances in corpus: 4655894\n"
     ]
    }
   ],
   "execution_count": 35,
   "source": "print(f\"Total utterances in corpus: {len(list(corpus.iter_utterances()))}\")\n",
   "id": "decfe230cb9da6bc"
  },
  {
   "metadata": {
    "ExecuteTime": {
     "end_time": "2025-07-03T11:07:05.413653Z",
     "start_time": "2025-07-03T11:06:58.143479Z"
    }
   },
   "cell_type": "code",
   "outputs": [
    {
     "name": "stdout",
     "output_type": "stream",
     "text": [
      "Utterances with stance/topic metadata: 0\n"
     ]
    }
   ],
   "execution_count": 12,
   "source": [
    "count_with_metadata = 0\n",
    "for utterance in corpus.iter_utterances():\n",
    "    if (utterance.meta and\n",
    "        'detected_stance' in utterance.meta and\n",
    "        'detected_topic' in utterance.meta):\n",
    "        count_with_metadata += 1\n",
    "\n",
    "print(f\"Utterances with stance/topic metadata: {count_with_metadata}\")\n"
   ],
   "id": "872fa20c0e1c3d8f"
  },
  {
   "metadata": {
    "ExecuteTime": {
     "end_time": "2025-07-03T12:01:38.043177Z",
     "start_time": "2025-07-03T12:01:37.761094Z"
    }
   },
   "cell_type": "code",
   "outputs": [
    {
     "name": "stdout",
     "output_type": "stream",
     "text": [
      "ConvoKitMeta({'score': 0, 'top_level_comment': None, 'retrieved_on': -1, 'gilded': -1, 'gildings': None, 'subreddit': 'PoliticalDiscussion', 'stickied': False, 'permalink': '/r/PoliticalDiscussion/comments/nz333/if_austrian_economics_is_so_wonderful_why_dont/', 'author_flair_text': '', 'detected_stance': 'unknown', 'stance_confidence': 0.0})\n"
     ]
    }
   ],
   "execution_count": 23,
   "source": [
    "utts = list(corpus.iter_utterances())\n",
    "print(utts[0].meta)"
   ],
   "id": "d7121da02aa1ed1f"
  },
  {
   "metadata": {
    "ExecuteTime": {
     "end_time": "2025-07-03T12:25:13.860184Z",
     "start_time": "2025-07-03T12:25:13.848856Z"
    }
   },
   "cell_type": "code",
   "outputs": [
    {
     "name": "stdout",
     "output_type": "stream",
     "text": [
      "Total utterances in timelines: 1050\n"
     ]
    }
   ],
   "execution_count": 36,
   "source": [
    "# Count total utterances in your built timelines\n",
    "total_timeline_utterances = 0\n",
    "for user_id, user_timeline in timelines.items():\n",
    "    for topic, topic_posts in user_timeline.items():\n",
    "        total_timeline_utterances += len(topic_posts)\n",
    "\n",
    "print(f\"Total utterances in timelines: {total_timeline_utterances}\")\n",
    "# Should be close to 1000 (your test batch)"
   ],
   "id": "d0ca680e6fd66c3e"
  },
  {
   "metadata": {},
   "cell_type": "code",
   "outputs": [],
   "source": "",
   "id": "65a38993cd466b6b",
   "execution_count": null
  }
 ],
 "metadata": {
  "kernelspec": {
   "display_name": "Python 3",
   "language": "python",
   "name": "python3"
  },
  "language_info": {
   "codemirror_mode": {
    "name": "ipython",
    "version": 2
   },
   "file_extension": ".py",
   "mimetype": "text/x-python",
   "name": "python",
   "nbconvert_exporter": "python",
   "pygments_lexer": "ipython2",
   "version": "2.7.6"
  }
 },
 "nbformat": 4,
 "nbformat_minor": 5
}
