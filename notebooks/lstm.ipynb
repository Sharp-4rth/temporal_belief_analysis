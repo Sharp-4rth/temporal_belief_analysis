{
  "cells": [
    {
      "cell_type": "code",
      "source": [
        "# Need to restart after:\n",
        "!pip install convokit[llm]\n",
        "!pip install convokit"
      ],
      "metadata": {
        "id": "yiaBVS8Kxu1L"
      },
      "id": "yiaBVS8Kxu1L",
      "execution_count": null,
      "outputs": []
    },
    {
      "cell_type": "code",
      "source": [
        "os.chdir('/content/temporal_belief_analysis/notebooks')\n",
        "print(\"Changed working directory to:\", os.getcwd())\n",
        "\n",
        "# Absolute path to src directory\n",
        "src_path = os.path.abspath(os.path.join(os.getcwd(), '..', 'src'))\n",
        "if src_path not in sys.path:\n",
        "    sys.path.insert(0, src_path)"
      ],
      "metadata": {
        "id": "TP-3w4UM0Coc"
      },
      "id": "TP-3w4UM0Coc",
      "execution_count": null,
      "outputs": []
    },
    {
      "cell_type": "code",
      "source": [
        "import time\n",
        "import sys\n",
        "import os\n",
        "!pip install gdown\n",
        "import zipfile\n",
        "import nltk\n",
        "from nltk.corpus import stopwords\n",
        "from convokit import Corpus, download\n",
        "import convokit\n",
        "from temporal_belief.core.timeline_building import TimelineBuilder\n",
        "# from temporal_belief.core.change_detection import ChangeDetector\n",
        "# from temporal_belief.core.window_extraction import WindowExtractor\n",
        "# from temporal_belief.core.op_path_pairing import OpPathPairer\n",
        "# from temporal_belief.data.preprocessors import ChangeDetectorPreprocessor\n",
        "# from temporal_belief.data.preprocessors import PairPreprocessor\n",
        "# from temporal_belief.core.interplay import Interplay\n",
        "nltk.download('stopwords')"
      ],
      "metadata": {
        "colab": {
          "base_uri": "https://localhost:8080/"
        },
        "id": "MNGhnxTQyymH",
        "outputId": "c7fd9289-cebb-4577-c294-886e4b69f47b"
      },
      "id": "MNGhnxTQyymH",
      "execution_count": 13,
      "outputs": [
        {
          "output_type": "stream",
          "name": "stdout",
          "text": [
            "Requirement already satisfied: gdown in /usr/local/lib/python3.11/dist-packages (5.2.0)\n",
            "Requirement already satisfied: beautifulsoup4 in /usr/local/lib/python3.11/dist-packages (from gdown) (4.13.4)\n",
            "Requirement already satisfied: filelock in /usr/local/lib/python3.11/dist-packages (from gdown) (3.18.0)\n",
            "Requirement already satisfied: requests[socks] in /usr/local/lib/python3.11/dist-packages (from gdown) (2.32.3)\n",
            "Requirement already satisfied: tqdm in /usr/local/lib/python3.11/dist-packages (from gdown) (4.67.1)\n",
            "Requirement already satisfied: soupsieve>1.2 in /usr/local/lib/python3.11/dist-packages (from beautifulsoup4->gdown) (2.7)\n",
            "Requirement already satisfied: typing-extensions>=4.0.0 in /usr/local/lib/python3.11/dist-packages (from beautifulsoup4->gdown) (4.14.1)\n",
            "Requirement already satisfied: charset-normalizer<4,>=2 in /usr/local/lib/python3.11/dist-packages (from requests[socks]->gdown) (3.4.3)\n",
            "Requirement already satisfied: idna<4,>=2.5 in /usr/local/lib/python3.11/dist-packages (from requests[socks]->gdown) (3.10)\n",
            "Requirement already satisfied: urllib3<3,>=1.21.1 in /usr/local/lib/python3.11/dist-packages (from requests[socks]->gdown) (2.5.0)\n",
            "Requirement already satisfied: certifi>=2017.4.17 in /usr/local/lib/python3.11/dist-packages (from requests[socks]->gdown) (2025.8.3)\n",
            "Requirement already satisfied: PySocks!=1.5.7,>=1.5.6 in /usr/local/lib/python3.11/dist-packages (from requests[socks]->gdown) (1.7.1)\n"
          ]
        },
        {
          "output_type": "stream",
          "name": "stderr",
          "text": [
            "[nltk_data] Downloading package stopwords to /root/nltk_data...\n",
            "[nltk_data]   Package stopwords is already up-to-date!\n"
          ]
        },
        {
          "output_type": "execute_result",
          "data": {
            "text/plain": [
              "True"
            ]
          },
          "metadata": {},
          "execution_count": 13
        }
      ]
    },
    {
      "cell_type": "code",
      "source": [
        "# Download and unzip with python (Dataloading):\n",
        "# !gdown \"https://drive.google.com/file/d/1N0U_jUJlOYjdaju2FaU8p87uB22YBxJ0/view?usp=sharing\" -O \"/content/temporal_belief_analysis/pd_corpus_with_stances100000_chronological.zip\" --fuzzy\n",
        "# !gdown \"https://drive.google.com/file/d/1DLFY6JLMZqNjwvNRZmhlV4-rnoQP_eyH/view?usp=sharing\" -O \"/content/temporal_belief_analysis/merged_corpus_checkpoint_5.zip\" --fuzzy\n",
        "# !gdown \"https://drive.google.com/file/d/1nWaj5N8nsG7u5homv_kAh4CLPDv01M_Z/view?usp=sharing\" -O \"/content/temporal_belief_analysis/pd_corpus_with_topics.zip\" --fuzzy\n",
        "!gdown \"https://drive.google.com/file/d/15NMRXEkGRoGjK6TXFBHIMOPjkTyZ0keP/view?usp=sharing\" -O \"/content/temporal_belief_analysis/pd_corpus_with_stances200000_llm.zip\" --fuzzy\n",
        "\n",
        "# zipfile.ZipFile(\"/content/temporal_belief_analysis/pd_corpus_with_stances100000_chronological.zip\").extractall(\"/content/temporal_belief_analysis\")\n",
        "# zipfile.ZipFile(\"/content/temporal_belief_analysis/merged_corpus_checkpoint_5.zip\").extractall(\"/content/temporal_belief_analysis\")\n",
        "# zipfile.ZipFile(\"/content/temporal_belief_analysis/pd_corpus_with_topics.zip\").extractall(\"/content/temporal_belief_analysis\")\n",
        "zipfile.ZipFile(\"/content/temporal_belief_analysis/pd_corpus_with_stances200000_llm.zip\").extractall(\"/content/temporal_belief_analysis\")"
      ],
      "metadata": {
        "colab": {
          "base_uri": "https://localhost:8080/"
        },
        "id": "9mHkIBeHytf0",
        "outputId": "cce15d89-58c2-4b9b-863b-6cd49b04e97f"
      },
      "id": "9mHkIBeHytf0",
      "execution_count": 7,
      "outputs": [
        {
          "output_type": "stream",
          "name": "stdout",
          "text": [
            "Downloading...\n",
            "From (original): https://drive.google.com/uc?id=15NMRXEkGRoGjK6TXFBHIMOPjkTyZ0keP\n",
            "From (redirected): https://drive.google.com/uc?id=15NMRXEkGRoGjK6TXFBHIMOPjkTyZ0keP&confirm=t&uuid=11d14a0f-728a-4003-8253-65737de8d389\n",
            "To: /content/temporal_belief_analysis/pd_corpus_with_stances200000_llm.zip\n",
            "100% 834M/834M [00:06<00:00, 128MB/s]\n"
          ]
        }
      ]
    },
    {
      "cell_type": "code",
      "source": [
        "import torch\n",
        "import torch.nn as nn\n",
        "from torch.utils.data import DataLoader, Dataset\n",
        "import numpy as np"
      ],
      "metadata": {
        "id": "FVHxXauC0v8B"
      },
      "id": "FVHxXauC0v8B",
      "execution_count": 8,
      "outputs": []
    },
    {
      "cell_type": "code",
      "source": [
        "corpus = Corpus(filename=\"/content/temporal_belief_analysis/pd_corpus_with_stances200000_chronological_second_attempt\")"
      ],
      "metadata": {
        "id": "vu1a8FbQ31rP"
      },
      "id": "vu1a8FbQ31rP",
      "execution_count": 9,
      "outputs": []
    },
    {
      "cell_type": "code",
      "source": [
        "from typing import Dict, Any\n",
        "from collections import defaultdict\n",
        "import logging\n",
        "\n",
        "MERGED_TOPIC = {\n",
        "    # Economy\n",
        "    'economic policy': 'Economy & Tax',\n",
        "    'taxation and government spending': 'Economy & Tax',\n",
        "\n",
        "    # Healthcare\n",
        "    'healthcare policy': 'Healthcare',\n",
        "\n",
        "    # Civil rights / justice / education / voting\n",
        "    'civil rights and social issues': 'Civil Rights, Justice & Education',\n",
        "    'criminal justice and policing': 'Civil Rights, Justice & Education',\n",
        "    'voting rights and elections': 'Civil Rights, Justice & Education',\n",
        "    'education policy': 'Civil Rights, Justice & Education',\n",
        "\n",
        "    # Hot-button singles\n",
        "    'gun rights and control': 'Guns',\n",
        "    'abortion and reproductive rights': 'Abortion',\n",
        "    'immigration policy': 'Immigration',\n",
        "    'climate change and energy policy': 'Climate & Energy',\n",
        "\n",
        "    # Foreign / defense\n",
        "    'foreign policy and defense': 'Foreign & Defense',\n",
        "\n",
        "    # Meta / process / actors\n",
        "    'political figures and campaigns': 'Process & Actors (Meta)',\n",
        "    'congressional politics': 'Process & Actors (Meta)',\n",
        "    'electoral politics': 'Process & Actors (Meta)',\n",
        "    'political parties and ideology': 'Process & Actors (Meta)',\n",
        "    'media and political commentary': 'Process & Actors (Meta)',\n",
        "}\n",
        "\n",
        "\n",
        "class TimelineBuilder:\n",
        "    \"\"\"Simple timeline builder for user belief tracking.\n",
        "\n",
        "    Builds structure: {user_id: {topic: {utterance_id: stance}}}\n",
        "    \"\"\"\n",
        "\n",
        "    def __init__(self, corpus, min_posts_per_topic: int = 0, min_topics_per_user: int = 0):\n",
        "        self.corpus = corpus\n",
        "        self.min_posts_per_topic = min_posts_per_topic\n",
        "        self.min_topics_per_user = min_topics_per_user\n",
        "        self.logger = logging.getLogger(__name__)\n",
        "\n",
        "    def build_timelines(self, include_all=True) -> Dict[str, Dict[str, Dict[str, str]]]:\n",
        "        \"\"\"Build user timelines from corpus with stance metadata.\n",
        "\n",
        "        Returns:\n",
        "            {user_id: {topic: {utterance_id: stance}}}\n",
        "        \"\"\"\n",
        "        # Group by user and topic\n",
        "        user_topic_posts = defaultdict(lambda: defaultdict(list))\n",
        "\n",
        "        for utterance in self.corpus.iter_utterances():\n",
        "            # Skip if no stance metadata on utterance\n",
        "            if include_all == False:\n",
        "                if not utterance.meta or 'detected_stance' not in utterance.meta:\n",
        "                    continue\n",
        "\n",
        "            # Get topic from conversation metadata\n",
        "            conversation = utterance.get_conversation()\n",
        "            if not conversation or not conversation.meta or 'detected_topic' not in conversation.meta:\n",
        "                continue\n",
        "\n",
        "            if not utterance.timestamp:\n",
        "                continue\n",
        "\n",
        "            user_id = utterance.speaker.id\n",
        "            old_topic = conversation.meta['detected_topic']\n",
        "            topic = MERGED_TOPIC.get(old_topic, old_topic)\n",
        "            stance = utterance.meta.get('detected_stance', 'Unknown')\n",
        "\n",
        "            user_topic_posts[user_id][topic].append({\n",
        "                'utterance_id': utterance.id,\n",
        "                'timestamp': utterance.timestamp,\n",
        "                'stance': stance\n",
        "            })\n",
        "\n",
        "        # Filter and sort\n",
        "        timelines = {}\n",
        "        for user_id, topic_posts in user_topic_posts.items():\n",
        "            user_timeline = {}\n",
        "\n",
        "            for topic, posts in topic_posts.items():\n",
        "                if len(posts) >= self.min_posts_per_topic:\n",
        "                    # Sort chronologically\n",
        "                    posts.sort(key=lambda x: x['timestamp'])\n",
        "\n",
        "                    # Create topic timeline\n",
        "                    topic_timeline = {}\n",
        "                    for post in posts:\n",
        "                        topic_timeline[post['utterance_id']] = post['stance']\n",
        "\n",
        "                    user_timeline[topic] = topic_timeline\n",
        "\n",
        "            # Only include users with enough topics\n",
        "            if len(user_timeline) >= self.min_topics_per_user:\n",
        "                timelines[user_id] = user_timeline\n",
        "\n",
        "        self.logger.info(f\"Built timelines for {len(timelines)} users\")\n",
        "        return timelines"
      ],
      "metadata": {
        "id": "9kAA9JPbb3FH"
      },
      "id": "9kAA9JPbb3FH",
      "execution_count": 44,
      "outputs": []
    },
    {
      "cell_type": "markdown",
      "source": [
        "==============================================================================="
      ],
      "metadata": {
        "id": "7RxLyYjbfmkz"
      },
      "id": "7RxLyYjbfmkz"
    },
    {
      "cell_type": "markdown",
      "source": [
        "==============================================================================="
      ],
      "metadata": {
        "id": "FW7fwMfHfx_a"
      },
      "id": "FW7fwMfHfx_a"
    },
    {
      "cell_type": "code",
      "source": [
        "import numpy as np\n",
        "import torch\n",
        "\n",
        "def moving_avg_1d(x, w=3):\n",
        "    if w <= 1: return x\n",
        "    pad = (w - 1) // 2\n",
        "    xpad = np.pad(x, (pad, pad), mode='edge')\n",
        "    kernel = np.ones(w, dtype=np.float32) / w\n",
        "    return np.convolve(xpad, kernel, mode='valid')\n",
        "\n",
        "def decode_change_points(probs_1d, mask_1d, thresh=0.6, smooth_w=3, min_gap=3):\n",
        "    \"\"\"\n",
        "    probs_1d: (T,) numpy array in [0,1]\n",
        "    mask_1d:  (T,) numpy array in {0,1}\n",
        "    Returns: list of timestep indices predicted as change points.\n",
        "    \"\"\"\n",
        "    p = probs_1d.copy()\n",
        "    # honor mask (don’t trigger on masked timesteps)\n",
        "    p[mask_1d < 0.5] = 0.0\n",
        "    # smooth (optional)\n",
        "    if smooth_w and smooth_w > 1:\n",
        "        p = moving_avg_1d(p, w=smooth_w)\n",
        "\n",
        "    # threshold\n",
        "    cand = np.where(p >= thresh)[0].tolist()\n",
        "\n",
        "    # minimum spacing\n",
        "    picked = []\n",
        "    last = -10**9\n",
        "    for t in cand:\n",
        "        if t - last >= min_gap:\n",
        "            picked.append(t)\n",
        "            last = t\n",
        "    return picked"
      ],
      "metadata": {
        "id": "8bQFQR5bIu-r"
      },
      "id": "8bQFQR5bIu-r",
      "execution_count": 70,
      "outputs": []
    },
    {
      "cell_type": "code",
      "source": [
        "def match_with_tolerance(pred, truth, tol=2):\n",
        "    \"\"\"Greedy match: a pred counts correct if within ±tol of an unmatched truth.\"\"\"\n",
        "    pred = sorted(pred)\n",
        "    truth = sorted(truth)\n",
        "    used = set()\n",
        "    tp = 0\n",
        "    for t in pred:\n",
        "        # find nearest unmatched truth within tolerance\n",
        "        best_j, best_dist = None, tol+1\n",
        "        for j, g in enumerate(truth):\n",
        "            if j in used:\n",
        "                continue\n",
        "            d = abs(t - g)\n",
        "            if d <= tol and d < best_dist:\n",
        "                best_j, best_dist = j, d\n",
        "        if best_j is not None:\n",
        "            used.add(best_j)\n",
        "            tp += 1\n",
        "    fp = len(pred) - tp\n",
        "    fn = len(truth) - tp\n",
        "    precision = tp / (tp + fp + 1e-9)\n",
        "    recall    = tp / (tp + fn + 1e-9)\n",
        "    f1        = 2*precision*recall / (precision+recall+1e-9)\n",
        "    return precision, recall, f1\n",
        "\n",
        "# Example on that single sequence b\n",
        "prec, rec, f1 = match_with_tolerance(pred, truth, tol=2)\n",
        "print(f\"Seq b metrics (±2): P={prec:.3f} R={rec:.3f} F1={f1:.3f}\")"
      ],
      "metadata": {
        "id": "TKU6b8RCS41g",
        "outputId": "c6615779-a79d-4e2b-e7ca-cb1a4512fcbf",
        "colab": {
          "base_uri": "https://localhost:8080/",
          "height": 193
        }
      },
      "id": "TKU6b8RCS41g",
      "execution_count": 71,
      "outputs": [
        {
          "output_type": "error",
          "ename": "NameError",
          "evalue": "name 'pred' is not defined",
          "traceback": [
            "\u001b[0;31m---------------------------------------------------------------------------\u001b[0m",
            "\u001b[0;31mNameError\u001b[0m                                 Traceback (most recent call last)",
            "\u001b[0;32m/tmp/ipython-input-2716264625.py\u001b[0m in \u001b[0;36m<cell line: 0>\u001b[0;34m()\u001b[0m\n\u001b[1;32m     25\u001b[0m \u001b[0;34m\u001b[0m\u001b[0m\n\u001b[1;32m     26\u001b[0m \u001b[0;31m# Example on that single sequence b\u001b[0m\u001b[0;34m\u001b[0m\u001b[0;34m\u001b[0m\u001b[0m\n\u001b[0;32m---> 27\u001b[0;31m \u001b[0mprec\u001b[0m\u001b[0;34m,\u001b[0m \u001b[0mrec\u001b[0m\u001b[0;34m,\u001b[0m \u001b[0mf1\u001b[0m \u001b[0;34m=\u001b[0m \u001b[0mmatch_with_tolerance\u001b[0m\u001b[0;34m(\u001b[0m\u001b[0mpred\u001b[0m\u001b[0;34m,\u001b[0m \u001b[0mtruth\u001b[0m\u001b[0;34m,\u001b[0m \u001b[0mtol\u001b[0m\u001b[0;34m=\u001b[0m\u001b[0;36m2\u001b[0m\u001b[0;34m)\u001b[0m\u001b[0;34m\u001b[0m\u001b[0;34m\u001b[0m\u001b[0m\n\u001b[0m\u001b[1;32m     28\u001b[0m \u001b[0mprint\u001b[0m\u001b[0;34m(\u001b[0m\u001b[0;34mf\"Seq b metrics (±2): P={prec:.3f} R={rec:.3f} F1={f1:.3f}\"\u001b[0m\u001b[0;34m)\u001b[0m\u001b[0;34m\u001b[0m\u001b[0;34m\u001b[0m\u001b[0m\n",
            "\u001b[0;31mNameError\u001b[0m: name 'pred' is not defined"
          ]
        }
      ]
    },
    {
      "cell_type": "code",
      "source": [
        "timeline_builder = TimelineBuilder(corpus)\n",
        "timelines = timeline_builder.build_timelines(include_all=False)"
      ],
      "metadata": {
        "id": "4bH43FK4OkRO"
      },
      "id": "4bH43FK4OkRO",
      "execution_count": 51,
      "outputs": []
    },
    {
      "cell_type": "code",
      "source": [
        "print(len(timelines))"
      ],
      "metadata": {
        "id": "NZRx_lcKcNJZ",
        "outputId": "9f93c940-668f-420d-9d39-0167b91e5599",
        "colab": {
          "base_uri": "https://localhost:8080/"
        }
      },
      "id": "NZRx_lcKcNJZ",
      "execution_count": 52,
      "outputs": [
        {
          "output_type": "stream",
          "name": "stdout",
          "text": [
            "586\n"
          ]
        }
      ]
    },
    {
      "cell_type": "code",
      "source": [
        "# --- Dataset producing (X, y, mask) per sequence ---\n",
        "STANCE2ID = {\"neutral\": 0, \"left-leaning\": 1, \"right-leaning\": 2}\n",
        "NEUTRAL_ID = 0\n",
        "\n",
        "def to_fixed_len(ids, T=128):\n",
        "    ids = ids[-T:]\n",
        "    if len(ids) < T:\n",
        "        ids = [NEUTRAL_ID]*(T-len(ids)) + ids\n",
        "    return np.array(ids, dtype=np.int64)\n",
        "\n",
        "class SeqTokDataset(Dataset):\n",
        "    def __init__(self, timelines, T=128):\n",
        "        X_list, Y_list, M_list = [], [], []\n",
        "        for _, topics in timelines.items():\n",
        "            for _, stance_dict in topics.items():\n",
        "                ids = [STANCE2ID[s] for s in stance_dict.values() if s in STANCE2ID]\n",
        "                if len(ids) < 2:\n",
        "                    continue\n",
        "                ids = to_fixed_len(ids, T)     # (T,)\n",
        "\n",
        "                y = np.zeros(T, dtype=np.float32)\n",
        "                m = np.zeros(T, dtype=np.float32)\n",
        "                for t in range(1, T):\n",
        "                    prev_id, cur_id = ids[t-1], ids[t]\n",
        "                    y[t] = 1.0 if cur_id != prev_id else 0.0\n",
        "                    # Mask out transitions touching neutral (training focus on left<->right)\n",
        "                    m[t] = 0.0 if (prev_id == NEUTRAL_ID or cur_id == NEUTRAL_ID) else 1.0\n",
        "                # y[0]=0, m[0]=0 by definition\n",
        "\n",
        "                X_list.append(ids); Y_list.append(y); M_list.append(m)\n",
        "\n",
        "        self.X = torch.tensor(np.stack(X_list), dtype=torch.long)      # (N, T)\n",
        "        self.y = torch.tensor(np.stack(Y_list), dtype=torch.float32)   # (N, T)\n",
        "        self.m = torch.tensor(np.stack(M_list), dtype=torch.float32)   # (N, T)\n",
        "\n",
        "    def __len__(self):  return len(self.X)\n",
        "    def __getitem__(self, i):  return self.X[i], self.y[i], self.m[i]"
      ],
      "metadata": {
        "id": "ElcMmqZU77wC"
      },
      "id": "ElcMmqZU77wC",
      "execution_count": 72,
      "outputs": []
    },
    {
      "cell_type": "code",
      "source": [
        "# --- 2. Define LSTM model ---\n",
        "import torch\n",
        "import torch.nn as nn\n",
        "\n",
        "class LSTMChangeTagger(nn.Module):\n",
        "    def __init__(self, vocab_size=3, emb_dim=16, hidden_dim=64, num_layers=1):\n",
        "        super().__init__()\n",
        "        self.emb  = nn.Embedding(vocab_size, emb_dim)\n",
        "        self.lstm = nn.LSTM(emb_dim, hidden_dim, num_layers, batch_first=True)\n",
        "        self.fc   = nn.Linear(hidden_dim, 1)  # one logit per timestep\n",
        "\n",
        "    def forward(self, x_ids):                # (B, T)\n",
        "        x = self.emb(x_ids)                  # (B, T, E)\n",
        "        out, _ = self.lstm(x)                # (B, T, H)\n",
        "        logits = self.fc(out).squeeze(-1)    # (B, T)\n",
        "        return logits"
      ],
      "metadata": {
        "id": "cOUnutYaZo2B"
      },
      "id": "cOUnutYaZo2B",
      "execution_count": 73,
      "outputs": []
    },
    {
      "cell_type": "code",
      "source": [
        "# --- 3. Training setup ---\n",
        "model = LSTMChangeTagger(vocab_size=3, emb_dim=16, hidden_dim=64, num_layers=1)\n",
        "# Optional (see note 3 below): handle imbalance so positives matter more\n",
        "pos_weight = torch.tensor([4.0])  # tweak later; 3–10 is common\n",
        "bce = nn.BCEWithLogitsLoss(reduction=\"none\", pos_weight=pos_weight)\n",
        "# criterion = nn.CrossEntropyLoss()\n",
        "opt = torch.optim.AdamW(model.parameters(), lr=3e-4, weight_decay=1e-2)"
      ],
      "metadata": {
        "id": "QKtIR7md8aib"
      },
      "id": "QKtIR7md8aib",
      "execution_count": 74,
      "outputs": []
    },
    {
      "cell_type": "code",
      "source": [
        "# --- 4. Training loop ---\n",
        "# timelines = { user: { topic: OrderedDict(utt_id->\"neutral\"/\"left\"/\"right\"), ... }, ... }\n",
        "\n",
        "ds = SeqTokDataset(timelines, T=128)\n",
        "loader = DataLoader(ds, batch_size=32, shuffle=True)\n",
        "\n",
        "epochs = 8\n",
        "epoch_losses = []\n",
        "for epoch in range(epochs):\n",
        "    model.train()\n",
        "    running = 0.0\n",
        "    steps = 0\n",
        "    for xb, yb, mb in loader:             # xb:(B,T), yb:(B,T), mb:(B,T)\n",
        "        opt.zero_grad()\n",
        "        logits = model(xb)                 # (B,T)\n",
        "        loss_mat = bce(logits, yb)         # (B,T)\n",
        "        loss = (loss_mat * mb).sum() / (mb.sum().clamp_min(1.0))\n",
        "        loss.backward()\n",
        "        nn.utils.clip_grad_norm_(model.parameters(), 1.0)\n",
        "        opt.step()\n",
        "        running += float(loss.item())      # <- update running\n",
        "        steps += 1\n",
        "    avg = running / max(steps, 1)\n",
        "    epoch_losses.append(avg)\n",
        "    print(f\"epoch {epoch+1}/{epochs}  loss {avg:.4f}\")"
      ],
      "metadata": {
        "colab": {
          "base_uri": "https://localhost:8080/",
          "height": 443
        },
        "id": "IF5Cw9sbY_mC",
        "outputId": "054dcd55-54c7-4675-95ad-b247f39c7c22"
      },
      "id": "IF5Cw9sbY_mC",
      "execution_count": 75,
      "outputs": [
        {
          "output_type": "stream",
          "name": "stdout",
          "text": [
            "epoch 1/8  loss 1.1712\n",
            "epoch 2/8  loss 1.0917\n"
          ]
        },
        {
          "output_type": "error",
          "ename": "KeyboardInterrupt",
          "evalue": "",
          "traceback": [
            "\u001b[0;31m---------------------------------------------------------------------------\u001b[0m",
            "\u001b[0;31mKeyboardInterrupt\u001b[0m                         Traceback (most recent call last)",
            "\u001b[0;32m/tmp/ipython-input-609048023.py\u001b[0m in \u001b[0;36m<cell line: 0>\u001b[0;34m()\u001b[0m\n\u001b[1;32m     16\u001b[0m         \u001b[0mloss_mat\u001b[0m \u001b[0;34m=\u001b[0m \u001b[0mbce\u001b[0m\u001b[0;34m(\u001b[0m\u001b[0mlogits\u001b[0m\u001b[0;34m,\u001b[0m \u001b[0myb\u001b[0m\u001b[0;34m)\u001b[0m         \u001b[0;31m# (B,T)\u001b[0m\u001b[0;34m\u001b[0m\u001b[0;34m\u001b[0m\u001b[0m\n\u001b[1;32m     17\u001b[0m         \u001b[0mloss\u001b[0m \u001b[0;34m=\u001b[0m \u001b[0;34m(\u001b[0m\u001b[0mloss_mat\u001b[0m \u001b[0;34m*\u001b[0m \u001b[0mmb\u001b[0m\u001b[0;34m)\u001b[0m\u001b[0;34m.\u001b[0m\u001b[0msum\u001b[0m\u001b[0;34m(\u001b[0m\u001b[0;34m)\u001b[0m \u001b[0;34m/\u001b[0m \u001b[0;34m(\u001b[0m\u001b[0mmb\u001b[0m\u001b[0;34m.\u001b[0m\u001b[0msum\u001b[0m\u001b[0;34m(\u001b[0m\u001b[0;34m)\u001b[0m\u001b[0;34m.\u001b[0m\u001b[0mclamp_min\u001b[0m\u001b[0;34m(\u001b[0m\u001b[0;36m1.0\u001b[0m\u001b[0;34m)\u001b[0m\u001b[0;34m)\u001b[0m\u001b[0;34m\u001b[0m\u001b[0;34m\u001b[0m\u001b[0m\n\u001b[0;32m---> 18\u001b[0;31m         \u001b[0mloss\u001b[0m\u001b[0;34m.\u001b[0m\u001b[0mbackward\u001b[0m\u001b[0;34m(\u001b[0m\u001b[0;34m)\u001b[0m\u001b[0;34m\u001b[0m\u001b[0;34m\u001b[0m\u001b[0m\n\u001b[0m\u001b[1;32m     19\u001b[0m         \u001b[0mnn\u001b[0m\u001b[0;34m.\u001b[0m\u001b[0mutils\u001b[0m\u001b[0;34m.\u001b[0m\u001b[0mclip_grad_norm_\u001b[0m\u001b[0;34m(\u001b[0m\u001b[0mmodel\u001b[0m\u001b[0;34m.\u001b[0m\u001b[0mparameters\u001b[0m\u001b[0;34m(\u001b[0m\u001b[0;34m)\u001b[0m\u001b[0;34m,\u001b[0m \u001b[0;36m1.0\u001b[0m\u001b[0;34m)\u001b[0m\u001b[0;34m\u001b[0m\u001b[0;34m\u001b[0m\u001b[0m\n\u001b[1;32m     20\u001b[0m         \u001b[0mopt\u001b[0m\u001b[0;34m.\u001b[0m\u001b[0mstep\u001b[0m\u001b[0;34m(\u001b[0m\u001b[0;34m)\u001b[0m\u001b[0;34m\u001b[0m\u001b[0;34m\u001b[0m\u001b[0m\n",
            "\u001b[0;32m/usr/local/lib/python3.11/dist-packages/torch/_tensor.py\u001b[0m in \u001b[0;36mbackward\u001b[0;34m(self, gradient, retain_graph, create_graph, inputs)\u001b[0m\n\u001b[1;32m    645\u001b[0m                 \u001b[0minputs\u001b[0m\u001b[0;34m=\u001b[0m\u001b[0minputs\u001b[0m\u001b[0;34m,\u001b[0m\u001b[0;34m\u001b[0m\u001b[0;34m\u001b[0m\u001b[0m\n\u001b[1;32m    646\u001b[0m             )\n\u001b[0;32m--> 647\u001b[0;31m         torch.autograd.backward(\n\u001b[0m\u001b[1;32m    648\u001b[0m             \u001b[0mself\u001b[0m\u001b[0;34m,\u001b[0m \u001b[0mgradient\u001b[0m\u001b[0;34m,\u001b[0m \u001b[0mretain_graph\u001b[0m\u001b[0;34m,\u001b[0m \u001b[0mcreate_graph\u001b[0m\u001b[0;34m,\u001b[0m \u001b[0minputs\u001b[0m\u001b[0;34m=\u001b[0m\u001b[0minputs\u001b[0m\u001b[0;34m\u001b[0m\u001b[0;34m\u001b[0m\u001b[0m\n\u001b[1;32m    649\u001b[0m         )\n",
            "\u001b[0;32m/usr/local/lib/python3.11/dist-packages/torch/autograd/__init__.py\u001b[0m in \u001b[0;36mbackward\u001b[0;34m(tensors, grad_tensors, retain_graph, create_graph, grad_variables, inputs)\u001b[0m\n\u001b[1;32m    352\u001b[0m     \u001b[0;31m# some Python versions print out the first line of a multi-line function\u001b[0m\u001b[0;34m\u001b[0m\u001b[0;34m\u001b[0m\u001b[0m\n\u001b[1;32m    353\u001b[0m     \u001b[0;31m# calls in the traceback and some print out the last line\u001b[0m\u001b[0;34m\u001b[0m\u001b[0;34m\u001b[0m\u001b[0m\n\u001b[0;32m--> 354\u001b[0;31m     _engine_run_backward(\n\u001b[0m\u001b[1;32m    355\u001b[0m         \u001b[0mtensors\u001b[0m\u001b[0;34m,\u001b[0m\u001b[0;34m\u001b[0m\u001b[0;34m\u001b[0m\u001b[0m\n\u001b[1;32m    356\u001b[0m         \u001b[0mgrad_tensors_\u001b[0m\u001b[0;34m,\u001b[0m\u001b[0;34m\u001b[0m\u001b[0;34m\u001b[0m\u001b[0m\n",
            "\u001b[0;32m/usr/local/lib/python3.11/dist-packages/torch/autograd/graph.py\u001b[0m in \u001b[0;36m_engine_run_backward\u001b[0;34m(t_outputs, *args, **kwargs)\u001b[0m\n\u001b[1;32m    827\u001b[0m         \u001b[0munregister_hooks\u001b[0m \u001b[0;34m=\u001b[0m \u001b[0m_register_logging_hooks_on_whole_graph\u001b[0m\u001b[0;34m(\u001b[0m\u001b[0mt_outputs\u001b[0m\u001b[0;34m)\u001b[0m\u001b[0;34m\u001b[0m\u001b[0;34m\u001b[0m\u001b[0m\n\u001b[1;32m    828\u001b[0m     \u001b[0;32mtry\u001b[0m\u001b[0;34m:\u001b[0m\u001b[0;34m\u001b[0m\u001b[0;34m\u001b[0m\u001b[0m\n\u001b[0;32m--> 829\u001b[0;31m         return Variable._execution_engine.run_backward(  # Calls into the C++ engine to run the backward pass\n\u001b[0m\u001b[1;32m    830\u001b[0m             \u001b[0mt_outputs\u001b[0m\u001b[0;34m,\u001b[0m \u001b[0;34m*\u001b[0m\u001b[0margs\u001b[0m\u001b[0;34m,\u001b[0m \u001b[0;34m**\u001b[0m\u001b[0mkwargs\u001b[0m\u001b[0;34m\u001b[0m\u001b[0;34m\u001b[0m\u001b[0m\n\u001b[1;32m    831\u001b[0m         )  # Calls into the C++ engine to run the backward pass\n",
            "\u001b[0;31mKeyboardInterrupt\u001b[0m: "
          ]
        }
      ]
    },
    {
      "cell_type": "code",
      "source": [
        "import matplotlib.pyplot as plt\n",
        "plt.figure()\n",
        "plt.plot(epoch_losses, marker='o')\n",
        "plt.xlabel('Epoch')\n",
        "plt.ylabel('Training loss')\n",
        "plt.title('LSTM sequence-level loss')\n",
        "plt.show()"
      ],
      "metadata": {
        "id": "FTt4YzQ8YJuT",
        "outputId": "c9bf2812-bea1-44f8-f38f-7b8ecd91b3d2",
        "colab": {
          "base_uri": "https://localhost:8080/",
          "height": 472
        }
      },
      "id": "FTt4YzQ8YJuT",
      "execution_count": 76,
      "outputs": [
        {
          "output_type": "display_data",
          "data": {
            "text/plain": [
              "<Figure size 640x480 with 1 Axes>"
            ],
            "image/png": "[encoded data removed]"
          },
          "metadata": {}
        }
      ]
    },
    {
      "cell_type": "code",
      "source": [
        "import torch.nn.functional as F\n",
        "\n",
        "model.eval()\n",
        "with torch.no_grad():\n",
        "    xb, yb = next(iter(loader))        # one batch\n",
        "    logits = model(xb)                 # (B,2)\n",
        "    probs  = F.softmax(logits, dim=-1) # (B,2)\n",
        "    preds  = probs.argmax(dim=-1)      # (B,)\n",
        "\n",
        "    print(\"Logits[0]:\", logits[0].tolist())\n",
        "    print(\"Probs[0]: \", probs[0].tolist())\n",
        "    print(\"Pred[0] vs gold:\", int(preds[0]), int(yb[0]))"
      ],
      "metadata": {
        "colab": {
          "base_uri": "https://localhost:8080/",
          "height": 211
        },
        "id": "djoe34jpcwTR",
        "outputId": "16a245f3-78ad-45ac-92a0-0e8b89eeed2d"
      },
      "id": "djoe34jpcwTR",
      "execution_count": 77,
      "outputs": [
        {
          "output_type": "error",
          "ename": "ValueError",
          "evalue": "too many values to unpack (expected 2)",
          "traceback": [
            "\u001b[0;31m---------------------------------------------------------------------------\u001b[0m",
            "\u001b[0;31mValueError\u001b[0m                                Traceback (most recent call last)",
            "\u001b[0;32m/tmp/ipython-input-24868391.py\u001b[0m in \u001b[0;36m<cell line: 0>\u001b[0;34m()\u001b[0m\n\u001b[1;32m      3\u001b[0m \u001b[0mmodel\u001b[0m\u001b[0;34m.\u001b[0m\u001b[0meval\u001b[0m\u001b[0;34m(\u001b[0m\u001b[0;34m)\u001b[0m\u001b[0;34m\u001b[0m\u001b[0;34m\u001b[0m\u001b[0m\n\u001b[1;32m      4\u001b[0m \u001b[0;32mwith\u001b[0m \u001b[0mtorch\u001b[0m\u001b[0;34m.\u001b[0m\u001b[0mno_grad\u001b[0m\u001b[0;34m(\u001b[0m\u001b[0;34m)\u001b[0m\u001b[0;34m:\u001b[0m\u001b[0;34m\u001b[0m\u001b[0;34m\u001b[0m\u001b[0m\n\u001b[0;32m----> 5\u001b[0;31m     \u001b[0mxb\u001b[0m\u001b[0;34m,\u001b[0m \u001b[0myb\u001b[0m \u001b[0;34m=\u001b[0m \u001b[0mnext\u001b[0m\u001b[0;34m(\u001b[0m\u001b[0miter\u001b[0m\u001b[0;34m(\u001b[0m\u001b[0mloader\u001b[0m\u001b[0;34m)\u001b[0m\u001b[0;34m)\u001b[0m        \u001b[0;31m# one batch\u001b[0m\u001b[0;34m\u001b[0m\u001b[0;34m\u001b[0m\u001b[0m\n\u001b[0m\u001b[1;32m      6\u001b[0m     \u001b[0mlogits\u001b[0m \u001b[0;34m=\u001b[0m \u001b[0mmodel\u001b[0m\u001b[0;34m(\u001b[0m\u001b[0mxb\u001b[0m\u001b[0;34m)\u001b[0m                 \u001b[0;31m# (B,2)\u001b[0m\u001b[0;34m\u001b[0m\u001b[0;34m\u001b[0m\u001b[0m\n\u001b[1;32m      7\u001b[0m     \u001b[0mprobs\u001b[0m  \u001b[0;34m=\u001b[0m \u001b[0mF\u001b[0m\u001b[0;34m.\u001b[0m\u001b[0msoftmax\u001b[0m\u001b[0;34m(\u001b[0m\u001b[0mlogits\u001b[0m\u001b[0;34m,\u001b[0m \u001b[0mdim\u001b[0m\u001b[0;34m=\u001b[0m\u001b[0;34m-\u001b[0m\u001b[0;36m1\u001b[0m\u001b[0;34m)\u001b[0m \u001b[0;31m# (B,2)\u001b[0m\u001b[0;34m\u001b[0m\u001b[0;34m\u001b[0m\u001b[0m\n",
            "\u001b[0;31mValueError\u001b[0m: too many values to unpack (expected 2)"
          ]
        }
      ]
    },
    {
      "cell_type": "code",
      "source": [
        "model.eval()\n",
        "with torch.no_grad():\n",
        "    xb, yb, mb = next(iter(loader))\n",
        "    logits = model(xb)                     # (B,T)\n",
        "    probs  = torch.sigmoid(logits)         # (B,T)\n",
        "\n",
        "b = 0\n",
        "p = probs[b].cpu().numpy()\n",
        "m = mb[b].cpu().numpy()\n",
        "pred = decode_change_points(p, m, thresh=0.6, smooth_w=3, min_gap=3)\n",
        "truth = np.where((yb[b].cpu().numpy() > 0.5) & (m > 0.5))[0].tolist()\n",
        "\n",
        "print(\"Predicted change indices:\", pred)\n",
        "print(\"True change indices     :\", truth[:20], \"...\")  # sample\n",
        "print(\"First 30 probs:\", np.round(p[:30], 2).tolist())"
      ],
      "metadata": {
        "colab": {
          "base_uri": "https://localhost:8080/",
          "height": 211
        },
        "id": "F75vyfA7c0Ku",
        "outputId": "4c3c98e6-e534-4ffe-c380-88d33bf7e8d7"
      },
      "id": "F75vyfA7c0Ku",
      "execution_count": 69,
      "outputs": [
        {
          "output_type": "error",
          "ename": "ValueError",
          "evalue": "not enough values to unpack (expected 3, got 2)",
          "traceback": [
            "\u001b[0;31m---------------------------------------------------------------------------\u001b[0m",
            "\u001b[0;31mValueError\u001b[0m                                Traceback (most recent call last)",
            "\u001b[0;32m/tmp/ipython-input-1837078490.py\u001b[0m in \u001b[0;36m<cell line: 0>\u001b[0;34m()\u001b[0m\n\u001b[1;32m      1\u001b[0m \u001b[0mmodel\u001b[0m\u001b[0;34m.\u001b[0m\u001b[0meval\u001b[0m\u001b[0;34m(\u001b[0m\u001b[0;34m)\u001b[0m\u001b[0;34m\u001b[0m\u001b[0;34m\u001b[0m\u001b[0m\n\u001b[1;32m      2\u001b[0m \u001b[0;32mwith\u001b[0m \u001b[0mtorch\u001b[0m\u001b[0;34m.\u001b[0m\u001b[0mno_grad\u001b[0m\u001b[0;34m(\u001b[0m\u001b[0;34m)\u001b[0m\u001b[0;34m:\u001b[0m\u001b[0;34m\u001b[0m\u001b[0;34m\u001b[0m\u001b[0m\n\u001b[0;32m----> 3\u001b[0;31m     \u001b[0mxb\u001b[0m\u001b[0;34m,\u001b[0m \u001b[0myb\u001b[0m\u001b[0;34m,\u001b[0m \u001b[0mmb\u001b[0m \u001b[0;34m=\u001b[0m \u001b[0mnext\u001b[0m\u001b[0;34m(\u001b[0m\u001b[0miter\u001b[0m\u001b[0;34m(\u001b[0m\u001b[0mloader\u001b[0m\u001b[0;34m)\u001b[0m\u001b[0;34m)\u001b[0m\u001b[0;34m\u001b[0m\u001b[0;34m\u001b[0m\u001b[0m\n\u001b[0m\u001b[1;32m      4\u001b[0m     \u001b[0mlogits\u001b[0m \u001b[0;34m=\u001b[0m \u001b[0mmodel\u001b[0m\u001b[0;34m(\u001b[0m\u001b[0mxb\u001b[0m\u001b[0;34m)\u001b[0m                     \u001b[0;31m# (B,T)\u001b[0m\u001b[0;34m\u001b[0m\u001b[0;34m\u001b[0m\u001b[0m\n\u001b[1;32m      5\u001b[0m     \u001b[0mprobs\u001b[0m  \u001b[0;34m=\u001b[0m \u001b[0mtorch\u001b[0m\u001b[0;34m.\u001b[0m\u001b[0msigmoid\u001b[0m\u001b[0;34m(\u001b[0m\u001b[0mlogits\u001b[0m\u001b[0;34m)\u001b[0m         \u001b[0;31m# (B,T)\u001b[0m\u001b[0;34m\u001b[0m\u001b[0;34m\u001b[0m\u001b[0m\n",
            "\u001b[0;31mValueError\u001b[0m: not enough values to unpack (expected 3, got 2)"
          ]
        }
      ]
    },
    {
      "cell_type": "code",
      "source": [
        "# RUN AFTER TRAINING. THIS GIVES YOU PRED:\n",
        "\n",
        "# 1) Grab one batch and get per-timestep probabilities\n",
        "model.eval()\n",
        "with torch.no_grad():\n",
        "    xb, yb, mb = next(iter(loader))      # xb:(B,T), yb:(B,T), mb:(B,T)\n",
        "    logits = model(xb)                   # (B,T)\n",
        "    probs  = torch.sigmoid(logits)       # (B,T)\n",
        "\n",
        "# 2) Pick a sequence in the batch, decode to change indices\n",
        "b = 0\n",
        "p = probs[b].cpu().numpy()\n",
        "m = mb[b].cpu().numpy()\n",
        "pred  = decode_change_points(p, m, thresh=0.6, smooth_w=3, min_gap=3)\n",
        "\n",
        "# 3) Get the ground truth change indices (masked)\n",
        "truth = np.where((yb[b].cpu().numpy() > 0.5) & (m > 0.5))[0].tolist()\n",
        "\n",
        "# 4) Now evaluate with tolerance\n",
        "prec, rec, f1 = match_with_tolerance(pred, truth, tol=2)\n",
        "print(\"Predicted change indices:\", pred)\n",
        "print(\"True change indices     :\", truth)\n",
        "print(f\"(±2)  Precision={prec:.3f}  Recall={rec:.3f}  F1={f1:.3f}\")"
      ],
      "metadata": {
        "id": "LQyl1uz2Jcjs"
      },
      "id": "LQyl1uz2Jcjs",
      "execution_count": null,
      "outputs": []
    },
    {
      "cell_type": "markdown",
      "source": [
        "If you want to evaluate over all sequences, loop over the DataLoader, collect pred/truth per sequence, and average metrics.^^^^ (WHAT DOES THAT MEAN?)"
      ],
      "metadata": {
        "id": "tsNG9qnaUahB"
      },
      "id": "tsNG9qnaUahB"
    }
  ],
  "metadata": {
    "colab": {
      "provenance": [],
      "machine_shape": "hm"
    },
    "language_info": {
      "name": "python"
    },
    "kernelspec": {
      "name": "python3",
      "display_name": "Python 3"
    }
  },
  "nbformat": 4,
  "nbformat_minor": 5
}