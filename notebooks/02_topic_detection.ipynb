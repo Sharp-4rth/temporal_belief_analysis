{
  "cells": [
    {
      "metadata": {
        "id": "8ecfca0265e767d"
      },
      "cell_type": "code",
      "outputs": [],
      "execution_count": null,
      "source": [
        "!git clone https://github.com/Sharp-4rth/temporal_belief_analysis.git\n",
        "!pip install convokit\n",
        "import unsloth\n",
        "import unsloth_zoo\n",
        "from convokit import Corpus, download\n",
        "import convokit\n",
        "\n",
        "corpus = Corpus(filename=download(\"subreddit-PoliticalDiscussion\"))"
      ],
      "id": "8ecfca0265e767d"
    },
    {
      "cell_type": "code",
      "source": [
        "\"\"\"Topic detection functionality for conversation analysis.\"\"\"\n",
        "\n",
        "from typing import List, Dict, Any, Optional\n",
        "import logging\n",
        "from tqdm import tqdm\n",
        "\n",
        "from temporal_belief_analysis.src.temporal_belief.models.bart_classifier import BARTZeroShotClassifier\n",
        "from temporal_belief_analysis.src.temporal_belief.utils.config import POLITICAL_TOPICS, ProjectConfig\n",
        "\n",
        "logger = logging.getLogger(__name__)\n",
        "\n",
        "class TopicDetector:\n",
        "    \"\"\"Detect topics in ConvoKit conversations using BART.\"\"\"\n",
        "\n",
        "    def __init__(self, topics: Optional[List[str]] = None,\n",
        "                 config: ProjectConfig = None):\n",
        "        \"\"\"Initialize topic detector.\"\"\"\n",
        "        self.config = config or ProjectConfig()\n",
        "        self.classifier = BARTZeroShotClassifier(self.config.bart_model_name)\n",
        "        self.topics = topics or POLITICAL_TOPICS\n",
        "        logger.info(f\"Initialized topic detector with {len(self.topics)} topics\")\n",
        "\n",
        "    def detect_conversation_topic(self, conversation) -> Dict[str, Any]:\n",
        "        \"\"\"Detect topic for a single conversation.\"\"\"\n",
        "        utterances = list(conversation.iter_utterances())\n",
        "        if not utterances:\n",
        "            logger.warning(f\"No utterances found in conversation {conversation.id}\")\n",
        "            return {\"topic\": \"unknown\", \"confidence\": 0.0}\n",
        "\n",
        "        original_post = utterances[0].text\n",
        "        result = self.classifier.classify_text(original_post, self.topics)\n",
        "\n",
        "        # Clean up the result\n",
        "        # clean_topic = result[\"label\"].replace(\" policy\", \"\")\n",
        "\n",
        "        return {\n",
        "            \"topic\": result[\"label\"],\n",
        "            \"confidence\": result[\"confidence\"],\n",
        "            \"all_scores\": result[\"all_scores\"],\n",
        "            \"text_length\": len(original_post),\n",
        "            \"num_utterances\": len(utterances)\n",
        "        }\n",
        "\n",
        "    def process_corpus(self, corpus, batch_size: int = 50,\n",
        "                       save_path: Optional[str] = None) -> None:\n",
        "        \"\"\"Process entire corpus for topic detection.\"\"\"\n",
        "        conversations = list(corpus.iter_conversations())\n",
        "        logger.info(f\"Processing {len(conversations)} conversations for topic detection\")\n",
        "\n",
        "        # Progress bar library:\n",
        "        for i in tqdm(range(0, len(conversations), batch_size),\n",
        "                      desc=\"Processing conversations\"):\n",
        "            batch = conversations[i:i + batch_size]\n",
        "\n",
        "            for conv in batch:\n",
        "                try:\n",
        "                    topic_result = self.detect_conversation_topic(conv)\n",
        "\n",
        "                    # Add to conversation metadata\n",
        "                    conv.add_meta(\"detected_topic\", topic_result[\"topic\"])\n",
        "                    conv.add_meta(\"topic_confidence\", topic_result[\"confidence\"])\n",
        "                    conv.add_meta(\"topic_scores\", topic_result[\"all_scores\"])\n",
        "\n",
        "                except Exception as e:\n",
        "                    logger.error(f\"Failed to process conversation {conv.id}: {e}\")\n",
        "                    conv.add_meta(\"detected_topic\", \"unknown\")\n",
        "                    conv.add_meta(\"topic_confidence\", 0.0)\n",
        "\n",
        "        if save_path:\n",
        "            corpus.dump(save_path)\n",
        "            logger.info(f\"Saved processed corpus to {save_path}\")\n",
        "\n",
        "        logger.info(\"Topic detection processing complete\")"
      ],
      "metadata": {
        "id": "vPF-AwIWUxJe"
      },
      "id": "vPF-AwIWUxJe",
      "execution_count": 11,
      "outputs": []
    },
    {
      "cell_type": "code",
      "source": [
        "convo = corpus.random_conversation()\n",
        "utterances = list(convo.iter_utterances())\n",
        "og_post = utterances[0].text\n",
        "print(f\"OG post:{og_post}\")\n",
        "print(f\"title: {convo.meta['title']}\")\n"
      ],
      "metadata": {
        "id": "2qVP4iv96ywR",
        "outputId": "6d720635-e1dd-417d-a4b0-c4eb72a21d2d",
        "colab": {
          "base_uri": "https://localhost:8080/"
        }
      },
      "id": "2qVP4iv96ywR",
      "execution_count": 42,
      "outputs": [
        {
          "output_type": "stream",
          "name": "stdout",
          "text": [
            "OG post:**pheww**, glad it's all finally over!\n",
            "\n",
            "I think that this election shows atleast some significant insight as to the disparity of what (or who) **AMERICA** has been defined by in the past versus what it's starting to be difined as.\n",
            "\n",
            "Bill O'Reily said America's becoming less \"traditional\"--by traditional he means less defined by **White testosterone**--what other tradition was there in this country? when we look back we only see racism, de facto segregation, esoterism, and manifest destiny, **that's \"tradition!\"**\n",
            "\n",
            "They say the majority who voted for Romney were male, were 72% white and mostly over the age of 40. Obama's were mostly women, were 93% black people, some 27% white and some 70% Hispanic, minority turn out is growing in general.\n",
            "\n",
            "Judging by the victory Obama had over Romney, and the eclectic nature of his constituency, it's safe to say more people want a say in what the definition of **American** means, a **certain group of elitist individules aren't taking a liking to that fact!** I can smell it in the air\n",
            "\n",
            "EDIT: grammer, Facts\n",
            "title: How The 2012 Election May Redefine What \"AMERICAN\" Means\n"
          ]
        }
      ]
    },
    {
      "cell_type": "code",
      "source": [
        "topic_detector = TopicDetector()\n",
        "i = 0\n",
        "convos = list(corpus.iter_conversations())\n",
        "for i in range(3):\n",
        "  title = convos[i].meta['title']\n",
        "  print(f\"Title: {title}\")\n",
        "  topic_detector.detect_conversation_topic(title)\n",
        "  i += 1"
      ],
      "metadata": {
        "colab": {
          "base_uri": "https://localhost:8080/",
          "height": 349
        },
        "id": "1O_2ag5g3eCm",
        "outputId": "4277bbe1-1c1a-4d48-a5de-209fee1ee115"
      },
      "id": "1O_2ag5g3eCm",
      "execution_count": 43,
      "outputs": [
        {
          "output_type": "stream",
          "name": "stderr",
          "text": [
            "Device set to use cuda:0\n"
          ]
        },
        {
          "output_type": "stream",
          "name": "stdout",
          "text": [
            "Title: If Austrian economics is so wonderful, why don't the Austrians use it?\n"
          ]
        },
        {
          "output_type": "error",
          "ename": "AttributeError",
          "evalue": "'str' object has no attribute 'iter_utterances'",
          "traceback": [
            "\u001b[0;31m---------------------------------------------------------------------------\u001b[0m",
            "\u001b[0;31mAttributeError\u001b[0m                            Traceback (most recent call last)",
            "\u001b[0;32m/tmp/ipython-input-43-2758218136.py\u001b[0m in \u001b[0;36m<cell line: 0>\u001b[0;34m()\u001b[0m\n\u001b[1;32m      5\u001b[0m   \u001b[0mtitle\u001b[0m \u001b[0;34m=\u001b[0m \u001b[0mconvos\u001b[0m\u001b[0;34m[\u001b[0m\u001b[0mi\u001b[0m\u001b[0;34m]\u001b[0m\u001b[0;34m.\u001b[0m\u001b[0mmeta\u001b[0m\u001b[0;34m[\u001b[0m\u001b[0;34m'title'\u001b[0m\u001b[0;34m]\u001b[0m\u001b[0;34m\u001b[0m\u001b[0;34m\u001b[0m\u001b[0m\n\u001b[1;32m      6\u001b[0m   \u001b[0mprint\u001b[0m\u001b[0;34m(\u001b[0m\u001b[0;34mf\"Title: {title}\"\u001b[0m\u001b[0;34m)\u001b[0m\u001b[0;34m\u001b[0m\u001b[0;34m\u001b[0m\u001b[0m\n\u001b[0;32m----> 7\u001b[0;31m   \u001b[0mtopic_detector\u001b[0m\u001b[0;34m.\u001b[0m\u001b[0mdetect_conversation_topic\u001b[0m\u001b[0;34m(\u001b[0m\u001b[0mtitle\u001b[0m\u001b[0;34m)\u001b[0m\u001b[0;34m\u001b[0m\u001b[0;34m\u001b[0m\u001b[0m\n\u001b[0m\u001b[1;32m      8\u001b[0m   \u001b[0mi\u001b[0m \u001b[0;34m+=\u001b[0m \u001b[0;36m1\u001b[0m\u001b[0;34m\u001b[0m\u001b[0;34m\u001b[0m\u001b[0m\n",
            "\u001b[0;32m/tmp/ipython-input-11-272998927.py\u001b[0m in \u001b[0;36mdetect_conversation_topic\u001b[0;34m(self, conversation)\u001b[0m\n\u001b[1;32m     23\u001b[0m     \u001b[0;32mdef\u001b[0m \u001b[0mdetect_conversation_topic\u001b[0m\u001b[0;34m(\u001b[0m\u001b[0mself\u001b[0m\u001b[0;34m,\u001b[0m \u001b[0mconversation\u001b[0m\u001b[0;34m)\u001b[0m \u001b[0;34m->\u001b[0m \u001b[0mDict\u001b[0m\u001b[0;34m[\u001b[0m\u001b[0mstr\u001b[0m\u001b[0;34m,\u001b[0m \u001b[0mAny\u001b[0m\u001b[0;34m]\u001b[0m\u001b[0;34m:\u001b[0m\u001b[0;34m\u001b[0m\u001b[0;34m\u001b[0m\u001b[0m\n\u001b[1;32m     24\u001b[0m         \u001b[0;34m\"\"\"Detect topic for a single conversation.\"\"\"\u001b[0m\u001b[0;34m\u001b[0m\u001b[0;34m\u001b[0m\u001b[0m\n\u001b[0;32m---> 25\u001b[0;31m         \u001b[0mutterances\u001b[0m \u001b[0;34m=\u001b[0m \u001b[0mlist\u001b[0m\u001b[0;34m(\u001b[0m\u001b[0mconversation\u001b[0m\u001b[0;34m.\u001b[0m\u001b[0miter_utterances\u001b[0m\u001b[0;34m(\u001b[0m\u001b[0;34m)\u001b[0m\u001b[0;34m)\u001b[0m\u001b[0;34m\u001b[0m\u001b[0;34m\u001b[0m\u001b[0m\n\u001b[0m\u001b[1;32m     26\u001b[0m         \u001b[0;32mif\u001b[0m \u001b[0;32mnot\u001b[0m \u001b[0mutterances\u001b[0m\u001b[0;34m:\u001b[0m\u001b[0;34m\u001b[0m\u001b[0;34m\u001b[0m\u001b[0m\n\u001b[1;32m     27\u001b[0m             \u001b[0mlogger\u001b[0m\u001b[0;34m.\u001b[0m\u001b[0mwarning\u001b[0m\u001b[0;34m(\u001b[0m\u001b[0;34mf\"No utterances found in conversation {conversation.id}\"\u001b[0m\u001b[0;34m)\u001b[0m\u001b[0;34m\u001b[0m\u001b[0;34m\u001b[0m\u001b[0m\n",
            "\u001b[0;31mAttributeError\u001b[0m: 'str' object has no attribute 'iter_utterances'"
          ]
        }
      ]
    },
    {
      "cell_type": "code",
      "source": [],
      "metadata": {
        "id": "cJRI8wsq-kH7"
      },
      "id": "cJRI8wsq-kH7",
      "execution_count": 35,
      "outputs": []
    }
  ],
  "metadata": {
    "kernelspec": {
      "display_name": "Python 3",
      "name": "python3"
    },
    "language_info": {
      "codemirror_mode": {
        "name": "ipython",
        "version": 2
      },
      "file_extension": ".py",
      "mimetype": "text/x-python",
      "name": "python",
      "nbconvert_exporter": "python",
      "pygments_lexer": "ipython2",
      "version": "2.7.6"
    },
    "colab": {
      "provenance": [],
      "machine_shape": "hm",
      "gpuType": "T4"
    },
    "accelerator": "GPU"
  },
  "nbformat": 4,
  "nbformat_minor": 5
}