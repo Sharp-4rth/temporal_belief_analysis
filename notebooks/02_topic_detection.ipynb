{
 "cells": [
  {
   "cell_type": "code",
   "execution_count": null,
   "id": "68dc7c77-ce3e-42a6-881c-b745a7baf722",
   "metadata": {},
   "outputs": [],
   "source": [
    "# !git clone https://github.com/Sharp-4rth/temporal_belief_analysis.git"
   ]
  },
  {
   "cell_type": "code",
   "execution_count": null,
   "id": "EH8DdCK0Or0F",
   "metadata": {
    "collapsed": true,
    "id": "EH8DdCK0Or0F",
    "jupyter": {
     "outputs_hidden": true
    }
   },
   "outputs": [],
   "source": [
    "# For colab:\n",
    "from google.colab import drive\n",
    "drive.mount('/content/drive')"
   ]
  },
  {
   "cell_type": "code",
   "execution_count": 2,
   "id": "ecbdb0ca-91d4-4a79-bb7e-107fbba420be",
   "metadata": {},
   "outputs": [],
   "source": [
    "import sys\n",
    "import os\n",
    "\n",
    "# Absolute path to src directory\n",
    "src_path = os.path.abspath(os.path.join(os.getcwd(), '..', 'src'))\n",
    "if src_path not in sys.path:\n",
    "    sys.path.insert(0, src_path)"
   ]
  },
  {
   "cell_type": "code",
   "execution_count": null,
   "id": "klCvx9YUvKv6",
   "metadata": {
    "collapsed": true,
    "id": "klCvx9YUvKv6",
    "jupyter": {
     "outputs_hidden": true
    }
   },
   "outputs": [],
   "source": [
    "# Get latest version\n",
    "%cd temporal_belief_analysis\n",
    "!git pull"
   ]
  },
  {
   "cell_type": "code",
   "execution_count": null,
   "id": "8ecfca0265e767d",
   "metadata": {
    "id": "8ecfca0265e767d"
   },
   "outputs": [],
   "source": [
    "# For colab:\n",
    "!pip install convokit"
   ]
  },
  {
   "cell_type": "code",
   "execution_count": 4,
   "id": "9mcx9qMoUA68",
   "metadata": {
    "id": "9mcx9qMoUA68"
   },
   "outputs": [
    {
     "name": "stdout",
     "output_type": "stream",
     "text": [
      "Dataset already exists at /root/.convokit/saved-corpora/subreddit-PoliticalDiscussion\n"
     ]
    }
   ],
   "source": [
    "# For colab:\n",
    "import unsloth\n",
    "import unsloth_zoo\n",
    "from convokit import Corpus, download\n",
    "import convokit\n",
    "from temporal_belief.models.bart_classifier import BARTZeroShotClassifier\n",
    "from temporal_belief.utils.config import POLITICAL_TOPICS, ProjectConfig\n",
    "corpus = Corpus(filename=download(\"subreddit-PoliticalDiscussion\"))"
   ]
  },
  {
   "cell_type": "code",
   "execution_count": 5,
   "id": "8a3d1e33-a74a-4bcf-a1a8-c0c0a43b2e74",
   "metadata": {},
   "outputs": [
    {
     "name": "stdout",
     "output_type": "stream",
     "text": [
      "If we are talking about true AI, the company or country that creates it first sure as hell is not going to sell it. I'm a little confused why you think they would? That type of tech is a game changer and the first to create it is going to be the winner. This isn't a cell phone. War, business, investing, data interpretation, an intelligence that can make a better version of it self and give even better results... You have an advantage the rest of the world could only dream of.\n"
     ]
    }
   ],
   "source": [
    "# Check dataset was loaded:\n",
    "print(corpus.random_utterance().text)"
   ]
  },
  {
   "cell_type": "code",
   "execution_count": 21,
   "id": "8n26m1TaPh9b",
   "metadata": {
    "id": "8n26m1TaPh9b"
   },
   "outputs": [],
   "source": [
    "# For local:\n",
    "from src.temporal_belief.models.bart_classifier import BARTZeroShotClassifier\n",
    "from src.temporal_belief.utils.config import POLITICAL_TOPICS, ProjectConfig"
   ]
  },
  {
   "cell_type": "code",
   "execution_count": 36,
   "id": "vPF-AwIWUxJe",
   "metadata": {
    "id": "vPF-AwIWUxJe"
   },
   "outputs": [],
   "source": [
    "\"\"\"Topic detection functionality for conversation analysis.\"\"\"\n",
    "\n",
    "import logging\n",
    "from typing import List, Dict, Any, Optional\n",
    "from tqdm import tqdm\n",
    "\n",
    "logger = logging.getLogger(__name__)\n",
    "\n",
    "class TopicDetector:\n",
    "    \"\"\"Detect topics in ConvoKit conversations using BART.\"\"\"\n",
    "\n",
    "    def __init__(self, topics: Optional[List[str]] = None,\n",
    "                 config: ProjectConfig = None):\n",
    "        \"\"\"Initialize topic detector.\"\"\"\n",
    "        self.config = config or ProjectConfig()\n",
    "        self.classifier = BARTZeroShotClassifier(self.config.bart_model_name)\n",
    "        self.topics = topics or POLITICAL_TOPICS\n",
    "        logger.info(f\"Initialized topic detector with {len(self.topics)} topics\")\n",
    "\n",
    "    def detect_conversation_topic(self, conversation) -> Dict[str, Any]:\n",
    "        \"\"\"Detect topic for a single conversation.\"\"\"\n",
    "        utterances = list(conversation.iter_utterances())\n",
    "        \n",
    "        # Safe attribute access\n",
    "        title = conversation.meta.get('title', '')\n",
    "        \n",
    "        # Safe utterance handling\n",
    "        first_utterance = utterances[0] if utterances else None\n",
    "        original_post = first_utterance.text if first_utterance else ''\n",
    "        \n",
    "        if not original_post and not title:\n",
    "            logger.warning(f\"No utterances or title found in conversation {conversation.id}\")\n",
    "            return {\"topic\": \"unknown\", \"confidence\": 0.0}\n",
    "\n",
    "        # Truncate long texts to prevent memory issues\n",
    "        combined_text = f\"Title: {title}. Original Post: {original_post}\"[:2000]\n",
    "        result = self.classifier.classify_text(combined_text, self.topics)\n",
    "\n",
    "        return {\n",
    "            \"topic\": result[\"label\"],\n",
    "            \"confidence\": result[\"confidence\"],\n",
    "            \"all_scores\": result[\"all_scores\"],\n",
    "            \"text_length\": len(original_post),\n",
    "            \"num_utterances\": len(utterances)\n",
    "        }\n",
    "\n",
    "    def process_corpus(self, corpus, batch_size: int = 50,  # Balanced batch size\n",
    "                    save_path: Optional[str] = None) -> None:\n",
    "        \"\"\"Process entire corpus for topic detection.\"\"\"\n",
    "        conversations = list(corpus.iter_conversations())\n",
    "        logger.info(f\"Processing {len(conversations)} conversations for topic detection\")\n",
    "\n",
    "        for i in tqdm(range(0, len(conversations), batch_size),\n",
    "                      desc=\"Processing conversations\"):\n",
    "            batch = conversations[i:i + batch_size]\n",
    "\n",
    "            # Prepare all texts for batch processing\n",
    "            batch_texts = []\n",
    "            valid_conversations = []\n",
    "\n",
    "            for conv in batch:\n",
    "                try:\n",
    "                    # Safe attribute access\n",
    "                    title = conv.meta.get('title', '')\n",
    "                    utterances = list(conv.iter_utterances())\n",
    "                    \n",
    "                    # Safe utterance handling\n",
    "                    first_utterance = utterances[0] if utterances else None\n",
    "                    original_post = first_utterance.text if first_utterance else ''\n",
    "                    \n",
    "                    if not original_post and not title:\n",
    "                        logger.warning(f\"No utterances or title found in conversation {conv.id}\")\n",
    "                        # Set metadata for empty conversations\n",
    "                        conv.add_meta(\"detected_topic\", \"unknown\")\n",
    "                        conv.add_meta(\"topic_confidence\", 0.0)\n",
    "                        conv.add_meta(\"topic_scores\", {})\n",
    "                        continue\n",
    "\n",
    "                    # Truncate long texts\n",
    "                    combined_text = f\"{title}. {original_post}\"[:2000]\n",
    "                    batch_texts.append(combined_text)\n",
    "                    valid_conversations.append(conv)\n",
    "\n",
    "                except Exception as e:\n",
    "                    logger.error(f\"Failed to prepare conversation {conv.id}: {e}\")\n",
    "                    conv.add_meta(\"detected_topic\", \"unknown\")\n",
    "                    conv.add_meta(\"topic_confidence\", 0.0)\n",
    "                    conv.add_meta(\"topic_scores\", {})\n",
    "\n",
    "            # Process entire batch at once\n",
    "            if batch_texts:\n",
    "                try:\n",
    "                    print(f\"🚀 Attempting batch of {len(batch_texts)} texts...\")\n",
    "                    import time\n",
    "                    start = time.time()\n",
    "                    \n",
    "                    batch_results = self.classifier.classify_batch(batch_texts, self.topics)\n",
    "                    \n",
    "                    end = time.time()\n",
    "                    print(f\"✅ Batch completed in {end-start:.2f}s ({(end-start)/len(batch_texts):.3f}s per text)\")\n",
    "\n",
    "                    # Apply results back to conversations\n",
    "                    for conv, result in zip(valid_conversations, batch_results):\n",
    "                        conv.add_meta(\"detected_topic\", result[\"label\"])\n",
    "                        conv.add_meta(\"topic_confidence\", result[\"confidence\"])\n",
    "                        conv.add_meta(\"topic_scores\", result[\"all_scores\"])\n",
    "\n",
    "                except Exception as e:\n",
    "                    print(f\"❌ Batch processing failed: {e}\")\n",
    "                    logger.error(f\"Batch classification failed: {e}\")\n",
    "                    \n",
    "                    # Fallback to individual processing\n",
    "                    for conv in valid_conversations:\n",
    "                        try:\n",
    "                            topic_result = self.detect_conversation_topic(conv)\n",
    "                            conv.add_meta(\"detected_topic\", topic_result[\"topic\"])\n",
    "                            conv.add_meta(\"topic_confidence\", topic_result[\"confidence\"])\n",
    "                            conv.add_meta(\"topic_scores\", topic_result[\"all_scores\"])\n",
    "                        except Exception as e2:\n",
    "                            logger.error(f\"Individual fallback failed for {conv.id}: {e2}\")\n",
    "                            conv.add_meta(\"detected_topic\", \"unknown\")\n",
    "                            conv.add_meta(\"topic_confidence\", 0.0)\n",
    "                            conv.add_meta(\"topic_scores\", {})\n",
    "\n",
    "        if save_path:\n",
    "            corpus.dump(save_path)\n",
    "            logger.info(f\"Saved processed corpus to {save_path}\")\n",
    "\n",
    "        logger.info(\"Topic detection processing complete\")"
   ]
  },
  {
   "cell_type": "code",
   "execution_count": 7,
   "id": "T1ow8xBrcr1e",
   "metadata": {
    "id": "T1ow8xBrcr1e"
   },
   "outputs": [
    {
     "name": "stdout",
     "output_type": "stream",
     "text": [
      "Dataset already exists at /root/.convokit/saved-corpora/reddit-corpus-small\n"
     ]
    }
   ],
   "source": [
    "corpus_small = Corpus(filename=download(\"reddit-corpus-small\"))"
   ]
  },
  {
   "cell_type": "code",
   "execution_count": 37,
   "id": "K8oYk7YLM_oW",
   "metadata": {
    "id": "K8oYk7YLM_oW"
   },
   "outputs": [
    {
     "name": "stderr",
     "output_type": "stream",
     "text": [
      "Device set to use cuda:0\n",
      "Processing conversations:   0%|          | 0/2057 [00:00<?, ?it/s]"
     ]
    },
    {
     "name": "stdout",
     "output_type": "stream",
     "text": [
      "🚀 Attempting batch of 50 texts...\n"
     ]
    },
    {
     "name": "stderr",
     "output_type": "stream",
     "text": [
      "Processing conversations:   0%|          | 1/2057 [00:10<6:15:32, 10.96s/it]"
     ]
    },
    {
     "name": "stdout",
     "output_type": "stream",
     "text": [
      "✅ Batch completed in 10.96s (0.219s per text)\n",
      "🚀 Attempting batch of 50 texts...\n"
     ]
    },
    {
     "name": "stderr",
     "output_type": "stream",
     "text": [
      "Processing conversations:   0%|          | 2/2057 [00:21<6:14:18, 10.93s/it]"
     ]
    },
    {
     "name": "stdout",
     "output_type": "stream",
     "text": [
      "✅ Batch completed in 10.90s (0.218s per text)\n",
      "🚀 Attempting batch of 50 texts...\n"
     ]
    },
    {
     "name": "stderr",
     "output_type": "stream",
     "text": [
      "Processing conversations:   0%|          | 3/2057 [00:32<6:15:14, 10.96s/it]"
     ]
    },
    {
     "name": "stdout",
     "output_type": "stream",
     "text": [
      "✅ Batch completed in 10.99s (0.220s per text)\n",
      "🚀 Attempting batch of 50 texts...\n"
     ]
    },
    {
     "name": "stderr",
     "output_type": "stream",
     "text": [
      "Processing conversations:   0%|          | 4/2057 [00:44<6:18:25, 11.06s/it]"
     ]
    },
    {
     "name": "stdout",
     "output_type": "stream",
     "text": [
      "✅ Batch completed in 11.21s (0.224s per text)\n",
      "🚀 Attempting batch of 50 texts...\n"
     ]
    },
    {
     "name": "stderr",
     "output_type": "stream",
     "text": [
      "Processing conversations:   0%|          | 5/2057 [00:54<6:15:06, 10.97s/it]"
     ]
    },
    {
     "name": "stdout",
     "output_type": "stream",
     "text": [
      "✅ Batch completed in 10.80s (0.216s per text)\n",
      "🚀 Attempting batch of 50 texts...\n"
     ]
    },
    {
     "name": "stderr",
     "output_type": "stream",
     "text": [
      "Processing conversations:   0%|          | 6/2057 [01:05<6:13:22, 10.92s/it]"
     ]
    },
    {
     "name": "stdout",
     "output_type": "stream",
     "text": [
      "✅ Batch completed in 10.83s (0.217s per text)\n",
      "🚀 Attempting batch of 50 texts...\n"
     ]
    },
    {
     "name": "stderr",
     "output_type": "stream",
     "text": [
      "Processing conversations:   0%|          | 7/2057 [01:16<6:13:06, 10.92s/it]"
     ]
    },
    {
     "name": "stdout",
     "output_type": "stream",
     "text": [
      "✅ Batch completed in 10.91s (0.218s per text)\n",
      "🚀 Attempting batch of 50 texts...\n"
     ]
    },
    {
     "name": "stderr",
     "output_type": "stream",
     "text": [
      "Processing conversations:   0%|          | 8/2057 [01:27<6:09:25, 10.82s/it]"
     ]
    },
    {
     "name": "stdout",
     "output_type": "stream",
     "text": [
      "✅ Batch completed in 10.59s (0.212s per text)\n",
      "🚀 Attempting batch of 50 texts...\n"
     ]
    },
    {
     "name": "stderr",
     "output_type": "stream",
     "text": [
      "Processing conversations:   0%|          | 9/2057 [01:38<6:11:22, 10.88s/it]"
     ]
    },
    {
     "name": "stdout",
     "output_type": "stream",
     "text": [
      "✅ Batch completed in 11.01s (0.220s per text)\n",
      "🚀 Attempting batch of 50 texts...\n"
     ]
    },
    {
     "name": "stderr",
     "output_type": "stream",
     "text": [
      "Processing conversations:   0%|          | 10/2057 [01:49<6:16:49, 11.05s/it]"
     ]
    },
    {
     "name": "stdout",
     "output_type": "stream",
     "text": [
      "✅ Batch completed in 11.41s (0.228s per text)\n",
      "🚀 Attempting batch of 50 texts...\n"
     ]
    },
    {
     "name": "stderr",
     "output_type": "stream",
     "text": [
      "Processing conversations:   1%|          | 11/2057 [02:00<6:15:33, 11.01s/it]"
     ]
    },
    {
     "name": "stdout",
     "output_type": "stream",
     "text": [
      "✅ Batch completed in 10.93s (0.219s per text)\n",
      "🚀 Attempting batch of 50 texts...\n"
     ]
    },
    {
     "name": "stderr",
     "output_type": "stream",
     "text": [
      "Processing conversations:   1%|          | 12/2057 [02:11<6:13:54, 10.97s/it]"
     ]
    },
    {
     "name": "stdout",
     "output_type": "stream",
     "text": [
      "✅ Batch completed in 10.87s (0.217s per text)\n",
      "🚀 Attempting batch of 50 texts...\n"
     ]
    },
    {
     "name": "stderr",
     "output_type": "stream",
     "text": [
      "Processing conversations:   1%|          | 13/2057 [02:22<6:15:31, 11.02s/it]"
     ]
    },
    {
     "name": "stdout",
     "output_type": "stream",
     "text": [
      "✅ Batch completed in 11.14s (0.223s per text)\n",
      "🚀 Attempting batch of 50 texts...\n"
     ]
    },
    {
     "name": "stderr",
     "output_type": "stream",
     "text": [
      "Processing conversations:   1%|          | 14/2057 [02:34<6:19:17, 11.14s/it]"
     ]
    },
    {
     "name": "stdout",
     "output_type": "stream",
     "text": [
      "✅ Batch completed in 11.40s (0.228s per text)\n",
      "🚀 Attempting batch of 50 texts...\n"
     ]
    },
    {
     "name": "stderr",
     "output_type": "stream",
     "text": [
      "Processing conversations:   1%|          | 15/2057 [02:44<6:15:06, 11.02s/it]"
     ]
    },
    {
     "name": "stdout",
     "output_type": "stream",
     "text": [
      "✅ Batch completed in 10.74s (0.215s per text)\n",
      "🚀 Attempting batch of 50 texts...\n"
     ]
    },
    {
     "name": "stderr",
     "output_type": "stream",
     "text": [
      "Processing conversations:   1%|          | 16/2057 [02:55<6:11:18, 10.92s/it]"
     ]
    },
    {
     "name": "stdout",
     "output_type": "stream",
     "text": [
      "✅ Batch completed in 10.66s (0.213s per text)\n",
      "🚀 Attempting batch of 50 texts...\n"
     ]
    },
    {
     "name": "stderr",
     "output_type": "stream",
     "text": [
      "Processing conversations:   1%|          | 17/2057 [03:06<6:13:00, 10.97s/it]"
     ]
    },
    {
     "name": "stdout",
     "output_type": "stream",
     "text": [
      "✅ Batch completed in 11.09s (0.222s per text)\n",
      "🚀 Attempting batch of 50 texts...\n"
     ]
    },
    {
     "name": "stderr",
     "output_type": "stream",
     "text": [
      "Processing conversations:   1%|          | 18/2057 [03:17<6:11:28, 10.93s/it]"
     ]
    },
    {
     "name": "stdout",
     "output_type": "stream",
     "text": [
      "✅ Batch completed in 10.83s (0.217s per text)\n",
      "🚀 Attempting batch of 50 texts...\n"
     ]
    },
    {
     "name": "stderr",
     "output_type": "stream",
     "text": [
      "Processing conversations:   1%|          | 19/2057 [03:28<6:13:01, 10.98s/it]"
     ]
    },
    {
     "name": "stdout",
     "output_type": "stream",
     "text": [
      "✅ Batch completed in 11.09s (0.222s per text)\n",
      "🚀 Attempting batch of 50 texts...\n"
     ]
    },
    {
     "name": "stderr",
     "output_type": "stream",
     "text": [
      "Processing conversations:   1%|          | 20/2057 [03:39<6:13:45, 11.01s/it]"
     ]
    },
    {
     "name": "stdout",
     "output_type": "stream",
     "text": [
      "✅ Batch completed in 11.07s (0.221s per text)\n",
      "🚀 Attempting batch of 50 texts...\n"
     ]
    },
    {
     "name": "stderr",
     "output_type": "stream",
     "text": [
      "Processing conversations:   1%|          | 21/2057 [03:50<6:11:24, 10.95s/it]"
     ]
    },
    {
     "name": "stdout",
     "output_type": "stream",
     "text": [
      "✅ Batch completed in 10.79s (0.216s per text)\n",
      "🚀 Attempting batch of 50 texts...\n"
     ]
    },
    {
     "name": "stderr",
     "output_type": "stream",
     "text": [
      "Processing conversations:   1%|          | 22/2057 [04:01<6:14:35, 11.04s/it]"
     ]
    },
    {
     "name": "stdout",
     "output_type": "stream",
     "text": [
      "✅ Batch completed in 11.27s (0.225s per text)\n",
      "🚀 Attempting batch of 50 texts...\n"
     ]
    },
    {
     "name": "stderr",
     "output_type": "stream",
     "text": [
      "Processing conversations:   1%|          | 23/2057 [04:12<6:15:38, 11.08s/it]"
     ]
    },
    {
     "name": "stdout",
     "output_type": "stream",
     "text": [
      "✅ Batch completed in 11.16s (0.223s per text)\n",
      "🚀 Attempting batch of 50 texts...\n"
     ]
    },
    {
     "name": "stderr",
     "output_type": "stream",
     "text": [
      "Processing conversations:   1%|          | 24/2057 [04:23<6:09:00, 10.89s/it]"
     ]
    },
    {
     "name": "stdout",
     "output_type": "stream",
     "text": [
      "✅ Batch completed in 10.44s (0.209s per text)\n",
      "🚀 Attempting batch of 50 texts...\n"
     ]
    },
    {
     "name": "stderr",
     "output_type": "stream",
     "text": [
      "Processing conversations:   1%|          | 25/2057 [04:33<5:58:21, 10.58s/it]"
     ]
    },
    {
     "name": "stdout",
     "output_type": "stream",
     "text": [
      "✅ Batch completed in 9.85s (0.197s per text)\n",
      "🚀 Attempting batch of 50 texts...\n"
     ]
    },
    {
     "name": "stderr",
     "output_type": "stream",
     "text": [
      "Processing conversations:   1%|▏         | 26/2057 [04:43<5:51:19, 10.38s/it]"
     ]
    },
    {
     "name": "stdout",
     "output_type": "stream",
     "text": [
      "✅ Batch completed in 9.90s (0.198s per text)\n",
      "🚀 Attempting batch of 50 texts...\n"
     ]
    },
    {
     "name": "stderr",
     "output_type": "stream",
     "text": [
      "Processing conversations:   1%|▏         | 27/2057 [04:53<5:47:32, 10.27s/it]"
     ]
    },
    {
     "name": "stdout",
     "output_type": "stream",
     "text": [
      "✅ Batch completed in 10.02s (0.200s per text)\n",
      "🚀 Attempting batch of 50 texts...\n"
     ]
    },
    {
     "name": "stderr",
     "output_type": "stream",
     "text": [
      "Processing conversations:   1%|▏         | 28/2057 [05:03<5:50:04, 10.35s/it]"
     ]
    },
    {
     "name": "stdout",
     "output_type": "stream",
     "text": [
      "✅ Batch completed in 10.53s (0.211s per text)\n",
      "🚀 Attempting batch of 50 texts...\n"
     ]
    },
    {
     "name": "stderr",
     "output_type": "stream",
     "text": [
      "Processing conversations:   1%|▏         | 29/2057 [05:13<5:47:32, 10.28s/it]"
     ]
    },
    {
     "name": "stdout",
     "output_type": "stream",
     "text": [
      "✅ Batch completed in 10.11s (0.202s per text)\n",
      "🚀 Attempting batch of 50 texts...\n"
     ]
    },
    {
     "name": "stderr",
     "output_type": "stream",
     "text": [
      "Processing conversations:   1%|▏         | 30/2057 [05:23<5:44:55, 10.21s/it]"
     ]
    },
    {
     "name": "stdout",
     "output_type": "stream",
     "text": [
      "✅ Batch completed in 10.03s (0.201s per text)\n",
      "🚀 Attempting batch of 50 texts...\n"
     ]
    },
    {
     "name": "stderr",
     "output_type": "stream",
     "text": [
      "Processing conversations:   2%|▏         | 31/2057 [05:34<5:45:32, 10.23s/it]"
     ]
    },
    {
     "name": "stdout",
     "output_type": "stream",
     "text": [
      "✅ Batch completed in 10.28s (0.206s per text)\n",
      "🚀 Attempting batch of 50 texts...\n"
     ]
    },
    {
     "name": "stderr",
     "output_type": "stream",
     "text": [
      "Processing conversations:   2%|▏         | 32/2057 [05:44<5:46:48, 10.28s/it]"
     ]
    },
    {
     "name": "stdout",
     "output_type": "stream",
     "text": [
      "✅ Batch completed in 10.37s (0.207s per text)\n",
      "🚀 Attempting batch of 50 texts...\n"
     ]
    },
    {
     "name": "stderr",
     "output_type": "stream",
     "text": [
      "Processing conversations:   2%|▏         | 33/2057 [05:54<5:48:11, 10.32s/it]"
     ]
    },
    {
     "name": "stdout",
     "output_type": "stream",
     "text": [
      "✅ Batch completed in 10.42s (0.208s per text)\n",
      "🚀 Attempting batch of 50 texts...\n"
     ]
    },
    {
     "name": "stderr",
     "output_type": "stream",
     "text": [
      "Processing conversations:   2%|▏         | 34/2057 [06:05<5:47:54, 10.32s/it]"
     ]
    },
    {
     "name": "stdout",
     "output_type": "stream",
     "text": [
      "✅ Batch completed in 10.31s (0.206s per text)\n",
      "🚀 Attempting batch of 50 texts...\n"
     ]
    },
    {
     "name": "stderr",
     "output_type": "stream",
     "text": [
      "Processing conversations:   2%|▏         | 35/2057 [06:15<5:52:12, 10.45s/it]"
     ]
    },
    {
     "name": "stdout",
     "output_type": "stream",
     "text": [
      "✅ Batch completed in 10.75s (0.215s per text)\n",
      "🚀 Attempting batch of 50 texts...\n"
     ]
    },
    {
     "name": "stderr",
     "output_type": "stream",
     "text": [
      "Processing conversations:   2%|▏         | 36/2057 [06:26<5:52:01, 10.45s/it]"
     ]
    },
    {
     "name": "stdout",
     "output_type": "stream",
     "text": [
      "✅ Batch completed in 10.45s (0.209s per text)\n",
      "🚀 Attempting batch of 50 texts...\n"
     ]
    },
    {
     "name": "stderr",
     "output_type": "stream",
     "text": [
      "Processing conversations:   2%|▏         | 37/2057 [06:36<5:47:37, 10.33s/it]"
     ]
    },
    {
     "name": "stdout",
     "output_type": "stream",
     "text": [
      "✅ Batch completed in 10.02s (0.200s per text)\n",
      "🚀 Attempting batch of 50 texts...\n"
     ]
    },
    {
     "name": "stderr",
     "output_type": "stream",
     "text": [
      "Processing conversations:   2%|▏         | 38/2057 [06:46<5:45:11, 10.26s/it]"
     ]
    },
    {
     "name": "stdout",
     "output_type": "stream",
     "text": [
      "✅ Batch completed in 10.09s (0.202s per text)\n",
      "🚀 Attempting batch of 50 texts...\n"
     ]
    },
    {
     "name": "stderr",
     "output_type": "stream",
     "text": [
      "Processing conversations:   2%|▏         | 39/2057 [06:56<5:44:28, 10.24s/it]"
     ]
    },
    {
     "name": "stdout",
     "output_type": "stream",
     "text": [
      "✅ Batch completed in 10.19s (0.204s per text)\n",
      "🚀 Attempting batch of 50 texts...\n"
     ]
    },
    {
     "name": "stderr",
     "output_type": "stream",
     "text": [
      "Processing conversations:   2%|▏         | 40/2057 [07:07<5:45:05, 10.27s/it]"
     ]
    },
    {
     "name": "stdout",
     "output_type": "stream",
     "text": [
      "✅ Batch completed in 10.32s (0.206s per text)\n",
      "🚀 Attempting batch of 50 texts...\n"
     ]
    },
    {
     "name": "stderr",
     "output_type": "stream",
     "text": [
      "Processing conversations:   2%|▏         | 41/2057 [07:17<5:43:48, 10.23s/it]"
     ]
    },
    {
     "name": "stdout",
     "output_type": "stream",
     "text": [
      "✅ Batch completed in 10.15s (0.203s per text)\n",
      "🚀 Attempting batch of 50 texts...\n"
     ]
    },
    {
     "name": "stderr",
     "output_type": "stream",
     "text": [
      "Processing conversations:   2%|▏         | 42/2057 [07:27<5:43:26, 10.23s/it]"
     ]
    },
    {
     "name": "stdout",
     "output_type": "stream",
     "text": [
      "✅ Batch completed in 10.20s (0.204s per text)\n",
      "🚀 Attempting batch of 50 texts...\n"
     ]
    },
    {
     "name": "stderr",
     "output_type": "stream",
     "text": [
      "Processing conversations:   2%|▏         | 43/2057 [07:37<5:41:16, 10.17s/it]"
     ]
    },
    {
     "name": "stdout",
     "output_type": "stream",
     "text": [
      "✅ Batch completed in 10.02s (0.200s per text)\n",
      "🚀 Attempting batch of 50 texts...\n"
     ]
    },
    {
     "name": "stderr",
     "output_type": "stream",
     "text": [
      "Processing conversations:   2%|▏         | 44/2057 [07:47<5:39:07, 10.11s/it]"
     ]
    },
    {
     "name": "stdout",
     "output_type": "stream",
     "text": [
      "✅ Batch completed in 9.97s (0.199s per text)\n",
      "🚀 Attempting batch of 50 texts...\n"
     ]
    },
    {
     "name": "stderr",
     "output_type": "stream",
     "text": [
      "Processing conversations:   2%|▏         | 45/2057 [07:57<5:39:28, 10.12s/it]"
     ]
    },
    {
     "name": "stdout",
     "output_type": "stream",
     "text": [
      "✅ Batch completed in 10.15s (0.203s per text)\n",
      "🚀 Attempting batch of 50 texts...\n"
     ]
    },
    {
     "name": "stderr",
     "output_type": "stream",
     "text": [
      "Processing conversations:   2%|▏         | 46/2057 [08:07<5:39:46, 10.14s/it]"
     ]
    },
    {
     "name": "stdout",
     "output_type": "stream",
     "text": [
      "✅ Batch completed in 10.16s (0.203s per text)\n",
      "🚀 Attempting batch of 50 texts...\n"
     ]
    },
    {
     "name": "stderr",
     "output_type": "stream",
     "text": [
      "Processing conversations:   2%|▏         | 47/2057 [08:17<5:38:29, 10.10s/it]"
     ]
    },
    {
     "name": "stdout",
     "output_type": "stream",
     "text": [
      "✅ Batch completed in 10.02s (0.200s per text)\n",
      "🚀 Attempting batch of 50 texts...\n"
     ]
    },
    {
     "name": "stderr",
     "output_type": "stream",
     "text": [
      "Processing conversations:   2%|▏         | 48/2057 [08:28<5:40:34, 10.17s/it]"
     ]
    },
    {
     "name": "stdout",
     "output_type": "stream",
     "text": [
      "✅ Batch completed in 10.32s (0.206s per text)\n",
      "🚀 Attempting batch of 50 texts...\n"
     ]
    },
    {
     "name": "stderr",
     "output_type": "stream",
     "text": [
      "Processing conversations:   2%|▏         | 49/2057 [08:38<5:42:43, 10.24s/it]"
     ]
    },
    {
     "name": "stdout",
     "output_type": "stream",
     "text": [
      "✅ Batch completed in 10.40s (0.208s per text)\n",
      "🚀 Attempting batch of 50 texts...\n"
     ]
    },
    {
     "name": "stderr",
     "output_type": "stream",
     "text": [
      "Processing conversations:   2%|▏         | 50/2057 [08:48<5:45:19, 10.32s/it]"
     ]
    },
    {
     "name": "stdout",
     "output_type": "stream",
     "text": [
      "✅ Batch completed in 10.51s (0.210s per text)\n",
      "🚀 Attempting batch of 50 texts...\n"
     ]
    },
    {
     "name": "stderr",
     "output_type": "stream",
     "text": [
      "Processing conversations:   2%|▏         | 51/2057 [08:59<5:48:17, 10.42s/it]"
     ]
    },
    {
     "name": "stdout",
     "output_type": "stream",
     "text": [
      "✅ Batch completed in 10.63s (0.213s per text)\n",
      "🚀 Attempting batch of 50 texts...\n"
     ]
    },
    {
     "name": "stderr",
     "output_type": "stream",
     "text": [
      "Processing conversations:   3%|▎         | 52/2057 [09:09<5:44:45, 10.32s/it]"
     ]
    },
    {
     "name": "stdout",
     "output_type": "stream",
     "text": [
      "✅ Batch completed in 10.08s (0.202s per text)\n",
      "🚀 Attempting batch of 50 texts...\n"
     ]
    },
    {
     "name": "stderr",
     "output_type": "stream",
     "text": [
      "Processing conversations:   3%|▎         | 53/2057 [09:20<5:46:32, 10.38s/it]"
     ]
    },
    {
     "name": "stdout",
     "output_type": "stream",
     "text": [
      "✅ Batch completed in 10.50s (0.210s per text)\n",
      "🚀 Attempting batch of 50 texts...\n"
     ]
    },
    {
     "name": "stderr",
     "output_type": "stream",
     "text": [
      "Processing conversations:   3%|▎         | 54/2057 [09:30<5:47:56, 10.42s/it]"
     ]
    },
    {
     "name": "stdout",
     "output_type": "stream",
     "text": [
      "✅ Batch completed in 10.53s (0.211s per text)\n",
      "🚀 Attempting batch of 50 texts...\n"
     ]
    },
    {
     "name": "stderr",
     "output_type": "stream",
     "text": [
      "Processing conversations:   3%|▎         | 55/2057 [09:41<5:52:35, 10.57s/it]"
     ]
    },
    {
     "name": "stdout",
     "output_type": "stream",
     "text": [
      "✅ Batch completed in 10.89s (0.218s per text)\n",
      "🚀 Attempting batch of 50 texts...\n"
     ]
    },
    {
     "name": "stderr",
     "output_type": "stream",
     "text": [
      "Processing conversations:   3%|▎         | 56/2057 [09:52<5:54:41, 10.64s/it]"
     ]
    },
    {
     "name": "stdout",
     "output_type": "stream",
     "text": [
      "✅ Batch completed in 10.78s (0.216s per text)\n",
      "🚀 Attempting batch of 50 texts...\n"
     ]
    },
    {
     "name": "stderr",
     "output_type": "stream",
     "text": [
      "Processing conversations:   3%|▎         | 57/2057 [10:03<5:55:52, 10.68s/it]"
     ]
    },
    {
     "name": "stdout",
     "output_type": "stream",
     "text": [
      "✅ Batch completed in 10.76s (0.215s per text)\n",
      "🚀 Attempting batch of 50 texts...\n"
     ]
    },
    {
     "name": "stderr",
     "output_type": "stream",
     "text": [
      "Processing conversations:   3%|▎         | 58/2057 [10:13<5:53:25, 10.61s/it]"
     ]
    },
    {
     "name": "stdout",
     "output_type": "stream",
     "text": [
      "✅ Batch completed in 10.44s (0.209s per text)\n",
      "🚀 Attempting batch of 50 texts...\n"
     ]
    },
    {
     "name": "stderr",
     "output_type": "stream",
     "text": [
      "Processing conversations:   3%|▎         | 59/2057 [10:23<5:49:44, 10.50s/it]"
     ]
    },
    {
     "name": "stdout",
     "output_type": "stream",
     "text": [
      "✅ Batch completed in 10.25s (0.205s per text)\n",
      "🚀 Attempting batch of 50 texts...\n"
     ]
    },
    {
     "name": "stderr",
     "output_type": "stream",
     "text": [
      "Processing conversations:   3%|▎         | 60/2057 [10:34<5:51:18, 10.56s/it]"
     ]
    },
    {
     "name": "stdout",
     "output_type": "stream",
     "text": [
      "✅ Batch completed in 10.67s (0.213s per text)\n",
      "🚀 Attempting batch of 50 texts...\n"
     ]
    },
    {
     "name": "stderr",
     "output_type": "stream",
     "text": [
      "Processing conversations:   3%|▎         | 61/2057 [10:45<5:54:08, 10.65s/it]"
     ]
    },
    {
     "name": "stdout",
     "output_type": "stream",
     "text": [
      "✅ Batch completed in 10.85s (0.217s per text)\n",
      "🚀 Attempting batch of 50 texts...\n"
     ]
    },
    {
     "name": "stderr",
     "output_type": "stream",
     "text": [
      "Processing conversations:   3%|▎         | 62/2057 [10:56<5:56:24, 10.72s/it]"
     ]
    },
    {
     "name": "stdout",
     "output_type": "stream",
     "text": [
      "✅ Batch completed in 10.88s (0.218s per text)\n",
      "🚀 Attempting batch of 50 texts...\n"
     ]
    },
    {
     "name": "stderr",
     "output_type": "stream",
     "text": [
      "Processing conversations:   3%|▎         | 63/2057 [11:07<5:58:14, 10.78s/it]"
     ]
    },
    {
     "name": "stdout",
     "output_type": "stream",
     "text": [
      "✅ Batch completed in 10.91s (0.218s per text)\n",
      "🚀 Attempting batch of 50 texts...\n"
     ]
    },
    {
     "name": "stderr",
     "output_type": "stream",
     "text": [
      "Processing conversations:   3%|▎         | 64/2057 [11:18<5:59:39, 10.83s/it]"
     ]
    },
    {
     "name": "stdout",
     "output_type": "stream",
     "text": [
      "✅ Batch completed in 10.93s (0.219s per text)\n",
      "🚀 Attempting batch of 50 texts...\n"
     ]
    },
    {
     "name": "stderr",
     "output_type": "stream",
     "text": [
      "Processing conversations:   3%|▎         | 65/2057 [11:28<5:56:49, 10.75s/it]"
     ]
    },
    {
     "name": "stdout",
     "output_type": "stream",
     "text": [
      "✅ Batch completed in 10.55s (0.211s per text)\n",
      "🚀 Attempting batch of 50 texts...\n"
     ]
    },
    {
     "name": "stderr",
     "output_type": "stream",
     "text": [
      "Processing conversations:   3%|▎         | 66/2057 [11:38<5:51:32, 10.59s/it]"
     ]
    },
    {
     "name": "stdout",
     "output_type": "stream",
     "text": [
      "✅ Batch completed in 10.22s (0.204s per text)\n",
      "🚀 Attempting batch of 50 texts...\n"
     ]
    },
    {
     "name": "stderr",
     "output_type": "stream",
     "text": [
      "Processing conversations:   3%|▎         | 67/2057 [11:49<5:48:19, 10.50s/it]"
     ]
    },
    {
     "name": "stdout",
     "output_type": "stream",
     "text": [
      "✅ Batch completed in 10.28s (0.206s per text)\n",
      "🚀 Attempting batch of 50 texts...\n"
     ]
    },
    {
     "name": "stderr",
     "output_type": "stream",
     "text": [
      "Processing conversations:   3%|▎         | 68/2057 [11:59<5:42:53, 10.34s/it]"
     ]
    },
    {
     "name": "stdout",
     "output_type": "stream",
     "text": [
      "✅ Batch completed in 9.97s (0.199s per text)\n",
      "🚀 Attempting batch of 50 texts...\n"
     ]
    },
    {
     "name": "stderr",
     "output_type": "stream",
     "text": [
      "Processing conversations:   3%|▎         | 69/2057 [12:09<5:44:29, 10.40s/it]"
     ]
    },
    {
     "name": "stdout",
     "output_type": "stream",
     "text": [
      "✅ Batch completed in 10.52s (0.210s per text)\n",
      "🚀 Attempting batch of 50 texts...\n"
     ]
    },
    {
     "name": "stderr",
     "output_type": "stream",
     "text": [
      "Processing conversations:   3%|▎         | 70/2057 [12:20<5:46:25, 10.46s/it]"
     ]
    },
    {
     "name": "stdout",
     "output_type": "stream",
     "text": [
      "✅ Batch completed in 10.60s (0.212s per text)\n",
      "🚀 Attempting batch of 50 texts...\n"
     ]
    },
    {
     "name": "stderr",
     "output_type": "stream",
     "text": [
      "Processing conversations:   3%|▎         | 71/2057 [12:30<5:46:14, 10.46s/it]"
     ]
    },
    {
     "name": "stdout",
     "output_type": "stream",
     "text": [
      "✅ Batch completed in 10.45s (0.209s per text)\n",
      "🚀 Attempting batch of 50 texts...\n"
     ]
    },
    {
     "name": "stderr",
     "output_type": "stream",
     "text": [
      "Processing conversations:   4%|▎         | 72/2057 [12:41<5:45:50, 10.45s/it]"
     ]
    },
    {
     "name": "stdout",
     "output_type": "stream",
     "text": [
      "✅ Batch completed in 10.43s (0.209s per text)\n",
      "🚀 Attempting batch of 50 texts...\n"
     ]
    },
    {
     "name": "stderr",
     "output_type": "stream",
     "text": [
      "Processing conversations:   4%|▎         | 73/2057 [12:51<5:42:55, 10.37s/it]"
     ]
    },
    {
     "name": "stdout",
     "output_type": "stream",
     "text": [
      "✅ Batch completed in 10.17s (0.203s per text)\n",
      "🚀 Attempting batch of 50 texts...\n"
     ]
    },
    {
     "name": "stderr",
     "output_type": "stream",
     "text": [
      "Processing conversations:   4%|▎         | 74/2057 [13:01<5:43:49, 10.40s/it]"
     ]
    },
    {
     "name": "stdout",
     "output_type": "stream",
     "text": [
      "✅ Batch completed in 10.47s (0.209s per text)\n",
      "🚀 Attempting batch of 50 texts...\n"
     ]
    },
    {
     "name": "stderr",
     "output_type": "stream",
     "text": [
      "Processing conversations:   4%|▎         | 75/2057 [13:12<5:42:00, 10.35s/it]"
     ]
    },
    {
     "name": "stdout",
     "output_type": "stream",
     "text": [
      "✅ Batch completed in 10.23s (0.205s per text)\n",
      "🚀 Attempting batch of 50 texts...\n"
     ]
    },
    {
     "name": "stderr",
     "output_type": "stream",
     "text": [
      "Processing conversations:   4%|▎         | 76/2057 [13:22<5:42:34, 10.38s/it]"
     ]
    },
    {
     "name": "stdout",
     "output_type": "stream",
     "text": [
      "✅ Batch completed in 10.42s (0.208s per text)\n",
      "🚀 Attempting batch of 50 texts...\n"
     ]
    },
    {
     "name": "stderr",
     "output_type": "stream",
     "text": [
      "Processing conversations:   4%|▎         | 77/2057 [13:32<5:40:11, 10.31s/it]"
     ]
    },
    {
     "name": "stdout",
     "output_type": "stream",
     "text": [
      "✅ Batch completed in 10.14s (0.203s per text)\n",
      "🚀 Attempting batch of 50 texts...\n"
     ]
    },
    {
     "name": "stderr",
     "output_type": "stream",
     "text": [
      "Processing conversations:   4%|▍         | 78/2057 [13:42<5:37:44, 10.24s/it]"
     ]
    },
    {
     "name": "stdout",
     "output_type": "stream",
     "text": [
      "✅ Batch completed in 10.07s (0.201s per text)\n",
      "🚀 Attempting batch of 50 texts...\n"
     ]
    },
    {
     "name": "stderr",
     "output_type": "stream",
     "text": [
      "Processing conversations:   4%|▍         | 79/2057 [13:52<5:35:44, 10.18s/it]"
     ]
    },
    {
     "name": "stdout",
     "output_type": "stream",
     "text": [
      "✅ Batch completed in 10.05s (0.201s per text)\n",
      "🚀 Attempting batch of 50 texts...\n"
     ]
    },
    {
     "name": "stderr",
     "output_type": "stream",
     "text": [
      "Processing conversations:   4%|▍         | 80/2057 [14:03<5:42:36, 10.40s/it]"
     ]
    },
    {
     "name": "stdout",
     "output_type": "stream",
     "text": [
      "✅ Batch completed in 10.89s (0.218s per text)\n",
      "🚀 Attempting batch of 50 texts...\n"
     ]
    },
    {
     "name": "stderr",
     "output_type": "stream",
     "text": [
      "Processing conversations:   4%|▍         | 81/2057 [14:14<5:44:18, 10.45s/it]"
     ]
    },
    {
     "name": "stdout",
     "output_type": "stream",
     "text": [
      "✅ Batch completed in 10.58s (0.212s per text)\n",
      "🚀 Attempting batch of 50 texts...\n"
     ]
    },
    {
     "name": "stderr",
     "output_type": "stream",
     "text": [
      "Processing conversations:   4%|▍         | 82/2057 [14:25<5:50:25, 10.65s/it]"
     ]
    },
    {
     "name": "stdout",
     "output_type": "stream",
     "text": [
      "✅ Batch completed in 11.09s (0.222s per text)\n",
      "🚀 Attempting batch of 50 texts...\n"
     ]
    },
    {
     "name": "stderr",
     "output_type": "stream",
     "text": [
      "Processing conversations:   4%|▍         | 83/2057 [14:36<5:53:50, 10.75s/it]"
     ]
    },
    {
     "name": "stdout",
     "output_type": "stream",
     "text": [
      "✅ Batch completed in 11.00s (0.220s per text)\n",
      "🚀 Attempting batch of 50 texts...\n"
     ]
    },
    {
     "name": "stderr",
     "output_type": "stream",
     "text": [
      "Processing conversations:   4%|▍         | 84/2057 [14:47<5:55:40, 10.82s/it]"
     ]
    },
    {
     "name": "stdout",
     "output_type": "stream",
     "text": [
      "✅ Batch completed in 10.95s (0.219s per text)\n",
      "🚀 Attempting batch of 50 texts...\n"
     ]
    },
    {
     "name": "stderr",
     "output_type": "stream",
     "text": [
      "Processing conversations:   4%|▍         | 85/2057 [14:59<6:04:13, 11.08s/it]"
     ]
    },
    {
     "name": "stdout",
     "output_type": "stream",
     "text": [
      "✅ Batch completed in 11.70s (0.234s per text)\n",
      "🚀 Attempting batch of 50 texts...\n"
     ]
    },
    {
     "name": "stderr",
     "output_type": "stream",
     "text": [
      "Processing conversations:   4%|▍         | 86/2057 [15:10<6:02:04, 11.02s/it]"
     ]
    },
    {
     "name": "stdout",
     "output_type": "stream",
     "text": [
      "✅ Batch completed in 10.88s (0.218s per text)\n",
      "🚀 Attempting batch of 50 texts...\n"
     ]
    },
    {
     "name": "stderr",
     "output_type": "stream",
     "text": [
      "Processing conversations:   4%|▍         | 87/2057 [15:21<6:04:25, 11.10s/it]"
     ]
    },
    {
     "name": "stdout",
     "output_type": "stream",
     "text": [
      "✅ Batch completed in 11.27s (0.225s per text)\n",
      "🚀 Attempting batch of 50 texts...\n"
     ]
    },
    {
     "name": "stderr",
     "output_type": "stream",
     "text": [
      "Processing conversations:   4%|▍         | 88/2057 [15:32<6:08:25, 11.23s/it]"
     ]
    },
    {
     "name": "stdout",
     "output_type": "stream",
     "text": [
      "✅ Batch completed in 11.51s (0.230s per text)\n",
      "🚀 Attempting batch of 50 texts...\n"
     ]
    },
    {
     "name": "stderr",
     "output_type": "stream",
     "text": [
      "Processing conversations:   4%|▍         | 89/2057 [15:44<6:14:58, 11.43s/it]"
     ]
    },
    {
     "name": "stdout",
     "output_type": "stream",
     "text": [
      "✅ Batch completed in 11.90s (0.238s per text)\n",
      "🚀 Attempting batch of 50 texts...\n"
     ]
    },
    {
     "name": "stderr",
     "output_type": "stream",
     "text": [
      "Processing conversations:   4%|▍         | 90/2057 [15:55<6:11:10, 11.32s/it]"
     ]
    },
    {
     "name": "stdout",
     "output_type": "stream",
     "text": [
      "✅ Batch completed in 11.06s (0.221s per text)\n",
      "🚀 Attempting batch of 50 texts...\n"
     ]
    },
    {
     "name": "stderr",
     "output_type": "stream",
     "text": [
      "Processing conversations:   4%|▍         | 91/2057 [16:07<6:16:13, 11.48s/it]"
     ]
    },
    {
     "name": "stdout",
     "output_type": "stream",
     "text": [
      "✅ Batch completed in 11.84s (0.237s per text)\n",
      "🚀 Attempting batch of 50 texts...\n"
     ]
    },
    {
     "name": "stderr",
     "output_type": "stream",
     "text": [
      "Processing conversations:   4%|▍         | 92/2057 [16:19<6:17:18, 11.52s/it]"
     ]
    },
    {
     "name": "stdout",
     "output_type": "stream",
     "text": [
      "✅ Batch completed in 11.60s (0.232s per text)\n",
      "🚀 Attempting batch of 50 texts...\n"
     ]
    },
    {
     "name": "stderr",
     "output_type": "stream",
     "text": [
      "Processing conversations:   5%|▍         | 93/2057 [16:30<6:16:37, 11.51s/it]"
     ]
    },
    {
     "name": "stdout",
     "output_type": "stream",
     "text": [
      "✅ Batch completed in 11.46s (0.229s per text)\n",
      "🚀 Attempting batch of 50 texts...\n"
     ]
    },
    {
     "name": "stderr",
     "output_type": "stream",
     "text": [
      "Processing conversations:   5%|▍         | 94/2057 [16:41<6:10:08, 11.31s/it]"
     ]
    },
    {
     "name": "stdout",
     "output_type": "stream",
     "text": [
      "✅ Batch completed in 10.86s (0.217s per text)\n",
      "🚀 Attempting batch of 50 texts...\n"
     ]
    },
    {
     "name": "stderr",
     "output_type": "stream",
     "text": [
      "Processing conversations:   5%|▍         | 95/2057 [16:52<6:05:00, 11.16s/it]"
     ]
    },
    {
     "name": "stdout",
     "output_type": "stream",
     "text": [
      "✅ Batch completed in 10.80s (0.216s per text)\n",
      "🚀 Attempting batch of 50 texts...\n"
     ]
    },
    {
     "name": "stderr",
     "output_type": "stream",
     "text": [
      "Processing conversations:   5%|▍         | 96/2057 [17:03<6:00:34, 11.03s/it]"
     ]
    },
    {
     "name": "stdout",
     "output_type": "stream",
     "text": [
      "✅ Batch completed in 10.72s (0.214s per text)\n",
      "🚀 Attempting batch of 50 texts...\n"
     ]
    },
    {
     "name": "stderr",
     "output_type": "stream",
     "text": [
      "Processing conversations:   5%|▍         | 97/2057 [17:13<5:53:13, 10.81s/it]"
     ]
    },
    {
     "name": "stdout",
     "output_type": "stream",
     "text": [
      "✅ Batch completed in 10.29s (0.206s per text)\n",
      "🚀 Attempting batch of 50 texts...\n"
     ]
    },
    {
     "name": "stderr",
     "output_type": "stream",
     "text": [
      "Processing conversations:   5%|▍         | 98/2057 [17:23<5:50:19, 10.73s/it]"
     ]
    },
    {
     "name": "stdout",
     "output_type": "stream",
     "text": [
      "✅ Batch completed in 10.52s (0.210s per text)\n",
      "🚀 Attempting batch of 50 texts...\n"
     ]
    },
    {
     "name": "stderr",
     "output_type": "stream",
     "text": [
      "Processing conversations:   5%|▍         | 99/2057 [17:34<5:45:45, 10.60s/it]"
     ]
    },
    {
     "name": "stdout",
     "output_type": "stream",
     "text": [
      "✅ Batch completed in 10.27s (0.205s per text)\n",
      "🚀 Attempting batch of 50 texts...\n"
     ]
    },
    {
     "name": "stderr",
     "output_type": "stream",
     "text": [
      "Processing conversations:   5%|▍         | 100/2057 [17:44<5:43:31, 10.53s/it]"
     ]
    },
    {
     "name": "stdout",
     "output_type": "stream",
     "text": [
      "✅ Batch completed in 10.38s (0.208s per text)\n",
      "🚀 Attempting batch of 50 texts...\n"
     ]
    },
    {
     "name": "stderr",
     "output_type": "stream",
     "text": [
      "Processing conversations:   5%|▍         | 101/2057 [17:54<5:41:30, 10.48s/it]"
     ]
    },
    {
     "name": "stdout",
     "output_type": "stream",
     "text": [
      "✅ Batch completed in 10.33s (0.207s per text)\n",
      "🚀 Attempting batch of 50 texts...\n"
     ]
    },
    {
     "name": "stderr",
     "output_type": "stream",
     "text": [
      "Processing conversations:   5%|▍         | 102/2057 [18:05<5:40:34, 10.45s/it]"
     ]
    },
    {
     "name": "stdout",
     "output_type": "stream",
     "text": [
      "✅ Batch completed in 10.39s (0.208s per text)\n",
      "🚀 Attempting batch of 50 texts...\n"
     ]
    },
    {
     "name": "stderr",
     "output_type": "stream",
     "text": [
      "Processing conversations:   5%|▌         | 103/2057 [18:15<5:39:51, 10.44s/it]"
     ]
    },
    {
     "name": "stdout",
     "output_type": "stream",
     "text": [
      "✅ Batch completed in 10.39s (0.208s per text)\n",
      "🚀 Attempting batch of 50 texts...\n"
     ]
    },
    {
     "name": "stderr",
     "output_type": "stream",
     "text": [
      "Processing conversations:   5%|▌         | 104/2057 [18:26<5:39:17, 10.42s/it]"
     ]
    },
    {
     "name": "stdout",
     "output_type": "stream",
     "text": [
      "✅ Batch completed in 10.39s (0.208s per text)\n",
      "🚀 Attempting batch of 50 texts...\n"
     ]
    },
    {
     "name": "stderr",
     "output_type": "stream",
     "text": [
      "Processing conversations:   5%|▌         | 105/2057 [18:36<5:41:54, 10.51s/it]"
     ]
    },
    {
     "name": "stdout",
     "output_type": "stream",
     "text": [
      "✅ Batch completed in 10.70s (0.214s per text)\n",
      "🚀 Attempting batch of 50 texts...\n"
     ]
    },
    {
     "name": "stderr",
     "output_type": "stream",
     "text": [
      "Processing conversations:   5%|▌         | 106/2057 [18:47<5:38:32, 10.41s/it]"
     ]
    },
    {
     "name": "stdout",
     "output_type": "stream",
     "text": [
      "✅ Batch completed in 10.18s (0.204s per text)\n",
      "🚀 Attempting batch of 50 texts...\n"
     ]
    },
    {
     "name": "stderr",
     "output_type": "stream",
     "text": [
      "Processing conversations:   5%|▌         | 107/2057 [18:57<5:38:23, 10.41s/it]"
     ]
    },
    {
     "name": "stdout",
     "output_type": "stream",
     "text": [
      "✅ Batch completed in 10.41s (0.208s per text)\n",
      "🚀 Attempting batch of 50 texts...\n"
     ]
    },
    {
     "name": "stderr",
     "output_type": "stream",
     "text": [
      "Processing conversations:   5%|▌         | 108/2057 [19:07<5:39:11, 10.44s/it]"
     ]
    },
    {
     "name": "stdout",
     "output_type": "stream",
     "text": [
      "✅ Batch completed in 10.50s (0.210s per text)\n",
      "🚀 Attempting batch of 50 texts...\n"
     ]
    },
    {
     "name": "stderr",
     "output_type": "stream",
     "text": [
      "Processing conversations:   5%|▌         | 109/2057 [19:18<5:35:37, 10.34s/it]"
     ]
    },
    {
     "name": "stdout",
     "output_type": "stream",
     "text": [
      "✅ Batch completed in 10.09s (0.202s per text)\n",
      "🚀 Attempting batch of 50 texts...\n"
     ]
    },
    {
     "name": "stderr",
     "output_type": "stream",
     "text": [
      "Processing conversations:   5%|▌         | 110/2057 [19:28<5:36:27, 10.37s/it]"
     ]
    },
    {
     "name": "stdout",
     "output_type": "stream",
     "text": [
      "✅ Batch completed in 10.44s (0.209s per text)\n",
      "🚀 Attempting batch of 50 texts...\n"
     ]
    },
    {
     "name": "stderr",
     "output_type": "stream",
     "text": [
      "Processing conversations:   5%|▌         | 111/2057 [19:38<5:33:28, 10.28s/it]"
     ]
    },
    {
     "name": "stdout",
     "output_type": "stream",
     "text": [
      "✅ Batch completed in 10.08s (0.202s per text)\n",
      "🚀 Attempting batch of 50 texts...\n"
     ]
    },
    {
     "name": "stderr",
     "output_type": "stream",
     "text": [
      "Processing conversations:   5%|▌         | 112/2057 [19:49<5:35:34, 10.35s/it]"
     ]
    },
    {
     "name": "stdout",
     "output_type": "stream",
     "text": [
      "✅ Batch completed in 10.51s (0.210s per text)\n",
      "🚀 Attempting batch of 50 texts...\n"
     ]
    },
    {
     "name": "stderr",
     "output_type": "stream",
     "text": [
      "Processing conversations:   5%|▌         | 113/2057 [19:59<5:33:34, 10.30s/it]"
     ]
    },
    {
     "name": "stdout",
     "output_type": "stream",
     "text": [
      "✅ Batch completed in 10.16s (0.203s per text)\n",
      "🚀 Attempting batch of 50 texts...\n"
     ]
    },
    {
     "name": "stderr",
     "output_type": "stream",
     "text": [
      "Processing conversations:   6%|▌         | 114/2057 [20:09<5:36:06, 10.38s/it]"
     ]
    },
    {
     "name": "stdout",
     "output_type": "stream",
     "text": [
      "✅ Batch completed in 10.57s (0.211s per text)\n",
      "🚀 Attempting batch of 50 texts...\n"
     ]
    },
    {
     "name": "stderr",
     "output_type": "stream",
     "text": [
      "Processing conversations:   6%|▌         | 115/2057 [20:20<5:34:35, 10.34s/it]"
     ]
    },
    {
     "name": "stdout",
     "output_type": "stream",
     "text": [
      "✅ Batch completed in 10.23s (0.205s per text)\n",
      "🚀 Attempting batch of 50 texts...\n"
     ]
    },
    {
     "name": "stderr",
     "output_type": "stream",
     "text": [
      "Processing conversations:   6%|▌         | 116/2057 [20:30<5:34:06, 10.33s/it]"
     ]
    },
    {
     "name": "stdout",
     "output_type": "stream",
     "text": [
      "✅ Batch completed in 10.30s (0.206s per text)\n",
      "🚀 Attempting batch of 50 texts...\n"
     ]
    },
    {
     "name": "stderr",
     "output_type": "stream",
     "text": [
      "Processing conversations:   6%|▌         | 117/2057 [20:40<5:34:22, 10.34s/it]"
     ]
    },
    {
     "name": "stdout",
     "output_type": "stream",
     "text": [
      "✅ Batch completed in 10.37s (0.207s per text)\n",
      "🚀 Attempting batch of 50 texts...\n"
     ]
    },
    {
     "name": "stderr",
     "output_type": "stream",
     "text": [
      "Processing conversations:   6%|▌         | 118/2057 [20:50<5:31:35, 10.26s/it]"
     ]
    },
    {
     "name": "stdout",
     "output_type": "stream",
     "text": [
      "✅ Batch completed in 10.07s (0.201s per text)\n",
      "🚀 Attempting batch of 50 texts...\n"
     ]
    },
    {
     "name": "stderr",
     "output_type": "stream",
     "text": [
      "Processing conversations:   6%|▌         | 119/2057 [21:01<5:32:27, 10.29s/it]"
     ]
    },
    {
     "name": "stdout",
     "output_type": "stream",
     "text": [
      "✅ Batch completed in 10.36s (0.207s per text)\n",
      "🚀 Attempting batch of 50 texts...\n"
     ]
    },
    {
     "name": "stderr",
     "output_type": "stream",
     "text": [
      "Processing conversations:   6%|▌         | 120/2057 [21:11<5:32:58, 10.31s/it]"
     ]
    },
    {
     "name": "stdout",
     "output_type": "stream",
     "text": [
      "✅ Batch completed in 10.35s (0.207s per text)\n",
      "🚀 Attempting batch of 50 texts...\n"
     ]
    },
    {
     "name": "stderr",
     "output_type": "stream",
     "text": [
      "Processing conversations:   6%|▌         | 121/2057 [21:21<5:29:17, 10.21s/it]"
     ]
    },
    {
     "name": "stdout",
     "output_type": "stream",
     "text": [
      "✅ Batch completed in 9.94s (0.199s per text)\n",
      "🚀 Attempting batch of 50 texts...\n"
     ]
    },
    {
     "name": "stderr",
     "output_type": "stream",
     "text": [
      "Processing conversations:   6%|▌         | 122/2057 [21:32<5:33:09, 10.33s/it]"
     ]
    },
    {
     "name": "stdout",
     "output_type": "stream",
     "text": [
      "✅ Batch completed in 10.61s (0.212s per text)\n",
      "🚀 Attempting batch of 50 texts...\n"
     ]
    },
    {
     "name": "stderr",
     "output_type": "stream",
     "text": [
      "Processing conversations:   6%|▌         | 123/2057 [21:42<5:33:33, 10.35s/it]"
     ]
    },
    {
     "name": "stdout",
     "output_type": "stream",
     "text": [
      "✅ Batch completed in 10.37s (0.207s per text)\n",
      "🚀 Attempting batch of 50 texts...\n"
     ]
    },
    {
     "name": "stderr",
     "output_type": "stream",
     "text": [
      "Processing conversations:   6%|▌         | 124/2057 [21:52<5:31:03, 10.28s/it]"
     ]
    },
    {
     "name": "stdout",
     "output_type": "stream",
     "text": [
      "✅ Batch completed in 10.10s (0.202s per text)\n",
      "🚀 Attempting batch of 50 texts...\n"
     ]
    },
    {
     "name": "stderr",
     "output_type": "stream",
     "text": [
      "Processing conversations:   6%|▌         | 125/2057 [22:02<5:28:42, 10.21s/it]"
     ]
    },
    {
     "name": "stdout",
     "output_type": "stream",
     "text": [
      "✅ Batch completed in 10.04s (0.201s per text)\n",
      "🚀 Attempting batch of 50 texts...\n"
     ]
    },
    {
     "name": "stderr",
     "output_type": "stream",
     "text": [
      "Processing conversations:   6%|▌         | 126/2057 [22:13<5:30:43, 10.28s/it]"
     ]
    },
    {
     "name": "stdout",
     "output_type": "stream",
     "text": [
      "✅ Batch completed in 10.43s (0.209s per text)\n",
      "🚀 Attempting batch of 50 texts...\n"
     ]
    },
    {
     "name": "stderr",
     "output_type": "stream",
     "text": [
      "Processing conversations:   6%|▌         | 127/2057 [22:23<5:35:52, 10.44s/it]"
     ]
    },
    {
     "name": "stdout",
     "output_type": "stream",
     "text": [
      "✅ Batch completed in 10.82s (0.216s per text)\n",
      "🚀 Attempting batch of 50 texts...\n"
     ]
    },
    {
     "name": "stderr",
     "output_type": "stream",
     "text": [
      "Processing conversations:   6%|▌         | 128/2057 [22:34<5:37:09, 10.49s/it]"
     ]
    },
    {
     "name": "stdout",
     "output_type": "stream",
     "text": [
      "✅ Batch completed in 10.59s (0.212s per text)\n",
      "🚀 Attempting batch of 50 texts...\n"
     ]
    },
    {
     "name": "stderr",
     "output_type": "stream",
     "text": [
      "Processing conversations:   6%|▋         | 129/2057 [22:45<5:37:57, 10.52s/it]"
     ]
    },
    {
     "name": "stdout",
     "output_type": "stream",
     "text": [
      "✅ Batch completed in 10.58s (0.212s per text)\n",
      "🚀 Attempting batch of 50 texts...\n"
     ]
    },
    {
     "name": "stderr",
     "output_type": "stream",
     "text": [
      "Processing conversations:   6%|▋         | 130/2057 [22:55<5:36:34, 10.48s/it]"
     ]
    },
    {
     "name": "stdout",
     "output_type": "stream",
     "text": [
      "✅ Batch completed in 10.38s (0.208s per text)\n",
      "🚀 Attempting batch of 50 texts...\n"
     ]
    },
    {
     "name": "stderr",
     "output_type": "stream",
     "text": [
      "Processing conversations:   6%|▋         | 131/2057 [23:05<5:32:45, 10.37s/it]"
     ]
    },
    {
     "name": "stdout",
     "output_type": "stream",
     "text": [
      "✅ Batch completed in 10.09s (0.202s per text)\n",
      "🚀 Attempting batch of 50 texts...\n"
     ]
    },
    {
     "name": "stderr",
     "output_type": "stream",
     "text": [
      "Processing conversations:   6%|▋         | 132/2057 [23:15<5:32:11, 10.35s/it]"
     ]
    },
    {
     "name": "stdout",
     "output_type": "stream",
     "text": [
      "✅ Batch completed in 10.32s (0.206s per text)\n",
      "🚀 Attempting batch of 50 texts...\n"
     ]
    },
    {
     "name": "stderr",
     "output_type": "stream",
     "text": [
      "Processing conversations:   6%|▋         | 133/2057 [23:26<5:30:03, 10.29s/it]"
     ]
    },
    {
     "name": "stdout",
     "output_type": "stream",
     "text": [
      "✅ Batch completed in 10.14s (0.203s per text)\n",
      "🚀 Attempting batch of 50 texts...\n"
     ]
    },
    {
     "name": "stderr",
     "output_type": "stream",
     "text": [
      "Processing conversations:   7%|▋         | 134/2057 [23:36<5:28:33, 10.25s/it]"
     ]
    },
    {
     "name": "stdout",
     "output_type": "stream",
     "text": [
      "✅ Batch completed in 10.14s (0.203s per text)\n",
      "🚀 Attempting batch of 50 texts...\n"
     ]
    },
    {
     "name": "stderr",
     "output_type": "stream",
     "text": [
      "Processing conversations:   7%|▋         | 135/2057 [23:46<5:27:22, 10.22s/it]"
     ]
    },
    {
     "name": "stdout",
     "output_type": "stream",
     "text": [
      "✅ Batch completed in 10.14s (0.203s per text)\n",
      "🚀 Attempting batch of 50 texts...\n"
     ]
    },
    {
     "name": "stderr",
     "output_type": "stream",
     "text": [
      "Processing conversations:   7%|▋         | 136/2057 [23:56<5:24:34, 10.14s/it]"
     ]
    },
    {
     "name": "stdout",
     "output_type": "stream",
     "text": [
      "✅ Batch completed in 9.94s (0.199s per text)\n",
      "🚀 Attempting batch of 50 texts...\n"
     ]
    },
    {
     "name": "stderr",
     "output_type": "stream",
     "text": [
      "Processing conversations:   7%|▋         | 137/2057 [24:06<5:27:08, 10.22s/it]"
     ]
    },
    {
     "name": "stdout",
     "output_type": "stream",
     "text": [
      "✅ Batch completed in 10.41s (0.208s per text)\n",
      "🚀 Attempting batch of 50 texts...\n"
     ]
    },
    {
     "name": "stderr",
     "output_type": "stream",
     "text": [
      "Processing conversations:   7%|▋         | 138/2057 [24:16<5:26:26, 10.21s/it]"
     ]
    },
    {
     "name": "stdout",
     "output_type": "stream",
     "text": [
      "✅ Batch completed in 10.16s (0.203s per text)\n",
      "🚀 Attempting batch of 50 texts...\n"
     ]
    },
    {
     "name": "stderr",
     "output_type": "stream",
     "text": [
      "Processing conversations:   7%|▋         | 139/2057 [24:27<5:25:37, 10.19s/it]"
     ]
    },
    {
     "name": "stdout",
     "output_type": "stream",
     "text": [
      "✅ Batch completed in 10.13s (0.203s per text)\n",
      "🚀 Attempting batch of 50 texts...\n"
     ]
    },
    {
     "name": "stderr",
     "output_type": "stream",
     "text": [
      "Processing conversations:   7%|▋         | 140/2057 [24:37<5:24:18, 10.15s/it]"
     ]
    },
    {
     "name": "stdout",
     "output_type": "stream",
     "text": [
      "✅ Batch completed in 10.06s (0.201s per text)\n",
      "🚀 Attempting batch of 50 texts...\n"
     ]
    },
    {
     "name": "stderr",
     "output_type": "stream",
     "text": [
      "Processing conversations:   7%|▋         | 141/2057 [24:47<5:26:43, 10.23s/it]"
     ]
    },
    {
     "name": "stdout",
     "output_type": "stream",
     "text": [
      "✅ Batch completed in 10.41s (0.208s per text)\n",
      "🚀 Attempting batch of 50 texts...\n"
     ]
    },
    {
     "name": "stderr",
     "output_type": "stream",
     "text": [
      "Processing conversations:   7%|▋         | 142/2057 [24:57<5:25:24, 10.20s/it]"
     ]
    },
    {
     "name": "stdout",
     "output_type": "stream",
     "text": [
      "✅ Batch completed in 10.10s (0.202s per text)\n",
      "🚀 Attempting batch of 50 texts...\n"
     ]
    },
    {
     "name": "stderr",
     "output_type": "stream",
     "text": [
      "Processing conversations:   7%|▋         | 143/2057 [25:08<5:26:36, 10.24s/it]"
     ]
    },
    {
     "name": "stdout",
     "output_type": "stream",
     "text": [
      "✅ Batch completed in 10.33s (0.207s per text)\n",
      "🚀 Attempting batch of 50 texts...\n"
     ]
    },
    {
     "name": "stderr",
     "output_type": "stream",
     "text": [
      "Processing conversations:   7%|▋         | 144/2057 [25:18<5:26:30, 10.24s/it]"
     ]
    },
    {
     "name": "stdout",
     "output_type": "stream",
     "text": [
      "✅ Batch completed in 10.24s (0.205s per text)\n",
      "🚀 Attempting batch of 50 texts...\n"
     ]
    },
    {
     "name": "stderr",
     "output_type": "stream",
     "text": [
      "Processing conversations:   7%|▋         | 145/2057 [25:28<5:28:18, 10.30s/it]"
     ]
    },
    {
     "name": "stdout",
     "output_type": "stream",
     "text": [
      "✅ Batch completed in 10.44s (0.209s per text)\n",
      "🚀 Attempting batch of 50 texts...\n"
     ]
    },
    {
     "name": "stderr",
     "output_type": "stream",
     "text": [
      "Processing conversations:   7%|▋         | 146/2057 [25:38<5:26:53, 10.26s/it]"
     ]
    },
    {
     "name": "stdout",
     "output_type": "stream",
     "text": [
      "✅ Batch completed in 10.16s (0.203s per text)\n",
      "🚀 Attempting batch of 50 texts...\n"
     ]
    },
    {
     "name": "stderr",
     "output_type": "stream",
     "text": [
      "Processing conversations:   7%|▋         | 147/2057 [25:49<5:29:20, 10.35s/it]"
     ]
    },
    {
     "name": "stdout",
     "output_type": "stream",
     "text": [
      "✅ Batch completed in 10.53s (0.211s per text)\n",
      "🚀 Attempting batch of 50 texts...\n"
     ]
    },
    {
     "name": "stderr",
     "output_type": "stream",
     "text": [
      "Processing conversations:   7%|▋         | 148/2057 [25:59<5:30:58, 10.40s/it]"
     ]
    },
    {
     "name": "stdout",
     "output_type": "stream",
     "text": [
      "✅ Batch completed in 10.53s (0.211s per text)\n",
      "🚀 Attempting batch of 50 texts...\n"
     ]
    },
    {
     "name": "stderr",
     "output_type": "stream",
     "text": [
      "Processing conversations:   7%|▋         | 149/2057 [26:10<5:27:40, 10.30s/it]"
     ]
    },
    {
     "name": "stdout",
     "output_type": "stream",
     "text": [
      "✅ Batch completed in 10.07s (0.201s per text)\n",
      "🚀 Attempting batch of 50 texts...\n"
     ]
    },
    {
     "name": "stderr",
     "output_type": "stream",
     "text": [
      "Processing conversations:   7%|▋         | 150/2057 [26:19<5:23:42, 10.18s/it]"
     ]
    },
    {
     "name": "stdout",
     "output_type": "stream",
     "text": [
      "✅ Batch completed in 9.90s (0.198s per text)\n",
      "🚀 Attempting batch of 50 texts...\n"
     ]
    },
    {
     "name": "stderr",
     "output_type": "stream",
     "text": [
      "Processing conversations:   7%|▋         | 151/2057 [26:30<5:24:47, 10.22s/it]"
     ]
    },
    {
     "name": "stdout",
     "output_type": "stream",
     "text": [
      "✅ Batch completed in 10.31s (0.206s per text)\n",
      "🚀 Attempting batch of 50 texts...\n"
     ]
    },
    {
     "name": "stderr",
     "output_type": "stream",
     "text": [
      "Processing conversations:   7%|▋         | 152/2057 [26:40<5:26:24, 10.28s/it]"
     ]
    },
    {
     "name": "stdout",
     "output_type": "stream",
     "text": [
      "✅ Batch completed in 10.40s (0.208s per text)\n",
      "🚀 Attempting batch of 50 texts...\n"
     ]
    },
    {
     "name": "stderr",
     "output_type": "stream",
     "text": [
      "Processing conversations:   7%|▋         | 153/2057 [26:50<5:23:36, 10.20s/it]"
     ]
    },
    {
     "name": "stdout",
     "output_type": "stream",
     "text": [
      "✅ Batch completed in 9.99s (0.200s per text)\n",
      "🚀 Attempting batch of 50 texts...\n"
     ]
    },
    {
     "name": "stderr",
     "output_type": "stream",
     "text": [
      "Processing conversations:   7%|▋         | 154/2057 [27:00<5:22:23, 10.16s/it]"
     ]
    },
    {
     "name": "stdout",
     "output_type": "stream",
     "text": [
      "✅ Batch completed in 10.08s (0.202s per text)\n",
      "🚀 Attempting batch of 50 texts...\n"
     ]
    },
    {
     "name": "stderr",
     "output_type": "stream",
     "text": [
      "Processing conversations:   8%|▊         | 155/2057 [27:11<5:25:12, 10.26s/it]"
     ]
    },
    {
     "name": "stdout",
     "output_type": "stream",
     "text": [
      "✅ Batch completed in 10.46s (0.209s per text)\n",
      "🚀 Attempting batch of 50 texts...\n"
     ]
    },
    {
     "name": "stderr",
     "output_type": "stream",
     "text": [
      "Processing conversations:   8%|▊         | 156/2057 [27:21<5:21:35, 10.15s/it]"
     ]
    },
    {
     "name": "stdout",
     "output_type": "stream",
     "text": [
      "✅ Batch completed in 9.89s (0.198s per text)\n",
      "🚀 Attempting batch of 50 texts...\n"
     ]
    },
    {
     "name": "stderr",
     "output_type": "stream",
     "text": [
      "Processing conversations:   8%|▊         | 157/2057 [27:31<5:19:53, 10.10s/it]"
     ]
    },
    {
     "name": "stdout",
     "output_type": "stream",
     "text": [
      "✅ Batch completed in 9.98s (0.200s per text)\n",
      "🚀 Attempting batch of 50 texts...\n"
     ]
    },
    {
     "name": "stderr",
     "output_type": "stream",
     "text": [
      "Processing conversations:   8%|▊         | 158/2057 [27:41<5:19:45, 10.10s/it]"
     ]
    },
    {
     "name": "stdout",
     "output_type": "stream",
     "text": [
      "✅ Batch completed in 10.10s (0.202s per text)\n",
      "🚀 Attempting batch of 50 texts...\n"
     ]
    },
    {
     "name": "stderr",
     "output_type": "stream",
     "text": [
      "Processing conversations:   8%|▊         | 159/2057 [27:51<5:25:15, 10.28s/it]"
     ]
    },
    {
     "name": "stdout",
     "output_type": "stream",
     "text": [
      "✅ Batch completed in 10.69s (0.214s per text)\n",
      "🚀 Attempting batch of 50 texts...\n"
     ]
    },
    {
     "name": "stderr",
     "output_type": "stream",
     "text": [
      "Processing conversations:   8%|▊         | 160/2057 [28:02<5:28:27, 10.39s/it]"
     ]
    },
    {
     "name": "stdout",
     "output_type": "stream",
     "text": [
      "✅ Batch completed in 10.63s (0.213s per text)\n",
      "🚀 Attempting batch of 50 texts...\n"
     ]
    },
    {
     "name": "stderr",
     "output_type": "stream",
     "text": [
      "Processing conversations:   8%|▊         | 161/2057 [28:13<5:33:40, 10.56s/it]"
     ]
    },
    {
     "name": "stdout",
     "output_type": "stream",
     "text": [
      "✅ Batch completed in 10.95s (0.219s per text)\n",
      "🚀 Attempting batch of 50 texts...\n"
     ]
    },
    {
     "name": "stderr",
     "output_type": "stream",
     "text": [
      "Processing conversations:   8%|▊         | 162/2057 [28:24<5:33:47, 10.57s/it]"
     ]
    },
    {
     "name": "stdout",
     "output_type": "stream",
     "text": [
      "✅ Batch completed in 10.58s (0.212s per text)\n",
      "🚀 Attempting batch of 50 texts...\n"
     ]
    },
    {
     "name": "stderr",
     "output_type": "stream",
     "text": [
      "Processing conversations:   8%|▊         | 163/2057 [28:34<5:30:46, 10.48s/it]"
     ]
    },
    {
     "name": "stdout",
     "output_type": "stream",
     "text": [
      "✅ Batch completed in 10.26s (0.205s per text)\n",
      "🚀 Attempting batch of 50 texts...\n"
     ]
    },
    {
     "name": "stderr",
     "output_type": "stream",
     "text": [
      "Processing conversations:   8%|▊         | 164/2057 [28:44<5:28:15, 10.40s/it]"
     ]
    },
    {
     "name": "stdout",
     "output_type": "stream",
     "text": [
      "✅ Batch completed in 10.22s (0.204s per text)\n",
      "🚀 Attempting batch of 50 texts...\n"
     ]
    },
    {
     "name": "stderr",
     "output_type": "stream",
     "text": [
      "Processing conversations:   8%|▊         | 165/2057 [28:55<5:30:19, 10.48s/it]"
     ]
    },
    {
     "name": "stdout",
     "output_type": "stream",
     "text": [
      "✅ Batch completed in 10.63s (0.213s per text)\n",
      "🚀 Attempting batch of 50 texts...\n"
     ]
    },
    {
     "name": "stderr",
     "output_type": "stream",
     "text": [
      "Processing conversations:   8%|▊         | 166/2057 [29:05<5:29:08, 10.44s/it]"
     ]
    },
    {
     "name": "stdout",
     "output_type": "stream",
     "text": [
      "✅ Batch completed in 10.36s (0.207s per text)\n",
      "🚀 Attempting batch of 50 texts...\n"
     ]
    },
    {
     "name": "stderr",
     "output_type": "stream",
     "text": [
      "Processing conversations:   8%|▊         | 167/2057 [29:15<5:27:05, 10.38s/it]"
     ]
    },
    {
     "name": "stdout",
     "output_type": "stream",
     "text": [
      "✅ Batch completed in 10.24s (0.205s per text)\n",
      "🚀 Attempting batch of 50 texts...\n"
     ]
    },
    {
     "name": "stderr",
     "output_type": "stream",
     "text": [
      "Processing conversations:   8%|▊         | 168/2057 [29:26<5:29:59, 10.48s/it]"
     ]
    },
    {
     "name": "stdout",
     "output_type": "stream",
     "text": [
      "✅ Batch completed in 10.70s (0.214s per text)\n",
      "🚀 Attempting batch of 50 texts...\n"
     ]
    },
    {
     "name": "stderr",
     "output_type": "stream",
     "text": [
      "Processing conversations:   8%|▊         | 169/2057 [29:37<5:29:21, 10.47s/it]"
     ]
    },
    {
     "name": "stdout",
     "output_type": "stream",
     "text": [
      "✅ Batch completed in 10.43s (0.209s per text)\n",
      "🚀 Attempting batch of 50 texts...\n"
     ]
    },
    {
     "name": "stderr",
     "output_type": "stream",
     "text": [
      "Processing conversations:   8%|▊         | 170/2057 [29:47<5:30:34, 10.51s/it]"
     ]
    },
    {
     "name": "stdout",
     "output_type": "stream",
     "text": [
      "✅ Batch completed in 10.61s (0.212s per text)\n",
      "🚀 Attempting batch of 50 texts...\n"
     ]
    },
    {
     "name": "stderr",
     "output_type": "stream",
     "text": [
      "Processing conversations:   8%|▊         | 171/2057 [29:57<5:28:41, 10.46s/it]"
     ]
    },
    {
     "name": "stdout",
     "output_type": "stream",
     "text": [
      "✅ Batch completed in 10.32s (0.206s per text)\n",
      "🚀 Attempting batch of 50 texts...\n"
     ]
    },
    {
     "name": "stderr",
     "output_type": "stream",
     "text": [
      "Processing conversations:   8%|▊         | 172/2057 [30:08<5:27:35, 10.43s/it]"
     ]
    },
    {
     "name": "stdout",
     "output_type": "stream",
     "text": [
      "✅ Batch completed in 10.35s (0.207s per text)\n",
      "🚀 Attempting batch of 50 texts...\n"
     ]
    },
    {
     "name": "stderr",
     "output_type": "stream",
     "text": [
      "Processing conversations:   8%|▊         | 173/2057 [30:19<5:30:32, 10.53s/it]"
     ]
    },
    {
     "name": "stdout",
     "output_type": "stream",
     "text": [
      "✅ Batch completed in 10.75s (0.215s per text)\n",
      "🚀 Attempting batch of 50 texts...\n"
     ]
    },
    {
     "name": "stderr",
     "output_type": "stream",
     "text": [
      "Processing conversations:   8%|▊         | 174/2057 [30:29<5:29:12, 10.49s/it]"
     ]
    },
    {
     "name": "stdout",
     "output_type": "stream",
     "text": [
      "✅ Batch completed in 10.40s (0.208s per text)\n",
      "🚀 Attempting batch of 50 texts...\n"
     ]
    },
    {
     "name": "stderr",
     "output_type": "stream",
     "text": [
      "Processing conversations:   9%|▊         | 175/2057 [30:40<5:33:44, 10.64s/it]"
     ]
    },
    {
     "name": "stdout",
     "output_type": "stream",
     "text": [
      "✅ Batch completed in 10.98s (0.220s per text)\n",
      "🚀 Attempting batch of 50 texts...\n"
     ]
    },
    {
     "name": "stderr",
     "output_type": "stream",
     "text": [
      "Processing conversations:   9%|▊         | 176/2057 [30:51<5:33:09, 10.63s/it]"
     ]
    },
    {
     "name": "stdout",
     "output_type": "stream",
     "text": [
      "✅ Batch completed in 10.59s (0.212s per text)\n",
      "🚀 Attempting batch of 50 texts...\n"
     ]
    },
    {
     "name": "stderr",
     "output_type": "stream",
     "text": [
      "Processing conversations:   9%|▊         | 177/2057 [31:01<5:31:56, 10.59s/it]"
     ]
    },
    {
     "name": "stdout",
     "output_type": "stream",
     "text": [
      "✅ Batch completed in 10.51s (0.210s per text)\n",
      "🚀 Attempting batch of 50 texts...\n"
     ]
    },
    {
     "name": "stderr",
     "output_type": "stream",
     "text": [
      "Processing conversations:   9%|▊         | 178/2057 [31:11<5:29:07, 10.51s/it]"
     ]
    },
    {
     "name": "stdout",
     "output_type": "stream",
     "text": [
      "✅ Batch completed in 10.30s (0.206s per text)\n",
      "🚀 Attempting batch of 50 texts...\n"
     ]
    },
    {
     "name": "stderr",
     "output_type": "stream",
     "text": [
      "Processing conversations:   9%|▊         | 179/2057 [31:22<5:26:10, 10.42s/it]"
     ]
    },
    {
     "name": "stdout",
     "output_type": "stream",
     "text": [
      "✅ Batch completed in 10.21s (0.204s per text)\n",
      "🚀 Attempting batch of 50 texts...\n"
     ]
    },
    {
     "name": "stderr",
     "output_type": "stream",
     "text": [
      "Processing conversations:   9%|▉         | 180/2057 [31:32<5:28:04, 10.49s/it]"
     ]
    },
    {
     "name": "stdout",
     "output_type": "stream",
     "text": [
      "✅ Batch completed in 10.63s (0.213s per text)\n",
      "🚀 Attempting batch of 50 texts...\n"
     ]
    },
    {
     "name": "stderr",
     "output_type": "stream",
     "text": [
      "Processing conversations:   9%|▉         | 181/2057 [31:43<5:29:38, 10.54s/it]"
     ]
    },
    {
     "name": "stdout",
     "output_type": "stream",
     "text": [
      "✅ Batch completed in 10.67s (0.213s per text)\n",
      "🚀 Attempting batch of 50 texts...\n"
     ]
    },
    {
     "name": "stderr",
     "output_type": "stream",
     "text": [
      "Processing conversations:   9%|▉         | 182/2057 [31:53<5:26:51, 10.46s/it]"
     ]
    },
    {
     "name": "stdout",
     "output_type": "stream",
     "text": [
      "✅ Batch completed in 10.26s (0.205s per text)\n",
      "🚀 Attempting batch of 50 texts...\n"
     ]
    },
    {
     "name": "stderr",
     "output_type": "stream",
     "text": [
      "Processing conversations:   9%|▉         | 183/2057 [32:04<5:28:03, 10.50s/it]"
     ]
    },
    {
     "name": "stdout",
     "output_type": "stream",
     "text": [
      "✅ Batch completed in 10.60s (0.212s per text)\n",
      "🚀 Attempting batch of 50 texts...\n"
     ]
    },
    {
     "name": "stderr",
     "output_type": "stream",
     "text": [
      "Processing conversations:   9%|▉         | 184/2057 [32:14<5:27:41, 10.50s/it]"
     ]
    },
    {
     "name": "stdout",
     "output_type": "stream",
     "text": [
      "✅ Batch completed in 10.47s (0.209s per text)\n",
      "🚀 Attempting batch of 50 texts...\n"
     ]
    },
    {
     "name": "stderr",
     "output_type": "stream",
     "text": [
      "Processing conversations:   9%|▉         | 185/2057 [32:25<5:31:06, 10.61s/it]"
     ]
    },
    {
     "name": "stdout",
     "output_type": "stream",
     "text": [
      "✅ Batch completed in 10.88s (0.218s per text)\n",
      "🚀 Attempting batch of 50 texts...\n"
     ]
    },
    {
     "name": "stderr",
     "output_type": "stream",
     "text": [
      "Processing conversations:   9%|▉         | 186/2057 [32:35<5:25:07, 10.43s/it]"
     ]
    },
    {
     "name": "stdout",
     "output_type": "stream",
     "text": [
      "✅ Batch completed in 9.99s (0.200s per text)\n",
      "🚀 Attempting batch of 50 texts...\n"
     ]
    },
    {
     "name": "stderr",
     "output_type": "stream",
     "text": [
      "Processing conversations:   9%|▉         | 187/2057 [32:46<5:26:08, 10.46s/it]"
     ]
    },
    {
     "name": "stdout",
     "output_type": "stream",
     "text": [
      "✅ Batch completed in 10.55s (0.211s per text)\n",
      "🚀 Attempting batch of 50 texts...\n"
     ]
    },
    {
     "name": "stderr",
     "output_type": "stream",
     "text": [
      "Processing conversations:   9%|▉         | 188/2057 [32:56<5:23:46, 10.39s/it]"
     ]
    },
    {
     "name": "stdout",
     "output_type": "stream",
     "text": [
      "✅ Batch completed in 10.22s (0.204s per text)\n",
      "🚀 Attempting batch of 50 texts...\n"
     ]
    },
    {
     "name": "stderr",
     "output_type": "stream",
     "text": [
      "Processing conversations:   9%|▉         | 189/2057 [33:06<5:21:09, 10.32s/it]"
     ]
    },
    {
     "name": "stdout",
     "output_type": "stream",
     "text": [
      "✅ Batch completed in 10.12s (0.202s per text)\n",
      "🚀 Attempting batch of 50 texts...\n"
     ]
    },
    {
     "name": "stderr",
     "output_type": "stream",
     "text": [
      "Processing conversations:   9%|▉         | 190/2057 [33:17<5:22:46, 10.37s/it]"
     ]
    },
    {
     "name": "stdout",
     "output_type": "stream",
     "text": [
      "✅ Batch completed in 10.50s (0.210s per text)\n",
      "🚀 Attempting batch of 50 texts...\n"
     ]
    },
    {
     "name": "stderr",
     "output_type": "stream",
     "text": [
      "Processing conversations:   9%|▉         | 191/2057 [33:27<5:23:06, 10.39s/it]"
     ]
    },
    {
     "name": "stdout",
     "output_type": "stream",
     "text": [
      "✅ Batch completed in 10.42s (0.208s per text)\n",
      "🚀 Attempting batch of 50 texts...\n"
     ]
    },
    {
     "name": "stderr",
     "output_type": "stream",
     "text": [
      "Processing conversations:   9%|▉         | 192/2057 [33:38<5:26:26, 10.50s/it]"
     ]
    },
    {
     "name": "stdout",
     "output_type": "stream",
     "text": [
      "✅ Batch completed in 10.76s (0.215s per text)\n",
      "🚀 Attempting batch of 50 texts...\n"
     ]
    },
    {
     "name": "stderr",
     "output_type": "stream",
     "text": [
      "Processing conversations:   9%|▉         | 193/2057 [33:48<5:22:18, 10.37s/it]"
     ]
    },
    {
     "name": "stdout",
     "output_type": "stream",
     "text": [
      "✅ Batch completed in 10.07s (0.201s per text)\n",
      "🚀 Attempting batch of 50 texts...\n"
     ]
    },
    {
     "name": "stderr",
     "output_type": "stream",
     "text": [
      "Processing conversations:   9%|▉         | 194/2057 [33:58<5:22:56, 10.40s/it]"
     ]
    },
    {
     "name": "stdout",
     "output_type": "stream",
     "text": [
      "✅ Batch completed in 10.45s (0.209s per text)\n",
      "🚀 Attempting batch of 50 texts...\n"
     ]
    },
    {
     "name": "stderr",
     "output_type": "stream",
     "text": [
      "Processing conversations:   9%|▉         | 195/2057 [34:09<5:23:25, 10.42s/it]"
     ]
    },
    {
     "name": "stdout",
     "output_type": "stream",
     "text": [
      "✅ Batch completed in 10.47s (0.209s per text)\n",
      "🚀 Attempting batch of 50 texts...\n"
     ]
    },
    {
     "name": "stderr",
     "output_type": "stream",
     "text": [
      "Processing conversations:  10%|█         | 206/2057 [36:03<5:21:30, 10.42s/it]"
     ]
    },
    {
     "name": "stdout",
     "output_type": "stream",
     "text": [
      "✅ Batch completed in 10.53s (0.211s per text)\n",
      "🚀 Attempting batch of 50 texts...\n"
     ]
    },
    {
     "name": "stderr",
     "output_type": "stream",
     "text": [
      "Processing conversations:  10%|█         | 207/2057 [36:14<5:21:51, 10.44s/it]"
     ]
    },
    {
     "name": "stdout",
     "output_type": "stream",
     "text": [
      "✅ Batch completed in 10.47s (0.209s per text)\n",
      "🚀 Attempting batch of 50 texts...\n"
     ]
    },
    {
     "name": "stderr",
     "output_type": "stream",
     "text": [
      "Processing conversations:  10%|█         | 208/2057 [36:24<5:21:19, 10.43s/it]"
     ]
    },
    {
     "name": "stdout",
     "output_type": "stream",
     "text": [
      "✅ Batch completed in 10.39s (0.208s per text)\n",
      "🚀 Attempting batch of 50 texts...\n"
     ]
    },
    {
     "name": "stderr",
     "output_type": "stream",
     "text": [
      "Processing conversations:  10%|█         | 209/2057 [36:35<5:21:31, 10.44s/it]"
     ]
    },
    {
     "name": "stdout",
     "output_type": "stream",
     "text": [
      "✅ Batch completed in 10.46s (0.209s per text)\n",
      "🚀 Attempting batch of 50 texts...\n"
     ]
    },
    {
     "name": "stderr",
     "output_type": "stream",
     "text": [
      "Processing conversations:  10%|█         | 210/2057 [36:45<5:22:43, 10.48s/it]"
     ]
    },
    {
     "name": "stdout",
     "output_type": "stream",
     "text": [
      "✅ Batch completed in 10.58s (0.212s per text)\n",
      "🚀 Attempting batch of 50 texts...\n"
     ]
    },
    {
     "name": "stderr",
     "output_type": "stream",
     "text": [
      "Processing conversations:  10%|█         | 211/2057 [36:56<5:22:47, 10.49s/it]"
     ]
    },
    {
     "name": "stdout",
     "output_type": "stream",
     "text": [
      "✅ Batch completed in 10.50s (0.210s per text)\n",
      "🚀 Attempting batch of 50 texts...\n"
     ]
    },
    {
     "name": "stderr",
     "output_type": "stream",
     "text": [
      "Processing conversations:  10%|█         | 212/2057 [37:06<5:21:01, 10.44s/it]"
     ]
    },
    {
     "name": "stdout",
     "output_type": "stream",
     "text": [
      "✅ Batch completed in 10.32s (0.206s per text)\n",
      "🚀 Attempting batch of 50 texts...\n"
     ]
    },
    {
     "name": "stderr",
     "output_type": "stream",
     "text": [
      "Processing conversations:  10%|█         | 213/2057 [37:16<5:18:12, 10.35s/it]"
     ]
    },
    {
     "name": "stdout",
     "output_type": "stream",
     "text": [
      "✅ Batch completed in 10.15s (0.203s per text)\n",
      "🚀 Attempting batch of 50 texts...\n"
     ]
    },
    {
     "name": "stderr",
     "output_type": "stream",
     "text": [
      "Processing conversations:  10%|█         | 214/2057 [37:27<5:20:14, 10.43s/it]"
     ]
    },
    {
     "name": "stdout",
     "output_type": "stream",
     "text": [
      "✅ Batch completed in 10.58s (0.212s per text)\n",
      "🚀 Attempting batch of 50 texts...\n"
     ]
    },
    {
     "name": "stderr",
     "output_type": "stream",
     "text": [
      "Processing conversations:  10%|█         | 215/2057 [37:37<5:19:52, 10.42s/it]"
     ]
    },
    {
     "name": "stdout",
     "output_type": "stream",
     "text": [
      "✅ Batch completed in 10.40s (0.208s per text)\n",
      "🚀 Attempting batch of 50 texts...\n"
     ]
    },
    {
     "name": "stderr",
     "output_type": "stream",
     "text": [
      "Processing conversations:  11%|█         | 216/2057 [37:48<5:17:45, 10.36s/it]"
     ]
    },
    {
     "name": "stdout",
     "output_type": "stream",
     "text": [
      "✅ Batch completed in 10.20s (0.204s per text)\n",
      "🚀 Attempting batch of 50 texts...\n"
     ]
    },
    {
     "name": "stderr",
     "output_type": "stream",
     "text": [
      "Processing conversations:  11%|█         | 217/2057 [37:58<5:14:59, 10.27s/it]"
     ]
    },
    {
     "name": "stdout",
     "output_type": "stream",
     "text": [
      "✅ Batch completed in 10.07s (0.201s per text)\n",
      "🚀 Attempting batch of 50 texts...\n"
     ]
    },
    {
     "name": "stderr",
     "output_type": "stream",
     "text": [
      "Processing conversations:  11%|█         | 218/2057 [38:08<5:14:02, 10.25s/it]"
     ]
    },
    {
     "name": "stdout",
     "output_type": "stream",
     "text": [
      "✅ Batch completed in 10.18s (0.204s per text)\n",
      "🚀 Attempting batch of 50 texts...\n"
     ]
    },
    {
     "name": "stderr",
     "output_type": "stream",
     "text": [
      "Processing conversations:  11%|█         | 219/2057 [38:18<5:15:29, 10.30s/it]"
     ]
    },
    {
     "name": "stdout",
     "output_type": "stream",
     "text": [
      "✅ Batch completed in 10.41s (0.208s per text)\n",
      "🚀 Attempting batch of 50 texts...\n"
     ]
    },
    {
     "name": "stderr",
     "output_type": "stream",
     "text": [
      "Processing conversations:  11%|█         | 220/2057 [38:28<5:12:22, 10.20s/it]"
     ]
    },
    {
     "name": "stdout",
     "output_type": "stream",
     "text": [
      "✅ Batch completed in 9.97s (0.199s per text)\n",
      "🚀 Attempting batch of 50 texts...\n"
     ]
    },
    {
     "name": "stderr",
     "output_type": "stream",
     "text": [
      "Processing conversations:  11%|█         | 221/2057 [38:39<5:14:46, 10.29s/it]"
     ]
    },
    {
     "name": "stdout",
     "output_type": "stream",
     "text": [
      "✅ Batch completed in 10.48s (0.210s per text)\n",
      "🚀 Attempting batch of 50 texts...\n"
     ]
    },
    {
     "name": "stderr",
     "output_type": "stream",
     "text": [
      "Processing conversations:  11%|█         | 222/2057 [38:49<5:13:39, 10.26s/it]"
     ]
    },
    {
     "name": "stdout",
     "output_type": "stream",
     "text": [
      "✅ Batch completed in 10.17s (0.203s per text)\n",
      "🚀 Attempting batch of 50 texts...\n"
     ]
    },
    {
     "name": "stderr",
     "output_type": "stream",
     "text": [
      "Processing conversations:  11%|█         | 223/2057 [38:59<5:15:13, 10.31s/it]"
     ]
    },
    {
     "name": "stdout",
     "output_type": "stream",
     "text": [
      "✅ Batch completed in 10.43s (0.209s per text)\n",
      "🚀 Attempting batch of 50 texts...\n"
     ]
    },
    {
     "name": "stderr",
     "output_type": "stream",
     "text": [
      "Processing conversations:  11%|█         | 224/2057 [39:09<5:12:06, 10.22s/it]"
     ]
    },
    {
     "name": "stdout",
     "output_type": "stream",
     "text": [
      "✅ Batch completed in 9.98s (0.200s per text)\n",
      "🚀 Attempting batch of 50 texts...\n"
     ]
    },
    {
     "name": "stderr",
     "output_type": "stream",
     "text": [
      "Processing conversations:  11%|█         | 225/2057 [39:19<5:10:22, 10.17s/it]"
     ]
    },
    {
     "name": "stdout",
     "output_type": "stream",
     "text": [
      "✅ Batch completed in 10.04s (0.201s per text)\n",
      "🚀 Attempting batch of 50 texts...\n"
     ]
    },
    {
     "name": "stderr",
     "output_type": "stream",
     "text": [
      "Processing conversations:  11%|█         | 226/2057 [39:30<5:12:37, 10.24s/it]"
     ]
    },
    {
     "name": "stdout",
     "output_type": "stream",
     "text": [
      "✅ Batch completed in 10.42s (0.208s per text)\n",
      "🚀 Attempting batch of 50 texts...\n"
     ]
    },
    {
     "name": "stderr",
     "output_type": "stream",
     "text": [
      "Processing conversations:  11%|█         | 227/2057 [39:40<5:12:30, 10.25s/it]"
     ]
    },
    {
     "name": "stdout",
     "output_type": "stream",
     "text": [
      "✅ Batch completed in 10.24s (0.205s per text)\n",
      "🚀 Attempting batch of 50 texts...\n"
     ]
    },
    {
     "name": "stderr",
     "output_type": "stream",
     "text": [
      "Processing conversations:  11%|█         | 228/2057 [39:51<5:18:07, 10.44s/it]"
     ]
    },
    {
     "name": "stdout",
     "output_type": "stream",
     "text": [
      "✅ Batch completed in 10.87s (0.217s per text)\n",
      "🚀 Attempting batch of 50 texts...\n"
     ]
    },
    {
     "name": "stderr",
     "output_type": "stream",
     "text": [
      "Processing conversations:  11%|█         | 229/2057 [40:02<5:19:55, 10.50s/it]"
     ]
    },
    {
     "name": "stdout",
     "output_type": "stream",
     "text": [
      "✅ Batch completed in 10.64s (0.213s per text)\n",
      "🚀 Attempting batch of 50 texts...\n"
     ]
    },
    {
     "name": "stderr",
     "output_type": "stream",
     "text": [
      "Processing conversations:  11%|█         | 230/2057 [40:13<5:23:43, 10.63s/it]"
     ]
    },
    {
     "name": "stdout",
     "output_type": "stream",
     "text": [
      "✅ Batch completed in 10.93s (0.219s per text)\n",
      "🚀 Attempting batch of 50 texts...\n"
     ]
    },
    {
     "name": "stderr",
     "output_type": "stream",
     "text": [
      "Processing conversations:  11%|█         | 231/2057 [40:23<5:21:36, 10.57s/it]"
     ]
    },
    {
     "name": "stdout",
     "output_type": "stream",
     "text": [
      "✅ Batch completed in 10.41s (0.208s per text)\n",
      "🚀 Attempting batch of 50 texts...\n"
     ]
    },
    {
     "name": "stderr",
     "output_type": "stream",
     "text": [
      "Processing conversations:  11%|█▏        | 232/2057 [40:34<5:21:40, 10.58s/it]"
     ]
    },
    {
     "name": "stdout",
     "output_type": "stream",
     "text": [
      "✅ Batch completed in 10.59s (0.212s per text)\n",
      "🚀 Attempting batch of 50 texts...\n"
     ]
    },
    {
     "name": "stderr",
     "output_type": "stream",
     "text": [
      "Processing conversations:  11%|█▏        | 233/2057 [40:44<5:23:48, 10.65s/it]"
     ]
    },
    {
     "name": "stdout",
     "output_type": "stream",
     "text": [
      "✅ Batch completed in 10.82s (0.216s per text)\n",
      "🚀 Attempting batch of 50 texts...\n"
     ]
    },
    {
     "name": "stderr",
     "output_type": "stream",
     "text": [
      "Processing conversations:  11%|█▏        | 234/2057 [40:55<5:26:21, 10.74s/it]"
     ]
    },
    {
     "name": "stdout",
     "output_type": "stream",
     "text": [
      "✅ Batch completed in 10.94s (0.219s per text)\n",
      "🚀 Attempting batch of 50 texts...\n"
     ]
    },
    {
     "name": "stderr",
     "output_type": "stream",
     "text": [
      "Processing conversations:  11%|█▏        | 235/2057 [41:06<5:27:08, 10.77s/it]"
     ]
    },
    {
     "name": "stdout",
     "output_type": "stream",
     "text": [
      "✅ Batch completed in 10.84s (0.217s per text)\n",
      "🚀 Attempting batch of 50 texts...\n"
     ]
    },
    {
     "name": "stderr",
     "output_type": "stream",
     "text": [
      "Processing conversations:  11%|█▏        | 236/2057 [41:17<5:29:26, 10.85s/it]"
     ]
    },
    {
     "name": "stdout",
     "output_type": "stream",
     "text": [
      "✅ Batch completed in 11.03s (0.221s per text)\n",
      "🚀 Attempting batch of 50 texts...\n"
     ]
    },
    {
     "name": "stderr",
     "output_type": "stream",
     "text": [
      "Processing conversations:  12%|█▏        | 237/2057 [41:28<5:30:54, 10.91s/it]"
     ]
    },
    {
     "name": "stdout",
     "output_type": "stream",
     "text": [
      "✅ Batch completed in 11.03s (0.221s per text)\n",
      "🚀 Attempting batch of 50 texts...\n"
     ]
    },
    {
     "name": "stderr",
     "output_type": "stream",
     "text": [
      "Processing conversations:  12%|█▏        | 238/2057 [41:39<5:29:53, 10.88s/it]"
     ]
    },
    {
     "name": "stdout",
     "output_type": "stream",
     "text": [
      "✅ Batch completed in 10.81s (0.216s per text)\n",
      "🚀 Attempting batch of 50 texts...\n"
     ]
    },
    {
     "name": "stderr",
     "output_type": "stream",
     "text": [
      "Processing conversations:  12%|█▏        | 239/2057 [41:50<5:30:10, 10.90s/it]"
     ]
    },
    {
     "name": "stdout",
     "output_type": "stream",
     "text": [
      "✅ Batch completed in 10.92s (0.218s per text)\n",
      "🚀 Attempting batch of 50 texts...\n"
     ]
    },
    {
     "name": "stderr",
     "output_type": "stream",
     "text": [
      "Processing conversations:  12%|█▏        | 240/2057 [42:01<5:29:33, 10.88s/it]"
     ]
    },
    {
     "name": "stdout",
     "output_type": "stream",
     "text": [
      "✅ Batch completed in 10.84s (0.217s per text)\n",
      "🚀 Attempting batch of 50 texts...\n"
     ]
    },
    {
     "name": "stderr",
     "output_type": "stream",
     "text": [
      "Processing conversations:  12%|█▏        | 241/2057 [42:11<5:25:40, 10.76s/it]"
     ]
    },
    {
     "name": "stdout",
     "output_type": "stream",
     "text": [
      "✅ Batch completed in 10.47s (0.209s per text)\n",
      "🚀 Attempting batch of 50 texts...\n"
     ]
    },
    {
     "name": "stderr",
     "output_type": "stream",
     "text": [
      "Processing conversations:  12%|█▏        | 242/2057 [42:22<5:27:11, 10.82s/it]"
     ]
    },
    {
     "name": "stdout",
     "output_type": "stream",
     "text": [
      "✅ Batch completed in 10.94s (0.219s per text)\n",
      "🚀 Attempting batch of 50 texts...\n"
     ]
    },
    {
     "name": "stderr",
     "output_type": "stream",
     "text": [
      "Processing conversations:  12%|█▏        | 243/2057 [42:34<5:30:58, 10.95s/it]"
     ]
    },
    {
     "name": "stdout",
     "output_type": "stream",
     "text": [
      "✅ Batch completed in 11.24s (0.225s per text)\n",
      "🚀 Attempting batch of 50 texts...\n"
     ]
    },
    {
     "name": "stderr",
     "output_type": "stream",
     "text": [
      "Processing conversations:  12%|█▏        | 244/2057 [42:45<5:37:04, 11.16s/it]"
     ]
    },
    {
     "name": "stdout",
     "output_type": "stream",
     "text": [
      "✅ Batch completed in 11.63s (0.233s per text)\n",
      "🚀 Attempting batch of 50 texts...\n"
     ]
    },
    {
     "name": "stderr",
     "output_type": "stream",
     "text": [
      "Processing conversations:  12%|█▏        | 245/2057 [42:56<5:30:42, 10.95s/it]"
     ]
    },
    {
     "name": "stdout",
     "output_type": "stream",
     "text": [
      "✅ Batch completed in 10.47s (0.209s per text)\n",
      "🚀 Attempting batch of 50 texts...\n"
     ]
    },
    {
     "name": "stderr",
     "output_type": "stream",
     "text": [
      "Processing conversations:  12%|█▏        | 246/2057 [43:06<5:22:00, 10.67s/it]"
     ]
    },
    {
     "name": "stdout",
     "output_type": "stream",
     "text": [
      "✅ Batch completed in 10.00s (0.200s per text)\n",
      "🚀 Attempting batch of 50 texts...\n"
     ]
    },
    {
     "name": "stderr",
     "output_type": "stream",
     "text": [
      "Processing conversations:  12%|█▏        | 247/2057 [43:17<5:24:54, 10.77s/it]"
     ]
    },
    {
     "name": "stdout",
     "output_type": "stream",
     "text": [
      "✅ Batch completed in 11.00s (0.220s per text)\n",
      "🚀 Attempting batch of 50 texts...\n"
     ]
    },
    {
     "name": "stderr",
     "output_type": "stream",
     "text": [
      "Processing conversations:  12%|█▏        | 248/2057 [43:27<5:20:35, 10.63s/it]"
     ]
    },
    {
     "name": "stdout",
     "output_type": "stream",
     "text": [
      "✅ Batch completed in 10.31s (0.206s per text)\n",
      "🚀 Attempting batch of 50 texts...\n"
     ]
    },
    {
     "name": "stderr",
     "output_type": "stream",
     "text": [
      "Processing conversations:  12%|█▏        | 249/2057 [43:37<5:15:24, 10.47s/it]"
     ]
    },
    {
     "name": "stdout",
     "output_type": "stream",
     "text": [
      "✅ Batch completed in 10.07s (0.201s per text)\n",
      "🚀 Attempting batch of 50 texts...\n"
     ]
    },
    {
     "name": "stderr",
     "output_type": "stream",
     "text": [
      "Processing conversations:  12%|█▏        | 250/2057 [43:47<5:13:33, 10.41s/it]"
     ]
    },
    {
     "name": "stdout",
     "output_type": "stream",
     "text": [
      "✅ Batch completed in 10.27s (0.205s per text)\n",
      "🚀 Attempting batch of 50 texts...\n"
     ]
    },
    {
     "name": "stderr",
     "output_type": "stream",
     "text": [
      "Processing conversations:  12%|█▏        | 251/2057 [43:58<5:15:06, 10.47s/it]"
     ]
    },
    {
     "name": "stdout",
     "output_type": "stream",
     "text": [
      "✅ Batch completed in 10.60s (0.212s per text)\n",
      "🚀 Attempting batch of 50 texts...\n"
     ]
    },
    {
     "name": "stderr",
     "output_type": "stream",
     "text": [
      "Processing conversations:  12%|█▏        | 252/2057 [44:08<5:15:46, 10.50s/it]"
     ]
    },
    {
     "name": "stdout",
     "output_type": "stream",
     "text": [
      "✅ Batch completed in 10.55s (0.211s per text)\n",
      "🚀 Attempting batch of 50 texts...\n"
     ]
    },
    {
     "name": "stderr",
     "output_type": "stream",
     "text": [
      "Processing conversations:  12%|█▏        | 253/2057 [44:19<5:17:25, 10.56s/it]"
     ]
    },
    {
     "name": "stdout",
     "output_type": "stream",
     "text": [
      "✅ Batch completed in 10.69s (0.214s per text)\n",
      "🚀 Attempting batch of 50 texts...\n"
     ]
    },
    {
     "name": "stderr",
     "output_type": "stream",
     "text": [
      "Processing conversations:  12%|█▏        | 254/2057 [44:30<5:15:15, 10.49s/it]"
     ]
    },
    {
     "name": "stdout",
     "output_type": "stream",
     "text": [
      "✅ Batch completed in 10.33s (0.207s per text)\n",
      "🚀 Attempting batch of 50 texts...\n"
     ]
    },
    {
     "name": "stderr",
     "output_type": "stream",
     "text": [
      "Processing conversations:  12%|█▏        | 255/2057 [44:40<5:15:38, 10.51s/it]"
     ]
    },
    {
     "name": "stdout",
     "output_type": "stream",
     "text": [
      "✅ Batch completed in 10.54s (0.211s per text)\n",
      "🚀 Attempting batch of 50 texts...\n"
     ]
    },
    {
     "name": "stderr",
     "output_type": "stream",
     "text": [
      "Processing conversations:  12%|█▏        | 256/2057 [44:50<5:14:24, 10.47s/it]"
     ]
    },
    {
     "name": "stdout",
     "output_type": "stream",
     "text": [
      "✅ Batch completed in 10.38s (0.208s per text)\n",
      "🚀 Attempting batch of 50 texts...\n"
     ]
    },
    {
     "name": "stderr",
     "output_type": "stream",
     "text": [
      "Processing conversations:  12%|█▏        | 257/2057 [45:01<5:14:02, 10.47s/it]"
     ]
    },
    {
     "name": "stdout",
     "output_type": "stream",
     "text": [
      "✅ Batch completed in 10.45s (0.209s per text)\n",
      "🚀 Attempting batch of 50 texts...\n"
     ]
    },
    {
     "name": "stderr",
     "output_type": "stream",
     "text": [
      "Processing conversations:  13%|█▎        | 258/2057 [45:11<5:14:29, 10.49s/it]"
     ]
    },
    {
     "name": "stdout",
     "output_type": "stream",
     "text": [
      "✅ Batch completed in 10.53s (0.211s per text)\n",
      "🚀 Attempting batch of 50 texts...\n"
     ]
    },
    {
     "name": "stderr",
     "output_type": "stream",
     "text": [
      "Processing conversations:  13%|█▎        | 259/2057 [45:21<5:10:14, 10.35s/it]"
     ]
    },
    {
     "name": "stdout",
     "output_type": "stream",
     "text": [
      "✅ Batch completed in 10.03s (0.201s per text)\n",
      "🚀 Attempting batch of 50 texts...\n"
     ]
    },
    {
     "name": "stderr",
     "output_type": "stream",
     "text": [
      "Processing conversations:  13%|█▎        | 260/2057 [45:32<5:15:33, 10.54s/it]"
     ]
    },
    {
     "name": "stdout",
     "output_type": "stream",
     "text": [
      "✅ Batch completed in 10.95s (0.219s per text)\n",
      "🚀 Attempting batch of 50 texts...\n"
     ]
    },
    {
     "name": "stderr",
     "output_type": "stream",
     "text": [
      "Processing conversations:  13%|█▎        | 261/2057 [45:43<5:12:45, 10.45s/it]"
     ]
    },
    {
     "name": "stdout",
     "output_type": "stream",
     "text": [
      "✅ Batch completed in 10.24s (0.205s per text)\n",
      "🚀 Attempting batch of 50 texts...\n"
     ]
    },
    {
     "name": "stderr",
     "output_type": "stream",
     "text": [
      "Processing conversations:  13%|█▎        | 262/2057 [45:53<5:10:31, 10.38s/it]"
     ]
    },
    {
     "name": "stdout",
     "output_type": "stream",
     "text": [
      "✅ Batch completed in 10.20s (0.204s per text)\n",
      "🚀 Attempting batch of 50 texts...\n"
     ]
    },
    {
     "name": "stderr",
     "output_type": "stream",
     "text": [
      "Processing conversations:  13%|█▎        | 263/2057 [46:03<5:11:25, 10.42s/it]"
     ]
    },
    {
     "name": "stdout",
     "output_type": "stream",
     "text": [
      "✅ Batch completed in 10.49s (0.210s per text)\n",
      "🚀 Attempting batch of 50 texts...\n"
     ]
    },
    {
     "name": "stderr",
     "output_type": "stream",
     "text": [
      "Processing conversations:  13%|█▎        | 264/2057 [46:14<5:11:08, 10.41s/it]"
     ]
    },
    {
     "name": "stdout",
     "output_type": "stream",
     "text": [
      "✅ Batch completed in 10.40s (0.208s per text)\n",
      "🚀 Attempting batch of 50 texts...\n"
     ]
    },
    {
     "name": "stderr",
     "output_type": "stream",
     "text": [
      "Processing conversations:  13%|█▎        | 265/2057 [46:24<5:09:48, 10.37s/it]"
     ]
    },
    {
     "name": "stdout",
     "output_type": "stream",
     "text": [
      "✅ Batch completed in 10.27s (0.205s per text)\n",
      "🚀 Attempting batch of 50 texts...\n"
     ]
    },
    {
     "name": "stderr",
     "output_type": "stream",
     "text": [
      "Processing conversations:  13%|█▎        | 266/2057 [46:35<5:10:00, 10.39s/it]"
     ]
    },
    {
     "name": "stdout",
     "output_type": "stream",
     "text": [
      "✅ Batch completed in 10.40s (0.208s per text)\n",
      "🚀 Attempting batch of 50 texts...\n"
     ]
    },
    {
     "name": "stderr",
     "output_type": "stream",
     "text": [
      "Processing conversations:  13%|█▎        | 267/2057 [46:45<5:08:16, 10.33s/it]"
     ]
    },
    {
     "name": "stdout",
     "output_type": "stream",
     "text": [
      "✅ Batch completed in 10.21s (0.204s per text)\n",
      "🚀 Attempting batch of 50 texts...\n"
     ]
    },
    {
     "name": "stderr",
     "output_type": "stream",
     "text": [
      "Processing conversations:  13%|█▎        | 268/2057 [46:55<5:09:21, 10.38s/it]"
     ]
    },
    {
     "name": "stdout",
     "output_type": "stream",
     "text": [
      "✅ Batch completed in 10.46s (0.209s per text)\n",
      "🚀 Attempting batch of 50 texts...\n"
     ]
    },
    {
     "name": "stderr",
     "output_type": "stream",
     "text": [
      "Processing conversations:  13%|█▎        | 269/2057 [47:06<5:10:47, 10.43s/it]"
     ]
    },
    {
     "name": "stdout",
     "output_type": "stream",
     "text": [
      "✅ Batch completed in 10.55s (0.211s per text)\n",
      "🚀 Attempting batch of 50 texts...\n"
     ]
    },
    {
     "name": "stderr",
     "output_type": "stream",
     "text": [
      "Processing conversations:  13%|█▎        | 270/2057 [47:16<5:07:34, 10.33s/it]"
     ]
    },
    {
     "name": "stdout",
     "output_type": "stream",
     "text": [
      "✅ Batch completed in 10.08s (0.202s per text)\n",
      "🚀 Attempting batch of 50 texts...\n"
     ]
    },
    {
     "name": "stderr",
     "output_type": "stream",
     "text": [
      "Processing conversations:  13%|█▎        | 271/2057 [47:26<5:04:37, 10.23s/it]"
     ]
    },
    {
     "name": "stdout",
     "output_type": "stream",
     "text": [
      "✅ Batch completed in 10.01s (0.200s per text)\n",
      "🚀 Attempting batch of 50 texts...\n"
     ]
    },
    {
     "name": "stderr",
     "output_type": "stream",
     "text": [
      "Processing conversations:  13%|█▎        | 272/2057 [47:36<5:04:49, 10.25s/it]"
     ]
    },
    {
     "name": "stdout",
     "output_type": "stream",
     "text": [
      "✅ Batch completed in 10.27s (0.205s per text)\n",
      "🚀 Attempting batch of 50 texts...\n"
     ]
    },
    {
     "name": "stderr",
     "output_type": "stream",
     "text": [
      "Processing conversations:  13%|█▎        | 273/2057 [47:46<5:02:27, 10.17s/it]"
     ]
    },
    {
     "name": "stdout",
     "output_type": "stream",
     "text": [
      "✅ Batch completed in 9.99s (0.200s per text)\n",
      "🚀 Attempting batch of 50 texts...\n"
     ]
    },
    {
     "name": "stderr",
     "output_type": "stream",
     "text": [
      "Processing conversations:  13%|█▎        | 274/2057 [47:56<5:03:31, 10.21s/it]"
     ]
    },
    {
     "name": "stdout",
     "output_type": "stream",
     "text": [
      "✅ Batch completed in 10.30s (0.206s per text)\n",
      "🚀 Attempting batch of 50 texts...\n"
     ]
    },
    {
     "name": "stderr",
     "output_type": "stream",
     "text": [
      "Processing conversations:  13%|█▎        | 275/2057 [48:07<5:07:29, 10.35s/it]"
     ]
    },
    {
     "name": "stdout",
     "output_type": "stream",
     "text": [
      "✅ Batch completed in 10.67s (0.213s per text)\n",
      "🚀 Attempting batch of 50 texts...\n"
     ]
    },
    {
     "name": "stderr",
     "output_type": "stream",
     "text": [
      "Processing conversations:  13%|█▎        | 276/2057 [48:17<5:04:02, 10.24s/it]"
     ]
    },
    {
     "name": "stdout",
     "output_type": "stream",
     "text": [
      "✅ Batch completed in 9.98s (0.200s per text)\n",
      "🚀 Attempting batch of 50 texts...\n"
     ]
    },
    {
     "name": "stderr",
     "output_type": "stream",
     "text": [
      "Processing conversations:  13%|█▎        | 277/2057 [48:27<5:02:05, 10.18s/it]"
     ]
    },
    {
     "name": "stdout",
     "output_type": "stream",
     "text": [
      "✅ Batch completed in 10.04s (0.201s per text)\n",
      "🚀 Attempting batch of 50 texts...\n"
     ]
    },
    {
     "name": "stderr",
     "output_type": "stream",
     "text": [
      "Processing conversations:  14%|█▎        | 278/2057 [48:37<5:01:49, 10.18s/it]"
     ]
    },
    {
     "name": "stdout",
     "output_type": "stream",
     "text": [
      "✅ Batch completed in 10.16s (0.203s per text)\n",
      "🚀 Attempting batch of 50 texts...\n"
     ]
    },
    {
     "name": "stderr",
     "output_type": "stream",
     "text": [
      "Processing conversations:  14%|█▎        | 279/2057 [48:48<5:02:18, 10.20s/it]"
     ]
    },
    {
     "name": "stdout",
     "output_type": "stream",
     "text": [
      "✅ Batch completed in 10.25s (0.205s per text)\n",
      "🚀 Attempting batch of 50 texts...\n"
     ]
    },
    {
     "name": "stderr",
     "output_type": "stream",
     "text": [
      "Processing conversations:  14%|█▎        | 280/2057 [48:58<5:00:30, 10.15s/it]"
     ]
    },
    {
     "name": "stdout",
     "output_type": "stream",
     "text": [
      "✅ Batch completed in 10.00s (0.200s per text)\n",
      "🚀 Attempting batch of 50 texts...\n"
     ]
    },
    {
     "name": "stderr",
     "output_type": "stream",
     "text": [
      "Processing conversations:  14%|█▎        | 281/2057 [49:08<4:59:40, 10.12s/it]"
     ]
    },
    {
     "name": "stdout",
     "output_type": "stream",
     "text": [
      "✅ Batch completed in 10.06s (0.201s per text)\n",
      "🚀 Attempting batch of 50 texts...\n"
     ]
    },
    {
     "name": "stderr",
     "output_type": "stream",
     "text": [
      "Processing conversations:  14%|█▎        | 282/2057 [49:18<4:59:50, 10.14s/it]"
     ]
    },
    {
     "name": "stdout",
     "output_type": "stream",
     "text": [
      "✅ Batch completed in 10.15s (0.203s per text)\n",
      "🚀 Attempting batch of 50 texts...\n"
     ]
    },
    {
     "name": "stderr",
     "output_type": "stream",
     "text": [
      "Processing conversations:  14%|█▍        | 283/2057 [49:28<4:59:47, 10.14s/it]"
     ]
    },
    {
     "name": "stdout",
     "output_type": "stream",
     "text": [
      "✅ Batch completed in 10.14s (0.203s per text)\n",
      "🚀 Attempting batch of 50 texts...\n"
     ]
    },
    {
     "name": "stderr",
     "output_type": "stream",
     "text": [
      "Processing conversations:  14%|█▍        | 284/2057 [49:38<5:01:32, 10.20s/it]"
     ]
    },
    {
     "name": "stdout",
     "output_type": "stream",
     "text": [
      "✅ Batch completed in 10.35s (0.207s per text)\n",
      "🚀 Attempting batch of 50 texts...\n"
     ]
    },
    {
     "name": "stderr",
     "output_type": "stream",
     "text": [
      "Processing conversations:  14%|█▍        | 285/2057 [49:48<4:58:29, 10.11s/it]"
     ]
    },
    {
     "name": "stdout",
     "output_type": "stream",
     "text": [
      "✅ Batch completed in 9.87s (0.197s per text)\n",
      "🚀 Attempting batch of 50 texts...\n"
     ]
    },
    {
     "name": "stderr",
     "output_type": "stream",
     "text": [
      "Processing conversations:  14%|█▍        | 286/2057 [49:59<5:00:18, 10.17s/it]"
     ]
    },
    {
     "name": "stdout",
     "output_type": "stream",
     "text": [
      "✅ Batch completed in 10.33s (0.207s per text)\n",
      "🚀 Attempting batch of 50 texts...\n"
     ]
    },
    {
     "name": "stderr",
     "output_type": "stream",
     "text": [
      "Processing conversations:  14%|█▍        | 287/2057 [50:09<5:01:06, 10.21s/it]"
     ]
    },
    {
     "name": "stdout",
     "output_type": "stream",
     "text": [
      "✅ Batch completed in 10.27s (0.205s per text)\n",
      "🚀 Attempting batch of 50 texts...\n"
     ]
    },
    {
     "name": "stderr",
     "output_type": "stream",
     "text": [
      "Processing conversations:  14%|█▍        | 288/2057 [50:19<5:00:51, 10.20s/it]"
     ]
    },
    {
     "name": "stdout",
     "output_type": "stream",
     "text": [
      "✅ Batch completed in 10.19s (0.204s per text)\n",
      "🚀 Attempting batch of 50 texts...\n"
     ]
    },
    {
     "name": "stderr",
     "output_type": "stream",
     "text": [
      "Processing conversations:  14%|█▍        | 289/2057 [50:29<4:59:01, 10.15s/it]"
     ]
    },
    {
     "name": "stdout",
     "output_type": "stream",
     "text": [
      "✅ Batch completed in 10.01s (0.200s per text)\n",
      "🚀 Attempting batch of 50 texts...\n"
     ]
    },
    {
     "name": "stderr",
     "output_type": "stream",
     "text": [
      "Processing conversations:  14%|█▍        | 290/2057 [50:39<4:57:26, 10.10s/it]"
     ]
    },
    {
     "name": "stdout",
     "output_type": "stream",
     "text": [
      "✅ Batch completed in 9.98s (0.200s per text)\n",
      "🚀 Attempting batch of 50 texts...\n"
     ]
    },
    {
     "name": "stderr",
     "output_type": "stream",
     "text": [
      "Processing conversations:  14%|█▍        | 291/2057 [50:49<4:55:45, 10.05s/it]"
     ]
    },
    {
     "name": "stdout",
     "output_type": "stream",
     "text": [
      "✅ Batch completed in 9.92s (0.198s per text)\n",
      "🚀 Attempting batch of 50 texts...\n"
     ]
    },
    {
     "name": "stderr",
     "output_type": "stream",
     "text": [
      "Processing conversations:  14%|█▍        | 292/2057 [50:59<4:57:31, 10.11s/it]"
     ]
    },
    {
     "name": "stdout",
     "output_type": "stream",
     "text": [
      "✅ Batch completed in 10.26s (0.205s per text)\n",
      "🚀 Attempting batch of 50 texts...\n"
     ]
    },
    {
     "name": "stderr",
     "output_type": "stream",
     "text": [
      "Processing conversations:  14%|█▍        | 293/2057 [51:09<4:57:50, 10.13s/it]"
     ]
    },
    {
     "name": "stdout",
     "output_type": "stream",
     "text": [
      "✅ Batch completed in 10.16s (0.203s per text)\n",
      "🚀 Attempting batch of 50 texts...\n"
     ]
    },
    {
     "name": "stderr",
     "output_type": "stream",
     "text": [
      "Processing conversations:  14%|█▍        | 294/2057 [51:20<4:57:46, 10.13s/it]"
     ]
    },
    {
     "name": "stdout",
     "output_type": "stream",
     "text": [
      "✅ Batch completed in 10.13s (0.203s per text)\n",
      "🚀 Attempting batch of 50 texts...\n"
     ]
    },
    {
     "name": "stderr",
     "output_type": "stream",
     "text": [
      "Processing conversations:  14%|█▍        | 295/2057 [51:30<4:59:25, 10.20s/it]"
     ]
    },
    {
     "name": "stdout",
     "output_type": "stream",
     "text": [
      "✅ Batch completed in 10.33s (0.207s per text)\n",
      "🚀 Attempting batch of 50 texts...\n"
     ]
    },
    {
     "name": "stderr",
     "output_type": "stream",
     "text": [
      "Processing conversations:  14%|█▍        | 296/2057 [51:40<5:02:10, 10.30s/it]"
     ]
    },
    {
     "name": "stdout",
     "output_type": "stream",
     "text": [
      "✅ Batch completed in 10.52s (0.210s per text)\n",
      "🚀 Attempting batch of 50 texts...\n"
     ]
    },
    {
     "name": "stderr",
     "output_type": "stream",
     "text": [
      "Processing conversations:  14%|█▍        | 297/2057 [51:51<5:03:07, 10.33s/it]"
     ]
    },
    {
     "name": "stdout",
     "output_type": "stream",
     "text": [
      "✅ Batch completed in 10.42s (0.208s per text)\n",
      "🚀 Attempting batch of 50 texts...\n"
     ]
    },
    {
     "name": "stderr",
     "output_type": "stream",
     "text": [
      "Processing conversations:  14%|█▍        | 298/2057 [52:01<5:03:43, 10.36s/it]"
     ]
    },
    {
     "name": "stdout",
     "output_type": "stream",
     "text": [
      "✅ Batch completed in 10.42s (0.208s per text)\n",
      "🚀 Attempting batch of 50 texts...\n"
     ]
    },
    {
     "name": "stderr",
     "output_type": "stream",
     "text": [
      "Processing conversations:  15%|█▍        | 299/2057 [52:12<5:05:19, 10.42s/it]"
     ]
    },
    {
     "name": "stdout",
     "output_type": "stream",
     "text": [
      "✅ Batch completed in 10.56s (0.211s per text)\n",
      "🚀 Attempting batch of 50 texts...\n"
     ]
    },
    {
     "name": "stderr",
     "output_type": "stream",
     "text": [
      "Processing conversations:  15%|█▍        | 300/2057 [52:23<5:09:18, 10.56s/it]"
     ]
    },
    {
     "name": "stdout",
     "output_type": "stream",
     "text": [
      "✅ Batch completed in 10.89s (0.218s per text)\n",
      "🚀 Attempting batch of 50 texts...\n"
     ]
    },
    {
     "name": "stderr",
     "output_type": "stream",
     "text": [
      "Processing conversations:  15%|█▍        | 301/2057 [52:33<5:08:11, 10.53s/it]"
     ]
    },
    {
     "name": "stdout",
     "output_type": "stream",
     "text": [
      "✅ Batch completed in 10.45s (0.209s per text)\n",
      "🚀 Attempting batch of 50 texts...\n"
     ]
    },
    {
     "name": "stderr",
     "output_type": "stream",
     "text": [
      "Processing conversations:  15%|█▍        | 302/2057 [52:44<5:08:34, 10.55s/it]"
     ]
    },
    {
     "name": "stdout",
     "output_type": "stream",
     "text": [
      "✅ Batch completed in 10.59s (0.212s per text)\n",
      "🚀 Attempting batch of 50 texts...\n"
     ]
    },
    {
     "name": "stderr",
     "output_type": "stream",
     "text": [
      "Processing conversations:  15%|█▍        | 303/2057 [52:54<5:06:31, 10.49s/it]"
     ]
    },
    {
     "name": "stdout",
     "output_type": "stream",
     "text": [
      "✅ Batch completed in 10.33s (0.207s per text)\n",
      "🚀 Attempting batch of 50 texts...\n"
     ]
    },
    {
     "name": "stderr",
     "output_type": "stream",
     "text": [
      "Processing conversations:  15%|█▍        | 304/2057 [53:05<5:08:46, 10.57s/it]"
     ]
    },
    {
     "name": "stdout",
     "output_type": "stream",
     "text": [
      "✅ Batch completed in 10.76s (0.215s per text)\n",
      "🚀 Attempting batch of 50 texts...\n"
     ]
    },
    {
     "name": "stderr",
     "output_type": "stream",
     "text": [
      "Processing conversations:  15%|█▍        | 305/2057 [53:15<5:07:26, 10.53s/it]"
     ]
    },
    {
     "name": "stdout",
     "output_type": "stream",
     "text": [
      "✅ Batch completed in 10.43s (0.209s per text)\n",
      "🚀 Attempting batch of 50 texts...\n"
     ]
    },
    {
     "name": "stderr",
     "output_type": "stream",
     "text": [
      "Processing conversations:  15%|█▍        | 306/2057 [53:26<5:08:16, 10.56s/it]"
     ]
    },
    {
     "name": "stdout",
     "output_type": "stream",
     "text": [
      "✅ Batch completed in 10.64s (0.213s per text)\n",
      "🚀 Attempting batch of 50 texts...\n"
     ]
    },
    {
     "name": "stderr",
     "output_type": "stream",
     "text": [
      "Processing conversations:  15%|█▍        | 307/2057 [53:36<5:07:35, 10.55s/it]"
     ]
    },
    {
     "name": "stdout",
     "output_type": "stream",
     "text": [
      "✅ Batch completed in 10.50s (0.210s per text)\n",
      "🚀 Attempting batch of 50 texts...\n"
     ]
    },
    {
     "name": "stderr",
     "output_type": "stream",
     "text": [
      "Processing conversations:  15%|█▍        | 308/2057 [53:47<5:07:16, 10.54s/it]"
     ]
    },
    {
     "name": "stdout",
     "output_type": "stream",
     "text": [
      "✅ Batch completed in 10.53s (0.211s per text)\n",
      "🚀 Attempting batch of 50 texts...\n"
     ]
    },
    {
     "name": "stderr",
     "output_type": "stream",
     "text": [
      "Processing conversations:  15%|█▌        | 309/2057 [53:57<5:06:12, 10.51s/it]"
     ]
    },
    {
     "name": "stdout",
     "output_type": "stream",
     "text": [
      "✅ Batch completed in 10.43s (0.209s per text)\n",
      "🚀 Attempting batch of 50 texts...\n"
     ]
    },
    {
     "name": "stderr",
     "output_type": "stream",
     "text": [
      "Processing conversations:  15%|█▌        | 310/2057 [54:08<5:07:18, 10.55s/it]"
     ]
    },
    {
     "name": "stdout",
     "output_type": "stream",
     "text": [
      "✅ Batch completed in 10.65s (0.213s per text)\n",
      "🚀 Attempting batch of 50 texts...\n"
     ]
    },
    {
     "name": "stderr",
     "output_type": "stream",
     "text": [
      "Processing conversations:  15%|█▌        | 311/2057 [54:19<5:09:31, 10.64s/it]"
     ]
    },
    {
     "name": "stdout",
     "output_type": "stream",
     "text": [
      "✅ Batch completed in 10.82s (0.216s per text)\n",
      "🚀 Attempting batch of 50 texts...\n"
     ]
    },
    {
     "name": "stderr",
     "output_type": "stream",
     "text": [
      "Processing conversations:  15%|█▌        | 312/2057 [54:30<5:09:04, 10.63s/it]"
     ]
    },
    {
     "name": "stdout",
     "output_type": "stream",
     "text": [
      "✅ Batch completed in 10.59s (0.212s per text)\n",
      "🚀 Attempting batch of 50 texts...\n"
     ]
    },
    {
     "name": "stderr",
     "output_type": "stream",
     "text": [
      "Processing conversations:  15%|█▌        | 313/2057 [54:40<5:09:28, 10.65s/it]"
     ]
    },
    {
     "name": "stdout",
     "output_type": "stream",
     "text": [
      "✅ Batch completed in 10.69s (0.214s per text)\n",
      "🚀 Attempting batch of 50 texts...\n"
     ]
    },
    {
     "name": "stderr",
     "output_type": "stream",
     "text": [
      "Processing conversations:  15%|█▌        | 314/2057 [54:51<5:08:49, 10.63s/it]"
     ]
    },
    {
     "name": "stdout",
     "output_type": "stream",
     "text": [
      "✅ Batch completed in 10.59s (0.212s per text)\n",
      "🚀 Attempting batch of 50 texts...\n"
     ]
    },
    {
     "name": "stderr",
     "output_type": "stream",
     "text": [
      "Processing conversations:  15%|█▌        | 315/2057 [55:01<5:04:58, 10.50s/it]"
     ]
    },
    {
     "name": "stdout",
     "output_type": "stream",
     "text": [
      "✅ Batch completed in 10.20s (0.204s per text)\n",
      "🚀 Attempting batch of 50 texts...\n"
     ]
    },
    {
     "name": "stderr",
     "output_type": "stream",
     "text": [
      "Processing conversations:  15%|█▌        | 316/2057 [55:11<5:01:45, 10.40s/it]"
     ]
    },
    {
     "name": "stdout",
     "output_type": "stream",
     "text": [
      "✅ Batch completed in 10.15s (0.203s per text)\n",
      "🚀 Attempting batch of 50 texts...\n"
     ]
    },
    {
     "name": "stderr",
     "output_type": "stream",
     "text": [
      "Processing conversations:  15%|█▌        | 317/2057 [55:22<5:01:35, 10.40s/it]"
     ]
    },
    {
     "name": "stdout",
     "output_type": "stream",
     "text": [
      "✅ Batch completed in 10.40s (0.208s per text)\n",
      "🚀 Attempting batch of 50 texts...\n"
     ]
    },
    {
     "name": "stderr",
     "output_type": "stream",
     "text": [
      "Processing conversations:  15%|█▌        | 318/2057 [55:32<5:00:21, 10.36s/it]"
     ]
    },
    {
     "name": "stdout",
     "output_type": "stream",
     "text": [
      "✅ Batch completed in 10.27s (0.205s per text)\n",
      "🚀 Attempting batch of 50 texts...\n"
     ]
    },
    {
     "name": "stderr",
     "output_type": "stream",
     "text": [
      "Processing conversations:  16%|█▌        | 319/2057 [55:42<5:00:28, 10.37s/it]"
     ]
    },
    {
     "name": "stdout",
     "output_type": "stream",
     "text": [
      "✅ Batch completed in 10.39s (0.208s per text)\n",
      "🚀 Attempting batch of 50 texts...\n"
     ]
    },
    {
     "name": "stderr",
     "output_type": "stream",
     "text": [
      "Processing conversations:  16%|█▌        | 320/2057 [55:53<4:59:49, 10.36s/it]"
     ]
    },
    {
     "name": "stdout",
     "output_type": "stream",
     "text": [
      "✅ Batch completed in 10.31s (0.206s per text)\n",
      "🚀 Attempting batch of 50 texts...\n"
     ]
    },
    {
     "name": "stderr",
     "output_type": "stream",
     "text": [
      "Processing conversations:  16%|█▌        | 321/2057 [56:03<5:01:32, 10.42s/it]"
     ]
    },
    {
     "name": "stdout",
     "output_type": "stream",
     "text": [
      "✅ Batch completed in 10.57s (0.211s per text)\n",
      "🚀 Attempting batch of 50 texts...\n"
     ]
    },
    {
     "name": "stderr",
     "output_type": "stream",
     "text": [
      "Processing conversations:  16%|█▌        | 322/2057 [56:14<5:03:03, 10.48s/it]"
     ]
    },
    {
     "name": "stdout",
     "output_type": "stream",
     "text": [
      "✅ Batch completed in 10.61s (0.212s per text)\n",
      "🚀 Attempting batch of 50 texts...\n"
     ]
    },
    {
     "name": "stderr",
     "output_type": "stream",
     "text": [
      "Processing conversations:  16%|█▌        | 323/2057 [56:25<5:05:35, 10.57s/it]"
     ]
    },
    {
     "name": "stdout",
     "output_type": "stream",
     "text": [
      "✅ Batch completed in 10.79s (0.216s per text)\n",
      "🚀 Attempting batch of 50 texts...\n"
     ]
    },
    {
     "name": "stderr",
     "output_type": "stream",
     "text": [
      "Processing conversations:  16%|█▌        | 324/2057 [56:35<5:05:11, 10.57s/it]"
     ]
    },
    {
     "name": "stdout",
     "output_type": "stream",
     "text": [
      "✅ Batch completed in 10.54s (0.211s per text)\n",
      "🚀 Attempting batch of 50 texts...\n"
     ]
    },
    {
     "name": "stderr",
     "output_type": "stream",
     "text": [
      "Processing conversations:  16%|█▌        | 325/2057 [56:46<5:04:35, 10.55s/it]"
     ]
    },
    {
     "name": "stdout",
     "output_type": "stream",
     "text": [
      "✅ Batch completed in 10.51s (0.210s per text)\n",
      "🚀 Attempting batch of 50 texts...\n"
     ]
    },
    {
     "name": "stderr",
     "output_type": "stream",
     "text": [
      "Processing conversations:  16%|█▌        | 326/2057 [56:56<5:03:25, 10.52s/it]"
     ]
    },
    {
     "name": "stdout",
     "output_type": "stream",
     "text": [
      "✅ Batch completed in 10.43s (0.209s per text)\n",
      "🚀 Attempting batch of 50 texts...\n"
     ]
    },
    {
     "name": "stderr",
     "output_type": "stream",
     "text": [
      "Processing conversations:  16%|█▌        | 327/2057 [57:06<5:02:25, 10.49s/it]"
     ]
    },
    {
     "name": "stdout",
     "output_type": "stream",
     "text": [
      "✅ Batch completed in 10.42s (0.208s per text)\n",
      "🚀 Attempting batch of 50 texts...\n"
     ]
    },
    {
     "name": "stderr",
     "output_type": "stream",
     "text": [
      "Processing conversations:  16%|█▌        | 328/2057 [57:17<5:01:12, 10.45s/it]"
     ]
    },
    {
     "name": "stdout",
     "output_type": "stream",
     "text": [
      "✅ Batch completed in 10.36s (0.207s per text)\n",
      "🚀 Attempting batch of 50 texts...\n"
     ]
    },
    {
     "name": "stderr",
     "output_type": "stream",
     "text": [
      "Processing conversations:  16%|█▌        | 329/2057 [57:27<5:02:13, 10.49s/it]"
     ]
    },
    {
     "name": "stdout",
     "output_type": "stream",
     "text": [
      "✅ Batch completed in 10.58s (0.212s per text)\n",
      "🚀 Attempting batch of 50 texts...\n"
     ]
    },
    {
     "name": "stderr",
     "output_type": "stream",
     "text": [
      "Processing conversations:  16%|█▌        | 330/2057 [57:38<5:06:37, 10.65s/it]"
     ]
    },
    {
     "name": "stdout",
     "output_type": "stream",
     "text": [
      "✅ Batch completed in 11.02s (0.220s per text)\n",
      "🚀 Attempting batch of 50 texts...\n"
     ]
    },
    {
     "name": "stderr",
     "output_type": "stream",
     "text": [
      "Processing conversations:  16%|█▌        | 331/2057 [57:50<5:14:19, 10.93s/it]"
     ]
    },
    {
     "name": "stdout",
     "output_type": "stream",
     "text": [
      "✅ Batch completed in 11.56s (0.231s per text)\n",
      "🚀 Attempting batch of 50 texts...\n"
     ]
    },
    {
     "name": "stderr",
     "output_type": "stream",
     "text": [
      "Processing conversations:  16%|█▌        | 332/2057 [58:01<5:17:52, 11.06s/it]"
     ]
    },
    {
     "name": "stdout",
     "output_type": "stream",
     "text": [
      "✅ Batch completed in 11.35s (0.227s per text)\n",
      "🚀 Attempting batch of 50 texts...\n"
     ]
    },
    {
     "name": "stderr",
     "output_type": "stream",
     "text": [
      "Processing conversations:  16%|█▌        | 333/2057 [58:12<5:15:15, 10.97s/it]"
     ]
    },
    {
     "name": "stdout",
     "output_type": "stream",
     "text": [
      "✅ Batch completed in 10.77s (0.215s per text)\n",
      "🚀 Attempting batch of 50 texts...\n"
     ]
    },
    {
     "name": "stderr",
     "output_type": "stream",
     "text": [
      "Processing conversations:  16%|█▌        | 334/2057 [58:23<5:15:40, 10.99s/it]"
     ]
    },
    {
     "name": "stdout",
     "output_type": "stream",
     "text": [
      "✅ Batch completed in 11.04s (0.221s per text)\n",
      "🚀 Attempting batch of 50 texts...\n"
     ]
    },
    {
     "name": "stderr",
     "output_type": "stream",
     "text": [
      "Processing conversations:  16%|█▋        | 335/2057 [58:34<5:17:56, 11.08s/it]"
     ]
    },
    {
     "name": "stdout",
     "output_type": "stream",
     "text": [
      "✅ Batch completed in 11.27s (0.225s per text)\n",
      "🚀 Attempting batch of 50 texts...\n"
     ]
    },
    {
     "name": "stderr",
     "output_type": "stream",
     "text": [
      "Processing conversations:  16%|█▋        | 336/2057 [58:46<5:20:01, 11.16s/it]"
     ]
    },
    {
     "name": "stdout",
     "output_type": "stream",
     "text": [
      "✅ Batch completed in 11.34s (0.227s per text)\n",
      "🚀 Attempting batch of 50 texts...\n"
     ]
    },
    {
     "name": "stderr",
     "output_type": "stream",
     "text": [
      "Processing conversations:  16%|█▋        | 337/2057 [58:58<5:25:10, 11.34s/it]"
     ]
    },
    {
     "name": "stdout",
     "output_type": "stream",
     "text": [
      "✅ Batch completed in 11.77s (0.235s per text)\n",
      "🚀 Attempting batch of 50 texts...\n"
     ]
    },
    {
     "name": "stderr",
     "output_type": "stream",
     "text": [
      "Processing conversations:  16%|█▋        | 338/2057 [59:09<5:26:44, 11.40s/it]"
     ]
    },
    {
     "name": "stdout",
     "output_type": "stream",
     "text": [
      "✅ Batch completed in 11.54s (0.231s per text)\n",
      "🚀 Attempting batch of 50 texts...\n"
     ]
    },
    {
     "name": "stderr",
     "output_type": "stream",
     "text": [
      "Processing conversations:  16%|█▋        | 339/2057 [59:21<5:28:49, 11.48s/it]"
     ]
    },
    {
     "name": "stdout",
     "output_type": "stream",
     "text": [
      "✅ Batch completed in 11.66s (0.233s per text)\n",
      "🚀 Attempting batch of 50 texts...\n"
     ]
    },
    {
     "name": "stderr",
     "output_type": "stream",
     "text": [
      "Processing conversations:  17%|█▋        | 340/2057 [59:32<5:22:02, 11.25s/it]"
     ]
    },
    {
     "name": "stdout",
     "output_type": "stream",
     "text": [
      "✅ Batch completed in 10.71s (0.214s per text)\n",
      "🚀 Attempting batch of 50 texts...\n"
     ]
    },
    {
     "name": "stderr",
     "output_type": "stream",
     "text": [
      "Processing conversations:  17%|█▋        | 341/2057 [59:42<5:18:03, 11.12s/it]"
     ]
    },
    {
     "name": "stdout",
     "output_type": "stream",
     "text": [
      "✅ Batch completed in 10.81s (0.216s per text)\n",
      "🚀 Attempting batch of 50 texts...\n"
     ]
    },
    {
     "name": "stderr",
     "output_type": "stream",
     "text": [
      "Processing conversations:  17%|█▋        | 342/2057 [59:54<5:20:27, 11.21s/it]"
     ]
    },
    {
     "name": "stdout",
     "output_type": "stream",
     "text": [
      "✅ Batch completed in 11.42s (0.228s per text)\n",
      "🚀 Attempting batch of 50 texts...\n"
     ]
    },
    {
     "name": "stderr",
     "output_type": "stream",
     "text": [
      "Processing conversations:  17%|█▋        | 343/2057 [1:00:05<5:24:51, 11.37s/it]"
     ]
    },
    {
     "name": "stdout",
     "output_type": "stream",
     "text": [
      "✅ Batch completed in 11.74s (0.235s per text)\n",
      "🚀 Attempting batch of 50 texts...\n"
     ]
    },
    {
     "name": "stderr",
     "output_type": "stream",
     "text": [
      "Processing conversations:  17%|█▋        | 344/2057 [1:00:16<5:18:42, 11.16s/it]"
     ]
    },
    {
     "name": "stdout",
     "output_type": "stream",
     "text": [
      "✅ Batch completed in 10.67s (0.213s per text)\n",
      "🚀 Attempting batch of 50 texts...\n"
     ]
    },
    {
     "name": "stderr",
     "output_type": "stream",
     "text": [
      "Processing conversations:  17%|█▋        | 345/2057 [1:00:27<5:17:39, 11.13s/it]"
     ]
    },
    {
     "name": "stdout",
     "output_type": "stream",
     "text": [
      "✅ Batch completed in 11.06s (0.221s per text)\n",
      "🚀 Attempting batch of 50 texts...\n"
     ]
    },
    {
     "name": "stderr",
     "output_type": "stream",
     "text": [
      "Processing conversations:  17%|█▋        | 346/2057 [1:00:39<5:21:33, 11.28s/it]"
     ]
    },
    {
     "name": "stdout",
     "output_type": "stream",
     "text": [
      "✅ Batch completed in 11.60s (0.232s per text)\n",
      "🚀 Attempting batch of 50 texts...\n"
     ]
    },
    {
     "name": "stderr",
     "output_type": "stream",
     "text": [
      "Processing conversations:  17%|█▋        | 347/2057 [1:00:50<5:19:27, 11.21s/it]"
     ]
    },
    {
     "name": "stdout",
     "output_type": "stream",
     "text": [
      "✅ Batch completed in 11.05s (0.221s per text)\n",
      "🚀 Attempting batch of 50 texts...\n"
     ]
    },
    {
     "name": "stderr",
     "output_type": "stream",
     "text": [
      "Processing conversations:  17%|█▋        | 348/2057 [1:01:01<5:18:41, 11.19s/it]"
     ]
    },
    {
     "name": "stdout",
     "output_type": "stream",
     "text": [
      "✅ Batch completed in 11.14s (0.223s per text)\n",
      "🚀 Attempting batch of 50 texts...\n"
     ]
    },
    {
     "name": "stderr",
     "output_type": "stream",
     "text": [
      "Processing conversations:  17%|█▋        | 349/2057 [1:01:12<5:13:58, 11.03s/it]"
     ]
    },
    {
     "name": "stdout",
     "output_type": "stream",
     "text": [
      "✅ Batch completed in 10.65s (0.213s per text)\n",
      "🚀 Attempting batch of 50 texts...\n"
     ]
    },
    {
     "name": "stderr",
     "output_type": "stream",
     "text": [
      "Processing conversations:  17%|█▋        | 350/2057 [1:01:22<5:07:37, 10.81s/it]"
     ]
    },
    {
     "name": "stdout",
     "output_type": "stream",
     "text": [
      "✅ Batch completed in 10.30s (0.206s per text)\n",
      "🚀 Attempting batch of 50 texts...\n"
     ]
    },
    {
     "name": "stderr",
     "output_type": "stream",
     "text": [
      "Processing conversations:  17%|█▋        | 351/2057 [1:01:33<5:10:38, 10.93s/it]"
     ]
    },
    {
     "name": "stdout",
     "output_type": "stream",
     "text": [
      "✅ Batch completed in 11.18s (0.224s per text)\n",
      "🚀 Attempting batch of 50 texts...\n"
     ]
    },
    {
     "name": "stderr",
     "output_type": "stream",
     "text": [
      "Processing conversations:  17%|█▋        | 352/2057 [1:01:45<5:15:04, 11.09s/it]"
     ]
    },
    {
     "name": "stdout",
     "output_type": "stream",
     "text": [
      "✅ Batch completed in 11.46s (0.229s per text)\n",
      "🚀 Attempting batch of 50 texts...\n"
     ]
    },
    {
     "name": "stderr",
     "output_type": "stream",
     "text": [
      "Processing conversations:  17%|█▋        | 353/2057 [1:01:56<5:15:11, 11.10s/it]"
     ]
    },
    {
     "name": "stdout",
     "output_type": "stream",
     "text": [
      "✅ Batch completed in 11.12s (0.222s per text)\n",
      "🚀 Attempting batch of 50 texts...\n"
     ]
    },
    {
     "name": "stderr",
     "output_type": "stream",
     "text": [
      "Processing conversations:  17%|█▋        | 354/2057 [1:02:07<5:13:44, 11.05s/it]"
     ]
    },
    {
     "name": "stdout",
     "output_type": "stream",
     "text": [
      "✅ Batch completed in 10.95s (0.219s per text)\n",
      "🚀 Attempting batch of 50 texts...\n"
     ]
    },
    {
     "name": "stderr",
     "output_type": "stream",
     "text": [
      "Processing conversations:  17%|█▋        | 355/2057 [1:02:18<5:17:22, 11.19s/it]"
     ]
    },
    {
     "name": "stdout",
     "output_type": "stream",
     "text": [
      "✅ Batch completed in 11.50s (0.230s per text)\n",
      "🚀 Attempting batch of 50 texts...\n"
     ]
    },
    {
     "name": "stderr",
     "output_type": "stream",
     "text": [
      "Processing conversations:  17%|█▋        | 356/2057 [1:02:29<5:10:09, 10.94s/it]"
     ]
    },
    {
     "name": "stdout",
     "output_type": "stream",
     "text": [
      "✅ Batch completed in 10.36s (0.207s per text)\n",
      "🚀 Attempting batch of 50 texts...\n"
     ]
    },
    {
     "name": "stderr",
     "output_type": "stream",
     "text": [
      "Processing conversations:  17%|█▋        | 357/2057 [1:02:39<5:07:22, 10.85s/it]"
     ]
    },
    {
     "name": "stdout",
     "output_type": "stream",
     "text": [
      "✅ Batch completed in 10.63s (0.213s per text)\n",
      "🚀 Attempting batch of 50 texts...\n"
     ]
    },
    {
     "name": "stderr",
     "output_type": "stream",
     "text": [
      "Processing conversations:  17%|█▋        | 358/2057 [1:02:50<5:08:36, 10.90s/it]"
     ]
    },
    {
     "name": "stdout",
     "output_type": "stream",
     "text": [
      "✅ Batch completed in 11.01s (0.220s per text)\n",
      "🚀 Attempting batch of 50 texts...\n"
     ]
    },
    {
     "name": "stderr",
     "output_type": "stream",
     "text": [
      "Processing conversations:  17%|█▋        | 359/2057 [1:03:01<5:03:04, 10.71s/it]"
     ]
    },
    {
     "name": "stdout",
     "output_type": "stream",
     "text": [
      "✅ Batch completed in 10.26s (0.205s per text)\n",
      "🚀 Attempting batch of 50 texts...\n"
     ]
    },
    {
     "name": "stderr",
     "output_type": "stream",
     "text": [
      "Processing conversations:  18%|█▊        | 360/2057 [1:03:11<5:00:30, 10.62s/it]"
     ]
    },
    {
     "name": "stdout",
     "output_type": "stream",
     "text": [
      "✅ Batch completed in 10.43s (0.209s per text)\n",
      "🚀 Attempting batch of 50 texts...\n"
     ]
    },
    {
     "name": "stderr",
     "output_type": "stream",
     "text": [
      "Processing conversations:  18%|█▊        | 361/2057 [1:03:21<4:56:12, 10.48s/it]"
     ]
    },
    {
     "name": "stdout",
     "output_type": "stream",
     "text": [
      "✅ Batch completed in 10.14s (0.203s per text)\n",
      "🚀 Attempting batch of 50 texts...\n"
     ]
    },
    {
     "name": "stderr",
     "output_type": "stream",
     "text": [
      "Processing conversations:  18%|█▊        | 362/2057 [1:03:33<5:08:27, 10.92s/it]"
     ]
    },
    {
     "name": "stdout",
     "output_type": "stream",
     "text": [
      "✅ Batch completed in 11.94s (0.239s per text)\n",
      "🚀 Attempting batch of 50 texts...\n"
     ]
    },
    {
     "name": "stderr",
     "output_type": "stream",
     "text": [
      "Processing conversations:  18%|█▊        | 363/2057 [1:03:44<5:07:45, 10.90s/it]"
     ]
    },
    {
     "name": "stdout",
     "output_type": "stream",
     "text": [
      "✅ Batch completed in 10.85s (0.217s per text)\n",
      "🚀 Attempting batch of 50 texts...\n"
     ]
    },
    {
     "name": "stderr",
     "output_type": "stream",
     "text": [
      "Processing conversations:  18%|█▊        | 364/2057 [1:03:55<5:07:20, 10.89s/it]"
     ]
    },
    {
     "name": "stdout",
     "output_type": "stream",
     "text": [
      "✅ Batch completed in 10.87s (0.217s per text)\n",
      "🚀 Attempting batch of 50 texts...\n"
     ]
    },
    {
     "name": "stderr",
     "output_type": "stream",
     "text": [
      "Processing conversations:  18%|█▊        | 365/2057 [1:04:05<5:04:06, 10.78s/it]"
     ]
    },
    {
     "name": "stdout",
     "output_type": "stream",
     "text": [
      "✅ Batch completed in 10.53s (0.211s per text)\n",
      "🚀 Attempting batch of 50 texts...\n"
     ]
    },
    {
     "name": "stderr",
     "output_type": "stream",
     "text": [
      "Processing conversations:  18%|█▊        | 366/2057 [1:04:16<5:03:37, 10.77s/it]"
     ]
    },
    {
     "name": "stdout",
     "output_type": "stream",
     "text": [
      "✅ Batch completed in 10.74s (0.215s per text)\n",
      "🚀 Attempting batch of 50 texts...\n"
     ]
    },
    {
     "name": "stderr",
     "output_type": "stream",
     "text": [
      "Processing conversations:  18%|█▊        | 367/2057 [1:04:27<5:05:01, 10.83s/it]"
     ]
    },
    {
     "name": "stdout",
     "output_type": "stream",
     "text": [
      "✅ Batch completed in 10.95s (0.219s per text)\n",
      "🚀 Attempting batch of 50 texts...\n"
     ]
    },
    {
     "name": "stderr",
     "output_type": "stream",
     "text": [
      "Processing conversations:  18%|█▊        | 368/2057 [1:04:38<5:09:54, 11.01s/it]"
     ]
    },
    {
     "name": "stdout",
     "output_type": "stream",
     "text": [
      "✅ Batch completed in 11.42s (0.228s per text)\n",
      "🚀 Attempting batch of 50 texts...\n"
     ]
    },
    {
     "name": "stderr",
     "output_type": "stream",
     "text": [
      "Processing conversations:  18%|█▊        | 369/2057 [1:04:50<5:11:28, 11.07s/it]"
     ]
    },
    {
     "name": "stdout",
     "output_type": "stream",
     "text": [
      "✅ Batch completed in 11.21s (0.224s per text)\n",
      "🚀 Attempting batch of 50 texts...\n"
     ]
    },
    {
     "name": "stderr",
     "output_type": "stream",
     "text": [
      "Processing conversations:  18%|█▊        | 370/2057 [1:05:00<5:06:58, 10.92s/it]"
     ]
    },
    {
     "name": "stdout",
     "output_type": "stream",
     "text": [
      "✅ Batch completed in 10.55s (0.211s per text)\n",
      "🚀 Attempting batch of 50 texts...\n"
     ]
    },
    {
     "name": "stderr",
     "output_type": "stream",
     "text": [
      "Processing conversations:  18%|█▊        | 371/2057 [1:05:11<5:08:41, 10.99s/it]"
     ]
    },
    {
     "name": "stdout",
     "output_type": "stream",
     "text": [
      "✅ Batch completed in 11.14s (0.223s per text)\n",
      "🚀 Attempting batch of 50 texts...\n"
     ]
    },
    {
     "name": "stderr",
     "output_type": "stream",
     "text": [
      "Processing conversations:  18%|█▊        | 372/2057 [1:05:22<5:09:15, 11.01s/it]"
     ]
    },
    {
     "name": "stdout",
     "output_type": "stream",
     "text": [
      "✅ Batch completed in 11.07s (0.221s per text)\n",
      "🚀 Attempting batch of 50 texts...\n"
     ]
    },
    {
     "name": "stderr",
     "output_type": "stream",
     "text": [
      "Processing conversations:  18%|█▊        | 373/2057 [1:05:33<5:03:06, 10.80s/it]"
     ]
    },
    {
     "name": "stdout",
     "output_type": "stream",
     "text": [
      "✅ Batch completed in 10.30s (0.206s per text)\n",
      "🚀 Attempting batch of 50 texts...\n"
     ]
    },
    {
     "name": "stderr",
     "output_type": "stream",
     "text": [
      "Processing conversations:  18%|█▊        | 374/2057 [1:05:43<5:00:29, 10.71s/it]"
     ]
    },
    {
     "name": "stdout",
     "output_type": "stream",
     "text": [
      "✅ Batch completed in 10.51s (0.210s per text)\n",
      "🚀 Attempting batch of 50 texts...\n"
     ]
    },
    {
     "name": "stderr",
     "output_type": "stream",
     "text": [
      "Processing conversations:  18%|█▊        | 375/2057 [1:05:54<5:02:58, 10.81s/it]"
     ]
    },
    {
     "name": "stdout",
     "output_type": "stream",
     "text": [
      "✅ Batch completed in 11.02s (0.220s per text)\n",
      "🚀 Attempting batch of 50 texts...\n"
     ]
    },
    {
     "name": "stderr",
     "output_type": "stream",
     "text": [
      "Processing conversations:  18%|█▊        | 376/2057 [1:06:05<5:04:08, 10.86s/it]"
     ]
    },
    {
     "name": "stdout",
     "output_type": "stream",
     "text": [
      "✅ Batch completed in 10.96s (0.219s per text)\n",
      "🚀 Attempting batch of 50 texts...\n"
     ]
    },
    {
     "name": "stderr",
     "output_type": "stream",
     "text": [
      "Processing conversations:  18%|█▊        | 377/2057 [1:06:16<5:05:22, 10.91s/it]"
     ]
    },
    {
     "name": "stdout",
     "output_type": "stream",
     "text": [
      "✅ Batch completed in 11.02s (0.220s per text)\n",
      "🚀 Attempting batch of 50 texts...\n"
     ]
    },
    {
     "name": "stderr",
     "output_type": "stream",
     "text": [
      "Processing conversations:  18%|█▊        | 378/2057 [1:06:27<5:07:10, 10.98s/it]"
     ]
    },
    {
     "name": "stdout",
     "output_type": "stream",
     "text": [
      "✅ Batch completed in 11.14s (0.223s per text)\n",
      "🚀 Attempting batch of 50 texts...\n"
     ]
    },
    {
     "name": "stderr",
     "output_type": "stream",
     "text": [
      "Processing conversations:  18%|█▊        | 379/2057 [1:06:38<5:04:48, 10.90s/it]"
     ]
    },
    {
     "name": "stdout",
     "output_type": "stream",
     "text": [
      "✅ Batch completed in 10.71s (0.214s per text)\n",
      "🚀 Attempting batch of 50 texts...\n"
     ]
    },
    {
     "name": "stderr",
     "output_type": "stream",
     "text": [
      "Processing conversations:  18%|█▊        | 380/2057 [1:06:49<5:06:15, 10.96s/it]"
     ]
    },
    {
     "name": "stdout",
     "output_type": "stream",
     "text": [
      "✅ Batch completed in 11.09s (0.222s per text)\n",
      "🚀 Attempting batch of 50 texts...\n"
     ]
    },
    {
     "name": "stderr",
     "output_type": "stream",
     "text": [
      "Processing conversations:  19%|█▊        | 381/2057 [1:07:00<5:06:29, 10.97s/it]"
     ]
    },
    {
     "name": "stdout",
     "output_type": "stream",
     "text": [
      "✅ Batch completed in 11.00s (0.220s per text)\n",
      "🚀 Attempting batch of 50 texts...\n"
     ]
    },
    {
     "name": "stderr",
     "output_type": "stream",
     "text": [
      "Processing conversations:  19%|█▊        | 382/2057 [1:07:11<5:04:10, 10.90s/it]"
     ]
    },
    {
     "name": "stdout",
     "output_type": "stream",
     "text": [
      "✅ Batch completed in 10.71s (0.214s per text)\n",
      "🚀 Attempting batch of 50 texts...\n"
     ]
    },
    {
     "name": "stderr",
     "output_type": "stream",
     "text": [
      "Processing conversations:  19%|█▊        | 383/2057 [1:07:22<5:03:37, 10.88s/it]"
     ]
    },
    {
     "name": "stdout",
     "output_type": "stream",
     "text": [
      "✅ Batch completed in 10.85s (0.217s per text)\n",
      "🚀 Attempting batch of 50 texts...\n"
     ]
    },
    {
     "name": "stderr",
     "output_type": "stream",
     "text": [
      "Processing conversations:  19%|█▊        | 384/2057 [1:07:33<5:06:17, 10.98s/it]"
     ]
    },
    {
     "name": "stdout",
     "output_type": "stream",
     "text": [
      "✅ Batch completed in 11.22s (0.224s per text)\n",
      "🚀 Attempting batch of 50 texts...\n"
     ]
    },
    {
     "name": "stderr",
     "output_type": "stream",
     "text": [
      "Processing conversations:  19%|█▊        | 385/2057 [1:07:44<5:05:50, 10.98s/it]"
     ]
    },
    {
     "name": "stdout",
     "output_type": "stream",
     "text": [
      "✅ Batch completed in 10.94s (0.219s per text)\n",
      "🚀 Attempting batch of 50 texts...\n"
     ]
    },
    {
     "name": "stderr",
     "output_type": "stream",
     "text": [
      "Processing conversations:  19%|█▉        | 386/2057 [1:07:55<5:03:33, 10.90s/it]"
     ]
    },
    {
     "name": "stdout",
     "output_type": "stream",
     "text": [
      "✅ Batch completed in 10.72s (0.214s per text)\n",
      "🚀 Attempting batch of 50 texts...\n"
     ]
    },
    {
     "name": "stderr",
     "output_type": "stream",
     "text": [
      "Processing conversations:  19%|█▉        | 387/2057 [1:08:05<5:01:47, 10.84s/it]"
     ]
    },
    {
     "name": "stdout",
     "output_type": "stream",
     "text": [
      "✅ Batch completed in 10.70s (0.214s per text)\n",
      "🚀 Attempting batch of 50 texts...\n"
     ]
    },
    {
     "name": "stderr",
     "output_type": "stream",
     "text": [
      "Processing conversations:  19%|█▉        | 388/2057 [1:08:16<4:56:38, 10.66s/it]"
     ]
    },
    {
     "name": "stdout",
     "output_type": "stream",
     "text": [
      "✅ Batch completed in 10.24s (0.205s per text)\n",
      "🚀 Attempting batch of 50 texts...\n"
     ]
    },
    {
     "name": "stderr",
     "output_type": "stream",
     "text": [
      "Processing conversations:  19%|█▉        | 389/2057 [1:08:27<5:00:04, 10.79s/it]"
     ]
    },
    {
     "name": "stdout",
     "output_type": "stream",
     "text": [
      "✅ Batch completed in 11.09s (0.222s per text)\n",
      "🚀 Attempting batch of 50 texts...\n"
     ]
    },
    {
     "name": "stderr",
     "output_type": "stream",
     "text": [
      "Processing conversations:  19%|█▉        | 390/2057 [1:08:38<5:00:45, 10.83s/it]"
     ]
    },
    {
     "name": "stdout",
     "output_type": "stream",
     "text": [
      "✅ Batch completed in 10.89s (0.218s per text)\n",
      "🚀 Attempting batch of 50 texts...\n"
     ]
    },
    {
     "name": "stderr",
     "output_type": "stream",
     "text": [
      "Processing conversations:  19%|█▉        | 391/2057 [1:08:49<5:04:03, 10.95s/it]"
     ]
    },
    {
     "name": "stdout",
     "output_type": "stream",
     "text": [
      "✅ Batch completed in 11.24s (0.225s per text)\n",
      "🚀 Attempting batch of 50 texts...\n"
     ]
    },
    {
     "name": "stderr",
     "output_type": "stream",
     "text": [
      "Processing conversations:  19%|█▉        | 392/2057 [1:09:00<5:08:32, 11.12s/it]"
     ]
    },
    {
     "name": "stdout",
     "output_type": "stream",
     "text": [
      "✅ Batch completed in 11.50s (0.230s per text)\n",
      "🚀 Attempting batch of 50 texts...\n"
     ]
    },
    {
     "name": "stderr",
     "output_type": "stream",
     "text": [
      "Processing conversations:  19%|█▉        | 393/2057 [1:09:11<5:07:32, 11.09s/it]"
     ]
    },
    {
     "name": "stdout",
     "output_type": "stream",
     "text": [
      "✅ Batch completed in 11.01s (0.220s per text)\n",
      "🚀 Attempting batch of 50 texts...\n"
     ]
    },
    {
     "name": "stderr",
     "output_type": "stream",
     "text": [
      "Processing conversations:  19%|█▉        | 394/2057 [1:09:22<5:04:34, 10.99s/it]"
     ]
    },
    {
     "name": "stdout",
     "output_type": "stream",
     "text": [
      "✅ Batch completed in 10.75s (0.215s per text)\n",
      "🚀 Attempting batch of 50 texts...\n"
     ]
    },
    {
     "name": "stderr",
     "output_type": "stream",
     "text": [
      "Processing conversations:  19%|█▉        | 395/2057 [1:09:33<5:07:06, 11.09s/it]"
     ]
    },
    {
     "name": "stdout",
     "output_type": "stream",
     "text": [
      "✅ Batch completed in 11.31s (0.226s per text)\n",
      "🚀 Attempting batch of 50 texts...\n"
     ]
    },
    {
     "name": "stderr",
     "output_type": "stream",
     "text": [
      "Processing conversations:  19%|█▉        | 396/2057 [1:09:45<5:09:07, 11.17s/it]"
     ]
    },
    {
     "name": "stdout",
     "output_type": "stream",
     "text": [
      "✅ Batch completed in 11.35s (0.227s per text)\n",
      "🚀 Attempting batch of 50 texts...\n"
     ]
    },
    {
     "name": "stderr",
     "output_type": "stream",
     "text": [
      "Processing conversations:  19%|█▉        | 397/2057 [1:09:56<5:06:33, 11.08s/it]"
     ]
    },
    {
     "name": "stdout",
     "output_type": "stream",
     "text": [
      "✅ Batch completed in 10.87s (0.217s per text)\n",
      "🚀 Attempting batch of 50 texts...\n"
     ]
    },
    {
     "name": "stderr",
     "output_type": "stream",
     "text": [
      "Processing conversations:  19%|█▉        | 398/2057 [1:10:07<5:06:44, 11.09s/it]"
     ]
    },
    {
     "name": "stdout",
     "output_type": "stream",
     "text": [
      "✅ Batch completed in 11.12s (0.222s per text)\n",
      "🚀 Attempting batch of 50 texts...\n"
     ]
    },
    {
     "name": "stderr",
     "output_type": "stream",
     "text": [
      "Processing conversations:  19%|█▉        | 399/2057 [1:10:18<5:09:30, 11.20s/it]"
     ]
    },
    {
     "name": "stdout",
     "output_type": "stream",
     "text": [
      "✅ Batch completed in 11.44s (0.229s per text)\n",
      "🚀 Attempting batch of 50 texts...\n"
     ]
    },
    {
     "name": "stderr",
     "output_type": "stream",
     "text": [
      "Processing conversations:  19%|█▉        | 400/2057 [1:10:29<5:09:02, 11.19s/it]"
     ]
    },
    {
     "name": "stdout",
     "output_type": "stream",
     "text": [
      "✅ Batch completed in 11.16s (0.223s per text)\n",
      "🚀 Attempting batch of 50 texts...\n"
     ]
    },
    {
     "name": "stderr",
     "output_type": "stream",
     "text": [
      "Processing conversations:  19%|█▉        | 401/2057 [1:10:40<5:05:04, 11.05s/it]"
     ]
    },
    {
     "name": "stdout",
     "output_type": "stream",
     "text": [
      "✅ Batch completed in 10.73s (0.215s per text)\n",
      "🚀 Attempting batch of 50 texts...\n"
     ]
    },
    {
     "name": "stderr",
     "output_type": "stream",
     "text": [
      "Processing conversations:  20%|█▉        | 402/2057 [1:10:51<5:03:25, 11.00s/it]"
     ]
    },
    {
     "name": "stdout",
     "output_type": "stream",
     "text": [
      "✅ Batch completed in 10.87s (0.217s per text)\n",
      "🚀 Attempting batch of 50 texts...\n"
     ]
    },
    {
     "name": "stderr",
     "output_type": "stream",
     "text": [
      "Processing conversations:  20%|█▉        | 403/2057 [1:11:02<5:05:26, 11.08s/it]"
     ]
    },
    {
     "name": "stdout",
     "output_type": "stream",
     "text": [
      "✅ Batch completed in 11.26s (0.225s per text)\n",
      "🚀 Attempting batch of 50 texts...\n"
     ]
    },
    {
     "name": "stderr",
     "output_type": "stream",
     "text": [
      "Processing conversations:  20%|█▉        | 404/2057 [1:11:13<5:02:32, 10.98s/it]"
     ]
    },
    {
     "name": "stdout",
     "output_type": "stream",
     "text": [
      "✅ Batch completed in 10.74s (0.215s per text)\n",
      "🚀 Attempting batch of 50 texts...\n"
     ]
    },
    {
     "name": "stderr",
     "output_type": "stream",
     "text": [
      "Processing conversations:  20%|█▉        | 405/2057 [1:11:23<4:57:43, 10.81s/it]"
     ]
    },
    {
     "name": "stdout",
     "output_type": "stream",
     "text": [
      "✅ Batch completed in 10.42s (0.208s per text)\n",
      "🚀 Attempting batch of 50 texts...\n"
     ]
    },
    {
     "name": "stderr",
     "output_type": "stream",
     "text": [
      "Processing conversations:  20%|█▉        | 406/2057 [1:11:34<4:57:16, 10.80s/it]"
     ]
    },
    {
     "name": "stdout",
     "output_type": "stream",
     "text": [
      "✅ Batch completed in 10.77s (0.215s per text)\n",
      "🚀 Attempting batch of 50 texts...\n"
     ]
    },
    {
     "name": "stderr",
     "output_type": "stream",
     "text": [
      "Processing conversations:  20%|█▉        | 407/2057 [1:11:45<4:56:51, 10.80s/it]"
     ]
    },
    {
     "name": "stdout",
     "output_type": "stream",
     "text": [
      "✅ Batch completed in 10.77s (0.215s per text)\n",
      "🚀 Attempting batch of 50 texts...\n"
     ]
    },
    {
     "name": "stderr",
     "output_type": "stream",
     "text": [
      "Processing conversations:  20%|█▉        | 408/2057 [1:11:56<4:56:55, 10.80s/it]"
     ]
    },
    {
     "name": "stdout",
     "output_type": "stream",
     "text": [
      "✅ Batch completed in 10.82s (0.216s per text)\n",
      "🚀 Attempting batch of 50 texts...\n"
     ]
    },
    {
     "name": "stderr",
     "output_type": "stream",
     "text": [
      "Processing conversations:  20%|█▉        | 409/2057 [1:12:07<4:58:56, 10.88s/it]"
     ]
    },
    {
     "name": "stdout",
     "output_type": "stream",
     "text": [
      "✅ Batch completed in 11.06s (0.221s per text)\n",
      "🚀 Attempting batch of 50 texts...\n"
     ]
    },
    {
     "name": "stderr",
     "output_type": "stream",
     "text": [
      "Processing conversations:  20%|█▉        | 410/2057 [1:12:18<4:58:03, 10.86s/it]"
     ]
    },
    {
     "name": "stdout",
     "output_type": "stream",
     "text": [
      "✅ Batch completed in 10.79s (0.216s per text)\n",
      "🚀 Attempting batch of 50 texts...\n"
     ]
    },
    {
     "name": "stderr",
     "output_type": "stream",
     "text": [
      "Processing conversations:  20%|█▉        | 411/2057 [1:12:28<4:54:00, 10.72s/it]"
     ]
    },
    {
     "name": "stdout",
     "output_type": "stream",
     "text": [
      "✅ Batch completed in 10.38s (0.208s per text)\n",
      "🚀 Attempting batch of 50 texts...\n"
     ]
    },
    {
     "name": "stderr",
     "output_type": "stream",
     "text": [
      "Processing conversations:  20%|██        | 412/2057 [1:12:39<4:54:23, 10.74s/it]"
     ]
    },
    {
     "name": "stdout",
     "output_type": "stream",
     "text": [
      "✅ Batch completed in 10.78s (0.216s per text)\n",
      "🚀 Attempting batch of 50 texts...\n"
     ]
    },
    {
     "name": "stderr",
     "output_type": "stream",
     "text": [
      "Processing conversations:  20%|██        | 413/2057 [1:12:50<4:56:47, 10.83s/it]"
     ]
    },
    {
     "name": "stdout",
     "output_type": "stream",
     "text": [
      "✅ Batch completed in 11.04s (0.221s per text)\n",
      "🚀 Attempting batch of 50 texts...\n"
     ]
    },
    {
     "name": "stderr",
     "output_type": "stream",
     "text": [
      "Processing conversations:  20%|██        | 414/2057 [1:13:01<5:00:46, 10.98s/it]"
     ]
    },
    {
     "name": "stdout",
     "output_type": "stream",
     "text": [
      "✅ Batch completed in 11.33s (0.227s per text)\n",
      "🚀 Attempting batch of 50 texts...\n"
     ]
    },
    {
     "name": "stderr",
     "output_type": "stream",
     "text": [
      "Processing conversations:  20%|██        | 415/2057 [1:13:12<4:57:44, 10.88s/it]"
     ]
    },
    {
     "name": "stdout",
     "output_type": "stream",
     "text": [
      "✅ Batch completed in 10.63s (0.213s per text)\n",
      "🚀 Attempting batch of 50 texts...\n"
     ]
    },
    {
     "name": "stderr",
     "output_type": "stream",
     "text": [
      "Processing conversations:  20%|██        | 416/2057 [1:13:22<4:54:01, 10.75s/it]"
     ]
    },
    {
     "name": "stdout",
     "output_type": "stream",
     "text": [
      "✅ Batch completed in 10.44s (0.209s per text)\n",
      "🚀 Attempting batch of 50 texts...\n"
     ]
    },
    {
     "name": "stderr",
     "output_type": "stream",
     "text": [
      "Processing conversations:  20%|██        | 417/2057 [1:13:33<4:52:39, 10.71s/it]"
     ]
    },
    {
     "name": "stdout",
     "output_type": "stream",
     "text": [
      "✅ Batch completed in 10.60s (0.212s per text)\n",
      "🚀 Attempting batch of 50 texts...\n"
     ]
    },
    {
     "name": "stderr",
     "output_type": "stream",
     "text": [
      "Processing conversations:  20%|██        | 418/2057 [1:13:45<4:59:15, 10.96s/it]"
     ]
    },
    {
     "name": "stdout",
     "output_type": "stream",
     "text": [
      "✅ Batch completed in 11.53s (0.231s per text)\n",
      "🚀 Attempting batch of 50 texts...\n"
     ]
    },
    {
     "name": "stderr",
     "output_type": "stream",
     "text": [
      "Processing conversations:  20%|██        | 419/2057 [1:13:56<5:00:09, 10.99s/it]"
     ]
    },
    {
     "name": "stdout",
     "output_type": "stream",
     "text": [
      "✅ Batch completed in 11.08s (0.222s per text)\n",
      "🚀 Attempting batch of 50 texts...\n"
     ]
    },
    {
     "name": "stderr",
     "output_type": "stream",
     "text": [
      "Processing conversations:  20%|██        | 420/2057 [1:14:06<4:53:31, 10.76s/it]"
     ]
    },
    {
     "name": "stdout",
     "output_type": "stream",
     "text": [
      "✅ Batch completed in 10.20s (0.204s per text)\n",
      "🚀 Attempting batch of 50 texts...\n"
     ]
    },
    {
     "name": "stderr",
     "output_type": "stream",
     "text": [
      "Processing conversations:  20%|██        | 421/2057 [1:14:16<4:51:30, 10.69s/it]"
     ]
    },
    {
     "name": "stdout",
     "output_type": "stream",
     "text": [
      "✅ Batch completed in 10.53s (0.211s per text)\n",
      "🚀 Attempting batch of 50 texts...\n"
     ]
    },
    {
     "name": "stderr",
     "output_type": "stream",
     "text": [
      "Processing conversations:  21%|██        | 422/2057 [1:14:27<4:48:37, 10.59s/it]"
     ]
    },
    {
     "name": "stdout",
     "output_type": "stream",
     "text": [
      "✅ Batch completed in 10.35s (0.207s per text)\n",
      "🚀 Attempting batch of 50 texts...\n"
     ]
    },
    {
     "name": "stderr",
     "output_type": "stream",
     "text": [
      "Processing conversations:  21%|██        | 423/2057 [1:14:37<4:42:34, 10.38s/it]"
     ]
    },
    {
     "name": "stdout",
     "output_type": "stream",
     "text": [
      "✅ Batch completed in 9.87s (0.197s per text)\n",
      "🚀 Attempting batch of 50 texts...\n"
     ]
    },
    {
     "name": "stderr",
     "output_type": "stream",
     "text": [
      "Processing conversations:  21%|██        | 424/2057 [1:14:47<4:40:06, 10.29s/it]"
     ]
    },
    {
     "name": "stdout",
     "output_type": "stream",
     "text": [
      "✅ Batch completed in 10.09s (0.202s per text)\n",
      "🚀 Attempting batch of 50 texts...\n"
     ]
    },
    {
     "name": "stderr",
     "output_type": "stream",
     "text": [
      "Processing conversations:  21%|██        | 425/2057 [1:14:58<4:45:47, 10.51s/it]"
     ]
    },
    {
     "name": "stdout",
     "output_type": "stream",
     "text": [
      "✅ Batch completed in 11.00s (0.220s per text)\n",
      "🚀 Attempting batch of 50 texts...\n"
     ]
    },
    {
     "name": "stderr",
     "output_type": "stream",
     "text": [
      "Processing conversations:  21%|██        | 426/2057 [1:15:09<4:51:28, 10.72s/it]"
     ]
    },
    {
     "name": "stdout",
     "output_type": "stream",
     "text": [
      "✅ Batch completed in 11.22s (0.224s per text)\n",
      "🚀 Attempting batch of 50 texts...\n"
     ]
    },
    {
     "name": "stderr",
     "output_type": "stream",
     "text": [
      "Processing conversations:  21%|██        | 427/2057 [1:15:19<4:48:16, 10.61s/it]"
     ]
    },
    {
     "name": "stdout",
     "output_type": "stream",
     "text": [
      "✅ Batch completed in 10.34s (0.207s per text)\n",
      "🚀 Attempting batch of 50 texts...\n"
     ]
    },
    {
     "name": "stderr",
     "output_type": "stream",
     "text": [
      "Processing conversations:  21%|██        | 428/2057 [1:15:30<4:46:10, 10.54s/it]"
     ]
    },
    {
     "name": "stdout",
     "output_type": "stream",
     "text": [
      "✅ Batch completed in 10.37s (0.207s per text)\n",
      "🚀 Attempting batch of 50 texts...\n"
     ]
    },
    {
     "name": "stderr",
     "output_type": "stream",
     "text": [
      "Processing conversations:  21%|██        | 429/2057 [1:15:40<4:45:56, 10.54s/it]"
     ]
    },
    {
     "name": "stdout",
     "output_type": "stream",
     "text": [
      "✅ Batch completed in 10.53s (0.211s per text)\n",
      "🚀 Attempting batch of 50 texts...\n"
     ]
    },
    {
     "name": "stderr",
     "output_type": "stream",
     "text": [
      "Processing conversations:  21%|██        | 430/2057 [1:15:52<4:54:57, 10.88s/it]"
     ]
    },
    {
     "name": "stdout",
     "output_type": "stream",
     "text": [
      "✅ Batch completed in 11.66s (0.233s per text)\n",
      "🚀 Attempting batch of 50 texts...\n"
     ]
    },
    {
     "name": "stderr",
     "output_type": "stream",
     "text": [
      "Processing conversations:  21%|██        | 431/2057 [1:16:03<4:57:55, 10.99s/it]"
     ]
    },
    {
     "name": "stdout",
     "output_type": "stream",
     "text": [
      "✅ Batch completed in 11.26s (0.225s per text)\n",
      "🚀 Attempting batch of 50 texts...\n"
     ]
    },
    {
     "name": "stderr",
     "output_type": "stream",
     "text": [
      "Processing conversations:  21%|██        | 432/2057 [1:16:14<4:59:27, 11.06s/it]"
     ]
    },
    {
     "name": "stdout",
     "output_type": "stream",
     "text": [
      "✅ Batch completed in 11.20s (0.224s per text)\n",
      "🚀 Attempting batch of 50 texts...\n"
     ]
    },
    {
     "name": "stderr",
     "output_type": "stream",
     "text": [
      "Processing conversations:  21%|██        | 433/2057 [1:16:25<4:54:52, 10.89s/it]"
     ]
    },
    {
     "name": "stdout",
     "output_type": "stream",
     "text": [
      "✅ Batch completed in 10.50s (0.210s per text)\n",
      "🚀 Attempting batch of 50 texts...\n"
     ]
    },
    {
     "name": "stderr",
     "output_type": "stream",
     "text": [
      "Processing conversations:  21%|██        | 434/2057 [1:16:35<4:51:18, 10.77s/it]"
     ]
    },
    {
     "name": "stdout",
     "output_type": "stream",
     "text": [
      "✅ Batch completed in 10.47s (0.209s per text)\n",
      "🚀 Attempting batch of 50 texts...\n"
     ]
    },
    {
     "name": "stderr",
     "output_type": "stream",
     "text": [
      "Processing conversations:  21%|██        | 435/2057 [1:16:46<4:50:40, 10.75s/it]"
     ]
    },
    {
     "name": "stdout",
     "output_type": "stream",
     "text": [
      "✅ Batch completed in 10.71s (0.214s per text)\n",
      "🚀 Attempting batch of 50 texts...\n"
     ]
    },
    {
     "name": "stderr",
     "output_type": "stream",
     "text": [
      "Processing conversations:  21%|██        | 436/2057 [1:16:56<4:47:55, 10.66s/it]"
     ]
    },
    {
     "name": "stdout",
     "output_type": "stream",
     "text": [
      "✅ Batch completed in 10.42s (0.208s per text)\n",
      "🚀 Attempting batch of 50 texts...\n"
     ]
    },
    {
     "name": "stderr",
     "output_type": "stream",
     "text": [
      "Processing conversations:  21%|██        | 437/2057 [1:17:07<4:50:13, 10.75s/it]"
     ]
    },
    {
     "name": "stdout",
     "output_type": "stream",
     "text": [
      "✅ Batch completed in 10.96s (0.219s per text)\n",
      "🚀 Attempting batch of 50 texts...\n"
     ]
    },
    {
     "name": "stderr",
     "output_type": "stream",
     "text": [
      "Processing conversations:  21%|██▏       | 438/2057 [1:17:18<4:49:16, 10.72s/it]"
     ]
    },
    {
     "name": "stdout",
     "output_type": "stream",
     "text": [
      "✅ Batch completed in 10.65s (0.213s per text)\n",
      "🚀 Attempting batch of 50 texts...\n"
     ]
    },
    {
     "name": "stderr",
     "output_type": "stream",
     "text": [
      "Processing conversations:  21%|██▏       | 439/2057 [1:17:29<4:50:28, 10.77s/it]"
     ]
    },
    {
     "name": "stdout",
     "output_type": "stream",
     "text": [
      "✅ Batch completed in 10.88s (0.218s per text)\n",
      "🚀 Attempting batch of 50 texts...\n"
     ]
    },
    {
     "name": "stderr",
     "output_type": "stream",
     "text": [
      "Processing conversations:  21%|██▏       | 440/2057 [1:17:40<4:50:01, 10.76s/it]"
     ]
    },
    {
     "name": "stdout",
     "output_type": "stream",
     "text": [
      "✅ Batch completed in 10.73s (0.215s per text)\n",
      "🚀 Attempting batch of 50 texts...\n"
     ]
    },
    {
     "name": "stderr",
     "output_type": "stream",
     "text": [
      "Processing conversations:  21%|██▏       | 441/2057 [1:17:50<4:44:44, 10.57s/it]"
     ]
    },
    {
     "name": "stdout",
     "output_type": "stream",
     "text": [
      "✅ Batch completed in 10.12s (0.202s per text)\n",
      "🚀 Attempting batch of 50 texts...\n"
     ]
    },
    {
     "name": "stderr",
     "output_type": "stream",
     "text": [
      "Processing conversations:  21%|██▏       | 442/2057 [1:18:00<4:41:26, 10.46s/it]"
     ]
    },
    {
     "name": "stdout",
     "output_type": "stream",
     "text": [
      "✅ Batch completed in 10.18s (0.204s per text)\n",
      "🚀 Attempting batch of 50 texts...\n"
     ]
    },
    {
     "name": "stderr",
     "output_type": "stream",
     "text": [
      "Processing conversations:  22%|██▏       | 443/2057 [1:18:10<4:36:30, 10.28s/it]"
     ]
    },
    {
     "name": "stdout",
     "output_type": "stream",
     "text": [
      "✅ Batch completed in 9.86s (0.197s per text)\n",
      "🚀 Attempting batch of 50 texts...\n"
     ]
    },
    {
     "name": "stderr",
     "output_type": "stream",
     "text": [
      "Processing conversations:  22%|██▏       | 444/2057 [1:18:20<4:34:14, 10.20s/it]"
     ]
    },
    {
     "name": "stdout",
     "output_type": "stream",
     "text": [
      "✅ Batch completed in 10.01s (0.200s per text)\n",
      "🚀 Attempting batch of 50 texts...\n"
     ]
    },
    {
     "name": "stderr",
     "output_type": "stream",
     "text": [
      "Processing conversations:  22%|██▏       | 445/2057 [1:18:30<4:34:10, 10.21s/it]"
     ]
    },
    {
     "name": "stdout",
     "output_type": "stream",
     "text": [
      "✅ Batch completed in 10.21s (0.204s per text)\n",
      "🚀 Attempting batch of 50 texts...\n"
     ]
    },
    {
     "name": "stderr",
     "output_type": "stream",
     "text": [
      "Processing conversations:  22%|██▏       | 446/2057 [1:18:40<4:34:58, 10.24s/it]"
     ]
    },
    {
     "name": "stdout",
     "output_type": "stream",
     "text": [
      "✅ Batch completed in 10.32s (0.206s per text)\n",
      "🚀 Attempting batch of 50 texts...\n"
     ]
    },
    {
     "name": "stderr",
     "output_type": "stream",
     "text": [
      "Processing conversations:  22%|██▏       | 447/2057 [1:18:51<4:37:07, 10.33s/it]"
     ]
    },
    {
     "name": "stdout",
     "output_type": "stream",
     "text": [
      "✅ Batch completed in 10.52s (0.210s per text)\n",
      "🚀 Attempting batch of 50 texts...\n"
     ]
    },
    {
     "name": "stderr",
     "output_type": "stream",
     "text": [
      "Processing conversations:  22%|██▏       | 448/2057 [1:19:01<4:35:31, 10.27s/it]"
     ]
    },
    {
     "name": "stdout",
     "output_type": "stream",
     "text": [
      "✅ Batch completed in 10.14s (0.203s per text)\n",
      "🚀 Attempting batch of 50 texts...\n"
     ]
    },
    {
     "name": "stderr",
     "output_type": "stream",
     "text": [
      "Processing conversations:  22%|██▏       | 449/2057 [1:19:11<4:35:51, 10.29s/it]"
     ]
    },
    {
     "name": "stdout",
     "output_type": "stream",
     "text": [
      "✅ Batch completed in 10.33s (0.207s per text)\n",
      "🚀 Attempting batch of 50 texts...\n"
     ]
    },
    {
     "name": "stderr",
     "output_type": "stream",
     "text": [
      "Processing conversations:  22%|██▏       | 450/2057 [1:19:22<4:35:42, 10.29s/it]"
     ]
    },
    {
     "name": "stdout",
     "output_type": "stream",
     "text": [
      "✅ Batch completed in 10.29s (0.206s per text)\n",
      "🚀 Attempting batch of 50 texts...\n"
     ]
    },
    {
     "name": "stderr",
     "output_type": "stream",
     "text": [
      "Processing conversations:  22%|██▏       | 451/2057 [1:19:32<4:37:00, 10.35s/it]"
     ]
    },
    {
     "name": "stdout",
     "output_type": "stream",
     "text": [
      "✅ Batch completed in 10.47s (0.209s per text)\n",
      "🚀 Attempting batch of 50 texts...\n"
     ]
    },
    {
     "name": "stderr",
     "output_type": "stream",
     "text": [
      "Processing conversations:  22%|██▏       | 452/2057 [1:19:42<4:35:59, 10.32s/it]"
     ]
    },
    {
     "name": "stdout",
     "output_type": "stream",
     "text": [
      "✅ Batch completed in 10.24s (0.205s per text)\n",
      "🚀 Attempting batch of 50 texts...\n"
     ]
    },
    {
     "name": "stderr",
     "output_type": "stream",
     "text": [
      "Processing conversations:  22%|██▏       | 453/2057 [1:19:53<4:37:03, 10.36s/it]"
     ]
    },
    {
     "name": "stdout",
     "output_type": "stream",
     "text": [
      "✅ Batch completed in 10.47s (0.209s per text)\n",
      "🚀 Attempting batch of 50 texts...\n"
     ]
    },
    {
     "name": "stderr",
     "output_type": "stream",
     "text": [
      "Processing conversations:  22%|██▏       | 454/2057 [1:20:03<4:36:29, 10.35s/it]"
     ]
    },
    {
     "name": "stdout",
     "output_type": "stream",
     "text": [
      "✅ Batch completed in 10.31s (0.206s per text)\n",
      "🚀 Attempting batch of 50 texts...\n"
     ]
    },
    {
     "name": "stderr",
     "output_type": "stream",
     "text": [
      "Processing conversations:  22%|██▏       | 455/2057 [1:20:14<4:36:12, 10.34s/it]"
     ]
    },
    {
     "name": "stdout",
     "output_type": "stream",
     "text": [
      "✅ Batch completed in 10.33s (0.207s per text)\n",
      "🚀 Attempting batch of 50 texts...\n"
     ]
    },
    {
     "name": "stderr",
     "output_type": "stream",
     "text": [
      "Processing conversations:  22%|██▏       | 456/2057 [1:20:24<4:34:28, 10.29s/it]"
     ]
    },
    {
     "name": "stdout",
     "output_type": "stream",
     "text": [
      "✅ Batch completed in 10.14s (0.203s per text)\n",
      "🚀 Attempting batch of 50 texts...\n"
     ]
    },
    {
     "name": "stderr",
     "output_type": "stream",
     "text": [
      "Processing conversations:  22%|██▏       | 457/2057 [1:20:34<4:33:40, 10.26s/it]"
     ]
    },
    {
     "name": "stdout",
     "output_type": "stream",
     "text": [
      "✅ Batch completed in 10.20s (0.204s per text)\n",
      "🚀 Attempting batch of 50 texts...\n"
     ]
    },
    {
     "name": "stderr",
     "output_type": "stream",
     "text": [
      "Processing conversations:  22%|██▏       | 458/2057 [1:20:44<4:34:56, 10.32s/it]"
     ]
    },
    {
     "name": "stdout",
     "output_type": "stream",
     "text": [
      "✅ Batch completed in 10.44s (0.209s per text)\n",
      "🚀 Attempting batch of 50 texts...\n"
     ]
    },
    {
     "name": "stderr",
     "output_type": "stream",
     "text": [
      "Processing conversations:  22%|██▏       | 459/2057 [1:20:55<4:38:57, 10.47s/it]"
     ]
    },
    {
     "name": "stdout",
     "output_type": "stream",
     "text": [
      "✅ Batch completed in 10.84s (0.217s per text)\n",
      "🚀 Attempting batch of 50 texts...\n"
     ]
    },
    {
     "name": "stderr",
     "output_type": "stream",
     "text": [
      "Processing conversations:  22%|██▏       | 460/2057 [1:21:06<4:41:48, 10.59s/it]"
     ]
    },
    {
     "name": "stdout",
     "output_type": "stream",
     "text": [
      "✅ Batch completed in 10.85s (0.217s per text)\n",
      "🚀 Attempting batch of 50 texts...\n"
     ]
    },
    {
     "name": "stderr",
     "output_type": "stream",
     "text": [
      "Processing conversations:  22%|██▏       | 461/2057 [1:21:16<4:38:43, 10.48s/it]"
     ]
    },
    {
     "name": "stdout",
     "output_type": "stream",
     "text": [
      "✅ Batch completed in 10.21s (0.204s per text)\n",
      "🚀 Attempting batch of 50 texts...\n"
     ]
    },
    {
     "name": "stderr",
     "output_type": "stream",
     "text": [
      "Processing conversations:  22%|██▏       | 462/2057 [1:21:26<4:35:32, 10.37s/it]"
     ]
    },
    {
     "name": "stdout",
     "output_type": "stream",
     "text": [
      "✅ Batch completed in 10.09s (0.202s per text)\n",
      "🚀 Attempting batch of 50 texts...\n"
     ]
    },
    {
     "name": "stderr",
     "output_type": "stream",
     "text": [
      "Processing conversations:  23%|██▎       | 463/2057 [1:21:38<4:41:47, 10.61s/it]"
     ]
    },
    {
     "name": "stdout",
     "output_type": "stream",
     "text": [
      "✅ Batch completed in 11.17s (0.223s per text)\n",
      "🚀 Attempting batch of 50 texts...\n"
     ]
    },
    {
     "name": "stderr",
     "output_type": "stream",
     "text": [
      "Processing conversations:  23%|██▎       | 464/2057 [1:21:49<4:46:13, 10.78s/it]"
     ]
    },
    {
     "name": "stdout",
     "output_type": "stream",
     "text": [
      "✅ Batch completed in 11.17s (0.223s per text)\n",
      "🚀 Attempting batch of 50 texts...\n"
     ]
    },
    {
     "name": "stderr",
     "output_type": "stream",
     "text": [
      "Processing conversations:  23%|██▎       | 465/2057 [1:22:00<4:52:40, 11.03s/it]"
     ]
    },
    {
     "name": "stdout",
     "output_type": "stream",
     "text": [
      "✅ Batch completed in 11.61s (0.232s per text)\n",
      "🚀 Attempting batch of 50 texts...\n"
     ]
    },
    {
     "name": "stderr",
     "output_type": "stream",
     "text": [
      "Processing conversations:  23%|██▎       | 466/2057 [1:22:11<4:51:00, 10.97s/it]"
     ]
    },
    {
     "name": "stdout",
     "output_type": "stream",
     "text": [
      "✅ Batch completed in 10.84s (0.217s per text)\n",
      "🚀 Attempting batch of 50 texts...\n"
     ]
    },
    {
     "name": "stderr",
     "output_type": "stream",
     "text": [
      "Processing conversations:  23%|██▎       | 467/2057 [1:22:22<4:49:03, 10.91s/it]"
     ]
    },
    {
     "name": "stdout",
     "output_type": "stream",
     "text": [
      "✅ Batch completed in 10.74s (0.215s per text)\n",
      "🚀 Attempting batch of 50 texts...\n"
     ]
    },
    {
     "name": "stderr",
     "output_type": "stream",
     "text": [
      "Processing conversations:  23%|██▎       | 468/2057 [1:22:32<4:44:00, 10.72s/it]"
     ]
    },
    {
     "name": "stdout",
     "output_type": "stream",
     "text": [
      "✅ Batch completed in 10.29s (0.206s per text)\n",
      "🚀 Attempting batch of 50 texts...\n"
     ]
    },
    {
     "name": "stderr",
     "output_type": "stream",
     "text": [
      "Processing conversations:  23%|██▎       | 469/2057 [1:22:42<4:38:06, 10.51s/it]"
     ]
    },
    {
     "name": "stdout",
     "output_type": "stream",
     "text": [
      "✅ Batch completed in 10.00s (0.200s per text)\n",
      "🚀 Attempting batch of 50 texts...\n"
     ]
    },
    {
     "name": "stderr",
     "output_type": "stream",
     "text": [
      "Processing conversations:  23%|██▎       | 470/2057 [1:22:53<4:38:41, 10.54s/it]"
     ]
    },
    {
     "name": "stdout",
     "output_type": "stream",
     "text": [
      "✅ Batch completed in 10.60s (0.212s per text)\n",
      "🚀 Attempting batch of 50 texts...\n"
     ]
    },
    {
     "name": "stderr",
     "output_type": "stream",
     "text": [
      "Processing conversations:  23%|██▎       | 471/2057 [1:23:04<4:39:07, 10.56s/it]"
     ]
    },
    {
     "name": "stdout",
     "output_type": "stream",
     "text": [
      "✅ Batch completed in 10.61s (0.212s per text)\n",
      "🚀 Attempting batch of 50 texts...\n"
     ]
    },
    {
     "name": "stderr",
     "output_type": "stream",
     "text": [
      "Processing conversations:  23%|██▎       | 472/2057 [1:23:14<4:39:42, 10.59s/it]"
     ]
    },
    {
     "name": "stdout",
     "output_type": "stream",
     "text": [
      "✅ Batch completed in 10.64s (0.213s per text)\n",
      "🚀 Attempting batch of 50 texts...\n"
     ]
    },
    {
     "name": "stderr",
     "output_type": "stream",
     "text": [
      "Processing conversations:  23%|██▎       | 473/2057 [1:23:25<4:38:52, 10.56s/it]"
     ]
    },
    {
     "name": "stdout",
     "output_type": "stream",
     "text": [
      "✅ Batch completed in 10.50s (0.210s per text)\n",
      "🚀 Attempting batch of 50 texts...\n"
     ]
    },
    {
     "name": "stderr",
     "output_type": "stream",
     "text": [
      "Processing conversations:  23%|██▎       | 474/2057 [1:23:35<4:37:49, 10.53s/it]"
     ]
    },
    {
     "name": "stdout",
     "output_type": "stream",
     "text": [
      "✅ Batch completed in 10.45s (0.209s per text)\n",
      "🚀 Attempting batch of 50 texts...\n"
     ]
    },
    {
     "name": "stderr",
     "output_type": "stream",
     "text": [
      "Processing conversations:  23%|██▎       | 475/2057 [1:23:45<4:34:23, 10.41s/it]"
     ]
    },
    {
     "name": "stdout",
     "output_type": "stream",
     "text": [
      "✅ Batch completed in 10.11s (0.202s per text)\n",
      "🚀 Attempting batch of 50 texts...\n"
     ]
    },
    {
     "name": "stderr",
     "output_type": "stream",
     "text": [
      "Processing conversations:  23%|██▎       | 476/2057 [1:23:56<4:35:45, 10.46s/it]"
     ]
    },
    {
     "name": "stdout",
     "output_type": "stream",
     "text": [
      "✅ Batch completed in 10.59s (0.212s per text)\n",
      "🚀 Attempting batch of 50 texts...\n"
     ]
    },
    {
     "name": "stderr",
     "output_type": "stream",
     "text": [
      "Processing conversations:  23%|██▎       | 477/2057 [1:24:07<4:38:22, 10.57s/it]"
     ]
    },
    {
     "name": "stdout",
     "output_type": "stream",
     "text": [
      "✅ Batch completed in 10.81s (0.216s per text)\n",
      "🚀 Attempting batch of 50 texts...\n"
     ]
    },
    {
     "name": "stderr",
     "output_type": "stream",
     "text": [
      "Processing conversations:  23%|██▎       | 478/2057 [1:24:17<4:35:43, 10.48s/it]"
     ]
    },
    {
     "name": "stdout",
     "output_type": "stream",
     "text": [
      "✅ Batch completed in 10.25s (0.205s per text)\n",
      "🚀 Attempting batch of 50 texts...\n"
     ]
    },
    {
     "name": "stderr",
     "output_type": "stream",
     "text": [
      "Processing conversations:  23%|██▎       | 479/2057 [1:24:27<4:35:21, 10.47s/it]"
     ]
    },
    {
     "name": "stdout",
     "output_type": "stream",
     "text": [
      "✅ Batch completed in 10.45s (0.209s per text)\n",
      "🚀 Attempting batch of 50 texts...\n"
     ]
    },
    {
     "name": "stderr",
     "output_type": "stream",
     "text": [
      "Processing conversations:  23%|██▎       | 480/2057 [1:24:38<4:38:42, 10.60s/it]"
     ]
    },
    {
     "name": "stdout",
     "output_type": "stream",
     "text": [
      "✅ Batch completed in 10.91s (0.218s per text)\n",
      "🚀 Attempting batch of 50 texts...\n"
     ]
    },
    {
     "name": "stderr",
     "output_type": "stream",
     "text": [
      "Processing conversations:  23%|██▎       | 481/2057 [1:24:49<4:39:55, 10.66s/it]"
     ]
    },
    {
     "name": "stdout",
     "output_type": "stream",
     "text": [
      "✅ Batch completed in 10.77s (0.215s per text)\n",
      "🚀 Attempting batch of 50 texts...\n"
     ]
    },
    {
     "name": "stderr",
     "output_type": "stream",
     "text": [
      "Processing conversations:  23%|██▎       | 482/2057 [1:25:00<4:38:33, 10.61s/it]"
     ]
    },
    {
     "name": "stdout",
     "output_type": "stream",
     "text": [
      "✅ Batch completed in 10.50s (0.210s per text)\n",
      "🚀 Attempting batch of 50 texts...\n"
     ]
    },
    {
     "name": "stderr",
     "output_type": "stream",
     "text": [
      "Processing conversations:  23%|██▎       | 483/2057 [1:25:10<4:34:17, 10.46s/it]"
     ]
    },
    {
     "name": "stdout",
     "output_type": "stream",
     "text": [
      "✅ Batch completed in 10.08s (0.202s per text)\n",
      "🚀 Attempting batch of 50 texts...\n"
     ]
    },
    {
     "name": "stderr",
     "output_type": "stream",
     "text": [
      "Processing conversations:  24%|██▎       | 484/2057 [1:25:20<4:34:15, 10.46s/it]"
     ]
    },
    {
     "name": "stdout",
     "output_type": "stream",
     "text": [
      "✅ Batch completed in 10.47s (0.209s per text)\n",
      "🚀 Attempting batch of 50 texts...\n"
     ]
    },
    {
     "name": "stderr",
     "output_type": "stream",
     "text": [
      "Processing conversations:  24%|██▎       | 485/2057 [1:25:30<4:33:02, 10.42s/it]"
     ]
    },
    {
     "name": "stdout",
     "output_type": "stream",
     "text": [
      "✅ Batch completed in 10.32s (0.206s per text)\n",
      "🚀 Attempting batch of 50 texts...\n"
     ]
    },
    {
     "name": "stderr",
     "output_type": "stream",
     "text": [
      "Processing conversations:  24%|██▎       | 486/2057 [1:25:41<4:31:15, 10.36s/it]"
     ]
    },
    {
     "name": "stdout",
     "output_type": "stream",
     "text": [
      "✅ Batch completed in 10.21s (0.204s per text)\n",
      "🚀 Attempting batch of 50 texts...\n"
     ]
    },
    {
     "name": "stderr",
     "output_type": "stream",
     "text": [
      "Processing conversations:  24%|██▎       | 487/2057 [1:25:51<4:33:01, 10.43s/it]"
     ]
    },
    {
     "name": "stdout",
     "output_type": "stream",
     "text": [
      "✅ Batch completed in 10.60s (0.212s per text)\n",
      "🚀 Attempting batch of 50 texts...\n"
     ]
    },
    {
     "name": "stderr",
     "output_type": "stream",
     "text": [
      "Processing conversations:  24%|██▎       | 488/2057 [1:26:02<4:33:59, 10.48s/it]"
     ]
    },
    {
     "name": "stdout",
     "output_type": "stream",
     "text": [
      "✅ Batch completed in 10.57s (0.211s per text)\n",
      "🚀 Attempting batch of 50 texts...\n"
     ]
    },
    {
     "name": "stderr",
     "output_type": "stream",
     "text": [
      "Processing conversations:  24%|██▍       | 489/2057 [1:26:13<4:36:11, 10.57s/it]"
     ]
    },
    {
     "name": "stdout",
     "output_type": "stream",
     "text": [
      "✅ Batch completed in 10.77s (0.215s per text)\n",
      "🚀 Attempting batch of 50 texts...\n"
     ]
    },
    {
     "name": "stderr",
     "output_type": "stream",
     "text": [
      "Processing conversations:  24%|██▍       | 490/2057 [1:26:23<4:33:28, 10.47s/it]"
     ]
    },
    {
     "name": "stdout",
     "output_type": "stream",
     "text": [
      "✅ Batch completed in 10.24s (0.205s per text)\n",
      "🚀 Attempting batch of 50 texts...\n"
     ]
    },
    {
     "name": "stderr",
     "output_type": "stream",
     "text": [
      "Processing conversations:  24%|██▍       | 491/2057 [1:26:34<4:34:54, 10.53s/it]"
     ]
    },
    {
     "name": "stdout",
     "output_type": "stream",
     "text": [
      "✅ Batch completed in 10.67s (0.213s per text)\n",
      "🚀 Attempting batch of 50 texts...\n"
     ]
    },
    {
     "name": "stderr",
     "output_type": "stream",
     "text": [
      "Processing conversations:  24%|██▍       | 492/2057 [1:26:44<4:31:23, 10.41s/it]"
     ]
    },
    {
     "name": "stdout",
     "output_type": "stream",
     "text": [
      "✅ Batch completed in 10.10s (0.202s per text)\n",
      "🚀 Attempting batch of 50 texts...\n"
     ]
    },
    {
     "name": "stderr",
     "output_type": "stream",
     "text": [
      "Processing conversations:  24%|██▍       | 493/2057 [1:26:54<4:31:45, 10.43s/it]"
     ]
    },
    {
     "name": "stdout",
     "output_type": "stream",
     "text": [
      "✅ Batch completed in 10.47s (0.209s per text)\n",
      "🚀 Attempting batch of 50 texts...\n"
     ]
    },
    {
     "name": "stderr",
     "output_type": "stream",
     "text": [
      "Processing conversations:  24%|██▍       | 494/2057 [1:27:04<4:29:45, 10.36s/it]"
     ]
    },
    {
     "name": "stdout",
     "output_type": "stream",
     "text": [
      "✅ Batch completed in 10.18s (0.204s per text)\n",
      "🚀 Attempting batch of 50 texts...\n"
     ]
    },
    {
     "name": "stderr",
     "output_type": "stream",
     "text": [
      "Processing conversations:  24%|██▍       | 495/2057 [1:27:15<4:30:18, 10.38s/it]"
     ]
    },
    {
     "name": "stdout",
     "output_type": "stream",
     "text": [
      "✅ Batch completed in 10.44s (0.209s per text)\n",
      "🚀 Attempting batch of 50 texts...\n"
     ]
    },
    {
     "name": "stderr",
     "output_type": "stream",
     "text": [
      "Processing conversations:  24%|██▍       | 496/2057 [1:27:25<4:30:22, 10.39s/it]"
     ]
    },
    {
     "name": "stdout",
     "output_type": "stream",
     "text": [
      "✅ Batch completed in 10.41s (0.208s per text)\n",
      "🚀 Attempting batch of 50 texts...\n"
     ]
    },
    {
     "name": "stderr",
     "output_type": "stream",
     "text": [
      "Processing conversations:  24%|██▍       | 497/2057 [1:27:35<4:28:40, 10.33s/it]"
     ]
    },
    {
     "name": "stdout",
     "output_type": "stream",
     "text": [
      "✅ Batch completed in 10.19s (0.204s per text)\n",
      "🚀 Attempting batch of 50 texts...\n"
     ]
    },
    {
     "name": "stderr",
     "output_type": "stream",
     "text": [
      "Processing conversations:  24%|██▍       | 498/2057 [1:27:46<4:29:36, 10.38s/it]"
     ]
    },
    {
     "name": "stdout",
     "output_type": "stream",
     "text": [
      "✅ Batch completed in 10.47s (0.209s per text)\n",
      "🚀 Attempting batch of 50 texts...\n"
     ]
    },
    {
     "name": "stderr",
     "output_type": "stream",
     "text": [
      "Processing conversations:  24%|██▍       | 499/2057 [1:27:57<4:31:51, 10.47s/it]"
     ]
    },
    {
     "name": "stdout",
     "output_type": "stream",
     "text": [
      "✅ Batch completed in 10.68s (0.214s per text)\n",
      "🚀 Attempting batch of 50 texts...\n"
     ]
    },
    {
     "name": "stderr",
     "output_type": "stream",
     "text": [
      "Processing conversations:  24%|██▍       | 500/2057 [1:28:07<4:29:36, 10.39s/it]"
     ]
    },
    {
     "name": "stdout",
     "output_type": "stream",
     "text": [
      "✅ Batch completed in 10.20s (0.204s per text)\n",
      "🚀 Attempting batch of 50 texts...\n"
     ]
    },
    {
     "name": "stderr",
     "output_type": "stream",
     "text": [
      "Processing conversations:  24%|██▍       | 501/2057 [1:28:18<4:35:41, 10.63s/it]"
     ]
    },
    {
     "name": "stdout",
     "output_type": "stream",
     "text": [
      "✅ Batch completed in 11.19s (0.224s per text)\n",
      "🚀 Attempting batch of 50 texts...\n"
     ]
    },
    {
     "name": "stderr",
     "output_type": "stream",
     "text": [
      "Processing conversations:  24%|██▍       | 502/2057 [1:28:29<4:37:41, 10.71s/it]"
     ]
    },
    {
     "name": "stdout",
     "output_type": "stream",
     "text": [
      "✅ Batch completed in 10.90s (0.218s per text)\n",
      "🚀 Attempting batch of 50 texts...\n"
     ]
    },
    {
     "name": "stderr",
     "output_type": "stream",
     "text": [
      "Processing conversations:  24%|██▍       | 503/2057 [1:28:40<4:39:19, 10.78s/it]"
     ]
    },
    {
     "name": "stdout",
     "output_type": "stream",
     "text": [
      "✅ Batch completed in 10.94s (0.219s per text)\n",
      "🚀 Attempting batch of 50 texts...\n"
     ]
    },
    {
     "name": "stderr",
     "output_type": "stream",
     "text": [
      "Processing conversations:  25%|██▍       | 504/2057 [1:28:51<4:40:17, 10.83s/it]"
     ]
    },
    {
     "name": "stdout",
     "output_type": "stream",
     "text": [
      "✅ Batch completed in 10.93s (0.219s per text)\n",
      "🚀 Attempting batch of 50 texts...\n"
     ]
    },
    {
     "name": "stderr",
     "output_type": "stream",
     "text": [
      "Processing conversations:  25%|██▍       | 505/2057 [1:29:02<4:44:26, 11.00s/it]"
     ]
    },
    {
     "name": "stdout",
     "output_type": "stream",
     "text": [
      "✅ Batch completed in 11.38s (0.228s per text)\n",
      "🚀 Attempting batch of 50 texts...\n"
     ]
    },
    {
     "name": "stderr",
     "output_type": "stream",
     "text": [
      "Processing conversations:  25%|██▍       | 506/2057 [1:29:13<4:45:52, 11.06s/it]"
     ]
    },
    {
     "name": "stdout",
     "output_type": "stream",
     "text": [
      "✅ Batch completed in 11.20s (0.224s per text)\n",
      "🚀 Attempting batch of 50 texts...\n"
     ]
    },
    {
     "name": "stderr",
     "output_type": "stream",
     "text": [
      "Processing conversations:  25%|██▍       | 507/2057 [1:29:24<4:40:18, 10.85s/it]"
     ]
    },
    {
     "name": "stdout",
     "output_type": "stream",
     "text": [
      "✅ Batch completed in 10.36s (0.207s per text)\n",
      "🚀 Attempting batch of 50 texts...\n"
     ]
    },
    {
     "name": "stderr",
     "output_type": "stream",
     "text": [
      "Processing conversations:  25%|██▍       | 508/2057 [1:29:35<4:43:05, 10.97s/it]"
     ]
    },
    {
     "name": "stdout",
     "output_type": "stream",
     "text": [
      "✅ Batch completed in 11.23s (0.225s per text)\n",
      "🚀 Attempting batch of 50 texts...\n"
     ]
    },
    {
     "name": "stderr",
     "output_type": "stream",
     "text": [
      "Processing conversations:  25%|██▍       | 509/2057 [1:29:45<4:38:51, 10.81s/it]"
     ]
    },
    {
     "name": "stdout",
     "output_type": "stream",
     "text": [
      "✅ Batch completed in 10.44s (0.209s per text)\n",
      "🚀 Attempting batch of 50 texts...\n"
     ]
    },
    {
     "name": "stderr",
     "output_type": "stream",
     "text": [
      "Processing conversations:  25%|██▍       | 510/2057 [1:29:57<4:42:34, 10.96s/it]"
     ]
    },
    {
     "name": "stdout",
     "output_type": "stream",
     "text": [
      "✅ Batch completed in 11.31s (0.226s per text)\n",
      "🚀 Attempting batch of 50 texts...\n"
     ]
    },
    {
     "name": "stderr",
     "output_type": "stream",
     "text": [
      "Processing conversations:  25%|██▍       | 511/2057 [1:30:08<4:42:17, 10.96s/it]"
     ]
    },
    {
     "name": "stdout",
     "output_type": "stream",
     "text": [
      "✅ Batch completed in 10.94s (0.219s per text)\n",
      "🚀 Attempting batch of 50 texts...\n"
     ]
    },
    {
     "name": "stderr",
     "output_type": "stream",
     "text": [
      "Processing conversations:  25%|██▍       | 512/2057 [1:30:19<4:44:14, 11.04s/it]"
     ]
    },
    {
     "name": "stdout",
     "output_type": "stream",
     "text": [
      "✅ Batch completed in 11.23s (0.225s per text)\n",
      "🚀 Attempting batch of 50 texts...\n"
     ]
    },
    {
     "name": "stderr",
     "output_type": "stream",
     "text": [
      "Processing conversations:  25%|██▍       | 513/2057 [1:30:30<4:45:58, 11.11s/it]"
     ]
    },
    {
     "name": "stdout",
     "output_type": "stream",
     "text": [
      "✅ Batch completed in 11.28s (0.226s per text)\n",
      "🚀 Attempting batch of 50 texts...\n"
     ]
    },
    {
     "name": "stderr",
     "output_type": "stream",
     "text": [
      "Processing conversations:  25%|██▍       | 514/2057 [1:30:42<4:48:54, 11.23s/it]"
     ]
    },
    {
     "name": "stdout",
     "output_type": "stream",
     "text": [
      "✅ Batch completed in 11.51s (0.230s per text)\n",
      "🚀 Attempting batch of 50 texts...\n"
     ]
    },
    {
     "name": "stderr",
     "output_type": "stream",
     "text": [
      "Processing conversations:  25%|██▌       | 515/2057 [1:30:53<4:49:17, 11.26s/it]"
     ]
    },
    {
     "name": "stdout",
     "output_type": "stream",
     "text": [
      "✅ Batch completed in 11.30s (0.226s per text)\n",
      "🚀 Attempting batch of 50 texts...\n"
     ]
    },
    {
     "name": "stderr",
     "output_type": "stream",
     "text": [
      "Processing conversations:  25%|██▌       | 516/2057 [1:31:04<4:46:52, 11.17s/it]"
     ]
    },
    {
     "name": "stdout",
     "output_type": "stream",
     "text": [
      "✅ Batch completed in 10.96s (0.219s per text)\n",
      "🚀 Attempting batch of 50 texts...\n"
     ]
    },
    {
     "name": "stderr",
     "output_type": "stream",
     "text": [
      "Processing conversations:  25%|██▌       | 517/2057 [1:31:15<4:46:00, 11.14s/it]"
     ]
    },
    {
     "name": "stdout",
     "output_type": "stream",
     "text": [
      "✅ Batch completed in 11.08s (0.222s per text)\n",
      "🚀 Attempting batch of 50 texts...\n"
     ]
    },
    {
     "name": "stderr",
     "output_type": "stream",
     "text": [
      "Processing conversations:  25%|██▌       | 518/2057 [1:31:27<4:50:22, 11.32s/it]"
     ]
    },
    {
     "name": "stdout",
     "output_type": "stream",
     "text": [
      "✅ Batch completed in 11.73s (0.235s per text)\n",
      "🚀 Attempting batch of 50 texts...\n"
     ]
    },
    {
     "name": "stderr",
     "output_type": "stream",
     "text": [
      "Processing conversations:  25%|██▌       | 519/2057 [1:31:38<4:49:53, 11.31s/it]"
     ]
    },
    {
     "name": "stdout",
     "output_type": "stream",
     "text": [
      "✅ Batch completed in 11.28s (0.226s per text)\n",
      "🚀 Attempting batch of 50 texts...\n"
     ]
    },
    {
     "name": "stderr",
     "output_type": "stream",
     "text": [
      "Processing conversations:  25%|██▌       | 520/2057 [1:31:49<4:44:32, 11.11s/it]"
     ]
    },
    {
     "name": "stdout",
     "output_type": "stream",
     "text": [
      "✅ Batch completed in 10.63s (0.213s per text)\n",
      "🚀 Attempting batch of 50 texts...\n"
     ]
    },
    {
     "name": "stderr",
     "output_type": "stream",
     "text": [
      "Processing conversations:  25%|██▌       | 521/2057 [1:32:00<4:46:31, 11.19s/it]"
     ]
    },
    {
     "name": "stdout",
     "output_type": "stream",
     "text": [
      "✅ Batch completed in 11.38s (0.228s per text)\n",
      "🚀 Attempting batch of 50 texts...\n"
     ]
    },
    {
     "name": "stderr",
     "output_type": "stream",
     "text": [
      "Processing conversations:  25%|██▌       | 522/2057 [1:32:11<4:43:44, 11.09s/it]"
     ]
    },
    {
     "name": "stdout",
     "output_type": "stream",
     "text": [
      "✅ Batch completed in 10.85s (0.217s per text)\n",
      "🚀 Attempting batch of 50 texts...\n"
     ]
    },
    {
     "name": "stderr",
     "output_type": "stream",
     "text": [
      "Processing conversations:  25%|██▌       | 523/2057 [1:32:22<4:42:10, 11.04s/it]"
     ]
    },
    {
     "name": "stdout",
     "output_type": "stream",
     "text": [
      "✅ Batch completed in 10.91s (0.218s per text)\n",
      "🚀 Attempting batch of 50 texts...\n"
     ]
    },
    {
     "name": "stderr",
     "output_type": "stream",
     "text": [
      "Processing conversations:  25%|██▌       | 524/2057 [1:32:33<4:43:05, 11.08s/it]"
     ]
    },
    {
     "name": "stdout",
     "output_type": "stream",
     "text": [
      "✅ Batch completed in 11.18s (0.224s per text)\n",
      "🚀 Attempting batch of 50 texts...\n"
     ]
    },
    {
     "name": "stderr",
     "output_type": "stream",
     "text": [
      "Processing conversations:  26%|██▌       | 525/2057 [1:32:45<4:49:36, 11.34s/it]"
     ]
    },
    {
     "name": "stdout",
     "output_type": "stream",
     "text": [
      "✅ Batch completed in 11.95s (0.239s per text)\n",
      "🚀 Attempting batch of 50 texts...\n"
     ]
    },
    {
     "name": "stderr",
     "output_type": "stream",
     "text": [
      "Processing conversations:  26%|██▌       | 526/2057 [1:32:57<4:55:32, 11.58s/it]"
     ]
    },
    {
     "name": "stdout",
     "output_type": "stream",
     "text": [
      "✅ Batch completed in 12.14s (0.243s per text)\n",
      "🚀 Attempting batch of 50 texts...\n"
     ]
    },
    {
     "name": "stderr",
     "output_type": "stream",
     "text": [
      "Processing conversations:  26%|██▌       | 527/2057 [1:33:09<4:58:59, 11.73s/it]"
     ]
    },
    {
     "name": "stdout",
     "output_type": "stream",
     "text": [
      "✅ Batch completed in 12.05s (0.241s per text)\n",
      "🚀 Attempting batch of 50 texts...\n"
     ]
    },
    {
     "name": "stderr",
     "output_type": "stream",
     "text": [
      "Processing conversations:  26%|██▌       | 528/2057 [1:33:21<4:56:20, 11.63s/it]"
     ]
    },
    {
     "name": "stdout",
     "output_type": "stream",
     "text": [
      "✅ Batch completed in 11.40s (0.228s per text)\n",
      "🚀 Attempting batch of 50 texts...\n"
     ]
    },
    {
     "name": "stderr",
     "output_type": "stream",
     "text": [
      "Processing conversations:  26%|██▌       | 529/2057 [1:33:32<4:54:14, 11.55s/it]"
     ]
    },
    {
     "name": "stdout",
     "output_type": "stream",
     "text": [
      "✅ Batch completed in 11.37s (0.227s per text)\n",
      "🚀 Attempting batch of 50 texts...\n"
     ]
    },
    {
     "name": "stderr",
     "output_type": "stream",
     "text": [
      "Processing conversations:  26%|██▌       | 530/2057 [1:33:43<4:49:03, 11.36s/it]"
     ]
    },
    {
     "name": "stdout",
     "output_type": "stream",
     "text": [
      "✅ Batch completed in 10.90s (0.218s per text)\n",
      "🚀 Attempting batch of 50 texts...\n"
     ]
    },
    {
     "name": "stderr",
     "output_type": "stream",
     "text": [
      "Processing conversations:  26%|██▌       | 531/2057 [1:33:53<4:43:14, 11.14s/it]"
     ]
    },
    {
     "name": "stdout",
     "output_type": "stream",
     "text": [
      "✅ Batch completed in 10.62s (0.212s per text)\n",
      "🚀 Attempting batch of 50 texts...\n"
     ]
    },
    {
     "name": "stderr",
     "output_type": "stream",
     "text": [
      "Processing conversations:  26%|██▌       | 532/2057 [1:34:04<4:37:47, 10.93s/it]"
     ]
    },
    {
     "name": "stdout",
     "output_type": "stream",
     "text": [
      "✅ Batch completed in 10.44s (0.209s per text)\n",
      "🚀 Attempting batch of 50 texts...\n"
     ]
    },
    {
     "name": "stderr",
     "output_type": "stream",
     "text": [
      "Processing conversations:  26%|██▌       | 533/2057 [1:34:15<4:37:40, 10.93s/it]"
     ]
    },
    {
     "name": "stdout",
     "output_type": "stream",
     "text": [
      "✅ Batch completed in 10.94s (0.219s per text)\n",
      "🚀 Attempting batch of 50 texts...\n"
     ]
    },
    {
     "name": "stderr",
     "output_type": "stream",
     "text": [
      "Processing conversations:  26%|██▌       | 534/2057 [1:34:26<4:42:34, 11.13s/it]"
     ]
    },
    {
     "name": "stdout",
     "output_type": "stream",
     "text": [
      "✅ Batch completed in 11.59s (0.232s per text)\n",
      "🚀 Attempting batch of 50 texts...\n"
     ]
    },
    {
     "name": "stderr",
     "output_type": "stream",
     "text": [
      "Processing conversations:  26%|██▌       | 535/2057 [1:34:38<4:42:18, 11.13s/it]"
     ]
    },
    {
     "name": "stdout",
     "output_type": "stream",
     "text": [
      "✅ Batch completed in 11.12s (0.222s per text)\n",
      "🚀 Attempting batch of 50 texts...\n"
     ]
    },
    {
     "name": "stderr",
     "output_type": "stream",
     "text": [
      "Processing conversations:  26%|██▌       | 536/2057 [1:34:49<4:45:57, 11.28s/it]"
     ]
    },
    {
     "name": "stdout",
     "output_type": "stream",
     "text": [
      "✅ Batch completed in 11.63s (0.233s per text)\n",
      "🚀 Attempting batch of 50 texts...\n"
     ]
    },
    {
     "name": "stderr",
     "output_type": "stream",
     "text": [
      "Processing conversations:  26%|██▌       | 537/2057 [1:35:01<4:52:32, 11.55s/it]"
     ]
    },
    {
     "name": "stdout",
     "output_type": "stream",
     "text": [
      "✅ Batch completed in 12.16s (0.243s per text)\n",
      "🚀 Attempting batch of 50 texts...\n"
     ]
    },
    {
     "name": "stderr",
     "output_type": "stream",
     "text": [
      "Processing conversations:  26%|██▌       | 538/2057 [1:35:12<4:47:53, 11.37s/it]"
     ]
    },
    {
     "name": "stdout",
     "output_type": "stream",
     "text": [
      "✅ Batch completed in 10.96s (0.219s per text)\n",
      "🚀 Attempting batch of 50 texts...\n"
     ]
    },
    {
     "name": "stderr",
     "output_type": "stream",
     "text": [
      "Processing conversations:  26%|██▌       | 539/2057 [1:35:23<4:45:03, 11.27s/it]"
     ]
    },
    {
     "name": "stdout",
     "output_type": "stream",
     "text": [
      "✅ Batch completed in 11.02s (0.220s per text)\n",
      "🚀 Attempting batch of 50 texts...\n"
     ]
    },
    {
     "name": "stderr",
     "output_type": "stream",
     "text": [
      "Processing conversations:  26%|██▋       | 540/2057 [1:35:34<4:42:28, 11.17s/it]"
     ]
    },
    {
     "name": "stdout",
     "output_type": "stream",
     "text": [
      "✅ Batch completed in 10.94s (0.219s per text)\n",
      "🚀 Attempting batch of 50 texts...\n"
     ]
    },
    {
     "name": "stderr",
     "output_type": "stream",
     "text": [
      "Processing conversations:  26%|██▋       | 541/2057 [1:35:46<4:43:15, 11.21s/it]"
     ]
    },
    {
     "name": "stdout",
     "output_type": "stream",
     "text": [
      "✅ Batch completed in 11.29s (0.226s per text)\n",
      "🚀 Attempting batch of 50 texts...\n"
     ]
    },
    {
     "name": "stderr",
     "output_type": "stream",
     "text": [
      "Processing conversations:  26%|██▋       | 542/2057 [1:35:56<4:36:55, 10.97s/it]"
     ]
    },
    {
     "name": "stdout",
     "output_type": "stream",
     "text": [
      "✅ Batch completed in 10.39s (0.208s per text)\n",
      "🚀 Attempting batch of 50 texts...\n"
     ]
    },
    {
     "name": "stderr",
     "output_type": "stream",
     "text": [
      "Processing conversations:  26%|██▋       | 543/2057 [1:36:06<4:31:35, 10.76s/it]"
     ]
    },
    {
     "name": "stdout",
     "output_type": "stream",
     "text": [
      "✅ Batch completed in 10.28s (0.206s per text)\n",
      "🚀 Attempting batch of 50 texts...\n"
     ]
    },
    {
     "name": "stderr",
     "output_type": "stream",
     "text": [
      "Processing conversations:  26%|██▋       | 544/2057 [1:36:17<4:28:15, 10.64s/it]"
     ]
    },
    {
     "name": "stdout",
     "output_type": "stream",
     "text": [
      "✅ Batch completed in 10.33s (0.207s per text)\n",
      "🚀 Attempting batch of 50 texts...\n"
     ]
    },
    {
     "name": "stderr",
     "output_type": "stream",
     "text": [
      "Processing conversations:  26%|██▋       | 545/2057 [1:36:27<4:25:27, 10.53s/it]"
     ]
    },
    {
     "name": "stdout",
     "output_type": "stream",
     "text": [
      "✅ Batch completed in 10.29s (0.206s per text)\n",
      "🚀 Attempting batch of 50 texts...\n"
     ]
    },
    {
     "name": "stderr",
     "output_type": "stream",
     "text": [
      "Processing conversations:  27%|██▋       | 546/2057 [1:36:37<4:22:17, 10.42s/it]"
     ]
    },
    {
     "name": "stdout",
     "output_type": "stream",
     "text": [
      "✅ Batch completed in 10.13s (0.203s per text)\n",
      "🚀 Attempting batch of 50 texts...\n"
     ]
    },
    {
     "name": "stderr",
     "output_type": "stream",
     "text": [
      "Processing conversations:  27%|██▋       | 547/2057 [1:36:47<4:21:19, 10.38s/it]"
     ]
    },
    {
     "name": "stdout",
     "output_type": "stream",
     "text": [
      "✅ Batch completed in 10.30s (0.206s per text)\n",
      "🚀 Attempting batch of 50 texts...\n"
     ]
    },
    {
     "name": "stderr",
     "output_type": "stream",
     "text": [
      "Processing conversations:  27%|██▋       | 548/2057 [1:36:58<4:20:25, 10.35s/it]"
     ]
    },
    {
     "name": "stdout",
     "output_type": "stream",
     "text": [
      "✅ Batch completed in 10.28s (0.206s per text)\n",
      "🚀 Attempting batch of 50 texts...\n"
     ]
    },
    {
     "name": "stderr",
     "output_type": "stream",
     "text": [
      "Processing conversations:  27%|██▋       | 549/2057 [1:37:08<4:18:08, 10.27s/it]"
     ]
    },
    {
     "name": "stdout",
     "output_type": "stream",
     "text": [
      "✅ Batch completed in 10.07s (0.201s per text)\n",
      "🚀 Attempting batch of 50 texts...\n"
     ]
    },
    {
     "name": "stderr",
     "output_type": "stream",
     "text": [
      "Processing conversations:  27%|██▋       | 550/2057 [1:37:18<4:19:59, 10.35s/it]"
     ]
    },
    {
     "name": "stdout",
     "output_type": "stream",
     "text": [
      "✅ Batch completed in 10.53s (0.211s per text)\n",
      "🚀 Attempting batch of 50 texts...\n"
     ]
    },
    {
     "name": "stderr",
     "output_type": "stream",
     "text": [
      "Processing conversations:  27%|██▋       | 551/2057 [1:37:29<4:21:55, 10.44s/it]"
     ]
    },
    {
     "name": "stdout",
     "output_type": "stream",
     "text": [
      "✅ Batch completed in 10.62s (0.212s per text)\n",
      "🚀 Attempting batch of 50 texts...\n"
     ]
    },
    {
     "name": "stderr",
     "output_type": "stream",
     "text": [
      "Processing conversations:  27%|██▋       | 552/2057 [1:37:39<4:21:32, 10.43s/it]"
     ]
    },
    {
     "name": "stdout",
     "output_type": "stream",
     "text": [
      "✅ Batch completed in 10.40s (0.208s per text)\n",
      "🚀 Attempting batch of 50 texts...\n"
     ]
    },
    {
     "name": "stderr",
     "output_type": "stream",
     "text": [
      "Processing conversations:  27%|██▋       | 553/2057 [1:37:49<4:18:01, 10.29s/it]"
     ]
    },
    {
     "name": "stdout",
     "output_type": "stream",
     "text": [
      "✅ Batch completed in 9.97s (0.199s per text)\n",
      "🚀 Attempting batch of 50 texts...\n"
     ]
    },
    {
     "name": "stderr",
     "output_type": "stream",
     "text": [
      "Processing conversations:  27%|██▋       | 554/2057 [1:37:59<4:15:20, 10.19s/it]"
     ]
    },
    {
     "name": "stdout",
     "output_type": "stream",
     "text": [
      "✅ Batch completed in 9.95s (0.199s per text)\n",
      "🚀 Attempting batch of 50 texts...\n"
     ]
    },
    {
     "name": "stderr",
     "output_type": "stream",
     "text": [
      "Processing conversations:  27%|██▋       | 555/2057 [1:38:10<4:15:33, 10.21s/it]"
     ]
    },
    {
     "name": "stdout",
     "output_type": "stream",
     "text": [
      "✅ Batch completed in 10.23s (0.205s per text)\n",
      "🚀 Attempting batch of 50 texts...\n"
     ]
    },
    {
     "name": "stderr",
     "output_type": "stream",
     "text": [
      "Processing conversations:  27%|██▋       | 556/2057 [1:38:20<4:14:47, 10.18s/it]"
     ]
    },
    {
     "name": "stdout",
     "output_type": "stream",
     "text": [
      "✅ Batch completed in 10.12s (0.202s per text)\n",
      "🚀 Attempting batch of 50 texts...\n"
     ]
    },
    {
     "name": "stderr",
     "output_type": "stream",
     "text": [
      "Processing conversations:  27%|██▋       | 557/2057 [1:38:30<4:14:13, 10.17s/it]"
     ]
    },
    {
     "name": "stdout",
     "output_type": "stream",
     "text": [
      "✅ Batch completed in 10.12s (0.202s per text)\n",
      "🚀 Attempting batch of 50 texts...\n"
     ]
    },
    {
     "name": "stderr",
     "output_type": "stream",
     "text": [
      "Processing conversations:  27%|██▋       | 558/2057 [1:38:40<4:11:48, 10.08s/it]"
     ]
    },
    {
     "name": "stdout",
     "output_type": "stream",
     "text": [
      "✅ Batch completed in 9.86s (0.197s per text)\n",
      "🚀 Attempting batch of 50 texts...\n"
     ]
    },
    {
     "name": "stderr",
     "output_type": "stream",
     "text": [
      "Processing conversations:  27%|██▋       | 559/2057 [1:38:50<4:12:54, 10.13s/it]"
     ]
    },
    {
     "name": "stdout",
     "output_type": "stream",
     "text": [
      "✅ Batch completed in 10.24s (0.205s per text)\n",
      "🚀 Attempting batch of 50 texts...\n"
     ]
    },
    {
     "name": "stderr",
     "output_type": "stream",
     "text": [
      "Processing conversations:  27%|██▋       | 560/2057 [1:39:00<4:13:22, 10.16s/it]"
     ]
    },
    {
     "name": "stdout",
     "output_type": "stream",
     "text": [
      "✅ Batch completed in 10.21s (0.204s per text)\n",
      "🚀 Attempting batch of 50 texts...\n"
     ]
    },
    {
     "name": "stderr",
     "output_type": "stream",
     "text": [
      "Processing conversations:  27%|██▋       | 561/2057 [1:39:10<4:13:44, 10.18s/it]"
     ]
    },
    {
     "name": "stdout",
     "output_type": "stream",
     "text": [
      "✅ Batch completed in 10.22s (0.204s per text)\n",
      "🚀 Attempting batch of 50 texts...\n"
     ]
    },
    {
     "name": "stderr",
     "output_type": "stream",
     "text": [
      "Processing conversations:  27%|██▋       | 562/2057 [1:39:21<4:19:50, 10.43s/it]"
     ]
    },
    {
     "name": "stdout",
     "output_type": "stream",
     "text": [
      "✅ Batch completed in 11.01s (0.220s per text)\n",
      "🚀 Attempting batch of 50 texts...\n"
     ]
    },
    {
     "name": "stderr",
     "output_type": "stream",
     "text": [
      "Processing conversations:  27%|██▋       | 563/2057 [1:39:32<4:22:11, 10.53s/it]"
     ]
    },
    {
     "name": "stdout",
     "output_type": "stream",
     "text": [
      "✅ Batch completed in 10.76s (0.215s per text)\n",
      "🚀 Attempting batch of 50 texts...\n"
     ]
    },
    {
     "name": "stderr",
     "output_type": "stream",
     "text": [
      "Processing conversations:  27%|██▋       | 564/2057 [1:39:43<4:24:29, 10.63s/it]"
     ]
    },
    {
     "name": "stdout",
     "output_type": "stream",
     "text": [
      "✅ Batch completed in 10.85s (0.217s per text)\n",
      "🚀 Attempting batch of 50 texts...\n"
     ]
    },
    {
     "name": "stderr",
     "output_type": "stream",
     "text": [
      "Processing conversations:  27%|██▋       | 565/2057 [1:39:53<4:20:40, 10.48s/it]"
     ]
    },
    {
     "name": "stdout",
     "output_type": "stream",
     "text": [
      "✅ Batch completed in 10.13s (0.203s per text)\n",
      "🚀 Attempting batch of 50 texts...\n"
     ]
    },
    {
     "name": "stderr",
     "output_type": "stream",
     "text": [
      "Processing conversations:  28%|██▊       | 566/2057 [1:40:04<4:20:46, 10.49s/it]"
     ]
    },
    {
     "name": "stdout",
     "output_type": "stream",
     "text": [
      "✅ Batch completed in 10.51s (0.210s per text)\n",
      "🚀 Attempting batch of 50 texts...\n"
     ]
    },
    {
     "name": "stderr",
     "output_type": "stream",
     "text": [
      "Processing conversations:  28%|██▊       | 567/2057 [1:40:14<4:17:51, 10.38s/it]"
     ]
    },
    {
     "name": "stdout",
     "output_type": "stream",
     "text": [
      "✅ Batch completed in 10.12s (0.202s per text)\n",
      "🚀 Attempting batch of 50 texts...\n"
     ]
    },
    {
     "name": "stderr",
     "output_type": "stream",
     "text": [
      "Processing conversations:  28%|██▊       | 568/2057 [1:40:24<4:16:03, 10.32s/it]"
     ]
    },
    {
     "name": "stdout",
     "output_type": "stream",
     "text": [
      "✅ Batch completed in 10.15s (0.203s per text)\n",
      "🚀 Attempting batch of 50 texts...\n"
     ]
    },
    {
     "name": "stderr",
     "output_type": "stream",
     "text": [
      "Processing conversations:  28%|██▊       | 569/2057 [1:40:34<4:14:16, 10.25s/it]"
     ]
    },
    {
     "name": "stdout",
     "output_type": "stream",
     "text": [
      "✅ Batch completed in 10.09s (0.202s per text)\n",
      "🚀 Attempting batch of 50 texts...\n"
     ]
    },
    {
     "name": "stderr",
     "output_type": "stream",
     "text": [
      "Processing conversations:  28%|██▊       | 570/2057 [1:40:44<4:14:06, 10.25s/it]"
     ]
    },
    {
     "name": "stdout",
     "output_type": "stream",
     "text": [
      "✅ Batch completed in 10.25s (0.205s per text)\n",
      "🚀 Attempting batch of 50 texts...\n"
     ]
    },
    {
     "name": "stderr",
     "output_type": "stream",
     "text": [
      "Processing conversations:  28%|██▊       | 571/2057 [1:40:54<4:12:06, 10.18s/it]"
     ]
    },
    {
     "name": "stdout",
     "output_type": "stream",
     "text": [
      "✅ Batch completed in 10.00s (0.200s per text)\n",
      "🚀 Attempting batch of 50 texts...\n"
     ]
    },
    {
     "name": "stderr",
     "output_type": "stream",
     "text": [
      "Processing conversations:  28%|██▊       | 572/2057 [1:41:04<4:09:45, 10.09s/it]"
     ]
    },
    {
     "name": "stdout",
     "output_type": "stream",
     "text": [
      "✅ Batch completed in 9.88s (0.198s per text)\n",
      "🚀 Attempting batch of 50 texts...\n"
     ]
    },
    {
     "name": "stderr",
     "output_type": "stream",
     "text": [
      "Processing conversations:  28%|██▊       | 573/2057 [1:41:15<4:13:44, 10.26s/it]"
     ]
    },
    {
     "name": "stdout",
     "output_type": "stream",
     "text": [
      "✅ Batch completed in 10.64s (0.213s per text)\n",
      "🚀 Attempting batch of 50 texts...\n"
     ]
    },
    {
     "name": "stderr",
     "output_type": "stream",
     "text": [
      "Processing conversations:  28%|██▊       | 574/2057 [1:41:25<4:14:39, 10.30s/it]"
     ]
    },
    {
     "name": "stdout",
     "output_type": "stream",
     "text": [
      "✅ Batch completed in 10.40s (0.208s per text)\n",
      "🚀 Attempting batch of 50 texts...\n"
     ]
    },
    {
     "name": "stderr",
     "output_type": "stream",
     "text": [
      "Processing conversations:  28%|██▊       | 575/2057 [1:41:35<4:11:58, 10.20s/it]"
     ]
    },
    {
     "name": "stdout",
     "output_type": "stream",
     "text": [
      "✅ Batch completed in 9.95s (0.199s per text)\n",
      "🚀 Attempting batch of 50 texts...\n"
     ]
    },
    {
     "name": "stderr",
     "output_type": "stream",
     "text": [
      "Processing conversations:  28%|██▊       | 576/2057 [1:41:45<4:11:37, 10.19s/it]"
     ]
    },
    {
     "name": "stdout",
     "output_type": "stream",
     "text": [
      "✅ Batch completed in 10.17s (0.203s per text)\n",
      "🚀 Attempting batch of 50 texts...\n"
     ]
    },
    {
     "name": "stderr",
     "output_type": "stream",
     "text": [
      "Processing conversations:  28%|██▊       | 577/2057 [1:41:56<4:11:29, 10.20s/it]"
     ]
    },
    {
     "name": "stdout",
     "output_type": "stream",
     "text": [
      "✅ Batch completed in 10.19s (0.204s per text)\n",
      "🚀 Attempting batch of 50 texts...\n"
     ]
    },
    {
     "name": "stderr",
     "output_type": "stream",
     "text": [
      "Processing conversations:  28%|██▊       | 578/2057 [1:42:06<4:11:36, 10.21s/it]"
     ]
    },
    {
     "name": "stdout",
     "output_type": "stream",
     "text": [
      "✅ Batch completed in 10.22s (0.204s per text)\n",
      "🚀 Attempting batch of 50 texts...\n"
     ]
    },
    {
     "name": "stderr",
     "output_type": "stream",
     "text": [
      "Processing conversations:  28%|██▊       | 579/2057 [1:42:16<4:11:35, 10.21s/it]"
     ]
    },
    {
     "name": "stdout",
     "output_type": "stream",
     "text": [
      "✅ Batch completed in 10.22s (0.204s per text)\n",
      "🚀 Attempting batch of 50 texts...\n"
     ]
    },
    {
     "name": "stderr",
     "output_type": "stream",
     "text": [
      "Processing conversations:  28%|██▊       | 580/2057 [1:42:26<4:11:36, 10.22s/it]"
     ]
    },
    {
     "name": "stdout",
     "output_type": "stream",
     "text": [
      "✅ Batch completed in 10.23s (0.205s per text)\n",
      "🚀 Attempting batch of 50 texts...\n"
     ]
    },
    {
     "name": "stderr",
     "output_type": "stream",
     "text": [
      "Processing conversations:  28%|██▊       | 581/2057 [1:42:36<4:11:02, 10.20s/it]"
     ]
    },
    {
     "name": "stdout",
     "output_type": "stream",
     "text": [
      "✅ Batch completed in 10.16s (0.203s per text)\n",
      "🚀 Attempting batch of 50 texts...\n"
     ]
    },
    {
     "name": "stderr",
     "output_type": "stream",
     "text": [
      "Processing conversations:  28%|██▊       | 582/2057 [1:42:47<4:10:40, 10.20s/it]"
     ]
    },
    {
     "name": "stdout",
     "output_type": "stream",
     "text": [
      "✅ Batch completed in 10.17s (0.203s per text)\n",
      "🚀 Attempting batch of 50 texts...\n"
     ]
    },
    {
     "name": "stderr",
     "output_type": "stream",
     "text": [
      "Processing conversations:  28%|██▊       | 583/2057 [1:42:57<4:10:38, 10.20s/it]"
     ]
    },
    {
     "name": "stdout",
     "output_type": "stream",
     "text": [
      "✅ Batch completed in 10.20s (0.204s per text)\n",
      "🚀 Attempting batch of 50 texts...\n"
     ]
    },
    {
     "name": "stderr",
     "output_type": "stream",
     "text": [
      "Processing conversations:  28%|██▊       | 584/2057 [1:43:08<4:14:16, 10.36s/it]"
     ]
    },
    {
     "name": "stdout",
     "output_type": "stream",
     "text": [
      "✅ Batch completed in 10.71s (0.214s per text)\n",
      "🚀 Attempting batch of 50 texts...\n"
     ]
    },
    {
     "name": "stderr",
     "output_type": "stream",
     "text": [
      "Processing conversations:  28%|██▊       | 585/2057 [1:43:18<4:16:07, 10.44s/it]"
     ]
    },
    {
     "name": "stdout",
     "output_type": "stream",
     "text": [
      "✅ Batch completed in 10.63s (0.213s per text)\n",
      "🚀 Attempting batch of 50 texts...\n"
     ]
    },
    {
     "name": "stderr",
     "output_type": "stream",
     "text": [
      "Processing conversations:  29%|██▉       | 596/2057 [1:45:11<4:10:28, 10.29s/it]"
     ]
    },
    {
     "name": "stdout",
     "output_type": "stream",
     "text": [
      "✅ Batch completed in 10.36s (0.207s per text)\n",
      "🚀 Attempting batch of 50 texts...\n"
     ]
    },
    {
     "name": "stderr",
     "output_type": "stream",
     "text": [
      "Processing conversations:  29%|██▉       | 597/2057 [1:45:21<4:10:20, 10.29s/it]"
     ]
    },
    {
     "name": "stdout",
     "output_type": "stream",
     "text": [
      "✅ Batch completed in 10.28s (0.206s per text)\n",
      "🚀 Attempting batch of 50 texts...\n"
     ]
    },
    {
     "name": "stderr",
     "output_type": "stream",
     "text": [
      "Processing conversations:  29%|██▉       | 598/2057 [1:45:32<4:09:51, 10.28s/it]"
     ]
    },
    {
     "name": "stdout",
     "output_type": "stream",
     "text": [
      "✅ Batch completed in 10.24s (0.205s per text)\n",
      "🚀 Attempting batch of 50 texts...\n"
     ]
    },
    {
     "name": "stderr",
     "output_type": "stream",
     "text": [
      "Processing conversations:  29%|██▉       | 599/2057 [1:45:42<4:08:54, 10.24s/it]"
     ]
    },
    {
     "name": "stdout",
     "output_type": "stream",
     "text": [
      "✅ Batch completed in 10.16s (0.203s per text)\n",
      "🚀 Attempting batch of 50 texts...\n"
     ]
    },
    {
     "name": "stderr",
     "output_type": "stream",
     "text": [
      "Processing conversations:  29%|██▉       | 600/2057 [1:45:52<4:07:37, 10.20s/it]"
     ]
    },
    {
     "name": "stdout",
     "output_type": "stream",
     "text": [
      "✅ Batch completed in 10.08s (0.202s per text)\n",
      "🚀 Attempting batch of 50 texts...\n"
     ]
    },
    {
     "name": "stderr",
     "output_type": "stream",
     "text": [
      "Processing conversations:  29%|██▉       | 601/2057 [1:46:02<4:06:31, 10.16s/it]"
     ]
    },
    {
     "name": "stdout",
     "output_type": "stream",
     "text": [
      "✅ Batch completed in 10.07s (0.201s per text)\n",
      "🚀 Attempting batch of 50 texts...\n"
     ]
    },
    {
     "name": "stderr",
     "output_type": "stream",
     "text": [
      "Processing conversations:  29%|██▉       | 602/2057 [1:46:12<4:07:09, 10.19s/it]"
     ]
    },
    {
     "name": "stdout",
     "output_type": "stream",
     "text": [
      "✅ Batch completed in 10.26s (0.205s per text)\n",
      "🚀 Attempting batch of 50 texts...\n"
     ]
    },
    {
     "name": "stderr",
     "output_type": "stream",
     "text": [
      "Processing conversations:  29%|██▉       | 603/2057 [1:46:23<4:10:08, 10.32s/it]"
     ]
    },
    {
     "name": "stdout",
     "output_type": "stream",
     "text": [
      "✅ Batch completed in 10.62s (0.212s per text)\n",
      "🚀 Attempting batch of 50 texts...\n"
     ]
    },
    {
     "name": "stderr",
     "output_type": "stream",
     "text": [
      "Processing conversations:  29%|██▉       | 604/2057 [1:46:34<4:14:02, 10.49s/it]"
     ]
    },
    {
     "name": "stdout",
     "output_type": "stream",
     "text": [
      "✅ Batch completed in 10.88s (0.218s per text)\n",
      "🚀 Attempting batch of 50 texts...\n"
     ]
    },
    {
     "name": "stderr",
     "output_type": "stream",
     "text": [
      "Processing conversations:  29%|██▉       | 605/2057 [1:46:44<4:14:35, 10.52s/it]"
     ]
    },
    {
     "name": "stdout",
     "output_type": "stream",
     "text": [
      "✅ Batch completed in 10.58s (0.212s per text)\n",
      "🚀 Attempting batch of 50 texts...\n"
     ]
    },
    {
     "name": "stderr",
     "output_type": "stream",
     "text": [
      "Processing conversations:  29%|██▉       | 606/2057 [1:46:55<4:15:09, 10.55s/it]"
     ]
    },
    {
     "name": "stdout",
     "output_type": "stream",
     "text": [
      "✅ Batch completed in 10.62s (0.212s per text)\n",
      "🚀 Attempting batch of 50 texts...\n"
     ]
    },
    {
     "name": "stderr",
     "output_type": "stream",
     "text": [
      "Processing conversations:  30%|██▉       | 607/2057 [1:47:06<4:15:51, 10.59s/it]"
     ]
    },
    {
     "name": "stdout",
     "output_type": "stream",
     "text": [
      "✅ Batch completed in 10.67s (0.213s per text)\n",
      "🚀 Attempting batch of 50 texts...\n"
     ]
    },
    {
     "name": "stderr",
     "output_type": "stream",
     "text": [
      "Processing conversations:  30%|██▉       | 608/2057 [1:47:16<4:13:41, 10.50s/it]"
     ]
    },
    {
     "name": "stdout",
     "output_type": "stream",
     "text": [
      "✅ Batch completed in 10.31s (0.206s per text)\n",
      "🚀 Attempting batch of 50 texts...\n"
     ]
    },
    {
     "name": "stderr",
     "output_type": "stream",
     "text": [
      "Processing conversations:  30%|██▉       | 609/2057 [1:47:27<4:16:34, 10.63s/it]"
     ]
    },
    {
     "name": "stdout",
     "output_type": "stream",
     "text": [
      "✅ Batch completed in 10.92s (0.218s per text)\n",
      "🚀 Attempting batch of 50 texts...\n"
     ]
    },
    {
     "name": "stderr",
     "output_type": "stream",
     "text": [
      "Processing conversations:  30%|██▉       | 610/2057 [1:47:37<4:15:45, 10.61s/it]"
     ]
    },
    {
     "name": "stdout",
     "output_type": "stream",
     "text": [
      "✅ Batch completed in 10.54s (0.211s per text)\n",
      "🚀 Attempting batch of 50 texts...\n"
     ]
    },
    {
     "name": "stderr",
     "output_type": "stream",
     "text": [
      "Processing conversations:  30%|██▉       | 611/2057 [1:47:48<4:17:36, 10.69s/it]"
     ]
    },
    {
     "name": "stdout",
     "output_type": "stream",
     "text": [
      "✅ Batch completed in 10.88s (0.218s per text)\n",
      "🚀 Attempting batch of 50 texts...\n"
     ]
    },
    {
     "name": "stderr",
     "output_type": "stream",
     "text": [
      "Processing conversations:  30%|██▉       | 612/2057 [1:47:59<4:18:41, 10.74s/it]"
     ]
    },
    {
     "name": "stdout",
     "output_type": "stream",
     "text": [
      "✅ Batch completed in 10.86s (0.217s per text)\n",
      "🚀 Attempting batch of 50 texts...\n"
     ]
    },
    {
     "name": "stderr",
     "output_type": "stream",
     "text": [
      "Processing conversations:  30%|██▉       | 613/2057 [1:48:10<4:19:31, 10.78s/it]"
     ]
    },
    {
     "name": "stdout",
     "output_type": "stream",
     "text": [
      "✅ Batch completed in 10.88s (0.218s per text)\n",
      "🚀 Attempting batch of 50 texts...\n"
     ]
    },
    {
     "name": "stderr",
     "output_type": "stream",
     "text": [
      "Processing conversations:  30%|██▉       | 614/2057 [1:48:20<4:14:05, 10.56s/it]"
     ]
    },
    {
     "name": "stdout",
     "output_type": "stream",
     "text": [
      "✅ Batch completed in 10.05s (0.201s per text)\n",
      "🚀 Attempting batch of 50 texts...\n"
     ]
    },
    {
     "name": "stderr",
     "output_type": "stream",
     "text": [
      "Processing conversations:  30%|██▉       | 615/2057 [1:48:30<4:11:23, 10.46s/it]"
     ]
    },
    {
     "name": "stdout",
     "output_type": "stream",
     "text": [
      "✅ Batch completed in 10.21s (0.204s per text)\n",
      "🚀 Attempting batch of 50 texts...\n"
     ]
    },
    {
     "name": "stderr",
     "output_type": "stream",
     "text": [
      "Processing conversations:  30%|██▉       | 616/2057 [1:48:41<4:10:49, 10.44s/it]"
     ]
    },
    {
     "name": "stdout",
     "output_type": "stream",
     "text": [
      "✅ Batch completed in 10.40s (0.208s per text)\n",
      "🚀 Attempting batch of 50 texts...\n"
     ]
    },
    {
     "name": "stderr",
     "output_type": "stream",
     "text": [
      "Processing conversations:  30%|██▉       | 617/2057 [1:48:51<4:08:00, 10.33s/it]"
     ]
    },
    {
     "name": "stdout",
     "output_type": "stream",
     "text": [
      "✅ Batch completed in 10.06s (0.201s per text)\n",
      "🚀 Attempting batch of 50 texts...\n"
     ]
    },
    {
     "name": "stderr",
     "output_type": "stream",
     "text": [
      "Processing conversations:  30%|███       | 618/2057 [1:49:01<4:07:04, 10.30s/it]"
     ]
    },
    {
     "name": "stdout",
     "output_type": "stream",
     "text": [
      "✅ Batch completed in 10.22s (0.204s per text)\n",
      "🚀 Attempting batch of 50 texts...\n"
     ]
    },
    {
     "name": "stderr",
     "output_type": "stream",
     "text": [
      "Processing conversations:  30%|███       | 619/2057 [1:49:11<4:07:25, 10.32s/it]"
     ]
    },
    {
     "name": "stdout",
     "output_type": "stream",
     "text": [
      "✅ Batch completed in 10.37s (0.207s per text)\n",
      "🚀 Attempting batch of 50 texts...\n"
     ]
    },
    {
     "name": "stderr",
     "output_type": "stream",
     "text": [
      "Processing conversations:  30%|███       | 620/2057 [1:49:22<4:06:59, 10.31s/it]"
     ]
    },
    {
     "name": "stdout",
     "output_type": "stream",
     "text": [
      "✅ Batch completed in 10.27s (0.205s per text)\n",
      "🚀 Attempting batch of 50 texts...\n"
     ]
    },
    {
     "name": "stderr",
     "output_type": "stream",
     "text": [
      "Processing conversations:  30%|███       | 621/2057 [1:49:32<4:05:44, 10.27s/it]"
     ]
    },
    {
     "name": "stdout",
     "output_type": "stream",
     "text": [
      "✅ Batch completed in 10.16s (0.203s per text)\n",
      "🚀 Attempting batch of 50 texts...\n"
     ]
    },
    {
     "name": "stderr",
     "output_type": "stream",
     "text": [
      "Processing conversations:  30%|███       | 622/2057 [1:49:42<4:05:13, 10.25s/it]"
     ]
    },
    {
     "name": "stdout",
     "output_type": "stream",
     "text": [
      "✅ Batch completed in 10.21s (0.204s per text)\n",
      "🚀 Attempting batch of 50 texts...\n"
     ]
    },
    {
     "name": "stderr",
     "output_type": "stream",
     "text": [
      "Processing conversations:  30%|███       | 623/2057 [1:49:52<4:06:11, 10.30s/it]"
     ]
    },
    {
     "name": "stdout",
     "output_type": "stream",
     "text": [
      "✅ Batch completed in 10.40s (0.208s per text)\n",
      "🚀 Attempting batch of 50 texts...\n"
     ]
    },
    {
     "name": "stderr",
     "output_type": "stream",
     "text": [
      "Processing conversations:  30%|███       | 624/2057 [1:50:03<4:05:56, 10.30s/it]"
     ]
    },
    {
     "name": "stdout",
     "output_type": "stream",
     "text": [
      "✅ Batch completed in 10.28s (0.206s per text)\n",
      "🚀 Attempting batch of 50 texts...\n"
     ]
    },
    {
     "name": "stderr",
     "output_type": "stream",
     "text": [
      "Processing conversations:  30%|███       | 625/2057 [1:50:13<4:06:09, 10.31s/it]"
     ]
    },
    {
     "name": "stdout",
     "output_type": "stream",
     "text": [
      "✅ Batch completed in 10.34s (0.207s per text)\n",
      "🚀 Attempting batch of 50 texts...\n"
     ]
    },
    {
     "name": "stderr",
     "output_type": "stream",
     "text": [
      "Processing conversations:  30%|███       | 626/2057 [1:50:23<4:04:19, 10.24s/it]"
     ]
    },
    {
     "name": "stdout",
     "output_type": "stream",
     "text": [
      "✅ Batch completed in 10.07s (0.201s per text)\n",
      "🚀 Attempting batch of 50 texts...\n"
     ]
    },
    {
     "name": "stderr",
     "output_type": "stream",
     "text": [
      "Processing conversations:  30%|███       | 627/2057 [1:50:34<4:06:00, 10.32s/it]"
     ]
    },
    {
     "name": "stdout",
     "output_type": "stream",
     "text": [
      "✅ Batch completed in 10.50s (0.210s per text)\n",
      "🚀 Attempting batch of 50 texts...\n"
     ]
    },
    {
     "name": "stderr",
     "output_type": "stream",
     "text": [
      "Processing conversations:  31%|███       | 628/2057 [1:50:44<4:03:43, 10.23s/it]"
     ]
    },
    {
     "name": "stdout",
     "output_type": "stream",
     "text": [
      "✅ Batch completed in 10.02s (0.200s per text)\n",
      "🚀 Attempting batch of 50 texts...\n"
     ]
    },
    {
     "name": "stderr",
     "output_type": "stream",
     "text": [
      "Processing conversations:  31%|███       | 629/2057 [1:50:54<4:01:29, 10.15s/it]"
     ]
    },
    {
     "name": "stdout",
     "output_type": "stream",
     "text": [
      "✅ Batch completed in 9.94s (0.199s per text)\n",
      "🚀 Attempting batch of 50 texts...\n"
     ]
    },
    {
     "name": "stderr",
     "output_type": "stream",
     "text": [
      "Processing conversations:  31%|███       | 630/2057 [1:51:04<4:01:27, 10.15s/it]"
     ]
    },
    {
     "name": "stdout",
     "output_type": "stream",
     "text": [
      "✅ Batch completed in 10.16s (0.203s per text)\n",
      "🚀 Attempting batch of 50 texts...\n"
     ]
    },
    {
     "name": "stderr",
     "output_type": "stream",
     "text": [
      "Processing conversations:  31%|███       | 631/2057 [1:51:14<4:03:24, 10.24s/it]"
     ]
    },
    {
     "name": "stdout",
     "output_type": "stream",
     "text": [
      "✅ Batch completed in 10.44s (0.209s per text)\n",
      "🚀 Attempting batch of 50 texts...\n"
     ]
    },
    {
     "name": "stderr",
     "output_type": "stream",
     "text": [
      "Processing conversations:  31%|███       | 632/2057 [1:51:24<4:01:08, 10.15s/it]"
     ]
    },
    {
     "name": "stdout",
     "output_type": "stream",
     "text": [
      "✅ Batch completed in 9.92s (0.198s per text)\n",
      "🚀 Attempting batch of 50 texts...\n"
     ]
    },
    {
     "name": "stderr",
     "output_type": "stream",
     "text": [
      "Processing conversations:  31%|███       | 633/2057 [1:51:34<3:59:03, 10.07s/it]"
     ]
    },
    {
     "name": "stdout",
     "output_type": "stream",
     "text": [
      "✅ Batch completed in 9.88s (0.198s per text)\n",
      "🚀 Attempting batch of 50 texts...\n"
     ]
    },
    {
     "name": "stderr",
     "output_type": "stream",
     "text": [
      "Processing conversations:  31%|███       | 634/2057 [1:51:44<3:59:54, 10.12s/it]"
     ]
    },
    {
     "name": "stdout",
     "output_type": "stream",
     "text": [
      "✅ Batch completed in 10.21s (0.204s per text)\n",
      "🚀 Attempting batch of 50 texts...\n"
     ]
    },
    {
     "name": "stderr",
     "output_type": "stream",
     "text": [
      "Processing conversations:  31%|███       | 635/2057 [1:51:54<3:59:15, 10.10s/it]"
     ]
    },
    {
     "name": "stdout",
     "output_type": "stream",
     "text": [
      "✅ Batch completed in 10.04s (0.201s per text)\n",
      "🚀 Attempting batch of 50 texts...\n"
     ]
    },
    {
     "name": "stderr",
     "output_type": "stream",
     "text": [
      "Processing conversations:  31%|███       | 636/2057 [1:52:05<3:59:34, 10.12s/it]"
     ]
    },
    {
     "name": "stdout",
     "output_type": "stream",
     "text": [
      "✅ Batch completed in 10.16s (0.203s per text)\n",
      "🚀 Attempting batch of 50 texts...\n"
     ]
    },
    {
     "name": "stderr",
     "output_type": "stream",
     "text": [
      "Processing conversations:  31%|███       | 637/2057 [1:52:15<4:03:00, 10.27s/it]"
     ]
    },
    {
     "name": "stdout",
     "output_type": "stream",
     "text": [
      "✅ Batch completed in 10.61s (0.212s per text)\n",
      "🚀 Attempting batch of 50 texts...\n"
     ]
    },
    {
     "name": "stderr",
     "output_type": "stream",
     "text": [
      "Processing conversations:  31%|███       | 638/2057 [1:52:25<4:02:26, 10.25s/it]"
     ]
    },
    {
     "name": "stdout",
     "output_type": "stream",
     "text": [
      "✅ Batch completed in 10.20s (0.204s per text)\n",
      "🚀 Attempting batch of 50 texts...\n"
     ]
    },
    {
     "name": "stderr",
     "output_type": "stream",
     "text": [
      "Processing conversations:  31%|███       | 639/2057 [1:52:35<3:58:58, 10.11s/it]"
     ]
    },
    {
     "name": "stdout",
     "output_type": "stream",
     "text": [
      "✅ Batch completed in 9.78s (0.196s per text)\n",
      "🚀 Attempting batch of 50 texts...\n"
     ]
    },
    {
     "name": "stderr",
     "output_type": "stream",
     "text": [
      "Processing conversations:  31%|███       | 640/2057 [1:52:45<3:59:45, 10.15s/it]"
     ]
    },
    {
     "name": "stdout",
     "output_type": "stream",
     "text": [
      "✅ Batch completed in 10.24s (0.205s per text)\n",
      "🚀 Attempting batch of 50 texts...\n"
     ]
    },
    {
     "name": "stderr",
     "output_type": "stream",
     "text": [
      "Processing conversations:  31%|███       | 641/2057 [1:52:57<4:08:10, 10.52s/it]"
     ]
    },
    {
     "name": "stdout",
     "output_type": "stream",
     "text": [
      "✅ Batch completed in 11.36s (0.227s per text)\n",
      "🚀 Attempting batch of 50 texts...\n"
     ]
    },
    {
     "name": "stderr",
     "output_type": "stream",
     "text": [
      "Processing conversations:  31%|███       | 642/2057 [1:53:07<4:07:16, 10.49s/it]"
     ]
    },
    {
     "name": "stdout",
     "output_type": "stream",
     "text": [
      "✅ Batch completed in 10.41s (0.208s per text)\n",
      "🚀 Attempting batch of 50 texts...\n"
     ]
    },
    {
     "name": "stderr",
     "output_type": "stream",
     "text": [
      "Processing conversations:  31%|███▏      | 643/2057 [1:53:18<4:06:22, 10.45s/it]"
     ]
    },
    {
     "name": "stdout",
     "output_type": "stream",
     "text": [
      "✅ Batch completed in 10.38s (0.208s per text)\n",
      "🚀 Attempting batch of 50 texts...\n"
     ]
    },
    {
     "name": "stderr",
     "output_type": "stream",
     "text": [
      "Processing conversations:  31%|███▏      | 644/2057 [1:53:28<4:04:16, 10.37s/it]"
     ]
    },
    {
     "name": "stdout",
     "output_type": "stream",
     "text": [
      "✅ Batch completed in 10.18s (0.204s per text)\n",
      "🚀 Attempting batch of 50 texts...\n"
     ]
    },
    {
     "name": "stderr",
     "output_type": "stream",
     "text": [
      "Processing conversations:  31%|███▏      | 645/2057 [1:53:38<4:03:26, 10.34s/it]"
     ]
    },
    {
     "name": "stdout",
     "output_type": "stream",
     "text": [
      "✅ Batch completed in 10.27s (0.205s per text)\n",
      "🚀 Attempting batch of 50 texts...\n"
     ]
    },
    {
     "name": "stderr",
     "output_type": "stream",
     "text": [
      "Processing conversations:  31%|███▏      | 646/2057 [1:53:48<4:01:36, 10.27s/it]"
     ]
    },
    {
     "name": "stdout",
     "output_type": "stream",
     "text": [
      "✅ Batch completed in 10.10s (0.202s per text)\n",
      "🚀 Attempting batch of 50 texts...\n"
     ]
    },
    {
     "name": "stderr",
     "output_type": "stream",
     "text": [
      "Processing conversations:  31%|███▏      | 647/2057 [1:53:58<3:59:25, 10.19s/it]"
     ]
    },
    {
     "name": "stdout",
     "output_type": "stream",
     "text": [
      "✅ Batch completed in 9.98s (0.200s per text)\n",
      "🚀 Attempting batch of 50 texts...\n"
     ]
    },
    {
     "name": "stderr",
     "output_type": "stream",
     "text": [
      "Processing conversations:  32%|███▏      | 648/2057 [1:54:08<3:59:05, 10.18s/it]"
     ]
    },
    {
     "name": "stdout",
     "output_type": "stream",
     "text": [
      "✅ Batch completed in 10.16s (0.203s per text)\n",
      "🚀 Attempting batch of 50 texts...\n"
     ]
    },
    {
     "name": "stderr",
     "output_type": "stream",
     "text": [
      "Processing conversations:  32%|███▏      | 649/2057 [1:54:19<3:59:32, 10.21s/it]"
     ]
    },
    {
     "name": "stdout",
     "output_type": "stream",
     "text": [
      "✅ Batch completed in 10.26s (0.205s per text)\n",
      "🚀 Attempting batch of 50 texts...\n"
     ]
    },
    {
     "name": "stderr",
     "output_type": "stream",
     "text": [
      "Processing conversations:  32%|███▏      | 650/2057 [1:54:29<3:57:29, 10.13s/it]"
     ]
    },
    {
     "name": "stdout",
     "output_type": "stream",
     "text": [
      "✅ Batch completed in 9.93s (0.199s per text)\n",
      "🚀 Attempting batch of 50 texts...\n"
     ]
    },
    {
     "name": "stderr",
     "output_type": "stream",
     "text": [
      "Processing conversations:  32%|███▏      | 651/2057 [1:54:38<3:55:33, 10.05s/it]"
     ]
    },
    {
     "name": "stdout",
     "output_type": "stream",
     "text": [
      "✅ Batch completed in 9.87s (0.197s per text)\n",
      "🚀 Attempting batch of 50 texts...\n"
     ]
    },
    {
     "name": "stderr",
     "output_type": "stream",
     "text": [
      "Processing conversations:  32%|███▏      | 652/2057 [1:54:49<3:57:40, 10.15s/it]"
     ]
    },
    {
     "name": "stdout",
     "output_type": "stream",
     "text": [
      "✅ Batch completed in 10.36s (0.207s per text)\n",
      "🚀 Attempting batch of 50 texts...\n"
     ]
    },
    {
     "name": "stderr",
     "output_type": "stream",
     "text": [
      "Processing conversations:  32%|███▏      | 653/2057 [1:54:59<3:56:54, 10.12s/it]"
     ]
    },
    {
     "name": "stdout",
     "output_type": "stream",
     "text": [
      "✅ Batch completed in 10.06s (0.201s per text)\n",
      "🚀 Attempting batch of 50 texts...\n"
     ]
    },
    {
     "name": "stderr",
     "output_type": "stream",
     "text": [
      "Processing conversations:  32%|███▏      | 654/2057 [1:55:09<3:56:20, 10.11s/it]"
     ]
    },
    {
     "name": "stdout",
     "output_type": "stream",
     "text": [
      "✅ Batch completed in 10.07s (0.201s per text)\n",
      "🚀 Attempting batch of 50 texts...\n"
     ]
    },
    {
     "name": "stderr",
     "output_type": "stream",
     "text": [
      "Processing conversations:  32%|███▏      | 655/2057 [1:55:19<3:57:11, 10.15s/it]"
     ]
    },
    {
     "name": "stdout",
     "output_type": "stream",
     "text": [
      "✅ Batch completed in 10.24s (0.205s per text)\n",
      "🚀 Attempting batch of 50 texts...\n"
     ]
    },
    {
     "name": "stderr",
     "output_type": "stream",
     "text": [
      "Processing conversations:  32%|███▏      | 656/2057 [1:55:29<3:58:04, 10.20s/it]"
     ]
    },
    {
     "name": "stdout",
     "output_type": "stream",
     "text": [
      "✅ Batch completed in 10.30s (0.206s per text)\n",
      "🚀 Attempting batch of 50 texts...\n"
     ]
    },
    {
     "name": "stderr",
     "output_type": "stream",
     "text": [
      "Processing conversations:  32%|███▏      | 657/2057 [1:55:40<3:59:19, 10.26s/it]"
     ]
    },
    {
     "name": "stdout",
     "output_type": "stream",
     "text": [
      "✅ Batch completed in 10.39s (0.208s per text)\n",
      "🚀 Attempting batch of 50 texts...\n"
     ]
    },
    {
     "name": "stderr",
     "output_type": "stream",
     "text": [
      "Processing conversations:  32%|███▏      | 658/2057 [1:55:50<3:59:46, 10.28s/it]"
     ]
    },
    {
     "name": "stdout",
     "output_type": "stream",
     "text": [
      "✅ Batch completed in 10.33s (0.207s per text)\n",
      "🚀 Attempting batch of 50 texts...\n"
     ]
    },
    {
     "name": "stderr",
     "output_type": "stream",
     "text": [
      "Processing conversations:  32%|███▏      | 659/2057 [1:56:01<4:00:12, 10.31s/it]"
     ]
    },
    {
     "name": "stdout",
     "output_type": "stream",
     "text": [
      "✅ Batch completed in 10.36s (0.207s per text)\n",
      "🚀 Attempting batch of 50 texts...\n"
     ]
    },
    {
     "name": "stderr",
     "output_type": "stream",
     "text": [
      "Processing conversations:  32%|███▏      | 660/2057 [1:56:11<4:00:02, 10.31s/it]"
     ]
    },
    {
     "name": "stdout",
     "output_type": "stream",
     "text": [
      "✅ Batch completed in 10.30s (0.206s per text)\n",
      "🚀 Attempting batch of 50 texts...\n"
     ]
    },
    {
     "name": "stderr",
     "output_type": "stream",
     "text": [
      "Processing conversations:  32%|███▏      | 661/2057 [1:56:21<3:57:56, 10.23s/it]"
     ]
    },
    {
     "name": "stdout",
     "output_type": "stream",
     "text": [
      "✅ Batch completed in 10.03s (0.201s per text)\n",
      "🚀 Attempting batch of 50 texts...\n"
     ]
    },
    {
     "name": "stderr",
     "output_type": "stream",
     "text": [
      "Processing conversations:  32%|███▏      | 662/2057 [1:56:31<3:55:29, 10.13s/it]"
     ]
    },
    {
     "name": "stdout",
     "output_type": "stream",
     "text": [
      "✅ Batch completed in 9.89s (0.198s per text)\n",
      "🚀 Attempting batch of 50 texts...\n"
     ]
    },
    {
     "name": "stderr",
     "output_type": "stream",
     "text": [
      "Processing conversations:  32%|███▏      | 663/2057 [1:56:41<3:56:50, 10.19s/it]"
     ]
    },
    {
     "name": "stdout",
     "output_type": "stream",
     "text": [
      "✅ Batch completed in 10.34s (0.207s per text)\n",
      "🚀 Attempting batch of 50 texts...\n"
     ]
    },
    {
     "name": "stderr",
     "output_type": "stream",
     "text": [
      "Processing conversations:  32%|███▏      | 664/2057 [1:56:51<3:55:06, 10.13s/it]"
     ]
    },
    {
     "name": "stdout",
     "output_type": "stream",
     "text": [
      "✅ Batch completed in 9.97s (0.199s per text)\n",
      "🚀 Attempting batch of 50 texts...\n"
     ]
    },
    {
     "name": "stderr",
     "output_type": "stream",
     "text": [
      "Processing conversations:  32%|███▏      | 665/2057 [1:57:01<3:54:16, 10.10s/it]"
     ]
    },
    {
     "name": "stdout",
     "output_type": "stream",
     "text": [
      "✅ Batch completed in 10.02s (0.200s per text)\n",
      "🚀 Attempting batch of 50 texts...\n"
     ]
    },
    {
     "name": "stderr",
     "output_type": "stream",
     "text": [
      "Processing conversations:  32%|███▏      | 666/2057 [1:57:12<3:57:57, 10.26s/it]"
     ]
    },
    {
     "name": "stdout",
     "output_type": "stream",
     "text": [
      "✅ Batch completed in 10.65s (0.213s per text)\n",
      "🚀 Attempting batch of 50 texts...\n"
     ]
    },
    {
     "name": "stderr",
     "output_type": "stream",
     "text": [
      "Processing conversations:  32%|███▏      | 667/2057 [1:57:23<4:01:16, 10.41s/it]"
     ]
    },
    {
     "name": "stdout",
     "output_type": "stream",
     "text": [
      "✅ Batch completed in 10.75s (0.215s per text)\n",
      "🚀 Attempting batch of 50 texts...\n"
     ]
    },
    {
     "name": "stderr",
     "output_type": "stream",
     "text": [
      "Processing conversations:  32%|███▏      | 668/2057 [1:57:33<3:58:30, 10.30s/it]"
     ]
    },
    {
     "name": "stdout",
     "output_type": "stream",
     "text": [
      "✅ Batch completed in 10.03s (0.201s per text)\n",
      "🚀 Attempting batch of 50 texts...\n"
     ]
    },
    {
     "name": "stderr",
     "output_type": "stream",
     "text": [
      "Processing conversations:  33%|███▎      | 669/2057 [1:57:43<3:55:34, 10.18s/it]"
     ]
    },
    {
     "name": "stdout",
     "output_type": "stream",
     "text": [
      "✅ Batch completed in 9.90s (0.198s per text)\n",
      "🚀 Attempting batch of 50 texts...\n"
     ]
    },
    {
     "name": "stderr",
     "output_type": "stream",
     "text": [
      "Processing conversations:  33%|███▎      | 670/2057 [1:57:53<3:55:24, 10.18s/it]"
     ]
    },
    {
     "name": "stdout",
     "output_type": "stream",
     "text": [
      "✅ Batch completed in 10.18s (0.204s per text)\n",
      "🚀 Attempting batch of 50 texts...\n"
     ]
    },
    {
     "name": "stderr",
     "output_type": "stream",
     "text": [
      "Processing conversations:  33%|███▎      | 671/2057 [1:58:03<3:54:59, 10.17s/it]"
     ]
    },
    {
     "name": "stdout",
     "output_type": "stream",
     "text": [
      "✅ Batch completed in 10.14s (0.203s per text)\n",
      "🚀 Attempting batch of 50 texts...\n"
     ]
    },
    {
     "name": "stderr",
     "output_type": "stream",
     "text": [
      "Processing conversations:  33%|███▎      | 672/2057 [1:58:13<3:54:59, 10.18s/it]"
     ]
    },
    {
     "name": "stdout",
     "output_type": "stream",
     "text": [
      "✅ Batch completed in 10.19s (0.204s per text)\n",
      "🚀 Attempting batch of 50 texts...\n"
     ]
    },
    {
     "name": "stderr",
     "output_type": "stream",
     "text": [
      "Processing conversations:  33%|███▎      | 673/2057 [1:58:23<3:52:52, 10.10s/it]"
     ]
    },
    {
     "name": "stdout",
     "output_type": "stream",
     "text": [
      "✅ Batch completed in 9.89s (0.198s per text)\n",
      "🚀 Attempting batch of 50 texts...\n"
     ]
    },
    {
     "name": "stderr",
     "output_type": "stream",
     "text": [
      "Processing conversations:  33%|███▎      | 674/2057 [1:58:33<3:55:06, 10.20s/it]"
     ]
    },
    {
     "name": "stdout",
     "output_type": "stream",
     "text": [
      "✅ Batch completed in 10.43s (0.209s per text)\n",
      "🚀 Attempting batch of 50 texts...\n"
     ]
    },
    {
     "name": "stderr",
     "output_type": "stream",
     "text": [
      "Processing conversations:  33%|███▎      | 675/2057 [1:58:43<3:52:49, 10.11s/it]"
     ]
    },
    {
     "name": "stdout",
     "output_type": "stream",
     "text": [
      "✅ Batch completed in 9.89s (0.198s per text)\n",
      "🚀 Attempting batch of 50 texts...\n"
     ]
    },
    {
     "name": "stderr",
     "output_type": "stream",
     "text": [
      "Processing conversations:  33%|███▎      | 676/2057 [1:58:53<3:51:50, 10.07s/it]"
     ]
    },
    {
     "name": "stdout",
     "output_type": "stream",
     "text": [
      "✅ Batch completed in 9.98s (0.200s per text)\n",
      "🚀 Attempting batch of 50 texts...\n"
     ]
    },
    {
     "name": "stderr",
     "output_type": "stream",
     "text": [
      "Processing conversations:  33%|███▎      | 677/2057 [1:59:03<3:52:00, 10.09s/it]"
     ]
    },
    {
     "name": "stdout",
     "output_type": "stream",
     "text": [
      "✅ Batch completed in 10.12s (0.202s per text)\n",
      "🚀 Attempting batch of 50 texts...\n"
     ]
    },
    {
     "name": "stderr",
     "output_type": "stream",
     "text": [
      "Processing conversations:  33%|███▎      | 678/2057 [1:59:14<3:53:30, 10.16s/it]"
     ]
    },
    {
     "name": "stdout",
     "output_type": "stream",
     "text": [
      "✅ Batch completed in 10.32s (0.206s per text)\n",
      "🚀 Attempting batch of 50 texts...\n"
     ]
    },
    {
     "name": "stderr",
     "output_type": "stream",
     "text": [
      "Processing conversations:  33%|███▎      | 679/2057 [1:59:24<3:52:00, 10.10s/it]"
     ]
    },
    {
     "name": "stdout",
     "output_type": "stream",
     "text": [
      "✅ Batch completed in 9.94s (0.199s per text)\n",
      "🚀 Attempting batch of 50 texts...\n"
     ]
    },
    {
     "name": "stderr",
     "output_type": "stream",
     "text": [
      "Processing conversations:  33%|███▎      | 680/2057 [1:59:34<3:50:18, 10.04s/it]"
     ]
    },
    {
     "name": "stdout",
     "output_type": "stream",
     "text": [
      "✅ Batch completed in 9.87s (0.197s per text)\n",
      "🚀 Attempting batch of 50 texts...\n"
     ]
    },
    {
     "name": "stderr",
     "output_type": "stream",
     "text": [
      "Processing conversations:  33%|███▎      | 681/2057 [1:59:44<3:51:58, 10.11s/it]"
     ]
    },
    {
     "name": "stdout",
     "output_type": "stream",
     "text": [
      "✅ Batch completed in 10.29s (0.206s per text)\n",
      "🚀 Attempting batch of 50 texts...\n"
     ]
    },
    {
     "name": "stderr",
     "output_type": "stream",
     "text": [
      "Processing conversations:  33%|███▎      | 682/2057 [1:59:54<3:51:03, 10.08s/it]"
     ]
    },
    {
     "name": "stdout",
     "output_type": "stream",
     "text": [
      "✅ Batch completed in 9.99s (0.200s per text)\n",
      "🚀 Attempting batch of 50 texts...\n"
     ]
    },
    {
     "name": "stderr",
     "output_type": "stream",
     "text": [
      "Processing conversations:  33%|███▎      | 683/2057 [2:00:04<3:52:07, 10.14s/it]"
     ]
    },
    {
     "name": "stdout",
     "output_type": "stream",
     "text": [
      "✅ Batch completed in 10.26s (0.205s per text)\n",
      "🚀 Attempting batch of 50 texts...\n"
     ]
    },
    {
     "name": "stderr",
     "output_type": "stream",
     "text": [
      "Processing conversations:  33%|███▎      | 684/2057 [2:00:14<3:52:55, 10.18s/it]"
     ]
    },
    {
     "name": "stdout",
     "output_type": "stream",
     "text": [
      "✅ Batch completed in 10.27s (0.205s per text)\n",
      "🚀 Attempting batch of 50 texts...\n"
     ]
    },
    {
     "name": "stderr",
     "output_type": "stream",
     "text": [
      "Processing conversations:  33%|███▎      | 685/2057 [2:00:25<3:56:05, 10.32s/it]"
     ]
    },
    {
     "name": "stdout",
     "output_type": "stream",
     "text": [
      "✅ Batch completed in 10.65s (0.213s per text)\n",
      "🚀 Attempting batch of 50 texts...\n"
     ]
    },
    {
     "name": "stderr",
     "output_type": "stream",
     "text": [
      "Processing conversations:  33%|███▎      | 686/2057 [2:00:35<3:56:21, 10.34s/it]"
     ]
    },
    {
     "name": "stdout",
     "output_type": "stream",
     "text": [
      "✅ Batch completed in 10.38s (0.208s per text)\n",
      "🚀 Attempting batch of 50 texts...\n"
     ]
    },
    {
     "name": "stderr",
     "output_type": "stream",
     "text": [
      "Processing conversations:  33%|███▎      | 687/2057 [2:00:45<3:53:00, 10.20s/it]"
     ]
    },
    {
     "name": "stdout",
     "output_type": "stream",
     "text": [
      "✅ Batch completed in 9.87s (0.197s per text)\n",
      "🚀 Attempting batch of 50 texts...\n"
     ]
    },
    {
     "name": "stderr",
     "output_type": "stream",
     "text": [
      "Processing conversations:  33%|███▎      | 688/2057 [2:00:55<3:52:15, 10.18s/it]"
     ]
    },
    {
     "name": "stdout",
     "output_type": "stream",
     "text": [
      "✅ Batch completed in 10.11s (0.202s per text)\n",
      "🚀 Attempting batch of 50 texts...\n"
     ]
    },
    {
     "name": "stderr",
     "output_type": "stream",
     "text": [
      "Processing conversations:  33%|███▎      | 689/2057 [2:01:06<3:52:08, 10.18s/it]"
     ]
    },
    {
     "name": "stdout",
     "output_type": "stream",
     "text": [
      "✅ Batch completed in 10.18s (0.204s per text)\n",
      "🚀 Attempting batch of 50 texts...\n"
     ]
    },
    {
     "name": "stderr",
     "output_type": "stream",
     "text": [
      "Processing conversations:  34%|███▎      | 690/2057 [2:01:16<3:51:40, 10.17s/it]"
     ]
    },
    {
     "name": "stdout",
     "output_type": "stream",
     "text": [
      "✅ Batch completed in 10.13s (0.203s per text)\n",
      "🚀 Attempting batch of 50 texts...\n"
     ]
    },
    {
     "name": "stderr",
     "output_type": "stream",
     "text": [
      "Processing conversations:  34%|███▎      | 691/2057 [2:01:26<3:50:36, 10.13s/it]"
     ]
    },
    {
     "name": "stdout",
     "output_type": "stream",
     "text": [
      "✅ Batch completed in 10.03s (0.201s per text)\n",
      "🚀 Attempting batch of 50 texts...\n"
     ]
    },
    {
     "name": "stderr",
     "output_type": "stream",
     "text": [
      "Processing conversations:  34%|███▎      | 692/2057 [2:01:36<3:51:38, 10.18s/it]"
     ]
    },
    {
     "name": "stdout",
     "output_type": "stream",
     "text": [
      "✅ Batch completed in 10.30s (0.206s per text)\n",
      "🚀 Attempting batch of 50 texts...\n"
     ]
    },
    {
     "name": "stderr",
     "output_type": "stream",
     "text": [
      "Processing conversations:  34%|███▎      | 693/2057 [2:01:46<3:49:25, 10.09s/it]"
     ]
    },
    {
     "name": "stdout",
     "output_type": "stream",
     "text": [
      "✅ Batch completed in 9.88s (0.198s per text)\n",
      "🚀 Attempting batch of 50 texts...\n"
     ]
    },
    {
     "name": "stderr",
     "output_type": "stream",
     "text": [
      "Processing conversations:  34%|███▎      | 694/2057 [2:01:56<3:48:25, 10.06s/it]"
     ]
    },
    {
     "name": "stdout",
     "output_type": "stream",
     "text": [
      "✅ Batch completed in 9.96s (0.199s per text)\n",
      "🚀 Attempting batch of 50 texts...\n"
     ]
    },
    {
     "name": "stderr",
     "output_type": "stream",
     "text": [
      "Processing conversations:  34%|███▍      | 695/2057 [2:02:06<3:48:53, 10.08s/it]"
     ]
    },
    {
     "name": "stdout",
     "output_type": "stream",
     "text": [
      "✅ Batch completed in 10.14s (0.203s per text)\n",
      "🚀 Attempting batch of 50 texts...\n"
     ]
    },
    {
     "name": "stderr",
     "output_type": "stream",
     "text": [
      "Processing conversations:  34%|███▍      | 696/2057 [2:02:17<3:50:45, 10.17s/it]"
     ]
    },
    {
     "name": "stdout",
     "output_type": "stream",
     "text": [
      "✅ Batch completed in 10.37s (0.207s per text)\n",
      "🚀 Attempting batch of 50 texts...\n"
     ]
    },
    {
     "name": "stderr",
     "output_type": "stream",
     "text": [
      "Processing conversations:  34%|███▍      | 697/2057 [2:02:26<3:49:16, 10.12s/it]"
     ]
    },
    {
     "name": "stdout",
     "output_type": "stream",
     "text": [
      "✅ Batch completed in 9.97s (0.199s per text)\n",
      "🚀 Attempting batch of 50 texts...\n"
     ]
    },
    {
     "name": "stderr",
     "output_type": "stream",
     "text": [
      "Processing conversations:  34%|███▍      | 698/2057 [2:02:36<3:47:47, 10.06s/it]"
     ]
    },
    {
     "name": "stdout",
     "output_type": "stream",
     "text": [
      "✅ Batch completed in 9.92s (0.198s per text)\n",
      "🚀 Attempting batch of 50 texts...\n"
     ]
    },
    {
     "name": "stderr",
     "output_type": "stream",
     "text": [
      "Processing conversations:  34%|███▍      | 699/2057 [2:02:47<3:49:06, 10.12s/it]"
     ]
    },
    {
     "name": "stdout",
     "output_type": "stream",
     "text": [
      "✅ Batch completed in 10.27s (0.205s per text)\n",
      "🚀 Attempting batch of 50 texts...\n"
     ]
    },
    {
     "name": "stderr",
     "output_type": "stream",
     "text": [
      "Processing conversations:  34%|███▍      | 700/2057 [2:02:57<3:49:07, 10.13s/it]"
     ]
    },
    {
     "name": "stdout",
     "output_type": "stream",
     "text": [
      "✅ Batch completed in 10.14s (0.203s per text)\n",
      "🚀 Attempting batch of 50 texts...\n"
     ]
    },
    {
     "name": "stderr",
     "output_type": "stream",
     "text": [
      "Processing conversations:  34%|███▍      | 701/2057 [2:03:07<3:50:22, 10.19s/it]"
     ]
    },
    {
     "name": "stdout",
     "output_type": "stream",
     "text": [
      "✅ Batch completed in 10.33s (0.207s per text)\n",
      "🚀 Attempting batch of 50 texts...\n"
     ]
    },
    {
     "name": "stderr",
     "output_type": "stream",
     "text": [
      "Processing conversations:  34%|███▍      | 702/2057 [2:03:17<3:50:56, 10.23s/it]"
     ]
    },
    {
     "name": "stdout",
     "output_type": "stream",
     "text": [
      "✅ Batch completed in 10.29s (0.206s per text)\n",
      "🚀 Attempting batch of 50 texts...\n"
     ]
    },
    {
     "name": "stderr",
     "output_type": "stream",
     "text": [
      "Processing conversations:  34%|███▍      | 703/2057 [2:03:28<3:54:17, 10.38s/it]"
     ]
    },
    {
     "name": "stdout",
     "output_type": "stream",
     "text": [
      "✅ Batch completed in 10.74s (0.215s per text)\n",
      "🚀 Attempting batch of 50 texts...\n"
     ]
    },
    {
     "name": "stderr",
     "output_type": "stream",
     "text": [
      "Processing conversations:  34%|███▍      | 704/2057 [2:03:40<4:01:25, 10.71s/it]"
     ]
    },
    {
     "name": "stdout",
     "output_type": "stream",
     "text": [
      "✅ Batch completed in 11.46s (0.229s per text)\n",
      "🚀 Attempting batch of 50 texts...\n"
     ]
    },
    {
     "name": "stderr",
     "output_type": "stream",
     "text": [
      "Processing conversations:  34%|███▍      | 705/2057 [2:03:50<4:01:42, 10.73s/it]"
     ]
    },
    {
     "name": "stdout",
     "output_type": "stream",
     "text": [
      "✅ Batch completed in 10.77s (0.215s per text)\n",
      "🚀 Attempting batch of 50 texts...\n"
     ]
    },
    {
     "name": "stderr",
     "output_type": "stream",
     "text": [
      "Processing conversations:  34%|███▍      | 706/2057 [2:04:01<4:02:14, 10.76s/it]"
     ]
    },
    {
     "name": "stdout",
     "output_type": "stream",
     "text": [
      "✅ Batch completed in 10.83s (0.217s per text)\n",
      "🚀 Attempting batch of 50 texts...\n"
     ]
    },
    {
     "name": "stderr",
     "output_type": "stream",
     "text": [
      "Processing conversations:  34%|███▍      | 707/2057 [2:04:13<4:06:31, 10.96s/it]"
     ]
    },
    {
     "name": "stdout",
     "output_type": "stream",
     "text": [
      "✅ Batch completed in 11.42s (0.228s per text)\n",
      "🚀 Attempting batch of 50 texts...\n"
     ]
    },
    {
     "name": "stderr",
     "output_type": "stream",
     "text": [
      "Processing conversations:  34%|███▍      | 708/2057 [2:04:23<4:05:01, 10.90s/it]"
     ]
    },
    {
     "name": "stdout",
     "output_type": "stream",
     "text": [
      "✅ Batch completed in 10.76s (0.215s per text)\n",
      "🚀 Attempting batch of 50 texts...\n"
     ]
    },
    {
     "name": "stderr",
     "output_type": "stream",
     "text": [
      "Processing conversations:  34%|███▍      | 709/2057 [2:04:34<4:01:19, 10.74s/it]"
     ]
    },
    {
     "name": "stdout",
     "output_type": "stream",
     "text": [
      "✅ Batch completed in 10.36s (0.207s per text)\n",
      "🚀 Attempting batch of 50 texts...\n"
     ]
    },
    {
     "name": "stderr",
     "output_type": "stream",
     "text": [
      "Processing conversations:  35%|███▍      | 710/2057 [2:04:44<3:57:58, 10.60s/it]"
     ]
    },
    {
     "name": "stdout",
     "output_type": "stream",
     "text": [
      "✅ Batch completed in 10.26s (0.205s per text)\n",
      "🚀 Attempting batch of 50 texts...\n"
     ]
    },
    {
     "name": "stderr",
     "output_type": "stream",
     "text": [
      "Processing conversations:  35%|███▍      | 711/2057 [2:04:55<4:02:11, 10.80s/it]"
     ]
    },
    {
     "name": "stdout",
     "output_type": "stream",
     "text": [
      "✅ Batch completed in 11.24s (0.225s per text)\n",
      "🚀 Attempting batch of 50 texts...\n"
     ]
    },
    {
     "name": "stderr",
     "output_type": "stream",
     "text": [
      "Processing conversations:  35%|███▍      | 712/2057 [2:05:07<4:06:33, 11.00s/it]"
     ]
    },
    {
     "name": "stdout",
     "output_type": "stream",
     "text": [
      "✅ Batch completed in 11.46s (0.229s per text)\n",
      "🚀 Attempting batch of 50 texts...\n"
     ]
    },
    {
     "name": "stderr",
     "output_type": "stream",
     "text": [
      "Processing conversations:  35%|███▍      | 713/2057 [2:05:18<4:07:04, 11.03s/it]"
     ]
    },
    {
     "name": "stdout",
     "output_type": "stream",
     "text": [
      "✅ Batch completed in 11.09s (0.222s per text)\n",
      "🚀 Attempting batch of 50 texts...\n"
     ]
    },
    {
     "name": "stderr",
     "output_type": "stream",
     "text": [
      "Processing conversations:  35%|███▍      | 714/2057 [2:05:30<4:12:46, 11.29s/it]"
     ]
    },
    {
     "name": "stdout",
     "output_type": "stream",
     "text": [
      "✅ Batch completed in 11.90s (0.238s per text)\n",
      "🚀 Attempting batch of 50 texts...\n"
     ]
    },
    {
     "name": "stderr",
     "output_type": "stream",
     "text": [
      "Processing conversations:  35%|███▍      | 715/2057 [2:05:42<4:15:28, 11.42s/it]"
     ]
    },
    {
     "name": "stdout",
     "output_type": "stream",
     "text": [
      "✅ Batch completed in 11.71s (0.234s per text)\n",
      "🚀 Attempting batch of 50 texts...\n"
     ]
    },
    {
     "name": "stderr",
     "output_type": "stream",
     "text": [
      "Processing conversations:  35%|███▍      | 716/2057 [2:05:53<4:13:17, 11.33s/it]"
     ]
    },
    {
     "name": "stdout",
     "output_type": "stream",
     "text": [
      "✅ Batch completed in 11.12s (0.222s per text)\n",
      "🚀 Attempting batch of 50 texts...\n"
     ]
    },
    {
     "name": "stderr",
     "output_type": "stream",
     "text": [
      "Processing conversations:  35%|███▍      | 717/2057 [2:06:04<4:10:45, 11.23s/it]"
     ]
    },
    {
     "name": "stdout",
     "output_type": "stream",
     "text": [
      "✅ Batch completed in 10.98s (0.220s per text)\n",
      "🚀 Attempting batch of 50 texts...\n"
     ]
    },
    {
     "name": "stderr",
     "output_type": "stream",
     "text": [
      "Processing conversations:  35%|███▍      | 718/2057 [2:06:14<4:04:03, 10.94s/it]"
     ]
    },
    {
     "name": "stdout",
     "output_type": "stream",
     "text": [
      "✅ Batch completed in 10.24s (0.205s per text)\n",
      "🚀 Attempting batch of 50 texts...\n"
     ]
    },
    {
     "name": "stderr",
     "output_type": "stream",
     "text": [
      "Processing conversations:  35%|███▍      | 719/2057 [2:06:24<3:58:56, 10.71s/it]"
     ]
    },
    {
     "name": "stdout",
     "output_type": "stream",
     "text": [
      "✅ Batch completed in 10.19s (0.204s per text)\n",
      "🚀 Attempting batch of 50 texts...\n"
     ]
    },
    {
     "name": "stderr",
     "output_type": "stream",
     "text": [
      "Processing conversations:  35%|███▌      | 720/2057 [2:06:35<3:57:08, 10.64s/it]"
     ]
    },
    {
     "name": "stdout",
     "output_type": "stream",
     "text": [
      "✅ Batch completed in 10.47s (0.209s per text)\n",
      "🚀 Attempting batch of 50 texts...\n"
     ]
    },
    {
     "name": "stderr",
     "output_type": "stream",
     "text": [
      "Processing conversations:  35%|███▌      | 721/2057 [2:06:45<3:52:31, 10.44s/it]"
     ]
    },
    {
     "name": "stdout",
     "output_type": "stream",
     "text": [
      "✅ Batch completed in 9.97s (0.199s per text)\n",
      "🚀 Attempting batch of 50 texts...\n"
     ]
    },
    {
     "name": "stderr",
     "output_type": "stream",
     "text": [
      "Processing conversations:  35%|███▌      | 722/2057 [2:06:55<3:49:42, 10.32s/it]"
     ]
    },
    {
     "name": "stdout",
     "output_type": "stream",
     "text": [
      "✅ Batch completed in 10.04s (0.201s per text)\n",
      "🚀 Attempting batch of 50 texts...\n"
     ]
    },
    {
     "name": "stderr",
     "output_type": "stream",
     "text": [
      "Processing conversations:  35%|███▌      | 723/2057 [2:07:05<3:49:17, 10.31s/it]"
     ]
    },
    {
     "name": "stdout",
     "output_type": "stream",
     "text": [
      "✅ Batch completed in 10.28s (0.206s per text)\n",
      "🚀 Attempting batch of 50 texts...\n"
     ]
    },
    {
     "name": "stderr",
     "output_type": "stream",
     "text": [
      "Processing conversations:  35%|███▌      | 724/2057 [2:07:15<3:49:02, 10.31s/it]"
     ]
    },
    {
     "name": "stdout",
     "output_type": "stream",
     "text": [
      "✅ Batch completed in 10.29s (0.206s per text)\n",
      "🚀 Attempting batch of 50 texts...\n"
     ]
    },
    {
     "name": "stderr",
     "output_type": "stream",
     "text": [
      "Processing conversations:  35%|███▌      | 725/2057 [2:07:25<3:46:45, 10.21s/it]"
     ]
    },
    {
     "name": "stdout",
     "output_type": "stream",
     "text": [
      "✅ Batch completed in 9.98s (0.200s per text)\n",
      "🚀 Attempting batch of 50 texts...\n"
     ]
    },
    {
     "name": "stderr",
     "output_type": "stream",
     "text": [
      "Processing conversations:  35%|███▌      | 726/2057 [2:07:35<3:46:18, 10.20s/it]"
     ]
    },
    {
     "name": "stdout",
     "output_type": "stream",
     "text": [
      "✅ Batch completed in 10.16s (0.203s per text)\n",
      "🚀 Attempting batch of 50 texts...\n"
     ]
    },
    {
     "name": "stderr",
     "output_type": "stream",
     "text": [
      "Processing conversations:  35%|███▌      | 727/2057 [2:07:46<3:45:43, 10.18s/it]"
     ]
    },
    {
     "name": "stdout",
     "output_type": "stream",
     "text": [
      "✅ Batch completed in 10.13s (0.203s per text)\n",
      "🚀 Attempting batch of 50 texts...\n"
     ]
    },
    {
     "name": "stderr",
     "output_type": "stream",
     "text": [
      "Processing conversations:  35%|███▌      | 728/2057 [2:07:56<3:49:27, 10.36s/it]"
     ]
    },
    {
     "name": "stdout",
     "output_type": "stream",
     "text": [
      "✅ Batch completed in 10.76s (0.215s per text)\n",
      "🚀 Attempting batch of 50 texts...\n"
     ]
    },
    {
     "name": "stderr",
     "output_type": "stream",
     "text": [
      "Processing conversations:  35%|███▌      | 729/2057 [2:08:07<3:51:26, 10.46s/it]"
     ]
    },
    {
     "name": "stdout",
     "output_type": "stream",
     "text": [
      "✅ Batch completed in 10.68s (0.214s per text)\n",
      "🚀 Attempting batch of 50 texts...\n"
     ]
    },
    {
     "name": "stderr",
     "output_type": "stream",
     "text": [
      "Processing conversations:  35%|███▌      | 730/2057 [2:08:18<3:54:01, 10.58s/it]"
     ]
    },
    {
     "name": "stdout",
     "output_type": "stream",
     "text": [
      "✅ Batch completed in 10.86s (0.217s per text)\n",
      "🚀 Attempting batch of 50 texts...\n"
     ]
    },
    {
     "name": "stderr",
     "output_type": "stream",
     "text": [
      "Processing conversations:  36%|███▌      | 731/2057 [2:08:29<3:58:04, 10.77s/it]"
     ]
    },
    {
     "name": "stdout",
     "output_type": "stream",
     "text": [
      "✅ Batch completed in 11.21s (0.224s per text)\n",
      "🚀 Attempting batch of 50 texts...\n"
     ]
    },
    {
     "name": "stderr",
     "output_type": "stream",
     "text": [
      "Processing conversations:  36%|███▌      | 732/2057 [2:08:40<3:59:35, 10.85s/it]"
     ]
    },
    {
     "name": "stdout",
     "output_type": "stream",
     "text": [
      "✅ Batch completed in 11.02s (0.220s per text)\n",
      "🚀 Attempting batch of 50 texts...\n"
     ]
    },
    {
     "name": "stderr",
     "output_type": "stream",
     "text": [
      "Processing conversations:  36%|███▌      | 733/2057 [2:08:51<3:57:33, 10.77s/it]"
     ]
    },
    {
     "name": "stdout",
     "output_type": "stream",
     "text": [
      "✅ Batch completed in 10.56s (0.211s per text)\n",
      "🚀 Attempting batch of 50 texts...\n"
     ]
    },
    {
     "name": "stderr",
     "output_type": "stream",
     "text": [
      "Processing conversations:  36%|███▌      | 734/2057 [2:09:02<3:58:52, 10.83s/it]"
     ]
    },
    {
     "name": "stdout",
     "output_type": "stream",
     "text": [
      "✅ Batch completed in 10.98s (0.220s per text)\n",
      "🚀 Attempting batch of 50 texts...\n"
     ]
    },
    {
     "name": "stderr",
     "output_type": "stream",
     "text": [
      "Processing conversations:  36%|███▌      | 735/2057 [2:09:13<4:01:05, 10.94s/it]"
     ]
    },
    {
     "name": "stdout",
     "output_type": "stream",
     "text": [
      "✅ Batch completed in 11.18s (0.224s per text)\n",
      "🚀 Attempting batch of 50 texts...\n"
     ]
    },
    {
     "name": "stderr",
     "output_type": "stream",
     "text": [
      "Processing conversations:  36%|███▌      | 736/2057 [2:09:24<4:02:11, 11.00s/it]"
     ]
    },
    {
     "name": "stdout",
     "output_type": "stream",
     "text": [
      "✅ Batch completed in 11.13s (0.223s per text)\n",
      "🚀 Attempting batch of 50 texts...\n"
     ]
    },
    {
     "name": "stderr",
     "output_type": "stream",
     "text": [
      "Processing conversations:  36%|███▌      | 737/2057 [2:09:35<4:03:40, 11.08s/it]"
     ]
    },
    {
     "name": "stdout",
     "output_type": "stream",
     "text": [
      "✅ Batch completed in 11.25s (0.225s per text)\n",
      "🚀 Attempting batch of 50 texts...\n"
     ]
    },
    {
     "name": "stderr",
     "output_type": "stream",
     "text": [
      "Processing conversations:  36%|███▌      | 738/2057 [2:09:47<4:05:15, 11.16s/it]"
     ]
    },
    {
     "name": "stdout",
     "output_type": "stream",
     "text": [
      "✅ Batch completed in 11.34s (0.227s per text)\n",
      "🚀 Attempting batch of 50 texts...\n"
     ]
    },
    {
     "name": "stderr",
     "output_type": "stream",
     "text": [
      "Processing conversations:  36%|███▌      | 739/2057 [2:09:58<4:05:57, 11.20s/it]"
     ]
    },
    {
     "name": "stdout",
     "output_type": "stream",
     "text": [
      "✅ Batch completed in 11.28s (0.226s per text)\n",
      "🚀 Attempting batch of 50 texts...\n"
     ]
    },
    {
     "name": "stderr",
     "output_type": "stream",
     "text": [
      "Processing conversations:  36%|███▌      | 740/2057 [2:10:10<4:10:32, 11.41s/it]"
     ]
    },
    {
     "name": "stdout",
     "output_type": "stream",
     "text": [
      "✅ Batch completed in 11.92s (0.238s per text)\n",
      "🚀 Attempting batch of 50 texts...\n"
     ]
    },
    {
     "name": "stderr",
     "output_type": "stream",
     "text": [
      "Processing conversations:  36%|███▌      | 741/2057 [2:10:21<4:08:18, 11.32s/it]"
     ]
    },
    {
     "name": "stdout",
     "output_type": "stream",
     "text": [
      "✅ Batch completed in 11.10s (0.222s per text)\n",
      "🚀 Attempting batch of 50 texts...\n"
     ]
    },
    {
     "name": "stderr",
     "output_type": "stream",
     "text": [
      "Processing conversations:  36%|███▌      | 742/2057 [2:10:32<4:05:49, 11.22s/it]"
     ]
    },
    {
     "name": "stdout",
     "output_type": "stream",
     "text": [
      "✅ Batch completed in 10.96s (0.219s per text)\n",
      "🚀 Attempting batch of 50 texts...\n"
     ]
    },
    {
     "name": "stderr",
     "output_type": "stream",
     "text": [
      "Processing conversations:  36%|███▌      | 743/2057 [2:10:43<4:05:10, 11.20s/it]"
     ]
    },
    {
     "name": "stdout",
     "output_type": "stream",
     "text": [
      "✅ Batch completed in 11.14s (0.223s per text)\n",
      "🚀 Attempting batch of 50 texts...\n"
     ]
    },
    {
     "name": "stderr",
     "output_type": "stream",
     "text": [
      "Processing conversations:  36%|███▌      | 744/2057 [2:10:54<4:05:42, 11.23s/it]"
     ]
    },
    {
     "name": "stdout",
     "output_type": "stream",
     "text": [
      "✅ Batch completed in 11.30s (0.226s per text)\n",
      "🚀 Attempting batch of 50 texts...\n"
     ]
    },
    {
     "name": "stderr",
     "output_type": "stream",
     "text": [
      "Processing conversations:  36%|███▌      | 745/2057 [2:11:05<4:04:54, 11.20s/it]"
     ]
    },
    {
     "name": "stdout",
     "output_type": "stream",
     "text": [
      "✅ Batch completed in 11.13s (0.223s per text)\n",
      "🚀 Attempting batch of 50 texts...\n"
     ]
    },
    {
     "name": "stderr",
     "output_type": "stream",
     "text": [
      "Processing conversations:  36%|███▋      | 746/2057 [2:11:18<4:11:00, 11.49s/it]"
     ]
    },
    {
     "name": "stdout",
     "output_type": "stream",
     "text": [
      "✅ Batch completed in 12.15s (0.243s per text)\n",
      "🚀 Attempting batch of 50 texts...\n"
     ]
    },
    {
     "name": "stderr",
     "output_type": "stream",
     "text": [
      "Processing conversations:  36%|███▋      | 747/2057 [2:11:29<4:11:53, 11.54s/it]"
     ]
    },
    {
     "name": "stdout",
     "output_type": "stream",
     "text": [
      "✅ Batch completed in 11.65s (0.233s per text)\n",
      "🚀 Attempting batch of 50 texts...\n"
     ]
    },
    {
     "name": "stderr",
     "output_type": "stream",
     "text": [
      "Processing conversations:  36%|███▋      | 748/2057 [2:11:41<4:11:53, 11.55s/it]"
     ]
    },
    {
     "name": "stdout",
     "output_type": "stream",
     "text": [
      "✅ Batch completed in 11.56s (0.231s per text)\n",
      "🚀 Attempting batch of 50 texts...\n"
     ]
    },
    {
     "name": "stderr",
     "output_type": "stream",
     "text": [
      "Processing conversations:  36%|███▋      | 749/2057 [2:11:53<4:12:53, 11.60s/it]"
     ]
    },
    {
     "name": "stdout",
     "output_type": "stream",
     "text": [
      "✅ Batch completed in 11.72s (0.234s per text)\n",
      "🚀 Attempting batch of 50 texts...\n"
     ]
    },
    {
     "name": "stderr",
     "output_type": "stream",
     "text": [
      "Processing conversations:  36%|███▋      | 750/2057 [2:12:04<4:13:05, 11.62s/it]"
     ]
    },
    {
     "name": "stdout",
     "output_type": "stream",
     "text": [
      "✅ Batch completed in 11.65s (0.233s per text)\n",
      "🚀 Attempting batch of 50 texts...\n"
     ]
    },
    {
     "name": "stderr",
     "output_type": "stream",
     "text": [
      "Processing conversations:  37%|███▋      | 751/2057 [2:12:15<4:10:09, 11.49s/it]"
     ]
    },
    {
     "name": "stdout",
     "output_type": "stream",
     "text": [
      "✅ Batch completed in 11.20s (0.224s per text)\n",
      "🚀 Attempting batch of 50 texts...\n"
     ]
    },
    {
     "name": "stderr",
     "output_type": "stream",
     "text": [
      "Processing conversations:  37%|███▋      | 752/2057 [2:12:27<4:09:31, 11.47s/it]"
     ]
    },
    {
     "name": "stdout",
     "output_type": "stream",
     "text": [
      "✅ Batch completed in 11.42s (0.228s per text)\n",
      "🚀 Attempting batch of 50 texts...\n"
     ]
    },
    {
     "name": "stderr",
     "output_type": "stream",
     "text": [
      "Processing conversations:  37%|███▋      | 753/2057 [2:12:38<4:05:55, 11.32s/it]"
     ]
    },
    {
     "name": "stdout",
     "output_type": "stream",
     "text": [
      "✅ Batch completed in 10.94s (0.219s per text)\n",
      "🚀 Attempting batch of 50 texts...\n"
     ]
    },
    {
     "name": "stderr",
     "output_type": "stream",
     "text": [
      "Processing conversations:  37%|███▋      | 754/2057 [2:12:49<4:05:50, 11.32s/it]"
     ]
    },
    {
     "name": "stdout",
     "output_type": "stream",
     "text": [
      "✅ Batch completed in 11.33s (0.227s per text)\n",
      "🚀 Attempting batch of 50 texts...\n"
     ]
    },
    {
     "name": "stderr",
     "output_type": "stream",
     "text": [
      "Processing conversations:  37%|███▋      | 755/2057 [2:13:01<4:07:13, 11.39s/it]"
     ]
    },
    {
     "name": "stdout",
     "output_type": "stream",
     "text": [
      "✅ Batch completed in 11.56s (0.231s per text)\n",
      "🚀 Attempting batch of 50 texts...\n"
     ]
    },
    {
     "name": "stderr",
     "output_type": "stream",
     "text": [
      "Processing conversations:  37%|███▋      | 756/2057 [2:13:12<4:07:36, 11.42s/it]"
     ]
    },
    {
     "name": "stdout",
     "output_type": "stream",
     "text": [
      "✅ Batch completed in 11.47s (0.229s per text)\n",
      "🚀 Attempting batch of 50 texts...\n"
     ]
    },
    {
     "name": "stderr",
     "output_type": "stream",
     "text": [
      "Processing conversations:  37%|███▋      | 757/2057 [2:13:24<4:10:28, 11.56s/it]"
     ]
    },
    {
     "name": "stdout",
     "output_type": "stream",
     "text": [
      "✅ Batch completed in 11.88s (0.238s per text)\n",
      "🚀 Attempting batch of 50 texts...\n"
     ]
    },
    {
     "name": "stderr",
     "output_type": "stream",
     "text": [
      "Processing conversations:  37%|███▋      | 758/2057 [2:13:36<4:11:45, 11.63s/it]"
     ]
    },
    {
     "name": "stdout",
     "output_type": "stream",
     "text": [
      "✅ Batch completed in 11.78s (0.236s per text)\n",
      "🚀 Attempting batch of 50 texts...\n"
     ]
    },
    {
     "name": "stderr",
     "output_type": "stream",
     "text": [
      "Processing conversations:  37%|███▋      | 759/2057 [2:13:47<4:09:34, 11.54s/it]"
     ]
    },
    {
     "name": "stdout",
     "output_type": "stream",
     "text": [
      "✅ Batch completed in 11.32s (0.226s per text)\n",
      "🚀 Attempting batch of 50 texts...\n"
     ]
    },
    {
     "name": "stderr",
     "output_type": "stream",
     "text": [
      "Processing conversations:  37%|███▋      | 760/2057 [2:13:58<4:06:23, 11.40s/it]"
     ]
    },
    {
     "name": "stdout",
     "output_type": "stream",
     "text": [
      "✅ Batch completed in 11.07s (0.221s per text)\n",
      "🚀 Attempting batch of 50 texts...\n"
     ]
    },
    {
     "name": "stderr",
     "output_type": "stream",
     "text": [
      "Processing conversations:  37%|███▋      | 761/2057 [2:14:09<4:04:38, 11.33s/it]"
     ]
    },
    {
     "name": "stdout",
     "output_type": "stream",
     "text": [
      "✅ Batch completed in 11.15s (0.223s per text)\n",
      "🚀 Attempting batch of 50 texts...\n"
     ]
    },
    {
     "name": "stderr",
     "output_type": "stream",
     "text": [
      "Processing conversations:  37%|███▋      | 762/2057 [2:14:20<3:58:09, 11.03s/it]"
     ]
    },
    {
     "name": "stdout",
     "output_type": "stream",
     "text": [
      "✅ Batch completed in 10.35s (0.207s per text)\n",
      "🚀 Attempting batch of 50 texts...\n"
     ]
    },
    {
     "name": "stderr",
     "output_type": "stream",
     "text": [
      "Processing conversations:  37%|███▋      | 763/2057 [2:14:31<3:58:12, 11.05s/it]"
     ]
    },
    {
     "name": "stdout",
     "output_type": "stream",
     "text": [
      "✅ Batch completed in 11.07s (0.221s per text)\n",
      "🚀 Attempting batch of 50 texts...\n"
     ]
    },
    {
     "name": "stderr",
     "output_type": "stream",
     "text": [
      "Processing conversations:  37%|███▋      | 764/2057 [2:14:42<4:00:15, 11.15s/it]"
     ]
    },
    {
     "name": "stdout",
     "output_type": "stream",
     "text": [
      "✅ Batch completed in 11.39s (0.228s per text)\n",
      "🚀 Attempting batch of 50 texts...\n"
     ]
    },
    {
     "name": "stderr",
     "output_type": "stream",
     "text": [
      "Processing conversations:  37%|███▋      | 765/2057 [2:14:53<3:56:56, 11.00s/it]"
     ]
    },
    {
     "name": "stdout",
     "output_type": "stream",
     "text": [
      "✅ Batch completed in 10.66s (0.213s per text)\n",
      "🚀 Attempting batch of 50 texts...\n"
     ]
    },
    {
     "name": "stderr",
     "output_type": "stream",
     "text": [
      "Processing conversations:  37%|███▋      | 766/2057 [2:15:04<4:00:31, 11.18s/it]"
     ]
    },
    {
     "name": "stdout",
     "output_type": "stream",
     "text": [
      "✅ Batch completed in 11.58s (0.232s per text)\n",
      "🚀 Attempting batch of 50 texts...\n"
     ]
    },
    {
     "name": "stderr",
     "output_type": "stream",
     "text": [
      "Processing conversations:  37%|███▋      | 767/2057 [2:15:16<4:00:19, 11.18s/it]"
     ]
    },
    {
     "name": "stdout",
     "output_type": "stream",
     "text": [
      "✅ Batch completed in 11.17s (0.223s per text)\n",
      "🚀 Attempting batch of 50 texts...\n"
     ]
    },
    {
     "name": "stderr",
     "output_type": "stream",
     "text": [
      "Processing conversations:  37%|███▋      | 768/2057 [2:15:26<3:56:56, 11.03s/it]"
     ]
    },
    {
     "name": "stdout",
     "output_type": "stream",
     "text": [
      "✅ Batch completed in 10.68s (0.214s per text)\n",
      "🚀 Attempting batch of 50 texts...\n"
     ]
    },
    {
     "name": "stderr",
     "output_type": "stream",
     "text": [
      "Processing conversations:  37%|███▋      | 769/2057 [2:15:38<3:59:59, 11.18s/it]"
     ]
    },
    {
     "name": "stdout",
     "output_type": "stream",
     "text": [
      "✅ Batch completed in 11.52s (0.230s per text)\n",
      "🚀 Attempting batch of 50 texts...\n"
     ]
    },
    {
     "name": "stderr",
     "output_type": "stream",
     "text": [
      "Processing conversations:  37%|███▋      | 770/2057 [2:15:50<4:06:19, 11.48s/it]"
     ]
    },
    {
     "name": "stdout",
     "output_type": "stream",
     "text": [
      "✅ Batch completed in 12.19s (0.244s per text)\n",
      "🚀 Attempting batch of 50 texts...\n"
     ]
    },
    {
     "name": "stderr",
     "output_type": "stream",
     "text": [
      "Processing conversations:  37%|███▋      | 771/2057 [2:16:02<4:11:08, 11.72s/it]"
     ]
    },
    {
     "name": "stdout",
     "output_type": "stream",
     "text": [
      "✅ Batch completed in 12.26s (0.245s per text)\n",
      "🚀 Attempting batch of 50 texts...\n"
     ]
    },
    {
     "name": "stderr",
     "output_type": "stream",
     "text": [
      "Processing conversations:  38%|███▊      | 772/2057 [2:16:14<4:08:39, 11.61s/it]"
     ]
    },
    {
     "name": "stdout",
     "output_type": "stream",
     "text": [
      "✅ Batch completed in 11.35s (0.227s per text)\n",
      "🚀 Attempting batch of 50 texts...\n"
     ]
    },
    {
     "name": "stderr",
     "output_type": "stream",
     "text": [
      "Processing conversations:  38%|███▊      | 773/2057 [2:16:25<4:06:39, 11.53s/it]"
     ]
    },
    {
     "name": "stdout",
     "output_type": "stream",
     "text": [
      "✅ Batch completed in 11.33s (0.227s per text)\n",
      "🚀 Attempting batch of 50 texts...\n"
     ]
    },
    {
     "name": "stderr",
     "output_type": "stream",
     "text": [
      "Processing conversations:  38%|███▊      | 774/2057 [2:16:37<4:08:00, 11.60s/it]"
     ]
    },
    {
     "name": "stdout",
     "output_type": "stream",
     "text": [
      "✅ Batch completed in 11.76s (0.235s per text)\n",
      "🚀 Attempting batch of 50 texts...\n"
     ]
    },
    {
     "name": "stderr",
     "output_type": "stream",
     "text": [
      "Processing conversations:  38%|███▊      | 775/2057 [2:16:48<4:06:12, 11.52s/it]"
     ]
    },
    {
     "name": "stdout",
     "output_type": "stream",
     "text": [
      "✅ Batch completed in 11.34s (0.227s per text)\n",
      "🚀 Attempting batch of 50 texts...\n"
     ]
    },
    {
     "name": "stderr",
     "output_type": "stream",
     "text": [
      "Processing conversations:  38%|███▊      | 776/2057 [2:17:00<4:06:42, 11.56s/it]"
     ]
    },
    {
     "name": "stdout",
     "output_type": "stream",
     "text": [
      "✅ Batch completed in 11.63s (0.233s per text)\n",
      "🚀 Attempting batch of 50 texts...\n"
     ]
    },
    {
     "name": "stderr",
     "output_type": "stream",
     "text": [
      "Processing conversations:  38%|███▊      | 777/2057 [2:17:11<4:02:52, 11.38s/it]"
     ]
    },
    {
     "name": "stdout",
     "output_type": "stream",
     "text": [
      "✅ Batch completed in 10.98s (0.220s per text)\n",
      "🚀 Attempting batch of 50 texts...\n"
     ]
    },
    {
     "name": "stderr",
     "output_type": "stream",
     "text": [
      "Processing conversations:  38%|███▊      | 778/2057 [2:17:22<4:03:47, 11.44s/it]"
     ]
    },
    {
     "name": "stdout",
     "output_type": "stream",
     "text": [
      "✅ Batch completed in 11.55s (0.231s per text)\n",
      "🚀 Attempting batch of 50 texts...\n"
     ]
    },
    {
     "name": "stderr",
     "output_type": "stream",
     "text": [
      "Processing conversations:  38%|███▊      | 779/2057 [2:17:34<4:02:49, 11.40s/it]"
     ]
    },
    {
     "name": "stdout",
     "output_type": "stream",
     "text": [
      "✅ Batch completed in 11.31s (0.226s per text)\n",
      "🚀 Attempting batch of 50 texts...\n"
     ]
    },
    {
     "name": "stderr",
     "output_type": "stream",
     "text": [
      "Processing conversations:  38%|███▊      | 780/2057 [2:17:45<4:03:31, 11.44s/it]"
     ]
    },
    {
     "name": "stdout",
     "output_type": "stream",
     "text": [
      "✅ Batch completed in 11.54s (0.231s per text)\n",
      "🚀 Attempting batch of 50 texts...\n"
     ]
    },
    {
     "name": "stderr",
     "output_type": "stream",
     "text": [
      "Processing conversations:  38%|███▊      | 781/2057 [2:17:57<4:07:24, 11.63s/it]"
     ]
    },
    {
     "name": "stdout",
     "output_type": "stream",
     "text": [
      "✅ Batch completed in 12.07s (0.241s per text)\n",
      "🚀 Attempting batch of 50 texts...\n"
     ]
    },
    {
     "name": "stderr",
     "output_type": "stream",
     "text": [
      "Processing conversations:  38%|███▊      | 782/2057 [2:18:08<4:03:28, 11.46s/it]"
     ]
    },
    {
     "name": "stdout",
     "output_type": "stream",
     "text": [
      "✅ Batch completed in 11.04s (0.221s per text)\n",
      "🚀 Attempting batch of 50 texts...\n"
     ]
    },
    {
     "name": "stderr",
     "output_type": "stream",
     "text": [
      "Processing conversations:  38%|███▊      | 783/2057 [2:18:20<4:02:12, 11.41s/it]"
     ]
    },
    {
     "name": "stdout",
     "output_type": "stream",
     "text": [
      "✅ Batch completed in 11.28s (0.226s per text)\n",
      "🚀 Attempting batch of 50 texts...\n"
     ]
    },
    {
     "name": "stderr",
     "output_type": "stream",
     "text": [
      "Processing conversations:  38%|███▊      | 784/2057 [2:18:31<4:00:39, 11.34s/it]"
     ]
    },
    {
     "name": "stdout",
     "output_type": "stream",
     "text": [
      "✅ Batch completed in 11.19s (0.224s per text)\n",
      "🚀 Attempting batch of 50 texts...\n"
     ]
    },
    {
     "name": "stderr",
     "output_type": "stream",
     "text": [
      "Processing conversations:  38%|███▊      | 785/2057 [2:18:43<4:03:34, 11.49s/it]"
     ]
    },
    {
     "name": "stdout",
     "output_type": "stream",
     "text": [
      "✅ Batch completed in 11.82s (0.236s per text)\n",
      "🚀 Attempting batch of 50 texts...\n"
     ]
    },
    {
     "name": "stderr",
     "output_type": "stream",
     "text": [
      "Processing conversations:  38%|███▊      | 786/2057 [2:18:53<3:56:50, 11.18s/it]"
     ]
    },
    {
     "name": "stdout",
     "output_type": "stream",
     "text": [
      "✅ Batch completed in 10.45s (0.209s per text)\n",
      "🚀 Attempting batch of 50 texts...\n"
     ]
    },
    {
     "name": "stderr",
     "output_type": "stream",
     "text": [
      "Processing conversations:  38%|███▊      | 787/2057 [2:19:05<4:01:16, 11.40s/it]"
     ]
    },
    {
     "name": "stdout",
     "output_type": "stream",
     "text": [
      "✅ Batch completed in 11.90s (0.238s per text)\n",
      "🚀 Attempting batch of 50 texts...\n"
     ]
    },
    {
     "name": "stderr",
     "output_type": "stream",
     "text": [
      "Processing conversations:  38%|███▊      | 788/2057 [2:19:17<4:02:29, 11.47s/it]"
     ]
    },
    {
     "name": "stdout",
     "output_type": "stream",
     "text": [
      "✅ Batch completed in 11.61s (0.232s per text)\n",
      "🚀 Attempting batch of 50 texts...\n"
     ]
    },
    {
     "name": "stderr",
     "output_type": "stream",
     "text": [
      "Processing conversations:  38%|███▊      | 789/2057 [2:19:28<4:03:00, 11.50s/it]"
     ]
    },
    {
     "name": "stdout",
     "output_type": "stream",
     "text": [
      "✅ Batch completed in 11.57s (0.231s per text)\n",
      "🚀 Attempting batch of 50 texts...\n"
     ]
    },
    {
     "name": "stderr",
     "output_type": "stream",
     "text": [
      "Processing conversations:  38%|███▊      | 790/2057 [2:19:39<3:59:16, 11.33s/it]"
     ]
    },
    {
     "name": "stdout",
     "output_type": "stream",
     "text": [
      "✅ Batch completed in 10.93s (0.219s per text)\n",
      "🚀 Attempting batch of 50 texts...\n"
     ]
    },
    {
     "name": "stderr",
     "output_type": "stream",
     "text": [
      "Processing conversations:  38%|███▊      | 791/2057 [2:19:50<3:58:45, 11.32s/it]"
     ]
    },
    {
     "name": "stdout",
     "output_type": "stream",
     "text": [
      "✅ Batch completed in 11.27s (0.225s per text)\n",
      "🚀 Attempting batch of 50 texts...\n"
     ]
    },
    {
     "name": "stderr",
     "output_type": "stream",
     "text": [
      "Processing conversations:  39%|███▊      | 792/2057 [2:20:02<3:58:11, 11.30s/it]"
     ]
    },
    {
     "name": "stdout",
     "output_type": "stream",
     "text": [
      "✅ Batch completed in 11.25s (0.225s per text)\n",
      "🚀 Attempting batch of 50 texts...\n"
     ]
    },
    {
     "name": "stderr",
     "output_type": "stream",
     "text": [
      "Processing conversations:  39%|███▊      | 793/2057 [2:20:13<3:57:13, 11.26s/it]"
     ]
    },
    {
     "name": "stdout",
     "output_type": "stream",
     "text": [
      "✅ Batch completed in 11.17s (0.223s per text)\n",
      "🚀 Attempting batch of 50 texts...\n"
     ]
    },
    {
     "name": "stderr",
     "output_type": "stream",
     "text": [
      "Processing conversations:  39%|███▊      | 794/2057 [2:20:24<3:57:07, 11.26s/it]"
     ]
    },
    {
     "name": "stdout",
     "output_type": "stream",
     "text": [
      "✅ Batch completed in 11.27s (0.225s per text)\n",
      "🚀 Attempting batch of 50 texts...\n"
     ]
    },
    {
     "name": "stderr",
     "output_type": "stream",
     "text": [
      "Processing conversations:  39%|███▊      | 795/2057 [2:20:35<3:53:50, 11.12s/it]"
     ]
    },
    {
     "name": "stdout",
     "output_type": "stream",
     "text": [
      "✅ Batch completed in 10.77s (0.215s per text)\n",
      "🚀 Attempting batch of 50 texts...\n"
     ]
    },
    {
     "name": "stderr",
     "output_type": "stream",
     "text": [
      "Processing conversations:  39%|███▊      | 796/2057 [2:20:46<3:55:55, 11.23s/it]"
     ]
    },
    {
     "name": "stdout",
     "output_type": "stream",
     "text": [
      "✅ Batch completed in 11.47s (0.229s per text)\n",
      "🚀 Attempting batch of 50 texts...\n"
     ]
    },
    {
     "name": "stderr",
     "output_type": "stream",
     "text": [
      "Processing conversations:  39%|███▊      | 797/2057 [2:20:58<3:55:29, 11.21s/it]"
     ]
    },
    {
     "name": "stdout",
     "output_type": "stream",
     "text": [
      "✅ Batch completed in 11.18s (0.224s per text)\n",
      "🚀 Attempting batch of 50 texts...\n"
     ]
    },
    {
     "name": "stderr",
     "output_type": "stream",
     "text": [
      "Processing conversations:  39%|███▉      | 798/2057 [2:21:08<3:53:01, 11.11s/it]"
     ]
    },
    {
     "name": "stdout",
     "output_type": "stream",
     "text": [
      "✅ Batch completed in 10.84s (0.217s per text)\n",
      "🚀 Attempting batch of 50 texts...\n"
     ]
    },
    {
     "name": "stderr",
     "output_type": "stream",
     "text": [
      "Processing conversations:  39%|███▉      | 799/2057 [2:21:19<3:51:44, 11.05s/it]"
     ]
    },
    {
     "name": "stdout",
     "output_type": "stream",
     "text": [
      "✅ Batch completed in 10.92s (0.218s per text)\n",
      "🚀 Attempting batch of 50 texts...\n"
     ]
    },
    {
     "name": "stderr",
     "output_type": "stream",
     "text": [
      "Processing conversations:  39%|███▉      | 800/2057 [2:21:31<3:53:31, 11.15s/it]"
     ]
    },
    {
     "name": "stdout",
     "output_type": "stream",
     "text": [
      "✅ Batch completed in 11.36s (0.227s per text)\n",
      "🚀 Attempting batch of 50 texts...\n"
     ]
    },
    {
     "name": "stderr",
     "output_type": "stream",
     "text": [
      "Processing conversations:  39%|███▉      | 801/2057 [2:21:42<3:53:22, 11.15s/it]"
     ]
    },
    {
     "name": "stdout",
     "output_type": "stream",
     "text": [
      "✅ Batch completed in 11.14s (0.223s per text)\n",
      "🚀 Attempting batch of 50 texts...\n"
     ]
    },
    {
     "name": "stderr",
     "output_type": "stream",
     "text": [
      "Processing conversations:  39%|███▉      | 802/2057 [2:21:55<4:03:06, 11.62s/it]"
     ]
    },
    {
     "name": "stdout",
     "output_type": "stream",
     "text": [
      "✅ Batch completed in 12.72s (0.254s per text)\n",
      "🚀 Attempting batch of 50 texts...\n"
     ]
    },
    {
     "name": "stderr",
     "output_type": "stream",
     "text": [
      "Processing conversations:  39%|███▉      | 803/2057 [2:22:06<4:00:08, 11.49s/it]"
     ]
    },
    {
     "name": "stdout",
     "output_type": "stream",
     "text": [
      "✅ Batch completed in 11.17s (0.223s per text)\n",
      "🚀 Attempting batch of 50 texts...\n"
     ]
    },
    {
     "name": "stderr",
     "output_type": "stream",
     "text": [
      "Processing conversations:  39%|███▉      | 804/2057 [2:22:17<3:57:36, 11.38s/it]"
     ]
    },
    {
     "name": "stdout",
     "output_type": "stream",
     "text": [
      "✅ Batch completed in 11.11s (0.222s per text)\n",
      "🚀 Attempting batch of 50 texts...\n"
     ]
    },
    {
     "name": "stderr",
     "output_type": "stream",
     "text": [
      "Processing conversations:  39%|███▉      | 805/2057 [2:22:28<3:56:04, 11.31s/it]"
     ]
    },
    {
     "name": "stdout",
     "output_type": "stream",
     "text": [
      "✅ Batch completed in 11.15s (0.223s per text)\n",
      "🚀 Attempting batch of 50 texts...\n"
     ]
    },
    {
     "name": "stderr",
     "output_type": "stream",
     "text": [
      "Processing conversations:  39%|███▉      | 806/2057 [2:22:40<3:56:59, 11.37s/it]"
     ]
    },
    {
     "name": "stdout",
     "output_type": "stream",
     "text": [
      "✅ Batch completed in 11.48s (0.230s per text)\n",
      "🚀 Attempting batch of 50 texts...\n"
     ]
    },
    {
     "name": "stderr",
     "output_type": "stream",
     "text": [
      "Processing conversations:  39%|███▉      | 807/2057 [2:22:51<3:59:54, 11.52s/it]"
     ]
    },
    {
     "name": "stdout",
     "output_type": "stream",
     "text": [
      "✅ Batch completed in 11.86s (0.237s per text)\n",
      "🚀 Attempting batch of 50 texts...\n"
     ]
    },
    {
     "name": "stderr",
     "output_type": "stream",
     "text": [
      "Processing conversations:  39%|███▉      | 808/2057 [2:23:03<3:59:55, 11.53s/it]"
     ]
    },
    {
     "name": "stdout",
     "output_type": "stream",
     "text": [
      "✅ Batch completed in 11.54s (0.231s per text)\n",
      "🚀 Attempting batch of 50 texts...\n"
     ]
    },
    {
     "name": "stderr",
     "output_type": "stream",
     "text": [
      "Processing conversations:  39%|███▉      | 809/2057 [2:23:14<3:56:55, 11.39s/it]"
     ]
    },
    {
     "name": "stdout",
     "output_type": "stream",
     "text": [
      "✅ Batch completed in 11.07s (0.221s per text)\n",
      "🚀 Attempting batch of 50 texts...\n"
     ]
    },
    {
     "name": "stderr",
     "output_type": "stream",
     "text": [
      "Processing conversations:  39%|███▉      | 810/2057 [2:23:25<3:56:37, 11.39s/it]"
     ]
    },
    {
     "name": "stdout",
     "output_type": "stream",
     "text": [
      "✅ Batch completed in 11.37s (0.227s per text)\n",
      "🚀 Attempting batch of 50 texts...\n"
     ]
    },
    {
     "name": "stderr",
     "output_type": "stream",
     "text": [
      "Processing conversations:  39%|███▉      | 811/2057 [2:23:36<3:51:53, 11.17s/it]"
     ]
    },
    {
     "name": "stdout",
     "output_type": "stream",
     "text": [
      "✅ Batch completed in 10.65s (0.213s per text)\n",
      "🚀 Attempting batch of 50 texts...\n"
     ]
    },
    {
     "name": "stderr",
     "output_type": "stream",
     "text": [
      "Processing conversations:  39%|███▉      | 812/2057 [2:23:47<3:47:28, 10.96s/it]"
     ]
    },
    {
     "name": "stdout",
     "output_type": "stream",
     "text": [
      "✅ Batch completed in 10.48s (0.210s per text)\n",
      "🚀 Attempting batch of 50 texts...\n"
     ]
    },
    {
     "name": "stderr",
     "output_type": "stream",
     "text": [
      "Processing conversations:  40%|███▉      | 813/2057 [2:23:58<3:50:07, 11.10s/it]"
     ]
    },
    {
     "name": "stdout",
     "output_type": "stream",
     "text": [
      "✅ Batch completed in 11.41s (0.228s per text)\n",
      "🚀 Attempting batch of 50 texts...\n"
     ]
    },
    {
     "name": "stderr",
     "output_type": "stream",
     "text": [
      "Processing conversations:  40%|███▉      | 814/2057 [2:24:09<3:51:32, 11.18s/it]"
     ]
    },
    {
     "name": "stdout",
     "output_type": "stream",
     "text": [
      "✅ Batch completed in 11.35s (0.227s per text)\n",
      "🚀 Attempting batch of 50 texts...\n"
     ]
    },
    {
     "name": "stderr",
     "output_type": "stream",
     "text": [
      "Processing conversations:  40%|███▉      | 815/2057 [2:24:20<3:48:47, 11.05s/it]"
     ]
    },
    {
     "name": "stdout",
     "output_type": "stream",
     "text": [
      "✅ Batch completed in 10.76s (0.215s per text)\n",
      "🚀 Attempting batch of 50 texts...\n"
     ]
    },
    {
     "name": "stderr",
     "output_type": "stream",
     "text": [
      "Processing conversations:  40%|███▉      | 816/2057 [2:24:30<3:44:35, 10.86s/it]"
     ]
    },
    {
     "name": "stdout",
     "output_type": "stream",
     "text": [
      "✅ Batch completed in 10.40s (0.208s per text)\n",
      "🚀 Attempting batch of 50 texts...\n"
     ]
    },
    {
     "name": "stderr",
     "output_type": "stream",
     "text": [
      "Processing conversations:  40%|███▉      | 817/2057 [2:24:41<3:41:52, 10.74s/it]"
     ]
    },
    {
     "name": "stdout",
     "output_type": "stream",
     "text": [
      "✅ Batch completed in 10.44s (0.209s per text)\n",
      "🚀 Attempting batch of 50 texts...\n"
     ]
    },
    {
     "name": "stderr",
     "output_type": "stream",
     "text": [
      "Processing conversations:  40%|███▉      | 818/2057 [2:24:52<3:42:15, 10.76s/it]"
     ]
    },
    {
     "name": "stdout",
     "output_type": "stream",
     "text": [
      "✅ Batch completed in 10.82s (0.216s per text)\n",
      "🚀 Attempting batch of 50 texts...\n"
     ]
    },
    {
     "name": "stderr",
     "output_type": "stream",
     "text": [
      "Processing conversations:  40%|███▉      | 819/2057 [2:25:03<3:42:03, 10.76s/it]"
     ]
    },
    {
     "name": "stdout",
     "output_type": "stream",
     "text": [
      "✅ Batch completed in 10.75s (0.215s per text)\n",
      "🚀 Attempting batch of 50 texts...\n"
     ]
    },
    {
     "name": "stderr",
     "output_type": "stream",
     "text": [
      "Processing conversations:  40%|███▉      | 820/2057 [2:25:14<3:44:21, 10.88s/it]"
     ]
    },
    {
     "name": "stdout",
     "output_type": "stream",
     "text": [
      "✅ Batch completed in 11.16s (0.223s per text)\n",
      "🚀 Attempting batch of 50 texts...\n"
     ]
    },
    {
     "name": "stderr",
     "output_type": "stream",
     "text": [
      "Processing conversations:  40%|███▉      | 821/2057 [2:25:25<3:44:31, 10.90s/it]"
     ]
    },
    {
     "name": "stdout",
     "output_type": "stream",
     "text": [
      "✅ Batch completed in 10.93s (0.219s per text)\n",
      "🚀 Attempting batch of 50 texts...\n"
     ]
    },
    {
     "name": "stderr",
     "output_type": "stream",
     "text": [
      "Processing conversations:  40%|███▉      | 822/2057 [2:25:35<3:40:34, 10.72s/it]"
     ]
    },
    {
     "name": "stdout",
     "output_type": "stream",
     "text": [
      "✅ Batch completed in 10.28s (0.206s per text)\n",
      "🚀 Attempting batch of 50 texts...\n"
     ]
    },
    {
     "name": "stderr",
     "output_type": "stream",
     "text": [
      "Processing conversations:  40%|████      | 823/2057 [2:25:45<3:38:09, 10.61s/it]"
     ]
    },
    {
     "name": "stdout",
     "output_type": "stream",
     "text": [
      "✅ Batch completed in 10.35s (0.207s per text)\n",
      "🚀 Attempting batch of 50 texts...\n"
     ]
    },
    {
     "name": "stderr",
     "output_type": "stream",
     "text": [
      "Processing conversations:  40%|████      | 824/2057 [2:25:56<3:39:43, 10.69s/it]"
     ]
    },
    {
     "name": "stdout",
     "output_type": "stream",
     "text": [
      "✅ Batch completed in 10.88s (0.218s per text)\n",
      "🚀 Attempting batch of 50 texts...\n"
     ]
    },
    {
     "name": "stderr",
     "output_type": "stream",
     "text": [
      "Processing conversations:  40%|████      | 825/2057 [2:26:07<3:41:55, 10.81s/it]"
     ]
    },
    {
     "name": "stdout",
     "output_type": "stream",
     "text": [
      "✅ Batch completed in 11.07s (0.221s per text)\n",
      "🚀 Attempting batch of 50 texts...\n"
     ]
    },
    {
     "name": "stderr",
     "output_type": "stream",
     "text": [
      "Processing conversations:  40%|████      | 826/2057 [2:26:18<3:42:00, 10.82s/it]"
     ]
    },
    {
     "name": "stdout",
     "output_type": "stream",
     "text": [
      "✅ Batch completed in 10.85s (0.217s per text)\n",
      "🚀 Attempting batch of 50 texts...\n"
     ]
    },
    {
     "name": "stderr",
     "output_type": "stream",
     "text": [
      "Processing conversations:  40%|████      | 827/2057 [2:26:30<3:46:39, 11.06s/it]"
     ]
    },
    {
     "name": "stdout",
     "output_type": "stream",
     "text": [
      "✅ Batch completed in 11.60s (0.232s per text)\n",
      "🚀 Attempting batch of 50 texts...\n"
     ]
    },
    {
     "name": "stderr",
     "output_type": "stream",
     "text": [
      "Processing conversations:  40%|████      | 828/2057 [2:26:40<3:43:15, 10.90s/it]"
     ]
    },
    {
     "name": "stdout",
     "output_type": "stream",
     "text": [
      "✅ Batch completed in 10.53s (0.211s per text)\n",
      "🚀 Attempting batch of 50 texts...\n"
     ]
    },
    {
     "name": "stderr",
     "output_type": "stream",
     "text": [
      "Processing conversations:  40%|████      | 829/2057 [2:26:51<3:41:43, 10.83s/it]"
     ]
    },
    {
     "name": "stdout",
     "output_type": "stream",
     "text": [
      "✅ Batch completed in 10.67s (0.213s per text)\n",
      "🚀 Attempting batch of 50 texts...\n"
     ]
    },
    {
     "name": "stderr",
     "output_type": "stream",
     "text": [
      "Processing conversations:  40%|████      | 830/2057 [2:27:02<3:42:22, 10.87s/it]"
     ]
    },
    {
     "name": "stdout",
     "output_type": "stream",
     "text": [
      "✅ Batch completed in 10.96s (0.219s per text)\n",
      "🚀 Attempting batch of 50 texts...\n"
     ]
    },
    {
     "name": "stderr",
     "output_type": "stream",
     "text": [
      "Processing conversations:  40%|████      | 831/2057 [2:27:13<3:42:09, 10.87s/it]"
     ]
    },
    {
     "name": "stdout",
     "output_type": "stream",
     "text": [
      "✅ Batch completed in 10.86s (0.217s per text)\n",
      "🚀 Attempting batch of 50 texts...\n"
     ]
    },
    {
     "name": "stderr",
     "output_type": "stream",
     "text": [
      "Processing conversations:  40%|████      | 832/2057 [2:27:23<3:39:35, 10.76s/it]"
     ]
    },
    {
     "name": "stdout",
     "output_type": "stream",
     "text": [
      "✅ Batch completed in 10.47s (0.209s per text)\n",
      "🚀 Attempting batch of 50 texts...\n"
     ]
    },
    {
     "name": "stderr",
     "output_type": "stream",
     "text": [
      "Processing conversations:  40%|████      | 833/2057 [2:27:34<3:39:00, 10.74s/it]"
     ]
    },
    {
     "name": "stdout",
     "output_type": "stream",
     "text": [
      "✅ Batch completed in 10.68s (0.214s per text)\n",
      "🚀 Attempting batch of 50 texts...\n"
     ]
    },
    {
     "name": "stderr",
     "output_type": "stream",
     "text": [
      "Processing conversations:  41%|████      | 834/2057 [2:27:44<3:37:54, 10.69s/it]"
     ]
    },
    {
     "name": "stdout",
     "output_type": "stream",
     "text": [
      "✅ Batch completed in 10.58s (0.212s per text)\n",
      "🚀 Attempting batch of 50 texts...\n"
     ]
    },
    {
     "name": "stderr",
     "output_type": "stream",
     "text": [
      "Processing conversations:  41%|████      | 835/2057 [2:27:55<3:37:16, 10.67s/it]"
     ]
    },
    {
     "name": "stdout",
     "output_type": "stream",
     "text": [
      "✅ Batch completed in 10.61s (0.212s per text)\n",
      "🚀 Attempting batch of 50 texts...\n"
     ]
    },
    {
     "name": "stderr",
     "output_type": "stream",
     "text": [
      "Processing conversations:  41%|████      | 836/2057 [2:28:06<3:36:53, 10.66s/it]"
     ]
    },
    {
     "name": "stdout",
     "output_type": "stream",
     "text": [
      "✅ Batch completed in 10.63s (0.213s per text)\n",
      "🚀 Attempting batch of 50 texts...\n"
     ]
    },
    {
     "name": "stderr",
     "output_type": "stream",
     "text": [
      "Processing conversations:  41%|████      | 837/2057 [2:28:16<3:35:28, 10.60s/it]"
     ]
    },
    {
     "name": "stdout",
     "output_type": "stream",
     "text": [
      "✅ Batch completed in 10.45s (0.209s per text)\n",
      "🚀 Attempting batch of 50 texts...\n"
     ]
    },
    {
     "name": "stderr",
     "output_type": "stream",
     "text": [
      "Processing conversations:  41%|████      | 838/2057 [2:28:27<3:34:22, 10.55s/it]"
     ]
    },
    {
     "name": "stdout",
     "output_type": "stream",
     "text": [
      "✅ Batch completed in 10.44s (0.209s per text)\n",
      "🚀 Attempting batch of 50 texts...\n"
     ]
    },
    {
     "name": "stderr",
     "output_type": "stream",
     "text": [
      "Processing conversations:  41%|████      | 839/2057 [2:28:38<3:39:06, 10.79s/it]"
     ]
    },
    {
     "name": "stdout",
     "output_type": "stream",
     "text": [
      "✅ Batch completed in 11.35s (0.227s per text)\n",
      "🚀 Attempting batch of 50 texts...\n"
     ]
    },
    {
     "name": "stderr",
     "output_type": "stream",
     "text": [
      "Processing conversations:  41%|████      | 840/2057 [2:28:49<3:39:19, 10.81s/it]"
     ]
    },
    {
     "name": "stdout",
     "output_type": "stream",
     "text": [
      "✅ Batch completed in 10.85s (0.217s per text)\n",
      "🚀 Attempting batch of 50 texts...\n"
     ]
    },
    {
     "name": "stderr",
     "output_type": "stream",
     "text": [
      "Processing conversations:  41%|████      | 841/2057 [2:29:00<3:39:48, 10.85s/it]"
     ]
    },
    {
     "name": "stdout",
     "output_type": "stream",
     "text": [
      "✅ Batch completed in 10.92s (0.218s per text)\n",
      "🚀 Attempting batch of 50 texts...\n"
     ]
    },
    {
     "name": "stderr",
     "output_type": "stream",
     "text": [
      "Processing conversations:  41%|████      | 842/2057 [2:29:11<3:39:46, 10.85s/it]"
     ]
    },
    {
     "name": "stdout",
     "output_type": "stream",
     "text": [
      "✅ Batch completed in 10.87s (0.217s per text)\n",
      "🚀 Attempting batch of 50 texts...\n"
     ]
    },
    {
     "name": "stderr",
     "output_type": "stream",
     "text": [
      "Processing conversations:  41%|████      | 843/2057 [2:29:22<3:41:51, 10.97s/it]"
     ]
    },
    {
     "name": "stdout",
     "output_type": "stream",
     "text": [
      "✅ Batch completed in 11.22s (0.224s per text)\n",
      "🚀 Attempting batch of 50 texts...\n"
     ]
    },
    {
     "name": "stderr",
     "output_type": "stream",
     "text": [
      "Processing conversations:  41%|████      | 844/2057 [2:29:33<3:40:38, 10.91s/it]"
     ]
    },
    {
     "name": "stdout",
     "output_type": "stream",
     "text": [
      "✅ Batch completed in 10.79s (0.216s per text)\n",
      "🚀 Attempting batch of 50 texts...\n"
     ]
    },
    {
     "name": "stderr",
     "output_type": "stream",
     "text": [
      "Processing conversations:  41%|████      | 845/2057 [2:29:44<3:43:36, 11.07s/it]"
     ]
    },
    {
     "name": "stdout",
     "output_type": "stream",
     "text": [
      "✅ Batch completed in 11.43s (0.229s per text)\n",
      "🚀 Attempting batch of 50 texts...\n"
     ]
    },
    {
     "name": "stderr",
     "output_type": "stream",
     "text": [
      "Processing conversations:  41%|████      | 846/2057 [2:29:55<3:41:47, 10.99s/it]"
     ]
    },
    {
     "name": "stdout",
     "output_type": "stream",
     "text": [
      "✅ Batch completed in 10.80s (0.216s per text)\n",
      "🚀 Attempting batch of 50 texts...\n"
     ]
    },
    {
     "name": "stderr",
     "output_type": "stream",
     "text": [
      "Processing conversations:  41%|████      | 847/2057 [2:30:06<3:43:26, 11.08s/it]"
     ]
    },
    {
     "name": "stdout",
     "output_type": "stream",
     "text": [
      "✅ Batch completed in 11.29s (0.226s per text)\n",
      "🚀 Attempting batch of 50 texts...\n"
     ]
    },
    {
     "name": "stderr",
     "output_type": "stream",
     "text": [
      "Processing conversations:  41%|████      | 848/2057 [2:30:17<3:40:03, 10.92s/it]"
     ]
    },
    {
     "name": "stdout",
     "output_type": "stream",
     "text": [
      "✅ Batch completed in 10.55s (0.211s per text)\n",
      "🚀 Attempting batch of 50 texts...\n"
     ]
    },
    {
     "name": "stderr",
     "output_type": "stream",
     "text": [
      "Processing conversations:  41%|████▏     | 849/2057 [2:30:28<3:43:28, 11.10s/it]"
     ]
    },
    {
     "name": "stdout",
     "output_type": "stream",
     "text": [
      "✅ Batch completed in 11.51s (0.230s per text)\n",
      "🚀 Attempting batch of 50 texts...\n"
     ]
    },
    {
     "name": "stderr",
     "output_type": "stream",
     "text": [
      "Processing conversations:  41%|████▏     | 850/2057 [2:30:40<3:45:18, 11.20s/it]"
     ]
    },
    {
     "name": "stdout",
     "output_type": "stream",
     "text": [
      "✅ Batch completed in 11.43s (0.229s per text)\n",
      "🚀 Attempting batch of 50 texts...\n"
     ]
    },
    {
     "name": "stderr",
     "output_type": "stream",
     "text": [
      "Processing conversations:  41%|████▏     | 851/2057 [2:30:51<3:47:07, 11.30s/it]"
     ]
    },
    {
     "name": "stdout",
     "output_type": "stream",
     "text": [
      "✅ Batch completed in 11.53s (0.231s per text)\n",
      "🚀 Attempting batch of 50 texts...\n"
     ]
    },
    {
     "name": "stderr",
     "output_type": "stream",
     "text": [
      "Processing conversations:  41%|████▏     | 852/2057 [2:31:02<3:45:42, 11.24s/it]"
     ]
    },
    {
     "name": "stdout",
     "output_type": "stream",
     "text": [
      "✅ Batch completed in 11.09s (0.222s per text)\n",
      "🚀 Attempting batch of 50 texts...\n"
     ]
    },
    {
     "name": "stderr",
     "output_type": "stream",
     "text": [
      "Processing conversations:  41%|████▏     | 853/2057 [2:31:14<3:46:23, 11.28s/it]"
     ]
    },
    {
     "name": "stdout",
     "output_type": "stream",
     "text": [
      "✅ Batch completed in 11.38s (0.228s per text)\n",
      "🚀 Attempting batch of 50 texts...\n"
     ]
    },
    {
     "name": "stderr",
     "output_type": "stream",
     "text": [
      "Processing conversations:  42%|████▏     | 854/2057 [2:31:25<3:45:30, 11.25s/it]"
     ]
    },
    {
     "name": "stdout",
     "output_type": "stream",
     "text": [
      "✅ Batch completed in 11.16s (0.223s per text)\n",
      "🚀 Attempting batch of 50 texts...\n"
     ]
    },
    {
     "name": "stderr",
     "output_type": "stream",
     "text": [
      "Processing conversations:  42%|████▏     | 855/2057 [2:31:36<3:42:50, 11.12s/it]"
     ]
    },
    {
     "name": "stdout",
     "output_type": "stream",
     "text": [
      "✅ Batch completed in 10.83s (0.217s per text)\n",
      "🚀 Attempting batch of 50 texts...\n"
     ]
    },
    {
     "name": "stderr",
     "output_type": "stream",
     "text": [
      "Processing conversations:  42%|████▏     | 856/2057 [2:31:46<3:40:22, 11.01s/it]"
     ]
    },
    {
     "name": "stdout",
     "output_type": "stream",
     "text": [
      "✅ Batch completed in 10.74s (0.215s per text)\n",
      "🚀 Attempting batch of 50 texts...\n"
     ]
    },
    {
     "name": "stderr",
     "output_type": "stream",
     "text": [
      "Processing conversations:  42%|████▏     | 857/2057 [2:31:58<3:42:45, 11.14s/it]"
     ]
    },
    {
     "name": "stdout",
     "output_type": "stream",
     "text": [
      "✅ Batch completed in 11.43s (0.229s per text)\n",
      "🚀 Attempting batch of 50 texts...\n"
     ]
    },
    {
     "name": "stderr",
     "output_type": "stream",
     "text": [
      "Processing conversations:  42%|████▏     | 858/2057 [2:32:09<3:40:41, 11.04s/it]"
     ]
    },
    {
     "name": "stdout",
     "output_type": "stream",
     "text": [
      "✅ Batch completed in 10.82s (0.216s per text)\n",
      "🚀 Attempting batch of 50 texts...\n"
     ]
    },
    {
     "name": "stderr",
     "output_type": "stream",
     "text": [
      "Processing conversations:  42%|████▏     | 859/2057 [2:32:20<3:40:46, 11.06s/it]"
     ]
    },
    {
     "name": "stdout",
     "output_type": "stream",
     "text": [
      "✅ Batch completed in 11.08s (0.222s per text)\n",
      "🚀 Attempting batch of 50 texts...\n"
     ]
    },
    {
     "name": "stderr",
     "output_type": "stream",
     "text": [
      "Processing conversations:  42%|████▏     | 860/2057 [2:32:32<3:45:56, 11.33s/it]"
     ]
    },
    {
     "name": "stdout",
     "output_type": "stream",
     "text": [
      "✅ Batch completed in 11.95s (0.239s per text)\n",
      "🚀 Attempting batch of 50 texts...\n"
     ]
    },
    {
     "name": "stderr",
     "output_type": "stream",
     "text": [
      "Processing conversations:  42%|████▏     | 861/2057 [2:32:44<3:51:01, 11.59s/it]"
     ]
    },
    {
     "name": "stdout",
     "output_type": "stream",
     "text": [
      "✅ Batch completed in 12.20s (0.244s per text)\n",
      "🚀 Attempting batch of 50 texts...\n"
     ]
    },
    {
     "name": "stderr",
     "output_type": "stream",
     "text": [
      "Processing conversations:  42%|████▏     | 862/2057 [2:32:55<3:49:23, 11.52s/it]"
     ]
    },
    {
     "name": "stdout",
     "output_type": "stream",
     "text": [
      "✅ Batch completed in 11.34s (0.227s per text)\n",
      "🚀 Attempting batch of 50 texts...\n"
     ]
    },
    {
     "name": "stderr",
     "output_type": "stream",
     "text": [
      "Processing conversations:  42%|████▏     | 863/2057 [2:33:06<3:45:59, 11.36s/it]"
     ]
    },
    {
     "name": "stdout",
     "output_type": "stream",
     "text": [
      "✅ Batch completed in 10.97s (0.219s per text)\n",
      "🚀 Attempting batch of 50 texts...\n"
     ]
    },
    {
     "name": "stderr",
     "output_type": "stream",
     "text": [
      "Processing conversations:  42%|████▏     | 864/2057 [2:33:17<3:43:38, 11.25s/it]"
     ]
    },
    {
     "name": "stdout",
     "output_type": "stream",
     "text": [
      "✅ Batch completed in 10.99s (0.220s per text)\n",
      "🚀 Attempting batch of 50 texts...\n"
     ]
    },
    {
     "name": "stderr",
     "output_type": "stream",
     "text": [
      "Processing conversations:  42%|████▏     | 865/2057 [2:33:30<3:51:50, 11.67s/it]"
     ]
    },
    {
     "name": "stdout",
     "output_type": "stream",
     "text": [
      "✅ Batch completed in 12.65s (0.253s per text)\n",
      "🚀 Attempting batch of 50 texts...\n"
     ]
    },
    {
     "name": "stderr",
     "output_type": "stream",
     "text": [
      "Processing conversations:  42%|████▏     | 866/2057 [2:33:41<3:48:04, 11.49s/it]"
     ]
    },
    {
     "name": "stdout",
     "output_type": "stream",
     "text": [
      "✅ Batch completed in 11.06s (0.221s per text)\n",
      "🚀 Attempting batch of 50 texts...\n"
     ]
    },
    {
     "name": "stderr",
     "output_type": "stream",
     "text": [
      "Processing conversations:  42%|████▏     | 867/2057 [2:33:53<3:48:03, 11.50s/it]"
     ]
    },
    {
     "name": "stdout",
     "output_type": "stream",
     "text": [
      "✅ Batch completed in 11.51s (0.230s per text)\n",
      "🚀 Attempting batch of 50 texts...\n"
     ]
    },
    {
     "name": "stderr",
     "output_type": "stream",
     "text": [
      "Processing conversations:  42%|████▏     | 868/2057 [2:34:04<3:48:42, 11.54s/it]"
     ]
    },
    {
     "name": "stdout",
     "output_type": "stream",
     "text": [
      "✅ Batch completed in 11.64s (0.233s per text)\n",
      "🚀 Attempting batch of 50 texts...\n"
     ]
    },
    {
     "name": "stderr",
     "output_type": "stream",
     "text": [
      "Processing conversations:  42%|████▏     | 869/2057 [2:34:17<3:55:11, 11.88s/it]"
     ]
    },
    {
     "name": "stdout",
     "output_type": "stream",
     "text": [
      "✅ Batch completed in 12.66s (0.253s per text)\n",
      "🚀 Attempting batch of 50 texts...\n"
     ]
    },
    {
     "name": "stderr",
     "output_type": "stream",
     "text": [
      "Processing conversations:  42%|████▏     | 870/2057 [2:34:29<3:54:22, 11.85s/it]"
     ]
    },
    {
     "name": "stdout",
     "output_type": "stream",
     "text": [
      "✅ Batch completed in 11.77s (0.235s per text)\n",
      "🚀 Attempting batch of 50 texts...\n"
     ]
    },
    {
     "name": "stderr",
     "output_type": "stream",
     "text": [
      "Processing conversations:  42%|████▏     | 871/2057 [2:34:40<3:52:01, 11.74s/it]"
     ]
    },
    {
     "name": "stdout",
     "output_type": "stream",
     "text": [
      "✅ Batch completed in 11.48s (0.230s per text)\n",
      "🚀 Attempting batch of 50 texts...\n"
     ]
    },
    {
     "name": "stderr",
     "output_type": "stream",
     "text": [
      "Processing conversations:  42%|████▏     | 872/2057 [2:34:51<3:49:49, 11.64s/it]"
     ]
    },
    {
     "name": "stdout",
     "output_type": "stream",
     "text": [
      "✅ Batch completed in 11.40s (0.228s per text)\n",
      "🚀 Attempting batch of 50 texts...\n"
     ]
    },
    {
     "name": "stderr",
     "output_type": "stream",
     "text": [
      "Processing conversations:  42%|████▏     | 873/2057 [2:35:03<3:50:11, 11.67s/it]"
     ]
    },
    {
     "name": "stdout",
     "output_type": "stream",
     "text": [
      "✅ Batch completed in 11.73s (0.235s per text)\n",
      "🚀 Attempting batch of 50 texts...\n"
     ]
    },
    {
     "name": "stderr",
     "output_type": "stream",
     "text": [
      "Processing conversations:  42%|████▏     | 874/2057 [2:35:14<3:45:35, 11.44s/it]"
     ]
    },
    {
     "name": "stdout",
     "output_type": "stream",
     "text": [
      "✅ Batch completed in 10.91s (0.218s per text)\n",
      "🚀 Attempting batch of 50 texts...\n"
     ]
    },
    {
     "name": "stderr",
     "output_type": "stream",
     "text": [
      "Processing conversations:  43%|████▎     | 875/2057 [2:35:25<3:41:40, 11.25s/it]"
     ]
    },
    {
     "name": "stdout",
     "output_type": "stream",
     "text": [
      "✅ Batch completed in 10.80s (0.216s per text)\n",
      "🚀 Attempting batch of 50 texts...\n"
     ]
    },
    {
     "name": "stderr",
     "output_type": "stream",
     "text": [
      "Processing conversations:  43%|████▎     | 876/2057 [2:35:36<3:42:26, 11.30s/it]"
     ]
    },
    {
     "name": "stdout",
     "output_type": "stream",
     "text": [
      "✅ Batch completed in 11.41s (0.228s per text)\n",
      "🚀 Attempting batch of 50 texts...\n"
     ]
    },
    {
     "name": "stderr",
     "output_type": "stream",
     "text": [
      "Processing conversations:  43%|████▎     | 877/2057 [2:35:48<3:45:07, 11.45s/it]"
     ]
    },
    {
     "name": "stdout",
     "output_type": "stream",
     "text": [
      "✅ Batch completed in 11.78s (0.236s per text)\n",
      "🚀 Attempting batch of 50 texts...\n"
     ]
    },
    {
     "name": "stderr",
     "output_type": "stream",
     "text": [
      "Processing conversations:  43%|████▎     | 878/2057 [2:36:00<3:44:45, 11.44s/it]"
     ]
    },
    {
     "name": "stdout",
     "output_type": "stream",
     "text": [
      "✅ Batch completed in 11.41s (0.228s per text)\n",
      "🚀 Attempting batch of 50 texts...\n"
     ]
    },
    {
     "name": "stderr",
     "output_type": "stream",
     "text": [
      "Processing conversations:  43%|████▎     | 879/2057 [2:36:11<3:46:39, 11.54s/it]"
     ]
    },
    {
     "name": "stdout",
     "output_type": "stream",
     "text": [
      "✅ Batch completed in 11.79s (0.236s per text)\n",
      "🚀 Attempting batch of 50 texts...\n"
     ]
    },
    {
     "name": "stderr",
     "output_type": "stream",
     "text": [
      "Processing conversations:  43%|████▎     | 880/2057 [2:36:23<3:45:56, 11.52s/it]"
     ]
    },
    {
     "name": "stdout",
     "output_type": "stream",
     "text": [
      "✅ Batch completed in 11.45s (0.229s per text)\n",
      "🚀 Attempting batch of 50 texts...\n"
     ]
    },
    {
     "name": "stderr",
     "output_type": "stream",
     "text": [
      "Processing conversations:  43%|████▎     | 881/2057 [2:36:34<3:41:30, 11.30s/it]"
     ]
    },
    {
     "name": "stdout",
     "output_type": "stream",
     "text": [
      "✅ Batch completed in 10.79s (0.216s per text)\n",
      "🚀 Attempting batch of 50 texts...\n"
     ]
    },
    {
     "name": "stderr",
     "output_type": "stream",
     "text": [
      "Processing conversations:  43%|████▎     | 882/2057 [2:36:45<3:39:41, 11.22s/it]"
     ]
    },
    {
     "name": "stdout",
     "output_type": "stream",
     "text": [
      "✅ Batch completed in 11.02s (0.220s per text)\n",
      "🚀 Attempting batch of 50 texts...\n"
     ]
    },
    {
     "name": "stderr",
     "output_type": "stream",
     "text": [
      "Processing conversations:  43%|████▎     | 883/2057 [2:36:56<3:37:42, 11.13s/it]"
     ]
    },
    {
     "name": "stdout",
     "output_type": "stream",
     "text": [
      "✅ Batch completed in 10.90s (0.218s per text)\n",
      "🚀 Attempting batch of 50 texts...\n"
     ]
    },
    {
     "name": "stderr",
     "output_type": "stream",
     "text": [
      "Processing conversations:  43%|████▎     | 884/2057 [2:37:07<3:38:46, 11.19s/it]"
     ]
    },
    {
     "name": "stdout",
     "output_type": "stream",
     "text": [
      "✅ Batch completed in 11.33s (0.227s per text)\n",
      "🚀 Attempting batch of 50 texts...\n"
     ]
    },
    {
     "name": "stderr",
     "output_type": "stream",
     "text": [
      "Processing conversations:  43%|████▎     | 885/2057 [2:37:18<3:37:46, 11.15s/it]"
     ]
    },
    {
     "name": "stdout",
     "output_type": "stream",
     "text": [
      "✅ Batch completed in 11.05s (0.221s per text)\n",
      "🚀 Attempting batch of 50 texts...\n"
     ]
    },
    {
     "name": "stderr",
     "output_type": "stream",
     "text": [
      "Processing conversations:  43%|████▎     | 886/2057 [2:37:29<3:36:38, 11.10s/it]"
     ]
    },
    {
     "name": "stdout",
     "output_type": "stream",
     "text": [
      "✅ Batch completed in 10.98s (0.220s per text)\n",
      "🚀 Attempting batch of 50 texts...\n"
     ]
    },
    {
     "name": "stderr",
     "output_type": "stream",
     "text": [
      "Processing conversations:  43%|████▎     | 887/2057 [2:37:41<3:40:59, 11.33s/it]"
     ]
    },
    {
     "name": "stdout",
     "output_type": "stream",
     "text": [
      "✅ Batch completed in 11.86s (0.237s per text)\n",
      "🚀 Attempting batch of 50 texts...\n"
     ]
    },
    {
     "name": "stderr",
     "output_type": "stream",
     "text": [
      "Processing conversations:  43%|████▎     | 888/2057 [2:37:52<3:39:10, 11.25s/it]"
     ]
    },
    {
     "name": "stdout",
     "output_type": "stream",
     "text": [
      "✅ Batch completed in 11.05s (0.221s per text)\n",
      "🚀 Attempting batch of 50 texts...\n"
     ]
    },
    {
     "name": "stderr",
     "output_type": "stream",
     "text": [
      "Processing conversations:  43%|████▎     | 889/2057 [2:38:03<3:35:34, 11.07s/it]"
     ]
    },
    {
     "name": "stdout",
     "output_type": "stream",
     "text": [
      "✅ Batch completed in 10.65s (0.213s per text)\n",
      "🚀 Attempting batch of 50 texts...\n"
     ]
    },
    {
     "name": "stderr",
     "output_type": "stream",
     "text": [
      "Processing conversations:  43%|████▎     | 890/2057 [2:38:13<3:34:10, 11.01s/it]"
     ]
    },
    {
     "name": "stdout",
     "output_type": "stream",
     "text": [
      "✅ Batch completed in 10.86s (0.217s per text)\n",
      "🚀 Attempting batch of 50 texts...\n"
     ]
    },
    {
     "name": "stderr",
     "output_type": "stream",
     "text": [
      "Processing conversations:  43%|████▎     | 891/2057 [2:38:24<3:33:24, 10.98s/it]"
     ]
    },
    {
     "name": "stdout",
     "output_type": "stream",
     "text": [
      "✅ Batch completed in 10.91s (0.218s per text)\n",
      "🚀 Attempting batch of 50 texts...\n"
     ]
    },
    {
     "name": "stderr",
     "output_type": "stream",
     "text": [
      "Processing conversations:  43%|████▎     | 892/2057 [2:38:36<3:35:36, 11.10s/it]"
     ]
    },
    {
     "name": "stdout",
     "output_type": "stream",
     "text": [
      "✅ Batch completed in 11.38s (0.228s per text)\n",
      "🚀 Attempting batch of 50 texts...\n"
     ]
    },
    {
     "name": "stderr",
     "output_type": "stream",
     "text": [
      "Processing conversations:  43%|████▎     | 893/2057 [2:38:47<3:38:31, 11.26s/it]"
     ]
    },
    {
     "name": "stdout",
     "output_type": "stream",
     "text": [
      "✅ Batch completed in 11.63s (0.233s per text)\n",
      "🚀 Attempting batch of 50 texts...\n"
     ]
    },
    {
     "name": "stderr",
     "output_type": "stream",
     "text": [
      "Processing conversations:  43%|████▎     | 894/2057 [2:38:59<3:40:35, 11.38s/it]"
     ]
    },
    {
     "name": "stdout",
     "output_type": "stream",
     "text": [
      "✅ Batch completed in 11.65s (0.233s per text)\n",
      "🚀 Attempting batch of 50 texts...\n"
     ]
    },
    {
     "name": "stderr",
     "output_type": "stream",
     "text": [
      "Processing conversations:  44%|████▎     | 895/2057 [2:39:10<3:39:05, 11.31s/it]"
     ]
    },
    {
     "name": "stdout",
     "output_type": "stream",
     "text": [
      "✅ Batch completed in 11.15s (0.223s per text)\n",
      "🚀 Attempting batch of 50 texts...\n"
     ]
    },
    {
     "name": "stderr",
     "output_type": "stream",
     "text": [
      "Processing conversations:  44%|████▎     | 896/2057 [2:39:21<3:37:24, 11.24s/it]"
     ]
    },
    {
     "name": "stdout",
     "output_type": "stream",
     "text": [
      "✅ Batch completed in 11.05s (0.221s per text)\n",
      "🚀 Attempting batch of 50 texts...\n"
     ]
    },
    {
     "name": "stderr",
     "output_type": "stream",
     "text": [
      "Processing conversations:  44%|████▎     | 897/2057 [2:39:33<3:38:37, 11.31s/it]"
     ]
    },
    {
     "name": "stdout",
     "output_type": "stream",
     "text": [
      "✅ Batch completed in 11.47s (0.229s per text)\n",
      "🚀 Attempting batch of 50 texts...\n"
     ]
    },
    {
     "name": "stderr",
     "output_type": "stream",
     "text": [
      "Processing conversations:  44%|████▎     | 898/2057 [2:39:44<3:40:34, 11.42s/it]"
     ]
    },
    {
     "name": "stdout",
     "output_type": "stream",
     "text": [
      "✅ Batch completed in 11.67s (0.233s per text)\n",
      "🚀 Attempting batch of 50 texts...\n"
     ]
    },
    {
     "name": "stderr",
     "output_type": "stream",
     "text": [
      "Processing conversations:  44%|████▎     | 899/2057 [2:39:55<3:38:25, 11.32s/it]"
     ]
    },
    {
     "name": "stdout",
     "output_type": "stream",
     "text": [
      "✅ Batch completed in 11.08s (0.222s per text)\n",
      "🚀 Attempting batch of 50 texts...\n"
     ]
    },
    {
     "name": "stderr",
     "output_type": "stream",
     "text": [
      "Processing conversations:  44%|████▍     | 900/2057 [2:40:07<3:38:49, 11.35s/it]"
     ]
    },
    {
     "name": "stdout",
     "output_type": "stream",
     "text": [
      "✅ Batch completed in 11.41s (0.228s per text)\n",
      "🚀 Attempting batch of 50 texts...\n"
     ]
    },
    {
     "name": "stderr",
     "output_type": "stream",
     "text": [
      "Processing conversations:  44%|████▍     | 901/2057 [2:40:18<3:37:03, 11.27s/it]"
     ]
    },
    {
     "name": "stdout",
     "output_type": "stream",
     "text": [
      "✅ Batch completed in 11.07s (0.221s per text)\n",
      "🚀 Attempting batch of 50 texts...\n"
     ]
    },
    {
     "name": "stderr",
     "output_type": "stream",
     "text": [
      "Processing conversations:  44%|████▍     | 902/2057 [2:40:29<3:38:28, 11.35s/it]"
     ]
    },
    {
     "name": "stdout",
     "output_type": "stream",
     "text": [
      "✅ Batch completed in 11.54s (0.231s per text)\n",
      "🚀 Attempting batch of 50 texts...\n"
     ]
    },
    {
     "name": "stderr",
     "output_type": "stream",
     "text": [
      "Processing conversations:  44%|████▍     | 903/2057 [2:40:40<3:35:19, 11.20s/it]"
     ]
    },
    {
     "name": "stdout",
     "output_type": "stream",
     "text": [
      "✅ Batch completed in 10.83s (0.217s per text)\n",
      "🚀 Attempting batch of 50 texts...\n"
     ]
    },
    {
     "name": "stderr",
     "output_type": "stream",
     "text": [
      "Processing conversations:  44%|████▍     | 904/2057 [2:40:51<3:34:21, 11.15s/it]"
     ]
    },
    {
     "name": "stdout",
     "output_type": "stream",
     "text": [
      "✅ Batch completed in 11.05s (0.221s per text)\n",
      "🚀 Attempting batch of 50 texts...\n"
     ]
    },
    {
     "name": "stderr",
     "output_type": "stream",
     "text": [
      "Processing conversations:  44%|████▍     | 905/2057 [2:41:03<3:35:11, 11.21s/it]"
     ]
    },
    {
     "name": "stdout",
     "output_type": "stream",
     "text": [
      "✅ Batch completed in 11.32s (0.226s per text)\n",
      "🚀 Attempting batch of 50 texts...\n"
     ]
    },
    {
     "name": "stderr",
     "output_type": "stream",
     "text": [
      "Processing conversations:  44%|████▍     | 906/2057 [2:41:14<3:35:35, 11.24s/it]"
     ]
    },
    {
     "name": "stdout",
     "output_type": "stream",
     "text": [
      "✅ Batch completed in 11.30s (0.226s per text)\n",
      "🚀 Attempting batch of 50 texts...\n"
     ]
    },
    {
     "name": "stderr",
     "output_type": "stream",
     "text": [
      "Processing conversations:  44%|████▍     | 907/2057 [2:41:25<3:33:58, 11.16s/it]"
     ]
    },
    {
     "name": "stdout",
     "output_type": "stream",
     "text": [
      "✅ Batch completed in 10.99s (0.220s per text)\n",
      "🚀 Attempting batch of 50 texts...\n"
     ]
    },
    {
     "name": "stderr",
     "output_type": "stream",
     "text": [
      "Processing conversations:  44%|████▍     | 908/2057 [2:41:36<3:32:26, 11.09s/it]"
     ]
    },
    {
     "name": "stdout",
     "output_type": "stream",
     "text": [
      "✅ Batch completed in 10.92s (0.218s per text)\n",
      "🚀 Attempting batch of 50 texts...\n"
     ]
    },
    {
     "name": "stderr",
     "output_type": "stream",
     "text": [
      "Processing conversations:  44%|████▍     | 909/2057 [2:41:47<3:35:01, 11.24s/it]"
     ]
    },
    {
     "name": "stdout",
     "output_type": "stream",
     "text": [
      "✅ Batch completed in 11.57s (0.231s per text)\n",
      "🚀 Attempting batch of 50 texts...\n"
     ]
    },
    {
     "name": "stderr",
     "output_type": "stream",
     "text": [
      "Processing conversations:  44%|████▍     | 910/2057 [2:41:59<3:34:01, 11.20s/it]"
     ]
    },
    {
     "name": "stdout",
     "output_type": "stream",
     "text": [
      "✅ Batch completed in 11.09s (0.222s per text)\n",
      "🚀 Attempting batch of 50 texts...\n"
     ]
    },
    {
     "name": "stderr",
     "output_type": "stream",
     "text": [
      "Processing conversations:  44%|████▍     | 911/2057 [2:42:10<3:33:20, 11.17s/it]"
     ]
    },
    {
     "name": "stdout",
     "output_type": "stream",
     "text": [
      "✅ Batch completed in 11.10s (0.222s per text)\n",
      "🚀 Attempting batch of 50 texts...\n"
     ]
    },
    {
     "name": "stderr",
     "output_type": "stream",
     "text": [
      "Processing conversations:  44%|████▍     | 912/2057 [2:42:21<3:33:15, 11.18s/it]"
     ]
    },
    {
     "name": "stdout",
     "output_type": "stream",
     "text": [
      "✅ Batch completed in 11.18s (0.224s per text)\n",
      "🚀 Attempting batch of 50 texts...\n"
     ]
    },
    {
     "name": "stderr",
     "output_type": "stream",
     "text": [
      "Processing conversations:  44%|████▍     | 913/2057 [2:42:32<3:33:08, 11.18s/it]"
     ]
    },
    {
     "name": "stdout",
     "output_type": "stream",
     "text": [
      "✅ Batch completed in 11.18s (0.224s per text)\n",
      "🚀 Attempting batch of 50 texts...\n"
     ]
    },
    {
     "name": "stderr",
     "output_type": "stream",
     "text": [
      "Processing conversations:  44%|████▍     | 914/2057 [2:42:44<3:34:43, 11.27s/it]"
     ]
    },
    {
     "name": "stdout",
     "output_type": "stream",
     "text": [
      "✅ Batch completed in 11.48s (0.230s per text)\n",
      "🚀 Attempting batch of 50 texts...\n"
     ]
    },
    {
     "name": "stderr",
     "output_type": "stream",
     "text": [
      "Processing conversations:  44%|████▍     | 915/2057 [2:42:54<3:32:03, 11.14s/it]"
     ]
    },
    {
     "name": "stdout",
     "output_type": "stream",
     "text": [
      "✅ Batch completed in 10.83s (0.217s per text)\n",
      "🚀 Attempting batch of 50 texts...\n"
     ]
    },
    {
     "name": "stderr",
     "output_type": "stream",
     "text": [
      "Processing conversations:  45%|████▍     | 916/2057 [2:43:05<3:27:25, 10.91s/it]"
     ]
    },
    {
     "name": "stdout",
     "output_type": "stream",
     "text": [
      "✅ Batch completed in 10.35s (0.207s per text)\n",
      "🚀 Attempting batch of 50 texts...\n"
     ]
    },
    {
     "name": "stderr",
     "output_type": "stream",
     "text": [
      "Processing conversations:  45%|████▍     | 917/2057 [2:43:15<3:24:38, 10.77s/it]"
     ]
    },
    {
     "name": "stdout",
     "output_type": "stream",
     "text": [
      "✅ Batch completed in 10.45s (0.209s per text)\n",
      "🚀 Attempting batch of 50 texts...\n"
     ]
    },
    {
     "name": "stderr",
     "output_type": "stream",
     "text": [
      "Processing conversations:  45%|████▍     | 918/2057 [2:43:26<3:21:53, 10.64s/it]"
     ]
    },
    {
     "name": "stdout",
     "output_type": "stream",
     "text": [
      "✅ Batch completed in 10.31s (0.206s per text)\n",
      "🚀 Attempting batch of 50 texts...\n"
     ]
    },
    {
     "name": "stderr",
     "output_type": "stream",
     "text": [
      "Processing conversations:  45%|████▍     | 919/2057 [2:43:36<3:19:08, 10.50s/it]"
     ]
    },
    {
     "name": "stdout",
     "output_type": "stream",
     "text": [
      "✅ Batch completed in 10.17s (0.203s per text)\n",
      "🚀 Attempting batch of 50 texts...\n"
     ]
    },
    {
     "name": "stderr",
     "output_type": "stream",
     "text": [
      "Processing conversations:  45%|████▍     | 920/2057 [2:43:46<3:18:00, 10.45s/it]"
     ]
    },
    {
     "name": "stdout",
     "output_type": "stream",
     "text": [
      "✅ Batch completed in 10.32s (0.206s per text)\n",
      "🚀 Attempting batch of 50 texts...\n"
     ]
    },
    {
     "name": "stderr",
     "output_type": "stream",
     "text": [
      "Processing conversations:  45%|████▍     | 921/2057 [2:43:56<3:17:34, 10.44s/it]"
     ]
    },
    {
     "name": "stdout",
     "output_type": "stream",
     "text": [
      "✅ Batch completed in 10.40s (0.208s per text)\n",
      "🚀 Attempting batch of 50 texts...\n"
     ]
    },
    {
     "name": "stderr",
     "output_type": "stream",
     "text": [
      "Processing conversations:  45%|████▍     | 922/2057 [2:44:07<3:15:20, 10.33s/it]"
     ]
    },
    {
     "name": "stdout",
     "output_type": "stream",
     "text": [
      "✅ Batch completed in 10.06s (0.201s per text)\n",
      "🚀 Attempting batch of 50 texts...\n"
     ]
    },
    {
     "name": "stderr",
     "output_type": "stream",
     "text": [
      "Processing conversations:  45%|████▍     | 923/2057 [2:44:16<3:12:38, 10.19s/it]"
     ]
    },
    {
     "name": "stdout",
     "output_type": "stream",
     "text": [
      "✅ Batch completed in 9.87s (0.197s per text)\n",
      "🚀 Attempting batch of 50 texts...\n"
     ]
    },
    {
     "name": "stderr",
     "output_type": "stream",
     "text": [
      "Processing conversations:  45%|████▍     | 924/2057 [2:44:27<3:12:12, 10.18s/it]"
     ]
    },
    {
     "name": "stdout",
     "output_type": "stream",
     "text": [
      "✅ Batch completed in 10.14s (0.203s per text)\n",
      "🚀 Attempting batch of 50 texts...\n"
     ]
    },
    {
     "name": "stderr",
     "output_type": "stream",
     "text": [
      "Processing conversations:  45%|████▍     | 925/2057 [2:44:37<3:12:35, 10.21s/it]"
     ]
    },
    {
     "name": "stdout",
     "output_type": "stream",
     "text": [
      "✅ Batch completed in 10.27s (0.205s per text)\n",
      "🚀 Attempting batch of 50 texts...\n"
     ]
    },
    {
     "name": "stderr",
     "output_type": "stream",
     "text": [
      "Processing conversations:  45%|████▌     | 926/2057 [2:44:47<3:11:18, 10.15s/it]"
     ]
    },
    {
     "name": "stdout",
     "output_type": "stream",
     "text": [
      "✅ Batch completed in 10.00s (0.200s per text)\n",
      "🚀 Attempting batch of 50 texts...\n"
     ]
    },
    {
     "name": "stderr",
     "output_type": "stream",
     "text": [
      "Processing conversations:  45%|████▌     | 927/2057 [2:44:57<3:11:52, 10.19s/it]"
     ]
    },
    {
     "name": "stdout",
     "output_type": "stream",
     "text": [
      "✅ Batch completed in 10.28s (0.206s per text)\n",
      "🚀 Attempting batch of 50 texts...\n"
     ]
    },
    {
     "name": "stderr",
     "output_type": "stream",
     "text": [
      "Processing conversations:  45%|████▌     | 928/2057 [2:45:07<3:12:41, 10.24s/it]"
     ]
    },
    {
     "name": "stdout",
     "output_type": "stream",
     "text": [
      "✅ Batch completed in 10.35s (0.207s per text)\n",
      "🚀 Attempting batch of 50 texts...\n"
     ]
    },
    {
     "name": "stderr",
     "output_type": "stream",
     "text": [
      "Processing conversations:  45%|████▌     | 929/2057 [2:45:18<3:12:12, 10.22s/it]"
     ]
    },
    {
     "name": "stdout",
     "output_type": "stream",
     "text": [
      "✅ Batch completed in 10.18s (0.204s per text)\n",
      "🚀 Attempting batch of 50 texts...\n"
     ]
    },
    {
     "name": "stderr",
     "output_type": "stream",
     "text": [
      "Processing conversations:  45%|████▌     | 930/2057 [2:45:28<3:11:01, 10.17s/it]"
     ]
    },
    {
     "name": "stdout",
     "output_type": "stream",
     "text": [
      "✅ Batch completed in 10.04s (0.201s per text)\n",
      "🚀 Attempting batch of 50 texts...\n"
     ]
    },
    {
     "name": "stderr",
     "output_type": "stream",
     "text": [
      "Processing conversations:  45%|████▌     | 931/2057 [2:45:38<3:12:00, 10.23s/it]"
     ]
    },
    {
     "name": "stdout",
     "output_type": "stream",
     "text": [
      "✅ Batch completed in 10.37s (0.207s per text)\n",
      "🚀 Attempting batch of 50 texts...\n"
     ]
    },
    {
     "name": "stderr",
     "output_type": "stream",
     "text": [
      "Processing conversations:  45%|████▌     | 932/2057 [2:45:49<3:13:52, 10.34s/it]"
     ]
    },
    {
     "name": "stdout",
     "output_type": "stream",
     "text": [
      "✅ Batch completed in 10.58s (0.212s per text)\n",
      "🚀 Attempting batch of 50 texts...\n"
     ]
    },
    {
     "name": "stderr",
     "output_type": "stream",
     "text": [
      "Processing conversations:  45%|████▌     | 933/2057 [2:45:59<3:13:49, 10.35s/it]"
     ]
    },
    {
     "name": "stdout",
     "output_type": "stream",
     "text": [
      "✅ Batch completed in 10.33s (0.207s per text)\n",
      "🚀 Attempting batch of 50 texts...\n"
     ]
    },
    {
     "name": "stderr",
     "output_type": "stream",
     "text": [
      "Processing conversations:  45%|████▌     | 934/2057 [2:46:09<3:10:45, 10.19s/it]"
     ]
    },
    {
     "name": "stdout",
     "output_type": "stream",
     "text": [
      "✅ Batch completed in 9.83s (0.197s per text)\n",
      "🚀 Attempting batch of 50 texts...\n"
     ]
    },
    {
     "name": "stderr",
     "output_type": "stream",
     "text": [
      "Processing conversations:  45%|████▌     | 935/2057 [2:46:19<3:10:39, 10.20s/it]"
     ]
    },
    {
     "name": "stdout",
     "output_type": "stream",
     "text": [
      "✅ Batch completed in 10.20s (0.204s per text)\n",
      "🚀 Attempting batch of 50 texts...\n"
     ]
    },
    {
     "name": "stderr",
     "output_type": "stream",
     "text": [
      "Processing conversations:  46%|████▌     | 936/2057 [2:46:29<3:10:47, 10.21s/it]"
     ]
    },
    {
     "name": "stdout",
     "output_type": "stream",
     "text": [
      "✅ Batch completed in 10.24s (0.205s per text)\n",
      "🚀 Attempting batch of 50 texts...\n"
     ]
    },
    {
     "name": "stderr",
     "output_type": "stream",
     "text": [
      "Processing conversations:  46%|████▌     | 937/2057 [2:46:40<3:13:08, 10.35s/it]"
     ]
    },
    {
     "name": "stdout",
     "output_type": "stream",
     "text": [
      "✅ Batch completed in 10.64s (0.213s per text)\n",
      "🚀 Attempting batch of 50 texts...\n"
     ]
    },
    {
     "name": "stderr",
     "output_type": "stream",
     "text": [
      "Processing conversations:  46%|████▌     | 938/2057 [2:46:51<3:15:43, 10.49s/it]"
     ]
    },
    {
     "name": "stdout",
     "output_type": "stream",
     "text": [
      "✅ Batch completed in 10.83s (0.217s per text)\n",
      "🚀 Attempting batch of 50 texts...\n"
     ]
    },
    {
     "name": "stderr",
     "output_type": "stream",
     "text": [
      "Processing conversations:  46%|████▌     | 939/2057 [2:47:02<3:17:27, 10.60s/it]"
     ]
    },
    {
     "name": "stdout",
     "output_type": "stream",
     "text": [
      "✅ Batch completed in 10.82s (0.216s per text)\n",
      "🚀 Attempting batch of 50 texts...\n"
     ]
    },
    {
     "name": "stderr",
     "output_type": "stream",
     "text": [
      "Processing conversations:  46%|████▌     | 940/2057 [2:47:12<3:13:12, 10.38s/it]"
     ]
    },
    {
     "name": "stdout",
     "output_type": "stream",
     "text": [
      "✅ Batch completed in 9.86s (0.197s per text)\n",
      "🚀 Attempting batch of 50 texts...\n"
     ]
    },
    {
     "name": "stderr",
     "output_type": "stream",
     "text": [
      "Processing conversations:  46%|████▌     | 941/2057 [2:47:21<3:10:01, 10.22s/it]"
     ]
    },
    {
     "name": "stdout",
     "output_type": "stream",
     "text": [
      "✅ Batch completed in 9.83s (0.197s per text)\n",
      "🚀 Attempting batch of 50 texts...\n"
     ]
    },
    {
     "name": "stderr",
     "output_type": "stream",
     "text": [
      "Processing conversations:  46%|████▌     | 942/2057 [2:47:32<3:10:04, 10.23s/it]"
     ]
    },
    {
     "name": "stdout",
     "output_type": "stream",
     "text": [
      "✅ Batch completed in 10.25s (0.205s per text)\n",
      "🚀 Attempting batch of 50 texts...\n"
     ]
    },
    {
     "name": "stderr",
     "output_type": "stream",
     "text": [
      "Processing conversations:  46%|████▌     | 943/2057 [2:47:42<3:08:46, 10.17s/it]"
     ]
    },
    {
     "name": "stdout",
     "output_type": "stream",
     "text": [
      "✅ Batch completed in 10.02s (0.200s per text)\n",
      "🚀 Attempting batch of 50 texts...\n"
     ]
    },
    {
     "name": "stderr",
     "output_type": "stream",
     "text": [
      "Processing conversations:  46%|████▌     | 944/2057 [2:47:52<3:09:56, 10.24s/it]"
     ]
    },
    {
     "name": "stdout",
     "output_type": "stream",
     "text": [
      "✅ Batch completed in 10.40s (0.208s per text)\n",
      "🚀 Attempting batch of 50 texts...\n"
     ]
    },
    {
     "name": "stderr",
     "output_type": "stream",
     "text": [
      "Processing conversations:  46%|████▌     | 945/2057 [2:48:02<3:08:39, 10.18s/it]"
     ]
    },
    {
     "name": "stdout",
     "output_type": "stream",
     "text": [
      "✅ Batch completed in 10.03s (0.201s per text)\n",
      "🚀 Attempting batch of 50 texts...\n"
     ]
    },
    {
     "name": "stderr",
     "output_type": "stream",
     "text": [
      "Processing conversations:  46%|████▌     | 946/2057 [2:48:13<3:11:22, 10.34s/it]"
     ]
    },
    {
     "name": "stdout",
     "output_type": "stream",
     "text": [
      "✅ Batch completed in 10.69s (0.214s per text)\n",
      "🚀 Attempting batch of 50 texts...\n"
     ]
    },
    {
     "name": "stderr",
     "output_type": "stream",
     "text": [
      "Processing conversations:  46%|████▌     | 947/2057 [2:48:23<3:09:05, 10.22s/it]"
     ]
    },
    {
     "name": "stdout",
     "output_type": "stream",
     "text": [
      "✅ Batch completed in 9.95s (0.199s per text)\n",
      "🚀 Attempting batch of 50 texts...\n"
     ]
    },
    {
     "name": "stderr",
     "output_type": "stream",
     "text": [
      "Processing conversations:  46%|████▌     | 948/2057 [2:48:33<3:09:08, 10.23s/it]"
     ]
    },
    {
     "name": "stdout",
     "output_type": "stream",
     "text": [
      "✅ Batch completed in 10.25s (0.205s per text)\n",
      "🚀 Attempting batch of 50 texts...\n"
     ]
    },
    {
     "name": "stderr",
     "output_type": "stream",
     "text": [
      "Processing conversations:  46%|████▌     | 949/2057 [2:48:44<3:11:19, 10.36s/it]"
     ]
    },
    {
     "name": "stdout",
     "output_type": "stream",
     "text": [
      "✅ Batch completed in 10.65s (0.213s per text)\n",
      "🚀 Attempting batch of 50 texts...\n"
     ]
    },
    {
     "name": "stderr",
     "output_type": "stream",
     "text": [
      "Processing conversations:  46%|████▌     | 950/2057 [2:48:54<3:11:58, 10.41s/it]"
     ]
    },
    {
     "name": "stdout",
     "output_type": "stream",
     "text": [
      "✅ Batch completed in 10.50s (0.210s per text)\n",
      "🚀 Attempting batch of 50 texts...\n"
     ]
    },
    {
     "name": "stderr",
     "output_type": "stream",
     "text": [
      "Processing conversations:  46%|████▌     | 951/2057 [2:49:04<3:09:41, 10.29s/it]"
     ]
    },
    {
     "name": "stdout",
     "output_type": "stream",
     "text": [
      "✅ Batch completed in 10.02s (0.200s per text)\n",
      "🚀 Attempting batch of 50 texts...\n"
     ]
    },
    {
     "name": "stderr",
     "output_type": "stream",
     "text": [
      "Processing conversations:  46%|████▋     | 952/2057 [2:49:14<3:06:53, 10.15s/it]"
     ]
    },
    {
     "name": "stdout",
     "output_type": "stream",
     "text": [
      "✅ Batch completed in 9.81s (0.196s per text)\n",
      "🚀 Attempting batch of 50 texts...\n"
     ]
    },
    {
     "name": "stderr",
     "output_type": "stream",
     "text": [
      "Processing conversations:  46%|████▋     | 953/2057 [2:49:24<3:06:31, 10.14s/it]"
     ]
    },
    {
     "name": "stdout",
     "output_type": "stream",
     "text": [
      "✅ Batch completed in 10.11s (0.202s per text)\n",
      "🚀 Attempting batch of 50 texts...\n"
     ]
    },
    {
     "name": "stderr",
     "output_type": "stream",
     "text": [
      "Processing conversations:  46%|████▋     | 954/2057 [2:49:34<3:06:03, 10.12s/it]"
     ]
    },
    {
     "name": "stdout",
     "output_type": "stream",
     "text": [
      "✅ Batch completed in 10.08s (0.202s per text)\n",
      "🚀 Attempting batch of 50 texts...\n"
     ]
    },
    {
     "name": "stderr",
     "output_type": "stream",
     "text": [
      "Processing conversations:  46%|████▋     | 955/2057 [2:49:44<3:05:41, 10.11s/it]"
     ]
    },
    {
     "name": "stdout",
     "output_type": "stream",
     "text": [
      "✅ Batch completed in 10.08s (0.202s per text)\n",
      "🚀 Attempting batch of 50 texts...\n"
     ]
    },
    {
     "name": "stderr",
     "output_type": "stream",
     "text": [
      "Processing conversations:  46%|████▋     | 956/2057 [2:49:55<3:08:39, 10.28s/it]"
     ]
    },
    {
     "name": "stdout",
     "output_type": "stream",
     "text": [
      "✅ Batch completed in 10.67s (0.213s per text)\n",
      "🚀 Attempting batch of 50 texts...\n"
     ]
    },
    {
     "name": "stderr",
     "output_type": "stream",
     "text": [
      "Processing conversations:  47%|████▋     | 957/2057 [2:50:06<3:11:43, 10.46s/it]"
     ]
    },
    {
     "name": "stdout",
     "output_type": "stream",
     "text": [
      "✅ Batch completed in 10.86s (0.217s per text)\n",
      "🚀 Attempting batch of 50 texts...\n"
     ]
    },
    {
     "name": "stderr",
     "output_type": "stream",
     "text": [
      "Processing conversations:  47%|████▋     | 958/2057 [2:50:16<3:09:00, 10.32s/it]"
     ]
    },
    {
     "name": "stdout",
     "output_type": "stream",
     "text": [
      "✅ Batch completed in 9.99s (0.200s per text)\n",
      "🚀 Attempting batch of 50 texts...\n"
     ]
    },
    {
     "name": "stderr",
     "output_type": "stream",
     "text": [
      "Processing conversations:  47%|████▋     | 959/2057 [2:50:26<3:07:18, 10.24s/it]"
     ]
    },
    {
     "name": "stdout",
     "output_type": "stream",
     "text": [
      "✅ Batch completed in 10.03s (0.201s per text)\n",
      "🚀 Attempting batch of 50 texts...\n"
     ]
    },
    {
     "name": "stderr",
     "output_type": "stream",
     "text": [
      "Processing conversations:  47%|████▋     | 960/2057 [2:50:36<3:06:45, 10.21s/it]"
     ]
    },
    {
     "name": "stdout",
     "output_type": "stream",
     "text": [
      "✅ Batch completed in 10.16s (0.203s per text)\n",
      "🚀 Attempting batch of 50 texts...\n"
     ]
    },
    {
     "name": "stderr",
     "output_type": "stream",
     "text": [
      "Processing conversations:  47%|████▋     | 961/2057 [2:50:46<3:06:32, 10.21s/it]"
     ]
    },
    {
     "name": "stdout",
     "output_type": "stream",
     "text": [
      "✅ Batch completed in 10.20s (0.204s per text)\n",
      "🚀 Attempting batch of 50 texts...\n"
     ]
    },
    {
     "name": "stderr",
     "output_type": "stream",
     "text": [
      "Processing conversations:  47%|████▋     | 962/2057 [2:50:56<3:04:27, 10.11s/it]"
     ]
    },
    {
     "name": "stdout",
     "output_type": "stream",
     "text": [
      "✅ Batch completed in 9.86s (0.197s per text)\n",
      "🚀 Attempting batch of 50 texts...\n"
     ]
    },
    {
     "name": "stderr",
     "output_type": "stream",
     "text": [
      "Processing conversations:  47%|████▋     | 963/2057 [2:51:06<3:03:52, 10.08s/it]"
     ]
    },
    {
     "name": "stdout",
     "output_type": "stream",
     "text": [
      "✅ Batch completed in 10.02s (0.200s per text)\n",
      "🚀 Attempting batch of 50 texts...\n"
     ]
    },
    {
     "name": "stderr",
     "output_type": "stream",
     "text": [
      "Processing conversations:  47%|████▋     | 964/2057 [2:51:16<3:05:08, 10.16s/it]"
     ]
    },
    {
     "name": "stdout",
     "output_type": "stream",
     "text": [
      "✅ Batch completed in 10.34s (0.207s per text)\n",
      "🚀 Attempting batch of 50 texts...\n"
     ]
    },
    {
     "name": "stderr",
     "output_type": "stream",
     "text": [
      "Processing conversations:  47%|████▋     | 965/2057 [2:51:26<3:03:52, 10.10s/it]"
     ]
    },
    {
     "name": "stdout",
     "output_type": "stream",
     "text": [
      "✅ Batch completed in 9.96s (0.199s per text)\n",
      "🚀 Attempting batch of 50 texts...\n"
     ]
    },
    {
     "name": "stderr",
     "output_type": "stream",
     "text": [
      "Processing conversations:  47%|████▋     | 966/2057 [2:51:36<3:02:43, 10.05s/it]"
     ]
    },
    {
     "name": "stdout",
     "output_type": "stream",
     "text": [
      "✅ Batch completed in 9.92s (0.198s per text)\n",
      "🚀 Attempting batch of 50 texts...\n"
     ]
    },
    {
     "name": "stderr",
     "output_type": "stream",
     "text": [
      "Processing conversations:  47%|████▋     | 967/2057 [2:51:46<3:02:42, 10.06s/it]"
     ]
    },
    {
     "name": "stdout",
     "output_type": "stream",
     "text": [
      "✅ Batch completed in 10.07s (0.201s per text)\n",
      "🚀 Attempting batch of 50 texts...\n"
     ]
    },
    {
     "name": "stderr",
     "output_type": "stream",
     "text": [
      "Processing conversations:  47%|████▋     | 968/2057 [2:51:57<3:03:32, 10.11s/it]"
     ]
    },
    {
     "name": "stdout",
     "output_type": "stream",
     "text": [
      "✅ Batch completed in 10.23s (0.205s per text)\n",
      "🚀 Attempting batch of 50 texts...\n"
     ]
    },
    {
     "name": "stderr",
     "output_type": "stream",
     "text": [
      "Processing conversations:  47%|████▋     | 969/2057 [2:52:07<3:02:30, 10.06s/it]"
     ]
    },
    {
     "name": "stdout",
     "output_type": "stream",
     "text": [
      "✅ Batch completed in 9.95s (0.199s per text)\n",
      "🚀 Attempting batch of 50 texts...\n"
     ]
    },
    {
     "name": "stderr",
     "output_type": "stream",
     "text": [
      "Processing conversations:  47%|████▋     | 970/2057 [2:52:17<3:03:21, 10.12s/it]"
     ]
    },
    {
     "name": "stdout",
     "output_type": "stream",
     "text": [
      "✅ Batch completed in 10.25s (0.205s per text)\n",
      "🚀 Attempting batch of 50 texts...\n"
     ]
    },
    {
     "name": "stderr",
     "output_type": "stream",
     "text": [
      "Processing conversations:  47%|████▋     | 971/2057 [2:52:27<3:04:42, 10.20s/it]"
     ]
    },
    {
     "name": "stdout",
     "output_type": "stream",
     "text": [
      "✅ Batch completed in 10.39s (0.208s per text)\n",
      "🚀 Attempting batch of 50 texts...\n"
     ]
    },
    {
     "name": "stderr",
     "output_type": "stream",
     "text": [
      "Processing conversations:  47%|████▋     | 972/2057 [2:52:38<3:06:03, 10.29s/it]"
     ]
    },
    {
     "name": "stdout",
     "output_type": "stream",
     "text": [
      "✅ Batch completed in 10.48s (0.210s per text)\n",
      "🚀 Attempting batch of 50 texts...\n"
     ]
    },
    {
     "name": "stderr",
     "output_type": "stream",
     "text": [
      "Processing conversations:  47%|████▋     | 973/2057 [2:52:49<3:09:14, 10.47s/it]"
     ]
    },
    {
     "name": "stdout",
     "output_type": "stream",
     "text": [
      "✅ Batch completed in 10.90s (0.218s per text)\n",
      "🚀 Attempting batch of 50 texts...\n"
     ]
    },
    {
     "name": "stderr",
     "output_type": "stream",
     "text": [
      "Processing conversations:  47%|████▋     | 974/2057 [2:52:59<3:10:21, 10.55s/it]"
     ]
    },
    {
     "name": "stdout",
     "output_type": "stream",
     "text": [
      "✅ Batch completed in 10.70s (0.214s per text)\n",
      "🚀 Attempting batch of 50 texts...\n"
     ]
    },
    {
     "name": "stderr",
     "output_type": "stream",
     "text": [
      "Processing conversations:  47%|████▋     | 975/2057 [2:53:10<3:09:34, 10.51s/it]"
     ]
    },
    {
     "name": "stdout",
     "output_type": "stream",
     "text": [
      "✅ Batch completed in 10.43s (0.209s per text)\n",
      "🚀 Attempting batch of 50 texts...\n"
     ]
    },
    {
     "name": "stderr",
     "output_type": "stream",
     "text": [
      "Processing conversations:  47%|████▋     | 976/2057 [2:53:20<3:06:06, 10.33s/it]"
     ]
    },
    {
     "name": "stdout",
     "output_type": "stream",
     "text": [
      "✅ Batch completed in 9.90s (0.198s per text)\n",
      "🚀 Attempting batch of 50 texts...\n"
     ]
    },
    {
     "name": "stderr",
     "output_type": "stream",
     "text": [
      "Processing conversations:  47%|████▋     | 977/2057 [2:53:30<3:03:36, 10.20s/it]"
     ]
    },
    {
     "name": "stdout",
     "output_type": "stream",
     "text": [
      "✅ Batch completed in 9.89s (0.198s per text)\n",
      "🚀 Attempting batch of 50 texts...\n"
     ]
    },
    {
     "name": "stderr",
     "output_type": "stream",
     "text": [
      "Processing conversations:  48%|████▊     | 978/2057 [2:53:40<3:03:30, 10.20s/it]"
     ]
    },
    {
     "name": "stdout",
     "output_type": "stream",
     "text": [
      "✅ Batch completed in 10.21s (0.204s per text)\n",
      "🚀 Attempting batch of 50 texts...\n"
     ]
    },
    {
     "name": "stderr",
     "output_type": "stream",
     "text": [
      "Processing conversations:  48%|████▊     | 979/2057 [2:53:50<3:03:46, 10.23s/it]"
     ]
    },
    {
     "name": "stdout",
     "output_type": "stream",
     "text": [
      "✅ Batch completed in 10.28s (0.206s per text)\n",
      "🚀 Attempting batch of 50 texts...\n"
     ]
    },
    {
     "name": "stderr",
     "output_type": "stream",
     "text": [
      "Processing conversations:  48%|████▊     | 980/2057 [2:54:00<3:03:24, 10.22s/it]"
     ]
    },
    {
     "name": "stdout",
     "output_type": "stream",
     "text": [
      "✅ Batch completed in 10.18s (0.204s per text)\n",
      "🚀 Attempting batch of 50 texts...\n"
     ]
    },
    {
     "name": "stderr",
     "output_type": "stream",
     "text": [
      "Processing conversations:  48%|████▊     | 981/2057 [2:54:10<3:02:37, 10.18s/it]"
     ]
    },
    {
     "name": "stdout",
     "output_type": "stream",
     "text": [
      "✅ Batch completed in 10.09s (0.202s per text)\n",
      "🚀 Attempting batch of 50 texts...\n"
     ]
    },
    {
     "name": "stderr",
     "output_type": "stream",
     "text": [
      "Processing conversations:  48%|████▊     | 982/2057 [2:54:21<3:02:29, 10.19s/it]"
     ]
    },
    {
     "name": "stdout",
     "output_type": "stream",
     "text": [
      "✅ Batch completed in 10.18s (0.204s per text)\n",
      "🚀 Attempting batch of 50 texts...\n"
     ]
    },
    {
     "name": "stderr",
     "output_type": "stream",
     "text": [
      "Processing conversations:  48%|████▊     | 983/2057 [2:54:31<3:02:55, 10.22s/it]"
     ]
    },
    {
     "name": "stdout",
     "output_type": "stream",
     "text": [
      "✅ Batch completed in 10.29s (0.206s per text)\n",
      "🚀 Attempting batch of 50 texts...\n"
     ]
    },
    {
     "name": "stderr",
     "output_type": "stream",
     "text": [
      "Processing conversations:  48%|████▊     | 984/2057 [2:54:41<3:02:37, 10.21s/it]"
     ]
    },
    {
     "name": "stdout",
     "output_type": "stream",
     "text": [
      "✅ Batch completed in 10.18s (0.204s per text)\n",
      "🚀 Attempting batch of 50 texts...\n"
     ]
    },
    {
     "name": "stderr",
     "output_type": "stream",
     "text": [
      "Processing conversations:  48%|████▊     | 985/2057 [2:54:52<3:04:12, 10.31s/it]"
     ]
    },
    {
     "name": "stdout",
     "output_type": "stream",
     "text": [
      "✅ Batch completed in 10.53s (0.211s per text)\n",
      "🚀 Attempting batch of 50 texts...\n"
     ]
    },
    {
     "name": "stderr",
     "output_type": "stream",
     "text": [
      "Processing conversations:  48%|████▊     | 986/2057 [2:55:02<3:05:46, 10.41s/it]"
     ]
    },
    {
     "name": "stdout",
     "output_type": "stream",
     "text": [
      "✅ Batch completed in 10.62s (0.212s per text)\n",
      "🚀 Attempting batch of 50 texts...\n"
     ]
    },
    {
     "name": "stderr",
     "output_type": "stream",
     "text": [
      "Processing conversations:  48%|████▊     | 987/2057 [2:55:13<3:05:23, 10.40s/it]"
     ]
    },
    {
     "name": "stdout",
     "output_type": "stream",
     "text": [
      "✅ Batch completed in 10.36s (0.207s per text)\n",
      "🚀 Attempting batch of 50 texts...\n"
     ]
    },
    {
     "name": "stderr",
     "output_type": "stream",
     "text": [
      "Processing conversations:  48%|████▊     | 988/2057 [2:55:23<3:04:08, 10.34s/it]"
     ]
    },
    {
     "name": "stdout",
     "output_type": "stream",
     "text": [
      "✅ Batch completed in 10.19s (0.204s per text)\n",
      "🚀 Attempting batch of 50 texts...\n"
     ]
    },
    {
     "name": "stderr",
     "output_type": "stream",
     "text": [
      "Processing conversations:  48%|████▊     | 989/2057 [2:55:33<3:04:09, 10.35s/it]"
     ]
    },
    {
     "name": "stdout",
     "output_type": "stream",
     "text": [
      "✅ Batch completed in 10.36s (0.207s per text)\n",
      "🚀 Attempting batch of 50 texts...\n"
     ]
    },
    {
     "name": "stderr",
     "output_type": "stream",
     "text": [
      "Processing conversations:  48%|████▊     | 990/2057 [2:55:43<3:02:55, 10.29s/it]"
     ]
    },
    {
     "name": "stdout",
     "output_type": "stream",
     "text": [
      "✅ Batch completed in 10.14s (0.203s per text)\n",
      "🚀 Attempting batch of 50 texts...\n"
     ]
    },
    {
     "name": "stderr",
     "output_type": "stream",
     "text": [
      "Processing conversations:  48%|████▊     | 991/2057 [2:55:54<3:02:45, 10.29s/it]"
     ]
    },
    {
     "name": "stdout",
     "output_type": "stream",
     "text": [
      "✅ Batch completed in 10.28s (0.206s per text)\n",
      "🚀 Attempting batch of 50 texts...\n"
     ]
    },
    {
     "name": "stderr",
     "output_type": "stream",
     "text": [
      "Processing conversations:  48%|████▊     | 992/2057 [2:56:04<3:01:28, 10.22s/it]"
     ]
    },
    {
     "name": "stdout",
     "output_type": "stream",
     "text": [
      "✅ Batch completed in 10.07s (0.201s per text)\n",
      "🚀 Attempting batch of 50 texts...\n"
     ]
    },
    {
     "name": "stderr",
     "output_type": "stream",
     "text": [
      "Processing conversations:  48%|████▊     | 993/2057 [2:56:14<3:01:32, 10.24s/it]"
     ]
    },
    {
     "name": "stdout",
     "output_type": "stream",
     "text": [
      "✅ Batch completed in 10.27s (0.205s per text)\n",
      "🚀 Attempting batch of 50 texts...\n"
     ]
    },
    {
     "name": "stderr",
     "output_type": "stream",
     "text": [
      "Processing conversations:  48%|████▊     | 994/2057 [2:56:24<3:00:48, 10.21s/it]"
     ]
    },
    {
     "name": "stdout",
     "output_type": "stream",
     "text": [
      "✅ Batch completed in 10.12s (0.202s per text)\n",
      "🚀 Attempting batch of 50 texts...\n"
     ]
    },
    {
     "name": "stderr",
     "output_type": "stream",
     "text": [
      "Processing conversations:  48%|████▊     | 995/2057 [2:56:34<2:58:48, 10.10s/it]"
     ]
    },
    {
     "name": "stdout",
     "output_type": "stream",
     "text": [
      "✅ Batch completed in 9.85s (0.197s per text)\n",
      "🚀 Attempting batch of 50 texts...\n"
     ]
    },
    {
     "name": "stderr",
     "output_type": "stream",
     "text": [
      "Processing conversations:  48%|████▊     | 996/2057 [2:56:44<2:58:33, 10.10s/it]"
     ]
    },
    {
     "name": "stdout",
     "output_type": "stream",
     "text": [
      "✅ Batch completed in 10.08s (0.202s per text)\n",
      "🚀 Attempting batch of 50 texts...\n"
     ]
    },
    {
     "name": "stderr",
     "output_type": "stream",
     "text": [
      "Processing conversations:  48%|████▊     | 997/2057 [2:56:54<2:59:12, 10.14s/it]"
     ]
    },
    {
     "name": "stdout",
     "output_type": "stream",
     "text": [
      "✅ Batch completed in 10.24s (0.205s per text)\n",
      "🚀 Attempting batch of 50 texts...\n"
     ]
    },
    {
     "name": "stderr",
     "output_type": "stream",
     "text": [
      "Processing conversations:  49%|████▊     | 998/2057 [2:57:05<3:00:18, 10.22s/it]"
     ]
    },
    {
     "name": "stdout",
     "output_type": "stream",
     "text": [
      "✅ Batch completed in 10.37s (0.207s per text)\n",
      "🚀 Attempting batch of 50 texts...\n"
     ]
    },
    {
     "name": "stderr",
     "output_type": "stream",
     "text": [
      "Processing conversations:  49%|████▊     | 999/2057 [2:57:15<2:59:42, 10.19s/it]"
     ]
    },
    {
     "name": "stdout",
     "output_type": "stream",
     "text": [
      "✅ Batch completed in 10.12s (0.202s per text)\n",
      "🚀 Attempting batch of 50 texts...\n"
     ]
    },
    {
     "name": "stderr",
     "output_type": "stream",
     "text": [
      "Processing conversations:  49%|████▊     | 1000/2057 [2:57:25<3:00:20, 10.24s/it]"
     ]
    },
    {
     "name": "stdout",
     "output_type": "stream",
     "text": [
      "✅ Batch completed in 10.33s (0.207s per text)\n",
      "🚀 Attempting batch of 50 texts...\n"
     ]
    },
    {
     "name": "stderr",
     "output_type": "stream",
     "text": [
      "Processing conversations:  49%|████▊     | 1001/2057 [2:57:35<2:59:59, 10.23s/it]"
     ]
    },
    {
     "name": "stdout",
     "output_type": "stream",
     "text": [
      "✅ Batch completed in 10.19s (0.204s per text)\n",
      "🚀 Attempting batch of 50 texts...\n"
     ]
    },
    {
     "name": "stderr",
     "output_type": "stream",
     "text": [
      "Processing conversations:  49%|████▊     | 1002/2057 [2:57:46<3:01:10, 10.30s/it]"
     ]
    },
    {
     "name": "stdout",
     "output_type": "stream",
     "text": [
      "✅ Batch completed in 10.48s (0.210s per text)\n",
      "🚀 Attempting batch of 50 texts...\n"
     ]
    },
    {
     "name": "stderr",
     "output_type": "stream",
     "text": [
      "Processing conversations:  49%|████▉     | 1003/2057 [2:57:57<3:03:57, 10.47s/it]"
     ]
    },
    {
     "name": "stdout",
     "output_type": "stream",
     "text": [
      "✅ Batch completed in 10.86s (0.217s per text)\n",
      "🚀 Attempting batch of 50 texts...\n"
     ]
    },
    {
     "name": "stderr",
     "output_type": "stream",
     "text": [
      "Processing conversations:  49%|████▉     | 1004/2057 [2:58:07<3:02:48, 10.42s/it]"
     ]
    },
    {
     "name": "stdout",
     "output_type": "stream",
     "text": [
      "✅ Batch completed in 10.27s (0.205s per text)\n",
      "🚀 Attempting batch of 50 texts...\n"
     ]
    },
    {
     "name": "stderr",
     "output_type": "stream",
     "text": [
      "Processing conversations:  49%|████▉     | 1005/2057 [2:58:17<3:01:26, 10.35s/it]"
     ]
    },
    {
     "name": "stdout",
     "output_type": "stream",
     "text": [
      "✅ Batch completed in 10.18s (0.204s per text)\n",
      "🚀 Attempting batch of 50 texts...\n"
     ]
    },
    {
     "name": "stderr",
     "output_type": "stream",
     "text": [
      "Processing conversations:  49%|████▉     | 1006/2057 [2:58:27<3:00:25, 10.30s/it]"
     ]
    },
    {
     "name": "stdout",
     "output_type": "stream",
     "text": [
      "✅ Batch completed in 10.18s (0.204s per text)\n",
      "🚀 Attempting batch of 50 texts...\n"
     ]
    },
    {
     "name": "stderr",
     "output_type": "stream",
     "text": [
      "Processing conversations:  49%|████▉     | 1007/2057 [2:58:38<3:00:41, 10.33s/it]"
     ]
    },
    {
     "name": "stdout",
     "output_type": "stream",
     "text": [
      "✅ Batch completed in 10.38s (0.208s per text)\n",
      "🚀 Attempting batch of 50 texts...\n"
     ]
    },
    {
     "name": "stderr",
     "output_type": "stream",
     "text": [
      "Processing conversations:  49%|████▉     | 1008/2057 [2:58:48<3:00:09, 10.30s/it]"
     ]
    },
    {
     "name": "stdout",
     "output_type": "stream",
     "text": [
      "✅ Batch completed in 10.25s (0.205s per text)\n",
      "🚀 Attempting batch of 50 texts...\n"
     ]
    },
    {
     "name": "stderr",
     "output_type": "stream",
     "text": [
      "Processing conversations:  49%|████▉     | 1009/2057 [2:58:59<3:02:30, 10.45s/it]"
     ]
    },
    {
     "name": "stdout",
     "output_type": "stream",
     "text": [
      "✅ Batch completed in 10.78s (0.216s per text)\n",
      "🚀 Attempting batch of 50 texts...\n"
     ]
    },
    {
     "name": "stderr",
     "output_type": "stream",
     "text": [
      "Processing conversations:  49%|████▉     | 1010/2057 [2:59:09<3:03:14, 10.50s/it]"
     ]
    },
    {
     "name": "stdout",
     "output_type": "stream",
     "text": [
      "✅ Batch completed in 10.61s (0.212s per text)\n",
      "🚀 Attempting batch of 50 texts...\n"
     ]
    },
    {
     "name": "stderr",
     "output_type": "stream",
     "text": [
      "Processing conversations:  49%|████▉     | 1011/2057 [2:59:20<3:02:14, 10.45s/it]"
     ]
    },
    {
     "name": "stdout",
     "output_type": "stream",
     "text": [
      "✅ Batch completed in 10.34s (0.207s per text)\n",
      "🚀 Attempting batch of 50 texts...\n"
     ]
    },
    {
     "name": "stderr",
     "output_type": "stream",
     "text": [
      "Processing conversations:  49%|████▉     | 1012/2057 [2:59:30<3:02:02, 10.45s/it]"
     ]
    },
    {
     "name": "stdout",
     "output_type": "stream",
     "text": [
      "✅ Batch completed in 10.44s (0.209s per text)\n",
      "🚀 Attempting batch of 50 texts...\n"
     ]
    },
    {
     "name": "stderr",
     "output_type": "stream",
     "text": [
      "Processing conversations:  49%|████▉     | 1013/2057 [2:59:40<2:59:58, 10.34s/it]"
     ]
    },
    {
     "name": "stdout",
     "output_type": "stream",
     "text": [
      "✅ Batch completed in 10.08s (0.202s per text)\n",
      "🚀 Attempting batch of 50 texts...\n"
     ]
    },
    {
     "name": "stderr",
     "output_type": "stream",
     "text": [
      "Processing conversations:  49%|████▉     | 1014/2057 [2:59:51<3:01:43, 10.45s/it]"
     ]
    },
    {
     "name": "stdout",
     "output_type": "stream",
     "text": [
      "✅ Batch completed in 10.70s (0.214s per text)\n",
      "🚀 Attempting batch of 50 texts...\n"
     ]
    },
    {
     "name": "stderr",
     "output_type": "stream",
     "text": [
      "Processing conversations:  49%|████▉     | 1015/2057 [3:00:01<3:01:01, 10.42s/it]"
     ]
    },
    {
     "name": "stdout",
     "output_type": "stream",
     "text": [
      "✅ Batch completed in 10.34s (0.207s per text)\n",
      "🚀 Attempting batch of 50 texts...\n"
     ]
    },
    {
     "name": "stderr",
     "output_type": "stream",
     "text": [
      "Processing conversations:  49%|████▉     | 1016/2057 [3:00:12<2:59:56, 10.37s/it]"
     ]
    },
    {
     "name": "stdout",
     "output_type": "stream",
     "text": [
      "✅ Batch completed in 10.24s (0.205s per text)\n",
      "🚀 Attempting batch of 50 texts...\n"
     ]
    },
    {
     "name": "stderr",
     "output_type": "stream",
     "text": [
      "Processing conversations:  49%|████▉     | 1017/2057 [3:00:22<3:00:25, 10.41s/it]"
     ]
    },
    {
     "name": "stdout",
     "output_type": "stream",
     "text": [
      "✅ Batch completed in 10.49s (0.210s per text)\n",
      "🚀 Attempting batch of 50 texts...\n"
     ]
    },
    {
     "name": "stderr",
     "output_type": "stream",
     "text": [
      "Processing conversations:  49%|████▉     | 1018/2057 [3:00:33<3:04:49, 10.67s/it]"
     ]
    },
    {
     "name": "stdout",
     "output_type": "stream",
     "text": [
      "✅ Batch completed in 11.28s (0.226s per text)\n",
      "🚀 Attempting batch of 50 texts...\n"
     ]
    },
    {
     "name": "stderr",
     "output_type": "stream",
     "text": [
      "Processing conversations:  50%|████▉     | 1019/2057 [3:00:44<3:04:23, 10.66s/it]"
     ]
    },
    {
     "name": "stdout",
     "output_type": "stream",
     "text": [
      "✅ Batch completed in 10.62s (0.212s per text)\n",
      "🚀 Attempting batch of 50 texts...\n"
     ]
    },
    {
     "name": "stderr",
     "output_type": "stream",
     "text": [
      "Processing conversations:  50%|████▉     | 1020/2057 [3:00:56<3:09:15, 10.95s/it]"
     ]
    },
    {
     "name": "stdout",
     "output_type": "stream",
     "text": [
      "✅ Batch completed in 11.62s (0.232s per text)\n",
      "🚀 Attempting batch of 50 texts...\n"
     ]
    },
    {
     "name": "stderr",
     "output_type": "stream",
     "text": [
      "Processing conversations:  50%|████▉     | 1021/2057 [3:01:07<3:09:50, 10.99s/it]"
     ]
    },
    {
     "name": "stdout",
     "output_type": "stream",
     "text": [
      "✅ Batch completed in 11.09s (0.222s per text)\n",
      "🚀 Attempting batch of 50 texts...\n"
     ]
    },
    {
     "name": "stderr",
     "output_type": "stream",
     "text": [
      "Processing conversations:  50%|████▉     | 1022/2057 [3:01:18<3:08:37, 10.93s/it]"
     ]
    },
    {
     "name": "stdout",
     "output_type": "stream",
     "text": [
      "✅ Batch completed in 10.79s (0.216s per text)\n",
      "🚀 Attempting batch of 50 texts...\n"
     ]
    },
    {
     "name": "stderr",
     "output_type": "stream",
     "text": [
      "Processing conversations:  50%|████▉     | 1023/2057 [3:01:28<3:07:49, 10.90s/it]"
     ]
    },
    {
     "name": "stdout",
     "output_type": "stream",
     "text": [
      "✅ Batch completed in 10.81s (0.216s per text)\n",
      "🚀 Attempting batch of 50 texts...\n"
     ]
    },
    {
     "name": "stderr",
     "output_type": "stream",
     "text": [
      "Processing conversations:  50%|████▉     | 1024/2057 [3:01:40<3:09:14, 10.99s/it]"
     ]
    },
    {
     "name": "stdout",
     "output_type": "stream",
     "text": [
      "✅ Batch completed in 11.20s (0.224s per text)\n",
      "🚀 Attempting batch of 50 texts...\n"
     ]
    },
    {
     "name": "stderr",
     "output_type": "stream",
     "text": [
      "Processing conversations:  50%|████▉     | 1025/2057 [3:01:51<3:09:36, 11.02s/it]"
     ]
    },
    {
     "name": "stdout",
     "output_type": "stream",
     "text": [
      "✅ Batch completed in 11.09s (0.222s per text)\n",
      "🚀 Attempting batch of 50 texts...\n"
     ]
    },
    {
     "name": "stderr",
     "output_type": "stream",
     "text": [
      "Processing conversations:  50%|████▉     | 1026/2057 [3:02:02<3:08:12, 10.95s/it]"
     ]
    },
    {
     "name": "stdout",
     "output_type": "stream",
     "text": [
      "✅ Batch completed in 10.78s (0.216s per text)\n",
      "🚀 Attempting batch of 50 texts...\n"
     ]
    },
    {
     "name": "stderr",
     "output_type": "stream",
     "text": [
      "Processing conversations:  50%|████▉     | 1027/2057 [3:02:13<3:09:10, 11.02s/it]"
     ]
    },
    {
     "name": "stdout",
     "output_type": "stream",
     "text": [
      "✅ Batch completed in 11.17s (0.223s per text)\n",
      "🚀 Attempting batch of 50 texts...\n"
     ]
    },
    {
     "name": "stderr",
     "output_type": "stream",
     "text": [
      "Processing conversations:  50%|████▉     | 1028/2057 [3:02:24<3:12:42, 11.24s/it]"
     ]
    },
    {
     "name": "stdout",
     "output_type": "stream",
     "text": [
      "✅ Batch completed in 11.73s (0.235s per text)\n",
      "🚀 Attempting batch of 50 texts...\n"
     ]
    },
    {
     "name": "stderr",
     "output_type": "stream",
     "text": [
      "Processing conversations:  50%|█████     | 1029/2057 [3:02:35<3:07:19, 10.93s/it]"
     ]
    },
    {
     "name": "stdout",
     "output_type": "stream",
     "text": [
      "✅ Batch completed in 10.22s (0.204s per text)\n",
      "🚀 Attempting batch of 50 texts...\n"
     ]
    },
    {
     "name": "stderr",
     "output_type": "stream",
     "text": [
      "Processing conversations:  50%|█████     | 1030/2057 [3:02:45<3:04:52, 10.80s/it]"
     ]
    },
    {
     "name": "stdout",
     "output_type": "stream",
     "text": [
      "✅ Batch completed in 10.48s (0.210s per text)\n",
      "🚀 Attempting batch of 50 texts...\n"
     ]
    },
    {
     "name": "stderr",
     "output_type": "stream",
     "text": [
      "Processing conversations:  50%|█████     | 1031/2057 [3:02:56<3:04:25, 10.79s/it]"
     ]
    },
    {
     "name": "stdout",
     "output_type": "stream",
     "text": [
      "✅ Batch completed in 10.74s (0.215s per text)\n",
      "🚀 Attempting batch of 50 texts...\n"
     ]
    },
    {
     "name": "stderr",
     "output_type": "stream",
     "text": [
      "Processing conversations:  50%|█████     | 1032/2057 [3:03:06<2:59:31, 10.51s/it]"
     ]
    },
    {
     "name": "stdout",
     "output_type": "stream",
     "text": [
      "✅ Batch completed in 9.86s (0.197s per text)\n",
      "🚀 Attempting batch of 50 texts...\n"
     ]
    },
    {
     "name": "stderr",
     "output_type": "stream",
     "text": [
      "Processing conversations:  50%|█████     | 1033/2057 [3:03:16<2:55:59, 10.31s/it]"
     ]
    },
    {
     "name": "stdout",
     "output_type": "stream",
     "text": [
      "✅ Batch completed in 9.84s (0.197s per text)\n",
      "🚀 Attempting batch of 50 texts...\n"
     ]
    },
    {
     "name": "stderr",
     "output_type": "stream",
     "text": [
      "Processing conversations:  50%|█████     | 1034/2057 [3:03:26<2:54:52, 10.26s/it]"
     ]
    },
    {
     "name": "stdout",
     "output_type": "stream",
     "text": [
      "✅ Batch completed in 10.12s (0.202s per text)\n",
      "🚀 Attempting batch of 50 texts...\n"
     ]
    },
    {
     "name": "stderr",
     "output_type": "stream",
     "text": [
      "Processing conversations:  50%|█████     | 1035/2057 [3:03:36<2:54:54, 10.27s/it]"
     ]
    },
    {
     "name": "stdout",
     "output_type": "stream",
     "text": [
      "✅ Batch completed in 10.29s (0.206s per text)\n",
      "🚀 Attempting batch of 50 texts...\n"
     ]
    },
    {
     "name": "stderr",
     "output_type": "stream",
     "text": [
      "Processing conversations:  50%|█████     | 1036/2057 [3:03:47<2:57:23, 10.42s/it]"
     ]
    },
    {
     "name": "stdout",
     "output_type": "stream",
     "text": [
      "✅ Batch completed in 10.78s (0.216s per text)\n",
      "🚀 Attempting batch of 50 texts...\n"
     ]
    },
    {
     "name": "stderr",
     "output_type": "stream",
     "text": [
      "Processing conversations:  50%|█████     | 1037/2057 [3:03:57<2:58:16, 10.49s/it]"
     ]
    },
    {
     "name": "stdout",
     "output_type": "stream",
     "text": [
      "✅ Batch completed in 10.63s (0.213s per text)\n",
      "🚀 Attempting batch of 50 texts...\n"
     ]
    },
    {
     "name": "stderr",
     "output_type": "stream",
     "text": [
      "Processing conversations:  50%|█████     | 1038/2057 [3:04:08<2:57:05, 10.43s/it]"
     ]
    },
    {
     "name": "stdout",
     "output_type": "stream",
     "text": [
      "✅ Batch completed in 10.28s (0.206s per text)\n",
      "🚀 Attempting batch of 50 texts...\n"
     ]
    },
    {
     "name": "stderr",
     "output_type": "stream",
     "text": [
      "Processing conversations:  51%|█████     | 1039/2057 [3:04:18<2:56:22, 10.40s/it]"
     ]
    },
    {
     "name": "stdout",
     "output_type": "stream",
     "text": [
      "✅ Batch completed in 10.31s (0.206s per text)\n",
      "🚀 Attempting batch of 50 texts...\n"
     ]
    },
    {
     "name": "stderr",
     "output_type": "stream",
     "text": [
      "Processing conversations:  51%|█████     | 1040/2057 [3:04:28<2:55:30, 10.35s/it]"
     ]
    },
    {
     "name": "stdout",
     "output_type": "stream",
     "text": [
      "✅ Batch completed in 10.25s (0.205s per text)\n",
      "🚀 Attempting batch of 50 texts...\n"
     ]
    },
    {
     "name": "stderr",
     "output_type": "stream",
     "text": [
      "Processing conversations:  51%|█████     | 1041/2057 [3:04:39<2:54:33, 10.31s/it]"
     ]
    },
    {
     "name": "stdout",
     "output_type": "stream",
     "text": [
      "✅ Batch completed in 10.19s (0.204s per text)\n",
      "🚀 Attempting batch of 50 texts...\n"
     ]
    },
    {
     "name": "stderr",
     "output_type": "stream",
     "text": [
      "Processing conversations:  51%|█████     | 1042/2057 [3:04:49<2:56:05, 10.41s/it]"
     ]
    },
    {
     "name": "stdout",
     "output_type": "stream",
     "text": [
      "✅ Batch completed in 10.64s (0.213s per text)\n",
      "🚀 Attempting batch of 50 texts...\n"
     ]
    },
    {
     "name": "stderr",
     "output_type": "stream",
     "text": [
      "Processing conversations:  51%|█████     | 1043/2057 [3:05:00<2:57:53, 10.53s/it]"
     ]
    },
    {
     "name": "stdout",
     "output_type": "stream",
     "text": [
      "✅ Batch completed in 10.79s (0.216s per text)\n",
      "🚀 Attempting batch of 50 texts...\n"
     ]
    },
    {
     "name": "stderr",
     "output_type": "stream",
     "text": [
      "Processing conversations:  51%|█████     | 1044/2057 [3:05:11<2:57:56, 10.54s/it]"
     ]
    },
    {
     "name": "stdout",
     "output_type": "stream",
     "text": [
      "✅ Batch completed in 10.57s (0.211s per text)\n",
      "🚀 Attempting batch of 50 texts...\n"
     ]
    },
    {
     "name": "stderr",
     "output_type": "stream",
     "text": [
      "Processing conversations:  51%|█████     | 1045/2057 [3:05:21<2:59:42, 10.65s/it]"
     ]
    },
    {
     "name": "stdout",
     "output_type": "stream",
     "text": [
      "✅ Batch completed in 10.92s (0.218s per text)\n",
      "🚀 Attempting batch of 50 texts...\n"
     ]
    },
    {
     "name": "stderr",
     "output_type": "stream",
     "text": [
      "Processing conversations:  51%|█████     | 1046/2057 [3:05:32<3:00:22, 10.70s/it]"
     ]
    },
    {
     "name": "stdout",
     "output_type": "stream",
     "text": [
      "✅ Batch completed in 10.82s (0.216s per text)\n",
      "🚀 Attempting batch of 50 texts...\n"
     ]
    },
    {
     "name": "stderr",
     "output_type": "stream",
     "text": [
      "Processing conversations:  51%|█████     | 1047/2057 [3:05:43<3:00:38, 10.73s/it]"
     ]
    },
    {
     "name": "stdout",
     "output_type": "stream",
     "text": [
      "✅ Batch completed in 10.79s (0.216s per text)\n",
      "🚀 Attempting batch of 50 texts...\n"
     ]
    },
    {
     "name": "stderr",
     "output_type": "stream",
     "text": [
      "Processing conversations:  51%|█████     | 1048/2057 [3:05:54<3:02:41, 10.86s/it]"
     ]
    },
    {
     "name": "stdout",
     "output_type": "stream",
     "text": [
      "✅ Batch completed in 11.17s (0.223s per text)\n",
      "🚀 Attempting batch of 50 texts...\n"
     ]
    },
    {
     "name": "stderr",
     "output_type": "stream",
     "text": [
      "Processing conversations:  51%|█████     | 1049/2057 [3:06:05<3:03:26, 10.92s/it]"
     ]
    },
    {
     "name": "stdout",
     "output_type": "stream",
     "text": [
      "✅ Batch completed in 11.04s (0.221s per text)\n",
      "🚀 Attempting batch of 50 texts...\n"
     ]
    },
    {
     "name": "stderr",
     "output_type": "stream",
     "text": [
      "Processing conversations:  51%|█████     | 1050/2057 [3:06:16<3:02:26, 10.87s/it]"
     ]
    },
    {
     "name": "stdout",
     "output_type": "stream",
     "text": [
      "✅ Batch completed in 10.75s (0.215s per text)\n",
      "🚀 Attempting batch of 50 texts...\n"
     ]
    },
    {
     "name": "stderr",
     "output_type": "stream",
     "text": [
      "Processing conversations:  51%|█████     | 1051/2057 [3:06:27<3:03:50, 10.96s/it]"
     ]
    },
    {
     "name": "stdout",
     "output_type": "stream",
     "text": [
      "✅ Batch completed in 11.18s (0.224s per text)\n",
      "🚀 Attempting batch of 50 texts...\n"
     ]
    },
    {
     "name": "stderr",
     "output_type": "stream",
     "text": [
      "Processing conversations:  51%|█████     | 1052/2057 [3:06:38<3:01:21, 10.83s/it]"
     ]
    },
    {
     "name": "stdout",
     "output_type": "stream",
     "text": [
      "✅ Batch completed in 10.50s (0.210s per text)\n",
      "🚀 Attempting batch of 50 texts...\n"
     ]
    },
    {
     "name": "stderr",
     "output_type": "stream",
     "text": [
      "Processing conversations:  51%|█████     | 1053/2057 [3:06:49<3:01:27, 10.84s/it]"
     ]
    },
    {
     "name": "stdout",
     "output_type": "stream",
     "text": [
      "✅ Batch completed in 10.88s (0.218s per text)\n",
      "🚀 Attempting batch of 50 texts...\n"
     ]
    },
    {
     "name": "stderr",
     "output_type": "stream",
     "text": [
      "Processing conversations:  51%|█████     | 1054/2057 [3:07:00<3:02:33, 10.92s/it]"
     ]
    },
    {
     "name": "stdout",
     "output_type": "stream",
     "text": [
      "✅ Batch completed in 11.09s (0.222s per text)\n",
      "🚀 Attempting batch of 50 texts...\n"
     ]
    },
    {
     "name": "stderr",
     "output_type": "stream",
     "text": [
      "Processing conversations:  51%|█████▏    | 1055/2057 [3:07:11<3:02:09, 10.91s/it]"
     ]
    },
    {
     "name": "stdout",
     "output_type": "stream",
     "text": [
      "✅ Batch completed in 10.87s (0.217s per text)\n",
      "🚀 Attempting batch of 50 texts...\n"
     ]
    },
    {
     "name": "stderr",
     "output_type": "stream",
     "text": [
      "Processing conversations:  51%|█████▏    | 1056/2057 [3:07:21<3:01:38, 10.89s/it]"
     ]
    },
    {
     "name": "stdout",
     "output_type": "stream",
     "text": [
      "✅ Batch completed in 10.83s (0.217s per text)\n",
      "🚀 Attempting batch of 50 texts...\n"
     ]
    },
    {
     "name": "stderr",
     "output_type": "stream",
     "text": [
      "Processing conversations:  51%|█████▏    | 1057/2057 [3:07:32<2:59:08, 10.75s/it]"
     ]
    },
    {
     "name": "stdout",
     "output_type": "stream",
     "text": [
      "✅ Batch completed in 10.42s (0.208s per text)\n",
      "🚀 Attempting batch of 50 texts...\n"
     ]
    },
    {
     "name": "stderr",
     "output_type": "stream",
     "text": [
      "Processing conversations:  51%|█████▏    | 1058/2057 [3:07:43<3:01:37, 10.91s/it]"
     ]
    },
    {
     "name": "stdout",
     "output_type": "stream",
     "text": [
      "✅ Batch completed in 11.27s (0.225s per text)\n",
      "🚀 Attempting batch of 50 texts...\n"
     ]
    },
    {
     "name": "stderr",
     "output_type": "stream",
     "text": [
      "Processing conversations:  51%|█████▏    | 1059/2057 [3:07:54<2:59:03, 10.76s/it]"
     ]
    },
    {
     "name": "stdout",
     "output_type": "stream",
     "text": [
      "✅ Batch completed in 10.42s (0.208s per text)\n",
      "🚀 Attempting batch of 50 texts...\n"
     ]
    },
    {
     "name": "stderr",
     "output_type": "stream",
     "text": [
      "Processing conversations:  52%|█████▏    | 1060/2057 [3:08:04<2:54:42, 10.51s/it]"
     ]
    },
    {
     "name": "stdout",
     "output_type": "stream",
     "text": [
      "✅ Batch completed in 9.92s (0.198s per text)\n",
      "🚀 Attempting batch of 50 texts...\n"
     ]
    },
    {
     "name": "stderr",
     "output_type": "stream",
     "text": [
      "Processing conversations:  52%|█████▏    | 1061/2057 [3:08:14<2:52:44, 10.41s/it]"
     ]
    },
    {
     "name": "stdout",
     "output_type": "stream",
     "text": [
      "✅ Batch completed in 10.14s (0.203s per text)\n",
      "🚀 Attempting batch of 50 texts...\n"
     ]
    },
    {
     "name": "stderr",
     "output_type": "stream",
     "text": [
      "Processing conversations:  52%|█████▏    | 1062/2057 [3:08:24<2:51:05, 10.32s/it]"
     ]
    },
    {
     "name": "stdout",
     "output_type": "stream",
     "text": [
      "✅ Batch completed in 10.11s (0.202s per text)\n",
      "🚀 Attempting batch of 50 texts...\n"
     ]
    },
    {
     "name": "stderr",
     "output_type": "stream",
     "text": [
      "Processing conversations:  52%|█████▏    | 1063/2057 [3:08:34<2:50:43, 10.31s/it]"
     ]
    },
    {
     "name": "stdout",
     "output_type": "stream",
     "text": [
      "✅ Batch completed in 10.27s (0.205s per text)\n",
      "🚀 Attempting batch of 50 texts...\n"
     ]
    },
    {
     "name": "stderr",
     "output_type": "stream",
     "text": [
      "Processing conversations:  52%|█████▏    | 1064/2057 [3:08:44<2:50:19, 10.29s/it]"
     ]
    },
    {
     "name": "stdout",
     "output_type": "stream",
     "text": [
      "✅ Batch completed in 10.26s (0.205s per text)\n",
      "🚀 Attempting batch of 50 texts...\n"
     ]
    },
    {
     "name": "stderr",
     "output_type": "stream",
     "text": [
      "Processing conversations:  52%|█████▏    | 1065/2057 [3:08:55<2:50:06, 10.29s/it]"
     ]
    },
    {
     "name": "stdout",
     "output_type": "stream",
     "text": [
      "✅ Batch completed in 10.28s (0.206s per text)\n",
      "🚀 Attempting batch of 50 texts...\n"
     ]
    },
    {
     "name": "stderr",
     "output_type": "stream",
     "text": [
      "Processing conversations:  52%|█████▏    | 1066/2057 [3:09:05<2:52:40, 10.45s/it]"
     ]
    },
    {
     "name": "stdout",
     "output_type": "stream",
     "text": [
      "✅ Batch completed in 10.83s (0.217s per text)\n",
      "🚀 Attempting batch of 50 texts...\n"
     ]
    },
    {
     "name": "stderr",
     "output_type": "stream",
     "text": [
      "Processing conversations:  52%|█████▏    | 1067/2057 [3:09:16<2:52:03, 10.43s/it]"
     ]
    },
    {
     "name": "stdout",
     "output_type": "stream",
     "text": [
      "✅ Batch completed in 10.36s (0.207s per text)\n",
      "🚀 Attempting batch of 50 texts...\n"
     ]
    },
    {
     "name": "stderr",
     "output_type": "stream",
     "text": [
      "Processing conversations:  52%|█████▏    | 1068/2057 [3:09:26<2:50:54, 10.37s/it]"
     ]
    },
    {
     "name": "stdout",
     "output_type": "stream",
     "text": [
      "✅ Batch completed in 10.23s (0.205s per text)\n",
      "🚀 Attempting batch of 50 texts...\n"
     ]
    },
    {
     "name": "stderr",
     "output_type": "stream",
     "text": [
      "Processing conversations:  52%|█████▏    | 1069/2057 [3:09:36<2:49:12, 10.28s/it]"
     ]
    },
    {
     "name": "stdout",
     "output_type": "stream",
     "text": [
      "✅ Batch completed in 10.05s (0.201s per text)\n",
      "🚀 Attempting batch of 50 texts...\n"
     ]
    },
    {
     "name": "stderr",
     "output_type": "stream",
     "text": [
      "Processing conversations:  52%|█████▏    | 1070/2057 [3:09:46<2:49:25, 10.30s/it]"
     ]
    },
    {
     "name": "stdout",
     "output_type": "stream",
     "text": [
      "✅ Batch completed in 10.35s (0.207s per text)\n",
      "🚀 Attempting batch of 50 texts...\n"
     ]
    },
    {
     "name": "stderr",
     "output_type": "stream",
     "text": [
      "Processing conversations:  52%|█████▏    | 1071/2057 [3:09:57<2:48:07, 10.23s/it]"
     ]
    },
    {
     "name": "stdout",
     "output_type": "stream",
     "text": [
      "✅ Batch completed in 10.07s (0.201s per text)\n",
      "🚀 Attempting batch of 50 texts...\n"
     ]
    },
    {
     "name": "stderr",
     "output_type": "stream",
     "text": [
      "Processing conversations:  52%|█████▏    | 1072/2057 [3:10:07<2:47:24, 10.20s/it]"
     ]
    },
    {
     "name": "stdout",
     "output_type": "stream",
     "text": [
      "✅ Batch completed in 10.11s (0.202s per text)\n",
      "🚀 Attempting batch of 50 texts...\n"
     ]
    },
    {
     "name": "stderr",
     "output_type": "stream",
     "text": [
      "Processing conversations:  52%|█████▏    | 1073/2057 [3:10:17<2:47:39, 10.22s/it]"
     ]
    },
    {
     "name": "stdout",
     "output_type": "stream",
     "text": [
      "✅ Batch completed in 10.28s (0.206s per text)\n",
      "🚀 Attempting batch of 50 texts...\n"
     ]
    },
    {
     "name": "stderr",
     "output_type": "stream",
     "text": [
      "Processing conversations:  52%|█████▏    | 1074/2057 [3:10:27<2:46:53, 10.19s/it]"
     ]
    },
    {
     "name": "stdout",
     "output_type": "stream",
     "text": [
      "✅ Batch completed in 10.10s (0.202s per text)\n",
      "🚀 Attempting batch of 50 texts...\n"
     ]
    },
    {
     "name": "stderr",
     "output_type": "stream",
     "text": [
      "Processing conversations:  52%|█████▏    | 1075/2057 [3:10:37<2:46:39, 10.18s/it]"
     ]
    },
    {
     "name": "stdout",
     "output_type": "stream",
     "text": [
      "✅ Batch completed in 10.17s (0.203s per text)\n",
      "🚀 Attempting batch of 50 texts...\n"
     ]
    },
    {
     "name": "stderr",
     "output_type": "stream",
     "text": [
      "Processing conversations:  52%|█████▏    | 1076/2057 [3:10:48<2:47:09, 10.22s/it]"
     ]
    },
    {
     "name": "stdout",
     "output_type": "stream",
     "text": [
      "✅ Batch completed in 10.31s (0.206s per text)\n",
      "🚀 Attempting batch of 50 texts...\n"
     ]
    },
    {
     "name": "stderr",
     "output_type": "stream",
     "text": [
      "Processing conversations:  52%|█████▏    | 1077/2057 [3:10:58<2:50:33, 10.44s/it]"
     ]
    },
    {
     "name": "stdout",
     "output_type": "stream",
     "text": [
      "✅ Batch completed in 10.95s (0.219s per text)\n",
      "🚀 Attempting batch of 50 texts...\n"
     ]
    },
    {
     "name": "stderr",
     "output_type": "stream",
     "text": [
      "Processing conversations:  52%|█████▏    | 1078/2057 [3:11:09<2:52:59, 10.60s/it]"
     ]
    },
    {
     "name": "stdout",
     "output_type": "stream",
     "text": [
      "✅ Batch completed in 10.97s (0.219s per text)\n",
      "🚀 Attempting batch of 50 texts...\n"
     ]
    },
    {
     "name": "stderr",
     "output_type": "stream",
     "text": [
      "Processing conversations:  52%|█████▏    | 1079/2057 [3:11:21<2:55:41, 10.78s/it]"
     ]
    },
    {
     "name": "stdout",
     "output_type": "stream",
     "text": [
      "✅ Batch completed in 11.18s (0.224s per text)\n",
      "🚀 Attempting batch of 50 texts...\n"
     ]
    },
    {
     "name": "stderr",
     "output_type": "stream",
     "text": [
      "Processing conversations:  53%|█████▎    | 1080/2057 [3:11:32<2:59:17, 11.01s/it]"
     ]
    },
    {
     "name": "stdout",
     "output_type": "stream",
     "text": [
      "✅ Batch completed in 11.55s (0.231s per text)\n",
      "🚀 Attempting batch of 50 texts...\n"
     ]
    },
    {
     "name": "stderr",
     "output_type": "stream",
     "text": [
      "Processing conversations:  53%|█████▎    | 1081/2057 [3:11:44<3:00:53, 11.12s/it]"
     ]
    },
    {
     "name": "stdout",
     "output_type": "stream",
     "text": [
      "✅ Batch completed in 11.37s (0.227s per text)\n",
      "🚀 Attempting batch of 50 texts...\n"
     ]
    },
    {
     "name": "stderr",
     "output_type": "stream",
     "text": [
      "Processing conversations:  53%|█████▎    | 1082/2057 [3:11:55<3:02:33, 11.23s/it]"
     ]
    },
    {
     "name": "stdout",
     "output_type": "stream",
     "text": [
      "✅ Batch completed in 11.50s (0.230s per text)\n",
      "🚀 Attempting batch of 50 texts...\n"
     ]
    },
    {
     "name": "stderr",
     "output_type": "stream",
     "text": [
      "Processing conversations:  53%|█████▎    | 1083/2057 [3:12:07<3:03:44, 11.32s/it]"
     ]
    },
    {
     "name": "stdout",
     "output_type": "stream",
     "text": [
      "✅ Batch completed in 11.51s (0.230s per text)\n",
      "🚀 Attempting batch of 50 texts...\n"
     ]
    },
    {
     "name": "stderr",
     "output_type": "stream",
     "text": [
      "Processing conversations:  53%|█████▎    | 1084/2057 [3:12:18<3:03:32, 11.32s/it]"
     ]
    },
    {
     "name": "stdout",
     "output_type": "stream",
     "text": [
      "✅ Batch completed in 11.31s (0.226s per text)\n",
      "🚀 Attempting batch of 50 texts...\n"
     ]
    },
    {
     "name": "stderr",
     "output_type": "stream",
     "text": [
      "Processing conversations:  53%|█████▎    | 1085/2057 [3:12:29<3:00:16, 11.13s/it]"
     ]
    },
    {
     "name": "stdout",
     "output_type": "stream",
     "text": [
      "✅ Batch completed in 10.68s (0.214s per text)\n",
      "🚀 Attempting batch of 50 texts...\n"
     ]
    },
    {
     "name": "stderr",
     "output_type": "stream",
     "text": [
      "Processing conversations:  53%|█████▎    | 1086/2057 [3:12:40<2:59:09, 11.07s/it]"
     ]
    },
    {
     "name": "stdout",
     "output_type": "stream",
     "text": [
      "✅ Batch completed in 10.93s (0.219s per text)\n",
      "🚀 Attempting batch of 50 texts...\n"
     ]
    },
    {
     "name": "stderr",
     "output_type": "stream",
     "text": [
      "Processing conversations:  53%|█████▎    | 1087/2057 [3:12:51<3:00:27, 11.16s/it]"
     ]
    },
    {
     "name": "stdout",
     "output_type": "stream",
     "text": [
      "✅ Batch completed in 11.37s (0.227s per text)\n",
      "🚀 Attempting batch of 50 texts...\n"
     ]
    },
    {
     "name": "stderr",
     "output_type": "stream",
     "text": [
      "Processing conversations:  53%|█████▎    | 1088/2057 [3:13:02<3:00:21, 11.17s/it]"
     ]
    },
    {
     "name": "stdout",
     "output_type": "stream",
     "text": [
      "✅ Batch completed in 11.18s (0.224s per text)\n",
      "🚀 Attempting batch of 50 texts...\n"
     ]
    },
    {
     "name": "stderr",
     "output_type": "stream",
     "text": [
      "Processing conversations:  53%|█████▎    | 1089/2057 [3:13:13<2:57:22, 10.99s/it]"
     ]
    },
    {
     "name": "stdout",
     "output_type": "stream",
     "text": [
      "✅ Batch completed in 10.59s (0.212s per text)\n",
      "🚀 Attempting batch of 50 texts...\n"
     ]
    },
    {
     "name": "stderr",
     "output_type": "stream",
     "text": [
      "Processing conversations:  53%|█████▎    | 1090/2057 [3:13:24<2:59:25, 11.13s/it]"
     ]
    },
    {
     "name": "stdout",
     "output_type": "stream",
     "text": [
      "✅ Batch completed in 11.45s (0.229s per text)\n",
      "🚀 Attempting batch of 50 texts...\n"
     ]
    },
    {
     "name": "stderr",
     "output_type": "stream",
     "text": [
      "Processing conversations:  53%|█████▎    | 1091/2057 [3:13:35<2:58:02, 11.06s/it]"
     ]
    },
    {
     "name": "stdout",
     "output_type": "stream",
     "text": [
      "✅ Batch completed in 10.88s (0.218s per text)\n",
      "🚀 Attempting batch of 50 texts...\n"
     ]
    },
    {
     "name": "stderr",
     "output_type": "stream",
     "text": [
      "Processing conversations:  53%|█████▎    | 1092/2057 [3:13:47<3:01:59, 11.32s/it]"
     ]
    },
    {
     "name": "stdout",
     "output_type": "stream",
     "text": [
      "✅ Batch completed in 11.91s (0.238s per text)\n",
      "🚀 Attempting batch of 50 texts...\n"
     ]
    },
    {
     "name": "stderr",
     "output_type": "stream",
     "text": [
      "Processing conversations:  53%|█████▎    | 1093/2057 [3:13:58<3:02:37, 11.37s/it]"
     ]
    },
    {
     "name": "stdout",
     "output_type": "stream",
     "text": [
      "✅ Batch completed in 11.48s (0.230s per text)\n",
      "🚀 Attempting batch of 50 texts...\n"
     ]
    },
    {
     "name": "stderr",
     "output_type": "stream",
     "text": [
      "Processing conversations:  53%|█████▎    | 1094/2057 [3:14:09<3:00:45, 11.26s/it]"
     ]
    },
    {
     "name": "stdout",
     "output_type": "stream",
     "text": [
      "✅ Batch completed in 11.02s (0.220s per text)\n",
      "🚀 Attempting batch of 50 texts...\n"
     ]
    },
    {
     "name": "stderr",
     "output_type": "stream",
     "text": [
      "Processing conversations:  53%|█████▎    | 1095/2057 [3:14:21<3:02:14, 11.37s/it]"
     ]
    },
    {
     "name": "stdout",
     "output_type": "stream",
     "text": [
      "✅ Batch completed in 11.61s (0.232s per text)\n",
      "🚀 Attempting batch of 50 texts...\n"
     ]
    },
    {
     "name": "stderr",
     "output_type": "stream",
     "text": [
      "Processing conversations:  53%|█████▎    | 1096/2057 [3:14:33<3:03:26, 11.45s/it]"
     ]
    },
    {
     "name": "stdout",
     "output_type": "stream",
     "text": [
      "✅ Batch completed in 11.65s (0.233s per text)\n",
      "🚀 Attempting batch of 50 texts...\n"
     ]
    },
    {
     "name": "stderr",
     "output_type": "stream",
     "text": [
      "Processing conversations:  53%|█████▎    | 1097/2057 [3:14:44<3:01:22, 11.34s/it]"
     ]
    },
    {
     "name": "stdout",
     "output_type": "stream",
     "text": [
      "✅ Batch completed in 11.06s (0.221s per text)\n",
      "🚀 Attempting batch of 50 texts...\n"
     ]
    },
    {
     "name": "stderr",
     "output_type": "stream",
     "text": [
      "Processing conversations:  53%|█████▎    | 1098/2057 [3:14:55<3:01:03, 11.33s/it]"
     ]
    },
    {
     "name": "stdout",
     "output_type": "stream",
     "text": [
      "✅ Batch completed in 11.31s (0.226s per text)\n",
      "🚀 Attempting batch of 50 texts...\n"
     ]
    },
    {
     "name": "stderr",
     "output_type": "stream",
     "text": [
      "Processing conversations:  53%|█████▎    | 1099/2057 [3:15:06<3:00:20, 11.29s/it]"
     ]
    },
    {
     "name": "stdout",
     "output_type": "stream",
     "text": [
      "✅ Batch completed in 11.21s (0.224s per text)\n",
      "🚀 Attempting batch of 50 texts...\n"
     ]
    },
    {
     "name": "stderr",
     "output_type": "stream",
     "text": [
      "Processing conversations:  53%|█████▎    | 1100/2057 [3:15:17<2:58:59, 11.22s/it]"
     ]
    },
    {
     "name": "stdout",
     "output_type": "stream",
     "text": [
      "✅ Batch completed in 11.05s (0.221s per text)\n",
      "🚀 Attempting batch of 50 texts...\n"
     ]
    },
    {
     "name": "stderr",
     "output_type": "stream",
     "text": [
      "Processing conversations:  54%|█████▎    | 1101/2057 [3:15:28<2:57:35, 11.15s/it]"
     ]
    },
    {
     "name": "stdout",
     "output_type": "stream",
     "text": [
      "✅ Batch completed in 10.96s (0.219s per text)\n",
      "🚀 Attempting batch of 50 texts...\n"
     ]
    },
    {
     "name": "stderr",
     "output_type": "stream",
     "text": [
      "Processing conversations:  54%|█████▎    | 1102/2057 [3:15:39<2:55:33, 11.03s/it]"
     ]
    },
    {
     "name": "stdout",
     "output_type": "stream",
     "text": [
      "✅ Batch completed in 10.75s (0.215s per text)\n",
      "🚀 Attempting batch of 50 texts...\n"
     ]
    },
    {
     "name": "stderr",
     "output_type": "stream",
     "text": [
      "Processing conversations:  54%|█████▎    | 1103/2057 [3:15:51<2:59:50, 11.31s/it]"
     ]
    },
    {
     "name": "stdout",
     "output_type": "stream",
     "text": [
      "✅ Batch completed in 11.96s (0.239s per text)\n",
      "🚀 Attempting batch of 50 texts...\n"
     ]
    },
    {
     "name": "stderr",
     "output_type": "stream",
     "text": [
      "Processing conversations:  54%|█████▎    | 1104/2057 [3:16:03<3:02:11, 11.47s/it]"
     ]
    },
    {
     "name": "stdout",
     "output_type": "stream",
     "text": [
      "✅ Batch completed in 11.84s (0.237s per text)\n",
      "🚀 Attempting batch of 50 texts...\n"
     ]
    },
    {
     "name": "stderr",
     "output_type": "stream",
     "text": [
      "Processing conversations:  54%|█████▎    | 1105/2057 [3:16:14<2:59:48, 11.33s/it]"
     ]
    },
    {
     "name": "stdout",
     "output_type": "stream",
     "text": [
      "✅ Batch completed in 11.01s (0.220s per text)\n",
      "🚀 Attempting batch of 50 texts...\n"
     ]
    },
    {
     "name": "stderr",
     "output_type": "stream",
     "text": [
      "Processing conversations:  54%|█████▍    | 1106/2057 [3:16:25<2:59:53, 11.35s/it]"
     ]
    },
    {
     "name": "stdout",
     "output_type": "stream",
     "text": [
      "✅ Batch completed in 11.38s (0.228s per text)\n",
      "🚀 Attempting batch of 50 texts...\n"
     ]
    },
    {
     "name": "stderr",
     "output_type": "stream",
     "text": [
      "Processing conversations:  54%|█████▍    | 1107/2057 [3:16:36<2:58:01, 11.24s/it]"
     ]
    },
    {
     "name": "stdout",
     "output_type": "stream",
     "text": [
      "✅ Batch completed in 10.99s (0.220s per text)\n",
      "🚀 Attempting batch of 50 texts...\n"
     ]
    },
    {
     "name": "stderr",
     "output_type": "stream",
     "text": [
      "Processing conversations:  54%|█████▍    | 1108/2057 [3:16:48<2:58:55, 11.31s/it]"
     ]
    },
    {
     "name": "stdout",
     "output_type": "stream",
     "text": [
      "✅ Batch completed in 11.47s (0.229s per text)\n",
      "🚀 Attempting batch of 50 texts...\n"
     ]
    },
    {
     "name": "stderr",
     "output_type": "stream",
     "text": [
      "Processing conversations:  54%|█████▍    | 1109/2057 [3:16:59<2:59:37, 11.37s/it]"
     ]
    },
    {
     "name": "stdout",
     "output_type": "stream",
     "text": [
      "✅ Batch completed in 11.49s (0.230s per text)\n",
      "🚀 Attempting batch of 50 texts...\n"
     ]
    },
    {
     "name": "stderr",
     "output_type": "stream",
     "text": [
      "Processing conversations:  54%|█████▍    | 1110/2057 [3:17:10<2:57:04, 11.22s/it]"
     ]
    },
    {
     "name": "stdout",
     "output_type": "stream",
     "text": [
      "✅ Batch completed in 10.87s (0.217s per text)\n",
      "🚀 Attempting batch of 50 texts...\n"
     ]
    },
    {
     "name": "stderr",
     "output_type": "stream",
     "text": [
      "Processing conversations:  54%|█████▍    | 1111/2057 [3:17:21<2:55:55, 11.16s/it]"
     ]
    },
    {
     "name": "stdout",
     "output_type": "stream",
     "text": [
      "✅ Batch completed in 11.01s (0.220s per text)\n",
      "🚀 Attempting batch of 50 texts...\n"
     ]
    },
    {
     "name": "stderr",
     "output_type": "stream",
     "text": [
      "Processing conversations:  54%|█████▍    | 1112/2057 [3:17:32<2:56:35, 11.21s/it]"
     ]
    },
    {
     "name": "stdout",
     "output_type": "stream",
     "text": [
      "✅ Batch completed in 11.33s (0.227s per text)\n",
      "🚀 Attempting batch of 50 texts...\n"
     ]
    },
    {
     "name": "stderr",
     "output_type": "stream",
     "text": [
      "Processing conversations:  54%|█████▍    | 1113/2057 [3:17:44<2:56:59, 11.25s/it]"
     ]
    },
    {
     "name": "stdout",
     "output_type": "stream",
     "text": [
      "✅ Batch completed in 11.33s (0.227s per text)\n",
      "🚀 Attempting batch of 50 texts...\n"
     ]
    },
    {
     "name": "stderr",
     "output_type": "stream",
     "text": [
      "Processing conversations:  54%|█████▍    | 1114/2057 [3:17:55<2:55:02, 11.14s/it]"
     ]
    },
    {
     "name": "stdout",
     "output_type": "stream",
     "text": [
      "✅ Batch completed in 10.87s (0.217s per text)\n",
      "🚀 Attempting batch of 50 texts...\n"
     ]
    },
    {
     "name": "stderr",
     "output_type": "stream",
     "text": [
      "Processing conversations:  54%|█████▍    | 1115/2057 [3:18:06<2:54:43, 11.13s/it]"
     ]
    },
    {
     "name": "stdout",
     "output_type": "stream",
     "text": [
      "✅ Batch completed in 11.11s (0.222s per text)\n",
      "🚀 Attempting batch of 50 texts...\n"
     ]
    },
    {
     "name": "stderr",
     "output_type": "stream",
     "text": [
      "Processing conversations:  54%|█████▍    | 1116/2057 [3:18:17<2:53:22, 11.05s/it]"
     ]
    },
    {
     "name": "stdout",
     "output_type": "stream",
     "text": [
      "✅ Batch completed in 10.87s (0.217s per text)\n",
      "🚀 Attempting batch of 50 texts...\n"
     ]
    },
    {
     "name": "stderr",
     "output_type": "stream",
     "text": [
      "Processing conversations:  54%|█████▍    | 1117/2057 [3:18:28<2:56:05, 11.24s/it]"
     ]
    },
    {
     "name": "stdout",
     "output_type": "stream",
     "text": [
      "✅ Batch completed in 11.67s (0.233s per text)\n",
      "🚀 Attempting batch of 50 texts...\n"
     ]
    },
    {
     "name": "stderr",
     "output_type": "stream",
     "text": [
      "Processing conversations:  54%|█████▍    | 1118/2057 [3:18:40<2:57:44, 11.36s/it]"
     ]
    },
    {
     "name": "stdout",
     "output_type": "stream",
     "text": [
      "✅ Batch completed in 11.63s (0.233s per text)\n",
      "🚀 Attempting batch of 50 texts...\n"
     ]
    },
    {
     "name": "stderr",
     "output_type": "stream",
     "text": [
      "Processing conversations:  54%|█████▍    | 1119/2057 [3:18:50<2:53:38, 11.11s/it]"
     ]
    },
    {
     "name": "stdout",
     "output_type": "stream",
     "text": [
      "✅ Batch completed in 10.51s (0.210s per text)\n",
      "🚀 Attempting batch of 50 texts...\n"
     ]
    },
    {
     "name": "stderr",
     "output_type": "stream",
     "text": [
      "Processing conversations:  54%|█████▍    | 1120/2057 [3:19:01<2:50:07, 10.89s/it]"
     ]
    },
    {
     "name": "stdout",
     "output_type": "stream",
     "text": [
      "✅ Batch completed in 10.39s (0.208s per text)\n",
      "🚀 Attempting batch of 50 texts...\n"
     ]
    },
    {
     "name": "stderr",
     "output_type": "stream",
     "text": [
      "Processing conversations:  54%|█████▍    | 1121/2057 [3:19:11<2:46:06, 10.65s/it]"
     ]
    },
    {
     "name": "stdout",
     "output_type": "stream",
     "text": [
      "✅ Batch completed in 10.06s (0.201s per text)\n",
      "🚀 Attempting batch of 50 texts...\n"
     ]
    },
    {
     "name": "stderr",
     "output_type": "stream",
     "text": [
      "Processing conversations:  55%|█████▍    | 1122/2057 [3:19:21<2:43:19, 10.48s/it]"
     ]
    },
    {
     "name": "stdout",
     "output_type": "stream",
     "text": [
      "✅ Batch completed in 10.08s (0.202s per text)\n",
      "🚀 Attempting batch of 50 texts...\n"
     ]
    },
    {
     "name": "stderr",
     "output_type": "stream",
     "text": [
      "Processing conversations:  55%|█████▍    | 1123/2057 [3:19:31<2:42:02, 10.41s/it]"
     ]
    },
    {
     "name": "stdout",
     "output_type": "stream",
     "text": [
      "✅ Batch completed in 10.23s (0.205s per text)\n",
      "🚀 Attempting batch of 50 texts...\n"
     ]
    },
    {
     "name": "stderr",
     "output_type": "stream",
     "text": [
      "Processing conversations:  55%|█████▍    | 1124/2057 [3:19:42<2:41:23, 10.38s/it]"
     ]
    },
    {
     "name": "stdout",
     "output_type": "stream",
     "text": [
      "✅ Batch completed in 10.30s (0.206s per text)\n",
      "🚀 Attempting batch of 50 texts...\n"
     ]
    },
    {
     "name": "stderr",
     "output_type": "stream",
     "text": [
      "Processing conversations:  55%|█████▍    | 1125/2057 [3:19:52<2:40:23, 10.33s/it]"
     ]
    },
    {
     "name": "stdout",
     "output_type": "stream",
     "text": [
      "✅ Batch completed in 10.19s (0.204s per text)\n",
      "🚀 Attempting batch of 50 texts...\n"
     ]
    },
    {
     "name": "stderr",
     "output_type": "stream",
     "text": [
      "Processing conversations:  55%|█████▍    | 1126/2057 [3:20:02<2:38:03, 10.19s/it]"
     ]
    },
    {
     "name": "stdout",
     "output_type": "stream",
     "text": [
      "✅ Batch completed in 9.86s (0.197s per text)\n",
      "🚀 Attempting batch of 50 texts...\n"
     ]
    },
    {
     "name": "stderr",
     "output_type": "stream",
     "text": [
      "Processing conversations:  55%|█████▍    | 1127/2057 [3:20:12<2:38:24, 10.22s/it]"
     ]
    },
    {
     "name": "stdout",
     "output_type": "stream",
     "text": [
      "✅ Batch completed in 10.29s (0.206s per text)\n",
      "🚀 Attempting batch of 50 texts...\n"
     ]
    },
    {
     "name": "stderr",
     "output_type": "stream",
     "text": [
      "Processing conversations:  55%|█████▍    | 1128/2057 [3:20:22<2:37:33, 10.18s/it]"
     ]
    },
    {
     "name": "stdout",
     "output_type": "stream",
     "text": [
      "✅ Batch completed in 10.07s (0.201s per text)\n",
      "🚀 Attempting batch of 50 texts...\n"
     ]
    },
    {
     "name": "stderr",
     "output_type": "stream",
     "text": [
      "Processing conversations:  55%|█████▍    | 1129/2057 [3:20:32<2:36:47, 10.14s/it]"
     ]
    },
    {
     "name": "stdout",
     "output_type": "stream",
     "text": [
      "✅ Batch completed in 10.04s (0.201s per text)\n",
      "🚀 Attempting batch of 50 texts...\n"
     ]
    },
    {
     "name": "stderr",
     "output_type": "stream",
     "text": [
      "Processing conversations:  55%|█████▍    | 1130/2057 [3:20:43<2:39:25, 10.32s/it]"
     ]
    },
    {
     "name": "stdout",
     "output_type": "stream",
     "text": [
      "✅ Batch completed in 10.73s (0.215s per text)\n",
      "🚀 Attempting batch of 50 texts...\n"
     ]
    },
    {
     "name": "stderr",
     "output_type": "stream",
     "text": [
      "Processing conversations:  55%|█████▍    | 1131/2057 [3:20:53<2:39:23, 10.33s/it]"
     ]
    },
    {
     "name": "stdout",
     "output_type": "stream",
     "text": [
      "✅ Batch completed in 10.34s (0.207s per text)\n",
      "🚀 Attempting batch of 50 texts...\n"
     ]
    },
    {
     "name": "stderr",
     "output_type": "stream",
     "text": [
      "Processing conversations:  55%|█████▌    | 1132/2057 [3:21:03<2:38:08, 10.26s/it]"
     ]
    },
    {
     "name": "stdout",
     "output_type": "stream",
     "text": [
      "✅ Batch completed in 10.09s (0.202s per text)\n",
      "🚀 Attempting batch of 50 texts...\n"
     ]
    },
    {
     "name": "stderr",
     "output_type": "stream",
     "text": [
      "Processing conversations:  55%|█████▌    | 1133/2057 [3:21:14<2:38:02, 10.26s/it]"
     ]
    },
    {
     "name": "stdout",
     "output_type": "stream",
     "text": [
      "✅ Batch completed in 10.27s (0.205s per text)\n",
      "🚀 Attempting batch of 50 texts...\n"
     ]
    },
    {
     "name": "stderr",
     "output_type": "stream",
     "text": [
      "Processing conversations:  55%|█████▌    | 1134/2057 [3:21:24<2:38:07, 10.28s/it]"
     ]
    },
    {
     "name": "stdout",
     "output_type": "stream",
     "text": [
      "✅ Batch completed in 10.31s (0.206s per text)\n",
      "🚀 Attempting batch of 50 texts...\n"
     ]
    },
    {
     "name": "stderr",
     "output_type": "stream",
     "text": [
      "Processing conversations:  55%|█████▌    | 1135/2057 [3:21:34<2:38:41, 10.33s/it]"
     ]
    },
    {
     "name": "stdout",
     "output_type": "stream",
     "text": [
      "✅ Batch completed in 10.43s (0.209s per text)\n",
      "🚀 Attempting batch of 50 texts...\n"
     ]
    },
    {
     "name": "stderr",
     "output_type": "stream",
     "text": [
      "Processing conversations:  55%|█████▌    | 1136/2057 [3:21:45<2:38:00, 10.29s/it]"
     ]
    },
    {
     "name": "stdout",
     "output_type": "stream",
     "text": [
      "✅ Batch completed in 10.21s (0.204s per text)\n",
      "🚀 Attempting batch of 50 texts...\n"
     ]
    },
    {
     "name": "stderr",
     "output_type": "stream",
     "text": [
      "Processing conversations:  55%|█████▌    | 1137/2057 [3:21:55<2:36:33, 10.21s/it]"
     ]
    },
    {
     "name": "stdout",
     "output_type": "stream",
     "text": [
      "✅ Batch completed in 10.01s (0.200s per text)\n",
      "🚀 Attempting batch of 50 texts...\n"
     ]
    },
    {
     "name": "stderr",
     "output_type": "stream",
     "text": [
      "Processing conversations:  55%|█████▌    | 1138/2057 [3:22:05<2:36:38, 10.23s/it]"
     ]
    },
    {
     "name": "stdout",
     "output_type": "stream",
     "text": [
      "✅ Batch completed in 10.26s (0.205s per text)\n",
      "🚀 Attempting batch of 50 texts...\n"
     ]
    },
    {
     "name": "stderr",
     "output_type": "stream",
     "text": [
      "Processing conversations:  55%|█████▌    | 1139/2057 [3:22:15<2:35:11, 10.14s/it]"
     ]
    },
    {
     "name": "stdout",
     "output_type": "stream",
     "text": [
      "✅ Batch completed in 9.94s (0.199s per text)\n",
      "🚀 Attempting batch of 50 texts...\n"
     ]
    },
    {
     "name": "stderr",
     "output_type": "stream",
     "text": [
      "Processing conversations:  55%|█████▌    | 1140/2057 [3:22:25<2:35:06, 10.15s/it]"
     ]
    },
    {
     "name": "stdout",
     "output_type": "stream",
     "text": [
      "✅ Batch completed in 10.15s (0.203s per text)\n",
      "🚀 Attempting batch of 50 texts...\n"
     ]
    },
    {
     "name": "stderr",
     "output_type": "stream",
     "text": [
      "Processing conversations:  55%|█████▌    | 1141/2057 [3:22:35<2:34:51, 10.14s/it]"
     ]
    },
    {
     "name": "stdout",
     "output_type": "stream",
     "text": [
      "✅ Batch completed in 10.13s (0.203s per text)\n",
      "🚀 Attempting batch of 50 texts...\n"
     ]
    },
    {
     "name": "stderr",
     "output_type": "stream",
     "text": [
      "Processing conversations:  56%|█████▌    | 1142/2057 [3:22:46<2:36:21, 10.25s/it]"
     ]
    },
    {
     "name": "stdout",
     "output_type": "stream",
     "text": [
      "✅ Batch completed in 10.50s (0.210s per text)\n",
      "🚀 Attempting batch of 50 texts...\n"
     ]
    },
    {
     "name": "stderr",
     "output_type": "stream",
     "text": [
      "Processing conversations:  56%|█████▌    | 1143/2057 [3:22:56<2:35:08, 10.18s/it]"
     ]
    },
    {
     "name": "stdout",
     "output_type": "stream",
     "text": [
      "✅ Batch completed in 10.02s (0.200s per text)\n",
      "🚀 Attempting batch of 50 texts...\n"
     ]
    },
    {
     "name": "stderr",
     "output_type": "stream",
     "text": [
      "Processing conversations:  56%|█████▌    | 1144/2057 [3:23:06<2:34:28, 10.15s/it]"
     ]
    },
    {
     "name": "stdout",
     "output_type": "stream",
     "text": [
      "✅ Batch completed in 10.07s (0.201s per text)\n",
      "🚀 Attempting batch of 50 texts...\n"
     ]
    },
    {
     "name": "stderr",
     "output_type": "stream",
     "text": [
      "Processing conversations:  56%|█████▌    | 1145/2057 [3:23:16<2:34:40, 10.18s/it]"
     ]
    },
    {
     "name": "stdout",
     "output_type": "stream",
     "text": [
      "✅ Batch completed in 10.22s (0.204s per text)\n",
      "🚀 Attempting batch of 50 texts...\n"
     ]
    },
    {
     "name": "stderr",
     "output_type": "stream",
     "text": [
      "Processing conversations:  56%|█████▌    | 1146/2057 [3:23:26<2:34:35, 10.18s/it]"
     ]
    },
    {
     "name": "stdout",
     "output_type": "stream",
     "text": [
      "✅ Batch completed in 10.19s (0.204s per text)\n",
      "🚀 Attempting batch of 50 texts...\n"
     ]
    },
    {
     "name": "stderr",
     "output_type": "stream",
     "text": [
      "Processing conversations:  56%|█████▌    | 1147/2057 [3:23:36<2:34:06, 10.16s/it]"
     ]
    },
    {
     "name": "stdout",
     "output_type": "stream",
     "text": [
      "✅ Batch completed in 10.11s (0.202s per text)\n",
      "🚀 Attempting batch of 50 texts...\n"
     ]
    },
    {
     "name": "stderr",
     "output_type": "stream",
     "text": [
      "Processing conversations:  56%|█████▌    | 1148/2057 [3:23:46<2:34:34, 10.20s/it]"
     ]
    },
    {
     "name": "stdout",
     "output_type": "stream",
     "text": [
      "✅ Batch completed in 10.29s (0.206s per text)\n",
      "🚀 Attempting batch of 50 texts...\n"
     ]
    },
    {
     "name": "stderr",
     "output_type": "stream",
     "text": [
      "Processing conversations:  56%|█████▌    | 1149/2057 [3:23:57<2:34:49, 10.23s/it]"
     ]
    },
    {
     "name": "stdout",
     "output_type": "stream",
     "text": [
      "✅ Batch completed in 10.28s (0.206s per text)\n",
      "🚀 Attempting batch of 50 texts...\n"
     ]
    },
    {
     "name": "stderr",
     "output_type": "stream",
     "text": [
      "Processing conversations:  56%|█████▌    | 1150/2057 [3:24:07<2:33:15, 10.14s/it]"
     ]
    },
    {
     "name": "stdout",
     "output_type": "stream",
     "text": [
      "✅ Batch completed in 9.92s (0.198s per text)\n",
      "🚀 Attempting batch of 50 texts...\n"
     ]
    },
    {
     "name": "stderr",
     "output_type": "stream",
     "text": [
      "Processing conversations:  56%|█████▌    | 1151/2057 [3:24:17<2:32:15, 10.08s/it]"
     ]
    },
    {
     "name": "stdout",
     "output_type": "stream",
     "text": [
      "✅ Batch completed in 9.94s (0.199s per text)\n",
      "🚀 Attempting batch of 50 texts...\n"
     ]
    },
    {
     "name": "stderr",
     "output_type": "stream",
     "text": [
      "Processing conversations:  56%|█████▌    | 1152/2057 [3:24:27<2:31:41, 10.06s/it]"
     ]
    },
    {
     "name": "stdout",
     "output_type": "stream",
     "text": [
      "✅ Batch completed in 9.98s (0.200s per text)\n",
      "🚀 Attempting batch of 50 texts...\n"
     ]
    },
    {
     "name": "stderr",
     "output_type": "stream",
     "text": [
      "Processing conversations:  56%|█████▌    | 1153/2057 [3:24:37<2:34:02, 10.22s/it]"
     ]
    },
    {
     "name": "stdout",
     "output_type": "stream",
     "text": [
      "✅ Batch completed in 10.61s (0.212s per text)\n",
      "🚀 Attempting batch of 50 texts...\n"
     ]
    },
    {
     "name": "stderr",
     "output_type": "stream",
     "text": [
      "Processing conversations:  56%|█████▌    | 1154/2057 [3:24:47<2:33:21, 10.19s/it]"
     ]
    },
    {
     "name": "stdout",
     "output_type": "stream",
     "text": [
      "✅ Batch completed in 10.10s (0.202s per text)\n",
      "🚀 Attempting batch of 50 texts...\n"
     ]
    },
    {
     "name": "stderr",
     "output_type": "stream",
     "text": [
      "Processing conversations:  56%|█████▌    | 1155/2057 [3:24:57<2:31:34, 10.08s/it]"
     ]
    },
    {
     "name": "stdout",
     "output_type": "stream",
     "text": [
      "✅ Batch completed in 9.83s (0.197s per text)\n",
      "🚀 Attempting batch of 50 texts...\n"
     ]
    },
    {
     "name": "stderr",
     "output_type": "stream",
     "text": [
      "Processing conversations:  56%|█████▌    | 1156/2057 [3:25:07<2:32:01, 10.12s/it]"
     ]
    },
    {
     "name": "stdout",
     "output_type": "stream",
     "text": [
      "✅ Batch completed in 10.21s (0.204s per text)\n",
      "🚀 Attempting batch of 50 texts...\n"
     ]
    },
    {
     "name": "stderr",
     "output_type": "stream",
     "text": [
      "Processing conversations:  56%|█████▌    | 1157/2057 [3:25:18<2:33:02, 10.20s/it]"
     ]
    },
    {
     "name": "stdout",
     "output_type": "stream",
     "text": [
      "✅ Batch completed in 10.37s (0.207s per text)\n",
      "🚀 Attempting batch of 50 texts...\n"
     ]
    },
    {
     "name": "stderr",
     "output_type": "stream",
     "text": [
      "Processing conversations:  56%|█████▋    | 1158/2057 [3:25:28<2:32:12, 10.16s/it]"
     ]
    },
    {
     "name": "stdout",
     "output_type": "stream",
     "text": [
      "✅ Batch completed in 10.04s (0.201s per text)\n",
      "🚀 Attempting batch of 50 texts...\n"
     ]
    },
    {
     "name": "stderr",
     "output_type": "stream",
     "text": [
      "Processing conversations:  56%|█████▋    | 1159/2057 [3:25:38<2:32:57, 10.22s/it]"
     ]
    },
    {
     "name": "stdout",
     "output_type": "stream",
     "text": [
      "✅ Batch completed in 10.36s (0.207s per text)\n",
      "🚀 Attempting batch of 50 texts...\n"
     ]
    },
    {
     "name": "stderr",
     "output_type": "stream",
     "text": [
      "Processing conversations:  56%|█████▋    | 1160/2057 [3:25:48<2:32:51, 10.22s/it]"
     ]
    },
    {
     "name": "stdout",
     "output_type": "stream",
     "text": [
      "✅ Batch completed in 10.23s (0.205s per text)\n",
      "🚀 Attempting batch of 50 texts...\n"
     ]
    },
    {
     "name": "stderr",
     "output_type": "stream",
     "text": [
      "Processing conversations:  56%|█████▋    | 1161/2057 [3:25:59<2:32:05, 10.18s/it]"
     ]
    },
    {
     "name": "stdout",
     "output_type": "stream",
     "text": [
      "✅ Batch completed in 10.08s (0.202s per text)\n",
      "🚀 Attempting batch of 50 texts...\n"
     ]
    },
    {
     "name": "stderr",
     "output_type": "stream",
     "text": [
      "Processing conversations:  56%|█████▋    | 1162/2057 [3:26:09<2:31:06, 10.13s/it]"
     ]
    },
    {
     "name": "stdout",
     "output_type": "stream",
     "text": [
      "✅ Batch completed in 9.99s (0.200s per text)\n",
      "🚀 Attempting batch of 50 texts...\n"
     ]
    },
    {
     "name": "stderr",
     "output_type": "stream",
     "text": [
      "Processing conversations:  57%|█████▋    | 1163/2057 [3:26:19<2:30:57, 10.13s/it]"
     ]
    },
    {
     "name": "stdout",
     "output_type": "stream",
     "text": [
      "✅ Batch completed in 10.13s (0.203s per text)\n",
      "🚀 Attempting batch of 50 texts...\n"
     ]
    },
    {
     "name": "stderr",
     "output_type": "stream",
     "text": [
      "Processing conversations:  57%|█████▋    | 1164/2057 [3:26:29<2:30:55, 10.14s/it]"
     ]
    },
    {
     "name": "stdout",
     "output_type": "stream",
     "text": [
      "✅ Batch completed in 10.15s (0.203s per text)\n",
      "🚀 Attempting batch of 50 texts...\n"
     ]
    },
    {
     "name": "stderr",
     "output_type": "stream",
     "text": [
      "Processing conversations:  57%|█████▋    | 1165/2057 [3:26:39<2:30:17, 10.11s/it]"
     ]
    },
    {
     "name": "stdout",
     "output_type": "stream",
     "text": [
      "✅ Batch completed in 10.03s (0.201s per text)\n",
      "🚀 Attempting batch of 50 texts...\n"
     ]
    },
    {
     "name": "stderr",
     "output_type": "stream",
     "text": [
      "Processing conversations:  57%|█████▋    | 1166/2057 [3:26:50<2:32:27, 10.27s/it]"
     ]
    },
    {
     "name": "stdout",
     "output_type": "stream",
     "text": [
      "✅ Batch completed in 10.62s (0.212s per text)\n",
      "🚀 Attempting batch of 50 texts...\n"
     ]
    },
    {
     "name": "stderr",
     "output_type": "stream",
     "text": [
      "Processing conversations:  57%|█████▋    | 1167/2057 [3:27:00<2:32:11, 10.26s/it]"
     ]
    },
    {
     "name": "stdout",
     "output_type": "stream",
     "text": [
      "✅ Batch completed in 10.24s (0.205s per text)\n",
      "🚀 Attempting batch of 50 texts...\n"
     ]
    },
    {
     "name": "stderr",
     "output_type": "stream",
     "text": [
      "Processing conversations:  57%|█████▋    | 1168/2057 [3:27:10<2:30:45, 10.18s/it]"
     ]
    },
    {
     "name": "stdout",
     "output_type": "stream",
     "text": [
      "✅ Batch completed in 9.97s (0.199s per text)\n",
      "🚀 Attempting batch of 50 texts...\n"
     ]
    },
    {
     "name": "stderr",
     "output_type": "stream",
     "text": [
      "Processing conversations:  57%|█████▋    | 1169/2057 [3:27:20<2:29:18, 10.09s/it]"
     ]
    },
    {
     "name": "stdout",
     "output_type": "stream",
     "text": [
      "✅ Batch completed in 9.88s (0.198s per text)\n",
      "🚀 Attempting batch of 50 texts...\n"
     ]
    },
    {
     "name": "stderr",
     "output_type": "stream",
     "text": [
      "Processing conversations:  57%|█████▋    | 1170/2057 [3:27:30<2:30:20, 10.17s/it]"
     ]
    },
    {
     "name": "stdout",
     "output_type": "stream",
     "text": [
      "✅ Batch completed in 10.35s (0.207s per text)\n",
      "🚀 Attempting batch of 50 texts...\n"
     ]
    },
    {
     "name": "stderr",
     "output_type": "stream",
     "text": [
      "Processing conversations:  57%|█████▋    | 1171/2057 [3:27:40<2:30:35, 10.20s/it]"
     ]
    },
    {
     "name": "stdout",
     "output_type": "stream",
     "text": [
      "✅ Batch completed in 10.26s (0.205s per text)\n",
      "🚀 Attempting batch of 50 texts...\n"
     ]
    },
    {
     "name": "stderr",
     "output_type": "stream",
     "text": [
      "Processing conversations:  57%|█████▋    | 1172/2057 [3:27:51<2:31:08, 10.25s/it]"
     ]
    },
    {
     "name": "stdout",
     "output_type": "stream",
     "text": [
      "✅ Batch completed in 10.35s (0.207s per text)\n",
      "🚀 Attempting batch of 50 texts...\n"
     ]
    },
    {
     "name": "stderr",
     "output_type": "stream",
     "text": [
      "Processing conversations:  57%|█████▋    | 1173/2057 [3:28:01<2:31:45, 10.30s/it]"
     ]
    },
    {
     "name": "stdout",
     "output_type": "stream",
     "text": [
      "✅ Batch completed in 10.42s (0.208s per text)\n",
      "🚀 Attempting batch of 50 texts...\n"
     ]
    },
    {
     "name": "stderr",
     "output_type": "stream",
     "text": [
      "Processing conversations:  57%|█████▋    | 1174/2057 [3:28:11<2:31:40, 10.31s/it]"
     ]
    },
    {
     "name": "stdout",
     "output_type": "stream",
     "text": [
      "✅ Batch completed in 10.31s (0.206s per text)\n",
      "🚀 Attempting batch of 50 texts...\n"
     ]
    },
    {
     "name": "stderr",
     "output_type": "stream",
     "text": [
      "Processing conversations:  57%|█████▋    | 1175/2057 [3:28:21<2:30:02, 10.21s/it]"
     ]
    },
    {
     "name": "stdout",
     "output_type": "stream",
     "text": [
      "✅ Batch completed in 9.97s (0.199s per text)\n",
      "🚀 Attempting batch of 50 texts...\n"
     ]
    },
    {
     "name": "stderr",
     "output_type": "stream",
     "text": [
      "Processing conversations:  57%|█████▋    | 1176/2057 [3:28:32<2:30:18, 10.24s/it]"
     ]
    },
    {
     "name": "stdout",
     "output_type": "stream",
     "text": [
      "✅ Batch completed in 10.30s (0.206s per text)\n",
      "🚀 Attempting batch of 50 texts...\n"
     ]
    },
    {
     "name": "stderr",
     "output_type": "stream",
     "text": [
      "Processing conversations:  57%|█████▋    | 1177/2057 [3:28:42<2:32:17, 10.38s/it]"
     ]
    },
    {
     "name": "stdout",
     "output_type": "stream",
     "text": [
      "✅ Batch completed in 10.72s (0.214s per text)\n",
      "🚀 Attempting batch of 50 texts...\n"
     ]
    },
    {
     "name": "stderr",
     "output_type": "stream",
     "text": [
      "Processing conversations:  57%|█████▋    | 1178/2057 [3:28:53<2:32:08, 10.39s/it]"
     ]
    },
    {
     "name": "stdout",
     "output_type": "stream",
     "text": [
      "✅ Batch completed in 10.38s (0.208s per text)\n",
      "🚀 Attempting batch of 50 texts...\n"
     ]
    },
    {
     "name": "stderr",
     "output_type": "stream",
     "text": [
      "Processing conversations:  57%|█████▋    | 1179/2057 [3:29:03<2:30:16, 10.27s/it]"
     ]
    },
    {
     "name": "stdout",
     "output_type": "stream",
     "text": [
      "✅ Batch completed in 9.99s (0.200s per text)\n",
      "🚀 Attempting batch of 50 texts...\n"
     ]
    },
    {
     "name": "stderr",
     "output_type": "stream",
     "text": [
      "Processing conversations:  57%|█████▋    | 1180/2057 [3:29:13<2:29:56, 10.26s/it]"
     ]
    },
    {
     "name": "stdout",
     "output_type": "stream",
     "text": [
      "✅ Batch completed in 10.22s (0.204s per text)\n",
      "🚀 Attempting batch of 50 texts...\n"
     ]
    },
    {
     "name": "stderr",
     "output_type": "stream",
     "text": [
      "Processing conversations:  57%|█████▋    | 1181/2057 [3:29:23<2:28:54, 10.20s/it]"
     ]
    },
    {
     "name": "stdout",
     "output_type": "stream",
     "text": [
      "✅ Batch completed in 10.05s (0.201s per text)\n",
      "🚀 Attempting batch of 50 texts...\n"
     ]
    },
    {
     "name": "stderr",
     "output_type": "stream",
     "text": [
      "Processing conversations:  57%|█████▋    | 1182/2057 [3:29:34<2:30:15, 10.30s/it]"
     ]
    },
    {
     "name": "stdout",
     "output_type": "stream",
     "text": [
      "✅ Batch completed in 10.54s (0.211s per text)\n",
      "🚀 Attempting batch of 50 texts...\n"
     ]
    },
    {
     "name": "stderr",
     "output_type": "stream",
     "text": [
      "Processing conversations:  58%|█████▊    | 1183/2057 [3:29:45<2:33:39, 10.55s/it]"
     ]
    },
    {
     "name": "stdout",
     "output_type": "stream",
     "text": [
      "✅ Batch completed in 11.11s (0.222s per text)\n",
      "🚀 Attempting batch of 50 texts...\n"
     ]
    },
    {
     "name": "stderr",
     "output_type": "stream",
     "text": [
      "Processing conversations:  58%|█████▊    | 1184/2057 [3:29:57<2:40:56, 11.06s/it]"
     ]
    },
    {
     "name": "stdout",
     "output_type": "stream",
     "text": [
      "✅ Batch completed in 12.25s (0.245s per text)\n",
      "🚀 Attempting batch of 50 texts...\n"
     ]
    },
    {
     "name": "stderr",
     "output_type": "stream",
     "text": [
      "Processing conversations:  58%|█████▊    | 1185/2057 [3:30:07<2:37:14, 10.82s/it]"
     ]
    },
    {
     "name": "stdout",
     "output_type": "stream",
     "text": [
      "✅ Batch completed in 10.25s (0.205s per text)\n",
      "🚀 Attempting batch of 50 texts...\n"
     ]
    },
    {
     "name": "stderr",
     "output_type": "stream",
     "text": [
      "Processing conversations:  58%|█████▊    | 1186/2057 [3:30:18<2:36:22, 10.77s/it]"
     ]
    },
    {
     "name": "stdout",
     "output_type": "stream",
     "text": [
      "✅ Batch completed in 10.65s (0.213s per text)\n",
      "🚀 Attempting batch of 50 texts...\n"
     ]
    },
    {
     "name": "stderr",
     "output_type": "stream",
     "text": [
      "Processing conversations:  58%|█████▊    | 1187/2057 [3:30:28<2:32:09, 10.49s/it]"
     ]
    },
    {
     "name": "stdout",
     "output_type": "stream",
     "text": [
      "✅ Batch completed in 9.83s (0.197s per text)\n",
      "🚀 Attempting batch of 50 texts...\n"
     ]
    },
    {
     "name": "stderr",
     "output_type": "stream",
     "text": [
      "Processing conversations:  58%|█████▊    | 1188/2057 [3:30:39<2:33:32, 10.60s/it]"
     ]
    },
    {
     "name": "stdout",
     "output_type": "stream",
     "text": [
      "✅ Batch completed in 10.84s (0.217s per text)\n",
      "🚀 Attempting batch of 50 texts...\n"
     ]
    },
    {
     "name": "stderr",
     "output_type": "stream",
     "text": [
      "Processing conversations:  58%|█████▊    | 1189/2057 [3:30:49<2:33:42, 10.62s/it]"
     ]
    },
    {
     "name": "stdout",
     "output_type": "stream",
     "text": [
      "✅ Batch completed in 10.67s (0.213s per text)\n",
      "🚀 Attempting batch of 50 texts...\n"
     ]
    },
    {
     "name": "stderr",
     "output_type": "stream",
     "text": [
      "Processing conversations:  58%|█████▊    | 1190/2057 [3:31:00<2:33:37, 10.63s/it]"
     ]
    },
    {
     "name": "stdout",
     "output_type": "stream",
     "text": [
      "✅ Batch completed in 10.64s (0.213s per text)\n",
      "🚀 Attempting batch of 50 texts...\n"
     ]
    },
    {
     "name": "stderr",
     "output_type": "stream",
     "text": [
      "Processing conversations:  58%|█████▊    | 1191/2057 [3:31:11<2:33:14, 10.62s/it]"
     ]
    },
    {
     "name": "stdout",
     "output_type": "stream",
     "text": [
      "✅ Batch completed in 10.58s (0.212s per text)\n",
      "🚀 Attempting batch of 50 texts...\n"
     ]
    },
    {
     "name": "stderr",
     "output_type": "stream",
     "text": [
      "Processing conversations:  58%|█████▊    | 1192/2057 [3:31:21<2:33:16, 10.63s/it]"
     ]
    },
    {
     "name": "stdout",
     "output_type": "stream",
     "text": [
      "✅ Batch completed in 10.66s (0.213s per text)\n",
      "🚀 Attempting batch of 50 texts...\n"
     ]
    },
    {
     "name": "stderr",
     "output_type": "stream",
     "text": [
      "Processing conversations:  58%|█████▊    | 1193/2057 [3:31:32<2:33:16, 10.64s/it]"
     ]
    },
    {
     "name": "stdout",
     "output_type": "stream",
     "text": [
      "✅ Batch completed in 10.67s (0.213s per text)\n",
      "🚀 Attempting batch of 50 texts...\n"
     ]
    },
    {
     "name": "stderr",
     "output_type": "stream",
     "text": [
      "Processing conversations:  58%|█████▊    | 1194/2057 [3:31:43<2:33:16, 10.66s/it]"
     ]
    },
    {
     "name": "stdout",
     "output_type": "stream",
     "text": [
      "✅ Batch completed in 10.67s (0.213s per text)\n",
      "🚀 Attempting batch of 50 texts...\n"
     ]
    },
    {
     "name": "stderr",
     "output_type": "stream",
     "text": [
      "Processing conversations:  58%|█████▊    | 1195/2057 [3:31:53<2:33:10, 10.66s/it]"
     ]
    },
    {
     "name": "stdout",
     "output_type": "stream",
     "text": [
      "✅ Batch completed in 10.67s (0.213s per text)\n",
      "🚀 Attempting batch of 50 texts...\n"
     ]
    },
    {
     "name": "stderr",
     "output_type": "stream",
     "text": [
      "Processing conversations:  58%|█████▊    | 1196/2057 [3:32:03<2:30:12, 10.47s/it]"
     ]
    },
    {
     "name": "stdout",
     "output_type": "stream",
     "text": [
      "✅ Batch completed in 10.00s (0.200s per text)\n",
      "🚀 Attempting batch of 50 texts...\n"
     ]
    },
    {
     "name": "stderr",
     "output_type": "stream",
     "text": [
      "Processing conversations:  58%|█████▊    | 1197/2057 [3:32:13<2:29:10, 10.41s/it]"
     ]
    },
    {
     "name": "stdout",
     "output_type": "stream",
     "text": [
      "✅ Batch completed in 10.26s (0.205s per text)\n",
      "🚀 Attempting batch of 50 texts...\n"
     ]
    },
    {
     "name": "stderr",
     "output_type": "stream",
     "text": [
      "Processing conversations:  58%|█████▊    | 1198/2057 [3:32:24<2:27:52, 10.33s/it]"
     ]
    },
    {
     "name": "stdout",
     "output_type": "stream",
     "text": [
      "✅ Batch completed in 10.14s (0.203s per text)\n",
      "🚀 Attempting batch of 50 texts...\n"
     ]
    },
    {
     "name": "stderr",
     "output_type": "stream",
     "text": [
      "Processing conversations:  58%|█████▊    | 1199/2057 [3:32:34<2:28:47, 10.41s/it]"
     ]
    },
    {
     "name": "stdout",
     "output_type": "stream",
     "text": [
      "✅ Batch completed in 10.57s (0.211s per text)\n",
      "🚀 Attempting batch of 50 texts...\n"
     ]
    },
    {
     "name": "stderr",
     "output_type": "stream",
     "text": [
      "Processing conversations:  58%|█████▊    | 1200/2057 [3:32:44<2:27:40, 10.34s/it]"
     ]
    },
    {
     "name": "stdout",
     "output_type": "stream",
     "text": [
      "✅ Batch completed in 10.18s (0.204s per text)\n",
      "🚀 Attempting batch of 50 texts...\n"
     ]
    },
    {
     "name": "stderr",
     "output_type": "stream",
     "text": [
      "Processing conversations:  58%|█████▊    | 1201/2057 [3:32:54<2:26:24, 10.26s/it]"
     ]
    },
    {
     "name": "stdout",
     "output_type": "stream",
     "text": [
      "✅ Batch completed in 10.07s (0.201s per text)\n",
      "🚀 Attempting batch of 50 texts...\n"
     ]
    },
    {
     "name": "stderr",
     "output_type": "stream",
     "text": [
      "Processing conversations:  58%|█████▊    | 1202/2057 [3:33:05<2:27:52, 10.38s/it]"
     ]
    },
    {
     "name": "stdout",
     "output_type": "stream",
     "text": [
      "✅ Batch completed in 10.63s (0.213s per text)\n",
      "🚀 Attempting batch of 50 texts...\n"
     ]
    },
    {
     "name": "stderr",
     "output_type": "stream",
     "text": [
      "Processing conversations:  58%|█████▊    | 1203/2057 [3:33:16<2:27:51, 10.39s/it]"
     ]
    },
    {
     "name": "stdout",
     "output_type": "stream",
     "text": [
      "✅ Batch completed in 10.40s (0.208s per text)\n",
      "🚀 Attempting batch of 50 texts...\n"
     ]
    },
    {
     "name": "stderr",
     "output_type": "stream",
     "text": [
      "Processing conversations:  59%|█████▊    | 1204/2057 [3:33:26<2:26:08, 10.28s/it]"
     ]
    },
    {
     "name": "stdout",
     "output_type": "stream",
     "text": [
      "✅ Batch completed in 10.02s (0.200s per text)\n",
      "🚀 Attempting batch of 50 texts...\n"
     ]
    },
    {
     "name": "stderr",
     "output_type": "stream",
     "text": [
      "Processing conversations:  59%|█████▊    | 1205/2057 [3:33:36<2:25:27, 10.24s/it]"
     ]
    },
    {
     "name": "stdout",
     "output_type": "stream",
     "text": [
      "✅ Batch completed in 10.15s (0.203s per text)\n",
      "🚀 Attempting batch of 50 texts...\n"
     ]
    },
    {
     "name": "stderr",
     "output_type": "stream",
     "text": [
      "Processing conversations:  59%|█████▊    | 1206/2057 [3:33:46<2:25:43, 10.27s/it]"
     ]
    },
    {
     "name": "stdout",
     "output_type": "stream",
     "text": [
      "✅ Batch completed in 10.34s (0.207s per text)\n",
      "🚀 Attempting batch of 50 texts...\n"
     ]
    },
    {
     "name": "stderr",
     "output_type": "stream",
     "text": [
      "Processing conversations:  59%|█████▊    | 1207/2057 [3:33:56<2:25:34, 10.28s/it]"
     ]
    },
    {
     "name": "stdout",
     "output_type": "stream",
     "text": [
      "✅ Batch completed in 10.27s (0.205s per text)\n",
      "🚀 Attempting batch of 50 texts...\n"
     ]
    },
    {
     "name": "stderr",
     "output_type": "stream",
     "text": [
      "Processing conversations:  59%|█████▊    | 1208/2057 [3:34:07<2:25:20, 10.27s/it]"
     ]
    },
    {
     "name": "stdout",
     "output_type": "stream",
     "text": [
      "✅ Batch completed in 10.25s (0.205s per text)\n",
      "🚀 Attempting batch of 50 texts...\n"
     ]
    },
    {
     "name": "stderr",
     "output_type": "stream",
     "text": [
      "Processing conversations:  59%|█████▉    | 1209/2057 [3:34:17<2:24:52, 10.25s/it]"
     ]
    },
    {
     "name": "stdout",
     "output_type": "stream",
     "text": [
      "✅ Batch completed in 10.19s (0.204s per text)\n",
      "🚀 Attempting batch of 50 texts...\n"
     ]
    },
    {
     "name": "stderr",
     "output_type": "stream",
     "text": [
      "Processing conversations:  59%|█████▉    | 1210/2057 [3:34:27<2:25:22, 10.30s/it]"
     ]
    },
    {
     "name": "stdout",
     "output_type": "stream",
     "text": [
      "✅ Batch completed in 10.40s (0.208s per text)\n",
      "🚀 Attempting batch of 50 texts...\n"
     ]
    },
    {
     "name": "stderr",
     "output_type": "stream",
     "text": [
      "Processing conversations:  59%|█████▉    | 1211/2057 [3:34:38<2:26:21, 10.38s/it]"
     ]
    },
    {
     "name": "stdout",
     "output_type": "stream",
     "text": [
      "✅ Batch completed in 10.56s (0.211s per text)\n",
      "🚀 Attempting batch of 50 texts...\n"
     ]
    },
    {
     "name": "stderr",
     "output_type": "stream",
     "text": [
      "Processing conversations:  59%|█████▉    | 1212/2057 [3:34:48<2:25:41, 10.34s/it]"
     ]
    },
    {
     "name": "stdout",
     "output_type": "stream",
     "text": [
      "✅ Batch completed in 10.25s (0.205s per text)\n",
      "🚀 Attempting batch of 50 texts...\n"
     ]
    },
    {
     "name": "stderr",
     "output_type": "stream",
     "text": [
      "Processing conversations:  59%|█████▉    | 1213/2057 [3:34:59<2:26:03, 10.38s/it]"
     ]
    },
    {
     "name": "stdout",
     "output_type": "stream",
     "text": [
      "✅ Batch completed in 10.46s (0.209s per text)\n",
      "🚀 Attempting batch of 50 texts...\n"
     ]
    },
    {
     "name": "stderr",
     "output_type": "stream",
     "text": [
      "Processing conversations:  59%|█████▉    | 1214/2057 [3:35:09<2:24:36, 10.29s/it]"
     ]
    },
    {
     "name": "stdout",
     "output_type": "stream",
     "text": [
      "✅ Batch completed in 10.07s (0.201s per text)\n",
      "🚀 Attempting batch of 50 texts...\n"
     ]
    },
    {
     "name": "stderr",
     "output_type": "stream",
     "text": [
      "Processing conversations:  59%|█████▉    | 1215/2057 [3:35:19<2:24:58, 10.33s/it]"
     ]
    },
    {
     "name": "stdout",
     "output_type": "stream",
     "text": [
      "✅ Batch completed in 10.41s (0.208s per text)\n",
      "🚀 Attempting batch of 50 texts...\n"
     ]
    },
    {
     "name": "stderr",
     "output_type": "stream",
     "text": [
      "Processing conversations:  59%|█████▉    | 1216/2057 [3:35:29<2:24:32, 10.31s/it]"
     ]
    },
    {
     "name": "stdout",
     "output_type": "stream",
     "text": [
      "✅ Batch completed in 10.26s (0.205s per text)\n",
      "🚀 Attempting batch of 50 texts...\n"
     ]
    },
    {
     "name": "stderr",
     "output_type": "stream",
     "text": [
      "Processing conversations:  59%|█████▉    | 1217/2057 [3:35:40<2:27:04, 10.51s/it]"
     ]
    },
    {
     "name": "stdout",
     "output_type": "stream",
     "text": [
      "✅ Batch completed in 10.95s (0.219s per text)\n",
      "🚀 Attempting batch of 50 texts...\n"
     ]
    },
    {
     "name": "stderr",
     "output_type": "stream",
     "text": [
      "Processing conversations:  59%|█████▉    | 1218/2057 [3:35:51<2:28:32, 10.62s/it]"
     ]
    },
    {
     "name": "stdout",
     "output_type": "stream",
     "text": [
      "✅ Batch completed in 10.89s (0.218s per text)\n",
      "🚀 Attempting batch of 50 texts...\n"
     ]
    },
    {
     "name": "stderr",
     "output_type": "stream",
     "text": [
      "Processing conversations:  59%|█████▉    | 1219/2057 [3:36:02<2:27:42, 10.58s/it]"
     ]
    },
    {
     "name": "stdout",
     "output_type": "stream",
     "text": [
      "✅ Batch completed in 10.46s (0.209s per text)\n",
      "🚀 Attempting batch of 50 texts...\n"
     ]
    },
    {
     "name": "stderr",
     "output_type": "stream",
     "text": [
      "Processing conversations:  59%|█████▉    | 1220/2057 [3:36:12<2:26:31, 10.50s/it]"
     ]
    },
    {
     "name": "stdout",
     "output_type": "stream",
     "text": [
      "✅ Batch completed in 10.33s (0.207s per text)\n",
      "🚀 Attempting batch of 50 texts...\n"
     ]
    },
    {
     "name": "stderr",
     "output_type": "stream",
     "text": [
      "Processing conversations:  59%|█████▉    | 1221/2057 [3:36:23<2:27:51, 10.61s/it]"
     ]
    },
    {
     "name": "stdout",
     "output_type": "stream",
     "text": [
      "✅ Batch completed in 10.85s (0.217s per text)\n",
      "🚀 Attempting batch of 50 texts...\n"
     ]
    },
    {
     "name": "stderr",
     "output_type": "stream",
     "text": [
      "Processing conversations:  59%|█████▉    | 1222/2057 [3:36:33<2:27:12, 10.58s/it]"
     ]
    },
    {
     "name": "stdout",
     "output_type": "stream",
     "text": [
      "✅ Batch completed in 10.49s (0.210s per text)\n",
      "🚀 Attempting batch of 50 texts...\n"
     ]
    },
    {
     "name": "stderr",
     "output_type": "stream",
     "text": [
      "Processing conversations:  59%|█████▉    | 1223/2057 [3:36:44<2:27:24, 10.60s/it]"
     ]
    },
    {
     "name": "stdout",
     "output_type": "stream",
     "text": [
      "✅ Batch completed in 10.66s (0.213s per text)\n",
      "🚀 Attempting batch of 50 texts...\n"
     ]
    },
    {
     "name": "stderr",
     "output_type": "stream",
     "text": [
      "Processing conversations:  60%|█████▉    | 1224/2057 [3:36:55<2:27:18, 10.61s/it]"
     ]
    },
    {
     "name": "stdout",
     "output_type": "stream",
     "text": [
      "✅ Batch completed in 10.62s (0.212s per text)\n",
      "🚀 Attempting batch of 50 texts...\n"
     ]
    },
    {
     "name": "stderr",
     "output_type": "stream",
     "text": [
      "Processing conversations:  60%|█████▉    | 1225/2057 [3:37:06<2:28:50, 10.73s/it]"
     ]
    },
    {
     "name": "stdout",
     "output_type": "stream",
     "text": [
      "✅ Batch completed in 11.01s (0.220s per text)\n",
      "🚀 Attempting batch of 50 texts...\n"
     ]
    },
    {
     "name": "stderr",
     "output_type": "stream",
     "text": [
      "Processing conversations:  60%|█████▉    | 1226/2057 [3:37:17<2:29:55, 10.82s/it]"
     ]
    },
    {
     "name": "stdout",
     "output_type": "stream",
     "text": [
      "✅ Batch completed in 11.03s (0.221s per text)\n",
      "🚀 Attempting batch of 50 texts...\n"
     ]
    },
    {
     "name": "stderr",
     "output_type": "stream",
     "text": [
      "Processing conversations:  60%|█████▉    | 1227/2057 [3:37:27<2:28:18, 10.72s/it]"
     ]
    },
    {
     "name": "stdout",
     "output_type": "stream",
     "text": [
      "✅ Batch completed in 10.47s (0.209s per text)\n",
      "🚀 Attempting batch of 50 texts...\n"
     ]
    },
    {
     "name": "stderr",
     "output_type": "stream",
     "text": [
      "Processing conversations:  60%|█████▉    | 1228/2057 [3:37:38<2:27:04, 10.64s/it]"
     ]
    },
    {
     "name": "stdout",
     "output_type": "stream",
     "text": [
      "✅ Batch completed in 10.45s (0.209s per text)\n",
      "🚀 Attempting batch of 50 texts...\n"
     ]
    },
    {
     "name": "stderr",
     "output_type": "stream",
     "text": [
      "Processing conversations:  60%|█████▉    | 1229/2057 [3:37:48<2:25:25, 10.54s/it]"
     ]
    },
    {
     "name": "stdout",
     "output_type": "stream",
     "text": [
      "✅ Batch completed in 10.27s (0.205s per text)\n",
      "🚀 Attempting batch of 50 texts...\n"
     ]
    },
    {
     "name": "stderr",
     "output_type": "stream",
     "text": [
      "Processing conversations:  60%|█████▉    | 1230/2057 [3:37:59<2:26:36, 10.64s/it]"
     ]
    },
    {
     "name": "stdout",
     "output_type": "stream",
     "text": [
      "✅ Batch completed in 10.86s (0.217s per text)\n",
      "🚀 Attempting batch of 50 texts...\n"
     ]
    },
    {
     "name": "stderr",
     "output_type": "stream",
     "text": [
      "Processing conversations:  60%|█████▉    | 1231/2057 [3:38:09<2:25:18, 10.56s/it]"
     ]
    },
    {
     "name": "stdout",
     "output_type": "stream",
     "text": [
      "✅ Batch completed in 10.35s (0.207s per text)\n",
      "🚀 Attempting batch of 50 texts...\n"
     ]
    },
    {
     "name": "stderr",
     "output_type": "stream",
     "text": [
      "Processing conversations:  60%|█████▉    | 1232/2057 [3:38:19<2:22:41, 10.38s/it]"
     ]
    },
    {
     "name": "stdout",
     "output_type": "stream",
     "text": [
      "✅ Batch completed in 9.96s (0.199s per text)\n",
      "🚀 Attempting batch of 50 texts...\n"
     ]
    },
    {
     "name": "stderr",
     "output_type": "stream",
     "text": [
      "Processing conversations:  60%|█████▉    | 1233/2057 [3:38:29<2:21:38, 10.31s/it]"
     ]
    },
    {
     "name": "stdout",
     "output_type": "stream",
     "text": [
      "✅ Batch completed in 10.15s (0.203s per text)\n",
      "🚀 Attempting batch of 50 texts...\n"
     ]
    },
    {
     "name": "stderr",
     "output_type": "stream",
     "text": [
      "Processing conversations:  60%|█████▉    | 1234/2057 [3:38:40<2:21:25, 10.31s/it]"
     ]
    },
    {
     "name": "stdout",
     "output_type": "stream",
     "text": [
      "✅ Batch completed in 10.30s (0.206s per text)\n",
      "🚀 Attempting batch of 50 texts...\n"
     ]
    },
    {
     "name": "stderr",
     "output_type": "stream",
     "text": [
      "Processing conversations:  60%|██████    | 1235/2057 [3:38:50<2:22:09, 10.38s/it]"
     ]
    },
    {
     "name": "stdout",
     "output_type": "stream",
     "text": [
      "✅ Batch completed in 10.52s (0.210s per text)\n",
      "🚀 Attempting batch of 50 texts...\n"
     ]
    },
    {
     "name": "stderr",
     "output_type": "stream",
     "text": [
      "Processing conversations:  60%|██████    | 1236/2057 [3:39:00<2:21:14, 10.32s/it]"
     ]
    },
    {
     "name": "stdout",
     "output_type": "stream",
     "text": [
      "✅ Batch completed in 10.17s (0.203s per text)\n",
      "🚀 Attempting batch of 50 texts...\n"
     ]
    },
    {
     "name": "stderr",
     "output_type": "stream",
     "text": [
      "Processing conversations:  60%|██████    | 1237/2057 [3:39:11<2:21:54, 10.38s/it]"
     ]
    },
    {
     "name": "stdout",
     "output_type": "stream",
     "text": [
      "✅ Batch completed in 10.52s (0.210s per text)\n",
      "🚀 Attempting batch of 50 texts...\n"
     ]
    },
    {
     "name": "stderr",
     "output_type": "stream",
     "text": [
      "Processing conversations:  60%|██████    | 1238/2057 [3:39:21<2:22:04, 10.41s/it]"
     ]
    },
    {
     "name": "stdout",
     "output_type": "stream",
     "text": [
      "✅ Batch completed in 10.46s (0.209s per text)\n",
      "🚀 Attempting batch of 50 texts...\n"
     ]
    },
    {
     "name": "stderr",
     "output_type": "stream",
     "text": [
      "Processing conversations:  60%|██████    | 1239/2057 [3:39:32<2:21:29, 10.38s/it]"
     ]
    },
    {
     "name": "stdout",
     "output_type": "stream",
     "text": [
      "✅ Batch completed in 10.30s (0.206s per text)\n",
      "🚀 Attempting batch of 50 texts...\n"
     ]
    },
    {
     "name": "stderr",
     "output_type": "stream",
     "text": [
      "Processing conversations:  60%|██████    | 1240/2057 [3:39:42<2:22:03, 10.43s/it]"
     ]
    },
    {
     "name": "stdout",
     "output_type": "stream",
     "text": [
      "✅ Batch completed in 10.55s (0.211s per text)\n",
      "🚀 Attempting batch of 50 texts...\n"
     ]
    },
    {
     "name": "stderr",
     "output_type": "stream",
     "text": [
      "Processing conversations:  60%|██████    | 1241/2057 [3:39:52<2:20:49, 10.36s/it]"
     ]
    },
    {
     "name": "stdout",
     "output_type": "stream",
     "text": [
      "✅ Batch completed in 10.16s (0.203s per text)\n",
      "🚀 Attempting batch of 50 texts...\n"
     ]
    },
    {
     "name": "stderr",
     "output_type": "stream",
     "text": [
      "Processing conversations:  60%|██████    | 1242/2057 [3:40:02<2:19:48, 10.29s/it]"
     ]
    },
    {
     "name": "stdout",
     "output_type": "stream",
     "text": [
      "✅ Batch completed in 10.14s (0.203s per text)\n",
      "🚀 Attempting batch of 50 texts...\n"
     ]
    },
    {
     "name": "stderr",
     "output_type": "stream",
     "text": [
      "Processing conversations:  60%|██████    | 1243/2057 [3:40:13<2:18:39, 10.22s/it]"
     ]
    },
    {
     "name": "stdout",
     "output_type": "stream",
     "text": [
      "✅ Batch completed in 10.04s (0.201s per text)\n",
      "🚀 Attempting batch of 50 texts...\n"
     ]
    },
    {
     "name": "stderr",
     "output_type": "stream",
     "text": [
      "Processing conversations:  60%|██████    | 1244/2057 [3:40:23<2:18:23, 10.21s/it]"
     ]
    },
    {
     "name": "stdout",
     "output_type": "stream",
     "text": [
      "✅ Batch completed in 10.18s (0.204s per text)\n",
      "🚀 Attempting batch of 50 texts...\n"
     ]
    },
    {
     "name": "stderr",
     "output_type": "stream",
     "text": [
      "Processing conversations:  61%|██████    | 1245/2057 [3:40:33<2:18:28, 10.23s/it]"
     ]
    },
    {
     "name": "stdout",
     "output_type": "stream",
     "text": [
      "✅ Batch completed in 10.26s (0.205s per text)\n",
      "🚀 Attempting batch of 50 texts...\n"
     ]
    },
    {
     "name": "stderr",
     "output_type": "stream",
     "text": [
      "Processing conversations:  61%|██████    | 1246/2057 [3:40:43<2:19:20, 10.31s/it]"
     ]
    },
    {
     "name": "stdout",
     "output_type": "stream",
     "text": [
      "✅ Batch completed in 10.48s (0.210s per text)\n",
      "🚀 Attempting batch of 50 texts...\n"
     ]
    },
    {
     "name": "stderr",
     "output_type": "stream",
     "text": [
      "Processing conversations:  61%|██████    | 1247/2057 [3:40:54<2:18:53, 10.29s/it]"
     ]
    },
    {
     "name": "stdout",
     "output_type": "stream",
     "text": [
      "✅ Batch completed in 10.22s (0.204s per text)\n",
      "🚀 Attempting batch of 50 texts...\n"
     ]
    },
    {
     "name": "stderr",
     "output_type": "stream",
     "text": [
      "Processing conversations:  61%|██████    | 1248/2057 [3:41:04<2:19:20, 10.33s/it]"
     ]
    },
    {
     "name": "stdout",
     "output_type": "stream",
     "text": [
      "✅ Batch completed in 10.43s (0.209s per text)\n",
      "🚀 Attempting batch of 50 texts...\n"
     ]
    },
    {
     "name": "stderr",
     "output_type": "stream",
     "text": [
      "Processing conversations:  61%|██████    | 1249/2057 [3:41:15<2:20:17, 10.42s/it]"
     ]
    },
    {
     "name": "stdout",
     "output_type": "stream",
     "text": [
      "✅ Batch completed in 10.60s (0.212s per text)\n",
      "🚀 Attempting batch of 50 texts...\n"
     ]
    },
    {
     "name": "stderr",
     "output_type": "stream",
     "text": [
      "Processing conversations:  61%|██████    | 1250/2057 [3:41:25<2:21:16, 10.50s/it]"
     ]
    },
    {
     "name": "stdout",
     "output_type": "stream",
     "text": [
      "✅ Batch completed in 10.68s (0.214s per text)\n",
      "🚀 Attempting batch of 50 texts...\n"
     ]
    },
    {
     "name": "stderr",
     "output_type": "stream",
     "text": [
      "Processing conversations:  61%|██████    | 1251/2057 [3:41:37<2:23:30, 10.68s/it]"
     ]
    },
    {
     "name": "stdout",
     "output_type": "stream",
     "text": [
      "✅ Batch completed in 11.09s (0.222s per text)\n",
      "🚀 Attempting batch of 50 texts...\n"
     ]
    },
    {
     "name": "stderr",
     "output_type": "stream",
     "text": [
      "Processing conversations:  61%|██████    | 1252/2057 [3:41:47<2:22:34, 10.63s/it]"
     ]
    },
    {
     "name": "stdout",
     "output_type": "stream",
     "text": [
      "✅ Batch completed in 10.49s (0.210s per text)\n",
      "🚀 Attempting batch of 50 texts...\n"
     ]
    },
    {
     "name": "stderr",
     "output_type": "stream",
     "text": [
      "Processing conversations:  61%|██████    | 1253/2057 [3:41:57<2:20:03, 10.45s/it]"
     ]
    },
    {
     "name": "stdout",
     "output_type": "stream",
     "text": [
      "✅ Batch completed in 10.04s (0.201s per text)\n",
      "🚀 Attempting batch of 50 texts...\n"
     ]
    },
    {
     "name": "stderr",
     "output_type": "stream",
     "text": [
      "Processing conversations:  61%|██████    | 1254/2057 [3:42:07<2:18:45, 10.37s/it]"
     ]
    },
    {
     "name": "stdout",
     "output_type": "stream",
     "text": [
      "✅ Batch completed in 10.14s (0.203s per text)\n",
      "🚀 Attempting batch of 50 texts...\n"
     ]
    },
    {
     "name": "stderr",
     "output_type": "stream",
     "text": [
      "Processing conversations:  61%|██████    | 1255/2057 [3:42:17<2:16:48, 10.23s/it]"
     ]
    },
    {
     "name": "stdout",
     "output_type": "stream",
     "text": [
      "✅ Batch completed in 9.92s (0.198s per text)\n",
      "🚀 Attempting batch of 50 texts...\n"
     ]
    },
    {
     "name": "stderr",
     "output_type": "stream",
     "text": [
      "Processing conversations:  61%|██████    | 1256/2057 [3:42:27<2:16:21, 10.21s/it]"
     ]
    },
    {
     "name": "stdout",
     "output_type": "stream",
     "text": [
      "✅ Batch completed in 10.16s (0.203s per text)\n",
      "🚀 Attempting batch of 50 texts...\n"
     ]
    },
    {
     "name": "stderr",
     "output_type": "stream",
     "text": [
      "Processing conversations:  61%|██████    | 1257/2057 [3:42:38<2:16:46, 10.26s/it]"
     ]
    },
    {
     "name": "stdout",
     "output_type": "stream",
     "text": [
      "✅ Batch completed in 10.35s (0.207s per text)\n",
      "🚀 Attempting batch of 50 texts...\n"
     ]
    },
    {
     "name": "stderr",
     "output_type": "stream",
     "text": [
      "Processing conversations:  61%|██████    | 1258/2057 [3:42:48<2:17:01, 10.29s/it]"
     ]
    },
    {
     "name": "stdout",
     "output_type": "stream",
     "text": [
      "✅ Batch completed in 10.33s (0.207s per text)\n",
      "🚀 Attempting batch of 50 texts...\n"
     ]
    },
    {
     "name": "stderr",
     "output_type": "stream",
     "text": [
      "Processing conversations:  61%|██████    | 1259/2057 [3:42:58<2:16:50, 10.29s/it]"
     ]
    },
    {
     "name": "stdout",
     "output_type": "stream",
     "text": [
      "✅ Batch completed in 10.28s (0.206s per text)\n",
      "🚀 Attempting batch of 50 texts...\n"
     ]
    },
    {
     "name": "stderr",
     "output_type": "stream",
     "text": [
      "Processing conversations:  61%|██████▏   | 1260/2057 [3:43:08<2:15:09, 10.17s/it]"
     ]
    },
    {
     "name": "stdout",
     "output_type": "stream",
     "text": [
      "✅ Batch completed in 9.90s (0.198s per text)\n",
      "🚀 Attempting batch of 50 texts...\n"
     ]
    },
    {
     "name": "stderr",
     "output_type": "stream",
     "text": [
      "Processing conversations:  61%|██████▏   | 1261/2057 [3:43:18<2:14:19, 10.13s/it]"
     ]
    },
    {
     "name": "stdout",
     "output_type": "stream",
     "text": [
      "✅ Batch completed in 10.00s (0.200s per text)\n",
      "🚀 Attempting batch of 50 texts...\n"
     ]
    },
    {
     "name": "stderr",
     "output_type": "stream",
     "text": [
      "Processing conversations:  61%|██████▏   | 1262/2057 [3:43:29<2:16:26, 10.30s/it]"
     ]
    },
    {
     "name": "stdout",
     "output_type": "stream",
     "text": [
      "✅ Batch completed in 10.69s (0.214s per text)\n",
      "🚀 Attempting batch of 50 texts...\n"
     ]
    },
    {
     "name": "stderr",
     "output_type": "stream",
     "text": [
      "Processing conversations:  61%|██████▏   | 1263/2057 [3:43:39<2:16:34, 10.32s/it]"
     ]
    },
    {
     "name": "stdout",
     "output_type": "stream",
     "text": [
      "✅ Batch completed in 10.37s (0.207s per text)\n",
      "🚀 Attempting batch of 50 texts...\n"
     ]
    },
    {
     "name": "stderr",
     "output_type": "stream",
     "text": [
      "Processing conversations:  61%|██████▏   | 1264/2057 [3:43:50<2:16:36, 10.34s/it]"
     ]
    },
    {
     "name": "stdout",
     "output_type": "stream",
     "text": [
      "✅ Batch completed in 10.37s (0.207s per text)\n",
      "🚀 Attempting batch of 50 texts...\n"
     ]
    },
    {
     "name": "stderr",
     "output_type": "stream",
     "text": [
      "Processing conversations:  61%|██████▏   | 1265/2057 [3:44:00<2:15:09, 10.24s/it]"
     ]
    },
    {
     "name": "stdout",
     "output_type": "stream",
     "text": [
      "✅ Batch completed in 10.01s (0.200s per text)\n",
      "🚀 Attempting batch of 50 texts...\n"
     ]
    },
    {
     "name": "stderr",
     "output_type": "stream",
     "text": [
      "Processing conversations:  62%|██████▏   | 1266/2057 [3:44:10<2:13:59, 10.16s/it]"
     ]
    },
    {
     "name": "stdout",
     "output_type": "stream",
     "text": [
      "✅ Batch completed in 9.98s (0.200s per text)\n",
      "🚀 Attempting batch of 50 texts...\n"
     ]
    },
    {
     "name": "stderr",
     "output_type": "stream",
     "text": [
      "Processing conversations:  62%|██████▏   | 1267/2057 [3:44:20<2:14:36, 10.22s/it]"
     ]
    },
    {
     "name": "stdout",
     "output_type": "stream",
     "text": [
      "✅ Batch completed in 10.35s (0.207s per text)\n",
      "🚀 Attempting batch of 50 texts...\n"
     ]
    },
    {
     "name": "stderr",
     "output_type": "stream",
     "text": [
      "Processing conversations:  62%|██████▏   | 1268/2057 [3:44:30<2:14:36, 10.24s/it]"
     ]
    },
    {
     "name": "stdout",
     "output_type": "stream",
     "text": [
      "✅ Batch completed in 10.25s (0.205s per text)\n",
      "🚀 Attempting batch of 50 texts...\n"
     ]
    },
    {
     "name": "stderr",
     "output_type": "stream",
     "text": [
      "Processing conversations:  62%|██████▏   | 1269/2057 [3:44:41<2:14:27, 10.24s/it]"
     ]
    },
    {
     "name": "stdout",
     "output_type": "stream",
     "text": [
      "✅ Batch completed in 10.24s (0.205s per text)\n",
      "🚀 Attempting batch of 50 texts...\n"
     ]
    },
    {
     "name": "stderr",
     "output_type": "stream",
     "text": [
      "Processing conversations:  62%|██████▏   | 1270/2057 [3:44:51<2:15:34, 10.34s/it]"
     ]
    },
    {
     "name": "stdout",
     "output_type": "stream",
     "text": [
      "✅ Batch completed in 10.56s (0.211s per text)\n",
      "🚀 Attempting batch of 50 texts...\n"
     ]
    },
    {
     "name": "stderr",
     "output_type": "stream",
     "text": [
      "Processing conversations:  62%|██████▏   | 1271/2057 [3:45:01<2:13:33, 10.20s/it]"
     ]
    },
    {
     "name": "stdout",
     "output_type": "stream",
     "text": [
      "✅ Batch completed in 9.86s (0.197s per text)\n",
      "🚀 Attempting batch of 50 texts...\n"
     ]
    },
    {
     "name": "stderr",
     "output_type": "stream",
     "text": [
      "Processing conversations:  62%|██████▏   | 1272/2057 [3:45:11<2:12:11, 10.10s/it]"
     ]
    },
    {
     "name": "stdout",
     "output_type": "stream",
     "text": [
      "✅ Batch completed in 9.88s (0.198s per text)\n",
      "🚀 Attempting batch of 50 texts...\n"
     ]
    },
    {
     "name": "stderr",
     "output_type": "stream",
     "text": [
      "Processing conversations:  62%|██████▏   | 1273/2057 [3:45:21<2:11:43, 10.08s/it]"
     ]
    },
    {
     "name": "stdout",
     "output_type": "stream",
     "text": [
      "✅ Batch completed in 10.02s (0.200s per text)\n",
      "🚀 Attempting batch of 50 texts...\n"
     ]
    },
    {
     "name": "stderr",
     "output_type": "stream",
     "text": [
      "Processing conversations:  62%|██████▏   | 1274/2057 [3:45:32<2:14:21, 10.30s/it]"
     ]
    },
    {
     "name": "stdout",
     "output_type": "stream",
     "text": [
      "✅ Batch completed in 10.79s (0.216s per text)\n",
      "🚀 Attempting batch of 50 texts...\n"
     ]
    },
    {
     "name": "stderr",
     "output_type": "stream",
     "text": [
      "Processing conversations:  62%|██████▏   | 1275/2057 [3:45:42<2:14:01, 10.28s/it]"
     ]
    },
    {
     "name": "stdout",
     "output_type": "stream",
     "text": [
      "✅ Batch completed in 10.25s (0.205s per text)\n",
      "🚀 Attempting batch of 50 texts...\n"
     ]
    },
    {
     "name": "stderr",
     "output_type": "stream",
     "text": [
      "Processing conversations:  62%|██████▏   | 1276/2057 [3:45:52<2:12:53, 10.21s/it]"
     ]
    },
    {
     "name": "stdout",
     "output_type": "stream",
     "text": [
      "✅ Batch completed in 10.03s (0.201s per text)\n",
      "🚀 Attempting batch of 50 texts...\n"
     ]
    },
    {
     "name": "stderr",
     "output_type": "stream",
     "text": [
      "Processing conversations:  62%|██████▏   | 1277/2057 [3:46:02<2:11:57, 10.15s/it]"
     ]
    },
    {
     "name": "stdout",
     "output_type": "stream",
     "text": [
      "✅ Batch completed in 10.01s (0.200s per text)\n",
      "🚀 Attempting batch of 50 texts...\n"
     ]
    },
    {
     "name": "stderr",
     "output_type": "stream",
     "text": [
      "Processing conversations:  62%|██████▏   | 1278/2057 [3:46:12<2:11:54, 10.16s/it]"
     ]
    },
    {
     "name": "stdout",
     "output_type": "stream",
     "text": [
      "✅ Batch completed in 10.17s (0.203s per text)\n",
      "🚀 Attempting batch of 50 texts...\n"
     ]
    },
    {
     "name": "stderr",
     "output_type": "stream",
     "text": [
      "Processing conversations:  62%|██████▏   | 1279/2057 [3:46:22<2:11:07, 10.11s/it]"
     ]
    },
    {
     "name": "stdout",
     "output_type": "stream",
     "text": [
      "✅ Batch completed in 9.99s (0.200s per text)\n",
      "🚀 Attempting batch of 50 texts...\n"
     ]
    },
    {
     "name": "stderr",
     "output_type": "stream",
     "text": [
      "Processing conversations:  62%|██████▏   | 1280/2057 [3:46:32<2:10:53, 10.11s/it]"
     ]
    },
    {
     "name": "stdout",
     "output_type": "stream",
     "text": [
      "✅ Batch completed in 10.09s (0.202s per text)\n",
      "🚀 Attempting batch of 50 texts...\n"
     ]
    },
    {
     "name": "stderr",
     "output_type": "stream",
     "text": [
      "Processing conversations:  62%|██████▏   | 1281/2057 [3:46:43<2:11:36, 10.18s/it]"
     ]
    },
    {
     "name": "stdout",
     "output_type": "stream",
     "text": [
      "✅ Batch completed in 10.33s (0.207s per text)\n",
      "🚀 Attempting batch of 50 texts...\n"
     ]
    },
    {
     "name": "stderr",
     "output_type": "stream",
     "text": [
      "Processing conversations:  62%|██████▏   | 1282/2057 [3:46:53<2:10:58, 10.14s/it]"
     ]
    },
    {
     "name": "stdout",
     "output_type": "stream",
     "text": [
      "✅ Batch completed in 10.05s (0.201s per text)\n",
      "🚀 Attempting batch of 50 texts...\n"
     ]
    },
    {
     "name": "stderr",
     "output_type": "stream",
     "text": [
      "Processing conversations:  62%|██████▏   | 1283/2057 [3:47:03<2:12:11, 10.25s/it]"
     ]
    },
    {
     "name": "stdout",
     "output_type": "stream",
     "text": [
      "✅ Batch completed in 10.49s (0.210s per text)\n",
      "🚀 Attempting batch of 50 texts...\n"
     ]
    },
    {
     "name": "stderr",
     "output_type": "stream",
     "text": [
      "Processing conversations:  62%|██████▏   | 1284/2057 [3:47:13<2:11:32, 10.21s/it]"
     ]
    },
    {
     "name": "stdout",
     "output_type": "stream",
     "text": [
      "✅ Batch completed in 10.11s (0.202s per text)\n",
      "🚀 Attempting batch of 50 texts...\n"
     ]
    },
    {
     "name": "stderr",
     "output_type": "stream",
     "text": [
      "Processing conversations:  62%|██████▏   | 1285/2057 [3:47:24<2:11:51, 10.25s/it]"
     ]
    },
    {
     "name": "stdout",
     "output_type": "stream",
     "text": [
      "✅ Batch completed in 10.33s (0.207s per text)\n",
      "🚀 Attempting batch of 50 texts...\n"
     ]
    },
    {
     "name": "stderr",
     "output_type": "stream",
     "text": [
      "Processing conversations:  63%|██████▎   | 1286/2057 [3:47:34<2:12:20, 10.30s/it]"
     ]
    },
    {
     "name": "stdout",
     "output_type": "stream",
     "text": [
      "✅ Batch completed in 10.41s (0.208s per text)\n",
      "🚀 Attempting batch of 50 texts...\n"
     ]
    },
    {
     "name": "stderr",
     "output_type": "stream",
     "text": [
      "Processing conversations:  63%|██████▎   | 1287/2057 [3:47:44<2:11:11, 10.22s/it]"
     ]
    },
    {
     "name": "stdout",
     "output_type": "stream",
     "text": [
      "✅ Batch completed in 10.04s (0.201s per text)\n",
      "🚀 Attempting batch of 50 texts...\n"
     ]
    },
    {
     "name": "stderr",
     "output_type": "stream",
     "text": [
      "Processing conversations:  63%|██████▎   | 1288/2057 [3:47:54<2:10:40, 10.20s/it]"
     ]
    },
    {
     "name": "stdout",
     "output_type": "stream",
     "text": [
      "✅ Batch completed in 10.13s (0.203s per text)\n",
      "🚀 Attempting batch of 50 texts...\n"
     ]
    },
    {
     "name": "stderr",
     "output_type": "stream",
     "text": [
      "Processing conversations:  63%|██████▎   | 1289/2057 [3:48:05<2:10:36, 10.20s/it]"
     ]
    },
    {
     "name": "stdout",
     "output_type": "stream",
     "text": [
      "✅ Batch completed in 10.21s (0.204s per text)\n",
      "🚀 Attempting batch of 50 texts...\n"
     ]
    },
    {
     "name": "stderr",
     "output_type": "stream",
     "text": [
      "Processing conversations:  63%|██████▎   | 1290/2057 [3:48:14<2:09:17, 10.11s/it]"
     ]
    },
    {
     "name": "stdout",
     "output_type": "stream",
     "text": [
      "✅ Batch completed in 9.90s (0.198s per text)\n",
      "🚀 Attempting batch of 50 texts...\n"
     ]
    },
    {
     "name": "stderr",
     "output_type": "stream",
     "text": [
      "Processing conversations:  63%|██████▎   | 1291/2057 [3:48:24<2:08:15, 10.05s/it]"
     ]
    },
    {
     "name": "stdout",
     "output_type": "stream",
     "text": [
      "✅ Batch completed in 9.88s (0.198s per text)\n",
      "🚀 Attempting batch of 50 texts...\n"
     ]
    },
    {
     "name": "stderr",
     "output_type": "stream",
     "text": [
      "Processing conversations:  63%|██████▎   | 1292/2057 [3:48:35<2:09:42, 10.17s/it]"
     ]
    },
    {
     "name": "stdout",
     "output_type": "stream",
     "text": [
      "✅ Batch completed in 10.46s (0.209s per text)\n",
      "🚀 Attempting batch of 50 texts...\n"
     ]
    },
    {
     "name": "stderr",
     "output_type": "stream",
     "text": [
      "Processing conversations:  63%|██████▎   | 1293/2057 [3:48:45<2:10:33, 10.25s/it]"
     ]
    },
    {
     "name": "stdout",
     "output_type": "stream",
     "text": [
      "✅ Batch completed in 10.43s (0.209s per text)\n",
      "🚀 Attempting batch of 50 texts...\n"
     ]
    },
    {
     "name": "stderr",
     "output_type": "stream",
     "text": [
      "Processing conversations:  63%|██████▎   | 1294/2057 [3:48:55<2:09:52, 10.21s/it]"
     ]
    },
    {
     "name": "stdout",
     "output_type": "stream",
     "text": [
      "✅ Batch completed in 10.11s (0.202s per text)\n",
      "🚀 Attempting batch of 50 texts...\n"
     ]
    },
    {
     "name": "stderr",
     "output_type": "stream",
     "text": [
      "Processing conversations:  63%|██████▎   | 1295/2057 [3:49:06<2:09:40, 10.21s/it]"
     ]
    },
    {
     "name": "stdout",
     "output_type": "stream",
     "text": [
      "✅ Batch completed in 10.20s (0.204s per text)\n",
      "🚀 Attempting batch of 50 texts...\n"
     ]
    },
    {
     "name": "stderr",
     "output_type": "stream",
     "text": [
      "Processing conversations:  63%|██████▎   | 1296/2057 [3:49:16<2:10:51, 10.32s/it]"
     ]
    },
    {
     "name": "stdout",
     "output_type": "stream",
     "text": [
      "✅ Batch completed in 10.56s (0.211s per text)\n",
      "🚀 Attempting batch of 50 texts...\n"
     ]
    },
    {
     "name": "stderr",
     "output_type": "stream",
     "text": [
      "Processing conversations:  63%|██████▎   | 1297/2057 [3:49:27<2:11:02, 10.35s/it]"
     ]
    },
    {
     "name": "stdout",
     "output_type": "stream",
     "text": [
      "✅ Batch completed in 10.40s (0.208s per text)\n",
      "🚀 Attempting batch of 50 texts...\n"
     ]
    },
    {
     "name": "stderr",
     "output_type": "stream",
     "text": [
      "Processing conversations:  63%|██████▎   | 1298/2057 [3:49:37<2:10:25, 10.31s/it]"
     ]
    },
    {
     "name": "stdout",
     "output_type": "stream",
     "text": [
      "✅ Batch completed in 10.23s (0.205s per text)\n",
      "🚀 Attempting batch of 50 texts...\n"
     ]
    },
    {
     "name": "stderr",
     "output_type": "stream",
     "text": [
      "Processing conversations:  63%|██████▎   | 1299/2057 [3:49:48<2:12:07, 10.46s/it]"
     ]
    },
    {
     "name": "stdout",
     "output_type": "stream",
     "text": [
      "✅ Batch completed in 10.80s (0.216s per text)\n",
      "🚀 Attempting batch of 50 texts...\n"
     ]
    },
    {
     "name": "stderr",
     "output_type": "stream",
     "text": [
      "Processing conversations:  63%|██████▎   | 1300/2057 [3:49:58<2:13:04, 10.55s/it]"
     ]
    },
    {
     "name": "stdout",
     "output_type": "stream",
     "text": [
      "✅ Batch completed in 10.75s (0.215s per text)\n",
      "🚀 Attempting batch of 50 texts...\n"
     ]
    },
    {
     "name": "stderr",
     "output_type": "stream",
     "text": [
      "Processing conversations:  63%|██████▎   | 1301/2057 [3:50:09<2:14:11, 10.65s/it]"
     ]
    },
    {
     "name": "stdout",
     "output_type": "stream",
     "text": [
      "✅ Batch completed in 10.89s (0.218s per text)\n",
      "🚀 Attempting batch of 50 texts...\n"
     ]
    },
    {
     "name": "stderr",
     "output_type": "stream",
     "text": [
      "Processing conversations:  63%|██████▎   | 1302/2057 [3:50:20<2:15:27, 10.77s/it]"
     ]
    },
    {
     "name": "stdout",
     "output_type": "stream",
     "text": [
      "✅ Batch completed in 11.03s (0.221s per text)\n",
      "🚀 Attempting batch of 50 texts...\n"
     ]
    },
    {
     "name": "stderr",
     "output_type": "stream",
     "text": [
      "Processing conversations:  63%|██████▎   | 1303/2057 [3:50:31<2:15:47, 10.81s/it]"
     ]
    },
    {
     "name": "stdout",
     "output_type": "stream",
     "text": [
      "✅ Batch completed in 10.90s (0.218s per text)\n",
      "🚀 Attempting batch of 50 texts...\n"
     ]
    },
    {
     "name": "stderr",
     "output_type": "stream",
     "text": [
      "Processing conversations:  63%|██████▎   | 1304/2057 [3:50:42<2:16:49, 10.90s/it]"
     ]
    },
    {
     "name": "stdout",
     "output_type": "stream",
     "text": [
      "✅ Batch completed in 11.12s (0.222s per text)\n",
      "🚀 Attempting batch of 50 texts...\n"
     ]
    },
    {
     "name": "stderr",
     "output_type": "stream",
     "text": [
      "Processing conversations:  63%|██████▎   | 1305/2057 [3:50:53<2:17:51, 11.00s/it]"
     ]
    },
    {
     "name": "stdout",
     "output_type": "stream",
     "text": [
      "✅ Batch completed in 11.22s (0.224s per text)\n",
      "🚀 Attempting batch of 50 texts...\n"
     ]
    },
    {
     "name": "stderr",
     "output_type": "stream",
     "text": [
      "Processing conversations:  63%|██████▎   | 1306/2057 [3:51:04<2:17:16, 10.97s/it]"
     ]
    },
    {
     "name": "stdout",
     "output_type": "stream",
     "text": [
      "✅ Batch completed in 10.89s (0.218s per text)\n",
      "🚀 Attempting batch of 50 texts...\n"
     ]
    },
    {
     "name": "stderr",
     "output_type": "stream",
     "text": [
      "Processing conversations:  64%|██████▎   | 1307/2057 [3:51:15<2:17:25, 10.99s/it]"
     ]
    },
    {
     "name": "stdout",
     "output_type": "stream",
     "text": [
      "✅ Batch completed in 11.05s (0.221s per text)\n",
      "🚀 Attempting batch of 50 texts...\n"
     ]
    },
    {
     "name": "stderr",
     "output_type": "stream",
     "text": [
      "Processing conversations:  64%|██████▎   | 1308/2057 [3:51:26<2:17:11, 10.99s/it]"
     ]
    },
    {
     "name": "stdout",
     "output_type": "stream",
     "text": [
      "✅ Batch completed in 10.97s (0.219s per text)\n",
      "🚀 Attempting batch of 50 texts...\n"
     ]
    },
    {
     "name": "stderr",
     "output_type": "stream",
     "text": [
      "Processing conversations:  64%|██████▎   | 1309/2057 [3:51:37<2:17:09, 11.00s/it]"
     ]
    },
    {
     "name": "stdout",
     "output_type": "stream",
     "text": [
      "✅ Batch completed in 11.02s (0.220s per text)\n",
      "🚀 Attempting batch of 50 texts...\n"
     ]
    },
    {
     "name": "stderr",
     "output_type": "stream",
     "text": [
      "Processing conversations:  64%|██████▎   | 1310/2057 [3:51:48<2:16:16, 10.95s/it]"
     ]
    },
    {
     "name": "stdout",
     "output_type": "stream",
     "text": [
      "✅ Batch completed in 10.81s (0.216s per text)\n",
      "🚀 Attempting batch of 50 texts...\n"
     ]
    },
    {
     "name": "stderr",
     "output_type": "stream",
     "text": [
      "Processing conversations:  64%|██████▎   | 1311/2057 [3:51:59<2:15:21, 10.89s/it]"
     ]
    },
    {
     "name": "stdout",
     "output_type": "stream",
     "text": [
      "✅ Batch completed in 10.74s (0.215s per text)\n",
      "🚀 Attempting batch of 50 texts...\n"
     ]
    },
    {
     "name": "stderr",
     "output_type": "stream",
     "text": [
      "Processing conversations:  64%|██████▍   | 1312/2057 [3:52:09<2:13:18, 10.74s/it]"
     ]
    },
    {
     "name": "stdout",
     "output_type": "stream",
     "text": [
      "✅ Batch completed in 10.38s (0.208s per text)\n",
      "🚀 Attempting batch of 50 texts...\n"
     ]
    },
    {
     "name": "stderr",
     "output_type": "stream",
     "text": [
      "Processing conversations:  64%|██████▍   | 1313/2057 [3:52:20<2:13:07, 10.74s/it]"
     ]
    },
    {
     "name": "stdout",
     "output_type": "stream",
     "text": [
      "✅ Batch completed in 10.73s (0.215s per text)\n",
      "🚀 Attempting batch of 50 texts...\n"
     ]
    },
    {
     "name": "stderr",
     "output_type": "stream",
     "text": [
      "Processing conversations:  64%|██████▍   | 1314/2057 [3:52:32<2:16:22, 11.01s/it]"
     ]
    },
    {
     "name": "stdout",
     "output_type": "stream",
     "text": [
      "✅ Batch completed in 11.66s (0.233s per text)\n",
      "🚀 Attempting batch of 50 texts...\n"
     ]
    },
    {
     "name": "stderr",
     "output_type": "stream",
     "text": [
      "Processing conversations:  64%|██████▍   | 1315/2057 [3:52:44<2:19:02, 11.24s/it]"
     ]
    },
    {
     "name": "stdout",
     "output_type": "stream",
     "text": [
      "✅ Batch completed in 11.78s (0.236s per text)\n",
      "🚀 Attempting batch of 50 texts...\n"
     ]
    },
    {
     "name": "stderr",
     "output_type": "stream",
     "text": [
      "Processing conversations:  64%|██████▍   | 1316/2057 [3:52:55<2:18:52, 11.24s/it]"
     ]
    },
    {
     "name": "stdout",
     "output_type": "stream",
     "text": [
      "✅ Batch completed in 11.24s (0.225s per text)\n",
      "🚀 Attempting batch of 50 texts...\n"
     ]
    },
    {
     "name": "stderr",
     "output_type": "stream",
     "text": [
      "Processing conversations:  64%|██████▍   | 1317/2057 [3:53:07<2:20:18, 11.38s/it]"
     ]
    },
    {
     "name": "stdout",
     "output_type": "stream",
     "text": [
      "✅ Batch completed in 11.68s (0.234s per text)\n",
      "🚀 Attempting batch of 50 texts...\n"
     ]
    },
    {
     "name": "stderr",
     "output_type": "stream",
     "text": [
      "Processing conversations:  64%|██████▍   | 1318/2057 [3:53:18<2:20:25, 11.40s/it]"
     ]
    },
    {
     "name": "stdout",
     "output_type": "stream",
     "text": [
      "✅ Batch completed in 11.46s (0.229s per text)\n",
      "🚀 Attempting batch of 50 texts...\n"
     ]
    },
    {
     "name": "stderr",
     "output_type": "stream",
     "text": [
      "Processing conversations:  64%|██████▍   | 1319/2057 [3:53:29<2:18:52, 11.29s/it]"
     ]
    },
    {
     "name": "stdout",
     "output_type": "stream",
     "text": [
      "✅ Batch completed in 11.03s (0.221s per text)\n",
      "🚀 Attempting batch of 50 texts...\n"
     ]
    },
    {
     "name": "stderr",
     "output_type": "stream",
     "text": [
      "Processing conversations:  64%|██████▍   | 1320/2057 [3:53:40<2:17:59, 11.23s/it]"
     ]
    },
    {
     "name": "stdout",
     "output_type": "stream",
     "text": [
      "✅ Batch completed in 11.10s (0.222s per text)\n",
      "🚀 Attempting batch of 50 texts...\n"
     ]
    },
    {
     "name": "stderr",
     "output_type": "stream",
     "text": [
      "Processing conversations:  64%|██████▍   | 1321/2057 [3:53:52<2:19:55, 11.41s/it]"
     ]
    },
    {
     "name": "stdout",
     "output_type": "stream",
     "text": [
      "✅ Batch completed in 11.80s (0.236s per text)\n",
      "🚀 Attempting batch of 50 texts...\n"
     ]
    },
    {
     "name": "stderr",
     "output_type": "stream",
     "text": [
      "Processing conversations:  64%|██████▍   | 1322/2057 [3:54:04<2:20:36, 11.48s/it]"
     ]
    },
    {
     "name": "stdout",
     "output_type": "stream",
     "text": [
      "✅ Batch completed in 11.63s (0.233s per text)\n",
      "🚀 Attempting batch of 50 texts...\n"
     ]
    },
    {
     "name": "stderr",
     "output_type": "stream",
     "text": [
      "Processing conversations:  64%|██████▍   | 1323/2057 [3:54:15<2:18:27, 11.32s/it]"
     ]
    },
    {
     "name": "stdout",
     "output_type": "stream",
     "text": [
      "✅ Batch completed in 10.94s (0.219s per text)\n",
      "🚀 Attempting batch of 50 texts...\n"
     ]
    },
    {
     "name": "stderr",
     "output_type": "stream",
     "text": [
      "Processing conversations:  64%|██████▍   | 1324/2057 [3:54:26<2:19:49, 11.45s/it]"
     ]
    },
    {
     "name": "stdout",
     "output_type": "stream",
     "text": [
      "✅ Batch completed in 11.74s (0.235s per text)\n",
      "🚀 Attempting batch of 50 texts...\n"
     ]
    },
    {
     "name": "stderr",
     "output_type": "stream",
     "text": [
      "Processing conversations:  64%|██████▍   | 1325/2057 [3:54:38<2:19:34, 11.44s/it]"
     ]
    },
    {
     "name": "stdout",
     "output_type": "stream",
     "text": [
      "✅ Batch completed in 11.42s (0.228s per text)\n",
      "🚀 Attempting batch of 50 texts...\n"
     ]
    },
    {
     "name": "stderr",
     "output_type": "stream",
     "text": [
      "Processing conversations:  64%|██████▍   | 1326/2057 [3:54:48<2:15:48, 11.15s/it]"
     ]
    },
    {
     "name": "stdout",
     "output_type": "stream",
     "text": [
      "✅ Batch completed in 10.45s (0.209s per text)\n",
      "🚀 Attempting batch of 50 texts...\n"
     ]
    },
    {
     "name": "stderr",
     "output_type": "stream",
     "text": [
      "Processing conversations:  65%|██████▍   | 1327/2057 [3:54:59<2:16:14, 11.20s/it]"
     ]
    },
    {
     "name": "stdout",
     "output_type": "stream",
     "text": [
      "✅ Batch completed in 11.31s (0.226s per text)\n",
      "🚀 Attempting batch of 50 texts...\n"
     ]
    },
    {
     "name": "stderr",
     "output_type": "stream",
     "text": [
      "Processing conversations:  65%|██████▍   | 1328/2057 [3:55:10<2:14:22, 11.06s/it]"
     ]
    },
    {
     "name": "stdout",
     "output_type": "stream",
     "text": [
      "✅ Batch completed in 10.73s (0.215s per text)\n",
      "🚀 Attempting batch of 50 texts...\n"
     ]
    },
    {
     "name": "stderr",
     "output_type": "stream",
     "text": [
      "Processing conversations:  65%|██████▍   | 1329/2057 [3:55:21<2:12:32, 10.92s/it]"
     ]
    },
    {
     "name": "stdout",
     "output_type": "stream",
     "text": [
      "✅ Batch completed in 10.60s (0.212s per text)\n",
      "🚀 Attempting batch of 50 texts...\n"
     ]
    },
    {
     "name": "stderr",
     "output_type": "stream",
     "text": [
      "Processing conversations:  65%|██████▍   | 1330/2057 [3:55:32<2:12:13, 10.91s/it]"
     ]
    },
    {
     "name": "stdout",
     "output_type": "stream",
     "text": [
      "✅ Batch completed in 10.88s (0.218s per text)\n",
      "🚀 Attempting batch of 50 texts...\n"
     ]
    },
    {
     "name": "stderr",
     "output_type": "stream",
     "text": [
      "Processing conversations:  65%|██████▍   | 1331/2057 [3:55:43<2:12:09, 10.92s/it]"
     ]
    },
    {
     "name": "stdout",
     "output_type": "stream",
     "text": [
      "✅ Batch completed in 10.94s (0.219s per text)\n",
      "🚀 Attempting batch of 50 texts...\n"
     ]
    },
    {
     "name": "stderr",
     "output_type": "stream",
     "text": [
      "Processing conversations:  65%|██████▍   | 1332/2057 [3:55:54<2:11:49, 10.91s/it]"
     ]
    },
    {
     "name": "stdout",
     "output_type": "stream",
     "text": [
      "✅ Batch completed in 10.87s (0.217s per text)\n",
      "🚀 Attempting batch of 50 texts...\n"
     ]
    },
    {
     "name": "stderr",
     "output_type": "stream",
     "text": [
      "Processing conversations:  65%|██████▍   | 1333/2057 [3:56:04<2:10:21, 10.80s/it]"
     ]
    },
    {
     "name": "stdout",
     "output_type": "stream",
     "text": [
      "✅ Batch completed in 10.55s (0.211s per text)\n",
      "🚀 Attempting batch of 50 texts...\n"
     ]
    },
    {
     "name": "stderr",
     "output_type": "stream",
     "text": [
      "Processing conversations:  65%|██████▍   | 1334/2057 [3:56:15<2:09:32, 10.75s/it]"
     ]
    },
    {
     "name": "stdout",
     "output_type": "stream",
     "text": [
      "✅ Batch completed in 10.62s (0.212s per text)\n",
      "🚀 Attempting batch of 50 texts...\n"
     ]
    },
    {
     "name": "stderr",
     "output_type": "stream",
     "text": [
      "Processing conversations:  65%|██████▍   | 1335/2057 [3:56:25<2:08:49, 10.71s/it]"
     ]
    },
    {
     "name": "stdout",
     "output_type": "stream",
     "text": [
      "✅ Batch completed in 10.60s (0.212s per text)\n",
      "🚀 Attempting batch of 50 texts...\n"
     ]
    },
    {
     "name": "stderr",
     "output_type": "stream",
     "text": [
      "Processing conversations:  65%|██████▍   | 1336/2057 [3:56:36<2:09:46, 10.80s/it]"
     ]
    },
    {
     "name": "stdout",
     "output_type": "stream",
     "text": [
      "✅ Batch completed in 11.01s (0.220s per text)\n",
      "🚀 Attempting batch of 50 texts...\n"
     ]
    },
    {
     "name": "stderr",
     "output_type": "stream",
     "text": [
      "Processing conversations:  65%|██████▍   | 1337/2057 [3:56:47<2:09:01, 10.75s/it]"
     ]
    },
    {
     "name": "stdout",
     "output_type": "stream",
     "text": [
      "✅ Batch completed in 10.63s (0.213s per text)\n",
      "🚀 Attempting batch of 50 texts...\n"
     ]
    },
    {
     "name": "stderr",
     "output_type": "stream",
     "text": [
      "Processing conversations:  65%|██████▌   | 1338/2057 [3:56:57<2:06:21, 10.54s/it]"
     ]
    },
    {
     "name": "stdout",
     "output_type": "stream",
     "text": [
      "✅ Batch completed in 10.05s (0.201s per text)\n",
      "🚀 Attempting batch of 50 texts...\n"
     ]
    },
    {
     "name": "stderr",
     "output_type": "stream",
     "text": [
      "Processing conversations:  65%|██████▌   | 1339/2057 [3:57:08<2:06:43, 10.59s/it]"
     ]
    },
    {
     "name": "stdout",
     "output_type": "stream",
     "text": [
      "✅ Batch completed in 10.69s (0.214s per text)\n",
      "🚀 Attempting batch of 50 texts...\n"
     ]
    },
    {
     "name": "stderr",
     "output_type": "stream",
     "text": [
      "Processing conversations:  65%|██████▌   | 1340/2057 [3:57:19<2:10:00, 10.88s/it]"
     ]
    },
    {
     "name": "stdout",
     "output_type": "stream",
     "text": [
      "✅ Batch completed in 11.55s (0.231s per text)\n",
      "🚀 Attempting batch of 50 texts...\n"
     ]
    },
    {
     "name": "stderr",
     "output_type": "stream",
     "text": [
      "Processing conversations:  65%|██████▌   | 1341/2057 [3:57:30<2:10:15, 10.92s/it]"
     ]
    },
    {
     "name": "stdout",
     "output_type": "stream",
     "text": [
      "✅ Batch completed in 10.99s (0.220s per text)\n",
      "🚀 Attempting batch of 50 texts...\n"
     ]
    },
    {
     "name": "stderr",
     "output_type": "stream",
     "text": [
      "Processing conversations:  65%|██████▌   | 1342/2057 [3:57:42<2:11:54, 11.07s/it]"
     ]
    },
    {
     "name": "stdout",
     "output_type": "stream",
     "text": [
      "✅ Batch completed in 11.42s (0.228s per text)\n",
      "🚀 Attempting batch of 50 texts...\n"
     ]
    },
    {
     "name": "stderr",
     "output_type": "stream",
     "text": [
      "Processing conversations:  65%|██████▌   | 1343/2057 [3:57:53<2:11:04, 11.01s/it]"
     ]
    },
    {
     "name": "stdout",
     "output_type": "stream",
     "text": [
      "✅ Batch completed in 10.88s (0.218s per text)\n",
      "🚀 Attempting batch of 50 texts...\n"
     ]
    },
    {
     "name": "stderr",
     "output_type": "stream",
     "text": [
      "Processing conversations:  65%|██████▌   | 1344/2057 [3:58:03<2:08:18, 10.80s/it]"
     ]
    },
    {
     "name": "stdout",
     "output_type": "stream",
     "text": [
      "✅ Batch completed in 10.29s (0.206s per text)\n",
      "🚀 Attempting batch of 50 texts...\n"
     ]
    },
    {
     "name": "stderr",
     "output_type": "stream",
     "text": [
      "Processing conversations:  65%|██████▌   | 1345/2057 [3:58:13<2:04:47, 10.52s/it]"
     ]
    },
    {
     "name": "stdout",
     "output_type": "stream",
     "text": [
      "✅ Batch completed in 9.85s (0.197s per text)\n",
      "🚀 Attempting batch of 50 texts...\n"
     ]
    },
    {
     "name": "stderr",
     "output_type": "stream",
     "text": [
      "Processing conversations:  65%|██████▌   | 1346/2057 [3:58:23<2:03:37, 10.43s/it]"
     ]
    },
    {
     "name": "stdout",
     "output_type": "stream",
     "text": [
      "✅ Batch completed in 10.23s (0.205s per text)\n",
      "🚀 Attempting batch of 50 texts...\n"
     ]
    },
    {
     "name": "stderr",
     "output_type": "stream",
     "text": [
      "Processing conversations:  65%|██████▌   | 1347/2057 [3:58:34<2:04:44, 10.54s/it]"
     ]
    },
    {
     "name": "stdout",
     "output_type": "stream",
     "text": [
      "✅ Batch completed in 10.79s (0.216s per text)\n",
      "🚀 Attempting batch of 50 texts...\n"
     ]
    },
    {
     "name": "stderr",
     "output_type": "stream",
     "text": [
      "Processing conversations:  66%|██████▌   | 1348/2057 [3:58:44<2:05:03, 10.58s/it]"
     ]
    },
    {
     "name": "stdout",
     "output_type": "stream",
     "text": [
      "✅ Batch completed in 10.67s (0.213s per text)\n",
      "🚀 Attempting batch of 50 texts...\n"
     ]
    },
    {
     "name": "stderr",
     "output_type": "stream",
     "text": [
      "Processing conversations:  66%|██████▌   | 1349/2057 [3:58:55<2:04:28, 10.55s/it]"
     ]
    },
    {
     "name": "stdout",
     "output_type": "stream",
     "text": [
      "✅ Batch completed in 10.46s (0.209s per text)\n",
      "🚀 Attempting batch of 50 texts...\n"
     ]
    },
    {
     "name": "stderr",
     "output_type": "stream",
     "text": [
      "Processing conversations:  66%|██████▌   | 1350/2057 [3:59:06<2:04:58, 10.61s/it]"
     ]
    },
    {
     "name": "stdout",
     "output_type": "stream",
     "text": [
      "✅ Batch completed in 10.73s (0.215s per text)\n",
      "🚀 Attempting batch of 50 texts...\n"
     ]
    },
    {
     "name": "stderr",
     "output_type": "stream",
     "text": [
      "Processing conversations:  66%|██████▌   | 1351/2057 [3:59:17<2:05:57, 10.71s/it]"
     ]
    },
    {
     "name": "stdout",
     "output_type": "stream",
     "text": [
      "✅ Batch completed in 10.93s (0.219s per text)\n",
      "🚀 Attempting batch of 50 texts...\n"
     ]
    },
    {
     "name": "stderr",
     "output_type": "stream",
     "text": [
      "Processing conversations:  66%|██████▌   | 1352/2057 [3:59:27<2:05:51, 10.71s/it]"
     ]
    },
    {
     "name": "stdout",
     "output_type": "stream",
     "text": [
      "✅ Batch completed in 10.72s (0.214s per text)\n",
      "🚀 Attempting batch of 50 texts...\n"
     ]
    },
    {
     "name": "stderr",
     "output_type": "stream",
     "text": [
      "Processing conversations:  66%|██████▌   | 1353/2057 [3:59:38<2:06:03, 10.74s/it]"
     ]
    },
    {
     "name": "stdout",
     "output_type": "stream",
     "text": [
      "✅ Batch completed in 10.81s (0.216s per text)\n",
      "🚀 Attempting batch of 50 texts...\n"
     ]
    },
    {
     "name": "stderr",
     "output_type": "stream",
     "text": [
      "Processing conversations:  66%|██████▌   | 1354/2057 [3:59:49<2:05:15, 10.69s/it]"
     ]
    },
    {
     "name": "stdout",
     "output_type": "stream",
     "text": [
      "✅ Batch completed in 10.56s (0.211s per text)\n",
      "🚀 Attempting batch of 50 texts...\n"
     ]
    },
    {
     "name": "stderr",
     "output_type": "stream",
     "text": [
      "Processing conversations:  66%|██████▌   | 1355/2057 [3:59:59<2:04:32, 10.64s/it]"
     ]
    },
    {
     "name": "stdout",
     "output_type": "stream",
     "text": [
      "✅ Batch completed in 10.53s (0.211s per text)\n",
      "🚀 Attempting batch of 50 texts...\n"
     ]
    },
    {
     "name": "stderr",
     "output_type": "stream",
     "text": [
      "Processing conversations:  66%|██████▌   | 1356/2057 [4:00:10<2:03:12, 10.55s/it]"
     ]
    },
    {
     "name": "stdout",
     "output_type": "stream",
     "text": [
      "✅ Batch completed in 10.31s (0.206s per text)\n",
      "🚀 Attempting batch of 50 texts...\n"
     ]
    },
    {
     "name": "stderr",
     "output_type": "stream",
     "text": [
      "Processing conversations:  66%|██████▌   | 1357/2057 [4:00:20<2:03:14, 10.56s/it]"
     ]
    },
    {
     "name": "stdout",
     "output_type": "stream",
     "text": [
      "✅ Batch completed in 10.60s (0.212s per text)\n",
      "🚀 Attempting batch of 50 texts...\n"
     ]
    },
    {
     "name": "stderr",
     "output_type": "stream",
     "text": [
      "Processing conversations:  66%|██████▌   | 1358/2057 [4:00:31<2:02:55, 10.55s/it]"
     ]
    },
    {
     "name": "stdout",
     "output_type": "stream",
     "text": [
      "✅ Batch completed in 10.52s (0.210s per text)\n",
      "🚀 Attempting batch of 50 texts...\n"
     ]
    },
    {
     "name": "stderr",
     "output_type": "stream",
     "text": [
      "Processing conversations:  66%|██████▌   | 1359/2057 [4:00:41<2:03:14, 10.59s/it]"
     ]
    },
    {
     "name": "stdout",
     "output_type": "stream",
     "text": [
      "✅ Batch completed in 10.69s (0.214s per text)\n",
      "🚀 Attempting batch of 50 texts...\n"
     ]
    },
    {
     "name": "stderr",
     "output_type": "stream",
     "text": [
      "Processing conversations:  66%|██████▌   | 1360/2057 [4:00:52<2:02:24, 10.54s/it]"
     ]
    },
    {
     "name": "stdout",
     "output_type": "stream",
     "text": [
      "✅ Batch completed in 10.40s (0.208s per text)\n",
      "🚀 Attempting batch of 50 texts...\n"
     ]
    },
    {
     "name": "stderr",
     "output_type": "stream",
     "text": [
      "Processing conversations:  66%|██████▌   | 1361/2057 [4:01:03<2:03:08, 10.62s/it]"
     ]
    },
    {
     "name": "stdout",
     "output_type": "stream",
     "text": [
      "✅ Batch completed in 10.79s (0.216s per text)\n",
      "🚀 Attempting batch of 50 texts...\n"
     ]
    },
    {
     "name": "stderr",
     "output_type": "stream",
     "text": [
      "Processing conversations:  66%|██████▌   | 1362/2057 [4:01:14<2:04:57, 10.79s/it]"
     ]
    },
    {
     "name": "stdout",
     "output_type": "stream",
     "text": [
      "✅ Batch completed in 11.18s (0.224s per text)\n",
      "🚀 Attempting batch of 50 texts...\n"
     ]
    },
    {
     "name": "stderr",
     "output_type": "stream",
     "text": [
      "Processing conversations:  66%|██████▋   | 1363/2057 [4:01:24<2:03:57, 10.72s/it]"
     ]
    },
    {
     "name": "stdout",
     "output_type": "stream",
     "text": [
      "✅ Batch completed in 10.55s (0.211s per text)\n",
      "🚀 Attempting batch of 50 texts...\n"
     ]
    },
    {
     "name": "stderr",
     "output_type": "stream",
     "text": [
      "Processing conversations:  66%|██████▋   | 1364/2057 [4:01:35<2:04:47, 10.80s/it]"
     ]
    },
    {
     "name": "stdout",
     "output_type": "stream",
     "text": [
      "✅ Batch completed in 11.00s (0.220s per text)\n",
      "🚀 Attempting batch of 50 texts...\n"
     ]
    },
    {
     "name": "stderr",
     "output_type": "stream",
     "text": [
      "Processing conversations:  66%|██████▋   | 1365/2057 [4:01:47<2:06:48, 11.00s/it]"
     ]
    },
    {
     "name": "stdout",
     "output_type": "stream",
     "text": [
      "✅ Batch completed in 11.43s (0.229s per text)\n",
      "🚀 Attempting batch of 50 texts...\n"
     ]
    },
    {
     "name": "stderr",
     "output_type": "stream",
     "text": [
      "Processing conversations:  66%|██████▋   | 1366/2057 [4:01:58<2:08:26, 11.15s/it]"
     ]
    },
    {
     "name": "stdout",
     "output_type": "stream",
     "text": [
      "✅ Batch completed in 11.51s (0.230s per text)\n",
      "🚀 Attempting batch of 50 texts...\n"
     ]
    },
    {
     "name": "stderr",
     "output_type": "stream",
     "text": [
      "Processing conversations:  66%|██████▋   | 1367/2057 [4:02:10<2:08:55, 11.21s/it]"
     ]
    },
    {
     "name": "stdout",
     "output_type": "stream",
     "text": [
      "✅ Batch completed in 11.34s (0.227s per text)\n",
      "🚀 Attempting batch of 50 texts...\n"
     ]
    },
    {
     "name": "stderr",
     "output_type": "stream",
     "text": [
      "Processing conversations:  67%|██████▋   | 1368/2057 [4:02:21<2:09:11, 11.25s/it]"
     ]
    },
    {
     "name": "stdout",
     "output_type": "stream",
     "text": [
      "✅ Batch completed in 11.33s (0.227s per text)\n",
      "🚀 Attempting batch of 50 texts...\n"
     ]
    },
    {
     "name": "stderr",
     "output_type": "stream",
     "text": [
      "Processing conversations:  67%|██████▋   | 1369/2057 [4:02:32<2:08:53, 11.24s/it]"
     ]
    },
    {
     "name": "stdout",
     "output_type": "stream",
     "text": [
      "✅ Batch completed in 11.21s (0.224s per text)\n",
      "🚀 Attempting batch of 50 texts...\n"
     ]
    },
    {
     "name": "stderr",
     "output_type": "stream",
     "text": [
      "Processing conversations:  67%|██████▋   | 1370/2057 [4:02:43<2:08:31, 11.22s/it]"
     ]
    },
    {
     "name": "stdout",
     "output_type": "stream",
     "text": [
      "✅ Batch completed in 11.18s (0.224s per text)\n",
      "🚀 Attempting batch of 50 texts...\n"
     ]
    },
    {
     "name": "stderr",
     "output_type": "stream",
     "text": [
      "Processing conversations:  67%|██████▋   | 1371/2057 [4:02:54<2:07:45, 11.17s/it]"
     ]
    },
    {
     "name": "stdout",
     "output_type": "stream",
     "text": [
      "✅ Batch completed in 11.05s (0.221s per text)\n",
      "🚀 Attempting batch of 50 texts...\n"
     ]
    },
    {
     "name": "stderr",
     "output_type": "stream",
     "text": [
      "Processing conversations:  67%|██████▋   | 1372/2057 [4:03:06<2:07:29, 11.17s/it]"
     ]
    },
    {
     "name": "stdout",
     "output_type": "stream",
     "text": [
      "✅ Batch completed in 11.15s (0.223s per text)\n",
      "🚀 Attempting batch of 50 texts...\n"
     ]
    },
    {
     "name": "stderr",
     "output_type": "stream",
     "text": [
      "Processing conversations:  67%|██████▋   | 1373/2057 [4:03:18<2:10:37, 11.46s/it]"
     ]
    },
    {
     "name": "stdout",
     "output_type": "stream",
     "text": [
      "✅ Batch completed in 12.13s (0.243s per text)\n",
      "🚀 Attempting batch of 50 texts...\n"
     ]
    },
    {
     "name": "stderr",
     "output_type": "stream",
     "text": [
      "Processing conversations:  67%|██████▋   | 1374/2057 [4:03:29<2:10:19, 11.45s/it]"
     ]
    },
    {
     "name": "stdout",
     "output_type": "stream",
     "text": [
      "✅ Batch completed in 11.42s (0.228s per text)\n",
      "🚀 Attempting batch of 50 texts...\n"
     ]
    },
    {
     "name": "stderr",
     "output_type": "stream",
     "text": [
      "Processing conversations:  67%|██████▋   | 1375/2057 [4:03:40<2:08:15, 11.28s/it]"
     ]
    },
    {
     "name": "stdout",
     "output_type": "stream",
     "text": [
      "✅ Batch completed in 10.89s (0.218s per text)\n",
      "🚀 Attempting batch of 50 texts...\n"
     ]
    },
    {
     "name": "stderr",
     "output_type": "stream",
     "text": [
      "Processing conversations:  67%|██████▋   | 1376/2057 [4:03:51<2:07:51, 11.27s/it]"
     ]
    },
    {
     "name": "stdout",
     "output_type": "stream",
     "text": [
      "✅ Batch completed in 11.21s (0.224s per text)\n",
      "🚀 Attempting batch of 50 texts...\n"
     ]
    },
    {
     "name": "stderr",
     "output_type": "stream",
     "text": [
      "Processing conversations:  67%|██████▋   | 1377/2057 [4:04:02<2:05:12, 11.05s/it]"
     ]
    },
    {
     "name": "stdout",
     "output_type": "stream",
     "text": [
      "✅ Batch completed in 10.53s (0.211s per text)\n",
      "🚀 Attempting batch of 50 texts...\n"
     ]
    },
    {
     "name": "stderr",
     "output_type": "stream",
     "text": [
      "Processing conversations:  67%|██████▋   | 1378/2057 [4:04:13<2:04:53, 11.04s/it]"
     ]
    },
    {
     "name": "stdout",
     "output_type": "stream",
     "text": [
      "✅ Batch completed in 11.00s (0.220s per text)\n",
      "🚀 Attempting batch of 50 texts...\n"
     ]
    },
    {
     "name": "stderr",
     "output_type": "stream",
     "text": [
      "Processing conversations:  67%|██████▋   | 1379/2057 [4:04:24<2:04:04, 10.98s/it]"
     ]
    },
    {
     "name": "stdout",
     "output_type": "stream",
     "text": [
      "✅ Batch completed in 10.84s (0.217s per text)\n",
      "🚀 Attempting batch of 50 texts...\n"
     ]
    },
    {
     "name": "stderr",
     "output_type": "stream",
     "text": [
      "Processing conversations:  67%|██████▋   | 1380/2057 [4:04:35<2:05:03, 11.08s/it]"
     ]
    },
    {
     "name": "stdout",
     "output_type": "stream",
     "text": [
      "✅ Batch completed in 11.32s (0.226s per text)\n",
      "🚀 Attempting batch of 50 texts...\n"
     ]
    },
    {
     "name": "stderr",
     "output_type": "stream",
     "text": [
      "Processing conversations:  67%|██████▋   | 1381/2057 [4:04:46<2:05:11, 11.11s/it]"
     ]
    },
    {
     "name": "stdout",
     "output_type": "stream",
     "text": [
      "✅ Batch completed in 11.17s (0.223s per text)\n",
      "🚀 Attempting batch of 50 texts...\n"
     ]
    },
    {
     "name": "stderr",
     "output_type": "stream",
     "text": [
      "Processing conversations:  67%|██████▋   | 1382/2057 [4:04:57<2:04:13, 11.04s/it]"
     ]
    },
    {
     "name": "stdout",
     "output_type": "stream",
     "text": [
      "✅ Batch completed in 10.87s (0.217s per text)\n",
      "🚀 Attempting batch of 50 texts...\n"
     ]
    },
    {
     "name": "stderr",
     "output_type": "stream",
     "text": [
      "Processing conversations:  67%|██████▋   | 1383/2057 [4:05:08<2:03:15, 10.97s/it]"
     ]
    },
    {
     "name": "stdout",
     "output_type": "stream",
     "text": [
      "✅ Batch completed in 10.80s (0.216s per text)\n",
      "🚀 Attempting batch of 50 texts...\n"
     ]
    },
    {
     "name": "stderr",
     "output_type": "stream",
     "text": [
      "Processing conversations:  67%|██████▋   | 1384/2057 [4:05:19<2:03:03, 10.97s/it]"
     ]
    },
    {
     "name": "stdout",
     "output_type": "stream",
     "text": [
      "✅ Batch completed in 10.96s (0.219s per text)\n",
      "🚀 Attempting batch of 50 texts...\n"
     ]
    },
    {
     "name": "stderr",
     "output_type": "stream",
     "text": [
      "Processing conversations:  67%|██████▋   | 1385/2057 [4:05:30<2:02:49, 10.97s/it]"
     ]
    },
    {
     "name": "stdout",
     "output_type": "stream",
     "text": [
      "✅ Batch completed in 10.95s (0.219s per text)\n",
      "🚀 Attempting batch of 50 texts...\n"
     ]
    },
    {
     "name": "stderr",
     "output_type": "stream",
     "text": [
      "Processing conversations:  67%|██████▋   | 1386/2057 [4:05:41<2:02:24, 10.95s/it]"
     ]
    },
    {
     "name": "stdout",
     "output_type": "stream",
     "text": [
      "✅ Batch completed in 10.89s (0.218s per text)\n",
      "🚀 Attempting batch of 50 texts...\n"
     ]
    },
    {
     "name": "stderr",
     "output_type": "stream",
     "text": [
      "Processing conversations:  67%|██████▋   | 1387/2057 [4:05:51<2:01:23, 10.87s/it]"
     ]
    },
    {
     "name": "stdout",
     "output_type": "stream",
     "text": [
      "✅ Batch completed in 10.69s (0.214s per text)\n",
      "🚀 Attempting batch of 50 texts...\n"
     ]
    },
    {
     "name": "stderr",
     "output_type": "stream",
     "text": [
      "Processing conversations:  67%|██████▋   | 1388/2057 [4:06:03<2:03:04, 11.04s/it]"
     ]
    },
    {
     "name": "stdout",
     "output_type": "stream",
     "text": [
      "✅ Batch completed in 11.43s (0.229s per text)\n",
      "🚀 Attempting batch of 50 texts...\n"
     ]
    },
    {
     "name": "stderr",
     "output_type": "stream",
     "text": [
      "Processing conversations:  68%|██████▊   | 1389/2057 [4:06:14<2:02:41, 11.02s/it]"
     ]
    },
    {
     "name": "stdout",
     "output_type": "stream",
     "text": [
      "✅ Batch completed in 10.97s (0.219s per text)\n",
      "🚀 Attempting batch of 50 texts...\n"
     ]
    },
    {
     "name": "stderr",
     "output_type": "stream",
     "text": [
      "Processing conversations:  68%|██████▊   | 1390/2057 [4:06:25<2:03:01, 11.07s/it]"
     ]
    },
    {
     "name": "stdout",
     "output_type": "stream",
     "text": [
      "✅ Batch completed in 11.17s (0.223s per text)\n",
      "🚀 Attempting batch of 50 texts...\n"
     ]
    },
    {
     "name": "stderr",
     "output_type": "stream",
     "text": [
      "Processing conversations:  68%|██████▊   | 1391/2057 [4:06:36<2:02:21, 11.02s/it]"
     ]
    },
    {
     "name": "stdout",
     "output_type": "stream",
     "text": [
      "✅ Batch completed in 10.92s (0.218s per text)\n",
      "🚀 Attempting batch of 50 texts...\n"
     ]
    },
    {
     "name": "stderr",
     "output_type": "stream",
     "text": [
      "Processing conversations:  68%|██████▊   | 1392/2057 [4:06:47<2:03:33, 11.15s/it]"
     ]
    },
    {
     "name": "stdout",
     "output_type": "stream",
     "text": [
      "✅ Batch completed in 11.44s (0.229s per text)\n",
      "🚀 Attempting batch of 50 texts...\n"
     ]
    },
    {
     "name": "stderr",
     "output_type": "stream",
     "text": [
      "Processing conversations:  68%|██████▊   | 1393/2057 [4:06:58<2:02:08, 11.04s/it]"
     ]
    },
    {
     "name": "stdout",
     "output_type": "stream",
     "text": [
      "✅ Batch completed in 10.77s (0.215s per text)\n",
      "🚀 Attempting batch of 50 texts...\n"
     ]
    },
    {
     "name": "stderr",
     "output_type": "stream",
     "text": [
      "Processing conversations:  68%|██████▊   | 1394/2057 [4:07:09<2:01:25, 10.99s/it]"
     ]
    },
    {
     "name": "stdout",
     "output_type": "stream",
     "text": [
      "✅ Batch completed in 10.87s (0.217s per text)\n",
      "🚀 Attempting batch of 50 texts...\n"
     ]
    },
    {
     "name": "stderr",
     "output_type": "stream",
     "text": [
      "Processing conversations:  68%|██████▊   | 1395/2057 [4:07:20<2:02:44, 11.13s/it]"
     ]
    },
    {
     "name": "stdout",
     "output_type": "stream",
     "text": [
      "✅ Batch completed in 11.43s (0.229s per text)\n",
      "🚀 Attempting batch of 50 texts...\n"
     ]
    },
    {
     "name": "stderr",
     "output_type": "stream",
     "text": [
      "Processing conversations:  68%|██████▊   | 1396/2057 [4:07:31<2:01:57, 11.07s/it]"
     ]
    },
    {
     "name": "stdout",
     "output_type": "stream",
     "text": [
      "✅ Batch completed in 10.94s (0.219s per text)\n",
      "🚀 Attempting batch of 50 texts...\n"
     ]
    },
    {
     "name": "stderr",
     "output_type": "stream",
     "text": [
      "Processing conversations:  68%|██████▊   | 1397/2057 [4:07:43<2:02:17, 11.12s/it]"
     ]
    },
    {
     "name": "stdout",
     "output_type": "stream",
     "text": [
      "✅ Batch completed in 11.22s (0.224s per text)\n",
      "🚀 Attempting batch of 50 texts...\n"
     ]
    },
    {
     "name": "stderr",
     "output_type": "stream",
     "text": [
      "Processing conversations:  68%|██████▊   | 1398/2057 [4:07:54<2:02:19, 11.14s/it]"
     ]
    },
    {
     "name": "stdout",
     "output_type": "stream",
     "text": [
      "✅ Batch completed in 11.18s (0.224s per text)\n",
      "🚀 Attempting batch of 50 texts...\n"
     ]
    },
    {
     "name": "stderr",
     "output_type": "stream",
     "text": [
      "Processing conversations:  68%|██████▊   | 1399/2057 [4:08:05<2:03:15, 11.24s/it]"
     ]
    },
    {
     "name": "stdout",
     "output_type": "stream",
     "text": [
      "✅ Batch completed in 11.47s (0.229s per text)\n",
      "🚀 Attempting batch of 50 texts...\n"
     ]
    },
    {
     "name": "stderr",
     "output_type": "stream",
     "text": [
      "Processing conversations:  68%|██████▊   | 1400/2057 [4:08:17<2:03:31, 11.28s/it]"
     ]
    },
    {
     "name": "stdout",
     "output_type": "stream",
     "text": [
      "✅ Batch completed in 11.37s (0.227s per text)\n",
      "🚀 Attempting batch of 50 texts...\n"
     ]
    },
    {
     "name": "stderr",
     "output_type": "stream",
     "text": [
      "Processing conversations:  68%|██████▊   | 1401/2057 [4:08:28<2:02:23, 11.19s/it]"
     ]
    },
    {
     "name": "stdout",
     "output_type": "stream",
     "text": [
      "✅ Batch completed in 10.98s (0.220s per text)\n",
      "🚀 Attempting batch of 50 texts...\n"
     ]
    },
    {
     "name": "stderr",
     "output_type": "stream",
     "text": [
      "Processing conversations:  68%|██████▊   | 1402/2057 [4:08:39<2:01:47, 11.16s/it]"
     ]
    },
    {
     "name": "stdout",
     "output_type": "stream",
     "text": [
      "✅ Batch completed in 11.06s (0.221s per text)\n",
      "🚀 Attempting batch of 50 texts...\n"
     ]
    },
    {
     "name": "stderr",
     "output_type": "stream",
     "text": [
      "Processing conversations:  68%|██████▊   | 1403/2057 [4:08:50<2:00:40, 11.07s/it]"
     ]
    },
    {
     "name": "stdout",
     "output_type": "stream",
     "text": [
      "✅ Batch completed in 10.86s (0.217s per text)\n",
      "🚀 Attempting batch of 50 texts...\n"
     ]
    },
    {
     "name": "stderr",
     "output_type": "stream",
     "text": [
      "Processing conversations:  68%|██████▊   | 1404/2057 [4:09:00<1:59:57, 11.02s/it]"
     ]
    },
    {
     "name": "stdout",
     "output_type": "stream",
     "text": [
      "✅ Batch completed in 10.91s (0.218s per text)\n",
      "🚀 Attempting batch of 50 texts...\n"
     ]
    },
    {
     "name": "stderr",
     "output_type": "stream",
     "text": [
      "Processing conversations:  68%|██████▊   | 1405/2057 [4:09:12<2:01:42, 11.20s/it]"
     ]
    },
    {
     "name": "stdout",
     "output_type": "stream",
     "text": [
      "✅ Batch completed in 11.61s (0.232s per text)\n",
      "🚀 Attempting batch of 50 texts...\n"
     ]
    },
    {
     "name": "stderr",
     "output_type": "stream",
     "text": [
      "Processing conversations:  68%|██████▊   | 1406/2057 [4:09:23<2:00:09, 11.07s/it]"
     ]
    },
    {
     "name": "stdout",
     "output_type": "stream",
     "text": [
      "✅ Batch completed in 10.78s (0.216s per text)\n",
      "🚀 Attempting batch of 50 texts...\n"
     ]
    },
    {
     "name": "stderr",
     "output_type": "stream",
     "text": [
      "Processing conversations:  68%|██████▊   | 1407/2057 [4:09:34<2:01:04, 11.18s/it]"
     ]
    },
    {
     "name": "stdout",
     "output_type": "stream",
     "text": [
      "✅ Batch completed in 11.41s (0.228s per text)\n",
      "🚀 Attempting batch of 50 texts...\n"
     ]
    },
    {
     "name": "stderr",
     "output_type": "stream",
     "text": [
      "Processing conversations:  68%|██████▊   | 1408/2057 [4:09:45<2:00:24, 11.13s/it]"
     ]
    },
    {
     "name": "stdout",
     "output_type": "stream",
     "text": [
      "✅ Batch completed in 11.02s (0.220s per text)\n",
      "🚀 Attempting batch of 50 texts...\n"
     ]
    },
    {
     "name": "stderr",
     "output_type": "stream",
     "text": [
      "Processing conversations:  68%|██████▊   | 1409/2057 [4:09:57<2:00:28, 11.15s/it]"
     ]
    },
    {
     "name": "stdout",
     "output_type": "stream",
     "text": [
      "✅ Batch completed in 11.20s (0.224s per text)\n",
      "🚀 Attempting batch of 50 texts...\n"
     ]
    },
    {
     "name": "stderr",
     "output_type": "stream",
     "text": [
      "Processing conversations:  69%|██████▊   | 1410/2057 [4:10:08<2:01:47, 11.30s/it]"
     ]
    },
    {
     "name": "stdout",
     "output_type": "stream",
     "text": [
      "✅ Batch completed in 11.62s (0.232s per text)\n",
      "🚀 Attempting batch of 50 texts...\n"
     ]
    },
    {
     "name": "stderr",
     "output_type": "stream",
     "text": [
      "Processing conversations:  69%|██████▊   | 1411/2057 [4:10:19<2:01:15, 11.26s/it]"
     ]
    },
    {
     "name": "stdout",
     "output_type": "stream",
     "text": [
      "✅ Batch completed in 11.18s (0.224s per text)\n",
      "🚀 Attempting batch of 50 texts...\n"
     ]
    },
    {
     "name": "stderr",
     "output_type": "stream",
     "text": [
      "Processing conversations:  69%|██████▊   | 1412/2057 [4:10:31<2:01:44, 11.33s/it]"
     ]
    },
    {
     "name": "stdout",
     "output_type": "stream",
     "text": [
      "✅ Batch completed in 11.47s (0.229s per text)\n",
      "🚀 Attempting batch of 50 texts...\n"
     ]
    },
    {
     "name": "stderr",
     "output_type": "stream",
     "text": [
      "Processing conversations:  69%|██████▊   | 1413/2057 [4:10:42<2:02:01, 11.37s/it]"
     ]
    },
    {
     "name": "stdout",
     "output_type": "stream",
     "text": [
      "✅ Batch completed in 11.47s (0.229s per text)\n",
      "🚀 Attempting batch of 50 texts...\n"
     ]
    },
    {
     "name": "stderr",
     "output_type": "stream",
     "text": [
      "Processing conversations:  69%|██████▊   | 1414/2057 [4:10:53<2:00:48, 11.27s/it]"
     ]
    },
    {
     "name": "stdout",
     "output_type": "stream",
     "text": [
      "✅ Batch completed in 11.05s (0.221s per text)\n",
      "🚀 Attempting batch of 50 texts...\n"
     ]
    },
    {
     "name": "stderr",
     "output_type": "stream",
     "text": [
      "Processing conversations:  69%|██████▉   | 1415/2057 [4:11:05<2:00:41, 11.28s/it]"
     ]
    },
    {
     "name": "stdout",
     "output_type": "stream",
     "text": [
      "✅ Batch completed in 11.29s (0.226s per text)\n",
      "🚀 Attempting batch of 50 texts...\n"
     ]
    },
    {
     "name": "stderr",
     "output_type": "stream",
     "text": [
      "Processing conversations:  69%|██████▉   | 1416/2057 [4:11:16<2:00:07, 11.24s/it]"
     ]
    },
    {
     "name": "stdout",
     "output_type": "stream",
     "text": [
      "✅ Batch completed in 11.16s (0.223s per text)\n",
      "🚀 Attempting batch of 50 texts...\n"
     ]
    },
    {
     "name": "stderr",
     "output_type": "stream",
     "text": [
      "Processing conversations:  69%|██████▉   | 1417/2057 [4:11:27<1:59:41, 11.22s/it]"
     ]
    },
    {
     "name": "stdout",
     "output_type": "stream",
     "text": [
      "✅ Batch completed in 11.16s (0.223s per text)\n",
      "🚀 Attempting batch of 50 texts...\n"
     ]
    },
    {
     "name": "stderr",
     "output_type": "stream",
     "text": [
      "Processing conversations:  69%|██████▉   | 1418/2057 [4:11:38<1:58:52, 11.16s/it]"
     ]
    },
    {
     "name": "stdout",
     "output_type": "stream",
     "text": [
      "✅ Batch completed in 11.02s (0.220s per text)\n",
      "🚀 Attempting batch of 50 texts...\n"
     ]
    },
    {
     "name": "stderr",
     "output_type": "stream",
     "text": [
      "Processing conversations:  69%|██████▉   | 1419/2057 [4:11:49<1:58:22, 11.13s/it]"
     ]
    },
    {
     "name": "stdout",
     "output_type": "stream",
     "text": [
      "✅ Batch completed in 11.06s (0.221s per text)\n",
      "🚀 Attempting batch of 50 texts...\n"
     ]
    },
    {
     "name": "stderr",
     "output_type": "stream",
     "text": [
      "Processing conversations:  69%|██████▉   | 1420/2057 [4:12:00<1:57:14, 11.04s/it]"
     ]
    },
    {
     "name": "stdout",
     "output_type": "stream",
     "text": [
      "✅ Batch completed in 10.83s (0.217s per text)\n",
      "🚀 Attempting batch of 50 texts...\n"
     ]
    },
    {
     "name": "stderr",
     "output_type": "stream",
     "text": [
      "Processing conversations:  69%|██████▉   | 1421/2057 [4:12:11<1:56:47, 11.02s/it]"
     ]
    },
    {
     "name": "stdout",
     "output_type": "stream",
     "text": [
      "✅ Batch completed in 10.95s (0.219s per text)\n",
      "🚀 Attempting batch of 50 texts...\n"
     ]
    },
    {
     "name": "stderr",
     "output_type": "stream",
     "text": [
      "Processing conversations:  69%|██████▉   | 1422/2057 [4:12:22<1:55:59, 10.96s/it]"
     ]
    },
    {
     "name": "stdout",
     "output_type": "stream",
     "text": [
      "✅ Batch completed in 10.82s (0.216s per text)\n",
      "🚀 Attempting batch of 50 texts...\n"
     ]
    },
    {
     "name": "stderr",
     "output_type": "stream",
     "text": [
      "Processing conversations:  69%|██████▉   | 1423/2057 [4:12:33<1:55:50, 10.96s/it]"
     ]
    },
    {
     "name": "stdout",
     "output_type": "stream",
     "text": [
      "✅ Batch completed in 10.97s (0.219s per text)\n",
      "🚀 Attempting batch of 50 texts...\n"
     ]
    },
    {
     "name": "stderr",
     "output_type": "stream",
     "text": [
      "Processing conversations:  69%|██████▉   | 1424/2057 [4:12:44<1:57:02, 11.09s/it]"
     ]
    },
    {
     "name": "stdout",
     "output_type": "stream",
     "text": [
      "✅ Batch completed in 11.40s (0.228s per text)\n",
      "🚀 Attempting batch of 50 texts...\n"
     ]
    },
    {
     "name": "stderr",
     "output_type": "stream",
     "text": [
      "Processing conversations:  69%|██████▉   | 1425/2057 [4:12:55<1:57:23, 11.14s/it]"
     ]
    },
    {
     "name": "stdout",
     "output_type": "stream",
     "text": [
      "✅ Batch completed in 11.26s (0.225s per text)\n",
      "🚀 Attempting batch of 50 texts...\n"
     ]
    },
    {
     "name": "stderr",
     "output_type": "stream",
     "text": [
      "Processing conversations:  69%|██████▉   | 1426/2057 [4:13:06<1:56:04, 11.04s/it]"
     ]
    },
    {
     "name": "stdout",
     "output_type": "stream",
     "text": [
      "✅ Batch completed in 10.78s (0.216s per text)\n",
      "🚀 Attempting batch of 50 texts...\n"
     ]
    },
    {
     "name": "stderr",
     "output_type": "stream",
     "text": [
      "Processing conversations:  69%|██████▉   | 1427/2057 [4:13:17<1:56:18, 11.08s/it]"
     ]
    },
    {
     "name": "stdout",
     "output_type": "stream",
     "text": [
      "✅ Batch completed in 11.16s (0.223s per text)\n",
      "🚀 Attempting batch of 50 texts...\n"
     ]
    },
    {
     "name": "stderr",
     "output_type": "stream",
     "text": [
      "Processing conversations:  69%|██████▉   | 1428/2057 [4:13:28<1:56:14, 11.09s/it]"
     ]
    },
    {
     "name": "stdout",
     "output_type": "stream",
     "text": [
      "✅ Batch completed in 11.11s (0.222s per text)\n",
      "🚀 Attempting batch of 50 texts...\n"
     ]
    },
    {
     "name": "stderr",
     "output_type": "stream",
     "text": [
      "Processing conversations:  69%|██████▉   | 1429/2057 [4:13:39<1:54:54, 10.98s/it]"
     ]
    },
    {
     "name": "stdout",
     "output_type": "stream",
     "text": [
      "✅ Batch completed in 10.72s (0.214s per text)\n",
      "🚀 Attempting batch of 50 texts...\n"
     ]
    },
    {
     "name": "stderr",
     "output_type": "stream",
     "text": [
      "Processing conversations:  70%|██████▉   | 1430/2057 [4:13:50<1:53:31, 10.86s/it]"
     ]
    },
    {
     "name": "stdout",
     "output_type": "stream",
     "text": [
      "✅ Batch completed in 10.59s (0.212s per text)\n",
      "🚀 Attempting batch of 50 texts...\n"
     ]
    },
    {
     "name": "stderr",
     "output_type": "stream",
     "text": [
      "Processing conversations:  70%|██████▉   | 1431/2057 [4:14:01<1:54:14, 10.95s/it]"
     ]
    },
    {
     "name": "stdout",
     "output_type": "stream",
     "text": [
      "✅ Batch completed in 11.14s (0.223s per text)\n",
      "🚀 Attempting batch of 50 texts...\n"
     ]
    },
    {
     "name": "stderr",
     "output_type": "stream",
     "text": [
      "Processing conversations:  70%|██████▉   | 1432/2057 [4:14:12<1:55:24, 11.08s/it]"
     ]
    },
    {
     "name": "stdout",
     "output_type": "stream",
     "text": [
      "✅ Batch completed in 11.38s (0.228s per text)\n",
      "🚀 Attempting batch of 50 texts...\n"
     ]
    },
    {
     "name": "stderr",
     "output_type": "stream",
     "text": [
      "Processing conversations:  70%|██████▉   | 1433/2057 [4:14:23<1:54:47, 11.04s/it]"
     ]
    },
    {
     "name": "stdout",
     "output_type": "stream",
     "text": [
      "✅ Batch completed in 10.94s (0.219s per text)\n",
      "🚀 Attempting batch of 50 texts...\n"
     ]
    },
    {
     "name": "stderr",
     "output_type": "stream",
     "text": [
      "Processing conversations:  70%|██████▉   | 1434/2057 [4:14:34<1:55:32, 11.13s/it]"
     ]
    },
    {
     "name": "stdout",
     "output_type": "stream",
     "text": [
      "✅ Batch completed in 11.33s (0.227s per text)\n",
      "🚀 Attempting batch of 50 texts...\n"
     ]
    },
    {
     "name": "stderr",
     "output_type": "stream",
     "text": [
      "Processing conversations:  70%|██████▉   | 1435/2057 [4:14:46<1:55:38, 11.16s/it]"
     ]
    },
    {
     "name": "stdout",
     "output_type": "stream",
     "text": [
      "✅ Batch completed in 11.21s (0.224s per text)\n",
      "🚀 Attempting batch of 50 texts...\n"
     ]
    },
    {
     "name": "stderr",
     "output_type": "stream",
     "text": [
      "Processing conversations:  70%|██████▉   | 1436/2057 [4:14:56<1:54:04, 11.02s/it]"
     ]
    },
    {
     "name": "stdout",
     "output_type": "stream",
     "text": [
      "✅ Batch completed in 10.70s (0.214s per text)\n",
      "🚀 Attempting batch of 50 texts...\n"
     ]
    },
    {
     "name": "stderr",
     "output_type": "stream",
     "text": [
      "Processing conversations:  70%|██████▉   | 1437/2057 [4:15:07<1:53:45, 11.01s/it]"
     ]
    },
    {
     "name": "stdout",
     "output_type": "stream",
     "text": [
      "✅ Batch completed in 10.97s (0.219s per text)\n",
      "🚀 Attempting batch of 50 texts...\n"
     ]
    },
    {
     "name": "stderr",
     "output_type": "stream",
     "text": [
      "Processing conversations:  70%|██████▉   | 1438/2057 [4:15:18<1:53:39, 11.02s/it]"
     ]
    },
    {
     "name": "stdout",
     "output_type": "stream",
     "text": [
      "✅ Batch completed in 11.03s (0.221s per text)\n",
      "🚀 Attempting batch of 50 texts...\n"
     ]
    },
    {
     "name": "stderr",
     "output_type": "stream",
     "text": [
      "Processing conversations:  70%|██████▉   | 1439/2057 [4:15:29<1:52:19, 10.90s/it]"
     ]
    },
    {
     "name": "stdout",
     "output_type": "stream",
     "text": [
      "✅ Batch completed in 10.63s (0.213s per text)\n",
      "🚀 Attempting batch of 50 texts...\n"
     ]
    },
    {
     "name": "stderr",
     "output_type": "stream",
     "text": [
      "Processing conversations:  70%|███████   | 1440/2057 [4:15:40<1:51:52, 10.88s/it]"
     ]
    },
    {
     "name": "stdout",
     "output_type": "stream",
     "text": [
      "✅ Batch completed in 10.81s (0.216s per text)\n",
      "🚀 Attempting batch of 50 texts...\n"
     ]
    },
    {
     "name": "stderr",
     "output_type": "stream",
     "text": [
      "Processing conversations:  70%|███████   | 1441/2057 [4:15:50<1:50:42, 10.78s/it]"
     ]
    },
    {
     "name": "stdout",
     "output_type": "stream",
     "text": [
      "✅ Batch completed in 10.55s (0.211s per text)\n",
      "🚀 Attempting batch of 50 texts...\n"
     ]
    },
    {
     "name": "stderr",
     "output_type": "stream",
     "text": [
      "Processing conversations:  70%|███████   | 1442/2057 [4:16:02<1:52:08, 10.94s/it]"
     ]
    },
    {
     "name": "stdout",
     "output_type": "stream",
     "text": [
      "✅ Batch completed in 11.30s (0.226s per text)\n",
      "🚀 Attempting batch of 50 texts...\n"
     ]
    },
    {
     "name": "stderr",
     "output_type": "stream",
     "text": [
      "Processing conversations:  70%|███████   | 1443/2057 [4:16:12<1:50:30, 10.80s/it]"
     ]
    },
    {
     "name": "stdout",
     "output_type": "stream",
     "text": [
      "✅ Batch completed in 10.46s (0.209s per text)\n",
      "🚀 Attempting batch of 50 texts...\n"
     ]
    },
    {
     "name": "stderr",
     "output_type": "stream",
     "text": [
      "Processing conversations:  70%|███████   | 1444/2057 [4:16:23<1:49:31, 10.72s/it]"
     ]
    },
    {
     "name": "stdout",
     "output_type": "stream",
     "text": [
      "✅ Batch completed in 10.53s (0.211s per text)\n",
      "🚀 Attempting batch of 50 texts...\n"
     ]
    },
    {
     "name": "stderr",
     "output_type": "stream",
     "text": [
      "Processing conversations:  70%|███████   | 1445/2057 [4:16:34<1:50:40, 10.85s/it]"
     ]
    },
    {
     "name": "stdout",
     "output_type": "stream",
     "text": [
      "✅ Batch completed in 11.15s (0.223s per text)\n",
      "🚀 Attempting batch of 50 texts...\n"
     ]
    },
    {
     "name": "stderr",
     "output_type": "stream",
     "text": [
      "Processing conversations:  70%|███████   | 1446/2057 [4:16:44<1:49:11, 10.72s/it]"
     ]
    },
    {
     "name": "stdout",
     "output_type": "stream",
     "text": [
      "✅ Batch completed in 10.41s (0.208s per text)\n",
      "🚀 Attempting batch of 50 texts...\n"
     ]
    },
    {
     "name": "stderr",
     "output_type": "stream",
     "text": [
      "Processing conversations:  70%|███████   | 1447/2057 [4:16:54<1:47:09, 10.54s/it]"
     ]
    },
    {
     "name": "stdout",
     "output_type": "stream",
     "text": [
      "✅ Batch completed in 10.11s (0.202s per text)\n",
      "🚀 Attempting batch of 50 texts...\n"
     ]
    },
    {
     "name": "stderr",
     "output_type": "stream",
     "text": [
      "Processing conversations:  70%|███████   | 1448/2057 [4:17:05<1:46:07, 10.46s/it]"
     ]
    },
    {
     "name": "stdout",
     "output_type": "stream",
     "text": [
      "✅ Batch completed in 10.25s (0.205s per text)\n",
      "🚀 Attempting batch of 50 texts...\n"
     ]
    },
    {
     "name": "stderr",
     "output_type": "stream",
     "text": [
      "Processing conversations:  70%|███████   | 1449/2057 [4:17:15<1:45:03, 10.37s/it]"
     ]
    },
    {
     "name": "stdout",
     "output_type": "stream",
     "text": [
      "✅ Batch completed in 10.15s (0.203s per text)\n",
      "🚀 Attempting batch of 50 texts...\n"
     ]
    },
    {
     "name": "stderr",
     "output_type": "stream",
     "text": [
      "Processing conversations:  70%|███████   | 1450/2057 [4:17:25<1:43:57, 10.28s/it]"
     ]
    },
    {
     "name": "stdout",
     "output_type": "stream",
     "text": [
      "✅ Batch completed in 10.05s (0.201s per text)\n",
      "🚀 Attempting batch of 50 texts...\n"
     ]
    },
    {
     "name": "stderr",
     "output_type": "stream",
     "text": [
      "Processing conversations:  71%|███████   | 1451/2057 [4:17:35<1:43:25, 10.24s/it]"
     ]
    },
    {
     "name": "stdout",
     "output_type": "stream",
     "text": [
      "✅ Batch completed in 10.15s (0.203s per text)\n",
      "🚀 Attempting batch of 50 texts...\n"
     ]
    },
    {
     "name": "stderr",
     "output_type": "stream",
     "text": [
      "Processing conversations:  71%|███████   | 1452/2057 [4:17:46<1:44:13, 10.34s/it]"
     ]
    },
    {
     "name": "stdout",
     "output_type": "stream",
     "text": [
      "✅ Batch completed in 10.55s (0.211s per text)\n",
      "🚀 Attempting batch of 50 texts...\n"
     ]
    },
    {
     "name": "stderr",
     "output_type": "stream",
     "text": [
      "Processing conversations:  71%|███████   | 1453/2057 [4:17:56<1:43:59, 10.33s/it]"
     ]
    },
    {
     "name": "stdout",
     "output_type": "stream",
     "text": [
      "✅ Batch completed in 10.31s (0.206s per text)\n",
      "🚀 Attempting batch of 50 texts...\n"
     ]
    },
    {
     "name": "stderr",
     "output_type": "stream",
     "text": [
      "Processing conversations:  71%|███████   | 1454/2057 [4:18:07<1:44:45, 10.42s/it]"
     ]
    },
    {
     "name": "stdout",
     "output_type": "stream",
     "text": [
      "✅ Batch completed in 10.63s (0.213s per text)\n",
      "🚀 Attempting batch of 50 texts...\n"
     ]
    },
    {
     "name": "stderr",
     "output_type": "stream",
     "text": [
      "Processing conversations:  71%|███████   | 1455/2057 [4:18:17<1:45:08, 10.48s/it]"
     ]
    },
    {
     "name": "stdout",
     "output_type": "stream",
     "text": [
      "✅ Batch completed in 10.60s (0.212s per text)\n",
      "🚀 Attempting batch of 50 texts...\n"
     ]
    },
    {
     "name": "stderr",
     "output_type": "stream",
     "text": [
      "Processing conversations:  71%|███████   | 1456/2057 [4:18:28<1:44:50, 10.47s/it]"
     ]
    },
    {
     "name": "stdout",
     "output_type": "stream",
     "text": [
      "✅ Batch completed in 10.43s (0.209s per text)\n",
      "🚀 Attempting batch of 50 texts...\n"
     ]
    },
    {
     "name": "stderr",
     "output_type": "stream",
     "text": [
      "Processing conversations:  71%|███████   | 1457/2057 [4:18:38<1:44:33, 10.46s/it]"
     ]
    },
    {
     "name": "stdout",
     "output_type": "stream",
     "text": [
      "✅ Batch completed in 10.42s (0.208s per text)\n",
      "🚀 Attempting batch of 50 texts...\n"
     ]
    },
    {
     "name": "stderr",
     "output_type": "stream",
     "text": [
      "Processing conversations:  71%|███████   | 1458/2057 [4:18:49<1:44:18, 10.45s/it]"
     ]
    },
    {
     "name": "stdout",
     "output_type": "stream",
     "text": [
      "✅ Batch completed in 10.42s (0.208s per text)\n",
      "🚀 Attempting batch of 50 texts...\n"
     ]
    },
    {
     "name": "stderr",
     "output_type": "stream",
     "text": [
      "Processing conversations:  71%|███████   | 1459/2057 [4:18:59<1:44:07, 10.45s/it]"
     ]
    },
    {
     "name": "stdout",
     "output_type": "stream",
     "text": [
      "✅ Batch completed in 10.44s (0.209s per text)\n",
      "🚀 Attempting batch of 50 texts...\n"
     ]
    },
    {
     "name": "stderr",
     "output_type": "stream",
     "text": [
      "Processing conversations:  71%|███████   | 1460/2057 [4:19:09<1:44:06, 10.46s/it]"
     ]
    },
    {
     "name": "stdout",
     "output_type": "stream",
     "text": [
      "✅ Batch completed in 10.48s (0.210s per text)\n",
      "🚀 Attempting batch of 50 texts...\n"
     ]
    },
    {
     "name": "stderr",
     "output_type": "stream",
     "text": [
      "Processing conversations:  71%|███████   | 1461/2057 [4:19:20<1:43:37, 10.43s/it]"
     ]
    },
    {
     "name": "stdout",
     "output_type": "stream",
     "text": [
      "✅ Batch completed in 10.35s (0.207s per text)\n",
      "🚀 Attempting batch of 50 texts...\n"
     ]
    },
    {
     "name": "stderr",
     "output_type": "stream",
     "text": [
      "Processing conversations:  71%|███████   | 1462/2057 [4:19:30<1:41:45, 10.26s/it]"
     ]
    },
    {
     "name": "stdout",
     "output_type": "stream",
     "text": [
      "✅ Batch completed in 9.85s (0.197s per text)\n",
      "🚀 Attempting batch of 50 texts...\n"
     ]
    },
    {
     "name": "stderr",
     "output_type": "stream",
     "text": [
      "Processing conversations:  71%|███████   | 1463/2057 [4:19:40<1:41:56, 10.30s/it]"
     ]
    },
    {
     "name": "stdout",
     "output_type": "stream",
     "text": [
      "✅ Batch completed in 10.38s (0.208s per text)\n",
      "🚀 Attempting batch of 50 texts...\n"
     ]
    },
    {
     "name": "stderr",
     "output_type": "stream",
     "text": [
      "Processing conversations:  71%|███████   | 1464/2057 [4:19:50<1:40:47, 10.20s/it]"
     ]
    },
    {
     "name": "stdout",
     "output_type": "stream",
     "text": [
      "✅ Batch completed in 9.96s (0.199s per text)\n",
      "🚀 Attempting batch of 50 texts...\n"
     ]
    },
    {
     "name": "stderr",
     "output_type": "stream",
     "text": [
      "Processing conversations:  71%|███████   | 1465/2057 [4:20:00<1:39:50, 10.12s/it]"
     ]
    },
    {
     "name": "stdout",
     "output_type": "stream",
     "text": [
      "✅ Batch completed in 9.93s (0.199s per text)\n",
      "🚀 Attempting batch of 50 texts...\n"
     ]
    },
    {
     "name": "stderr",
     "output_type": "stream",
     "text": [
      "Processing conversations:  71%|███████▏  | 1466/2057 [4:20:10<1:39:23, 10.09s/it]"
     ]
    },
    {
     "name": "stdout",
     "output_type": "stream",
     "text": [
      "✅ Batch completed in 10.01s (0.200s per text)\n",
      "🚀 Attempting batch of 50 texts...\n"
     ]
    },
    {
     "name": "stderr",
     "output_type": "stream",
     "text": [
      "Processing conversations:  71%|███████▏  | 1467/2057 [4:20:20<1:39:33, 10.12s/it]"
     ]
    },
    {
     "name": "stdout",
     "output_type": "stream",
     "text": [
      "✅ Batch completed in 10.20s (0.204s per text)\n",
      "🚀 Attempting batch of 50 texts...\n"
     ]
    },
    {
     "name": "stderr",
     "output_type": "stream",
     "text": [
      "Processing conversations:  71%|███████▏  | 1468/2057 [4:20:30<1:39:03, 10.09s/it]"
     ]
    },
    {
     "name": "stdout",
     "output_type": "stream",
     "text": [
      "✅ Batch completed in 10.00s (0.200s per text)\n",
      "🚀 Attempting batch of 50 texts...\n"
     ]
    },
    {
     "name": "stderr",
     "output_type": "stream",
     "text": [
      "Processing conversations:  71%|███████▏  | 1469/2057 [4:20:40<1:38:43, 10.07s/it]"
     ]
    },
    {
     "name": "stdout",
     "output_type": "stream",
     "text": [
      "✅ Batch completed in 10.03s (0.201s per text)\n",
      "🚀 Attempting batch of 50 texts...\n"
     ]
    },
    {
     "name": "stderr",
     "output_type": "stream",
     "text": [
      "Processing conversations:  71%|███████▏  | 1470/2057 [4:20:51<1:39:19, 10.15s/it]"
     ]
    },
    {
     "name": "stdout",
     "output_type": "stream",
     "text": [
      "✅ Batch completed in 10.33s (0.207s per text)\n",
      "🚀 Attempting batch of 50 texts...\n"
     ]
    },
    {
     "name": "stderr",
     "output_type": "stream",
     "text": [
      "Processing conversations:  72%|███████▏  | 1471/2057 [4:21:01<1:39:17, 10.17s/it]"
     ]
    },
    {
     "name": "stdout",
     "output_type": "stream",
     "text": [
      "✅ Batch completed in 10.18s (0.204s per text)\n",
      "🚀 Attempting batch of 50 texts...\n"
     ]
    },
    {
     "name": "stderr",
     "output_type": "stream",
     "text": [
      "Processing conversations:  72%|███████▏  | 1472/2057 [4:21:11<1:38:50, 10.14s/it]"
     ]
    },
    {
     "name": "stdout",
     "output_type": "stream",
     "text": [
      "✅ Batch completed in 10.07s (0.201s per text)\n",
      "🚀 Attempting batch of 50 texts...\n"
     ]
    },
    {
     "name": "stderr",
     "output_type": "stream",
     "text": [
      "Processing conversations:  72%|███████▏  | 1473/2057 [4:21:21<1:38:35, 10.13s/it]"
     ]
    },
    {
     "name": "stdout",
     "output_type": "stream",
     "text": [
      "✅ Batch completed in 10.10s (0.202s per text)\n",
      "🚀 Attempting batch of 50 texts...\n"
     ]
    },
    {
     "name": "stderr",
     "output_type": "stream",
     "text": [
      "Processing conversations:  72%|███████▏  | 1474/2057 [4:21:31<1:39:05, 10.20s/it]"
     ]
    },
    {
     "name": "stdout",
     "output_type": "stream",
     "text": [
      "✅ Batch completed in 10.35s (0.207s per text)\n",
      "🚀 Attempting batch of 50 texts...\n"
     ]
    },
    {
     "name": "stderr",
     "output_type": "stream",
     "text": [
      "Processing conversations:  72%|███████▏  | 1475/2057 [4:21:42<1:38:53, 10.20s/it]"
     ]
    },
    {
     "name": "stdout",
     "output_type": "stream",
     "text": [
      "✅ Batch completed in 10.18s (0.204s per text)\n",
      "🚀 Attempting batch of 50 texts...\n"
     ]
    },
    {
     "name": "stderr",
     "output_type": "stream",
     "text": [
      "Processing conversations:  72%|███████▏  | 1476/2057 [4:21:52<1:38:12, 10.14s/it]"
     ]
    },
    {
     "name": "stdout",
     "output_type": "stream",
     "text": [
      "✅ Batch completed in 10.01s (0.200s per text)\n",
      "🚀 Attempting batch of 50 texts...\n"
     ]
    },
    {
     "name": "stderr",
     "output_type": "stream",
     "text": [
      "Processing conversations:  72%|███████▏  | 1477/2057 [4:22:02<1:38:03, 10.14s/it]"
     ]
    },
    {
     "name": "stdout",
     "output_type": "stream",
     "text": [
      "✅ Batch completed in 10.14s (0.203s per text)\n",
      "🚀 Attempting batch of 50 texts...\n"
     ]
    },
    {
     "name": "stderr",
     "output_type": "stream",
     "text": [
      "Processing conversations:  72%|███████▏  | 1478/2057 [4:22:12<1:38:31, 10.21s/it]"
     ]
    },
    {
     "name": "stdout",
     "output_type": "stream",
     "text": [
      "✅ Batch completed in 10.36s (0.207s per text)\n",
      "🚀 Attempting batch of 50 texts...\n"
     ]
    },
    {
     "name": "stderr",
     "output_type": "stream",
     "text": [
      "Processing conversations:  72%|███████▏  | 1479/2057 [4:22:22<1:39:02, 10.28s/it]"
     ]
    },
    {
     "name": "stdout",
     "output_type": "stream",
     "text": [
      "✅ Batch completed in 10.44s (0.209s per text)\n",
      "🚀 Attempting batch of 50 texts...\n"
     ]
    },
    {
     "name": "stderr",
     "output_type": "stream",
     "text": [
      "Processing conversations:  72%|███████▏  | 1480/2057 [4:22:33<1:40:02, 10.40s/it]"
     ]
    },
    {
     "name": "stdout",
     "output_type": "stream",
     "text": [
      "✅ Batch completed in 10.68s (0.214s per text)\n",
      "🚀 Attempting batch of 50 texts...\n"
     ]
    },
    {
     "name": "stderr",
     "output_type": "stream",
     "text": [
      "Processing conversations:  72%|███████▏  | 1481/2057 [4:22:44<1:41:27, 10.57s/it]"
     ]
    },
    {
     "name": "stdout",
     "output_type": "stream",
     "text": [
      "✅ Batch completed in 10.93s (0.219s per text)\n",
      "🚀 Attempting batch of 50 texts...\n"
     ]
    },
    {
     "name": "stderr",
     "output_type": "stream",
     "text": [
      "Processing conversations:  72%|███████▏  | 1482/2057 [4:22:54<1:40:02, 10.44s/it]"
     ]
    },
    {
     "name": "stdout",
     "output_type": "stream",
     "text": [
      "✅ Batch completed in 10.13s (0.203s per text)\n",
      "🚀 Attempting batch of 50 texts...\n"
     ]
    },
    {
     "name": "stderr",
     "output_type": "stream",
     "text": [
      "Processing conversations:  72%|███████▏  | 1483/2057 [4:23:04<1:39:04, 10.36s/it]"
     ]
    },
    {
     "name": "stdout",
     "output_type": "stream",
     "text": [
      "✅ Batch completed in 10.14s (0.203s per text)\n",
      "🚀 Attempting batch of 50 texts...\n"
     ]
    },
    {
     "name": "stderr",
     "output_type": "stream",
     "text": [
      "Processing conversations:  72%|███████▏  | 1484/2057 [4:23:14<1:37:30, 10.21s/it]"
     ]
    },
    {
     "name": "stdout",
     "output_type": "stream",
     "text": [
      "✅ Batch completed in 9.86s (0.197s per text)\n",
      "🚀 Attempting batch of 50 texts...\n"
     ]
    },
    {
     "name": "stderr",
     "output_type": "stream",
     "text": [
      "Processing conversations:  72%|███████▏  | 1485/2057 [4:23:25<1:38:08, 10.29s/it]"
     ]
    },
    {
     "name": "stdout",
     "output_type": "stream",
     "text": [
      "✅ Batch completed in 10.48s (0.210s per text)\n",
      "🚀 Attempting batch of 50 texts...\n"
     ]
    },
    {
     "name": "stderr",
     "output_type": "stream",
     "text": [
      "Processing conversations:  72%|███████▏  | 1486/2057 [4:23:35<1:37:39, 10.26s/it]"
     ]
    },
    {
     "name": "stdout",
     "output_type": "stream",
     "text": [
      "✅ Batch completed in 10.18s (0.204s per text)\n",
      "🚀 Attempting batch of 50 texts...\n"
     ]
    },
    {
     "name": "stderr",
     "output_type": "stream",
     "text": [
      "Processing conversations:  72%|███████▏  | 1487/2057 [4:23:45<1:37:32, 10.27s/it]"
     ]
    },
    {
     "name": "stdout",
     "output_type": "stream",
     "text": [
      "✅ Batch completed in 10.27s (0.205s per text)\n",
      "🚀 Attempting batch of 50 texts...\n"
     ]
    },
    {
     "name": "stderr",
     "output_type": "stream",
     "text": [
      "Processing conversations:  72%|███████▏  | 1488/2057 [4:23:56<1:37:31, 10.28s/it]"
     ]
    },
    {
     "name": "stdout",
     "output_type": "stream",
     "text": [
      "✅ Batch completed in 10.32s (0.206s per text)\n",
      "🚀 Attempting batch of 50 texts...\n"
     ]
    },
    {
     "name": "stderr",
     "output_type": "stream",
     "text": [
      "Processing conversations:  72%|███████▏  | 1489/2057 [4:24:06<1:37:03, 10.25s/it]"
     ]
    },
    {
     "name": "stdout",
     "output_type": "stream",
     "text": [
      "✅ Batch completed in 10.17s (0.203s per text)\n",
      "🚀 Attempting batch of 50 texts...\n"
     ]
    },
    {
     "name": "stderr",
     "output_type": "stream",
     "text": [
      "Processing conversations:  72%|███████▏  | 1490/2057 [4:24:16<1:36:25, 10.20s/it]"
     ]
    },
    {
     "name": "stdout",
     "output_type": "stream",
     "text": [
      "✅ Batch completed in 10.08s (0.202s per text)\n",
      "🚀 Attempting batch of 50 texts...\n"
     ]
    },
    {
     "name": "stderr",
     "output_type": "stream",
     "text": [
      "Processing conversations:  72%|███████▏  | 1491/2057 [4:24:26<1:36:24, 10.22s/it]"
     ]
    },
    {
     "name": "stdout",
     "output_type": "stream",
     "text": [
      "✅ Batch completed in 10.25s (0.205s per text)\n",
      "🚀 Attempting batch of 50 texts...\n"
     ]
    },
    {
     "name": "stderr",
     "output_type": "stream",
     "text": [
      "Processing conversations:  73%|███████▎  | 1492/2057 [4:24:37<1:36:50, 10.28s/it]"
     ]
    },
    {
     "name": "stdout",
     "output_type": "stream",
     "text": [
      "✅ Batch completed in 10.43s (0.209s per text)\n",
      "🚀 Attempting batch of 50 texts...\n"
     ]
    },
    {
     "name": "stderr",
     "output_type": "stream",
     "text": [
      "Processing conversations:  73%|███████▎  | 1493/2057 [4:24:47<1:37:19, 10.35s/it]"
     ]
    },
    {
     "name": "stdout",
     "output_type": "stream",
     "text": [
      "✅ Batch completed in 10.51s (0.210s per text)\n",
      "🚀 Attempting batch of 50 texts...\n"
     ]
    },
    {
     "name": "stderr",
     "output_type": "stream",
     "text": [
      "Processing conversations:  73%|███████▎  | 1494/2057 [4:24:58<1:39:27, 10.60s/it]"
     ]
    },
    {
     "name": "stdout",
     "output_type": "stream",
     "text": [
      "✅ Batch completed in 11.17s (0.223s per text)\n",
      "🚀 Attempting batch of 50 texts...\n"
     ]
    },
    {
     "name": "stderr",
     "output_type": "stream",
     "text": [
      "Processing conversations:  73%|███████▎  | 1495/2057 [4:25:09<1:41:02, 10.79s/it]"
     ]
    },
    {
     "name": "stdout",
     "output_type": "stream",
     "text": [
      "✅ Batch completed in 11.22s (0.224s per text)\n",
      "🚀 Attempting batch of 50 texts...\n"
     ]
    },
    {
     "name": "stderr",
     "output_type": "stream",
     "text": [
      "Processing conversations:  73%|███████▎  | 1496/2057 [4:25:20<1:41:29, 10.86s/it]"
     ]
    },
    {
     "name": "stdout",
     "output_type": "stream",
     "text": [
      "✅ Batch completed in 11.00s (0.220s per text)\n",
      "🚀 Attempting batch of 50 texts...\n"
     ]
    },
    {
     "name": "stderr",
     "output_type": "stream",
     "text": [
      "Processing conversations:  73%|███████▎  | 1497/2057 [4:25:31<1:40:32, 10.77s/it]"
     ]
    },
    {
     "name": "stdout",
     "output_type": "stream",
     "text": [
      "✅ Batch completed in 10.57s (0.211s per text)\n",
      "🚀 Attempting batch of 50 texts...\n"
     ]
    },
    {
     "name": "stderr",
     "output_type": "stream",
     "text": [
      "Processing conversations:  73%|███████▎  | 1498/2057 [4:25:42<1:39:43, 10.70s/it]"
     ]
    },
    {
     "name": "stdout",
     "output_type": "stream",
     "text": [
      "✅ Batch completed in 10.54s (0.211s per text)\n",
      "🚀 Attempting batch of 50 texts...\n"
     ]
    },
    {
     "name": "stderr",
     "output_type": "stream",
     "text": [
      "Processing conversations:  73%|███████▎  | 1499/2057 [4:25:52<1:39:57, 10.75s/it]"
     ]
    },
    {
     "name": "stdout",
     "output_type": "stream",
     "text": [
      "✅ Batch completed in 10.83s (0.217s per text)\n",
      "🚀 Attempting batch of 50 texts...\n"
     ]
    },
    {
     "name": "stderr",
     "output_type": "stream",
     "text": [
      "Processing conversations:  73%|███████▎  | 1500/2057 [4:26:03<1:38:21, 10.60s/it]"
     ]
    },
    {
     "name": "stdout",
     "output_type": "stream",
     "text": [
      "✅ Batch completed in 10.23s (0.205s per text)\n",
      "🚀 Attempting batch of 50 texts...\n"
     ]
    },
    {
     "name": "stderr",
     "output_type": "stream",
     "text": [
      "Processing conversations:  73%|███████▎  | 1501/2057 [4:26:13<1:38:19, 10.61s/it]"
     ]
    },
    {
     "name": "stdout",
     "output_type": "stream",
     "text": [
      "✅ Batch completed in 10.64s (0.213s per text)\n",
      "🚀 Attempting batch of 50 texts...\n"
     ]
    },
    {
     "name": "stderr",
     "output_type": "stream",
     "text": [
      "Processing conversations:  73%|███████▎  | 1502/2057 [4:26:24<1:37:11, 10.51s/it]"
     ]
    },
    {
     "name": "stdout",
     "output_type": "stream",
     "text": [
      "✅ Batch completed in 10.25s (0.205s per text)\n",
      "🚀 Attempting batch of 50 texts...\n"
     ]
    },
    {
     "name": "stderr",
     "output_type": "stream",
     "text": [
      "Processing conversations:  73%|███████▎  | 1503/2057 [4:26:34<1:37:04, 10.51s/it]"
     ]
    },
    {
     "name": "stdout",
     "output_type": "stream",
     "text": [
      "✅ Batch completed in 10.52s (0.210s per text)\n",
      "🚀 Attempting batch of 50 texts...\n"
     ]
    },
    {
     "name": "stderr",
     "output_type": "stream",
     "text": [
      "Processing conversations:  73%|███████▎  | 1504/2057 [4:26:45<1:36:36, 10.48s/it]"
     ]
    },
    {
     "name": "stdout",
     "output_type": "stream",
     "text": [
      "✅ Batch completed in 10.40s (0.208s per text)\n",
      "🚀 Attempting batch of 50 texts...\n"
     ]
    },
    {
     "name": "stderr",
     "output_type": "stream",
     "text": [
      "Processing conversations:  73%|███████▎  | 1505/2057 [4:26:55<1:36:33, 10.50s/it]"
     ]
    },
    {
     "name": "stdout",
     "output_type": "stream",
     "text": [
      "✅ Batch completed in 10.52s (0.210s per text)\n",
      "🚀 Attempting batch of 50 texts...\n"
     ]
    },
    {
     "name": "stderr",
     "output_type": "stream",
     "text": [
      "Processing conversations:  73%|███████▎  | 1506/2057 [4:27:06<1:36:49, 10.54s/it]"
     ]
    },
    {
     "name": "stdout",
     "output_type": "stream",
     "text": [
      "✅ Batch completed in 10.64s (0.213s per text)\n",
      "🚀 Attempting batch of 50 texts...\n"
     ]
    },
    {
     "name": "stderr",
     "output_type": "stream",
     "text": [
      "Processing conversations:  73%|███████▎  | 1507/2057 [4:27:16<1:35:43, 10.44s/it]"
     ]
    },
    {
     "name": "stdout",
     "output_type": "stream",
     "text": [
      "✅ Batch completed in 10.20s (0.204s per text)\n",
      "🚀 Attempting batch of 50 texts...\n"
     ]
    },
    {
     "name": "stderr",
     "output_type": "stream",
     "text": [
      "Processing conversations:  73%|███████▎  | 1508/2057 [4:27:26<1:34:49, 10.36s/it]"
     ]
    },
    {
     "name": "stdout",
     "output_type": "stream",
     "text": [
      "✅ Batch completed in 10.17s (0.203s per text)\n",
      "🚀 Attempting batch of 50 texts...\n"
     ]
    },
    {
     "name": "stderr",
     "output_type": "stream",
     "text": [
      "Processing conversations:  73%|███████▎  | 1509/2057 [4:27:36<1:34:30, 10.35s/it]"
     ]
    },
    {
     "name": "stdout",
     "output_type": "stream",
     "text": [
      "✅ Batch completed in 10.30s (0.206s per text)\n",
      "🚀 Attempting batch of 50 texts...\n"
     ]
    },
    {
     "name": "stderr",
     "output_type": "stream",
     "text": [
      "Processing conversations:  73%|███████▎  | 1510/2057 [4:27:47<1:36:02, 10.53s/it]"
     ]
    },
    {
     "name": "stdout",
     "output_type": "stream",
     "text": [
      "✅ Batch completed in 10.96s (0.219s per text)\n",
      "🚀 Attempting batch of 50 texts...\n"
     ]
    },
    {
     "name": "stderr",
     "output_type": "stream",
     "text": [
      "Processing conversations:  73%|███████▎  | 1511/2057 [4:27:59<1:37:38, 10.73s/it]"
     ]
    },
    {
     "name": "stdout",
     "output_type": "stream",
     "text": [
      "✅ Batch completed in 11.18s (0.224s per text)\n",
      "🚀 Attempting batch of 50 texts...\n"
     ]
    },
    {
     "name": "stderr",
     "output_type": "stream",
     "text": [
      "Processing conversations:  74%|███████▎  | 1512/2057 [4:28:11<1:40:58, 11.12s/it]"
     ]
    },
    {
     "name": "stdout",
     "output_type": "stream",
     "text": [
      "✅ Batch completed in 12.01s (0.240s per text)\n",
      "🚀 Attempting batch of 50 texts...\n"
     ]
    },
    {
     "name": "stderr",
     "output_type": "stream",
     "text": [
      "Processing conversations:  74%|███████▎  | 1513/2057 [4:28:22<1:41:17, 11.17s/it]"
     ]
    },
    {
     "name": "stdout",
     "output_type": "stream",
     "text": [
      "✅ Batch completed in 11.30s (0.226s per text)\n",
      "🚀 Attempting batch of 50 texts...\n"
     ]
    },
    {
     "name": "stderr",
     "output_type": "stream",
     "text": [
      "Processing conversations:  74%|███████▎  | 1514/2057 [4:28:33<1:40:04, 11.06s/it]"
     ]
    },
    {
     "name": "stdout",
     "output_type": "stream",
     "text": [
      "✅ Batch completed in 10.78s (0.216s per text)\n",
      "🚀 Attempting batch of 50 texts...\n"
     ]
    },
    {
     "name": "stderr",
     "output_type": "stream",
     "text": [
      "Processing conversations:  74%|███████▎  | 1515/2057 [4:28:44<1:41:30, 11.24s/it]"
     ]
    },
    {
     "name": "stdout",
     "output_type": "stream",
     "text": [
      "✅ Batch completed in 11.65s (0.233s per text)\n",
      "🚀 Attempting batch of 50 texts...\n"
     ]
    },
    {
     "name": "stderr",
     "output_type": "stream",
     "text": [
      "Processing conversations:  74%|███████▎  | 1516/2057 [4:28:56<1:41:34, 11.27s/it]"
     ]
    },
    {
     "name": "stdout",
     "output_type": "stream",
     "text": [
      "✅ Batch completed in 11.33s (0.227s per text)\n",
      "🚀 Attempting batch of 50 texts...\n"
     ]
    },
    {
     "name": "stderr",
     "output_type": "stream",
     "text": [
      "Processing conversations:  74%|███████▎  | 1517/2057 [4:29:07<1:41:28, 11.27s/it]"
     ]
    },
    {
     "name": "stdout",
     "output_type": "stream",
     "text": [
      "✅ Batch completed in 11.29s (0.226s per text)\n",
      "🚀 Attempting batch of 50 texts...\n"
     ]
    },
    {
     "name": "stderr",
     "output_type": "stream",
     "text": [
      "Processing conversations:  74%|███████▍  | 1518/2057 [4:29:18<1:41:44, 11.32s/it]"
     ]
    },
    {
     "name": "stdout",
     "output_type": "stream",
     "text": [
      "✅ Batch completed in 11.44s (0.229s per text)\n",
      "🚀 Attempting batch of 50 texts...\n"
     ]
    },
    {
     "name": "stderr",
     "output_type": "stream",
     "text": [
      "Processing conversations:  74%|███████▍  | 1519/2057 [4:29:29<1:40:34, 11.22s/it]"
     ]
    },
    {
     "name": "stdout",
     "output_type": "stream",
     "text": [
      "✅ Batch completed in 10.96s (0.219s per text)\n",
      "🚀 Attempting batch of 50 texts...\n"
     ]
    },
    {
     "name": "stderr",
     "output_type": "stream",
     "text": [
      "Processing conversations:  74%|███████▍  | 1520/2057 [4:29:41<1:40:24, 11.22s/it]"
     ]
    },
    {
     "name": "stdout",
     "output_type": "stream",
     "text": [
      "✅ Batch completed in 11.22s (0.224s per text)\n",
      "🚀 Attempting batch of 50 texts...\n"
     ]
    },
    {
     "name": "stderr",
     "output_type": "stream",
     "text": [
      "Processing conversations:  74%|███████▍  | 1521/2057 [4:29:51<1:38:27, 11.02s/it]"
     ]
    },
    {
     "name": "stdout",
     "output_type": "stream",
     "text": [
      "✅ Batch completed in 10.56s (0.211s per text)\n",
      "🚀 Attempting batch of 50 texts...\n"
     ]
    },
    {
     "name": "stderr",
     "output_type": "stream",
     "text": [
      "Processing conversations:  74%|███████▍  | 1522/2057 [4:30:03<1:39:59, 11.21s/it]"
     ]
    },
    {
     "name": "stdout",
     "output_type": "stream",
     "text": [
      "✅ Batch completed in 11.66s (0.233s per text)\n",
      "🚀 Attempting batch of 50 texts...\n"
     ]
    },
    {
     "name": "stderr",
     "output_type": "stream",
     "text": [
      "Processing conversations:  74%|███████▍  | 1523/2057 [4:30:14<1:40:06, 11.25s/it]"
     ]
    },
    {
     "name": "stdout",
     "output_type": "stream",
     "text": [
      "✅ Batch completed in 11.32s (0.226s per text)\n",
      "🚀 Attempting batch of 50 texts...\n"
     ]
    },
    {
     "name": "stderr",
     "output_type": "stream",
     "text": [
      "Processing conversations:  74%|███████▍  | 1524/2057 [4:30:25<1:39:51, 11.24s/it]"
     ]
    },
    {
     "name": "stdout",
     "output_type": "stream",
     "text": [
      "✅ Batch completed in 11.22s (0.224s per text)\n",
      "🚀 Attempting batch of 50 texts...\n"
     ]
    },
    {
     "name": "stderr",
     "output_type": "stream",
     "text": [
      "Processing conversations:  74%|███████▍  | 1525/2057 [4:30:36<1:38:52, 11.15s/it]"
     ]
    },
    {
     "name": "stdout",
     "output_type": "stream",
     "text": [
      "✅ Batch completed in 10.93s (0.219s per text)\n",
      "🚀 Attempting batch of 50 texts...\n"
     ]
    },
    {
     "name": "stderr",
     "output_type": "stream",
     "text": [
      "Processing conversations:  74%|███████▍  | 1526/2057 [4:30:47<1:38:20, 11.11s/it]"
     ]
    },
    {
     "name": "stdout",
     "output_type": "stream",
     "text": [
      "✅ Batch completed in 11.01s (0.220s per text)\n",
      "🚀 Attempting batch of 50 texts...\n"
     ]
    },
    {
     "name": "stderr",
     "output_type": "stream",
     "text": [
      "Processing conversations:  74%|███████▍  | 1527/2057 [4:30:58<1:37:47, 11.07s/it]"
     ]
    },
    {
     "name": "stdout",
     "output_type": "stream",
     "text": [
      "✅ Batch completed in 10.97s (0.219s per text)\n",
      "🚀 Attempting batch of 50 texts...\n"
     ]
    },
    {
     "name": "stderr",
     "output_type": "stream",
     "text": [
      "Processing conversations:  74%|███████▍  | 1528/2057 [4:31:09<1:37:18, 11.04s/it]"
     ]
    },
    {
     "name": "stdout",
     "output_type": "stream",
     "text": [
      "✅ Batch completed in 10.95s (0.219s per text)\n",
      "🚀 Attempting batch of 50 texts...\n"
     ]
    },
    {
     "name": "stderr",
     "output_type": "stream",
     "text": [
      "Processing conversations:  74%|███████▍  | 1529/2057 [4:31:20<1:36:52, 11.01s/it]"
     ]
    },
    {
     "name": "stdout",
     "output_type": "stream",
     "text": [
      "✅ Batch completed in 10.94s (0.219s per text)\n",
      "🚀 Attempting batch of 50 texts...\n"
     ]
    },
    {
     "name": "stderr",
     "output_type": "stream",
     "text": [
      "Processing conversations:  74%|███████▍  | 1530/2057 [4:31:31<1:36:53, 11.03s/it]"
     ]
    },
    {
     "name": "stdout",
     "output_type": "stream",
     "text": [
      "✅ Batch completed in 11.08s (0.222s per text)\n",
      "🚀 Attempting batch of 50 texts...\n"
     ]
    },
    {
     "name": "stderr",
     "output_type": "stream",
     "text": [
      "Processing conversations:  74%|███████▍  | 1531/2057 [4:31:42<1:35:31, 10.90s/it]"
     ]
    },
    {
     "name": "stdout",
     "output_type": "stream",
     "text": [
      "✅ Batch completed in 10.58s (0.212s per text)\n",
      "🚀 Attempting batch of 50 texts...\n"
     ]
    },
    {
     "name": "stderr",
     "output_type": "stream",
     "text": [
      "Processing conversations:  74%|███████▍  | 1532/2057 [4:31:52<1:34:33, 10.81s/it]"
     ]
    },
    {
     "name": "stdout",
     "output_type": "stream",
     "text": [
      "✅ Batch completed in 10.59s (0.212s per text)\n",
      "🚀 Attempting batch of 50 texts...\n"
     ]
    },
    {
     "name": "stderr",
     "output_type": "stream",
     "text": [
      "Processing conversations:  75%|███████▍  | 1533/2057 [4:32:03<1:34:48, 10.86s/it]"
     ]
    },
    {
     "name": "stdout",
     "output_type": "stream",
     "text": [
      "✅ Batch completed in 10.96s (0.219s per text)\n",
      "🚀 Attempting batch of 50 texts...\n"
     ]
    },
    {
     "name": "stderr",
     "output_type": "stream",
     "text": [
      "Processing conversations:  75%|███████▍  | 1534/2057 [4:32:14<1:34:27, 10.84s/it]"
     ]
    },
    {
     "name": "stdout",
     "output_type": "stream",
     "text": [
      "✅ Batch completed in 10.78s (0.216s per text)\n",
      "🚀 Attempting batch of 50 texts...\n"
     ]
    },
    {
     "name": "stderr",
     "output_type": "stream",
     "text": [
      "Processing conversations:  75%|███████▍  | 1535/2057 [4:32:25<1:35:02, 10.93s/it]"
     ]
    },
    {
     "name": "stdout",
     "output_type": "stream",
     "text": [
      "✅ Batch completed in 11.13s (0.223s per text)\n",
      "🚀 Attempting batch of 50 texts...\n"
     ]
    },
    {
     "name": "stderr",
     "output_type": "stream",
     "text": [
      "Processing conversations:  75%|███████▍  | 1536/2057 [4:32:36<1:33:57, 10.82s/it]"
     ]
    },
    {
     "name": "stdout",
     "output_type": "stream",
     "text": [
      "✅ Batch completed in 10.57s (0.211s per text)\n",
      "🚀 Attempting batch of 50 texts...\n"
     ]
    },
    {
     "name": "stderr",
     "output_type": "stream",
     "text": [
      "Processing conversations:  75%|███████▍  | 1537/2057 [4:32:46<1:32:43, 10.70s/it]"
     ]
    },
    {
     "name": "stdout",
     "output_type": "stream",
     "text": [
      "✅ Batch completed in 10.41s (0.208s per text)\n",
      "🚀 Attempting batch of 50 texts...\n"
     ]
    },
    {
     "name": "stderr",
     "output_type": "stream",
     "text": [
      "Processing conversations:  75%|███████▍  | 1538/2057 [4:32:57<1:31:34, 10.59s/it]"
     ]
    },
    {
     "name": "stdout",
     "output_type": "stream",
     "text": [
      "✅ Batch completed in 10.32s (0.206s per text)\n",
      "🚀 Attempting batch of 50 texts...\n"
     ]
    },
    {
     "name": "stderr",
     "output_type": "stream",
     "text": [
      "Processing conversations:  75%|███████▍  | 1539/2057 [4:33:07<1:31:07, 10.56s/it]"
     ]
    },
    {
     "name": "stdout",
     "output_type": "stream",
     "text": [
      "✅ Batch completed in 10.47s (0.209s per text)\n",
      "🚀 Attempting batch of 50 texts...\n"
     ]
    },
    {
     "name": "stderr",
     "output_type": "stream",
     "text": [
      "Processing conversations:  75%|███████▍  | 1540/2057 [4:33:18<1:31:31, 10.62s/it]"
     ]
    },
    {
     "name": "stdout",
     "output_type": "stream",
     "text": [
      "✅ Batch completed in 10.77s (0.215s per text)\n",
      "🚀 Attempting batch of 50 texts...\n"
     ]
    },
    {
     "name": "stderr",
     "output_type": "stream",
     "text": [
      "Processing conversations:  75%|███████▍  | 1541/2057 [4:33:28<1:30:53, 10.57s/it]"
     ]
    },
    {
     "name": "stdout",
     "output_type": "stream",
     "text": [
      "✅ Batch completed in 10.43s (0.209s per text)\n",
      "🚀 Attempting batch of 50 texts...\n"
     ]
    },
    {
     "name": "stderr",
     "output_type": "stream",
     "text": [
      "Processing conversations:  75%|███████▍  | 1542/2057 [4:33:39<1:30:53, 10.59s/it]"
     ]
    },
    {
     "name": "stdout",
     "output_type": "stream",
     "text": [
      "✅ Batch completed in 10.63s (0.213s per text)\n",
      "🚀 Attempting batch of 50 texts...\n"
     ]
    },
    {
     "name": "stderr",
     "output_type": "stream",
     "text": [
      "Processing conversations:  75%|███████▌  | 1543/2057 [4:33:50<1:30:31, 10.57s/it]"
     ]
    },
    {
     "name": "stdout",
     "output_type": "stream",
     "text": [
      "✅ Batch completed in 10.51s (0.210s per text)\n",
      "🚀 Attempting batch of 50 texts...\n"
     ]
    },
    {
     "name": "stderr",
     "output_type": "stream",
     "text": [
      "Processing conversations:  75%|███████▌  | 1544/2057 [4:34:00<1:30:47, 10.62s/it]"
     ]
    },
    {
     "name": "stdout",
     "output_type": "stream",
     "text": [
      "✅ Batch completed in 10.73s (0.215s per text)\n",
      "🚀 Attempting batch of 50 texts...\n"
     ]
    },
    {
     "name": "stderr",
     "output_type": "stream",
     "text": [
      "Processing conversations:  75%|███████▌  | 1545/2057 [4:34:12<1:32:23, 10.83s/it]"
     ]
    },
    {
     "name": "stdout",
     "output_type": "stream",
     "text": [
      "✅ Batch completed in 11.30s (0.226s per text)\n",
      "🚀 Attempting batch of 50 texts...\n"
     ]
    },
    {
     "name": "stderr",
     "output_type": "stream",
     "text": [
      "Processing conversations:  75%|███████▌  | 1546/2057 [4:34:22<1:31:40, 10.76s/it]"
     ]
    },
    {
     "name": "stdout",
     "output_type": "stream",
     "text": [
      "✅ Batch completed in 10.61s (0.212s per text)\n",
      "🚀 Attempting batch of 50 texts...\n"
     ]
    },
    {
     "name": "stderr",
     "output_type": "stream",
     "text": [
      "Processing conversations:  75%|███████▌  | 1547/2057 [4:34:33<1:31:28, 10.76s/it]"
     ]
    },
    {
     "name": "stdout",
     "output_type": "stream",
     "text": [
      "✅ Batch completed in 10.75s (0.215s per text)\n",
      "🚀 Attempting batch of 50 texts...\n"
     ]
    },
    {
     "name": "stderr",
     "output_type": "stream",
     "text": [
      "Processing conversations:  75%|███████▌  | 1548/2057 [4:34:44<1:30:57, 10.72s/it]"
     ]
    },
    {
     "name": "stdout",
     "output_type": "stream",
     "text": [
      "✅ Batch completed in 10.62s (0.212s per text)\n",
      "🚀 Attempting batch of 50 texts...\n"
     ]
    },
    {
     "name": "stderr",
     "output_type": "stream",
     "text": [
      "Processing conversations:  75%|███████▌  | 1549/2057 [4:34:54<1:30:35, 10.70s/it]"
     ]
    },
    {
     "name": "stdout",
     "output_type": "stream",
     "text": [
      "✅ Batch completed in 10.64s (0.213s per text)\n",
      "🚀 Attempting batch of 50 texts...\n"
     ]
    },
    {
     "name": "stderr",
     "output_type": "stream",
     "text": [
      "Processing conversations:  75%|███████▌  | 1550/2057 [4:35:05<1:30:05, 10.66s/it]"
     ]
    },
    {
     "name": "stdout",
     "output_type": "stream",
     "text": [
      "✅ Batch completed in 10.56s (0.211s per text)\n",
      "🚀 Attempting batch of 50 texts...\n"
     ]
    },
    {
     "name": "stderr",
     "output_type": "stream",
     "text": [
      "Processing conversations:  75%|███████▌  | 1551/2057 [4:35:15<1:29:32, 10.62s/it]"
     ]
    },
    {
     "name": "stdout",
     "output_type": "stream",
     "text": [
      "✅ Batch completed in 10.50s (0.210s per text)\n",
      "🚀 Attempting batch of 50 texts...\n"
     ]
    },
    {
     "name": "stderr",
     "output_type": "stream",
     "text": [
      "Processing conversations:  75%|███████▌  | 1552/2057 [4:35:25<1:28:03, 10.46s/it]"
     ]
    },
    {
     "name": "stdout",
     "output_type": "stream",
     "text": [
      "✅ Batch completed in 10.10s (0.202s per text)\n",
      "🚀 Attempting batch of 50 texts...\n"
     ]
    },
    {
     "name": "stderr",
     "output_type": "stream",
     "text": [
      "Processing conversations:  75%|███████▌  | 1553/2057 [4:35:36<1:27:03, 10.36s/it]"
     ]
    },
    {
     "name": "stdout",
     "output_type": "stream",
     "text": [
      "✅ Batch completed in 10.13s (0.203s per text)\n",
      "🚀 Attempting batch of 50 texts...\n"
     ]
    },
    {
     "name": "stderr",
     "output_type": "stream",
     "text": [
      "Processing conversations:  76%|███████▌  | 1554/2057 [4:35:46<1:27:35, 10.45s/it]"
     ]
    },
    {
     "name": "stdout",
     "output_type": "stream",
     "text": [
      "✅ Batch completed in 10.64s (0.213s per text)\n",
      "🚀 Attempting batch of 50 texts...\n"
     ]
    },
    {
     "name": "stderr",
     "output_type": "stream",
     "text": [
      "Processing conversations:  76%|███████▌  | 1555/2057 [4:35:57<1:27:56, 10.51s/it]"
     ]
    },
    {
     "name": "stdout",
     "output_type": "stream",
     "text": [
      "✅ Batch completed in 10.64s (0.213s per text)\n",
      "🚀 Attempting batch of 50 texts...\n"
     ]
    },
    {
     "name": "stderr",
     "output_type": "stream",
     "text": [
      "Processing conversations:  76%|███████▌  | 1556/2057 [4:36:07<1:26:45, 10.39s/it]"
     ]
    },
    {
     "name": "stdout",
     "output_type": "stream",
     "text": [
      "✅ Batch completed in 10.10s (0.202s per text)\n",
      "🚀 Attempting batch of 50 texts...\n"
     ]
    },
    {
     "name": "stderr",
     "output_type": "stream",
     "text": [
      "Processing conversations:  76%|███████▌  | 1557/2057 [4:36:17<1:26:43, 10.41s/it]"
     ]
    },
    {
     "name": "stdout",
     "output_type": "stream",
     "text": [
      "✅ Batch completed in 10.44s (0.209s per text)\n",
      "🚀 Attempting batch of 50 texts...\n"
     ]
    },
    {
     "name": "stderr",
     "output_type": "stream",
     "text": [
      "Processing conversations:  76%|███████▌  | 1558/2057 [4:36:29<1:28:20, 10.62s/it]"
     ]
    },
    {
     "name": "stdout",
     "output_type": "stream",
     "text": [
      "✅ Batch completed in 11.12s (0.222s per text)\n",
      "🚀 Attempting batch of 50 texts...\n"
     ]
    },
    {
     "name": "stderr",
     "output_type": "stream",
     "text": [
      "Processing conversations:  76%|███████▌  | 1559/2057 [4:36:39<1:28:05, 10.61s/it]"
     ]
    },
    {
     "name": "stdout",
     "output_type": "stream",
     "text": [
      "✅ Batch completed in 10.58s (0.212s per text)\n",
      "🚀 Attempting batch of 50 texts...\n"
     ]
    },
    {
     "name": "stderr",
     "output_type": "stream",
     "text": [
      "Processing conversations:  76%|███████▌  | 1560/2057 [4:36:49<1:27:17, 10.54s/it]"
     ]
    },
    {
     "name": "stdout",
     "output_type": "stream",
     "text": [
      "✅ Batch completed in 10.36s (0.207s per text)\n",
      "🚀 Attempting batch of 50 texts...\n"
     ]
    },
    {
     "name": "stderr",
     "output_type": "stream",
     "text": [
      "Processing conversations:  76%|███████▌  | 1561/2057 [4:37:00<1:27:37, 10.60s/it]"
     ]
    },
    {
     "name": "stdout",
     "output_type": "stream",
     "text": [
      "✅ Batch completed in 10.73s (0.215s per text)\n",
      "🚀 Attempting batch of 50 texts...\n"
     ]
    },
    {
     "name": "stderr",
     "output_type": "stream",
     "text": [
      "Processing conversations:  76%|███████▌  | 1562/2057 [4:37:11<1:27:11, 10.57s/it]"
     ]
    },
    {
     "name": "stdout",
     "output_type": "stream",
     "text": [
      "✅ Batch completed in 10.49s (0.210s per text)\n",
      "🚀 Attempting batch of 50 texts...\n"
     ]
    },
    {
     "name": "stderr",
     "output_type": "stream",
     "text": [
      "Processing conversations:  76%|███████▌  | 1563/2057 [4:37:21<1:27:09, 10.59s/it]"
     ]
    },
    {
     "name": "stdout",
     "output_type": "stream",
     "text": [
      "✅ Batch completed in 10.62s (0.212s per text)\n",
      "🚀 Attempting batch of 50 texts...\n"
     ]
    },
    {
     "name": "stderr",
     "output_type": "stream",
     "text": [
      "Processing conversations:  76%|███████▌  | 1564/2057 [4:37:33<1:29:12, 10.86s/it]"
     ]
    },
    {
     "name": "stdout",
     "output_type": "stream",
     "text": [
      "✅ Batch completed in 11.48s (0.230s per text)\n",
      "🚀 Attempting batch of 50 texts...\n"
     ]
    },
    {
     "name": "stderr",
     "output_type": "stream",
     "text": [
      "Processing conversations:  76%|███████▌  | 1565/2057 [4:37:44<1:28:40, 10.81s/it]"
     ]
    },
    {
     "name": "stdout",
     "output_type": "stream",
     "text": [
      "✅ Batch completed in 10.71s (0.214s per text)\n",
      "🚀 Attempting batch of 50 texts...\n"
     ]
    },
    {
     "name": "stderr",
     "output_type": "stream",
     "text": [
      "Processing conversations:  76%|███████▌  | 1566/2057 [4:37:54<1:28:02, 10.76s/it]"
     ]
    },
    {
     "name": "stdout",
     "output_type": "stream",
     "text": [
      "✅ Batch completed in 10.62s (0.212s per text)\n",
      "🚀 Attempting batch of 50 texts...\n"
     ]
    },
    {
     "name": "stderr",
     "output_type": "stream",
     "text": [
      "Processing conversations:  76%|███████▌  | 1567/2057 [4:38:05<1:28:07, 10.79s/it]"
     ]
    },
    {
     "name": "stdout",
     "output_type": "stream",
     "text": [
      "✅ Batch completed in 10.86s (0.217s per text)\n",
      "🚀 Attempting batch of 50 texts...\n"
     ]
    },
    {
     "name": "stderr",
     "output_type": "stream",
     "text": [
      "Processing conversations:  76%|███████▌  | 1568/2057 [4:38:16<1:28:28, 10.86s/it]"
     ]
    },
    {
     "name": "stdout",
     "output_type": "stream",
     "text": [
      "✅ Batch completed in 11.00s (0.220s per text)\n",
      "🚀 Attempting batch of 50 texts...\n"
     ]
    },
    {
     "name": "stderr",
     "output_type": "stream",
     "text": [
      "Processing conversations:  76%|███████▋  | 1569/2057 [4:38:27<1:27:57, 10.82s/it]"
     ]
    },
    {
     "name": "stdout",
     "output_type": "stream",
     "text": [
      "✅ Batch completed in 10.71s (0.214s per text)\n",
      "🚀 Attempting batch of 50 texts...\n"
     ]
    },
    {
     "name": "stderr",
     "output_type": "stream",
     "text": [
      "Processing conversations:  76%|███████▋  | 1570/2057 [4:38:38<1:27:51, 10.82s/it]"
     ]
    },
    {
     "name": "stdout",
     "output_type": "stream",
     "text": [
      "✅ Batch completed in 10.84s (0.217s per text)\n",
      "🚀 Attempting batch of 50 texts...\n"
     ]
    },
    {
     "name": "stderr",
     "output_type": "stream",
     "text": [
      "Processing conversations:  76%|███████▋  | 1571/2057 [4:38:49<1:28:40, 10.95s/it]"
     ]
    },
    {
     "name": "stdout",
     "output_type": "stream",
     "text": [
      "✅ Batch completed in 11.23s (0.225s per text)\n",
      "🚀 Attempting batch of 50 texts...\n"
     ]
    },
    {
     "name": "stderr",
     "output_type": "stream",
     "text": [
      "Processing conversations:  76%|███████▋  | 1572/2057 [4:39:00<1:28:04, 10.90s/it]"
     ]
    },
    {
     "name": "stdout",
     "output_type": "stream",
     "text": [
      "✅ Batch completed in 10.77s (0.215s per text)\n",
      "🚀 Attempting batch of 50 texts...\n"
     ]
    },
    {
     "name": "stderr",
     "output_type": "stream",
     "text": [
      "Processing conversations:  76%|███████▋  | 1573/2057 [4:39:11<1:28:16, 10.94s/it]"
     ]
    },
    {
     "name": "stdout",
     "output_type": "stream",
     "text": [
      "✅ Batch completed in 11.05s (0.221s per text)\n",
      "🚀 Attempting batch of 50 texts...\n"
     ]
    },
    {
     "name": "stderr",
     "output_type": "stream",
     "text": [
      "Processing conversations:  77%|███████▋  | 1574/2057 [4:39:22<1:29:05, 11.07s/it]"
     ]
    },
    {
     "name": "stdout",
     "output_type": "stream",
     "text": [
      "✅ Batch completed in 11.35s (0.227s per text)\n",
      "🚀 Attempting batch of 50 texts...\n"
     ]
    },
    {
     "name": "stderr",
     "output_type": "stream",
     "text": [
      "Processing conversations:  77%|███████▋  | 1575/2057 [4:39:32<1:27:21, 10.88s/it]"
     ]
    },
    {
     "name": "stdout",
     "output_type": "stream",
     "text": [
      "✅ Batch completed in 10.42s (0.208s per text)\n",
      "🚀 Attempting batch of 50 texts...\n"
     ]
    },
    {
     "name": "stderr",
     "output_type": "stream",
     "text": [
      "Processing conversations:  77%|███████▋  | 1576/2057 [4:39:43<1:27:24, 10.90s/it]"
     ]
    },
    {
     "name": "stdout",
     "output_type": "stream",
     "text": [
      "✅ Batch completed in 10.96s (0.219s per text)\n",
      "🚀 Attempting batch of 50 texts...\n"
     ]
    },
    {
     "name": "stderr",
     "output_type": "stream",
     "text": [
      "Processing conversations:  77%|███████▋  | 1577/2057 [4:39:54<1:25:38, 10.71s/it]"
     ]
    },
    {
     "name": "stdout",
     "output_type": "stream",
     "text": [
      "✅ Batch completed in 10.23s (0.205s per text)\n",
      "🚀 Attempting batch of 50 texts...\n"
     ]
    },
    {
     "name": "stderr",
     "output_type": "stream",
     "text": [
      "Processing conversations:  77%|███████▋  | 1589/2057 [4:42:02<1:24:13, 10.80s/it]"
     ]
    },
    {
     "name": "stdout",
     "output_type": "stream",
     "text": [
      "✅ Batch completed in 10.87s (0.217s per text)\n",
      "🚀 Attempting batch of 50 texts...\n"
     ]
    },
    {
     "name": "stderr",
     "output_type": "stream",
     "text": [
      "Processing conversations:  77%|███████▋  | 1590/2057 [4:42:13<1:23:49, 10.77s/it]"
     ]
    },
    {
     "name": "stdout",
     "output_type": "stream",
     "text": [
      "✅ Batch completed in 10.70s (0.214s per text)\n",
      "🚀 Attempting batch of 50 texts...\n"
     ]
    },
    {
     "name": "stderr",
     "output_type": "stream",
     "text": [
      "Processing conversations:  77%|███████▋  | 1591/2057 [4:42:23<1:23:22, 10.74s/it]"
     ]
    },
    {
     "name": "stdout",
     "output_type": "stream",
     "text": [
      "✅ Batch completed in 10.65s (0.213s per text)\n",
      "🚀 Attempting batch of 50 texts...\n"
     ]
    },
    {
     "name": "stderr",
     "output_type": "stream",
     "text": [
      "Processing conversations:  77%|███████▋  | 1592/2057 [4:42:34<1:22:52, 10.69s/it]"
     ]
    },
    {
     "name": "stdout",
     "output_type": "stream",
     "text": [
      "✅ Batch completed in 10.59s (0.212s per text)\n",
      "🚀 Attempting batch of 50 texts...\n"
     ]
    },
    {
     "name": "stderr",
     "output_type": "stream",
     "text": [
      "Processing conversations:  77%|███████▋  | 1593/2057 [4:42:45<1:22:43, 10.70s/it]"
     ]
    },
    {
     "name": "stdout",
     "output_type": "stream",
     "text": [
      "✅ Batch completed in 10.70s (0.214s per text)\n",
      "🚀 Attempting batch of 50 texts...\n"
     ]
    },
    {
     "name": "stderr",
     "output_type": "stream",
     "text": [
      "Processing conversations:  77%|███████▋  | 1594/2057 [4:42:56<1:23:29, 10.82s/it]"
     ]
    },
    {
     "name": "stdout",
     "output_type": "stream",
     "text": [
      "✅ Batch completed in 11.10s (0.222s per text)\n",
      "🚀 Attempting batch of 50 texts...\n"
     ]
    },
    {
     "name": "stderr",
     "output_type": "stream",
     "text": [
      "Processing conversations:  78%|███████▊  | 1595/2057 [4:43:06<1:22:20, 10.69s/it]"
     ]
    },
    {
     "name": "stdout",
     "output_type": "stream",
     "text": [
      "✅ Batch completed in 10.39s (0.208s per text)\n",
      "🚀 Attempting batch of 50 texts...\n"
     ]
    },
    {
     "name": "stderr",
     "output_type": "stream",
     "text": [
      "Processing conversations:  78%|███████▊  | 1596/2057 [4:43:17<1:21:44, 10.64s/it]"
     ]
    },
    {
     "name": "stdout",
     "output_type": "stream",
     "text": [
      "✅ Batch completed in 10.50s (0.210s per text)\n",
      "🚀 Attempting batch of 50 texts...\n"
     ]
    },
    {
     "name": "stderr",
     "output_type": "stream",
     "text": [
      "Processing conversations:  78%|███████▊  | 1597/2057 [4:43:27<1:21:56, 10.69s/it]"
     ]
    },
    {
     "name": "stdout",
     "output_type": "stream",
     "text": [
      "✅ Batch completed in 10.80s (0.216s per text)\n",
      "🚀 Attempting batch of 50 texts...\n"
     ]
    },
    {
     "name": "stderr",
     "output_type": "stream",
     "text": [
      "Processing conversations:  78%|███████▊  | 1598/2057 [4:43:38<1:22:28, 10.78s/it]"
     ]
    },
    {
     "name": "stdout",
     "output_type": "stream",
     "text": [
      "✅ Batch completed in 10.99s (0.220s per text)\n",
      "🚀 Attempting batch of 50 texts...\n"
     ]
    },
    {
     "name": "stderr",
     "output_type": "stream",
     "text": [
      "Processing conversations:  78%|███████▊  | 1599/2057 [4:43:50<1:23:13, 10.90s/it]"
     ]
    },
    {
     "name": "stdout",
     "output_type": "stream",
     "text": [
      "✅ Batch completed in 11.18s (0.224s per text)\n",
      "🚀 Attempting batch of 50 texts...\n"
     ]
    },
    {
     "name": "stderr",
     "output_type": "stream",
     "text": [
      "Processing conversations:  78%|███████▊  | 1600/2057 [4:44:01<1:23:34, 10.97s/it]"
     ]
    },
    {
     "name": "stdout",
     "output_type": "stream",
     "text": [
      "✅ Batch completed in 11.13s (0.223s per text)\n",
      "🚀 Attempting batch of 50 texts...\n"
     ]
    },
    {
     "name": "stderr",
     "output_type": "stream",
     "text": [
      "Processing conversations:  78%|███████▊  | 1601/2057 [4:44:12<1:23:32, 10.99s/it]"
     ]
    },
    {
     "name": "stdout",
     "output_type": "stream",
     "text": [
      "✅ Batch completed in 11.04s (0.221s per text)\n",
      "🚀 Attempting batch of 50 texts...\n"
     ]
    },
    {
     "name": "stderr",
     "output_type": "stream",
     "text": [
      "Processing conversations:  78%|███████▊  | 1602/2057 [4:44:23<1:23:15, 10.98s/it]"
     ]
    },
    {
     "name": "stdout",
     "output_type": "stream",
     "text": [
      "✅ Batch completed in 10.94s (0.219s per text)\n",
      "🚀 Attempting batch of 50 texts...\n"
     ]
    },
    {
     "name": "stderr",
     "output_type": "stream",
     "text": [
      "Processing conversations:  78%|███████▊  | 1603/2057 [4:44:35<1:25:10, 11.26s/it]"
     ]
    },
    {
     "name": "stdout",
     "output_type": "stream",
     "text": [
      "✅ Batch completed in 11.89s (0.238s per text)\n",
      "🚀 Attempting batch of 50 texts...\n"
     ]
    },
    {
     "name": "stderr",
     "output_type": "stream",
     "text": [
      "Processing conversations:  78%|███████▊  | 1604/2057 [4:44:46<1:24:41, 11.22s/it]"
     ]
    },
    {
     "name": "stdout",
     "output_type": "stream",
     "text": [
      "✅ Batch completed in 11.12s (0.222s per text)\n",
      "🚀 Attempting batch of 50 texts...\n"
     ]
    },
    {
     "name": "stderr",
     "output_type": "stream",
     "text": [
      "Processing conversations:  78%|███████▊  | 1605/2057 [4:44:57<1:24:40, 11.24s/it]"
     ]
    },
    {
     "name": "stdout",
     "output_type": "stream",
     "text": [
      "✅ Batch completed in 11.29s (0.226s per text)\n",
      "🚀 Attempting batch of 50 texts...\n"
     ]
    },
    {
     "name": "stderr",
     "output_type": "stream",
     "text": [
      "Processing conversations:  78%|███████▊  | 1606/2057 [4:45:08<1:24:07, 11.19s/it]"
     ]
    },
    {
     "name": "stdout",
     "output_type": "stream",
     "text": [
      "✅ Batch completed in 11.07s (0.221s per text)\n",
      "🚀 Attempting batch of 50 texts...\n"
     ]
    },
    {
     "name": "stderr",
     "output_type": "stream",
     "text": [
      "Processing conversations:  78%|███████▊  | 1607/2057 [4:45:19<1:23:32, 11.14s/it]"
     ]
    },
    {
     "name": "stdout",
     "output_type": "stream",
     "text": [
      "✅ Batch completed in 11.01s (0.220s per text)\n",
      "🚀 Attempting batch of 50 texts...\n"
     ]
    },
    {
     "name": "stderr",
     "output_type": "stream",
     "text": [
      "Processing conversations:  78%|███████▊  | 1608/2057 [4:45:30<1:23:17, 11.13s/it]"
     ]
    },
    {
     "name": "stdout",
     "output_type": "stream",
     "text": [
      "✅ Batch completed in 11.10s (0.222s per text)\n",
      "🚀 Attempting batch of 50 texts...\n"
     ]
    },
    {
     "name": "stderr",
     "output_type": "stream",
     "text": [
      "Processing conversations:  78%|███████▊  | 1609/2057 [4:45:42<1:23:26, 11.18s/it]"
     ]
    },
    {
     "name": "stdout",
     "output_type": "stream",
     "text": [
      "✅ Batch completed in 11.28s (0.226s per text)\n",
      "🚀 Attempting batch of 50 texts...\n"
     ]
    },
    {
     "name": "stderr",
     "output_type": "stream",
     "text": [
      "Processing conversations:  78%|███████▊  | 1610/2057 [4:45:53<1:24:02, 11.28s/it]"
     ]
    },
    {
     "name": "stdout",
     "output_type": "stream",
     "text": [
      "✅ Batch completed in 11.52s (0.230s per text)\n",
      "🚀 Attempting batch of 50 texts...\n"
     ]
    },
    {
     "name": "stderr",
     "output_type": "stream",
     "text": [
      "Processing conversations:  78%|███████▊  | 1611/2057 [4:46:05<1:24:13, 11.33s/it]"
     ]
    },
    {
     "name": "stdout",
     "output_type": "stream",
     "text": [
      "✅ Batch completed in 11.44s (0.229s per text)\n",
      "🚀 Attempting batch of 50 texts...\n"
     ]
    },
    {
     "name": "stderr",
     "output_type": "stream",
     "text": [
      "Processing conversations:  78%|███████▊  | 1612/2057 [4:46:15<1:22:57, 11.19s/it]"
     ]
    },
    {
     "name": "stdout",
     "output_type": "stream",
     "text": [
      "✅ Batch completed in 10.85s (0.217s per text)\n",
      "🚀 Attempting batch of 50 texts...\n"
     ]
    },
    {
     "name": "stderr",
     "output_type": "stream",
     "text": [
      "Processing conversations:  78%|███████▊  | 1613/2057 [4:46:28<1:25:27, 11.55s/it]"
     ]
    },
    {
     "name": "stdout",
     "output_type": "stream",
     "text": [
      "✅ Batch completed in 12.38s (0.248s per text)\n",
      "🚀 Attempting batch of 50 texts...\n"
     ]
    },
    {
     "name": "stderr",
     "output_type": "stream",
     "text": [
      "Processing conversations:  78%|███████▊  | 1614/2057 [4:46:39<1:25:27, 11.58s/it]"
     ]
    },
    {
     "name": "stdout",
     "output_type": "stream",
     "text": [
      "✅ Batch completed in 11.63s (0.233s per text)\n",
      "🚀 Attempting batch of 50 texts...\n"
     ]
    },
    {
     "name": "stderr",
     "output_type": "stream",
     "text": [
      "Processing conversations:  79%|███████▊  | 1615/2057 [4:46:50<1:23:34, 11.34s/it]"
     ]
    },
    {
     "name": "stdout",
     "output_type": "stream",
     "text": [
      "✅ Batch completed in 10.80s (0.216s per text)\n",
      "🚀 Attempting batch of 50 texts...\n"
     ]
    },
    {
     "name": "stderr",
     "output_type": "stream",
     "text": [
      "Processing conversations:  79%|███████▊  | 1616/2057 [4:47:01<1:22:21, 11.21s/it]"
     ]
    },
    {
     "name": "stdout",
     "output_type": "stream",
     "text": [
      "✅ Batch completed in 10.88s (0.218s per text)\n",
      "🚀 Attempting batch of 50 texts...\n"
     ]
    },
    {
     "name": "stderr",
     "output_type": "stream",
     "text": [
      "Processing conversations:  79%|███████▊  | 1617/2057 [4:47:13<1:24:01, 11.46s/it]"
     ]
    },
    {
     "name": "stdout",
     "output_type": "stream",
     "text": [
      "✅ Batch completed in 12.04s (0.241s per text)\n",
      "🚀 Attempting batch of 50 texts...\n"
     ]
    },
    {
     "name": "stderr",
     "output_type": "stream",
     "text": [
      "Processing conversations:  79%|███████▊  | 1618/2057 [4:47:24<1:22:55, 11.33s/it]"
     ]
    },
    {
     "name": "stdout",
     "output_type": "stream",
     "text": [
      "✅ Batch completed in 11.04s (0.221s per text)\n",
      "🚀 Attempting batch of 50 texts...\n"
     ]
    },
    {
     "name": "stderr",
     "output_type": "stream",
     "text": [
      "Processing conversations:  79%|███████▊  | 1619/2057 [4:47:35<1:22:14, 11.27s/it]"
     ]
    },
    {
     "name": "stdout",
     "output_type": "stream",
     "text": [
      "✅ Batch completed in 11.11s (0.222s per text)\n",
      "🚀 Attempting batch of 50 texts...\n"
     ]
    },
    {
     "name": "stderr",
     "output_type": "stream",
     "text": [
      "Processing conversations:  79%|███████▉  | 1620/2057 [4:47:47<1:22:45, 11.36s/it]"
     ]
    },
    {
     "name": "stdout",
     "output_type": "stream",
     "text": [
      "✅ Batch completed in 11.58s (0.232s per text)\n",
      "🚀 Attempting batch of 50 texts...\n"
     ]
    },
    {
     "name": "stderr",
     "output_type": "stream",
     "text": [
      "Processing conversations:  79%|███████▉  | 1621/2057 [4:47:58<1:22:46, 11.39s/it]"
     ]
    },
    {
     "name": "stdout",
     "output_type": "stream",
     "text": [
      "✅ Batch completed in 11.45s (0.229s per text)\n",
      "🚀 Attempting batch of 50 texts...\n"
     ]
    },
    {
     "name": "stderr",
     "output_type": "stream",
     "text": [
      "Processing conversations:  79%|███████▉  | 1622/2057 [4:48:10<1:22:37, 11.40s/it]"
     ]
    },
    {
     "name": "stdout",
     "output_type": "stream",
     "text": [
      "✅ Batch completed in 11.40s (0.228s per text)\n",
      "🚀 Attempting batch of 50 texts...\n"
     ]
    },
    {
     "name": "stderr",
     "output_type": "stream",
     "text": [
      "Processing conversations:  79%|███████▉  | 1623/2057 [4:48:21<1:22:49, 11.45s/it]"
     ]
    },
    {
     "name": "stdout",
     "output_type": "stream",
     "text": [
      "✅ Batch completed in 11.57s (0.231s per text)\n",
      "🚀 Attempting batch of 50 texts...\n"
     ]
    },
    {
     "name": "stderr",
     "output_type": "stream",
     "text": [
      "Processing conversations:  79%|███████▉  | 1624/2057 [4:48:33<1:22:35, 11.44s/it]"
     ]
    },
    {
     "name": "stdout",
     "output_type": "stream",
     "text": [
      "✅ Batch completed in 11.43s (0.229s per text)\n",
      "🚀 Attempting batch of 50 texts...\n"
     ]
    },
    {
     "name": "stderr",
     "output_type": "stream",
     "text": [
      "Processing conversations:  79%|███████▉  | 1625/2057 [4:48:44<1:21:32, 11.33s/it]"
     ]
    },
    {
     "name": "stdout",
     "output_type": "stream",
     "text": [
      "✅ Batch completed in 11.05s (0.221s per text)\n",
      "🚀 Attempting batch of 50 texts...\n"
     ]
    },
    {
     "name": "stderr",
     "output_type": "stream",
     "text": [
      "Processing conversations:  79%|███████▉  | 1626/2057 [4:48:55<1:21:45, 11.38s/it]"
     ]
    },
    {
     "name": "stdout",
     "output_type": "stream",
     "text": [
      "✅ Batch completed in 11.51s (0.230s per text)\n",
      "🚀 Attempting batch of 50 texts...\n"
     ]
    },
    {
     "name": "stderr",
     "output_type": "stream",
     "text": [
      "Processing conversations:  79%|███████▉  | 1627/2057 [4:49:06<1:20:01, 11.17s/it]"
     ]
    },
    {
     "name": "stdout",
     "output_type": "stream",
     "text": [
      "✅ Batch completed in 10.65s (0.213s per text)\n",
      "🚀 Attempting batch of 50 texts...\n"
     ]
    },
    {
     "name": "stderr",
     "output_type": "stream",
     "text": [
      "Processing conversations:  79%|███████▉  | 1628/2057 [4:49:17<1:20:07, 11.21s/it]"
     ]
    },
    {
     "name": "stdout",
     "output_type": "stream",
     "text": [
      "✅ Batch completed in 11.29s (0.226s per text)\n",
      "🚀 Attempting batch of 50 texts...\n"
     ]
    },
    {
     "name": "stderr",
     "output_type": "stream",
     "text": [
      "Processing conversations:  79%|███████▉  | 1629/2057 [4:49:28<1:19:33, 11.15s/it]"
     ]
    },
    {
     "name": "stdout",
     "output_type": "stream",
     "text": [
      "✅ Batch completed in 11.02s (0.220s per text)\n",
      "🚀 Attempting batch of 50 texts...\n"
     ]
    },
    {
     "name": "stderr",
     "output_type": "stream",
     "text": [
      "Processing conversations:  79%|███████▉  | 1630/2057 [4:49:41<1:21:55, 11.51s/it]"
     ]
    },
    {
     "name": "stdout",
     "output_type": "stream",
     "text": [
      "✅ Batch completed in 12.34s (0.247s per text)\n",
      "🚀 Attempting batch of 50 texts...\n"
     ]
    },
    {
     "name": "stderr",
     "output_type": "stream",
     "text": [
      "Processing conversations:  79%|███████▉  | 1631/2057 [4:49:52<1:21:27, 11.47s/it]"
     ]
    },
    {
     "name": "stdout",
     "output_type": "stream",
     "text": [
      "✅ Batch completed in 11.37s (0.227s per text)\n",
      "🚀 Attempting batch of 50 texts...\n"
     ]
    },
    {
     "name": "stderr",
     "output_type": "stream",
     "text": [
      "Processing conversations:  79%|███████▉  | 1632/2057 [4:50:03<1:21:17, 11.48s/it]"
     ]
    },
    {
     "name": "stdout",
     "output_type": "stream",
     "text": [
      "✅ Batch completed in 11.48s (0.230s per text)\n",
      "🚀 Attempting batch of 50 texts...\n"
     ]
    },
    {
     "name": "stderr",
     "output_type": "stream",
     "text": [
      "Processing conversations:  79%|███████▉  | 1633/2057 [4:50:15<1:22:10, 11.63s/it]"
     ]
    },
    {
     "name": "stdout",
     "output_type": "stream",
     "text": [
      "✅ Batch completed in 11.98s (0.240s per text)\n",
      "🚀 Attempting batch of 50 texts...\n"
     ]
    },
    {
     "name": "stderr",
     "output_type": "stream",
     "text": [
      "Processing conversations:  79%|███████▉  | 1634/2057 [4:50:27<1:20:48, 11.46s/it]"
     ]
    },
    {
     "name": "stdout",
     "output_type": "stream",
     "text": [
      "✅ Batch completed in 11.07s (0.221s per text)\n",
      "🚀 Attempting batch of 50 texts...\n"
     ]
    },
    {
     "name": "stderr",
     "output_type": "stream",
     "text": [
      "Processing conversations:  79%|███████▉  | 1635/2057 [4:50:38<1:20:27, 11.44s/it]"
     ]
    },
    {
     "name": "stdout",
     "output_type": "stream",
     "text": [
      "✅ Batch completed in 11.38s (0.228s per text)\n",
      "🚀 Attempting batch of 50 texts...\n"
     ]
    },
    {
     "name": "stderr",
     "output_type": "stream",
     "text": [
      "Processing conversations:  80%|███████▉  | 1636/2057 [4:50:49<1:19:57, 11.39s/it]"
     ]
    },
    {
     "name": "stdout",
     "output_type": "stream",
     "text": [
      "✅ Batch completed in 11.28s (0.226s per text)\n",
      "🚀 Attempting batch of 50 texts...\n"
     ]
    },
    {
     "name": "stderr",
     "output_type": "stream",
     "text": [
      "Processing conversations:  80%|███████▉  | 1637/2057 [4:51:01<1:20:27, 11.49s/it]"
     ]
    },
    {
     "name": "stdout",
     "output_type": "stream",
     "text": [
      "✅ Batch completed in 11.72s (0.234s per text)\n",
      "🚀 Attempting batch of 50 texts...\n"
     ]
    },
    {
     "name": "stderr",
     "output_type": "stream",
     "text": [
      "Processing conversations:  80%|███████▉  | 1638/2057 [4:51:13<1:20:25, 11.52s/it]"
     ]
    },
    {
     "name": "stdout",
     "output_type": "stream",
     "text": [
      "✅ Batch completed in 11.56s (0.231s per text)\n",
      "🚀 Attempting batch of 50 texts...\n"
     ]
    },
    {
     "name": "stderr",
     "output_type": "stream",
     "text": [
      "Processing conversations:  80%|███████▉  | 1639/2057 [4:51:24<1:20:19, 11.53s/it]"
     ]
    },
    {
     "name": "stdout",
     "output_type": "stream",
     "text": [
      "✅ Batch completed in 11.56s (0.231s per text)\n",
      "🚀 Attempting batch of 50 texts...\n"
     ]
    },
    {
     "name": "stderr",
     "output_type": "stream",
     "text": [
      "Processing conversations:  80%|███████▉  | 1640/2057 [4:51:35<1:19:24, 11.43s/it]"
     ]
    },
    {
     "name": "stdout",
     "output_type": "stream",
     "text": [
      "✅ Batch completed in 11.17s (0.223s per text)\n",
      "🚀 Attempting batch of 50 texts...\n"
     ]
    },
    {
     "name": "stderr",
     "output_type": "stream",
     "text": [
      "Processing conversations:  80%|███████▉  | 1641/2057 [4:51:47<1:18:51, 11.37s/it]"
     ]
    },
    {
     "name": "stdout",
     "output_type": "stream",
     "text": [
      "✅ Batch completed in 11.25s (0.225s per text)\n",
      "🚀 Attempting batch of 50 texts...\n"
     ]
    },
    {
     "name": "stderr",
     "output_type": "stream",
     "text": [
      "Processing conversations:  80%|███████▉  | 1642/2057 [4:51:58<1:18:34, 11.36s/it]"
     ]
    },
    {
     "name": "stdout",
     "output_type": "stream",
     "text": [
      "✅ Batch completed in 11.32s (0.226s per text)\n",
      "🚀 Attempting batch of 50 texts...\n"
     ]
    },
    {
     "name": "stderr",
     "output_type": "stream",
     "text": [
      "Processing conversations:  80%|███████▉  | 1643/2057 [4:52:09<1:18:31, 11.38s/it]"
     ]
    },
    {
     "name": "stdout",
     "output_type": "stream",
     "text": [
      "✅ Batch completed in 11.42s (0.228s per text)\n",
      "🚀 Attempting batch of 50 texts...\n"
     ]
    },
    {
     "name": "stderr",
     "output_type": "stream",
     "text": [
      "Processing conversations:  80%|███████▉  | 1644/2057 [4:52:20<1:17:11, 11.22s/it]"
     ]
    },
    {
     "name": "stdout",
     "output_type": "stream",
     "text": [
      "✅ Batch completed in 10.82s (0.216s per text)\n",
      "🚀 Attempting batch of 50 texts...\n"
     ]
    },
    {
     "name": "stderr",
     "output_type": "stream",
     "text": [
      "Processing conversations:  80%|███████▉  | 1645/2057 [4:52:31<1:16:41, 11.17s/it]"
     ]
    },
    {
     "name": "stdout",
     "output_type": "stream",
     "text": [
      "✅ Batch completed in 11.05s (0.221s per text)\n",
      "🚀 Attempting batch of 50 texts...\n"
     ]
    },
    {
     "name": "stderr",
     "output_type": "stream",
     "text": [
      "Processing conversations:  80%|████████  | 1646/2057 [4:52:42<1:16:32, 11.17s/it]"
     ]
    },
    {
     "name": "stdout",
     "output_type": "stream",
     "text": [
      "✅ Batch completed in 11.18s (0.224s per text)\n",
      "🚀 Attempting batch of 50 texts...\n"
     ]
    },
    {
     "name": "stderr",
     "output_type": "stream",
     "text": [
      "Processing conversations:  80%|████████  | 1647/2057 [4:52:54<1:17:09, 11.29s/it]"
     ]
    },
    {
     "name": "stdout",
     "output_type": "stream",
     "text": [
      "✅ Batch completed in 11.56s (0.231s per text)\n",
      "🚀 Attempting batch of 50 texts...\n"
     ]
    },
    {
     "name": "stderr",
     "output_type": "stream",
     "text": [
      "Processing conversations:  80%|████████  | 1648/2057 [4:53:05<1:16:03, 11.16s/it]"
     ]
    },
    {
     "name": "stdout",
     "output_type": "stream",
     "text": [
      "✅ Batch completed in 10.84s (0.217s per text)\n",
      "🚀 Attempting batch of 50 texts...\n"
     ]
    },
    {
     "name": "stderr",
     "output_type": "stream",
     "text": [
      "Processing conversations:  80%|████████  | 1649/2057 [4:53:16<1:15:56, 11.17s/it]"
     ]
    },
    {
     "name": "stdout",
     "output_type": "stream",
     "text": [
      "✅ Batch completed in 11.18s (0.224s per text)\n",
      "🚀 Attempting batch of 50 texts...\n"
     ]
    },
    {
     "name": "stderr",
     "output_type": "stream",
     "text": [
      "Processing conversations:  80%|████████  | 1650/2057 [4:53:27<1:15:14, 11.09s/it]"
     ]
    },
    {
     "name": "stdout",
     "output_type": "stream",
     "text": [
      "✅ Batch completed in 10.92s (0.218s per text)\n",
      "🚀 Attempting batch of 50 texts...\n"
     ]
    },
    {
     "name": "stderr",
     "output_type": "stream",
     "text": [
      "Processing conversations:  80%|████████  | 1651/2057 [4:53:38<1:15:55, 11.22s/it]"
     ]
    },
    {
     "name": "stdout",
     "output_type": "stream",
     "text": [
      "✅ Batch completed in 11.51s (0.230s per text)\n",
      "🚀 Attempting batch of 50 texts...\n"
     ]
    },
    {
     "name": "stderr",
     "output_type": "stream",
     "text": [
      "Processing conversations:  80%|████████  | 1652/2057 [4:53:49<1:15:17, 11.16s/it]"
     ]
    },
    {
     "name": "stdout",
     "output_type": "stream",
     "text": [
      "✅ Batch completed in 10.99s (0.220s per text)\n",
      "🚀 Attempting batch of 50 texts...\n"
     ]
    },
    {
     "name": "stderr",
     "output_type": "stream",
     "text": [
      "Processing conversations:  80%|████████  | 1653/2057 [4:54:00<1:14:18, 11.04s/it]"
     ]
    },
    {
     "name": "stdout",
     "output_type": "stream",
     "text": [
      "✅ Batch completed in 10.75s (0.215s per text)\n",
      "🚀 Attempting batch of 50 texts...\n"
     ]
    },
    {
     "name": "stderr",
     "output_type": "stream",
     "text": [
      "Processing conversations:  80%|████████  | 1654/2057 [4:54:12<1:14:59, 11.16s/it]"
     ]
    },
    {
     "name": "stdout",
     "output_type": "stream",
     "text": [
      "✅ Batch completed in 11.45s (0.229s per text)\n",
      "🚀 Attempting batch of 50 texts...\n"
     ]
    },
    {
     "name": "stderr",
     "output_type": "stream",
     "text": [
      "Processing conversations:  80%|████████  | 1655/2057 [4:54:23<1:14:32, 11.13s/it]"
     ]
    },
    {
     "name": "stdout",
     "output_type": "stream",
     "text": [
      "✅ Batch completed in 11.03s (0.221s per text)\n",
      "🚀 Attempting batch of 50 texts...\n"
     ]
    },
    {
     "name": "stderr",
     "output_type": "stream",
     "text": [
      "Processing conversations:  81%|████████  | 1656/2057 [4:54:34<1:14:21, 11.13s/it]"
     ]
    },
    {
     "name": "stdout",
     "output_type": "stream",
     "text": [
      "✅ Batch completed in 11.12s (0.222s per text)\n",
      "🚀 Attempting batch of 50 texts...\n"
     ]
    },
    {
     "name": "stderr",
     "output_type": "stream",
     "text": [
      "Processing conversations:  81%|████████  | 1657/2057 [4:54:45<1:13:39, 11.05s/it]"
     ]
    },
    {
     "name": "stdout",
     "output_type": "stream",
     "text": [
      "✅ Batch completed in 10.87s (0.217s per text)\n",
      "🚀 Attempting batch of 50 texts...\n"
     ]
    },
    {
     "name": "stderr",
     "output_type": "stream",
     "text": [
      "Processing conversations:  81%|████████  | 1658/2057 [4:54:55<1:12:57, 10.97s/it]"
     ]
    },
    {
     "name": "stdout",
     "output_type": "stream",
     "text": [
      "✅ Batch completed in 10.78s (0.216s per text)\n",
      "🚀 Attempting batch of 50 texts...\n"
     ]
    },
    {
     "name": "stderr",
     "output_type": "stream",
     "text": [
      "Processing conversations:  81%|████████  | 1659/2057 [4:55:06<1:12:15, 10.89s/it]"
     ]
    },
    {
     "name": "stdout",
     "output_type": "stream",
     "text": [
      "✅ Batch completed in 10.70s (0.214s per text)\n",
      "🚀 Attempting batch of 50 texts...\n"
     ]
    },
    {
     "name": "stderr",
     "output_type": "stream",
     "text": [
      "Processing conversations:  81%|████████  | 1660/2057 [4:55:17<1:11:42, 10.84s/it]"
     ]
    },
    {
     "name": "stdout",
     "output_type": "stream",
     "text": [
      "✅ Batch completed in 10.70s (0.214s per text)\n",
      "🚀 Attempting batch of 50 texts...\n"
     ]
    },
    {
     "name": "stderr",
     "output_type": "stream",
     "text": [
      "Processing conversations:  81%|████████  | 1661/2057 [4:55:28<1:12:16, 10.95s/it]"
     ]
    },
    {
     "name": "stdout",
     "output_type": "stream",
     "text": [
      "✅ Batch completed in 11.21s (0.224s per text)\n",
      "🚀 Attempting batch of 50 texts...\n"
     ]
    },
    {
     "name": "stderr",
     "output_type": "stream",
     "text": [
      "Processing conversations:  81%|████████  | 1662/2057 [4:55:40<1:13:10, 11.12s/it]"
     ]
    },
    {
     "name": "stdout",
     "output_type": "stream",
     "text": [
      "✅ Batch completed in 11.49s (0.230s per text)\n",
      "🚀 Attempting batch of 50 texts...\n"
     ]
    },
    {
     "name": "stderr",
     "output_type": "stream",
     "text": [
      "Processing conversations:  81%|████████  | 1663/2057 [4:55:51<1:13:45, 11.23s/it]"
     ]
    },
    {
     "name": "stdout",
     "output_type": "stream",
     "text": [
      "✅ Batch completed in 11.49s (0.230s per text)\n",
      "🚀 Attempting batch of 50 texts...\n"
     ]
    },
    {
     "name": "stderr",
     "output_type": "stream",
     "text": [
      "Processing conversations:  81%|████████  | 1664/2057 [4:56:03<1:14:18, 11.35s/it]"
     ]
    },
    {
     "name": "stdout",
     "output_type": "stream",
     "text": [
      "✅ Batch completed in 11.60s (0.232s per text)\n",
      "🚀 Attempting batch of 50 texts...\n"
     ]
    },
    {
     "name": "stderr",
     "output_type": "stream",
     "text": [
      "Processing conversations:  81%|████████  | 1665/2057 [4:56:14<1:14:56, 11.47s/it]"
     ]
    },
    {
     "name": "stdout",
     "output_type": "stream",
     "text": [
      "✅ Batch completed in 11.75s (0.235s per text)\n",
      "🚀 Attempting batch of 50 texts...\n"
     ]
    },
    {
     "name": "stderr",
     "output_type": "stream",
     "text": [
      "Processing conversations:  81%|████████  | 1666/2057 [4:56:26<1:14:58, 11.50s/it]"
     ]
    },
    {
     "name": "stdout",
     "output_type": "stream",
     "text": [
      "✅ Batch completed in 11.58s (0.232s per text)\n",
      "🚀 Attempting batch of 50 texts...\n"
     ]
    },
    {
     "name": "stderr",
     "output_type": "stream",
     "text": [
      "Processing conversations:  81%|████████  | 1667/2057 [4:56:38<1:14:54, 11.52s/it]"
     ]
    },
    {
     "name": "stdout",
     "output_type": "stream",
     "text": [
      "✅ Batch completed in 11.56s (0.231s per text)\n",
      "🚀 Attempting batch of 50 texts...\n"
     ]
    },
    {
     "name": "stderr",
     "output_type": "stream",
     "text": [
      "Processing conversations:  81%|████████  | 1668/2057 [4:56:49<1:14:55, 11.56s/it]"
     ]
    },
    {
     "name": "stdout",
     "output_type": "stream",
     "text": [
      "✅ Batch completed in 11.62s (0.232s per text)\n",
      "🚀 Attempting batch of 50 texts...\n"
     ]
    },
    {
     "name": "stderr",
     "output_type": "stream",
     "text": [
      "Processing conversations:  81%|████████  | 1669/2057 [4:57:01<1:14:57, 11.59s/it]"
     ]
    },
    {
     "name": "stdout",
     "output_type": "stream",
     "text": [
      "✅ Batch completed in 11.66s (0.233s per text)\n",
      "🚀 Attempting batch of 50 texts...\n"
     ]
    },
    {
     "name": "stderr",
     "output_type": "stream",
     "text": [
      "Processing conversations:  81%|████████  | 1670/2057 [4:57:13<1:14:59, 11.63s/it]"
     ]
    },
    {
     "name": "stdout",
     "output_type": "stream",
     "text": [
      "✅ Batch completed in 11.70s (0.234s per text)\n",
      "🚀 Attempting batch of 50 texts...\n"
     ]
    },
    {
     "name": "stderr",
     "output_type": "stream",
     "text": [
      "Processing conversations:  81%|████████  | 1671/2057 [4:57:25<1:16:45, 11.93s/it]"
     ]
    },
    {
     "name": "stdout",
     "output_type": "stream",
     "text": [
      "✅ Batch completed in 12.64s (0.253s per text)\n",
      "🚀 Attempting batch of 50 texts...\n"
     ]
    },
    {
     "name": "stderr",
     "output_type": "stream",
     "text": [
      "Processing conversations:  81%|████████▏ | 1672/2057 [4:57:36<1:15:04, 11.70s/it]"
     ]
    },
    {
     "name": "stdout",
     "output_type": "stream",
     "text": [
      "✅ Batch completed in 11.15s (0.223s per text)\n",
      "🚀 Attempting batch of 50 texts...\n"
     ]
    },
    {
     "name": "stderr",
     "output_type": "stream",
     "text": [
      "Processing conversations:  81%|████████▏ | 1673/2057 [4:57:48<1:13:56, 11.55s/it]"
     ]
    },
    {
     "name": "stdout",
     "output_type": "stream",
     "text": [
      "✅ Batch completed in 11.20s (0.224s per text)\n",
      "🚀 Attempting batch of 50 texts...\n"
     ]
    },
    {
     "name": "stderr",
     "output_type": "stream",
     "text": [
      "Processing conversations:  81%|████████▏ | 1674/2057 [4:57:59<1:13:55, 11.58s/it]"
     ]
    },
    {
     "name": "stdout",
     "output_type": "stream",
     "text": [
      "✅ Batch completed in 11.64s (0.233s per text)\n",
      "🚀 Attempting batch of 50 texts...\n"
     ]
    },
    {
     "name": "stderr",
     "output_type": "stream",
     "text": [
      "Processing conversations:  81%|████████▏ | 1675/2057 [4:58:11<1:14:50, 11.76s/it]"
     ]
    },
    {
     "name": "stdout",
     "output_type": "stream",
     "text": [
      "✅ Batch completed in 12.14s (0.243s per text)\n",
      "🚀 Attempting batch of 50 texts...\n"
     ]
    },
    {
     "name": "stderr",
     "output_type": "stream",
     "text": [
      "Processing conversations:  81%|████████▏ | 1676/2057 [4:58:23<1:14:11, 11.68s/it]"
     ]
    },
    {
     "name": "stdout",
     "output_type": "stream",
     "text": [
      "✅ Batch completed in 11.51s (0.230s per text)\n",
      "🚀 Attempting batch of 50 texts...\n"
     ]
    },
    {
     "name": "stderr",
     "output_type": "stream",
     "text": [
      "Processing conversations:  82%|████████▏ | 1677/2057 [4:58:34<1:12:39, 11.47s/it]"
     ]
    },
    {
     "name": "stdout",
     "output_type": "stream",
     "text": [
      "✅ Batch completed in 10.97s (0.219s per text)\n",
      "🚀 Attempting batch of 50 texts...\n"
     ]
    },
    {
     "name": "stderr",
     "output_type": "stream",
     "text": [
      "Processing conversations:  82%|████████▏ | 1678/2057 [4:58:46<1:12:43, 11.51s/it]"
     ]
    },
    {
     "name": "stdout",
     "output_type": "stream",
     "text": [
      "✅ Batch completed in 11.60s (0.232s per text)\n",
      "🚀 Attempting batch of 50 texts...\n"
     ]
    },
    {
     "name": "stderr",
     "output_type": "stream",
     "text": [
      "Processing conversations:  82%|████████▏ | 1679/2057 [4:58:57<1:12:09, 11.45s/it]"
     ]
    },
    {
     "name": "stdout",
     "output_type": "stream",
     "text": [
      "✅ Batch completed in 11.30s (0.226s per text)\n",
      "🚀 Attempting batch of 50 texts...\n"
     ]
    },
    {
     "name": "stderr",
     "output_type": "stream",
     "text": [
      "Processing conversations:  82%|████████▏ | 1680/2057 [4:59:08<1:11:17, 11.35s/it]"
     ]
    },
    {
     "name": "stdout",
     "output_type": "stream",
     "text": [
      "✅ Batch completed in 11.09s (0.222s per text)\n",
      "🚀 Attempting batch of 50 texts...\n"
     ]
    },
    {
     "name": "stderr",
     "output_type": "stream",
     "text": [
      "Processing conversations:  82%|████████▏ | 1681/2057 [4:59:19<1:11:05, 11.34s/it]"
     ]
    },
    {
     "name": "stdout",
     "output_type": "stream",
     "text": [
      "✅ Batch completed in 11.34s (0.227s per text)\n",
      "🚀 Attempting batch of 50 texts...\n"
     ]
    },
    {
     "name": "stderr",
     "output_type": "stream",
     "text": [
      "Processing conversations:  82%|████████▏ | 1682/2057 [4:59:30<1:09:45, 11.16s/it]"
     ]
    },
    {
     "name": "stdout",
     "output_type": "stream",
     "text": [
      "✅ Batch completed in 10.72s (0.214s per text)\n",
      "🚀 Attempting batch of 50 texts...\n"
     ]
    },
    {
     "name": "stderr",
     "output_type": "stream",
     "text": [
      "Processing conversations:  82%|████████▏ | 1683/2057 [4:59:40<1:07:40, 10.86s/it]"
     ]
    },
    {
     "name": "stdout",
     "output_type": "stream",
     "text": [
      "✅ Batch completed in 10.14s (0.203s per text)\n",
      "🚀 Attempting batch of 50 texts...\n"
     ]
    },
    {
     "name": "stderr",
     "output_type": "stream",
     "text": [
      "Processing conversations:  82%|████████▏ | 1684/2057 [4:59:51<1:07:22, 10.84s/it]"
     ]
    },
    {
     "name": "stdout",
     "output_type": "stream",
     "text": [
      "✅ Batch completed in 10.78s (0.216s per text)\n",
      "🚀 Attempting batch of 50 texts...\n"
     ]
    },
    {
     "name": "stderr",
     "output_type": "stream",
     "text": [
      "Processing conversations:  82%|████████▏ | 1685/2057 [5:00:01<1:06:05, 10.66s/it]"
     ]
    },
    {
     "name": "stdout",
     "output_type": "stream",
     "text": [
      "✅ Batch completed in 10.23s (0.205s per text)\n",
      "🚀 Attempting batch of 50 texts...\n"
     ]
    },
    {
     "name": "stderr",
     "output_type": "stream",
     "text": [
      "Processing conversations:  82%|████████▏ | 1686/2057 [5:00:11<1:04:47, 10.48s/it]"
     ]
    },
    {
     "name": "stdout",
     "output_type": "stream",
     "text": [
      "✅ Batch completed in 10.05s (0.201s per text)\n",
      "🚀 Attempting batch of 50 texts...\n"
     ]
    },
    {
     "name": "stderr",
     "output_type": "stream",
     "text": [
      "Processing conversations:  82%|████████▏ | 1687/2057 [5:00:22<1:04:16, 10.42s/it]"
     ]
    },
    {
     "name": "stdout",
     "output_type": "stream",
     "text": [
      "✅ Batch completed in 10.28s (0.206s per text)\n",
      "🚀 Attempting batch of 50 texts...\n"
     ]
    },
    {
     "name": "stderr",
     "output_type": "stream",
     "text": [
      "Processing conversations:  82%|████████▏ | 1688/2057 [5:00:32<1:04:50, 10.54s/it]"
     ]
    },
    {
     "name": "stdout",
     "output_type": "stream",
     "text": [
      "✅ Batch completed in 10.81s (0.216s per text)\n",
      "🚀 Attempting batch of 50 texts...\n"
     ]
    },
    {
     "name": "stderr",
     "output_type": "stream",
     "text": [
      "Processing conversations:  82%|████████▏ | 1689/2057 [5:00:43<1:05:14, 10.64s/it]"
     ]
    },
    {
     "name": "stdout",
     "output_type": "stream",
     "text": [
      "✅ Batch completed in 10.85s (0.217s per text)\n",
      "🚀 Attempting batch of 50 texts...\n"
     ]
    },
    {
     "name": "stderr",
     "output_type": "stream",
     "text": [
      "Processing conversations:  82%|████████▏ | 1690/2057 [5:00:54<1:05:40, 10.74s/it]"
     ]
    },
    {
     "name": "stdout",
     "output_type": "stream",
     "text": [
      "✅ Batch completed in 10.97s (0.219s per text)\n",
      "🚀 Attempting batch of 50 texts...\n"
     ]
    },
    {
     "name": "stderr",
     "output_type": "stream",
     "text": [
      "Processing conversations:  82%|████████▏ | 1691/2057 [5:01:06<1:06:35, 10.92s/it]"
     ]
    },
    {
     "name": "stdout",
     "output_type": "stream",
     "text": [
      "✅ Batch completed in 11.33s (0.227s per text)\n",
      "🚀 Attempting batch of 50 texts...\n"
     ]
    },
    {
     "name": "stderr",
     "output_type": "stream",
     "text": [
      "Processing conversations:  82%|████████▏ | 1692/2057 [5:01:16<1:05:20, 10.74s/it]"
     ]
    },
    {
     "name": "stdout",
     "output_type": "stream",
     "text": [
      "✅ Batch completed in 10.32s (0.206s per text)\n",
      "🚀 Attempting batch of 50 texts...\n"
     ]
    },
    {
     "name": "stderr",
     "output_type": "stream",
     "text": [
      "Processing conversations:  82%|████████▏ | 1693/2057 [5:01:27<1:05:13, 10.75s/it]"
     ]
    },
    {
     "name": "stdout",
     "output_type": "stream",
     "text": [
      "✅ Batch completed in 10.77s (0.215s per text)\n",
      "🚀 Attempting batch of 50 texts...\n"
     ]
    },
    {
     "name": "stderr",
     "output_type": "stream",
     "text": [
      "Processing conversations:  82%|████████▏ | 1694/2057 [5:01:38<1:06:18, 10.96s/it]"
     ]
    },
    {
     "name": "stdout",
     "output_type": "stream",
     "text": [
      "✅ Batch completed in 11.43s (0.229s per text)\n",
      "🚀 Attempting batch of 50 texts...\n"
     ]
    },
    {
     "name": "stderr",
     "output_type": "stream",
     "text": [
      "Processing conversations:  82%|████████▏ | 1695/2057 [5:01:49<1:06:17, 10.99s/it]"
     ]
    },
    {
     "name": "stdout",
     "output_type": "stream",
     "text": [
      "✅ Batch completed in 11.03s (0.221s per text)\n",
      "🚀 Attempting batch of 50 texts...\n"
     ]
    },
    {
     "name": "stderr",
     "output_type": "stream",
     "text": [
      "Processing conversations:  82%|████████▏ | 1696/2057 [5:02:00<1:05:43, 10.92s/it]"
     ]
    },
    {
     "name": "stdout",
     "output_type": "stream",
     "text": [
      "✅ Batch completed in 10.76s (0.215s per text)\n",
      "🚀 Attempting batch of 50 texts...\n"
     ]
    },
    {
     "name": "stderr",
     "output_type": "stream",
     "text": [
      "Processing conversations:  82%|████████▏ | 1697/2057 [5:02:10<1:04:50, 10.81s/it]"
     ]
    },
    {
     "name": "stdout",
     "output_type": "stream",
     "text": [
      "✅ Batch completed in 10.52s (0.210s per text)\n",
      "🚀 Attempting batch of 50 texts...\n"
     ]
    },
    {
     "name": "stderr",
     "output_type": "stream",
     "text": [
      "Processing conversations:  83%|████████▎ | 1698/2057 [5:02:22<1:06:03, 11.04s/it]"
     ]
    },
    {
     "name": "stdout",
     "output_type": "stream",
     "text": [
      "✅ Batch completed in 11.58s (0.232s per text)\n",
      "🚀 Attempting batch of 50 texts...\n"
     ]
    },
    {
     "name": "stderr",
     "output_type": "stream",
     "text": [
      "Processing conversations:  83%|████████▎ | 1699/2057 [5:02:32<1:04:37, 10.83s/it]"
     ]
    },
    {
     "name": "stdout",
     "output_type": "stream",
     "text": [
      "✅ Batch completed in 10.33s (0.207s per text)\n",
      "🚀 Attempting batch of 50 texts...\n"
     ]
    },
    {
     "name": "stderr",
     "output_type": "stream",
     "text": [
      "Processing conversations:  83%|████████▎ | 1700/2057 [5:02:43<1:04:18, 10.81s/it]"
     ]
    },
    {
     "name": "stdout",
     "output_type": "stream",
     "text": [
      "✅ Batch completed in 10.75s (0.215s per text)\n",
      "🚀 Attempting batch of 50 texts...\n"
     ]
    },
    {
     "name": "stderr",
     "output_type": "stream",
     "text": [
      "Processing conversations:  83%|████████▎ | 1701/2057 [5:02:54<1:03:37, 10.72s/it]"
     ]
    },
    {
     "name": "stdout",
     "output_type": "stream",
     "text": [
      "✅ Batch completed in 10.51s (0.210s per text)\n",
      "🚀 Attempting batch of 50 texts...\n"
     ]
    },
    {
     "name": "stderr",
     "output_type": "stream",
     "text": [
      "Processing conversations:  83%|████████▎ | 1702/2057 [5:03:04<1:03:28, 10.73s/it]"
     ]
    },
    {
     "name": "stdout",
     "output_type": "stream",
     "text": [
      "✅ Batch completed in 10.73s (0.215s per text)\n",
      "🚀 Attempting batch of 50 texts...\n"
     ]
    },
    {
     "name": "stderr",
     "output_type": "stream",
     "text": [
      "Processing conversations:  83%|████████▎ | 1703/2057 [5:03:15<1:03:17, 10.73s/it]"
     ]
    },
    {
     "name": "stdout",
     "output_type": "stream",
     "text": [
      "✅ Batch completed in 10.71s (0.214s per text)\n",
      "🚀 Attempting batch of 50 texts...\n"
     ]
    },
    {
     "name": "stderr",
     "output_type": "stream",
     "text": [
      "Processing conversations:  83%|████████▎ | 1704/2057 [5:03:26<1:03:46, 10.84s/it]"
     ]
    },
    {
     "name": "stdout",
     "output_type": "stream",
     "text": [
      "✅ Batch completed in 11.09s (0.222s per text)\n",
      "🚀 Attempting batch of 50 texts...\n"
     ]
    },
    {
     "name": "stderr",
     "output_type": "stream",
     "text": [
      "Processing conversations:  83%|████████▎ | 1705/2057 [5:03:37<1:03:46, 10.87s/it]"
     ]
    },
    {
     "name": "stdout",
     "output_type": "stream",
     "text": [
      "✅ Batch completed in 10.93s (0.219s per text)\n",
      "🚀 Attempting batch of 50 texts...\n"
     ]
    },
    {
     "name": "stderr",
     "output_type": "stream",
     "text": [
      "Processing conversations:  83%|████████▎ | 1706/2057 [5:03:48<1:04:12, 10.98s/it]"
     ]
    },
    {
     "name": "stdout",
     "output_type": "stream",
     "text": [
      "✅ Batch completed in 11.21s (0.224s per text)\n",
      "🚀 Attempting batch of 50 texts...\n"
     ]
    },
    {
     "name": "stderr",
     "output_type": "stream",
     "text": [
      "Processing conversations:  83%|████████▎ | 1707/2057 [5:04:00<1:04:18, 11.02s/it]"
     ]
    },
    {
     "name": "stdout",
     "output_type": "stream",
     "text": [
      "✅ Batch completed in 11.12s (0.222s per text)\n",
      "🚀 Attempting batch of 50 texts...\n"
     ]
    },
    {
     "name": "stderr",
     "output_type": "stream",
     "text": [
      "Processing conversations:  83%|████████▎ | 1708/2057 [5:04:11<1:03:59, 11.00s/it]"
     ]
    },
    {
     "name": "stdout",
     "output_type": "stream",
     "text": [
      "✅ Batch completed in 10.94s (0.219s per text)\n",
      "🚀 Attempting batch of 50 texts...\n"
     ]
    },
    {
     "name": "stderr",
     "output_type": "stream",
     "text": [
      "Processing conversations:  83%|████████▎ | 1709/2057 [5:04:21<1:03:40, 10.98s/it]"
     ]
    },
    {
     "name": "stdout",
     "output_type": "stream",
     "text": [
      "✅ Batch completed in 10.91s (0.218s per text)\n",
      "🚀 Attempting batch of 50 texts...\n"
     ]
    },
    {
     "name": "stderr",
     "output_type": "stream",
     "text": [
      "Processing conversations:  83%|████████▎ | 1710/2057 [5:04:32<1:02:54, 10.88s/it]"
     ]
    },
    {
     "name": "stdout",
     "output_type": "stream",
     "text": [
      "✅ Batch completed in 10.62s (0.212s per text)\n",
      "🚀 Attempting batch of 50 texts...\n"
     ]
    },
    {
     "name": "stderr",
     "output_type": "stream",
     "text": [
      "Processing conversations:  83%|████████▎ | 1711/2057 [5:04:43<1:02:53, 10.91s/it]"
     ]
    },
    {
     "name": "stdout",
     "output_type": "stream",
     "text": [
      "✅ Batch completed in 10.96s (0.219s per text)\n",
      "🚀 Attempting batch of 50 texts...\n"
     ]
    },
    {
     "name": "stderr",
     "output_type": "stream",
     "text": [
      "Processing conversations:  83%|████████▎ | 1712/2057 [5:04:54<1:03:16, 11.00s/it]"
     ]
    },
    {
     "name": "stdout",
     "output_type": "stream",
     "text": [
      "✅ Batch completed in 11.22s (0.224s per text)\n",
      "🚀 Attempting batch of 50 texts...\n"
     ]
    },
    {
     "name": "stderr",
     "output_type": "stream",
     "text": [
      "Processing conversations:  83%|████████▎ | 1713/2057 [5:05:05<1:02:42, 10.94s/it]"
     ]
    },
    {
     "name": "stdout",
     "output_type": "stream",
     "text": [
      "✅ Batch completed in 10.77s (0.215s per text)\n",
      "🚀 Attempting batch of 50 texts...\n"
     ]
    },
    {
     "name": "stderr",
     "output_type": "stream",
     "text": [
      "Processing conversations:  83%|████████▎ | 1714/2057 [5:05:16<1:02:03, 10.86s/it]"
     ]
    },
    {
     "name": "stdout",
     "output_type": "stream",
     "text": [
      "✅ Batch completed in 10.66s (0.213s per text)\n",
      "🚀 Attempting batch of 50 texts...\n"
     ]
    },
    {
     "name": "stderr",
     "output_type": "stream",
     "text": [
      "Processing conversations:  83%|████████▎ | 1715/2057 [5:05:27<1:01:47, 10.84s/it]"
     ]
    },
    {
     "name": "stdout",
     "output_type": "stream",
     "text": [
      "✅ Batch completed in 10.79s (0.216s per text)\n",
      "🚀 Attempting batch of 50 texts...\n"
     ]
    },
    {
     "name": "stderr",
     "output_type": "stream",
     "text": [
      "Processing conversations:  83%|████████▎ | 1716/2057 [5:05:38<1:02:19, 10.97s/it]"
     ]
    },
    {
     "name": "stdout",
     "output_type": "stream",
     "text": [
      "✅ Batch completed in 11.25s (0.225s per text)\n",
      "🚀 Attempting batch of 50 texts...\n"
     ]
    },
    {
     "name": "stderr",
     "output_type": "stream",
     "text": [
      "Processing conversations:  83%|████████▎ | 1717/2057 [5:05:48<1:00:54, 10.75s/it]"
     ]
    },
    {
     "name": "stdout",
     "output_type": "stream",
     "text": [
      "✅ Batch completed in 10.23s (0.205s per text)\n",
      "🚀 Attempting batch of 50 texts...\n"
     ]
    },
    {
     "name": "stderr",
     "output_type": "stream",
     "text": [
      "Processing conversations:  84%|████████▎ | 1718/2057 [5:05:58<59:25, 10.52s/it]  "
     ]
    },
    {
     "name": "stdout",
     "output_type": "stream",
     "text": [
      "✅ Batch completed in 9.96s (0.199s per text)\n",
      "🚀 Attempting batch of 50 texts...\n"
     ]
    },
    {
     "name": "stderr",
     "output_type": "stream",
     "text": [
      "Processing conversations:  84%|████████▎ | 1719/2057 [5:06:09<59:36, 10.58s/it]"
     ]
    },
    {
     "name": "stdout",
     "output_type": "stream",
     "text": [
      "✅ Batch completed in 10.72s (0.214s per text)\n",
      "🚀 Attempting batch of 50 texts...\n"
     ]
    },
    {
     "name": "stderr",
     "output_type": "stream",
     "text": [
      "Processing conversations:  84%|████████▎ | 1720/2057 [5:06:19<59:07, 10.53s/it]"
     ]
    },
    {
     "name": "stdout",
     "output_type": "stream",
     "text": [
      "✅ Batch completed in 10.40s (0.208s per text)\n",
      "🚀 Attempting batch of 50 texts...\n"
     ]
    },
    {
     "name": "stderr",
     "output_type": "stream",
     "text": [
      "Processing conversations:  84%|████████▎ | 1721/2057 [5:06:29<58:21, 10.42s/it]"
     ]
    },
    {
     "name": "stdout",
     "output_type": "stream",
     "text": [
      "✅ Batch completed in 10.16s (0.203s per text)\n",
      "🚀 Attempting batch of 50 texts...\n"
     ]
    },
    {
     "name": "stderr",
     "output_type": "stream",
     "text": [
      "Processing conversations:  84%|████████▎ | 1722/2057 [5:06:40<58:11, 10.42s/it]"
     ]
    },
    {
     "name": "stdout",
     "output_type": "stream",
     "text": [
      "✅ Batch completed in 10.41s (0.208s per text)\n",
      "🚀 Attempting batch of 50 texts...\n"
     ]
    },
    {
     "name": "stderr",
     "output_type": "stream",
     "text": [
      "Processing conversations:  84%|████████▍ | 1723/2057 [5:06:50<58:04, 10.43s/it]"
     ]
    },
    {
     "name": "stdout",
     "output_type": "stream",
     "text": [
      "✅ Batch completed in 10.45s (0.209s per text)\n",
      "🚀 Attempting batch of 50 texts...\n"
     ]
    },
    {
     "name": "stderr",
     "output_type": "stream",
     "text": [
      "Processing conversations:  84%|████████▍ | 1724/2057 [5:07:00<57:28, 10.36s/it]"
     ]
    },
    {
     "name": "stdout",
     "output_type": "stream",
     "text": [
      "✅ Batch completed in 10.17s (0.203s per text)\n",
      "🚀 Attempting batch of 50 texts...\n"
     ]
    },
    {
     "name": "stderr",
     "output_type": "stream",
     "text": [
      "Processing conversations:  84%|████████▍ | 1725/2057 [5:07:11<57:04, 10.32s/it]"
     ]
    },
    {
     "name": "stdout",
     "output_type": "stream",
     "text": [
      "✅ Batch completed in 10.21s (0.204s per text)\n",
      "🚀 Attempting batch of 50 texts...\n"
     ]
    },
    {
     "name": "stderr",
     "output_type": "stream",
     "text": [
      "Processing conversations:  84%|████████▍ | 1726/2057 [5:07:21<56:56, 10.32s/it]"
     ]
    },
    {
     "name": "stdout",
     "output_type": "stream",
     "text": [
      "✅ Batch completed in 10.33s (0.207s per text)\n",
      "🚀 Attempting batch of 50 texts...\n"
     ]
    },
    {
     "name": "stderr",
     "output_type": "stream",
     "text": [
      "Processing conversations:  84%|████████▍ | 1727/2057 [5:07:31<56:33, 10.28s/it]"
     ]
    },
    {
     "name": "stdout",
     "output_type": "stream",
     "text": [
      "✅ Batch completed in 10.18s (0.204s per text)\n",
      "🚀 Attempting batch of 50 texts...\n"
     ]
    },
    {
     "name": "stderr",
     "output_type": "stream",
     "text": [
      "Processing conversations:  84%|████████▍ | 1728/2057 [5:07:41<56:09, 10.24s/it]"
     ]
    },
    {
     "name": "stdout",
     "output_type": "stream",
     "text": [
      "✅ Batch completed in 10.13s (0.203s per text)\n",
      "🚀 Attempting batch of 50 texts...\n"
     ]
    },
    {
     "name": "stderr",
     "output_type": "stream",
     "text": [
      "Processing conversations:  84%|████████▍ | 1729/2057 [5:07:51<55:21, 10.13s/it]"
     ]
    },
    {
     "name": "stdout",
     "output_type": "stream",
     "text": [
      "✅ Batch completed in 9.85s (0.197s per text)\n",
      "🚀 Attempting batch of 50 texts...\n"
     ]
    },
    {
     "name": "stderr",
     "output_type": "stream",
     "text": [
      "Processing conversations:  84%|████████▍ | 1730/2057 [5:08:02<56:21, 10.34s/it]"
     ]
    },
    {
     "name": "stdout",
     "output_type": "stream",
     "text": [
      "✅ Batch completed in 10.83s (0.217s per text)\n",
      "🚀 Attempting batch of 50 texts...\n"
     ]
    },
    {
     "name": "stderr",
     "output_type": "stream",
     "text": [
      "Processing conversations:  84%|████████▍ | 1731/2057 [5:08:12<56:25, 10.38s/it]"
     ]
    },
    {
     "name": "stdout",
     "output_type": "stream",
     "text": [
      "✅ Batch completed in 10.48s (0.210s per text)\n",
      "🚀 Attempting batch of 50 texts...\n"
     ]
    },
    {
     "name": "stderr",
     "output_type": "stream",
     "text": [
      "Processing conversations:  84%|████████▍ | 1732/2057 [5:08:23<56:15, 10.39s/it]"
     ]
    },
    {
     "name": "stdout",
     "output_type": "stream",
     "text": [
      "✅ Batch completed in 10.38s (0.208s per text)\n",
      "🚀 Attempting batch of 50 texts...\n"
     ]
    },
    {
     "name": "stderr",
     "output_type": "stream",
     "text": [
      "Processing conversations:  84%|████████▍ | 1733/2057 [5:08:34<56:42, 10.50s/it]"
     ]
    },
    {
     "name": "stdout",
     "output_type": "stream",
     "text": [
      "✅ Batch completed in 10.75s (0.215s per text)\n",
      "🚀 Attempting batch of 50 texts...\n"
     ]
    },
    {
     "name": "stderr",
     "output_type": "stream",
     "text": [
      "Processing conversations:  84%|████████▍ | 1734/2057 [5:08:44<56:36, 10.52s/it]"
     ]
    },
    {
     "name": "stdout",
     "output_type": "stream",
     "text": [
      "✅ Batch completed in 10.55s (0.211s per text)\n",
      "🚀 Attempting batch of 50 texts...\n"
     ]
    },
    {
     "name": "stderr",
     "output_type": "stream",
     "text": [
      "Processing conversations:  84%|████████▍ | 1735/2057 [5:08:55<56:19, 10.50s/it]"
     ]
    },
    {
     "name": "stdout",
     "output_type": "stream",
     "text": [
      "✅ Batch completed in 10.44s (0.209s per text)\n",
      "🚀 Attempting batch of 50 texts...\n"
     ]
    },
    {
     "name": "stderr",
     "output_type": "stream",
     "text": [
      "Processing conversations:  84%|████████▍ | 1736/2057 [5:09:05<55:34, 10.39s/it]"
     ]
    },
    {
     "name": "stdout",
     "output_type": "stream",
     "text": [
      "✅ Batch completed in 10.13s (0.203s per text)\n",
      "🚀 Attempting batch of 50 texts...\n"
     ]
    },
    {
     "name": "stderr",
     "output_type": "stream",
     "text": [
      "Processing conversations:  84%|████████▍ | 1737/2057 [5:09:15<55:31, 10.41s/it]"
     ]
    },
    {
     "name": "stdout",
     "output_type": "stream",
     "text": [
      "✅ Batch completed in 10.45s (0.209s per text)\n",
      "🚀 Attempting batch of 50 texts...\n"
     ]
    },
    {
     "name": "stderr",
     "output_type": "stream",
     "text": [
      "Processing conversations:  84%|████████▍ | 1738/2057 [5:09:26<55:20, 10.41s/it]"
     ]
    },
    {
     "name": "stdout",
     "output_type": "stream",
     "text": [
      "✅ Batch completed in 10.40s (0.208s per text)\n",
      "🚀 Attempting batch of 50 texts...\n"
     ]
    },
    {
     "name": "stderr",
     "output_type": "stream",
     "text": [
      "Processing conversations:  85%|████████▍ | 1739/2057 [5:09:36<54:26, 10.27s/it]"
     ]
    },
    {
     "name": "stdout",
     "output_type": "stream",
     "text": [
      "✅ Batch completed in 9.95s (0.199s per text)\n",
      "🚀 Attempting batch of 50 texts...\n"
     ]
    },
    {
     "name": "stderr",
     "output_type": "stream",
     "text": [
      "Processing conversations:  85%|████████▍ | 1740/2057 [5:09:46<53:59, 10.22s/it]"
     ]
    },
    {
     "name": "stdout",
     "output_type": "stream",
     "text": [
      "✅ Batch completed in 10.09s (0.202s per text)\n",
      "🚀 Attempting batch of 50 texts...\n"
     ]
    },
    {
     "name": "stderr",
     "output_type": "stream",
     "text": [
      "Processing conversations:  85%|████████▍ | 1741/2057 [5:09:56<53:37, 10.18s/it]"
     ]
    },
    {
     "name": "stdout",
     "output_type": "stream",
     "text": [
      "✅ Batch completed in 10.09s (0.202s per text)\n",
      "🚀 Attempting batch of 50 texts...\n"
     ]
    },
    {
     "name": "stderr",
     "output_type": "stream",
     "text": [
      "Processing conversations:  85%|████████▍ | 1742/2057 [5:10:06<53:17, 10.15s/it]"
     ]
    },
    {
     "name": "stdout",
     "output_type": "stream",
     "text": [
      "✅ Batch completed in 10.07s (0.201s per text)\n",
      "🚀 Attempting batch of 50 texts...\n"
     ]
    },
    {
     "name": "stderr",
     "output_type": "stream",
     "text": [
      "Processing conversations:  85%|████████▍ | 1743/2057 [5:10:16<53:09, 10.16s/it]"
     ]
    },
    {
     "name": "stdout",
     "output_type": "stream",
     "text": [
      "✅ Batch completed in 10.16s (0.203s per text)\n",
      "🚀 Attempting batch of 50 texts...\n"
     ]
    },
    {
     "name": "stderr",
     "output_type": "stream",
     "text": [
      "Processing conversations:  85%|████████▍ | 1744/2057 [5:10:27<53:49, 10.32s/it]"
     ]
    },
    {
     "name": "stdout",
     "output_type": "stream",
     "text": [
      "✅ Batch completed in 10.68s (0.214s per text)\n",
      "🚀 Attempting batch of 50 texts...\n"
     ]
    },
    {
     "name": "stderr",
     "output_type": "stream",
     "text": [
      "Processing conversations:  85%|████████▍ | 1745/2057 [5:10:37<53:57, 10.38s/it]"
     ]
    },
    {
     "name": "stdout",
     "output_type": "stream",
     "text": [
      "✅ Batch completed in 10.51s (0.210s per text)\n",
      "🚀 Attempting batch of 50 texts...\n"
     ]
    },
    {
     "name": "stderr",
     "output_type": "stream",
     "text": [
      "Processing conversations:  85%|████████▍ | 1746/2057 [5:10:48<54:43, 10.56s/it]"
     ]
    },
    {
     "name": "stdout",
     "output_type": "stream",
     "text": [
      "✅ Batch completed in 10.98s (0.220s per text)\n",
      "🚀 Attempting batch of 50 texts...\n"
     ]
    },
    {
     "name": "stderr",
     "output_type": "stream",
     "text": [
      "Processing conversations:  85%|████████▍ | 1747/2057 [5:10:59<55:07, 10.67s/it]"
     ]
    },
    {
     "name": "stdout",
     "output_type": "stream",
     "text": [
      "✅ Batch completed in 10.92s (0.218s per text)\n",
      "🚀 Attempting batch of 50 texts...\n"
     ]
    },
    {
     "name": "stderr",
     "output_type": "stream",
     "text": [
      "Processing conversations:  85%|████████▍ | 1748/2057 [5:11:10<55:02, 10.69s/it]"
     ]
    },
    {
     "name": "stdout",
     "output_type": "stream",
     "text": [
      "✅ Batch completed in 10.73s (0.215s per text)\n",
      "🚀 Attempting batch of 50 texts...\n"
     ]
    },
    {
     "name": "stderr",
     "output_type": "stream",
     "text": [
      "Processing conversations:  85%|████████▌ | 1749/2057 [5:11:20<54:18, 10.58s/it]"
     ]
    },
    {
     "name": "stdout",
     "output_type": "stream",
     "text": [
      "✅ Batch completed in 10.31s (0.206s per text)\n",
      "🚀 Attempting batch of 50 texts...\n"
     ]
    },
    {
     "name": "stderr",
     "output_type": "stream",
     "text": [
      "Processing conversations:  85%|████████▌ | 1750/2057 [5:11:30<53:32, 10.46s/it]"
     ]
    },
    {
     "name": "stdout",
     "output_type": "stream",
     "text": [
      "✅ Batch completed in 10.19s (0.204s per text)\n",
      "🚀 Attempting batch of 50 texts...\n"
     ]
    },
    {
     "name": "stderr",
     "output_type": "stream",
     "text": [
      "Processing conversations:  85%|████████▌ | 1751/2057 [5:11:42<54:40, 10.72s/it]"
     ]
    },
    {
     "name": "stdout",
     "output_type": "stream",
     "text": [
      "✅ Batch completed in 11.31s (0.226s per text)\n",
      "🚀 Attempting batch of 50 texts...\n"
     ]
    },
    {
     "name": "stderr",
     "output_type": "stream",
     "text": [
      "Processing conversations:  85%|████████▌ | 1752/2057 [5:11:52<54:07, 10.65s/it]"
     ]
    },
    {
     "name": "stdout",
     "output_type": "stream",
     "text": [
      "✅ Batch completed in 10.47s (0.209s per text)\n",
      "🚀 Attempting batch of 50 texts...\n"
     ]
    },
    {
     "name": "stderr",
     "output_type": "stream",
     "text": [
      "Processing conversations:  85%|████████▌ | 1753/2057 [5:12:02<53:15, 10.51s/it]"
     ]
    },
    {
     "name": "stdout",
     "output_type": "stream",
     "text": [
      "✅ Batch completed in 10.19s (0.204s per text)\n",
      "🚀 Attempting batch of 50 texts...\n"
     ]
    },
    {
     "name": "stderr",
     "output_type": "stream",
     "text": [
      "Processing conversations:  85%|████████▌ | 1754/2057 [5:12:13<53:15, 10.55s/it]"
     ]
    },
    {
     "name": "stdout",
     "output_type": "stream",
     "text": [
      "✅ Batch completed in 10.63s (0.213s per text)\n",
      "🚀 Attempting batch of 50 texts...\n"
     ]
    },
    {
     "name": "stderr",
     "output_type": "stream",
     "text": [
      "Processing conversations:  85%|████████▌ | 1755/2057 [5:12:24<53:28, 10.62s/it]"
     ]
    },
    {
     "name": "stdout",
     "output_type": "stream",
     "text": [
      "✅ Batch completed in 10.80s (0.216s per text)\n",
      "🚀 Attempting batch of 50 texts...\n"
     ]
    },
    {
     "name": "stderr",
     "output_type": "stream",
     "text": [
      "Processing conversations:  85%|████████▌ | 1756/2057 [5:12:35<53:43, 10.71s/it]"
     ]
    },
    {
     "name": "stdout",
     "output_type": "stream",
     "text": [
      "✅ Batch completed in 10.90s (0.218s per text)\n",
      "🚀 Attempting batch of 50 texts...\n"
     ]
    },
    {
     "name": "stderr",
     "output_type": "stream",
     "text": [
      "Processing conversations:  85%|████████▌ | 1757/2057 [5:12:45<52:53, 10.58s/it]"
     ]
    },
    {
     "name": "stdout",
     "output_type": "stream",
     "text": [
      "✅ Batch completed in 10.26s (0.205s per text)\n",
      "🚀 Attempting batch of 50 texts...\n"
     ]
    },
    {
     "name": "stderr",
     "output_type": "stream",
     "text": [
      "Processing conversations:  85%|████████▌ | 1758/2057 [5:12:55<52:29, 10.53s/it]"
     ]
    },
    {
     "name": "stdout",
     "output_type": "stream",
     "text": [
      "✅ Batch completed in 10.42s (0.208s per text)\n",
      "🚀 Attempting batch of 50 texts...\n"
     ]
    },
    {
     "name": "stderr",
     "output_type": "stream",
     "text": [
      "Processing conversations:  86%|████████▌ | 1759/2057 [5:13:06<53:04, 10.69s/it]"
     ]
    },
    {
     "name": "stdout",
     "output_type": "stream",
     "text": [
      "✅ Batch completed in 11.04s (0.221s per text)\n",
      "🚀 Attempting batch of 50 texts...\n"
     ]
    },
    {
     "name": "stderr",
     "output_type": "stream",
     "text": [
      "Processing conversations:  86%|████████▌ | 1760/2057 [5:13:17<52:23, 10.58s/it]"
     ]
    },
    {
     "name": "stdout",
     "output_type": "stream",
     "text": [
      "✅ Batch completed in 10.34s (0.207s per text)\n",
      "🚀 Attempting batch of 50 texts...\n"
     ]
    },
    {
     "name": "stderr",
     "output_type": "stream",
     "text": [
      "Processing conversations:  86%|████████▌ | 1761/2057 [5:13:27<52:16, 10.59s/it]"
     ]
    },
    {
     "name": "stdout",
     "output_type": "stream",
     "text": [
      "✅ Batch completed in 10.61s (0.212s per text)\n",
      "🚀 Attempting batch of 50 texts...\n"
     ]
    },
    {
     "name": "stderr",
     "output_type": "stream",
     "text": [
      "Processing conversations:  86%|████████▌ | 1762/2057 [5:13:38<52:36, 10.70s/it]"
     ]
    },
    {
     "name": "stdout",
     "output_type": "stream",
     "text": [
      "✅ Batch completed in 10.94s (0.219s per text)\n",
      "🚀 Attempting batch of 50 texts...\n"
     ]
    },
    {
     "name": "stderr",
     "output_type": "stream",
     "text": [
      "Processing conversations:  86%|████████▌ | 1763/2057 [5:13:49<52:04, 10.63s/it]"
     ]
    },
    {
     "name": "stdout",
     "output_type": "stream",
     "text": [
      "✅ Batch completed in 10.44s (0.209s per text)\n",
      "🚀 Attempting batch of 50 texts...\n"
     ]
    },
    {
     "name": "stderr",
     "output_type": "stream",
     "text": [
      "Processing conversations:  86%|████████▌ | 1764/2057 [5:13:59<51:37, 10.57s/it]"
     ]
    },
    {
     "name": "stdout",
     "output_type": "stream",
     "text": [
      "✅ Batch completed in 10.44s (0.209s per text)\n",
      "🚀 Attempting batch of 50 texts...\n"
     ]
    },
    {
     "name": "stderr",
     "output_type": "stream",
     "text": [
      "Processing conversations:  86%|████████▌ | 1765/2057 [5:14:10<51:23, 10.56s/it]"
     ]
    },
    {
     "name": "stdout",
     "output_type": "stream",
     "text": [
      "✅ Batch completed in 10.53s (0.211s per text)\n",
      "🚀 Attempting batch of 50 texts...\n"
     ]
    },
    {
     "name": "stderr",
     "output_type": "stream",
     "text": [
      "Processing conversations:  86%|████████▌ | 1766/2057 [5:14:20<51:08, 10.55s/it]"
     ]
    },
    {
     "name": "stdout",
     "output_type": "stream",
     "text": [
      "✅ Batch completed in 10.50s (0.210s per text)\n",
      "🚀 Attempting batch of 50 texts...\n"
     ]
    },
    {
     "name": "stderr",
     "output_type": "stream",
     "text": [
      "Processing conversations:  86%|████████▌ | 1767/2057 [5:14:31<50:42, 10.49s/it]"
     ]
    },
    {
     "name": "stdout",
     "output_type": "stream",
     "text": [
      "✅ Batch completed in 10.36s (0.207s per text)\n",
      "🚀 Attempting batch of 50 texts...\n"
     ]
    },
    {
     "name": "stderr",
     "output_type": "stream",
     "text": [
      "Processing conversations:  86%|████████▌ | 1768/2057 [5:14:41<50:54, 10.57s/it]"
     ]
    },
    {
     "name": "stdout",
     "output_type": "stream",
     "text": [
      "✅ Batch completed in 10.74s (0.215s per text)\n",
      "🚀 Attempting batch of 50 texts...\n"
     ]
    },
    {
     "name": "stderr",
     "output_type": "stream",
     "text": [
      "Processing conversations:  86%|████████▌ | 1769/2057 [5:14:52<50:47, 10.58s/it]"
     ]
    },
    {
     "name": "stdout",
     "output_type": "stream",
     "text": [
      "✅ Batch completed in 10.60s (0.212s per text)\n",
      "🚀 Attempting batch of 50 texts...\n"
     ]
    },
    {
     "name": "stderr",
     "output_type": "stream",
     "text": [
      "Processing conversations:  86%|████████▌ | 1770/2057 [5:15:03<51:04, 10.68s/it]"
     ]
    },
    {
     "name": "stdout",
     "output_type": "stream",
     "text": [
      "✅ Batch completed in 10.90s (0.218s per text)\n",
      "🚀 Attempting batch of 50 texts...\n"
     ]
    },
    {
     "name": "stderr",
     "output_type": "stream",
     "text": [
      "Processing conversations:  86%|████████▌ | 1771/2057 [5:15:14<51:06, 10.72s/it]"
     ]
    },
    {
     "name": "stdout",
     "output_type": "stream",
     "text": [
      "✅ Batch completed in 10.82s (0.216s per text)\n",
      "🚀 Attempting batch of 50 texts...\n"
     ]
    },
    {
     "name": "stderr",
     "output_type": "stream",
     "text": [
      "Processing conversations:  86%|████████▌ | 1772/2057 [5:15:25<51:46, 10.90s/it]"
     ]
    },
    {
     "name": "stdout",
     "output_type": "stream",
     "text": [
      "✅ Batch completed in 11.31s (0.226s per text)\n",
      "🚀 Attempting batch of 50 texts...\n"
     ]
    },
    {
     "name": "stderr",
     "output_type": "stream",
     "text": [
      "Processing conversations:  86%|████████▌ | 1773/2057 [5:15:36<51:40, 10.92s/it]"
     ]
    },
    {
     "name": "stdout",
     "output_type": "stream",
     "text": [
      "✅ Batch completed in 10.96s (0.219s per text)\n",
      "🚀 Attempting batch of 50 texts...\n"
     ]
    },
    {
     "name": "stderr",
     "output_type": "stream",
     "text": [
      "Processing conversations:  86%|████████▌ | 1774/2057 [5:15:47<51:12, 10.86s/it]"
     ]
    },
    {
     "name": "stdout",
     "output_type": "stream",
     "text": [
      "✅ Batch completed in 10.70s (0.214s per text)\n",
      "🚀 Attempting batch of 50 texts...\n"
     ]
    },
    {
     "name": "stderr",
     "output_type": "stream",
     "text": [
      "Processing conversations:  86%|████████▋ | 1775/2057 [5:15:57<50:41, 10.78s/it]"
     ]
    },
    {
     "name": "stdout",
     "output_type": "stream",
     "text": [
      "✅ Batch completed in 10.62s (0.212s per text)\n",
      "🚀 Attempting batch of 50 texts...\n"
     ]
    },
    {
     "name": "stderr",
     "output_type": "stream",
     "text": [
      "Processing conversations:  86%|████████▋ | 1776/2057 [5:16:09<51:05, 10.91s/it]"
     ]
    },
    {
     "name": "stdout",
     "output_type": "stream",
     "text": [
      "✅ Batch completed in 11.19s (0.224s per text)\n",
      "🚀 Attempting batch of 50 texts...\n"
     ]
    },
    {
     "name": "stderr",
     "output_type": "stream",
     "text": [
      "Processing conversations:  86%|████████▋ | 1777/2057 [5:16:19<50:45, 10.88s/it]"
     ]
    },
    {
     "name": "stdout",
     "output_type": "stream",
     "text": [
      "✅ Batch completed in 10.79s (0.216s per text)\n",
      "🚀 Attempting batch of 50 texts...\n"
     ]
    },
    {
     "name": "stderr",
     "output_type": "stream",
     "text": [
      "Processing conversations:  86%|████████▋ | 1778/2057 [5:16:30<50:23, 10.84s/it]"
     ]
    },
    {
     "name": "stdout",
     "output_type": "stream",
     "text": [
      "✅ Batch completed in 10.74s (0.215s per text)\n",
      "🚀 Attempting batch of 50 texts...\n"
     ]
    },
    {
     "name": "stderr",
     "output_type": "stream",
     "text": [
      "Processing conversations:  86%|████████▋ | 1779/2057 [5:16:41<50:55, 10.99s/it]"
     ]
    },
    {
     "name": "stdout",
     "output_type": "stream",
     "text": [
      "✅ Batch completed in 11.35s (0.227s per text)\n",
      "🚀 Attempting batch of 50 texts...\n"
     ]
    },
    {
     "name": "stderr",
     "output_type": "stream",
     "text": [
      "Processing conversations:  87%|████████▋ | 1780/2057 [5:16:52<50:39, 10.97s/it]"
     ]
    },
    {
     "name": "stdout",
     "output_type": "stream",
     "text": [
      "✅ Batch completed in 10.92s (0.218s per text)\n",
      "🚀 Attempting batch of 50 texts...\n"
     ]
    },
    {
     "name": "stderr",
     "output_type": "stream",
     "text": [
      "Processing conversations:  87%|████████▋ | 1781/2057 [5:17:03<50:34, 11.00s/it]"
     ]
    },
    {
     "name": "stdout",
     "output_type": "stream",
     "text": [
      "✅ Batch completed in 11.04s (0.221s per text)\n",
      "🚀 Attempting batch of 50 texts...\n"
     ]
    },
    {
     "name": "stderr",
     "output_type": "stream",
     "text": [
      "Processing conversations:  87%|████████▋ | 1782/2057 [5:17:14<50:26, 11.01s/it]"
     ]
    },
    {
     "name": "stdout",
     "output_type": "stream",
     "text": [
      "✅ Batch completed in 11.03s (0.221s per text)\n",
      "🚀 Attempting batch of 50 texts...\n"
     ]
    },
    {
     "name": "stderr",
     "output_type": "stream",
     "text": [
      "Processing conversations:  87%|████████▋ | 1783/2057 [5:17:26<50:56, 11.16s/it]"
     ]
    },
    {
     "name": "stdout",
     "output_type": "stream",
     "text": [
      "✅ Batch completed in 11.50s (0.230s per text)\n",
      "🚀 Attempting batch of 50 texts...\n"
     ]
    },
    {
     "name": "stderr",
     "output_type": "stream",
     "text": [
      "Processing conversations:  87%|████████▋ | 1784/2057 [5:17:38<51:40, 11.36s/it]"
     ]
    },
    {
     "name": "stdout",
     "output_type": "stream",
     "text": [
      "✅ Batch completed in 11.82s (0.236s per text)\n",
      "🚀 Attempting batch of 50 texts...\n"
     ]
    },
    {
     "name": "stderr",
     "output_type": "stream",
     "text": [
      "Processing conversations:  87%|████████▋ | 1785/2057 [5:17:49<51:06, 11.27s/it]"
     ]
    },
    {
     "name": "stdout",
     "output_type": "stream",
     "text": [
      "✅ Batch completed in 11.07s (0.221s per text)\n",
      "🚀 Attempting batch of 50 texts...\n"
     ]
    },
    {
     "name": "stderr",
     "output_type": "stream",
     "text": [
      "Processing conversations:  87%|████████▋ | 1786/2057 [5:18:00<51:05, 11.31s/it]"
     ]
    },
    {
     "name": "stdout",
     "output_type": "stream",
     "text": [
      "✅ Batch completed in 11.40s (0.228s per text)\n",
      "🚀 Attempting batch of 50 texts...\n"
     ]
    },
    {
     "name": "stderr",
     "output_type": "stream",
     "text": [
      "Processing conversations:  87%|████████▋ | 1787/2057 [5:18:11<50:04, 11.13s/it]"
     ]
    },
    {
     "name": "stdout",
     "output_type": "stream",
     "text": [
      "✅ Batch completed in 10.69s (0.214s per text)\n",
      "🚀 Attempting batch of 50 texts...\n"
     ]
    },
    {
     "name": "stderr",
     "output_type": "stream",
     "text": [
      "Processing conversations:  87%|████████▋ | 1788/2057 [5:18:22<49:33, 11.05s/it]"
     ]
    },
    {
     "name": "stdout",
     "output_type": "stream",
     "text": [
      "✅ Batch completed in 10.88s (0.218s per text)\n",
      "🚀 Attempting batch of 50 texts...\n"
     ]
    },
    {
     "name": "stderr",
     "output_type": "stream",
     "text": [
      "Processing conversations:  87%|████████▋ | 1789/2057 [5:18:33<49:21, 11.05s/it]"
     ]
    },
    {
     "name": "stdout",
     "output_type": "stream",
     "text": [
      "✅ Batch completed in 11.03s (0.221s per text)\n",
      "🚀 Attempting batch of 50 texts...\n"
     ]
    },
    {
     "name": "stderr",
     "output_type": "stream",
     "text": [
      "Processing conversations:  87%|████████▋ | 1790/2057 [5:18:44<49:19, 11.08s/it]"
     ]
    },
    {
     "name": "stdout",
     "output_type": "stream",
     "text": [
      "✅ Batch completed in 11.15s (0.223s per text)\n",
      "🚀 Attempting batch of 50 texts...\n"
     ]
    },
    {
     "name": "stderr",
     "output_type": "stream",
     "text": [
      "Processing conversations:  87%|████████▋ | 1791/2057 [5:18:55<49:31, 11.17s/it]"
     ]
    },
    {
     "name": "stdout",
     "output_type": "stream",
     "text": [
      "✅ Batch completed in 11.37s (0.227s per text)\n",
      "🚀 Attempting batch of 50 texts...\n"
     ]
    },
    {
     "name": "stderr",
     "output_type": "stream",
     "text": [
      "Processing conversations:  87%|████████▋ | 1792/2057 [5:19:07<49:33, 11.22s/it]"
     ]
    },
    {
     "name": "stdout",
     "output_type": "stream",
     "text": [
      "✅ Batch completed in 11.34s (0.227s per text)\n",
      "🚀 Attempting batch of 50 texts...\n"
     ]
    },
    {
     "name": "stderr",
     "output_type": "stream",
     "text": [
      "Processing conversations:  87%|████████▋ | 1793/2057 [5:19:17<48:42, 11.07s/it]"
     ]
    },
    {
     "name": "stdout",
     "output_type": "stream",
     "text": [
      "✅ Batch completed in 10.71s (0.214s per text)\n",
      "🚀 Attempting batch of 50 texts...\n"
     ]
    },
    {
     "name": "stderr",
     "output_type": "stream",
     "text": [
      "Processing conversations:  87%|████████▋ | 1794/2057 [5:19:28<48:03, 10.96s/it]"
     ]
    },
    {
     "name": "stdout",
     "output_type": "stream",
     "text": [
      "✅ Batch completed in 10.71s (0.214s per text)\n",
      "🚀 Attempting batch of 50 texts...\n"
     ]
    },
    {
     "name": "stderr",
     "output_type": "stream",
     "text": [
      "Processing conversations:  87%|████████▋ | 1795/2057 [5:19:40<49:05, 11.24s/it]"
     ]
    },
    {
     "name": "stdout",
     "output_type": "stream",
     "text": [
      "✅ Batch completed in 11.89s (0.238s per text)\n",
      "🚀 Attempting batch of 50 texts...\n"
     ]
    },
    {
     "name": "stderr",
     "output_type": "stream",
     "text": [
      "Processing conversations:  87%|████████▋ | 1796/2057 [5:19:51<48:38, 11.18s/it]"
     ]
    },
    {
     "name": "stdout",
     "output_type": "stream",
     "text": [
      "✅ Batch completed in 11.04s (0.221s per text)\n",
      "🚀 Attempting batch of 50 texts...\n"
     ]
    },
    {
     "name": "stderr",
     "output_type": "stream",
     "text": [
      "Processing conversations:  87%|████████▋ | 1797/2057 [5:20:02<47:51, 11.04s/it]"
     ]
    },
    {
     "name": "stdout",
     "output_type": "stream",
     "text": [
      "✅ Batch completed in 10.71s (0.214s per text)\n",
      "🚀 Attempting batch of 50 texts...\n"
     ]
    },
    {
     "name": "stderr",
     "output_type": "stream",
     "text": [
      "Processing conversations:  87%|████████▋ | 1798/2057 [5:20:13<47:49, 11.08s/it]"
     ]
    },
    {
     "name": "stdout",
     "output_type": "stream",
     "text": [
      "✅ Batch completed in 11.15s (0.223s per text)\n",
      "🚀 Attempting batch of 50 texts...\n"
     ]
    },
    {
     "name": "stderr",
     "output_type": "stream",
     "text": [
      "Processing conversations:  87%|████████▋ | 1799/2057 [5:20:23<46:50, 10.90s/it]"
     ]
    },
    {
     "name": "stdout",
     "output_type": "stream",
     "text": [
      "✅ Batch completed in 10.47s (0.209s per text)\n",
      "🚀 Attempting batch of 50 texts...\n"
     ]
    },
    {
     "name": "stderr",
     "output_type": "stream",
     "text": [
      "Processing conversations:  88%|████████▊ | 1800/2057 [5:20:34<46:32, 10.87s/it]"
     ]
    },
    {
     "name": "stdout",
     "output_type": "stream",
     "text": [
      "✅ Batch completed in 10.80s (0.216s per text)\n",
      "🚀 Attempting batch of 50 texts...\n"
     ]
    },
    {
     "name": "stderr",
     "output_type": "stream",
     "text": [
      "Processing conversations:  88%|████████▊ | 1801/2057 [5:20:45<46:29, 10.89s/it]"
     ]
    },
    {
     "name": "stdout",
     "output_type": "stream",
     "text": [
      "✅ Batch completed in 10.96s (0.219s per text)\n",
      "🚀 Attempting batch of 50 texts...\n"
     ]
    },
    {
     "name": "stderr",
     "output_type": "stream",
     "text": [
      "Processing conversations:  88%|████████▊ | 1802/2057 [5:20:57<46:50, 11.02s/it]"
     ]
    },
    {
     "name": "stdout",
     "output_type": "stream",
     "text": [
      "✅ Batch completed in 11.31s (0.226s per text)\n",
      "🚀 Attempting batch of 50 texts...\n"
     ]
    },
    {
     "name": "stderr",
     "output_type": "stream",
     "text": [
      "Processing conversations:  88%|████████▊ | 1803/2057 [5:21:07<46:04, 10.88s/it]"
     ]
    },
    {
     "name": "stdout",
     "output_type": "stream",
     "text": [
      "✅ Batch completed in 10.56s (0.211s per text)\n",
      "🚀 Attempting batch of 50 texts...\n"
     ]
    },
    {
     "name": "stderr",
     "output_type": "stream",
     "text": [
      "Processing conversations:  88%|████████▊ | 1804/2057 [5:21:18<45:51, 10.88s/it]"
     ]
    },
    {
     "name": "stdout",
     "output_type": "stream",
     "text": [
      "✅ Batch completed in 10.85s (0.217s per text)\n",
      "🚀 Attempting batch of 50 texts...\n"
     ]
    },
    {
     "name": "stderr",
     "output_type": "stream",
     "text": [
      "Processing conversations:  88%|████████▊ | 1805/2057 [5:21:29<45:54, 10.93s/it]"
     ]
    },
    {
     "name": "stdout",
     "output_type": "stream",
     "text": [
      "✅ Batch completed in 11.06s (0.221s per text)\n",
      "🚀 Attempting batch of 50 texts...\n"
     ]
    },
    {
     "name": "stderr",
     "output_type": "stream",
     "text": [
      "Processing conversations:  88%|████████▊ | 1806/2057 [5:21:40<45:45, 10.94s/it]"
     ]
    },
    {
     "name": "stdout",
     "output_type": "stream",
     "text": [
      "✅ Batch completed in 10.96s (0.219s per text)\n",
      "🚀 Attempting batch of 50 texts...\n"
     ]
    },
    {
     "name": "stderr",
     "output_type": "stream",
     "text": [
      "Processing conversations:  88%|████████▊ | 1807/2057 [5:21:52<46:20, 11.12s/it]"
     ]
    },
    {
     "name": "stdout",
     "output_type": "stream",
     "text": [
      "✅ Batch completed in 11.54s (0.231s per text)\n",
      "🚀 Attempting batch of 50 texts...\n"
     ]
    },
    {
     "name": "stderr",
     "output_type": "stream",
     "text": [
      "Processing conversations:  88%|████████▊ | 1808/2057 [5:22:02<45:34, 10.98s/it]"
     ]
    },
    {
     "name": "stdout",
     "output_type": "stream",
     "text": [
      "✅ Batch completed in 10.66s (0.213s per text)\n",
      "🚀 Attempting batch of 50 texts...\n"
     ]
    },
    {
     "name": "stderr",
     "output_type": "stream",
     "text": [
      "Processing conversations:  88%|████████▊ | 1809/2057 [5:22:13<45:23, 10.98s/it]"
     ]
    },
    {
     "name": "stdout",
     "output_type": "stream",
     "text": [
      "✅ Batch completed in 10.98s (0.220s per text)\n",
      "🚀 Attempting batch of 50 texts...\n"
     ]
    },
    {
     "name": "stderr",
     "output_type": "stream",
     "text": [
      "Processing conversations:  88%|████████▊ | 1810/2057 [5:22:23<44:17, 10.76s/it]"
     ]
    },
    {
     "name": "stdout",
     "output_type": "stream",
     "text": [
      "✅ Batch completed in 10.23s (0.205s per text)\n",
      "🚀 Attempting batch of 50 texts...\n"
     ]
    },
    {
     "name": "stderr",
     "output_type": "stream",
     "text": [
      "Processing conversations:  88%|████████▊ | 1811/2057 [5:22:35<44:38, 10.89s/it]"
     ]
    },
    {
     "name": "stdout",
     "output_type": "stream",
     "text": [
      "✅ Batch completed in 11.19s (0.224s per text)\n",
      "🚀 Attempting batch of 50 texts...\n"
     ]
    },
    {
     "name": "stderr",
     "output_type": "stream",
     "text": [
      "Processing conversations:  88%|████████▊ | 1812/2057 [5:22:46<44:34, 10.91s/it]"
     ]
    },
    {
     "name": "stdout",
     "output_type": "stream",
     "text": [
      "✅ Batch completed in 10.97s (0.219s per text)\n",
      "🚀 Attempting batch of 50 texts...\n"
     ]
    },
    {
     "name": "stderr",
     "output_type": "stream",
     "text": [
      "Processing conversations:  88%|████████▊ | 1813/2057 [5:22:56<43:52, 10.79s/it]"
     ]
    },
    {
     "name": "stdout",
     "output_type": "stream",
     "text": [
      "✅ Batch completed in 10.49s (0.210s per text)\n",
      "🚀 Attempting batch of 50 texts...\n"
     ]
    },
    {
     "name": "stderr",
     "output_type": "stream",
     "text": [
      "Processing conversations:  88%|████████▊ | 1814/2057 [5:23:07<44:00, 10.87s/it]"
     ]
    },
    {
     "name": "stdout",
     "output_type": "stream",
     "text": [
      "✅ Batch completed in 11.05s (0.221s per text)\n",
      "🚀 Attempting batch of 50 texts...\n"
     ]
    },
    {
     "name": "stderr",
     "output_type": "stream",
     "text": [
      "Processing conversations:  88%|████████▊ | 1815/2057 [5:23:18<43:54, 10.89s/it]"
     ]
    },
    {
     "name": "stdout",
     "output_type": "stream",
     "text": [
      "✅ Batch completed in 10.93s (0.219s per text)\n",
      "🚀 Attempting batch of 50 texts...\n"
     ]
    },
    {
     "name": "stderr",
     "output_type": "stream",
     "text": [
      "Processing conversations:  88%|████████▊ | 1816/2057 [5:23:29<43:47, 10.90s/it]"
     ]
    },
    {
     "name": "stdout",
     "output_type": "stream",
     "text": [
      "✅ Batch completed in 10.93s (0.219s per text)\n",
      "🚀 Attempting batch of 50 texts...\n"
     ]
    },
    {
     "name": "stderr",
     "output_type": "stream",
     "text": [
      "Processing conversations:  88%|████████▊ | 1817/2057 [5:23:40<44:03, 11.01s/it]"
     ]
    },
    {
     "name": "stdout",
     "output_type": "stream",
     "text": [
      "✅ Batch completed in 11.28s (0.226s per text)\n",
      "🚀 Attempting batch of 50 texts...\n"
     ]
    },
    {
     "name": "stderr",
     "output_type": "stream",
     "text": [
      "Processing conversations:  88%|████████▊ | 1818/2057 [5:23:51<43:19, 10.88s/it]"
     ]
    },
    {
     "name": "stdout",
     "output_type": "stream",
     "text": [
      "✅ Batch completed in 10.55s (0.211s per text)\n",
      "🚀 Attempting batch of 50 texts...\n"
     ]
    },
    {
     "name": "stderr",
     "output_type": "stream",
     "text": [
      "Processing conversations:  88%|████████▊ | 1819/2057 [5:24:02<43:45, 11.03s/it]"
     ]
    },
    {
     "name": "stdout",
     "output_type": "stream",
     "text": [
      "✅ Batch completed in 11.38s (0.228s per text)\n",
      "🚀 Attempting batch of 50 texts...\n"
     ]
    },
    {
     "name": "stderr",
     "output_type": "stream",
     "text": [
      "Processing conversations:  88%|████████▊ | 1820/2057 [5:24:13<43:39, 11.05s/it]"
     ]
    },
    {
     "name": "stdout",
     "output_type": "stream",
     "text": [
      "✅ Batch completed in 11.11s (0.222s per text)\n",
      "🚀 Attempting batch of 50 texts...\n"
     ]
    },
    {
     "name": "stderr",
     "output_type": "stream",
     "text": [
      "Processing conversations:  89%|████████▊ | 1821/2057 [5:24:25<43:42, 11.11s/it]"
     ]
    },
    {
     "name": "stdout",
     "output_type": "stream",
     "text": [
      "✅ Batch completed in 11.24s (0.225s per text)\n",
      "🚀 Attempting batch of 50 texts...\n"
     ]
    },
    {
     "name": "stderr",
     "output_type": "stream",
     "text": [
      "Processing conversations:  89%|████████▊ | 1822/2057 [5:24:36<43:24, 11.08s/it]"
     ]
    },
    {
     "name": "stdout",
     "output_type": "stream",
     "text": [
      "✅ Batch completed in 11.01s (0.220s per text)\n",
      "🚀 Attempting batch of 50 texts...\n"
     ]
    },
    {
     "name": "stderr",
     "output_type": "stream",
     "text": [
      "Processing conversations:  89%|████████▊ | 1823/2057 [5:24:46<42:54, 11.00s/it]"
     ]
    },
    {
     "name": "stdout",
     "output_type": "stream",
     "text": [
      "✅ Batch completed in 10.81s (0.216s per text)\n",
      "🚀 Attempting batch of 50 texts...\n"
     ]
    },
    {
     "name": "stderr",
     "output_type": "stream",
     "text": [
      "Processing conversations:  89%|████████▊ | 1824/2057 [5:24:57<42:23, 10.92s/it]"
     ]
    },
    {
     "name": "stdout",
     "output_type": "stream",
     "text": [
      "✅ Batch completed in 10.72s (0.214s per text)\n",
      "🚀 Attempting batch of 50 texts...\n"
     ]
    },
    {
     "name": "stderr",
     "output_type": "stream",
     "text": [
      "Processing conversations:  89%|████████▊ | 1825/2057 [5:25:09<42:51, 11.09s/it]"
     ]
    },
    {
     "name": "stdout",
     "output_type": "stream",
     "text": [
      "✅ Batch completed in 11.47s (0.229s per text)\n",
      "🚀 Attempting batch of 50 texts...\n"
     ]
    },
    {
     "name": "stderr",
     "output_type": "stream",
     "text": [
      "Processing conversations:  89%|████████▉ | 1826/2057 [5:25:19<42:20, 11.00s/it]"
     ]
    },
    {
     "name": "stdout",
     "output_type": "stream",
     "text": [
      "✅ Batch completed in 10.79s (0.216s per text)\n",
      "🚀 Attempting batch of 50 texts...\n"
     ]
    },
    {
     "name": "stderr",
     "output_type": "stream",
     "text": [
      "Processing conversations:  89%|████████▉ | 1827/2057 [5:25:30<42:04, 10.97s/it]"
     ]
    },
    {
     "name": "stdout",
     "output_type": "stream",
     "text": [
      "✅ Batch completed in 10.92s (0.218s per text)\n",
      "🚀 Attempting batch of 50 texts...\n"
     ]
    },
    {
     "name": "stderr",
     "output_type": "stream",
     "text": [
      "Processing conversations:  89%|████████▉ | 1828/2057 [5:25:41<40:59, 10.74s/it]"
     ]
    },
    {
     "name": "stdout",
     "output_type": "stream",
     "text": [
      "✅ Batch completed in 10.19s (0.204s per text)\n",
      "🚀 Attempting batch of 50 texts...\n"
     ]
    },
    {
     "name": "stderr",
     "output_type": "stream",
     "text": [
      "Processing conversations:  89%|████████▉ | 1829/2057 [5:25:51<40:51, 10.75s/it]"
     ]
    },
    {
     "name": "stdout",
     "output_type": "stream",
     "text": [
      "✅ Batch completed in 10.77s (0.215s per text)\n",
      "🚀 Attempting batch of 50 texts...\n"
     ]
    },
    {
     "name": "stderr",
     "output_type": "stream",
     "text": [
      "Processing conversations:  89%|████████▉ | 1830/2057 [5:26:02<40:28, 10.70s/it]"
     ]
    },
    {
     "name": "stdout",
     "output_type": "stream",
     "text": [
      "✅ Batch completed in 10.57s (0.211s per text)\n",
      "🚀 Attempting batch of 50 texts...\n"
     ]
    },
    {
     "name": "stderr",
     "output_type": "stream",
     "text": [
      "Processing conversations:  89%|████████▉ | 1831/2057 [5:26:13<40:28, 10.75s/it]"
     ]
    },
    {
     "name": "stdout",
     "output_type": "stream",
     "text": [
      "✅ Batch completed in 10.85s (0.217s per text)\n",
      "🚀 Attempting batch of 50 texts...\n"
     ]
    },
    {
     "name": "stderr",
     "output_type": "stream",
     "text": [
      "Processing conversations:  89%|████████▉ | 1832/2057 [5:26:23<40:07, 10.70s/it]"
     ]
    },
    {
     "name": "stdout",
     "output_type": "stream",
     "text": [
      "✅ Batch completed in 10.59s (0.212s per text)\n",
      "🚀 Attempting batch of 50 texts...\n"
     ]
    },
    {
     "name": "stderr",
     "output_type": "stream",
     "text": [
      "Processing conversations:  89%|████████▉ | 1833/2057 [5:26:34<40:24, 10.82s/it]"
     ]
    },
    {
     "name": "stdout",
     "output_type": "stream",
     "text": [
      "✅ Batch completed in 11.10s (0.222s per text)\n",
      "🚀 Attempting batch of 50 texts...\n"
     ]
    },
    {
     "name": "stderr",
     "output_type": "stream",
     "text": [
      "Processing conversations:  89%|████████▉ | 1834/2057 [5:26:47<42:28, 11.43s/it]"
     ]
    },
    {
     "name": "stdout",
     "output_type": "stream",
     "text": [
      "✅ Batch completed in 12.84s (0.257s per text)\n",
      "🚀 Attempting batch of 50 texts...\n"
     ]
    },
    {
     "name": "stderr",
     "output_type": "stream",
     "text": [
      "Processing conversations:  89%|████████▉ | 1835/2057 [5:27:00<43:35, 11.78s/it]"
     ]
    },
    {
     "name": "stdout",
     "output_type": "stream",
     "text": [
      "✅ Batch completed in 12.59s (0.252s per text)\n",
      "🚀 Attempting batch of 50 texts...\n"
     ]
    },
    {
     "name": "stderr",
     "output_type": "stream",
     "text": [
      "Processing conversations:  89%|████████▉ | 1836/2057 [5:27:13<44:50, 12.18s/it]"
     ]
    },
    {
     "name": "stdout",
     "output_type": "stream",
     "text": [
      "✅ Batch completed in 13.09s (0.262s per text)\n",
      "🚀 Attempting batch of 50 texts...\n"
     ]
    },
    {
     "name": "stderr",
     "output_type": "stream",
     "text": [
      "Processing conversations:  89%|████████▉ | 1837/2057 [5:27:26<45:09, 12.31s/it]"
     ]
    },
    {
     "name": "stdout",
     "output_type": "stream",
     "text": [
      "✅ Batch completed in 12.63s (0.253s per text)\n",
      "🚀 Attempting batch of 50 texts...\n"
     ]
    },
    {
     "name": "stderr",
     "output_type": "stream",
     "text": [
      "Processing conversations:  89%|████████▉ | 1838/2057 [5:27:38<45:23, 12.44s/it]"
     ]
    },
    {
     "name": "stdout",
     "output_type": "stream",
     "text": [
      "✅ Batch completed in 12.72s (0.254s per text)\n",
      "🚀 Attempting batch of 50 texts...\n"
     ]
    },
    {
     "name": "stderr",
     "output_type": "stream",
     "text": [
      "Processing conversations:  89%|████████▉ | 1839/2057 [5:27:51<45:18, 12.47s/it]"
     ]
    },
    {
     "name": "stdout",
     "output_type": "stream",
     "text": [
      "✅ Batch completed in 12.54s (0.251s per text)\n",
      "🚀 Attempting batch of 50 texts...\n"
     ]
    },
    {
     "name": "stderr",
     "output_type": "stream",
     "text": [
      "Processing conversations:  89%|████████▉ | 1840/2057 [5:28:03<45:05, 12.47s/it]"
     ]
    },
    {
     "name": "stdout",
     "output_type": "stream",
     "text": [
      "✅ Batch completed in 12.45s (0.249s per text)\n",
      "🚀 Attempting batch of 50 texts...\n"
     ]
    },
    {
     "name": "stderr",
     "output_type": "stream",
     "text": [
      "Processing conversations:  89%|████████▉ | 1841/2057 [5:28:15<44:16, 12.30s/it]"
     ]
    },
    {
     "name": "stdout",
     "output_type": "stream",
     "text": [
      "✅ Batch completed in 11.90s (0.238s per text)\n",
      "🚀 Attempting batch of 50 texts...\n"
     ]
    },
    {
     "name": "stderr",
     "output_type": "stream",
     "text": [
      "Processing conversations:  90%|████████▉ | 1842/2057 [5:28:28<44:03, 12.30s/it]"
     ]
    },
    {
     "name": "stdout",
     "output_type": "stream",
     "text": [
      "✅ Batch completed in 12.28s (0.246s per text)\n",
      "🚀 Attempting batch of 50 texts...\n"
     ]
    },
    {
     "name": "stderr",
     "output_type": "stream",
     "text": [
      "Processing conversations:  90%|████████▉ | 1843/2057 [5:28:40<44:01, 12.34s/it]"
     ]
    },
    {
     "name": "stdout",
     "output_type": "stream",
     "text": [
      "✅ Batch completed in 12.44s (0.249s per text)\n",
      "🚀 Attempting batch of 50 texts...\n"
     ]
    },
    {
     "name": "stderr",
     "output_type": "stream",
     "text": [
      "Processing conversations:  90%|████████▉ | 1844/2057 [5:28:53<44:14, 12.46s/it]"
     ]
    },
    {
     "name": "stdout",
     "output_type": "stream",
     "text": [
      "✅ Batch completed in 12.72s (0.254s per text)\n",
      "🚀 Attempting batch of 50 texts...\n"
     ]
    },
    {
     "name": "stderr",
     "output_type": "stream",
     "text": [
      "Processing conversations:  90%|████████▉ | 1845/2057 [5:29:04<42:51, 12.13s/it]"
     ]
    },
    {
     "name": "stdout",
     "output_type": "stream",
     "text": [
      "✅ Batch completed in 11.35s (0.227s per text)\n",
      "🚀 Attempting batch of 50 texts...\n"
     ]
    },
    {
     "name": "stderr",
     "output_type": "stream",
     "text": [
      "Processing conversations:  90%|████████▉ | 1846/2057 [5:29:15<41:34, 11.82s/it]"
     ]
    },
    {
     "name": "stdout",
     "output_type": "stream",
     "text": [
      "✅ Batch completed in 11.10s (0.222s per text)\n",
      "🚀 Attempting batch of 50 texts...\n"
     ]
    },
    {
     "name": "stderr",
     "output_type": "stream",
     "text": [
      "Processing conversations:  90%|████████▉ | 1847/2057 [5:29:26<40:37, 11.61s/it]"
     ]
    },
    {
     "name": "stdout",
     "output_type": "stream",
     "text": [
      "✅ Batch completed in 11.11s (0.222s per text)\n",
      "🚀 Attempting batch of 50 texts...\n"
     ]
    },
    {
     "name": "stderr",
     "output_type": "stream",
     "text": [
      "Processing conversations:  90%|████████▉ | 1848/2057 [5:29:38<40:15, 11.56s/it]"
     ]
    },
    {
     "name": "stdout",
     "output_type": "stream",
     "text": [
      "✅ Batch completed in 11.43s (0.229s per text)\n",
      "🚀 Attempting batch of 50 texts...\n"
     ]
    },
    {
     "name": "stderr",
     "output_type": "stream",
     "text": [
      "Processing conversations:  90%|████████▉ | 1849/2057 [5:29:49<39:53, 11.51s/it]"
     ]
    },
    {
     "name": "stdout",
     "output_type": "stream",
     "text": [
      "✅ Batch completed in 11.39s (0.228s per text)\n",
      "🚀 Attempting batch of 50 texts...\n"
     ]
    },
    {
     "name": "stderr",
     "output_type": "stream",
     "text": [
      "Processing conversations:  90%|████████▉ | 1850/2057 [5:30:00<39:33, 11.47s/it]"
     ]
    },
    {
     "name": "stdout",
     "output_type": "stream",
     "text": [
      "✅ Batch completed in 11.36s (0.227s per text)\n",
      "🚀 Attempting batch of 50 texts...\n"
     ]
    },
    {
     "name": "stderr",
     "output_type": "stream",
     "text": [
      "Processing conversations:  90%|████████▉ | 1851/2057 [5:30:12<39:27, 11.49s/it]"
     ]
    },
    {
     "name": "stdout",
     "output_type": "stream",
     "text": [
      "✅ Batch completed in 11.55s (0.231s per text)\n",
      "🚀 Attempting batch of 50 texts...\n"
     ]
    },
    {
     "name": "stderr",
     "output_type": "stream",
     "text": [
      "Processing conversations:  90%|█████████ | 1852/2057 [5:30:23<38:40, 11.32s/it]"
     ]
    },
    {
     "name": "stdout",
     "output_type": "stream",
     "text": [
      "✅ Batch completed in 10.91s (0.218s per text)\n",
      "🚀 Attempting batch of 50 texts...\n"
     ]
    },
    {
     "name": "stderr",
     "output_type": "stream",
     "text": [
      "Processing conversations:  90%|█████████ | 1853/2057 [5:30:34<38:26, 11.31s/it]"
     ]
    },
    {
     "name": "stdout",
     "output_type": "stream",
     "text": [
      "✅ Batch completed in 11.27s (0.225s per text)\n",
      "🚀 Attempting batch of 50 texts...\n"
     ]
    },
    {
     "name": "stderr",
     "output_type": "stream",
     "text": [
      "Processing conversations:  90%|█████████ | 1854/2057 [5:30:46<39:10, 11.58s/it]"
     ]
    },
    {
     "name": "stdout",
     "output_type": "stream",
     "text": [
      "✅ Batch completed in 12.21s (0.244s per text)\n",
      "🚀 Attempting batch of 50 texts...\n"
     ]
    },
    {
     "name": "stderr",
     "output_type": "stream",
     "text": [
      "Processing conversations:  90%|█████████ | 1855/2057 [5:30:58<39:11, 11.64s/it]"
     ]
    },
    {
     "name": "stdout",
     "output_type": "stream",
     "text": [
      "✅ Batch completed in 11.76s (0.235s per text)\n",
      "🚀 Attempting batch of 50 texts...\n"
     ]
    },
    {
     "name": "stderr",
     "output_type": "stream",
     "text": [
      "Processing conversations:  90%|█████████ | 1856/2057 [5:31:09<38:04, 11.36s/it]"
     ]
    },
    {
     "name": "stdout",
     "output_type": "stream",
     "text": [
      "✅ Batch completed in 10.72s (0.214s per text)\n",
      "🚀 Attempting batch of 50 texts...\n"
     ]
    },
    {
     "name": "stderr",
     "output_type": "stream",
     "text": [
      "Processing conversations:  90%|█████████ | 1857/2057 [5:31:19<36:41, 11.01s/it]"
     ]
    },
    {
     "name": "stdout",
     "output_type": "stream",
     "text": [
      "✅ Batch completed in 10.17s (0.203s per text)\n",
      "🚀 Attempting batch of 50 texts...\n"
     ]
    },
    {
     "name": "stderr",
     "output_type": "stream",
     "text": [
      "Processing conversations:  90%|█████████ | 1858/2057 [5:31:30<35:59, 10.85s/it]"
     ]
    },
    {
     "name": "stdout",
     "output_type": "stream",
     "text": [
      "✅ Batch completed in 10.48s (0.210s per text)\n",
      "🚀 Attempting batch of 50 texts...\n"
     ]
    },
    {
     "name": "stderr",
     "output_type": "stream",
     "text": [
      "Processing conversations:  90%|█████████ | 1859/2057 [5:31:40<34:58, 10.60s/it]"
     ]
    },
    {
     "name": "stdout",
     "output_type": "stream",
     "text": [
      "✅ Batch completed in 10.00s (0.200s per text)\n",
      "🚀 Attempting batch of 50 texts...\n"
     ]
    },
    {
     "name": "stderr",
     "output_type": "stream",
     "text": [
      "Processing conversations:  90%|█████████ | 1860/2057 [5:31:50<34:50, 10.61s/it]"
     ]
    },
    {
     "name": "stdout",
     "output_type": "stream",
     "text": [
      "✅ Batch completed in 10.63s (0.213s per text)\n",
      "🚀 Attempting batch of 50 texts...\n"
     ]
    },
    {
     "name": "stderr",
     "output_type": "stream",
     "text": [
      "Processing conversations:  90%|█████████ | 1861/2057 [5:32:01<34:42, 10.63s/it]"
     ]
    },
    {
     "name": "stdout",
     "output_type": "stream",
     "text": [
      "✅ Batch completed in 10.66s (0.213s per text)\n",
      "🚀 Attempting batch of 50 texts...\n"
     ]
    },
    {
     "name": "stderr",
     "output_type": "stream",
     "text": [
      "Processing conversations:  91%|█████████ | 1862/2057 [5:32:12<35:06, 10.80s/it]"
     ]
    },
    {
     "name": "stdout",
     "output_type": "stream",
     "text": [
      "✅ Batch completed in 11.20s (0.224s per text)\n",
      "🚀 Attempting batch of 50 texts...\n"
     ]
    },
    {
     "name": "stderr",
     "output_type": "stream",
     "text": [
      "Processing conversations:  91%|█████████ | 1863/2057 [5:32:23<35:27, 10.97s/it]"
     ]
    },
    {
     "name": "stdout",
     "output_type": "stream",
     "text": [
      "✅ Batch completed in 11.35s (0.227s per text)\n",
      "🚀 Attempting batch of 50 texts...\n"
     ]
    },
    {
     "name": "stderr",
     "output_type": "stream",
     "text": [
      "Processing conversations:  91%|█████████ | 1873/2057 [5:34:22<36:35, 11.93s/it]"
     ]
    },
    {
     "name": "stdout",
     "output_type": "stream",
     "text": [
      "✅ Batch completed in 12.21s (0.244s per text)\n",
      "🚀 Attempting batch of 50 texts...\n"
     ]
    },
    {
     "name": "stderr",
     "output_type": "stream",
     "text": [
      "Processing conversations:  91%|█████████ | 1874/2057 [5:34:33<35:26, 11.62s/it]"
     ]
    },
    {
     "name": "stdout",
     "output_type": "stream",
     "text": [
      "✅ Batch completed in 10.86s (0.217s per text)\n",
      "🚀 Attempting batch of 50 texts...\n"
     ]
    },
    {
     "name": "stderr",
     "output_type": "stream",
     "text": [
      "Processing conversations:  91%|█████████ | 1875/2057 [5:34:44<34:21, 11.33s/it]"
     ]
    },
    {
     "name": "stdout",
     "output_type": "stream",
     "text": [
      "✅ Batch completed in 10.62s (0.212s per text)\n",
      "🚀 Attempting batch of 50 texts...\n"
     ]
    },
    {
     "name": "stderr",
     "output_type": "stream",
     "text": [
      "Processing conversations:  91%|█████████ | 1876/2057 [5:34:55<33:55, 11.24s/it]"
     ]
    },
    {
     "name": "stdout",
     "output_type": "stream",
     "text": [
      "✅ Batch completed in 11.02s (0.220s per text)\n",
      "🚀 Attempting batch of 50 texts...\n"
     ]
    },
    {
     "name": "stderr",
     "output_type": "stream",
     "text": [
      "Processing conversations:  91%|█████████ | 1877/2057 [5:35:05<33:12, 11.07s/it]"
     ]
    },
    {
     "name": "stdout",
     "output_type": "stream",
     "text": [
      "✅ Batch completed in 10.65s (0.213s per text)\n",
      "🚀 Attempting batch of 50 texts...\n"
     ]
    },
    {
     "name": "stderr",
     "output_type": "stream",
     "text": [
      "Processing conversations:  91%|█████████▏| 1878/2057 [5:35:16<32:15, 10.81s/it]"
     ]
    },
    {
     "name": "stdout",
     "output_type": "stream",
     "text": [
      "✅ Batch completed in 10.19s (0.204s per text)\n",
      "🚀 Attempting batch of 50 texts...\n"
     ]
    },
    {
     "name": "stderr",
     "output_type": "stream",
     "text": [
      "Processing conversations:  91%|█████████▏| 1879/2057 [5:35:26<31:23, 10.58s/it]"
     ]
    },
    {
     "name": "stdout",
     "output_type": "stream",
     "text": [
      "✅ Batch completed in 10.02s (0.200s per text)\n",
      "🚀 Attempting batch of 50 texts...\n"
     ]
    },
    {
     "name": "stderr",
     "output_type": "stream",
     "text": [
      "Processing conversations:  91%|█████████▏| 1880/2057 [5:35:36<30:38, 10.39s/it]"
     ]
    },
    {
     "name": "stdout",
     "output_type": "stream",
     "text": [
      "✅ Batch completed in 9.92s (0.198s per text)\n",
      "🚀 Attempting batch of 50 texts...\n"
     ]
    },
    {
     "name": "stderr",
     "output_type": "stream",
     "text": [
      "Processing conversations:  91%|█████████▏| 1881/2057 [5:35:46<30:03, 10.25s/it]"
     ]
    },
    {
     "name": "stdout",
     "output_type": "stream",
     "text": [
      "✅ Batch completed in 9.91s (0.198s per text)\n",
      "🚀 Attempting batch of 50 texts...\n"
     ]
    },
    {
     "name": "stderr",
     "output_type": "stream",
     "text": [
      "Processing conversations:  91%|█████████▏| 1882/2057 [5:35:56<30:09, 10.34s/it]"
     ]
    },
    {
     "name": "stdout",
     "output_type": "stream",
     "text": [
      "✅ Batch completed in 10.50s (0.210s per text)\n",
      "🚀 Attempting batch of 50 texts...\n"
     ]
    },
    {
     "name": "stderr",
     "output_type": "stream",
     "text": [
      "Processing conversations:  92%|█████████▏| 1883/2057 [5:36:07<30:05, 10.37s/it]"
     ]
    },
    {
     "name": "stdout",
     "output_type": "stream",
     "text": [
      "✅ Batch completed in 10.44s (0.209s per text)\n",
      "🚀 Attempting batch of 50 texts...\n"
     ]
    },
    {
     "name": "stderr",
     "output_type": "stream",
     "text": [
      "Processing conversations:  92%|█████████▏| 1884/2057 [5:36:18<30:32, 10.59s/it]"
     ]
    },
    {
     "name": "stdout",
     "output_type": "stream",
     "text": [
      "✅ Batch completed in 11.09s (0.222s per text)\n",
      "🚀 Attempting batch of 50 texts...\n"
     ]
    },
    {
     "name": "stderr",
     "output_type": "stream",
     "text": [
      "Processing conversations:  92%|█████████▏| 1885/2057 [5:36:28<30:03, 10.49s/it]"
     ]
    },
    {
     "name": "stdout",
     "output_type": "stream",
     "text": [
      "✅ Batch completed in 10.23s (0.205s per text)\n",
      "🚀 Attempting batch of 50 texts...\n"
     ]
    },
    {
     "name": "stderr",
     "output_type": "stream",
     "text": [
      "Processing conversations:  92%|█████████▏| 1886/2057 [5:36:38<29:54, 10.49s/it]"
     ]
    },
    {
     "name": "stdout",
     "output_type": "stream",
     "text": [
      "✅ Batch completed in 10.47s (0.209s per text)\n",
      "🚀 Attempting batch of 50 texts...\n"
     ]
    },
    {
     "name": "stderr",
     "output_type": "stream",
     "text": [
      "Processing conversations:  92%|█████████▏| 1887/2057 [5:36:49<29:51, 10.54s/it]"
     ]
    },
    {
     "name": "stdout",
     "output_type": "stream",
     "text": [
      "✅ Batch completed in 10.63s (0.213s per text)\n",
      "🚀 Attempting batch of 50 texts...\n"
     ]
    },
    {
     "name": "stderr",
     "output_type": "stream",
     "text": [
      "Processing conversations:  92%|█████████▏| 1888/2057 [5:37:00<29:57, 10.64s/it]"
     ]
    },
    {
     "name": "stdout",
     "output_type": "stream",
     "text": [
      "✅ Batch completed in 10.85s (0.217s per text)\n",
      "🚀 Attempting batch of 50 texts...\n"
     ]
    },
    {
     "name": "stderr",
     "output_type": "stream",
     "text": [
      "Processing conversations:  92%|█████████▏| 1889/2057 [5:37:10<29:32, 10.55s/it]"
     ]
    },
    {
     "name": "stdout",
     "output_type": "stream",
     "text": [
      "✅ Batch completed in 10.33s (0.207s per text)\n",
      "🚀 Attempting batch of 50 texts...\n"
     ]
    },
    {
     "name": "stderr",
     "output_type": "stream",
     "text": [
      "Processing conversations:  92%|█████████▏| 1890/2057 [5:37:20<29:02, 10.43s/it]"
     ]
    },
    {
     "name": "stdout",
     "output_type": "stream",
     "text": [
      "✅ Batch completed in 10.15s (0.203s per text)\n",
      "🚀 Attempting batch of 50 texts...\n"
     ]
    },
    {
     "name": "stderr",
     "output_type": "stream",
     "text": [
      "Processing conversations:  92%|█████████▏| 1891/2057 [5:37:31<29:00, 10.48s/it]"
     ]
    },
    {
     "name": "stdout",
     "output_type": "stream",
     "text": [
      "✅ Batch completed in 10.58s (0.212s per text)\n",
      "🚀 Attempting batch of 50 texts...\n"
     ]
    },
    {
     "name": "stderr",
     "output_type": "stream",
     "text": [
      "Processing conversations:  92%|█████████▏| 1892/2057 [5:37:42<28:48, 10.47s/it]"
     ]
    },
    {
     "name": "stdout",
     "output_type": "stream",
     "text": [
      "✅ Batch completed in 10.43s (0.209s per text)\n",
      "🚀 Attempting batch of 50 texts...\n"
     ]
    },
    {
     "name": "stderr",
     "output_type": "stream",
     "text": [
      "Processing conversations:  92%|█████████▏| 1893/2057 [5:37:52<28:32, 10.44s/it]"
     ]
    },
    {
     "name": "stdout",
     "output_type": "stream",
     "text": [
      "✅ Batch completed in 10.37s (0.207s per text)\n",
      "🚀 Attempting batch of 50 texts...\n"
     ]
    },
    {
     "name": "stderr",
     "output_type": "stream",
     "text": [
      "Processing conversations:  92%|█████████▏| 1894/2057 [5:38:02<28:12, 10.39s/it]"
     ]
    },
    {
     "name": "stdout",
     "output_type": "stream",
     "text": [
      "✅ Batch completed in 10.24s (0.205s per text)\n",
      "🚀 Attempting batch of 50 texts...\n"
     ]
    },
    {
     "name": "stderr",
     "output_type": "stream",
     "text": [
      "Processing conversations:  92%|█████████▏| 1895/2057 [5:38:12<27:53, 10.33s/it]"
     ]
    },
    {
     "name": "stdout",
     "output_type": "stream",
     "text": [
      "✅ Batch completed in 10.19s (0.204s per text)\n",
      "🚀 Attempting batch of 50 texts...\n"
     ]
    },
    {
     "name": "stderr",
     "output_type": "stream",
     "text": [
      "Processing conversations:  92%|█████████▏| 1896/2057 [5:38:23<27:49, 10.37s/it]"
     ]
    },
    {
     "name": "stdout",
     "output_type": "stream",
     "text": [
      "✅ Batch completed in 10.45s (0.209s per text)\n",
      "🚀 Attempting batch of 50 texts...\n"
     ]
    },
    {
     "name": "stderr",
     "output_type": "stream",
     "text": [
      "Processing conversations:  92%|█████████▏| 1897/2057 [5:38:33<27:25, 10.29s/it]"
     ]
    },
    {
     "name": "stdout",
     "output_type": "stream",
     "text": [
      "✅ Batch completed in 10.07s (0.201s per text)\n",
      "🚀 Attempting batch of 50 texts...\n"
     ]
    },
    {
     "name": "stderr",
     "output_type": "stream",
     "text": [
      "Processing conversations:  92%|█████████▏| 1898/2057 [5:38:43<27:08, 10.24s/it]"
     ]
    },
    {
     "name": "stdout",
     "output_type": "stream",
     "text": [
      "✅ Batch completed in 10.13s (0.203s per text)\n",
      "🚀 Attempting batch of 50 texts...\n"
     ]
    },
    {
     "name": "stderr",
     "output_type": "stream",
     "text": [
      "Processing conversations:  92%|█████████▏| 1899/2057 [5:38:53<26:55, 10.22s/it]"
     ]
    },
    {
     "name": "stdout",
     "output_type": "stream",
     "text": [
      "✅ Batch completed in 10.16s (0.203s per text)\n",
      "🚀 Attempting batch of 50 texts...\n"
     ]
    },
    {
     "name": "stderr",
     "output_type": "stream",
     "text": [
      "Processing conversations:  92%|█████████▏| 1900/2057 [5:39:03<26:47, 10.24s/it]"
     ]
    },
    {
     "name": "stdout",
     "output_type": "stream",
     "text": [
      "✅ Batch completed in 10.25s (0.205s per text)\n",
      "🚀 Attempting batch of 50 texts...\n"
     ]
    },
    {
     "name": "stderr",
     "output_type": "stream",
     "text": [
      "Processing conversations:  92%|█████████▏| 1901/2057 [5:39:14<26:36, 10.24s/it]"
     ]
    },
    {
     "name": "stdout",
     "output_type": "stream",
     "text": [
      "✅ Batch completed in 10.23s (0.205s per text)\n",
      "🚀 Attempting batch of 50 texts...\n"
     ]
    },
    {
     "name": "stderr",
     "output_type": "stream",
     "text": [
      "Processing conversations:  92%|█████████▏| 1902/2057 [5:39:24<26:27, 10.24s/it]"
     ]
    },
    {
     "name": "stdout",
     "output_type": "stream",
     "text": [
      "✅ Batch completed in 10.23s (0.205s per text)\n",
      "🚀 Attempting batch of 50 texts...\n"
     ]
    },
    {
     "name": "stderr",
     "output_type": "stream",
     "text": [
      "Processing conversations:  93%|█████████▎| 1903/2057 [5:39:34<26:04, 10.16s/it]"
     ]
    },
    {
     "name": "stdout",
     "output_type": "stream",
     "text": [
      "✅ Batch completed in 9.95s (0.199s per text)\n",
      "🚀 Attempting batch of 50 texts...\n"
     ]
    },
    {
     "name": "stderr",
     "output_type": "stream",
     "text": [
      "Processing conversations:  93%|█████████▎| 1904/2057 [5:39:44<25:51, 10.14s/it]"
     ]
    },
    {
     "name": "stdout",
     "output_type": "stream",
     "text": [
      "✅ Batch completed in 10.08s (0.202s per text)\n",
      "🚀 Attempting batch of 50 texts...\n"
     ]
    },
    {
     "name": "stderr",
     "output_type": "stream",
     "text": [
      "Processing conversations:  93%|█████████▎| 1905/2057 [5:39:55<26:07, 10.31s/it]"
     ]
    },
    {
     "name": "stdout",
     "output_type": "stream",
     "text": [
      "✅ Batch completed in 10.70s (0.214s per text)\n",
      "🚀 Attempting batch of 50 texts...\n"
     ]
    },
    {
     "name": "stderr",
     "output_type": "stream",
     "text": [
      "Processing conversations:  93%|█████████▎| 1906/2057 [5:40:05<25:40, 10.20s/it]"
     ]
    },
    {
     "name": "stdout",
     "output_type": "stream",
     "text": [
      "✅ Batch completed in 9.92s (0.198s per text)\n",
      "🚀 Attempting batch of 50 texts...\n"
     ]
    },
    {
     "name": "stderr",
     "output_type": "stream",
     "text": [
      "Processing conversations:  93%|█████████▎| 1907/2057 [5:40:15<25:37, 10.25s/it]"
     ]
    },
    {
     "name": "stdout",
     "output_type": "stream",
     "text": [
      "✅ Batch completed in 10.34s (0.207s per text)\n",
      "🚀 Attempting batch of 50 texts...\n"
     ]
    },
    {
     "name": "stderr",
     "output_type": "stream",
     "text": [
      "Processing conversations:  93%|█████████▎| 1908/2057 [5:40:25<25:34, 10.30s/it]"
     ]
    },
    {
     "name": "stdout",
     "output_type": "stream",
     "text": [
      "✅ Batch completed in 10.40s (0.208s per text)\n",
      "🚀 Attempting batch of 50 texts...\n"
     ]
    },
    {
     "name": "stderr",
     "output_type": "stream",
     "text": [
      "Processing conversations:  93%|█████████▎| 1909/2057 [5:40:36<25:16, 10.25s/it]"
     ]
    },
    {
     "name": "stdout",
     "output_type": "stream",
     "text": [
      "✅ Batch completed in 10.10s (0.202s per text)\n",
      "🚀 Attempting batch of 50 texts...\n"
     ]
    },
    {
     "name": "stderr",
     "output_type": "stream",
     "text": [
      "Processing conversations:  93%|█████████▎| 1910/2057 [5:40:46<24:56, 10.18s/it]"
     ]
    },
    {
     "name": "stdout",
     "output_type": "stream",
     "text": [
      "✅ Batch completed in 10.03s (0.201s per text)\n",
      "🚀 Attempting batch of 50 texts...\n"
     ]
    },
    {
     "name": "stderr",
     "output_type": "stream",
     "text": [
      "Processing conversations:  93%|█████████▎| 1911/2057 [5:40:56<25:05, 10.31s/it]"
     ]
    },
    {
     "name": "stdout",
     "output_type": "stream",
     "text": [
      "✅ Batch completed in 10.59s (0.212s per text)\n",
      "🚀 Attempting batch of 50 texts...\n"
     ]
    },
    {
     "name": "stderr",
     "output_type": "stream",
     "text": [
      "Processing conversations:  93%|█████████▎| 1912/2057 [5:41:07<25:03, 10.37s/it]"
     ]
    },
    {
     "name": "stdout",
     "output_type": "stream",
     "text": [
      "✅ Batch completed in 10.48s (0.210s per text)\n",
      "🚀 Attempting batch of 50 texts...\n"
     ]
    },
    {
     "name": "stderr",
     "output_type": "stream",
     "text": [
      "Processing conversations:  93%|█████████▎| 1913/2057 [5:41:17<24:51, 10.35s/it]"
     ]
    },
    {
     "name": "stdout",
     "output_type": "stream",
     "text": [
      "✅ Batch completed in 10.31s (0.206s per text)\n",
      "🚀 Attempting batch of 50 texts...\n"
     ]
    },
    {
     "name": "stderr",
     "output_type": "stream",
     "text": [
      "Processing conversations:  93%|█████████▎| 1914/2057 [5:41:27<24:38, 10.34s/it]"
     ]
    },
    {
     "name": "stdout",
     "output_type": "stream",
     "text": [
      "✅ Batch completed in 10.29s (0.206s per text)\n",
      "🚀 Attempting batch of 50 texts...\n"
     ]
    },
    {
     "name": "stderr",
     "output_type": "stream",
     "text": [
      "Processing conversations:  93%|█████████▎| 1915/2057 [5:41:38<24:19, 10.28s/it]"
     ]
    },
    {
     "name": "stdout",
     "output_type": "stream",
     "text": [
      "✅ Batch completed in 10.12s (0.202s per text)\n",
      "🚀 Attempting batch of 50 texts...\n"
     ]
    },
    {
     "name": "stderr",
     "output_type": "stream",
     "text": [
      "Processing conversations:  93%|█████████▎| 1916/2057 [5:41:48<24:14, 10.31s/it]"
     ]
    },
    {
     "name": "stdout",
     "output_type": "stream",
     "text": [
      "✅ Batch completed in 10.38s (0.208s per text)\n",
      "🚀 Attempting batch of 50 texts...\n"
     ]
    },
    {
     "name": "stderr",
     "output_type": "stream",
     "text": [
      "Processing conversations:  93%|█████████▎| 1917/2057 [5:41:58<24:03, 10.31s/it]"
     ]
    },
    {
     "name": "stdout",
     "output_type": "stream",
     "text": [
      "✅ Batch completed in 10.28s (0.206s per text)\n",
      "🚀 Attempting batch of 50 texts...\n"
     ]
    },
    {
     "name": "stderr",
     "output_type": "stream",
     "text": [
      "Processing conversations:  93%|█████████▎| 1918/2057 [5:42:09<23:58, 10.35s/it]"
     ]
    },
    {
     "name": "stdout",
     "output_type": "stream",
     "text": [
      "✅ Batch completed in 10.43s (0.209s per text)\n",
      "🚀 Attempting batch of 50 texts...\n"
     ]
    },
    {
     "name": "stderr",
     "output_type": "stream",
     "text": [
      "Processing conversations:  93%|█████████▎| 1919/2057 [5:42:19<23:47, 10.34s/it]"
     ]
    },
    {
     "name": "stdout",
     "output_type": "stream",
     "text": [
      "✅ Batch completed in 10.31s (0.206s per text)\n",
      "🚀 Attempting batch of 50 texts...\n"
     ]
    },
    {
     "name": "stderr",
     "output_type": "stream",
     "text": [
      "Processing conversations:  93%|█████████▎| 1920/2057 [5:42:29<23:26, 10.27s/it]"
     ]
    },
    {
     "name": "stdout",
     "output_type": "stream",
     "text": [
      "✅ Batch completed in 10.07s (0.201s per text)\n",
      "🚀 Attempting batch of 50 texts...\n"
     ]
    },
    {
     "name": "stderr",
     "output_type": "stream",
     "text": [
      "Processing conversations:  93%|█████████▎| 1921/2057 [5:42:39<23:18, 10.28s/it]"
     ]
    },
    {
     "name": "stdout",
     "output_type": "stream",
     "text": [
      "✅ Batch completed in 10.31s (0.206s per text)\n",
      "🚀 Attempting batch of 50 texts...\n"
     ]
    },
    {
     "name": "stderr",
     "output_type": "stream",
     "text": [
      "Processing conversations:  93%|█████████▎| 1922/2057 [5:42:50<23:31, 10.46s/it]"
     ]
    },
    {
     "name": "stdout",
     "output_type": "stream",
     "text": [
      "✅ Batch completed in 10.85s (0.217s per text)\n",
      "🚀 Attempting batch of 50 texts...\n"
     ]
    },
    {
     "name": "stderr",
     "output_type": "stream",
     "text": [
      "Processing conversations:  93%|█████████▎| 1923/2057 [5:43:01<23:28, 10.51s/it]"
     ]
    },
    {
     "name": "stdout",
     "output_type": "stream",
     "text": [
      "✅ Batch completed in 10.64s (0.213s per text)\n",
      "🚀 Attempting batch of 50 texts...\n"
     ]
    },
    {
     "name": "stderr",
     "output_type": "stream",
     "text": [
      "Processing conversations:  94%|█████████▎| 1924/2057 [5:43:11<23:13, 10.48s/it]"
     ]
    },
    {
     "name": "stdout",
     "output_type": "stream",
     "text": [
      "✅ Batch completed in 10.37s (0.207s per text)\n",
      "🚀 Attempting batch of 50 texts...\n"
     ]
    },
    {
     "name": "stderr",
     "output_type": "stream",
     "text": [
      "Processing conversations:  94%|█████████▎| 1925/2057 [5:43:22<23:13, 10.56s/it]"
     ]
    },
    {
     "name": "stdout",
     "output_type": "stream",
     "text": [
      "✅ Batch completed in 10.73s (0.215s per text)\n",
      "🚀 Attempting batch of 50 texts...\n"
     ]
    },
    {
     "name": "stderr",
     "output_type": "stream",
     "text": [
      "Processing conversations:  94%|█████████▎| 1926/2057 [5:43:33<23:03, 10.56s/it]"
     ]
    },
    {
     "name": "stdout",
     "output_type": "stream",
     "text": [
      "✅ Batch completed in 10.57s (0.211s per text)\n",
      "🚀 Attempting batch of 50 texts...\n"
     ]
    },
    {
     "name": "stderr",
     "output_type": "stream",
     "text": [
      "Processing conversations:  94%|█████████▎| 1927/2057 [5:43:43<22:52, 10.55s/it]"
     ]
    },
    {
     "name": "stdout",
     "output_type": "stream",
     "text": [
      "✅ Batch completed in 10.51s (0.210s per text)\n",
      "🚀 Attempting batch of 50 texts...\n"
     ]
    },
    {
     "name": "stderr",
     "output_type": "stream",
     "text": [
      "Processing conversations:  94%|█████████▎| 1928/2057 [5:43:53<22:34, 10.50s/it]"
     ]
    },
    {
     "name": "stdout",
     "output_type": "stream",
     "text": [
      "✅ Batch completed in 10.35s (0.207s per text)\n",
      "🚀 Attempting batch of 50 texts...\n"
     ]
    },
    {
     "name": "stderr",
     "output_type": "stream",
     "text": [
      "Processing conversations:  94%|█████████▍| 1929/2057 [5:44:04<22:21, 10.48s/it]"
     ]
    },
    {
     "name": "stdout",
     "output_type": "stream",
     "text": [
      "✅ Batch completed in 10.43s (0.209s per text)\n",
      "🚀 Attempting batch of 50 texts...\n"
     ]
    },
    {
     "name": "stderr",
     "output_type": "stream",
     "text": [
      "Processing conversations:  94%|█████████▍| 1930/2057 [5:44:15<22:15, 10.51s/it]"
     ]
    },
    {
     "name": "stdout",
     "output_type": "stream",
     "text": [
      "✅ Batch completed in 10.58s (0.212s per text)\n",
      "🚀 Attempting batch of 50 texts...\n"
     ]
    },
    {
     "name": "stderr",
     "output_type": "stream",
     "text": [
      "Processing conversations:  94%|█████████▍| 1931/2057 [5:44:26<22:30, 10.72s/it]"
     ]
    },
    {
     "name": "stdout",
     "output_type": "stream",
     "text": [
      "✅ Batch completed in 11.17s (0.223s per text)\n",
      "🚀 Attempting batch of 50 texts...\n"
     ]
    },
    {
     "name": "stderr",
     "output_type": "stream",
     "text": [
      "Processing conversations:  94%|█████████▍| 1932/2057 [5:44:36<22:14, 10.68s/it]"
     ]
    },
    {
     "name": "stdout",
     "output_type": "stream",
     "text": [
      "✅ Batch completed in 10.58s (0.212s per text)\n",
      "🚀 Attempting batch of 50 texts...\n"
     ]
    },
    {
     "name": "stderr",
     "output_type": "stream",
     "text": [
      "Processing conversations:  94%|█████████▍| 1933/2057 [5:44:48<22:35, 10.93s/it]"
     ]
    },
    {
     "name": "stdout",
     "output_type": "stream",
     "text": [
      "✅ Batch completed in 11.50s (0.230s per text)\n",
      "🚀 Attempting batch of 50 texts...\n"
     ]
    },
    {
     "name": "stderr",
     "output_type": "stream",
     "text": [
      "Processing conversations:  94%|█████████▍| 1934/2057 [5:44:59<22:51, 11.15s/it]"
     ]
    },
    {
     "name": "stdout",
     "output_type": "stream",
     "text": [
      "✅ Batch completed in 11.65s (0.233s per text)\n",
      "🚀 Attempting batch of 50 texts...\n"
     ]
    },
    {
     "name": "stderr",
     "output_type": "stream",
     "text": [
      "Processing conversations:  94%|█████████▍| 1935/2057 [5:45:11<22:55, 11.27s/it]"
     ]
    },
    {
     "name": "stdout",
     "output_type": "stream",
     "text": [
      "✅ Batch completed in 11.55s (0.231s per text)\n",
      "🚀 Attempting batch of 50 texts...\n"
     ]
    },
    {
     "name": "stderr",
     "output_type": "stream",
     "text": [
      "Processing conversations:  94%|█████████▍| 1936/2057 [5:45:22<22:36, 11.21s/it]"
     ]
    },
    {
     "name": "stdout",
     "output_type": "stream",
     "text": [
      "✅ Batch completed in 11.04s (0.221s per text)\n",
      "🚀 Attempting batch of 50 texts...\n"
     ]
    },
    {
     "name": "stderr",
     "output_type": "stream",
     "text": [
      "Processing conversations:  94%|█████████▍| 1937/2057 [5:45:33<22:25, 11.21s/it]"
     ]
    },
    {
     "name": "stdout",
     "output_type": "stream",
     "text": [
      "✅ Batch completed in 11.21s (0.224s per text)\n",
      "🚀 Attempting batch of 50 texts...\n"
     ]
    },
    {
     "name": "stderr",
     "output_type": "stream",
     "text": [
      "Processing conversations:  94%|█████████▍| 1938/2057 [5:45:44<21:57, 11.07s/it]"
     ]
    },
    {
     "name": "stdout",
     "output_type": "stream",
     "text": [
      "✅ Batch completed in 10.71s (0.214s per text)\n",
      "🚀 Attempting batch of 50 texts...\n"
     ]
    },
    {
     "name": "stderr",
     "output_type": "stream",
     "text": [
      "Processing conversations:  94%|█████████▍| 1939/2057 [5:45:55<21:42, 11.03s/it]"
     ]
    },
    {
     "name": "stdout",
     "output_type": "stream",
     "text": [
      "✅ Batch completed in 10.94s (0.219s per text)\n",
      "🚀 Attempting batch of 50 texts...\n"
     ]
    },
    {
     "name": "stderr",
     "output_type": "stream",
     "text": [
      "Processing conversations:  94%|█████████▍| 1940/2057 [5:46:06<21:38, 11.10s/it]"
     ]
    },
    {
     "name": "stdout",
     "output_type": "stream",
     "text": [
      "✅ Batch completed in 11.24s (0.225s per text)\n",
      "🚀 Attempting batch of 50 texts...\n"
     ]
    },
    {
     "name": "stderr",
     "output_type": "stream",
     "text": [
      "Processing conversations:  94%|█████████▍| 1941/2057 [5:46:17<21:15, 10.99s/it]"
     ]
    },
    {
     "name": "stdout",
     "output_type": "stream",
     "text": [
      "✅ Batch completed in 10.73s (0.215s per text)\n",
      "🚀 Attempting batch of 50 texts...\n"
     ]
    },
    {
     "name": "stderr",
     "output_type": "stream",
     "text": [
      "Processing conversations:  94%|█████████▍| 1942/2057 [5:46:28<20:55, 10.92s/it]"
     ]
    },
    {
     "name": "stdout",
     "output_type": "stream",
     "text": [
      "✅ Batch completed in 10.73s (0.215s per text)\n",
      "🚀 Attempting batch of 50 texts...\n"
     ]
    },
    {
     "name": "stderr",
     "output_type": "stream",
     "text": [
      "Processing conversations:  94%|█████████▍| 1943/2057 [5:46:39<21:12, 11.16s/it]"
     ]
    },
    {
     "name": "stdout",
     "output_type": "stream",
     "text": [
      "✅ Batch completed in 11.70s (0.234s per text)\n",
      "🚀 Attempting batch of 50 texts...\n"
     ]
    },
    {
     "name": "stderr",
     "output_type": "stream",
     "text": [
      "Processing conversations:  95%|█████████▍| 1944/2057 [5:46:51<21:00, 11.15s/it]"
     ]
    },
    {
     "name": "stdout",
     "output_type": "stream",
     "text": [
      "✅ Batch completed in 11.12s (0.222s per text)\n",
      "🚀 Attempting batch of 50 texts...\n"
     ]
    },
    {
     "name": "stderr",
     "output_type": "stream",
     "text": [
      "Processing conversations:  95%|█████████▍| 1945/2057 [5:47:02<20:55, 11.21s/it]"
     ]
    },
    {
     "name": "stdout",
     "output_type": "stream",
     "text": [
      "✅ Batch completed in 11.33s (0.227s per text)\n",
      "🚀 Attempting batch of 50 texts...\n"
     ]
    },
    {
     "name": "stderr",
     "output_type": "stream",
     "text": [
      "Processing conversations:  95%|█████████▍| 1946/2057 [5:47:13<20:38, 11.16s/it]"
     ]
    },
    {
     "name": "stdout",
     "output_type": "stream",
     "text": [
      "✅ Batch completed in 11.03s (0.221s per text)\n",
      "🚀 Attempting batch of 50 texts...\n"
     ]
    },
    {
     "name": "stderr",
     "output_type": "stream",
     "text": [
      "Processing conversations:  95%|█████████▍| 1947/2057 [5:47:25<20:49, 11.36s/it]"
     ]
    },
    {
     "name": "stdout",
     "output_type": "stream",
     "text": [
      "✅ Batch completed in 11.80s (0.236s per text)\n",
      "🚀 Attempting batch of 50 texts...\n"
     ]
    },
    {
     "name": "stderr",
     "output_type": "stream",
     "text": [
      "Processing conversations:  95%|█████████▍| 1948/2057 [5:47:36<20:45, 11.43s/it]"
     ]
    },
    {
     "name": "stdout",
     "output_type": "stream",
     "text": [
      "✅ Batch completed in 11.57s (0.231s per text)\n",
      "🚀 Attempting batch of 50 texts...\n"
     ]
    },
    {
     "name": "stderr",
     "output_type": "stream",
     "text": [
      "Processing conversations:  95%|█████████▍| 1949/2057 [5:47:48<20:28, 11.37s/it]"
     ]
    },
    {
     "name": "stdout",
     "output_type": "stream",
     "text": [
      "✅ Batch completed in 11.23s (0.225s per text)\n",
      "🚀 Attempting batch of 50 texts...\n"
     ]
    },
    {
     "name": "stderr",
     "output_type": "stream",
     "text": [
      "Processing conversations:  95%|█████████▍| 1950/2057 [5:48:00<20:33, 11.53s/it]"
     ]
    },
    {
     "name": "stdout",
     "output_type": "stream",
     "text": [
      "✅ Batch completed in 11.89s (0.238s per text)\n",
      "🚀 Attempting batch of 50 texts...\n"
     ]
    },
    {
     "name": "stderr",
     "output_type": "stream",
     "text": [
      "Processing conversations:  95%|█████████▍| 1951/2057 [5:48:11<20:17, 11.49s/it]"
     ]
    },
    {
     "name": "stdout",
     "output_type": "stream",
     "text": [
      "✅ Batch completed in 11.38s (0.228s per text)\n",
      "🚀 Attempting batch of 50 texts...\n"
     ]
    },
    {
     "name": "stderr",
     "output_type": "stream",
     "text": [
      "Processing conversations:  95%|█████████▍| 1952/2057 [5:48:23<20:09, 11.52s/it]"
     ]
    },
    {
     "name": "stdout",
     "output_type": "stream",
     "text": [
      "✅ Batch completed in 11.59s (0.232s per text)\n",
      "🚀 Attempting batch of 50 texts...\n"
     ]
    },
    {
     "name": "stderr",
     "output_type": "stream",
     "text": [
      "Processing conversations:  95%|█████████▍| 1953/2057 [5:48:34<19:54, 11.48s/it]"
     ]
    },
    {
     "name": "stdout",
     "output_type": "stream",
     "text": [
      "✅ Batch completed in 11.38s (0.228s per text)\n",
      "🚀 Attempting batch of 50 texts...\n"
     ]
    },
    {
     "name": "stderr",
     "output_type": "stream",
     "text": [
      "Processing conversations:  95%|█████████▍| 1954/2057 [5:48:45<19:27, 11.33s/it]"
     ]
    },
    {
     "name": "stdout",
     "output_type": "stream",
     "text": [
      "✅ Batch completed in 10.97s (0.219s per text)\n",
      "🚀 Attempting batch of 50 texts...\n"
     ]
    },
    {
     "name": "stderr",
     "output_type": "stream",
     "text": [
      "Processing conversations:  95%|█████████▌| 1955/2057 [5:48:57<19:23, 11.41s/it]"
     ]
    },
    {
     "name": "stdout",
     "output_type": "stream",
     "text": [
      "✅ Batch completed in 11.57s (0.231s per text)\n",
      "🚀 Attempting batch of 50 texts...\n"
     ]
    },
    {
     "name": "stderr",
     "output_type": "stream",
     "text": [
      "Processing conversations:  95%|█████████▌| 1956/2057 [5:49:08<19:09, 11.38s/it]"
     ]
    },
    {
     "name": "stdout",
     "output_type": "stream",
     "text": [
      "✅ Batch completed in 11.29s (0.226s per text)\n",
      "🚀 Attempting batch of 50 texts...\n"
     ]
    },
    {
     "name": "stderr",
     "output_type": "stream",
     "text": [
      "Processing conversations:  95%|█████████▌| 1957/2057 [5:49:18<18:21, 11.02s/it]"
     ]
    },
    {
     "name": "stdout",
     "output_type": "stream",
     "text": [
      "✅ Batch completed in 10.15s (0.203s per text)\n",
      "🚀 Attempting batch of 50 texts...\n"
     ]
    },
    {
     "name": "stderr",
     "output_type": "stream",
     "text": [
      "Processing conversations:  95%|█████████▌| 1958/2057 [5:49:28<17:48, 10.80s/it]"
     ]
    },
    {
     "name": "stdout",
     "output_type": "stream",
     "text": [
      "✅ Batch completed in 10.26s (0.205s per text)\n",
      "🚀 Attempting batch of 50 texts...\n"
     ]
    },
    {
     "name": "stderr",
     "output_type": "stream",
     "text": [
      "Processing conversations:  95%|█████████▌| 1959/2057 [5:49:39<17:21, 10.63s/it]"
     ]
    },
    {
     "name": "stdout",
     "output_type": "stream",
     "text": [
      "✅ Batch completed in 10.22s (0.204s per text)\n",
      "🚀 Attempting batch of 50 texts...\n"
     ]
    },
    {
     "name": "stderr",
     "output_type": "stream",
     "text": [
      "Processing conversations:  95%|█████████▌| 1960/2057 [5:49:49<17:00, 10.52s/it]"
     ]
    },
    {
     "name": "stdout",
     "output_type": "stream",
     "text": [
      "✅ Batch completed in 10.24s (0.205s per text)\n",
      "🚀 Attempting batch of 50 texts...\n"
     ]
    },
    {
     "name": "stderr",
     "output_type": "stream",
     "text": [
      "Processing conversations:  95%|█████████▌| 1961/2057 [5:49:59<16:31, 10.33s/it]"
     ]
    },
    {
     "name": "stdout",
     "output_type": "stream",
     "text": [
      "✅ Batch completed in 9.88s (0.198s per text)\n",
      "🚀 Attempting batch of 50 texts...\n"
     ]
    },
    {
     "name": "stderr",
     "output_type": "stream",
     "text": [
      "Processing conversations:  95%|█████████▌| 1962/2057 [5:50:09<16:20, 10.32s/it]"
     ]
    },
    {
     "name": "stdout",
     "output_type": "stream",
     "text": [
      "✅ Batch completed in 10.28s (0.206s per text)\n",
      "🚀 Attempting batch of 50 texts...\n"
     ]
    },
    {
     "name": "stderr",
     "output_type": "stream",
     "text": [
      "Processing conversations:  95%|█████████▌| 1963/2057 [5:50:19<16:05, 10.27s/it]"
     ]
    },
    {
     "name": "stdout",
     "output_type": "stream",
     "text": [
      "✅ Batch completed in 10.14s (0.203s per text)\n",
      "🚀 Attempting batch of 50 texts...\n"
     ]
    },
    {
     "name": "stderr",
     "output_type": "stream",
     "text": [
      "Processing conversations:  95%|█████████▌| 1964/2057 [5:50:30<15:59, 10.31s/it]"
     ]
    },
    {
     "name": "stdout",
     "output_type": "stream",
     "text": [
      "✅ Batch completed in 10.40s (0.208s per text)\n",
      "🚀 Attempting batch of 50 texts...\n"
     ]
    },
    {
     "name": "stderr",
     "output_type": "stream",
     "text": [
      "Processing conversations:  96%|█████████▌| 1965/2057 [5:50:40<15:44, 10.26s/it]"
     ]
    },
    {
     "name": "stdout",
     "output_type": "stream",
     "text": [
      "✅ Batch completed in 10.13s (0.203s per text)\n",
      "🚀 Attempting batch of 50 texts...\n"
     ]
    },
    {
     "name": "stderr",
     "output_type": "stream",
     "text": [
      "Processing conversations:  96%|█████████▌| 1966/2057 [5:50:50<15:37, 10.30s/it]"
     ]
    },
    {
     "name": "stdout",
     "output_type": "stream",
     "text": [
      "✅ Batch completed in 10.38s (0.208s per text)\n",
      "🚀 Attempting batch of 50 texts...\n"
     ]
    },
    {
     "name": "stderr",
     "output_type": "stream",
     "text": [
      "Processing conversations:  96%|█████████▌| 1967/2057 [5:51:00<15:30, 10.34s/it]"
     ]
    },
    {
     "name": "stdout",
     "output_type": "stream",
     "text": [
      "✅ Batch completed in 10.41s (0.208s per text)\n",
      "🚀 Attempting batch of 50 texts...\n"
     ]
    },
    {
     "name": "stderr",
     "output_type": "stream",
     "text": [
      "Processing conversations:  96%|█████████▌| 1968/2057 [5:51:12<15:39, 10.56s/it]"
     ]
    },
    {
     "name": "stdout",
     "output_type": "stream",
     "text": [
      "✅ Batch completed in 11.05s (0.221s per text)\n",
      "🚀 Attempting batch of 50 texts...\n"
     ]
    },
    {
     "name": "stderr",
     "output_type": "stream",
     "text": [
      "Processing conversations:  96%|█████████▌| 1969/2057 [5:51:22<15:39, 10.67s/it]"
     ]
    },
    {
     "name": "stdout",
     "output_type": "stream",
     "text": [
      "✅ Batch completed in 10.91s (0.218s per text)\n",
      "🚀 Attempting batch of 50 texts...\n"
     ]
    },
    {
     "name": "stderr",
     "output_type": "stream",
     "text": [
      "Processing conversations:  96%|█████████▌| 1970/2057 [5:51:34<15:44, 10.86s/it]"
     ]
    },
    {
     "name": "stdout",
     "output_type": "stream",
     "text": [
      "✅ Batch completed in 11.28s (0.226s per text)\n",
      "🚀 Attempting batch of 50 texts...\n"
     ]
    },
    {
     "name": "stderr",
     "output_type": "stream",
     "text": [
      "Processing conversations:  96%|█████████▌| 1971/2057 [5:51:45<15:45, 11.00s/it]"
     ]
    },
    {
     "name": "stdout",
     "output_type": "stream",
     "text": [
      "✅ Batch completed in 11.31s (0.226s per text)\n",
      "🚀 Attempting batch of 50 texts...\n"
     ]
    },
    {
     "name": "stderr",
     "output_type": "stream",
     "text": [
      "Processing conversations:  96%|█████████▌| 1972/2057 [5:51:57<15:45, 11.12s/it]"
     ]
    },
    {
     "name": "stdout",
     "output_type": "stream",
     "text": [
      "✅ Batch completed in 11.39s (0.228s per text)\n",
      "🚀 Attempting batch of 50 texts...\n"
     ]
    },
    {
     "name": "stderr",
     "output_type": "stream",
     "text": [
      "Processing conversations:  96%|█████████▌| 1973/2057 [5:52:08<15:31, 11.10s/it]"
     ]
    },
    {
     "name": "stdout",
     "output_type": "stream",
     "text": [
      "✅ Batch completed in 11.00s (0.220s per text)\n",
      "🚀 Attempting batch of 50 texts...\n"
     ]
    },
    {
     "name": "stderr",
     "output_type": "stream",
     "text": [
      "Processing conversations:  96%|█████████▌| 1974/2057 [5:52:19<15:21, 11.11s/it]"
     ]
    },
    {
     "name": "stdout",
     "output_type": "stream",
     "text": [
      "✅ Batch completed in 11.12s (0.222s per text)\n",
      "🚀 Attempting batch of 50 texts...\n"
     ]
    },
    {
     "name": "stderr",
     "output_type": "stream",
     "text": [
      "Processing conversations:  96%|█████████▌| 1975/2057 [5:52:30<15:21, 11.24s/it]"
     ]
    },
    {
     "name": "stdout",
     "output_type": "stream",
     "text": [
      "✅ Batch completed in 11.53s (0.231s per text)\n",
      "🚀 Attempting batch of 50 texts...\n"
     ]
    },
    {
     "name": "stderr",
     "output_type": "stream",
     "text": [
      "Processing conversations:  96%|█████████▌| 1976/2057 [5:52:41<15:00, 11.12s/it]"
     ]
    },
    {
     "name": "stdout",
     "output_type": "stream",
     "text": [
      "✅ Batch completed in 10.83s (0.217s per text)\n",
      "🚀 Attempting batch of 50 texts...\n"
     ]
    },
    {
     "name": "stderr",
     "output_type": "stream",
     "text": [
      "Processing conversations:  96%|█████████▌| 1977/2057 [5:52:52<14:36, 10.95s/it]"
     ]
    },
    {
     "name": "stdout",
     "output_type": "stream",
     "text": [
      "✅ Batch completed in 10.53s (0.211s per text)\n",
      "🚀 Attempting batch of 50 texts...\n"
     ]
    },
    {
     "name": "stderr",
     "output_type": "stream",
     "text": [
      "Processing conversations:  96%|█████████▌| 1978/2057 [5:53:03<14:25, 10.95s/it]"
     ]
    },
    {
     "name": "stdout",
     "output_type": "stream",
     "text": [
      "✅ Batch completed in 10.94s (0.219s per text)\n",
      "🚀 Attempting batch of 50 texts...\n"
     ]
    },
    {
     "name": "stderr",
     "output_type": "stream",
     "text": [
      "Processing conversations:  96%|█████████▌| 1979/2057 [5:53:13<13:56, 10.72s/it]"
     ]
    },
    {
     "name": "stdout",
     "output_type": "stream",
     "text": [
      "✅ Batch completed in 10.16s (0.203s per text)\n",
      "🚀 Attempting batch of 50 texts...\n"
     ]
    },
    {
     "name": "stderr",
     "output_type": "stream",
     "text": [
      "Processing conversations:  96%|█████████▋| 1980/2057 [5:53:23<13:33, 10.56s/it]"
     ]
    },
    {
     "name": "stdout",
     "output_type": "stream",
     "text": [
      "✅ Batch completed in 10.18s (0.204s per text)\n",
      "🚀 Attempting batch of 50 texts...\n"
     ]
    },
    {
     "name": "stderr",
     "output_type": "stream",
     "text": [
      "Processing conversations:  96%|█████████▋| 1981/2057 [5:53:33<13:11, 10.42s/it]"
     ]
    },
    {
     "name": "stdout",
     "output_type": "stream",
     "text": [
      "✅ Batch completed in 10.06s (0.201s per text)\n",
      "🚀 Attempting batch of 50 texts...\n"
     ]
    },
    {
     "name": "stderr",
     "output_type": "stream",
     "text": [
      "Processing conversations:  96%|█████████▋| 1982/2057 [5:53:43<12:54, 10.33s/it]"
     ]
    },
    {
     "name": "stdout",
     "output_type": "stream",
     "text": [
      "✅ Batch completed in 10.10s (0.202s per text)\n",
      "🚀 Attempting batch of 50 texts...\n"
     ]
    },
    {
     "name": "stderr",
     "output_type": "stream",
     "text": [
      "Processing conversations:  96%|█████████▋| 1983/2057 [5:53:54<12:44, 10.33s/it]"
     ]
    },
    {
     "name": "stdout",
     "output_type": "stream",
     "text": [
      "✅ Batch completed in 10.33s (0.207s per text)\n",
      "🚀 Attempting batch of 50 texts...\n"
     ]
    },
    {
     "name": "stderr",
     "output_type": "stream",
     "text": [
      "Processing conversations:  96%|█████████▋| 1984/2057 [5:54:04<12:31, 10.29s/it]"
     ]
    },
    {
     "name": "stdout",
     "output_type": "stream",
     "text": [
      "✅ Batch completed in 10.17s (0.203s per text)\n",
      "🚀 Attempting batch of 50 texts...\n"
     ]
    },
    {
     "name": "stderr",
     "output_type": "stream",
     "text": [
      "Processing conversations:  96%|█████████▋| 1985/2057 [5:54:14<12:23, 10.33s/it]"
     ]
    },
    {
     "name": "stdout",
     "output_type": "stream",
     "text": [
      "✅ Batch completed in 10.40s (0.208s per text)\n",
      "🚀 Attempting batch of 50 texts...\n"
     ]
    },
    {
     "name": "stderr",
     "output_type": "stream",
     "text": [
      "Processing conversations:  97%|█████████▋| 1986/2057 [5:54:24<12:10, 10.29s/it]"
     ]
    },
    {
     "name": "stdout",
     "output_type": "stream",
     "text": [
      "✅ Batch completed in 10.19s (0.204s per text)\n",
      "🚀 Attempting batch of 50 texts...\n"
     ]
    },
    {
     "name": "stderr",
     "output_type": "stream",
     "text": [
      "Processing conversations:  97%|█████████▋| 1987/2057 [5:54:35<12:10, 10.44s/it]"
     ]
    },
    {
     "name": "stdout",
     "output_type": "stream",
     "text": [
      "✅ Batch completed in 10.78s (0.216s per text)\n",
      "🚀 Attempting batch of 50 texts...\n"
     ]
    },
    {
     "name": "stderr",
     "output_type": "stream",
     "text": [
      "Processing conversations:  97%|█████████▋| 1988/2057 [5:54:45<11:55, 10.38s/it]"
     ]
    },
    {
     "name": "stdout",
     "output_type": "stream",
     "text": [
      "✅ Batch completed in 10.20s (0.204s per text)\n",
      "🚀 Attempting batch of 50 texts...\n"
     ]
    },
    {
     "name": "stderr",
     "output_type": "stream",
     "text": [
      "Processing conversations:  97%|█████████▋| 1989/2057 [5:54:56<11:53, 10.50s/it]"
     ]
    },
    {
     "name": "stdout",
     "output_type": "stream",
     "text": [
      "✅ Batch completed in 10.75s (0.215s per text)\n",
      "🚀 Attempting batch of 50 texts...\n"
     ]
    },
    {
     "name": "stderr",
     "output_type": "stream",
     "text": [
      "Processing conversations:  97%|█████████▋| 1990/2057 [5:55:07<11:49, 10.59s/it]"
     ]
    },
    {
     "name": "stdout",
     "output_type": "stream",
     "text": [
      "✅ Batch completed in 10.79s (0.216s per text)\n",
      "🚀 Attempting batch of 50 texts...\n"
     ]
    },
    {
     "name": "stderr",
     "output_type": "stream",
     "text": [
      "Processing conversations:  97%|█████████▋| 1991/2057 [5:55:17<11:35, 10.53s/it]"
     ]
    },
    {
     "name": "stdout",
     "output_type": "stream",
     "text": [
      "✅ Batch completed in 10.37s (0.207s per text)\n",
      "🚀 Attempting batch of 50 texts...\n"
     ]
    },
    {
     "name": "stderr",
     "output_type": "stream",
     "text": [
      "Processing conversations:  97%|█████████▋| 1992/2057 [5:55:28<11:22, 10.49s/it]"
     ]
    },
    {
     "name": "stdout",
     "output_type": "stream",
     "text": [
      "✅ Batch completed in 10.39s (0.208s per text)\n",
      "🚀 Attempting batch of 50 texts...\n"
     ]
    },
    {
     "name": "stderr",
     "output_type": "stream",
     "text": [
      "Processing conversations:  97%|█████████▋| 1993/2057 [5:55:38<11:02, 10.36s/it]"
     ]
    },
    {
     "name": "stdout",
     "output_type": "stream",
     "text": [
      "✅ Batch completed in 10.02s (0.200s per text)\n",
      "🚀 Attempting batch of 50 texts...\n"
     ]
    },
    {
     "name": "stderr",
     "output_type": "stream",
     "text": [
      "Processing conversations:  97%|█████████▋| 1994/2057 [5:55:48<10:45, 10.25s/it]"
     ]
    },
    {
     "name": "stdout",
     "output_type": "stream",
     "text": [
      "✅ Batch completed in 9.98s (0.200s per text)\n",
      "🚀 Attempting batch of 50 texts...\n"
     ]
    },
    {
     "name": "stderr",
     "output_type": "stream",
     "text": [
      "Processing conversations:  97%|█████████▋| 1995/2057 [5:55:58<10:33, 10.22s/it]"
     ]
    },
    {
     "name": "stdout",
     "output_type": "stream",
     "text": [
      "✅ Batch completed in 10.14s (0.203s per text)\n",
      "🚀 Attempting batch of 50 texts...\n"
     ]
    },
    {
     "name": "stderr",
     "output_type": "stream",
     "text": [
      "Processing conversations:  97%|█████████▋| 1996/2057 [5:56:08<10:18, 10.14s/it]"
     ]
    },
    {
     "name": "stdout",
     "output_type": "stream",
     "text": [
      "✅ Batch completed in 9.95s (0.199s per text)\n",
      "🚀 Attempting batch of 50 texts...\n"
     ]
    },
    {
     "name": "stderr",
     "output_type": "stream",
     "text": [
      "Processing conversations:  97%|█████████▋| 1997/2057 [5:56:18<10:04, 10.08s/it]"
     ]
    },
    {
     "name": "stdout",
     "output_type": "stream",
     "text": [
      "✅ Batch completed in 9.92s (0.198s per text)\n",
      "🚀 Attempting batch of 50 texts...\n"
     ]
    },
    {
     "name": "stderr",
     "output_type": "stream",
     "text": [
      "Processing conversations:  97%|█████████▋| 1998/2057 [5:56:28<09:59, 10.16s/it]"
     ]
    },
    {
     "name": "stdout",
     "output_type": "stream",
     "text": [
      "✅ Batch completed in 10.33s (0.207s per text)\n",
      "🚀 Attempting batch of 50 texts...\n"
     ]
    },
    {
     "name": "stderr",
     "output_type": "stream",
     "text": [
      "Processing conversations:  97%|█████████▋| 1999/2057 [5:56:38<09:47, 10.13s/it]"
     ]
    },
    {
     "name": "stdout",
     "output_type": "stream",
     "text": [
      "✅ Batch completed in 10.04s (0.201s per text)\n",
      "🚀 Attempting batch of 50 texts...\n"
     ]
    },
    {
     "name": "stderr",
     "output_type": "stream",
     "text": [
      "Processing conversations:  97%|█████████▋| 2000/2057 [5:56:48<09:37, 10.14s/it]"
     ]
    },
    {
     "name": "stdout",
     "output_type": "stream",
     "text": [
      "✅ Batch completed in 10.16s (0.203s per text)\n",
      "🚀 Attempting batch of 50 texts...\n"
     ]
    },
    {
     "name": "stderr",
     "output_type": "stream",
     "text": [
      "Processing conversations:  97%|█████████▋| 2001/2057 [5:56:59<09:35, 10.27s/it]"
     ]
    },
    {
     "name": "stdout",
     "output_type": "stream",
     "text": [
      "✅ Batch completed in 10.58s (0.212s per text)\n",
      "🚀 Attempting batch of 50 texts...\n"
     ]
    },
    {
     "name": "stderr",
     "output_type": "stream",
     "text": [
      "Processing conversations:  97%|█████████▋| 2002/2057 [5:57:09<09:19, 10.17s/it]"
     ]
    },
    {
     "name": "stdout",
     "output_type": "stream",
     "text": [
      "✅ Batch completed in 9.92s (0.198s per text)\n",
      "🚀 Attempting batch of 50 texts...\n"
     ]
    },
    {
     "name": "stderr",
     "output_type": "stream",
     "text": [
      "Processing conversations:  97%|█████████▋| 2003/2057 [5:57:19<09:09, 10.18s/it]"
     ]
    },
    {
     "name": "stdout",
     "output_type": "stream",
     "text": [
      "✅ Batch completed in 10.18s (0.204s per text)\n",
      "🚀 Attempting batch of 50 texts...\n"
     ]
    },
    {
     "name": "stderr",
     "output_type": "stream",
     "text": [
      "Processing conversations:  97%|█████████▋| 2004/2057 [5:57:29<09:01, 10.21s/it]"
     ]
    },
    {
     "name": "stdout",
     "output_type": "stream",
     "text": [
      "✅ Batch completed in 10.27s (0.205s per text)\n",
      "🚀 Attempting batch of 50 texts...\n"
     ]
    },
    {
     "name": "stderr",
     "output_type": "stream",
     "text": [
      "Processing conversations:  97%|█████████▋| 2005/2057 [5:57:40<08:51, 10.22s/it]"
     ]
    },
    {
     "name": "stdout",
     "output_type": "stream",
     "text": [
      "✅ Batch completed in 10.23s (0.205s per text)\n",
      "🚀 Attempting batch of 50 texts...\n"
     ]
    },
    {
     "name": "stderr",
     "output_type": "stream",
     "text": [
      "Processing conversations:  98%|█████████▊| 2006/2057 [5:57:50<08:38, 10.17s/it]"
     ]
    },
    {
     "name": "stdout",
     "output_type": "stream",
     "text": [
      "✅ Batch completed in 10.05s (0.201s per text)\n",
      "🚀 Attempting batch of 50 texts...\n"
     ]
    },
    {
     "name": "stderr",
     "output_type": "stream",
     "text": [
      "Processing conversations:  98%|█████████▊| 2007/2057 [5:58:00<08:30, 10.20s/it]"
     ]
    },
    {
     "name": "stdout",
     "output_type": "stream",
     "text": [
      "✅ Batch completed in 10.28s (0.206s per text)\n",
      "🚀 Attempting batch of 50 texts...\n"
     ]
    },
    {
     "name": "stderr",
     "output_type": "stream",
     "text": [
      "Processing conversations:  98%|█████████▊| 2008/2057 [5:58:10<08:25, 10.31s/it]"
     ]
    },
    {
     "name": "stdout",
     "output_type": "stream",
     "text": [
      "✅ Batch completed in 10.54s (0.211s per text)\n",
      "🚀 Attempting batch of 50 texts...\n"
     ]
    },
    {
     "name": "stderr",
     "output_type": "stream",
     "text": [
      "Processing conversations:  98%|█████████▊| 2009/2057 [5:58:21<08:15, 10.33s/it]"
     ]
    },
    {
     "name": "stdout",
     "output_type": "stream",
     "text": [
      "✅ Batch completed in 10.36s (0.207s per text)\n",
      "🚀 Attempting batch of 50 texts...\n"
     ]
    },
    {
     "name": "stderr",
     "output_type": "stream",
     "text": [
      "Processing conversations:  98%|█████████▊| 2010/2057 [5:58:31<08:03, 10.29s/it]"
     ]
    },
    {
     "name": "stdout",
     "output_type": "stream",
     "text": [
      "✅ Batch completed in 10.20s (0.204s per text)\n",
      "🚀 Attempting batch of 50 texts...\n"
     ]
    },
    {
     "name": "stderr",
     "output_type": "stream",
     "text": [
      "Processing conversations:  98%|█████████▊| 2011/2057 [5:58:41<07:55, 10.33s/it]"
     ]
    },
    {
     "name": "stdout",
     "output_type": "stream",
     "text": [
      "✅ Batch completed in 10.39s (0.208s per text)\n",
      "🚀 Attempting batch of 50 texts...\n"
     ]
    },
    {
     "name": "stderr",
     "output_type": "stream",
     "text": [
      "Processing conversations:  98%|█████████▊| 2012/2057 [5:58:52<07:40, 10.24s/it]"
     ]
    },
    {
     "name": "stdout",
     "output_type": "stream",
     "text": [
      "✅ Batch completed in 10.02s (0.200s per text)\n",
      "🚀 Attempting batch of 50 texts...\n"
     ]
    },
    {
     "name": "stderr",
     "output_type": "stream",
     "text": [
      "Processing conversations:  98%|█████████▊| 2013/2057 [5:59:02<07:29, 10.21s/it]"
     ]
    },
    {
     "name": "stdout",
     "output_type": "stream",
     "text": [
      "✅ Batch completed in 10.14s (0.203s per text)\n",
      "🚀 Attempting batch of 50 texts...\n"
     ]
    },
    {
     "name": "stderr",
     "output_type": "stream",
     "text": [
      "Processing conversations:  98%|█████████▊| 2014/2057 [5:59:12<07:15, 10.13s/it]"
     ]
    },
    {
     "name": "stdout",
     "output_type": "stream",
     "text": [
      "✅ Batch completed in 9.94s (0.199s per text)\n",
      "🚀 Attempting batch of 50 texts...\n"
     ]
    },
    {
     "name": "stderr",
     "output_type": "stream",
     "text": [
      "Processing conversations:  98%|█████████▊| 2015/2057 [5:59:22<07:05, 10.12s/it]"
     ]
    },
    {
     "name": "stdout",
     "output_type": "stream",
     "text": [
      "✅ Batch completed in 10.09s (0.202s per text)\n",
      "🚀 Attempting batch of 50 texts...\n"
     ]
    },
    {
     "name": "stderr",
     "output_type": "stream",
     "text": [
      "Processing conversations:  98%|█████████▊| 2016/2057 [5:59:33<07:08, 10.44s/it]"
     ]
    },
    {
     "name": "stdout",
     "output_type": "stream",
     "text": [
      "✅ Batch completed in 11.18s (0.224s per text)\n",
      "🚀 Attempting batch of 50 texts...\n"
     ]
    },
    {
     "name": "stderr",
     "output_type": "stream",
     "text": [
      "Processing conversations:  98%|█████████▊| 2017/2057 [5:59:44<07:10, 10.77s/it]"
     ]
    },
    {
     "name": "stdout",
     "output_type": "stream",
     "text": [
      "✅ Batch completed in 11.51s (0.230s per text)\n",
      "🚀 Attempting batch of 50 texts...\n"
     ]
    },
    {
     "name": "stderr",
     "output_type": "stream",
     "text": [
      "Processing conversations:  98%|█████████▊| 2018/2057 [5:59:56<07:06, 10.93s/it]"
     ]
    },
    {
     "name": "stdout",
     "output_type": "stream",
     "text": [
      "✅ Batch completed in 11.31s (0.226s per text)\n",
      "🚀 Attempting batch of 50 texts...\n"
     ]
    },
    {
     "name": "stderr",
     "output_type": "stream",
     "text": [
      "Processing conversations:  98%|█████████▊| 2019/2057 [6:00:07<07:00, 11.07s/it]"
     ]
    },
    {
     "name": "stdout",
     "output_type": "stream",
     "text": [
      "✅ Batch completed in 11.37s (0.227s per text)\n",
      "🚀 Attempting batch of 50 texts...\n"
     ]
    },
    {
     "name": "stderr",
     "output_type": "stream",
     "text": [
      "Processing conversations:  98%|█████████▊| 2020/2057 [6:00:18<06:43, 10.89s/it]"
     ]
    },
    {
     "name": "stdout",
     "output_type": "stream",
     "text": [
      "✅ Batch completed in 10.48s (0.210s per text)\n",
      "🚀 Attempting batch of 50 texts...\n"
     ]
    },
    {
     "name": "stderr",
     "output_type": "stream",
     "text": [
      "Processing conversations:  98%|█████████▊| 2021/2057 [6:00:28<06:29, 10.83s/it]"
     ]
    },
    {
     "name": "stdout",
     "output_type": "stream",
     "text": [
      "✅ Batch completed in 10.67s (0.213s per text)\n",
      "🚀 Attempting batch of 50 texts...\n"
     ]
    },
    {
     "name": "stderr",
     "output_type": "stream",
     "text": [
      "Processing conversations:  98%|█████████▊| 2022/2057 [6:00:39<06:22, 10.93s/it]"
     ]
    },
    {
     "name": "stdout",
     "output_type": "stream",
     "text": [
      "✅ Batch completed in 11.14s (0.223s per text)\n",
      "🚀 Attempting batch of 50 texts...\n"
     ]
    },
    {
     "name": "stderr",
     "output_type": "stream",
     "text": [
      "Processing conversations:  98%|█████████▊| 2023/2057 [6:00:51<06:13, 10.99s/it]"
     ]
    },
    {
     "name": "stdout",
     "output_type": "stream",
     "text": [
      "✅ Batch completed in 11.11s (0.222s per text)\n",
      "🚀 Attempting batch of 50 texts...\n"
     ]
    },
    {
     "name": "stderr",
     "output_type": "stream",
     "text": [
      "Processing conversations:  98%|█████████▊| 2024/2057 [6:01:01<05:59, 10.88s/it]"
     ]
    },
    {
     "name": "stdout",
     "output_type": "stream",
     "text": [
      "✅ Batch completed in 10.62s (0.212s per text)\n",
      "🚀 Attempting batch of 50 texts...\n"
     ]
    },
    {
     "name": "stderr",
     "output_type": "stream",
     "text": [
      "Processing conversations:  98%|█████████▊| 2025/2057 [6:01:12<05:43, 10.74s/it]"
     ]
    },
    {
     "name": "stdout",
     "output_type": "stream",
     "text": [
      "✅ Batch completed in 10.41s (0.208s per text)\n",
      "🚀 Attempting batch of 50 texts...\n"
     ]
    },
    {
     "name": "stderr",
     "output_type": "stream",
     "text": [
      "Processing conversations:  98%|█████████▊| 2026/2057 [6:01:22<05:27, 10.57s/it]"
     ]
    },
    {
     "name": "stdout",
     "output_type": "stream",
     "text": [
      "✅ Batch completed in 10.15s (0.203s per text)\n",
      "🚀 Attempting batch of 50 texts...\n"
     ]
    },
    {
     "name": "stderr",
     "output_type": "stream",
     "text": [
      "Processing conversations:  99%|█████████▊| 2027/2057 [6:01:32<05:10, 10.37s/it]"
     ]
    },
    {
     "name": "stdout",
     "output_type": "stream",
     "text": [
      "✅ Batch completed in 9.88s (0.198s per text)\n",
      "🚀 Attempting batch of 50 texts...\n"
     ]
    },
    {
     "name": "stderr",
     "output_type": "stream",
     "text": [
      "Processing conversations:  99%|█████████▊| 2028/2057 [6:01:42<04:57, 10.25s/it]"
     ]
    },
    {
     "name": "stdout",
     "output_type": "stream",
     "text": [
      "✅ Batch completed in 9.99s (0.200s per text)\n",
      "🚀 Attempting batch of 50 texts...\n"
     ]
    },
    {
     "name": "stderr",
     "output_type": "stream",
     "text": [
      "Processing conversations:  99%|█████████▊| 2029/2057 [6:01:52<04:44, 10.15s/it]"
     ]
    },
    {
     "name": "stdout",
     "output_type": "stream",
     "text": [
      "✅ Batch completed in 9.91s (0.198s per text)\n",
      "🚀 Attempting batch of 50 texts...\n"
     ]
    },
    {
     "name": "stderr",
     "output_type": "stream",
     "text": [
      "Processing conversations:  99%|█████████▊| 2030/2057 [6:02:02<04:36, 10.23s/it]"
     ]
    },
    {
     "name": "stdout",
     "output_type": "stream",
     "text": [
      "✅ Batch completed in 10.40s (0.208s per text)\n",
      "🚀 Attempting batch of 50 texts...\n"
     ]
    },
    {
     "name": "stderr",
     "output_type": "stream",
     "text": [
      "Processing conversations:  99%|█████████▊| 2031/2057 [6:02:12<04:24, 10.19s/it]"
     ]
    },
    {
     "name": "stdout",
     "output_type": "stream",
     "text": [
      "✅ Batch completed in 10.08s (0.202s per text)\n",
      "🚀 Attempting batch of 50 texts...\n"
     ]
    },
    {
     "name": "stderr",
     "output_type": "stream",
     "text": [
      "Processing conversations:  99%|█████████▉| 2032/2057 [6:02:22<04:11, 10.07s/it]"
     ]
    },
    {
     "name": "stdout",
     "output_type": "stream",
     "text": [
      "✅ Batch completed in 9.77s (0.195s per text)\n",
      "🚀 Attempting batch of 50 texts...\n"
     ]
    },
    {
     "name": "stderr",
     "output_type": "stream",
     "text": [
      "Processing conversations:  99%|█████████▉| 2033/2057 [6:02:32<04:00, 10.00s/it]"
     ]
    },
    {
     "name": "stdout",
     "output_type": "stream",
     "text": [
      "✅ Batch completed in 9.85s (0.197s per text)\n",
      "🚀 Attempting batch of 50 texts...\n"
     ]
    },
    {
     "name": "stderr",
     "output_type": "stream",
     "text": [
      "Processing conversations:  99%|█████████▉| 2034/2057 [6:02:42<03:52, 10.12s/it]"
     ]
    },
    {
     "name": "stdout",
     "output_type": "stream",
     "text": [
      "✅ Batch completed in 10.37s (0.207s per text)\n",
      "🚀 Attempting batch of 50 texts...\n"
     ]
    },
    {
     "name": "stderr",
     "output_type": "stream",
     "text": [
      "Processing conversations:  99%|█████████▉| 2035/2057 [6:02:52<03:42, 10.11s/it]"
     ]
    },
    {
     "name": "stdout",
     "output_type": "stream",
     "text": [
      "✅ Batch completed in 10.06s (0.201s per text)\n",
      "🚀 Attempting batch of 50 texts...\n"
     ]
    },
    {
     "name": "stderr",
     "output_type": "stream",
     "text": [
      "Processing conversations:  99%|█████████▉| 2036/2057 [6:03:02<03:31, 10.09s/it]"
     ]
    },
    {
     "name": "stdout",
     "output_type": "stream",
     "text": [
      "✅ Batch completed in 10.05s (0.201s per text)\n",
      "🚀 Attempting batch of 50 texts...\n"
     ]
    },
    {
     "name": "stderr",
     "output_type": "stream",
     "text": [
      "Processing conversations:  99%|█████████▉| 2037/2057 [6:03:13<03:23, 10.17s/it]"
     ]
    },
    {
     "name": "stdout",
     "output_type": "stream",
     "text": [
      "✅ Batch completed in 10.35s (0.207s per text)\n",
      "🚀 Attempting batch of 50 texts...\n"
     ]
    },
    {
     "name": "stderr",
     "output_type": "stream",
     "text": [
      "Processing conversations:  99%|█████████▉| 2038/2057 [6:03:23<03:11, 10.09s/it]"
     ]
    },
    {
     "name": "stdout",
     "output_type": "stream",
     "text": [
      "✅ Batch completed in 9.89s (0.198s per text)\n",
      "🚀 Attempting batch of 50 texts...\n"
     ]
    },
    {
     "name": "stderr",
     "output_type": "stream",
     "text": [
      "Processing conversations:  99%|█████████▉| 2039/2057 [6:03:33<03:01, 10.08s/it]"
     ]
    },
    {
     "name": "stdout",
     "output_type": "stream",
     "text": [
      "✅ Batch completed in 10.05s (0.201s per text)\n",
      "🚀 Attempting batch of 50 texts...\n"
     ]
    },
    {
     "name": "stderr",
     "output_type": "stream",
     "text": [
      "Processing conversations:  99%|█████████▉| 2040/2057 [6:03:43<02:51, 10.10s/it]"
     ]
    },
    {
     "name": "stdout",
     "output_type": "stream",
     "text": [
      "✅ Batch completed in 10.11s (0.202s per text)\n",
      "🚀 Attempting batch of 50 texts...\n"
     ]
    },
    {
     "name": "stderr",
     "output_type": "stream",
     "text": [
      "Processing conversations:  99%|█████████▉| 2041/2057 [6:03:53<02:42, 10.17s/it]"
     ]
    },
    {
     "name": "stdout",
     "output_type": "stream",
     "text": [
      "✅ Batch completed in 10.31s (0.206s per text)\n",
      "🚀 Attempting batch of 50 texts...\n"
     ]
    },
    {
     "name": "stderr",
     "output_type": "stream",
     "text": [
      "Processing conversations:  99%|█████████▉| 2042/2057 [6:04:03<02:33, 10.20s/it]"
     ]
    },
    {
     "name": "stdout",
     "output_type": "stream",
     "text": [
      "✅ Batch completed in 10.28s (0.206s per text)\n",
      "🚀 Attempting batch of 50 texts...\n"
     ]
    },
    {
     "name": "stderr",
     "output_type": "stream",
     "text": [
      "Processing conversations:  99%|█████████▉| 2043/2057 [6:04:14<02:23, 10.22s/it]"
     ]
    },
    {
     "name": "stdout",
     "output_type": "stream",
     "text": [
      "✅ Batch completed in 10.23s (0.205s per text)\n",
      "🚀 Attempting batch of 50 texts...\n"
     ]
    },
    {
     "name": "stderr",
     "output_type": "stream",
     "text": [
      "Processing conversations:  99%|█████████▉| 2044/2057 [6:04:24<02:11, 10.15s/it]"
     ]
    },
    {
     "name": "stdout",
     "output_type": "stream",
     "text": [
      "✅ Batch completed in 9.97s (0.199s per text)\n",
      "🚀 Attempting batch of 50 texts...\n"
     ]
    },
    {
     "name": "stderr",
     "output_type": "stream",
     "text": [
      "Processing conversations:  99%|█████████▉| 2045/2057 [6:04:33<02:00, 10.07s/it]"
     ]
    },
    {
     "name": "stdout",
     "output_type": "stream",
     "text": [
      "✅ Batch completed in 9.87s (0.197s per text)\n",
      "🚀 Attempting batch of 50 texts...\n"
     ]
    },
    {
     "name": "stderr",
     "output_type": "stream",
     "text": [
      "Processing conversations:  99%|█████████▉| 2046/2057 [6:04:43<01:50, 10.04s/it]"
     ]
    },
    {
     "name": "stdout",
     "output_type": "stream",
     "text": [
      "✅ Batch completed in 9.95s (0.199s per text)\n",
      "🚀 Attempting batch of 50 texts...\n"
     ]
    },
    {
     "name": "stderr",
     "output_type": "stream",
     "text": [
      "Processing conversations: 100%|█████████▉| 2047/2057 [6:04:54<01:40, 10.07s/it]"
     ]
    },
    {
     "name": "stdout",
     "output_type": "stream",
     "text": [
      "✅ Batch completed in 10.15s (0.203s per text)\n",
      "🚀 Attempting batch of 50 texts...\n"
     ]
    },
    {
     "name": "stderr",
     "output_type": "stream",
     "text": [
      "Processing conversations: 100%|█████████▉| 2048/2057 [6:05:05<01:33, 10.39s/it]"
     ]
    },
    {
     "name": "stdout",
     "output_type": "stream",
     "text": [
      "✅ Batch completed in 11.10s (0.222s per text)\n",
      "🚀 Attempting batch of 50 texts...\n"
     ]
    },
    {
     "name": "stderr",
     "output_type": "stream",
     "text": [
      "Processing conversations: 100%|█████████▉| 2049/2057 [6:05:16<01:25, 10.68s/it]"
     ]
    },
    {
     "name": "stdout",
     "output_type": "stream",
     "text": [
      "✅ Batch completed in 11.36s (0.227s per text)\n",
      "🚀 Attempting batch of 50 texts...\n"
     ]
    },
    {
     "name": "stderr",
     "output_type": "stream",
     "text": [
      "Processing conversations: 100%|█████████▉| 2050/2057 [6:05:27<01:15, 10.81s/it]"
     ]
    },
    {
     "name": "stdout",
     "output_type": "stream",
     "text": [
      "✅ Batch completed in 11.08s (0.222s per text)\n",
      "🚀 Attempting batch of 50 texts...\n"
     ]
    },
    {
     "name": "stderr",
     "output_type": "stream",
     "text": [
      "Processing conversations: 100%|█████████▉| 2051/2057 [6:05:38<01:05, 10.91s/it]"
     ]
    },
    {
     "name": "stdout",
     "output_type": "stream",
     "text": [
      "✅ Batch completed in 11.15s (0.223s per text)\n",
      "🚀 Attempting batch of 50 texts...\n"
     ]
    },
    {
     "name": "stderr",
     "output_type": "stream",
     "text": [
      "Processing conversations: 100%|█████████▉| 2052/2057 [6:05:50<00:56, 11.23s/it]"
     ]
    },
    {
     "name": "stdout",
     "output_type": "stream",
     "text": [
      "✅ Batch completed in 11.96s (0.239s per text)\n",
      "🚀 Attempting batch of 50 texts...\n"
     ]
    },
    {
     "name": "stderr",
     "output_type": "stream",
     "text": [
      "Processing conversations: 100%|█████████▉| 2053/2057 [6:06:01<00:44, 11.22s/it]"
     ]
    },
    {
     "name": "stdout",
     "output_type": "stream",
     "text": [
      "✅ Batch completed in 11.18s (0.224s per text)\n",
      "🚀 Attempting batch of 50 texts...\n"
     ]
    },
    {
     "name": "stderr",
     "output_type": "stream",
     "text": [
      "Processing conversations: 100%|█████████▉| 2054/2057 [6:06:13<00:33, 11.20s/it]"
     ]
    },
    {
     "name": "stdout",
     "output_type": "stream",
     "text": [
      "✅ Batch completed in 11.14s (0.223s per text)\n",
      "🚀 Attempting batch of 50 texts...\n"
     ]
    },
    {
     "name": "stderr",
     "output_type": "stream",
     "text": [
      "Processing conversations: 100%|█████████▉| 2055/2057 [6:06:24<00:22, 11.23s/it]"
     ]
    },
    {
     "name": "stdout",
     "output_type": "stream",
     "text": [
      "✅ Batch completed in 11.24s (0.225s per text)\n",
      "🚀 Attempting batch of 50 texts...\n"
     ]
    },
    {
     "name": "stderr",
     "output_type": "stream",
     "text": [
      "Processing conversations: 100%|█████████▉| 2056/2057 [6:06:35<00:11, 11.19s/it]"
     ]
    },
    {
     "name": "stdout",
     "output_type": "stream",
     "text": [
      "✅ Batch completed in 11.11s (0.222s per text)\n",
      "🚀 Attempting batch of 48 texts...\n"
     ]
    },
    {
     "name": "stderr",
     "output_type": "stream",
     "text": [
      "Processing conversations: 100%|██████████| 2057/2057 [6:06:46<00:00, 10.70s/it]"
     ]
    },
    {
     "name": "stdout",
     "output_type": "stream",
     "text": [
      "✅ Batch completed in 11.20s (0.233s per text)\n"
     ]
    },
    {
     "name": "stderr",
     "output_type": "stream",
     "text": [
      "\n"
     ]
    }
   ],
   "source": [
    "# Testing 'process_corpus()'\n",
    "SAVE_PATH = \"/workspace/temporal_belief_analysis/pd_corpus_with_topics\"\n",
    "topic_detector = TopicDetector()\n",
    "topic_detector.process_corpus(corpus, save_path=SAVE_PATH)"
   ]
  },
  {
   "cell_type": "code",
   "execution_count": 32,
   "id": "6bad1190-19c0-48fc-ab44-70e17f93aaec",
   "metadata": {},
   "outputs": [],
   "source": [
    "corpus_small.dump(\"/workspace/temporal_belief_analysis/corpus_small_save_test\")"
   ]
  },
  {
   "cell_type": "code",
   "execution_count": null,
   "id": "d96fe3b6-add2-4e28-9ba1-c0c35589cfe9",
   "metadata": {},
   "outputs": [],
   "source": [
    "# In a new cell - test if kernel responds\n",
    "print(\"Kernel alive check\")\n",
    "import time\n",
    "print(f\"Current time: {time.time()}\")"
   ]
  },
  {
   "cell_type": "code",
   "execution_count": 31,
   "id": "38623a2c-6af8-4edd-b2f7-044708597fd6",
   "metadata": {},
   "outputs": [
    {
     "name": "stdout",
     "output_type": "stream",
     "text": [
      "First conversation ID: nz1xu\n",
      "Has topic metadata: True\n",
      "Topic: media and political commentary\n",
      "Confidence: 0.3874607980251312\n"
     ]
    }
   ],
   "source": [
    "# Check if metadata gets added\n",
    "conversations = list(corpus.iter_conversations())\n",
    "\n",
    "# Check first conversation\n",
    "first_conv = conversations[1]\n",
    "print(f\"First conversation ID: {first_conv.id}\")\n",
    "print(f\"Has topic metadata: {'detected_topic' in first_conv.meta}\")\n",
    "if 'detected_topic' in first_conv.meta:\n",
    "    print(f\"Topic: {first_conv.meta['detected_topic']}\")\n",
    "    print(f\"Confidence: {first_conv.meta['topic_confidence']}\")"
   ]
  },
  {
   "cell_type": "code",
   "execution_count": null,
   "id": "PxXbHWRrMbDK",
   "metadata": {
    "collapsed": true,
    "id": "PxXbHWRrMbDK",
    "jupyter": {
     "outputs_hidden": true
    }
   },
   "outputs": [],
   "source": [
    "# Testing 'detect_conversation_topic()' and 'dump()'\n",
    "i = 0\n",
    "convos_small = list(corpus_small.iter_conversations())\n",
    "topic_detector = TopicDetector()\n",
    "for i in range(3):\n",
    "  utterances = list(convos_small[i].iter_utterances())\n",
    "  title = convos_small[i].meta['title']\n",
    "  og_post = utterances[0].text\n",
    "  print(100*'-')\n",
    "  print(f\"Title: {title} \\n\")\n",
    "  print(f\"OG post: {og_post} \\n\")\n",
    "  topic = topic_detector.detect_conversation_topic(convos_small[i])\n",
    "  print(f\"Detected topic: {topic['topic']} \\n\")\n",
    "  print(f\"Confidence: {topic['confidence']} \\n\")\n",
    "  convos_small[i].add_meta(\"detected_topic\", topic[\"topic\"])\n",
    "  convos_small[i].add_meta(\"topic_confidence\", topic[\"confidence\"])\n",
    "  convos_small[i].add_meta(\"topic_scores\", topic[\"all_scores\"])\n",
    "  i += 1\n",
    "\n",
    "corpus_small.dump(\"/content/drive/MyDrive/MScProject/Corpora/corpus_small\")\n"
   ]
  },
  {
   "cell_type": "code",
   "execution_count": null,
   "id": "JsdRB0uXdcQp",
   "metadata": {
    "id": "JsdRB0uXdcQp"
   },
   "outputs": [],
   "source": []
  }
 ],
 "metadata": {
  "accelerator": "GPU",
  "colab": {
   "gpuType": "T4",
   "machine_shape": "hm",
   "provenance": []
  },
  "kernelspec": {
   "display_name": "Python 3 (ipykernel)",
   "language": "python",
   "name": "python3"
  },
  "language_info": {
   "codemirror_mode": {
    "name": "ipython",
    "version": 3
   },
   "file_extension": ".py",
   "mimetype": "text/x-python",
   "name": "python",
   "nbconvert_exporter": "python",
   "pygments_lexer": "ipython3",
   "version": "3.10.12"
  }
 },
 "nbformat": 4,
 "nbformat_minor": 5
}
