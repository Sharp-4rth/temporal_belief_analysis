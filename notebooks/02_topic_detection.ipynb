{
 "cells": [
  {
   "cell_type": "code",
   "id": "initial_id",
   "metadata": {
    "collapsed": true,
    "ExecuteTime": {
     "end_time": "2025-06-23T16:02:30.664659Z",
     "start_time": "2025-06-23T16:02:30.661049Z"
    }
   },
   "source": [
    "from convokit import Corpus, download\n",
    "import convokit\n",
    "from transformers import"
   ],
   "outputs": [],
   "execution_count": 6
  },
  {
   "metadata": {
    "ExecuteTime": {
     "end_time": "2025-06-23T16:05:45.379892Z",
     "start_time": "2025-06-23T16:05:38.788763Z"
    }
   },
   "cell_type": "code",
   "source": [
    "# For your case, something like:\n",
    "corpus = Corpus(download('reddit-corpus-small'))"
   ],
   "id": "de83f8a7e017b092",
   "outputs": [
    {
     "name": "stdout",
     "output_type": "stream",
     "text": [
      "Dataset already exists at /Users/leonidas/GitHub/temporal_belief_analysis/data/reddit-corpus-small\n"
     ]
    }
   ],
   "execution_count": 9
  },
  {
   "metadata": {
    "ExecuteTime": {
     "end_time": "2025-06-23T16:33:15.300634Z",
     "start_time": "2025-06-23T16:33:15.294624Z"
    }
   },
   "cell_type": "code",
   "source": [
    "for thread in corpus.iter_conversations():\n",
    "    detect_topic(thread)\n"
   ],
   "id": "a85102e45c658a83",
   "outputs": [
    {
     "ename": "SyntaxError",
     "evalue": "incomplete input (322719640.py, line 1)",
     "output_type": "error",
     "traceback": [
      "  \u001B[36mCell\u001B[39m\u001B[36m \u001B[39m\u001B[32mIn[18]\u001B[39m\u001B[32m, line 1\u001B[39m\n\u001B[31m    \u001B[39m\u001B[31mfor speaker in corpus.iter_speakers():\u001B[39m\n                                          ^\n\u001B[31mSyntaxError\u001B[39m\u001B[31m:\u001B[39m incomplete input\n"
     ]
    }
   ],
   "execution_count": 18
  },
  {
   "metadata": {},
   "cell_type": "code",
   "outputs": [],
   "execution_count": null,
   "source": "",
   "id": "3eb82346dcd16070"
  }
 ],
 "metadata": {
  "kernelspec": {
   "display_name": "Python 3",
   "language": "python",
   "name": "python3"
  },
  "language_info": {
   "codemirror_mode": {
    "name": "ipython",
    "version": 2
   },
   "file_extension": ".py",
   "mimetype": "text/x-python",
   "name": "python",
   "nbconvert_exporter": "python",
   "pygments_lexer": "ipython2",
   "version": "2.7.6"
  }
 },
 "nbformat": 4,
 "nbformat_minor": 5
}
